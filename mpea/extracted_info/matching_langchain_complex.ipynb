{
 "nbformat": 4,
 "nbformat_minor": 0,
 "metadata": {
  "colab": {
   "provenance": [
    {
     "file_id": "1ODEIBLu2psm3uY-ADucI39Rl3pN4XQ15",
     "timestamp": 1707102689745
    }
   ],
   "toc_visible": true
  },
  "kernelspec": {
   "name": "python3",
   "language": "python",
   "display_name": "Python 3 (ipykernel)"
  },
  "language_info": {
   "name": "python"
  }
 },
 "cells": [
  {
   "cell_type": "code",
   "source": [
    "import os\n",
    "from pprint import pprint"
   ],
   "metadata": {
    "id": "ndvrLrkYl6uv",
    "ExecuteTime": {
     "end_time": "2024-05-20T18:19:27.578690400Z",
     "start_time": "2024-05-20T18:19:27.539081200Z"
    }
   },
   "execution_count": 1,
   "outputs": []
  },
  {
   "cell_type": "code",
   "execution_count": 2,
   "outputs": [
    {
     "name": "stdout",
     "output_type": "stream",
     "text": [
      "\u001B[0m\u001B[01;34mlangchain_0shot_complex\u001B[0m/         matching_one_shot_simple.ipynb\r\n",
      "\u001B[01;34mlangchain_0shot_simple\u001B[0m/          matching_zero_shot_complex.ipynb\r\n",
      "matched_complex_oneshot.csv      matching_zero_shot_simple.ipynb\r\n",
      "matched_complex_zeroshot.csv     \u001B[01;34mschema_0shot_complex\u001B[0m/\r\n",
      "matched_simple_oneshot.csv       \u001B[01;34mschema_0shot_simple\u001B[0m/\r\n",
      "matched_simple_zeroshot.csv      \u001B[01;34mschema_1shot_complex\u001B[0m/\r\n",
      "matching_langchain_simple.ipynb  \u001B[01;34mschema_1shot_simple\u001B[0m/\r\n",
      "matching_one_shot_complex.ipynb\r\n"
     ]
    }
   ],
   "source": [
    "%ls"
   ],
   "metadata": {
    "collapsed": false,
    "ExecuteTime": {
     "end_time": "2024-05-20T18:19:31.384359900Z",
     "start_time": "2024-05-20T18:19:31.220479900Z"
    }
   }
  },
  {
   "cell_type": "code",
   "source": [
    "data_path = '../RMPEA Dataset filtered Aug 30 23.csv'\n",
    "assert os.path.exists(data_path)"
   ],
   "metadata": {
    "id": "QMHkyCb5kyeR",
    "ExecuteTime": {
     "end_time": "2024-05-20T18:19:34.102556300Z",
     "start_time": "2024-05-20T18:19:33.882600Z"
    }
   },
   "execution_count": 3,
   "outputs": []
  },
  {
   "cell_type": "code",
   "source": [
    "extraction_dir = 'langchain_0shot_simple/'"
   ],
   "metadata": {
    "id": "Cw4aCnNrl1DB",
    "ExecuteTime": {
     "end_time": "2024-05-20T18:19:35.779737100Z",
     "start_time": "2024-05-20T18:19:35.628088400Z"
    }
   },
   "execution_count": 4,
   "outputs": []
  },
  {
   "cell_type": "code",
   "source": [
    "%pip install pymatgen"
   ],
   "metadata": {
    "colab": {
     "base_uri": "https://localhost:8080/"
    },
    "id": "qKAogeVsgQdS",
    "executionInfo": {
     "status": "ok",
     "timestamp": 1707858580793,
     "user_tz": 300,
     "elapsed": 15585,
     "user": {
      "displayName": "Satanu Ghosh",
      "userId": "07683061709303200546"
     }
    },
    "outputId": "6c5e162a-1153-4a4d-959c-4ce14b0b6313",
    "ExecuteTime": {
     "end_time": "2024-05-20T18:20:00.949005300Z",
     "start_time": "2024-05-20T18:19:57.594333700Z"
    }
   },
   "execution_count": 5,
   "outputs": [
    {
     "name": "stdout",
     "output_type": "stream",
     "text": [
      "Requirement already satisfied: pymatgen in /data/anaconda3/envs/satanu/lib/python3.10/site-packages (2023.1.30)\r\n",
      "Requirement already satisfied: tabulate in /data/anaconda3/envs/satanu/lib/python3.10/site-packages (from pymatgen) (0.9.0)\r\n",
      "Requirement already satisfied: numpy>=1.20.1 in /data/anaconda3/envs/satanu/lib/python3.10/site-packages (from pymatgen) (1.23.5)\r\n",
      "Requirement already satisfied: ruamel.yaml>=0.17.0 in /data/anaconda3/envs/satanu/lib/python3.10/site-packages (from pymatgen) (0.17.21)\r\n",
      "Requirement already satisfied: uncertainties>=3.1.4 in /data/anaconda3/envs/satanu/lib/python3.10/site-packages (from pymatgen) (3.1.7)\r\n",
      "Requirement already satisfied: tqdm in /data/anaconda3/envs/satanu/lib/python3.10/site-packages (from pymatgen) (4.65.0)\r\n",
      "Requirement already satisfied: monty>=3.0.2 in /data/anaconda3/envs/satanu/lib/python3.10/site-packages (from pymatgen) (2022.9.9)\r\n",
      "Requirement already satisfied: requests in /data/anaconda3/envs/satanu/lib/python3.10/site-packages (from pymatgen) (2.28.2)\r\n",
      "Requirement already satisfied: plotly>=4.5.0 in /data/anaconda3/envs/satanu/lib/python3.10/site-packages (from pymatgen) (5.13.0)\r\n",
      "Requirement already satisfied: matplotlib>=1.5 in /data/anaconda3/envs/satanu/lib/python3.10/site-packages (from pymatgen) (3.8.3)\r\n",
      "Requirement already satisfied: spglib>=2.0.2 in /data/anaconda3/envs/satanu/lib/python3.10/site-packages (from pymatgen) (2.0.2)\r\n",
      "Requirement already satisfied: pybtex in /data/anaconda3/envs/satanu/lib/python3.10/site-packages (from pymatgen) (0.24.0)\r\n",
      "Requirement already satisfied: scipy>=1.5.0 in /data/anaconda3/envs/satanu/lib/python3.10/site-packages (from pymatgen) (1.10.1)\r\n",
      "Requirement already satisfied: sympy in /data/anaconda3/envs/satanu/lib/python3.10/site-packages (from pymatgen) (1.11.1)\r\n",
      "Requirement already satisfied: networkx>=2.2 in /data/anaconda3/envs/satanu/lib/python3.10/site-packages (from pymatgen) (3.0)\r\n",
      "Requirement already satisfied: mp-api>=0.27.3 in /data/anaconda3/envs/satanu/lib/python3.10/site-packages (from pymatgen) (0.30.8)\r\n",
      "Requirement already satisfied: palettable>=3.1.1 in /data/anaconda3/envs/satanu/lib/python3.10/site-packages (from pymatgen) (3.3.0)\r\n",
      "Requirement already satisfied: pandas in /data/anaconda3/envs/satanu/lib/python3.10/site-packages (from pymatgen) (1.5.3)\r\n",
      "Requirement already satisfied: pillow>=8 in /data/anaconda3/envs/satanu/lib/python3.10/site-packages (from matplotlib>=1.5->pymatgen) (10.2.0)\r\n",
      "Requirement already satisfied: fonttools>=4.22.0 in /data/anaconda3/envs/satanu/lib/python3.10/site-packages (from matplotlib>=1.5->pymatgen) (4.49.0)\r\n",
      "Requirement already satisfied: cycler>=0.10 in /data/anaconda3/envs/satanu/lib/python3.10/site-packages (from matplotlib>=1.5->pymatgen) (0.12.1)\r\n",
      "Requirement already satisfied: pyparsing>=2.3.1 in /data/anaconda3/envs/satanu/lib/python3.10/site-packages (from matplotlib>=1.5->pymatgen) (3.1.1)\r\n",
      "Requirement already satisfied: contourpy>=1.0.1 in /data/anaconda3/envs/satanu/lib/python3.10/site-packages (from matplotlib>=1.5->pymatgen) (1.2.0)\r\n",
      "Requirement already satisfied: kiwisolver>=1.3.1 in /data/anaconda3/envs/satanu/lib/python3.10/site-packages (from matplotlib>=1.5->pymatgen) (1.4.5)\r\n",
      "Requirement already satisfied: python-dateutil>=2.7 in /data/anaconda3/envs/satanu/lib/python3.10/site-packages (from matplotlib>=1.5->pymatgen) (2.9.0.post0)\r\n",
      "Requirement already satisfied: packaging>=20.0 in /data/anaconda3/envs/satanu/lib/python3.10/site-packages (from matplotlib>=1.5->pymatgen) (23.2)\r\n",
      "Requirement already satisfied: emmet-core>=0.39.8 in /data/anaconda3/envs/satanu/lib/python3.10/site-packages (from mp-api>=0.27.3->pymatgen) (0.43.0)\r\n",
      "Requirement already satisfied: setuptools in /data/anaconda3/envs/satanu/lib/python3.10/site-packages (from mp-api>=0.27.3->pymatgen) (67.6.0)\r\n",
      "Requirement already satisfied: msgpack in /data/anaconda3/envs/satanu/lib/python3.10/site-packages (from mp-api>=0.27.3->pymatgen) (1.0.4)\r\n",
      "Requirement already satisfied: typing-extensions>=3.7.4.1 in /data/anaconda3/envs/satanu/lib/python3.10/site-packages (from mp-api>=0.27.3->pymatgen) (4.11.0)\r\n",
      "Requirement already satisfied: tenacity>=6.2.0 in /data/anaconda3/envs/satanu/lib/python3.10/site-packages (from plotly>=4.5.0->pymatgen) (8.1.0)\r\n",
      "Requirement already satisfied: idna<4,>=2.5 in /data/anaconda3/envs/satanu/lib/python3.10/site-packages (from requests->pymatgen) (2.10)\r\n",
      "Requirement already satisfied: charset-normalizer<4,>=2 in /data/anaconda3/envs/satanu/lib/python3.10/site-packages (from requests->pymatgen) (2.1.1)\r\n",
      "Requirement already satisfied: certifi>=2017.4.17 in /data/anaconda3/envs/satanu/lib/python3.10/site-packages (from requests->pymatgen) (2022.12.7)\r\n",
      "Requirement already satisfied: urllib3<1.27,>=1.21.1 in /data/anaconda3/envs/satanu/lib/python3.10/site-packages (from requests->pymatgen) (1.26.15)\r\n",
      "Requirement already satisfied: ruamel.yaml.clib>=0.2.6 in /data/anaconda3/envs/satanu/lib/python3.10/site-packages (from ruamel.yaml>=0.17.0->pymatgen) (0.2.7)\r\n",
      "Requirement already satisfied: future in /data/anaconda3/envs/satanu/lib/python3.10/site-packages (from uncertainties>=3.1.4->pymatgen) (0.18.3)\r\n",
      "Requirement already satisfied: pytz>=2020.1 in /data/anaconda3/envs/satanu/lib/python3.10/site-packages (from pandas->pymatgen) (2022.7.1)\r\n",
      "Requirement already satisfied: latexcodec>=1.0.4 in /data/anaconda3/envs/satanu/lib/python3.10/site-packages (from pybtex->pymatgen) (2.0.1)\r\n",
      "Requirement already satisfied: PyYAML>=3.01 in /data/anaconda3/envs/satanu/lib/python3.10/site-packages (from pybtex->pymatgen) (6.0)\r\n",
      "Requirement already satisfied: six in /data/anaconda3/envs/satanu/lib/python3.10/site-packages (from pybtex->pymatgen) (1.16.0)\r\n",
      "Requirement already satisfied: mpmath>=0.19 in /data/anaconda3/envs/satanu/lib/python3.10/site-packages (from sympy->pymatgen) (1.2.1)\r\n",
      "Requirement already satisfied: pydantic>=1.10.2 in /data/anaconda3/envs/satanu/lib/python3.10/site-packages (from emmet-core>=0.39.8->mp-api>=0.27.3->pymatgen) (1.10.12)\r\n",
      "Note: you may need to restart the kernel to use updated packages.\n"
     ]
    }
   ]
  },
  {
   "cell_type": "code",
   "source": [
    "# %pip install numpy==1.24.4"
   ],
   "metadata": {
    "id": "E48crVx45PmA",
    "ExecuteTime": {
     "end_time": "2024-05-20T18:20:00.950932100Z",
     "start_time": "2024-05-20T18:20:00.890787300Z"
    }
   },
   "execution_count": 6,
   "outputs": []
  },
  {
   "cell_type": "markdown",
   "source": [
    "# Read paper dataset"
   ],
   "metadata": {
    "id": "YyNnnvOOmXd8"
   }
  },
  {
   "cell_type": "code",
   "source": [
    "import pandas as pd"
   ],
   "metadata": {
    "id": "8oO6kT1AmgFB",
    "ExecuteTime": {
     "end_time": "2024-05-20T18:20:01.233860Z",
     "start_time": "2024-05-20T18:20:00.896788Z"
    }
   },
   "execution_count": 7,
   "outputs": []
  },
  {
   "cell_type": "code",
   "source": [
    "paper_df = pd.read_csv(data_path)\n",
    "display(paper_df.shape)\n",
    "display(paper_df.head(5))"
   ],
   "metadata": {
    "colab": {
     "base_uri": "https://localhost:8080/",
     "height": 863
    },
    "id": "jPzwa91Qmh3O",
    "executionInfo": {
     "status": "ok",
     "timestamp": 1707858581818,
     "user_tz": 300,
     "elapsed": 129,
     "user": {
      "displayName": "Satanu Ghosh",
      "userId": "07683061709303200546"
     }
    },
    "outputId": "3595b249-943c-4aa3-ec64-e62739f7b2d8",
    "ExecuteTime": {
     "end_time": "2024-05-20T18:20:01.396149700Z",
     "start_time": "2024-05-20T18:20:01.233860Z"
    }
   },
   "execution_count": 8,
   "outputs": [
    {
     "data": {
      "text/plain": "(971, 23)"
     },
     "metadata": {},
     "output_type": "display_data"
    },
    {
     "data": {
      "text/plain": "   IDENTIFIER: Reference ID  \\\n0                         7   \n1                         7   \n2                         7   \n3                         7   \n4                         1   \n\n                                             FORMULA PROPERTY: Microstructure  \\\n0  Al0.025 Cr0.2 Mo0.2 Nb0.2 Ta0.025 Ti0.2 V0.05 ...                BCC+Laves   \n1  Al0.025 Cr0.2 Mo0.2 Nb0.2 Ta0.05 Ti0.2 V0.025 ...                BCC+Laves   \n2      Al0.025 Cr0.2 Mo0.2 Nb0.2 Ta0.075 Ti0.2 Zr0.1                BCC+Laves   \n3       Al0.025 Cr0.2 Mo0.2 Nb0.2 Ti0.2 V0.075 Zr0.1                BCC+Laves   \n4     Al0.038 Mo0.192 Nb0.192 Ta0.192 Ti0.192 V0.192                      BCC   \n\n  PROPERTY: Processing method PROPERTY: BCC/FCC/other  \\\n0                        CAST                   other   \n1                        CAST                   other   \n2                        CAST                   other   \n3                        CAST                   other   \n4                        CAST                     BCC   \n\n   PROPERTY: grain size ($\\mu$m)  PROPERTY: Exp. Density (g/cm$^3$)  \\\n0                            NaN                               7.44   \n1                            NaN                               7.77   \n2                            NaN                               8.06   \n3                            NaN                               7.19   \n4                            NaN                                NaN   \n\n   PROPERTY: Computed Density (g/cm$^3$)  PROPERTY: HV PROPERTY: Type of test  \\\n0                                    7.5           NaN                      C   \n1                                    7.8           NaN                      C   \n2                                    8.1           NaN                      C   \n3                                    7.3           NaN                      C   \n4                                    9.0         474.0                      C   \n\n   ...  PROPERTY: Elongation (%)  PROPERTY: Elongation plastic (%)  \\\n0  ...                       NaN                               NaN   \n1  ...                       NaN                               NaN   \n2  ...                       NaN                               NaN   \n3  ...                       NaN                               NaN   \n4  ...                      16.0                               NaN   \n\n   PROPERTY: Exp. Young modulus (GPa)  PROPERTY: Computed Young modulus (GPa)  \\\n0                                 NaN                                   185.0   \n1                                 NaN                                   187.0   \n2                                 NaN                                   188.0   \n3                                 NaN                                   184.0   \n4                                 NaN                                   169.0   \n\n   PROPERTY: O content (wppm)  PROPERTY: N content (wppm)  \\\n0                         NaN                         NaN   \n1                         NaN                         NaN   \n2                         NaN                         NaN   \n3                         NaN                         NaN   \n4                         NaN                         NaN   \n\n   PROPERTY: C content (wppm)                 REFERENCE: doi  REFERENCE: year  \\\n0                         NaN  10.1016/j.jallcom.2020.155700           2020.0   \n1                         NaN  10.1016/j.jallcom.2020.155700           2020.0   \n2                         NaN  10.1016/j.jallcom.2020.155700           2020.0   \n3                         NaN  10.1016/j.jallcom.2020.155700           2020.0   \n4                         NaN     10.1016/j.msea.2020.139275           2020.0   \n\n                                    REFERENCE: title  \n0  Combinatorial development of the low-density h...  \n1  Combinatorial development of the low-density h...  \n2  Combinatorial development of the low-density h...  \n3  Combinatorial development of the low-density h...  \n4  Effects of Al addition on the microstructures ...  \n\n[5 rows x 23 columns]",
      "text/html": "<div>\n<style scoped>\n    .dataframe tbody tr th:only-of-type {\n        vertical-align: middle;\n    }\n\n    .dataframe tbody tr th {\n        vertical-align: top;\n    }\n\n    .dataframe thead th {\n        text-align: right;\n    }\n</style>\n<table border=\"1\" class=\"dataframe\">\n  <thead>\n    <tr style=\"text-align: right;\">\n      <th></th>\n      <th>IDENTIFIER: Reference ID</th>\n      <th>FORMULA</th>\n      <th>PROPERTY: Microstructure</th>\n      <th>PROPERTY: Processing method</th>\n      <th>PROPERTY: BCC/FCC/other</th>\n      <th>PROPERTY: grain size ($\\mu$m)</th>\n      <th>PROPERTY: Exp. Density (g/cm$^3$)</th>\n      <th>PROPERTY: Computed Density (g/cm$^3$)</th>\n      <th>PROPERTY: HV</th>\n      <th>PROPERTY: Type of test</th>\n      <th>...</th>\n      <th>PROPERTY: Elongation (%)</th>\n      <th>PROPERTY: Elongation plastic (%)</th>\n      <th>PROPERTY: Exp. Young modulus (GPa)</th>\n      <th>PROPERTY: Computed Young modulus (GPa)</th>\n      <th>PROPERTY: O content (wppm)</th>\n      <th>PROPERTY: N content (wppm)</th>\n      <th>PROPERTY: C content (wppm)</th>\n      <th>REFERENCE: doi</th>\n      <th>REFERENCE: year</th>\n      <th>REFERENCE: title</th>\n    </tr>\n  </thead>\n  <tbody>\n    <tr>\n      <th>0</th>\n      <td>7</td>\n      <td>Al0.025 Cr0.2 Mo0.2 Nb0.2 Ta0.025 Ti0.2 V0.05 ...</td>\n      <td>BCC+Laves</td>\n      <td>CAST</td>\n      <td>other</td>\n      <td>NaN</td>\n      <td>7.44</td>\n      <td>7.5</td>\n      <td>NaN</td>\n      <td>C</td>\n      <td>...</td>\n      <td>NaN</td>\n      <td>NaN</td>\n      <td>NaN</td>\n      <td>185.0</td>\n      <td>NaN</td>\n      <td>NaN</td>\n      <td>NaN</td>\n      <td>10.1016/j.jallcom.2020.155700</td>\n      <td>2020.0</td>\n      <td>Combinatorial development of the low-density h...</td>\n    </tr>\n    <tr>\n      <th>1</th>\n      <td>7</td>\n      <td>Al0.025 Cr0.2 Mo0.2 Nb0.2 Ta0.05 Ti0.2 V0.025 ...</td>\n      <td>BCC+Laves</td>\n      <td>CAST</td>\n      <td>other</td>\n      <td>NaN</td>\n      <td>7.77</td>\n      <td>7.8</td>\n      <td>NaN</td>\n      <td>C</td>\n      <td>...</td>\n      <td>NaN</td>\n      <td>NaN</td>\n      <td>NaN</td>\n      <td>187.0</td>\n      <td>NaN</td>\n      <td>NaN</td>\n      <td>NaN</td>\n      <td>10.1016/j.jallcom.2020.155700</td>\n      <td>2020.0</td>\n      <td>Combinatorial development of the low-density h...</td>\n    </tr>\n    <tr>\n      <th>2</th>\n      <td>7</td>\n      <td>Al0.025 Cr0.2 Mo0.2 Nb0.2 Ta0.075 Ti0.2 Zr0.1</td>\n      <td>BCC+Laves</td>\n      <td>CAST</td>\n      <td>other</td>\n      <td>NaN</td>\n      <td>8.06</td>\n      <td>8.1</td>\n      <td>NaN</td>\n      <td>C</td>\n      <td>...</td>\n      <td>NaN</td>\n      <td>NaN</td>\n      <td>NaN</td>\n      <td>188.0</td>\n      <td>NaN</td>\n      <td>NaN</td>\n      <td>NaN</td>\n      <td>10.1016/j.jallcom.2020.155700</td>\n      <td>2020.0</td>\n      <td>Combinatorial development of the low-density h...</td>\n    </tr>\n    <tr>\n      <th>3</th>\n      <td>7</td>\n      <td>Al0.025 Cr0.2 Mo0.2 Nb0.2 Ti0.2 V0.075 Zr0.1</td>\n      <td>BCC+Laves</td>\n      <td>CAST</td>\n      <td>other</td>\n      <td>NaN</td>\n      <td>7.19</td>\n      <td>7.3</td>\n      <td>NaN</td>\n      <td>C</td>\n      <td>...</td>\n      <td>NaN</td>\n      <td>NaN</td>\n      <td>NaN</td>\n      <td>184.0</td>\n      <td>NaN</td>\n      <td>NaN</td>\n      <td>NaN</td>\n      <td>10.1016/j.jallcom.2020.155700</td>\n      <td>2020.0</td>\n      <td>Combinatorial development of the low-density h...</td>\n    </tr>\n    <tr>\n      <th>4</th>\n      <td>1</td>\n      <td>Al0.038 Mo0.192 Nb0.192 Ta0.192 Ti0.192 V0.192</td>\n      <td>BCC</td>\n      <td>CAST</td>\n      <td>BCC</td>\n      <td>NaN</td>\n      <td>NaN</td>\n      <td>9.0</td>\n      <td>474.0</td>\n      <td>C</td>\n      <td>...</td>\n      <td>16.0</td>\n      <td>NaN</td>\n      <td>NaN</td>\n      <td>169.0</td>\n      <td>NaN</td>\n      <td>NaN</td>\n      <td>NaN</td>\n      <td>10.1016/j.msea.2020.139275</td>\n      <td>2020.0</td>\n      <td>Effects of Al addition on the microstructures ...</td>\n    </tr>\n  </tbody>\n</table>\n<p>5 rows × 23 columns</p>\n</div>"
     },
     "metadata": {},
     "output_type": "display_data"
    }
   ]
  },
  {
   "cell_type": "markdown",
   "source": [
    "## Analyzing unique keys"
   ],
   "metadata": {
    "id": "CtoXwarbPEK_"
   }
  },
  {
   "cell_type": "code",
   "source": [
    "gb = paper_df.groupby(['REFERENCE: doi','FORMULA','PROPERTY: YS (MPa)'])"
   ],
   "metadata": {
    "id": "kvWnzTo0PHP3",
    "ExecuteTime": {
     "end_time": "2024-05-20T18:20:03.048867100Z",
     "start_time": "2024-05-20T18:20:02.943221100Z"
    }
   },
   "execution_count": 9,
   "outputs": []
  },
  {
   "cell_type": "code",
   "source": [
    "len(gb.groups)"
   ],
   "metadata": {
    "colab": {
     "base_uri": "https://localhost:8080/"
    },
    "id": "ayWmZly4PYEJ",
    "executionInfo": {
     "status": "ok",
     "timestamp": 1707858581819,
     "user_tz": 300,
     "elapsed": 126,
     "user": {
      "displayName": "Satanu Ghosh",
      "userId": "07683061709303200546"
     }
    },
    "outputId": "f9c9d833-4c49-48d9-a9c2-72800f189fba",
    "ExecuteTime": {
     "end_time": "2024-05-20T18:20:03.935232100Z",
     "start_time": "2024-05-20T18:20:03.848830400Z"
    }
   },
   "execution_count": 10,
   "outputs": [
    {
     "data": {
      "text/plain": "883"
     },
     "execution_count": 10,
     "metadata": {},
     "output_type": "execute_result"
    }
   ]
  },
  {
   "cell_type": "code",
   "source": [
    "for group in gb.groups:\n",
    "  print(gb.indices)\n",
    "  break"
   ],
   "metadata": {
    "colab": {
     "base_uri": "https://localhost:8080/"
    },
    "id": "UYtU1sIxPuE8",
    "executionInfo": {
     "status": "ok",
     "timestamp": 1707858581819,
     "user_tz": 300,
     "elapsed": 123,
     "user": {
      "displayName": "Satanu Ghosh",
      "userId": "07683061709303200546"
     }
    },
    "outputId": "111ebf98-e974-4dc1-e84c-9d359b4822b3",
    "ExecuteTime": {
     "end_time": "2024-05-20T18:20:04.820436300Z",
     "start_time": "2024-05-20T18:20:04.660214900Z"
    }
   },
   "execution_count": 11,
   "outputs": [
    {
     "name": "stdout",
     "output_type": "stream",
     "text": [
      "{('10.1002/adem.202100765', 'Mo0.25 Re0.25 Ta0.25 W0.25', 172.0): array([823]), ('10.1002/adem.202100765', 'Mo0.25 Re0.25 Ta0.25 W0.25', 1075.0): array([822]), ('10.1002/adma.201701678', 'Hf0.25 Ta0.25 Ti0.25 Zr0.25', 1356.0): array([622]), ('10.1002/adma.201701678', 'Hf0.278 Ta0.167 Ti0.278 Zr0.278', 750.0): array([627]), ('10.1002/adma.201701678', 'Hf0.286 Ta0.143 Ti0.286 Zr0.286', 687.0): array([628]), ('10.1002/adma.201701678', 'Hf0.294 Ta0.118 Ti0.294 Zr0.294', 354.0): array([631]), ('10.1007/s00339-019-2484-1', 'Hf0.2 Sc0.2 Ti0.2 Y0.2 Zr0.2', 793.0): array([569]), ('10.1007/s00339-019-2484-1', 'Hf0.25 Sc0.25 Ti0.25 Zr0.25', 1001.0): array([621]), ('10.1007/s00339-019-2484-1', 'Hf0.25 Ti0.25 Y0.25 Zr0.25', 554.0): array([625]), ('10.1007/s00339-019-2484-1', 'Hf0.333 Ti0.333 Zr0.333', 773.0): array([639]), ('10.1007/s10853-012-6260-2', 'Hf0.2 Nb0.2 Ta0.2 Ti0.2 Zr0.2', 92.0): array([470]), ('10.1007/s10853-012-6260-2', 'Hf0.2 Nb0.2 Ta0.2 Ti0.2 Zr0.2', 295.0): array([469]), ('10.1007/s10853-012-6260-2', 'Hf0.2 Nb0.2 Ta0.2 Ti0.2 Zr0.2', 535.0): array([468]), ('10.1007/s10853-012-6260-2', 'Hf0.2 Nb0.2 Ta0.2 Ti0.2 Zr0.2', 675.0): array([467]), ('10.1007/s10853-012-6260-2', 'Hf0.2 Nb0.2 Ta0.2 Ti0.2 Zr0.2', 790.0): array([466]), ('10.1007/s10853-012-6260-2', 'Hf0.2 Nb0.2 Ta0.2 Ti0.2 Zr0.2', 929.0): array([465]), ('10.1007/s10853-019-03567-9', 'Mo0.211 Nb0.211 Si0.158 Ta0.211 W0.211', 960.0): array([753]), ('10.1007/s10853-019-03567-9', 'Mo0.211 Nb0.211 Si0.158 Ta0.211 W0.211', 2483.0): array([748]), ('10.1007/s10853-019-03567-9', 'Mo0.222 Nb0.222 Si0.111 Ta0.222 W0.222', 1883.0): array([761]), ('10.1007/s10853-019-03567-9', 'Mo0.235 Nb0.235 Si0.059 Ta0.235 W0.235', 1826.0): array([773]), ('10.1007/s10853-019-03567-9', 'Mo0.25 Nb0.25 Ta0.25 W0.25', 1217.0): array([799]), ('10.1007/s11661-017-4386-1', 'Al0.2 Cr0.2 Mo0.2 Nb0.2 Ti0.2', 150.0): array([171]), ('10.1007/s11661-017-4386-1', 'Al0.2 Cr0.2 Mo0.2 Nb0.2 Ti0.2', 550.0): array([170]), ('10.1007/s11661-017-4386-1', 'Al0.2 Cr0.2 Mo0.2 Nb0.2 Ti0.2', 875.0): array([169]), ('10.1007/s11661-017-4386-1', 'Al0.2 Cr0.2 Mo0.2 Nb0.2 Ti0.2', 930.0): array([168]), ('10.1007/s11661-017-4386-1', 'Al0.25 Cr0.25 Mo0.25 Ti0.25', 100.0): array([231]), ('10.1007/s11661-017-4386-1', 'Al0.25 Cr0.25 Mo0.25 Ti0.25', 375.0): array([230]), ('10.1007/s11661-017-4386-1', 'Al0.25 Cr0.25 Mo0.25 Ti0.25', 875.0): array([229]), ('10.1007/s11661-017-4386-1', 'Al0.25 Cr0.25 Mo0.25 Ti0.25', 1020.0): array([228]), ('10.1007/s11661-017-4386-1', 'Al0.25 Cr0.25 Mo0.25 Ti0.25', 1070.0): array([227]), ('10.1007/s11661-017-4386-1', 'Al0.25 Mo0.25 Nb0.25 Ti0.25', 200.0): array([242]), ('10.1007/s11661-017-4386-1', 'Al0.25 Mo0.25 Nb0.25 Ti0.25', 500.0): array([240]), ('10.1007/s11661-017-4386-1', 'Al0.25 Mo0.25 Nb0.25 Ti0.25', 520.0): array([239]), ('10.1007/s11661-017-4386-1', 'Al0.25 Mo0.25 Nb0.25 Ti0.25', 540.0): array([241]), ('10.1007/s11661-018-4646-8', 'Hf0.2 Nb0.2 Ta0.2 Ti0.2 Zr0.2', 1071.0): array([477]), ('10.1007/s11661-018-4646-8', 'Hf0.2 Nb0.2 Ta0.2 Ti0.2 Zr0.2', 1094.0): array([476]), ('10.1007/s11661-018-4646-8', 'Hf0.2 Nb0.2 Ta0.2 Ti0.2 Zr0.2', 1107.0): array([475]), ('10.1007/s11661-018-4646-8', 'Hf0.2 Nb0.2 Ta0.2 Ti0.2 Zr0.2', 1114.0): array([474]), ('10.1007/s11661-018-4646-8', 'Hf0.2 Nb0.2 Ta0.2 Ti0.2 Zr0.2', 1115.0): array([473]), ('10.1007/s11661-018-4646-8', 'Hf0.2 Nb0.2 Ta0.2 Ti0.2 Zr0.2', 1134.0): array([472]), ('10.1007/s11661-018-4646-8', 'Hf0.2 Nb0.2 Ta0.2 Ti0.2 Zr0.2', 1159.0): array([471]), ('10.1007/s11661-018-4646-8', 'Hf0.2 Nb0.2 Ta0.2 Ti0.2 Zr0.2', 1438.0): array([478]), ('10.1007/s11837-012-0366-5', 'Mo0.143 Nb0.143 Ti0.143 V0.429 Zr0.143', 1418.0): array([684]), ('10.1007/s11837-012-0366-5', 'Mo0.167 Nb0.167 Ti0.167 V0.333 Zr0.167', 1538.0): array([692]), ('10.1007/s11837-012-0366-5', 'Mo0.182 Nb0.182 Ti0.182 V0.273 Zr0.182', 1735.0): array([699]), ('10.1007/s11837-012-0366-5', 'Mo0.2 Nb0.2 Ti0.2 V0.2 Zr0.2', 1786.0): array([739]), ('10.1007/s11837-012-0366-5', 'Mo0.211 Nb0.211 Ti0.211 V0.158 Zr0.211', 1708.0): array([755]), ('10.1007/s11837-012-0366-5', 'Mo0.222 Nb0.222 Ti0.222 V0.111 Zr0.222', 1647.0): array([767]), ('10.1007/s11837-012-0366-5', 'Mo0.235 Nb0.235 Ti0.235 V0.059 Zr0.235', 1776.0): array([779]), ('10.1007/s11837-012-0366-5', 'Mo0.25 Nb0.25 Ti0.25 Zr0.25', 1592.0): array([818]), ('10.1007/s11837-014-1066-0', 'Al0.06 Nb0.2 Ta0.16 Ti0.28 V0.04 Zr0.26', 166.0): array([35]), ('10.1007/s11837-014-1066-0', 'Al0.06 Nb0.2 Ta0.16 Ti0.28 V0.04 Zr0.26', 678.0): array([34]), ('10.1007/s11837-014-1066-0', 'Al0.06 Nb0.2 Ta0.16 Ti0.28 V0.04 Zr0.26', 1965.0): array([33]), ('10.1007/s11837-014-1066-0', 'Al0.06 Nb0.2 Ta0.2 Ti0.28 Zr0.26', 236.0): array([38]), ('10.1007/s11837-014-1066-0', 'Al0.06 Nb0.2 Ta0.2 Ti0.28 Zr0.26', 362.0): array([37]), ('10.1007/s11837-014-1066-0', 'Al0.06 Nb0.2 Ta0.2 Ti0.28 Zr0.26', 1965.0): array([36]), ('10.1007/s11837-014-1066-0', 'Al0.08 Hf0.12 Nb0.2 Ta0.2 Ti0.2 Zr0.2', 298.0): array([49]), ('10.1007/s11837-014-1066-0', 'Al0.08 Hf0.12 Nb0.2 Ta0.2 Ti0.2 Zr0.2', 796.0): array([48]), ('10.1007/s11837-014-1066-0', 'Al0.08 Hf0.12 Nb0.2 Ta0.2 Ti0.2 Zr0.2', 1841.0): array([47]), ('10.1007/s11837-014-1066-0', 'Al0.1 Nb0.2 Ta0.16 Ti0.3 V0.04 Zr0.2', 220.0): array([87]), ('10.1007/s11837-014-1066-0', 'Al0.1 Nb0.2 Ta0.16 Ti0.3 V0.04 Zr0.2', 796.0): array([86]), ('10.1007/s11837-014-1066-0', 'Al0.1 Nb0.2 Ta0.16 Ti0.3 V0.04 Zr0.2', 2035.0): array([85]), ('10.1007/s11837-014-1066-0', 'Al0.2 Mo0.1 Nb0.2 Ta0.1 Ti0.2 Zr0.2', 250.0): array([193]), ('10.1007/s11837-014-1066-0', 'Al0.2 Mo0.1 Nb0.2 Ta0.1 Ti0.2 Zr0.2', 745.0): array([192]), ('10.1007/s11837-014-1066-0', 'Al0.2 Mo0.1 Nb0.2 Ta0.1 Ti0.2 Zr0.2', 1597.0): array([191]), ('10.1007/s11837-014-1066-0', 'Al0.2 Mo0.1 Nb0.2 Ta0.1 Ti0.2 Zr0.2', 2000.0): array([190]), ('10.1007/s11837-014-1066-0', 'Al0.2 Nb0.3 Ta0.1 Ti0.3 Zr0.1', 403.0): array([203]), ('10.1007/s11837-014-1066-0', 'Al0.2 Nb0.3 Ta0.1 Ti0.3 Zr0.1', 728.0): array([202]), ('10.1007/s11837-014-1066-0', 'Al0.2 Nb0.3 Ta0.1 Ti0.3 Zr0.1', 1280.0): array([201]), ('10.1007/s11837-019-03432-9', 'Cr0.2 Mo0.2 Nb0.2 Ti0.2 W0.2', 1260.0): array([301]), ('10.1007/s11837-019-03432-9', 'Cr0.2 Mo0.2 Nb0.2 Ti0.2 W0.2', 1630.0): array([302]), ('10.1007/s11837-019-03432-9', 'Cr0.2 Mo0.2 Nb0.2 Ti0.2 W0.2', 1920.0): array([304]), ('10.1007/s11837-019-03432-9', 'Cr0.2 Mo0.2 Nb0.2 Ti0.2 W0.2', 2030.0): array([303]), ('10.1007/s11837-019-03432-9', 'Cr0.2 Mo0.2 Nb0.2 Ti0.2 W0.2', 2500.0): array([300]), ('10.1007/s11837-020-04557-y', 'Cr0.2 Hf0.2 Nb0.2 Ta0.2 Ti0.2', 1258.0): array([287]), ('10.1007/s11837-020-04557-y', 'Cr0.2 Hf0.2 Nb0.2 Ta0.2 Ti0.2', 1366.0): array([288]), ('10.1007/s12598-019-01310-6', 'Hf0.25 Nb0.25 Ti0.25 Zr0.25', 154.0): array([614]), ('10.1007/s12598-019-01310-6', 'Hf0.25 Nb0.25 Ti0.25 Zr0.25', 303.0): array([613]), ('10.1007/s12598-019-01310-6', 'Hf0.25 Nb0.25 Ti0.25 Zr0.25', 1000.0): array([612]), ('10.1007/s12598-019-01310-6', 'Nb0.333 Ti0.333 Zr0.333', 218.0): array([950]), ('10.1007/s12598-019-01310-6', 'Nb0.333 Ti0.333 Zr0.333', 462.0): array([949]), ('10.1007/s12598-019-01310-6', 'Nb0.333 Ti0.333 Zr0.333', 1223.0): array([948]), ('10.1007/s40195-019-00921-3', 'Hf0.091 Nb0.182 Ti0.364 V0.182 Zr0.182', 195.0): array([366]), ('10.1007/s40195-019-00921-3', 'Hf0.091 Nb0.182 Ti0.364 V0.182 Zr0.182', 859.0): array([365]), ('10.1007/s40195-019-00921-3', 'Hf0.091 Nb0.182 Ti0.364 V0.182 Zr0.182', 980.0): array([364]), ('10.1007/s40195-019-00921-3', 'Hf0.095 Nb0.143 Ti0.381 V0.19 Zr0.19', 1025.0): array([367]), ('10.1007/s40195-019-00921-3', 'Hf0.1 Nb0.1 Ti0.4 V0.2 Zr0.2', 135.0): array([370]), ('10.1007/s40195-019-00921-3', 'Hf0.1 Nb0.1 Ti0.4 V0.2 Zr0.2', 718.0): array([369]), ('10.1007/s40195-019-00921-3', 'Hf0.1 Nb0.1 Ti0.4 V0.2 Zr0.2', 1065.0): array([368]), ('10.1007/s40195-019-00921-3', 'Hf0.105 Nb0.053 Ti0.421 V0.211 Zr0.211', 1115.0): array([375]), ('10.1007/s40195-019-00921-3', 'Hf0.111 Ti0.444 V0.222 Zr0.222', 85.0): array([380]), ('10.1007/s40195-019-00921-3', 'Hf0.111 Ti0.444 V0.222 Zr0.222', 405.0): array([379]), ('10.1007/s40195-019-00921-3', 'Hf0.111 Ti0.444 V0.222 Zr0.222', 1160.0): array([378]), ('10.1007/s40195-019-00935-x', 'Cr0.2 Fe0.2 Mo0.2 Nb0.2 Ti0.2', 1647.0): array([285]), ('10.1007/s40195-019-00935-x', 'Cr0.2 Fe0.2 Mo0.2 Nb0.2 V0.2', 2663.0): array([286]), ('10.1007/s42864-021-00111-8', 'Al0.048 Nb0.238 Ta0.143 Ti0.333 Zr0.238', 973.0): array([13]), ('10.1007/s42864-021-00111-8', 'Al0.048 Nb0.238 Ta0.143 Ti0.333 Zr0.238', 1243.0): array([14]), ('10.1007/s42864-021-00111-8', 'Al0.048 Nb0.238 Ta0.19 Ti0.286 Zr0.238', 1112.0): array([15]), ('10.1007/s42864-021-00111-8', 'Al0.048 Nb0.238 Ta0.19 Ti0.286 Zr0.238', 1509.0): array([16]), ('10.1007/s42864-021-00111-8', 'Al0.048 Nb0.238 Ta0.238 Ti0.238 Zr0.238', 1304.0): array([17]), ('10.1007/s42864-021-00111-8', 'Al0.048 Nb0.238 Ta0.238 Ti0.238 Zr0.238', 1762.0): array([18]), ('10.1016/j.actamat.2012.11.032', 'Cr0.25 Nb0.25 Ti0.25 Zr0.25', 1260.0): array([342]), ('10.1016/j.actamat.2016.01.018', 'Hf0.25 Nb0.25 Ta0.25 Zr0.25', 1315.0): array([603]), ('10.1016/j.actamat.2016.01.018', 'Hf0.25 Nb0.25 Ta0.25 Zr0.25', 1950.0): array([607]), ('10.1016/j.actamat.2016.01.018', 'Hf0.25 Nb0.25 Ta0.25 Zr0.25', 2020.0): array([606]), ('10.1016/j.actamat.2016.01.018', 'Hf0.25 Nb0.25 Ta0.25 Zr0.25', 2100.0): array([605]), ('10.1016/j.actamat.2016.01.018', 'Hf0.25 Nb0.25 Ta0.25 Zr0.25', 2310.0): array([604]), ('10.1016/j.actamat.2017.09.035', 'Hf0.2 Nb0.2 Ta0.2 Ti0.2 Zr0.2', 795.0): array([484]), ('10.1016/j.actamat.2017.09.035', 'Hf0.2 Nb0.2 Ta0.2 Ti0.2 Zr0.2', 830.0): array([482]), ('10.1016/j.actamat.2017.09.035', 'Hf0.2 Nb0.2 Ta0.2 Ti0.2 Zr0.2', 1520.0): array([485]), ('10.1016/j.actamat.2017.09.035', 'Hf0.2 Nb0.2 Ta0.2 Ti0.2 Zr0.2', 1900.0): array([483]), ('10.1016/j.actamat.2017.09.062', 'Hf0.2 Nb0.2 Ta0.2 Ti0.2 Zr0.2', 940.0): array([486]), ('10.1016/j.actamat.2018.08.053', 'Nb0.25 Ta0.25 Ti0.25 V0.25', 688.0): array([880]), ('10.1016/j.actamat.2018.08.053', 'Nb0.25 Ta0.25 Ti0.25 V0.25', 720.0): array([879]), ('10.1016/j.actamat.2018.08.053', 'Nb0.25 Ta0.25 Ti0.25 V0.25', 723.0): array([878]), ('10.1016/j.actamat.2018.08.053', 'Nb0.25 Ta0.25 Ti0.25 V0.25', 778.0): array([877]), ('10.1016/j.actamat.2018.08.053', 'Nb0.25 Ta0.25 Ti0.25 V0.25', 1034.0): array([876]), ('10.1016/j.actamat.2018.08.053', 'Nb0.25 Ta0.25 Ti0.25 V0.25', 1236.0): array([874]), ('10.1016/j.actamat.2018.08.053', 'Nb0.25 Ta0.25 Ti0.25 V0.25', 1273.0): array([875]), ('10.1016/j.actamat.2019.06.006', 'Al0.25 Nb0.25 Ta0.25 Ti0.25', 740.0): array([249, 250]), ('10.1016/j.actamat.2019.06.006', 'Al0.25 Nb0.25 Ta0.25 Ti0.25', 1152.0): array([248]), ('10.1016/j.actamat.2019.06.006', 'Cr0.25 Mo0.25 Nb0.25 Ti0.25', 1058.0): array([322]), ('10.1016/j.actamat.2019.06.006', 'Cr0.25 Mo0.25 Nb0.25 Ti0.25', 1062.0): array([321]), ('10.1016/j.actamat.2019.06.006', 'Cr0.25 Mo0.25 Nb0.25 Ti0.25', 1115.0): array([320]), ('10.1016/j.actamat.2019.06.006', 'Cr0.25 Mo0.25 Nb0.25 Ti0.25', 1268.0): array([319]), ('10.1016/j.actamat.2019.06.006', 'Cr0.25 Mo0.25 Nb0.25 Ti0.25', 1630.0): array([318]), ('10.1016/j.actamat.2019.06.006', 'Cr0.25 Mo0.25 Ta0.25 Ti0.25', 1159.0): array([332]), ('10.1016/j.actamat.2019.06.006', 'Cr0.25 Mo0.25 Ta0.25 Ti0.25', 1162.0): array([330, 331]), ('10.1016/j.actamat.2019.06.006', 'Cr0.25 Mo0.25 Ta0.25 Ti0.25', 1175.0): array([329]), ('10.1016/j.actamat.2019.06.006', 'Cr0.25 Mo0.25 Ta0.25 Ti0.25', 1183.0): array([328]), ('10.1016/j.actamat.2019.06.006', 'Cr0.25 Mo0.25 Ta0.25 Ti0.25', 1266.0): array([327]), ('10.1016/j.actamat.2019.06.006', 'Cr0.25 Mo0.25 Ta0.25 Ti0.25', 1506.0): array([326]), ('10.1016/j.actamat.2019.06.006', 'Cr0.25 Mo0.25 Ta0.25 Ti0.25', 1795.0): array([325]), ('10.1016/j.actamat.2019.06.006', 'Hf0.25 Nb0.25 Ta0.25 Ti0.25', 473.0): array([595]), ('10.1016/j.actamat.2019.06.006', 'Hf0.25 Nb0.25 Ta0.25 Ti0.25', 610.0): array([594]), ('10.1016/j.actamat.2019.06.006', 'Hf0.25 Nb0.25 Ta0.25 Ti0.25', 834.0): array([593]), ('10.1016/j.actamat.2019.06.006', 'Hf0.25 Nb0.25 Ta0.25 Ti0.25', 860.0): array([592]), ('10.1016/j.actamat.2019.06.006', 'Mo0.25 Nb0.25 Ta0.25 Ti0.25', 539.0): array([789]), ('10.1016/j.actamat.2019.06.006', 'Mo0.25 Nb0.25 Ta0.25 Ti0.25', 564.0): array([788]), ('10.1016/j.actamat.2019.06.006', 'Mo0.25 Nb0.25 Ta0.25 Ti0.25', 593.0): array([787]), ('10.1016/j.actamat.2019.06.006', 'Mo0.25 Nb0.25 Ta0.25 Ti0.25', 685.0): array([786]), ('10.1016/j.actamat.2019.06.006', 'Mo0.25 Nb0.25 Ta0.25 Ti0.25', 732.0): array([785]), ('10.1016/j.actamat.2019.06.006', 'Mo0.25 Nb0.25 Ta0.25 Ti0.25', 868.0): array([784]), ('10.1016/j.actamat.2019.06.006', 'Mo0.25 Nb0.25 Ta0.25 Ti0.25', 1029.0): array([783]), ('10.1016/j.actamat.2019.06.006', 'Mo0.25 Nb0.25 Ta0.25 Ti0.25', 1071.0): array([782]), ('10.1016/j.actamat.2019.06.006', 'Mo0.25 Nb0.25 Ta0.25 Ti0.25', 1210.0): array([781]), ('10.1016/j.actamat.2019.06.006', 'Nb0.25 Ta0.25 Ti0.25 W0.25', 459.0): array([893]), ('10.1016/j.actamat.2019.06.006', 'Nb0.25 Ta0.25 Ti0.25 W0.25', 564.0): array([892]), ('10.1016/j.actamat.2019.06.006', 'Nb0.25 Ta0.25 Ti0.25 W0.25', 596.0): array([891]), ('10.1016/j.actamat.2019.06.006', 'Nb0.25 Ta0.25 Ti0.25 W0.25', 627.0): array([890]), ('10.1016/j.actamat.2019.06.006', 'Nb0.25 Ta0.25 Ti0.25 W0.25', 754.0): array([889]), ('10.1016/j.actamat.2019.06.006', 'Nb0.25 Ta0.25 Ti0.25 W0.25', 869.0): array([888]), ('10.1016/j.actamat.2019.06.006', 'Nb0.25 Ta0.25 Ti0.25 W0.25', 968.0): array([887]), ('10.1016/j.actamat.2019.06.006', 'Nb0.25 Ta0.25 Ti0.25 W0.25', 1054.0): array([886]), ('10.1016/j.actamat.2019.06.006', 'Nb0.333 Ta0.333 Ti0.333', 160.0): array([934]), ('10.1016/j.actamat.2019.06.006', 'Nb0.333 Ta0.333 Ti0.333', 210.0): array([933]), ('10.1016/j.actamat.2019.06.006', 'Nb0.333 Ta0.333 Ti0.333', 222.0): array([932]), ('10.1016/j.actamat.2019.06.006', 'Nb0.333 Ta0.333 Ti0.333', 232.0): array([931]), ('10.1016/j.actamat.2019.06.006', 'Nb0.333 Ta0.333 Ti0.333', 314.0): array([930]), ('10.1016/j.actamat.2019.06.006', 'Nb0.333 Ta0.333 Ti0.333', 378.0): array([929]), ('10.1016/j.actamat.2019.06.006', 'Nb0.333 Ta0.333 Ti0.333', 486.0): array([928]), ('10.1016/j.actamat.2019.06.006', 'Nb0.333 Ta0.333 Ti0.333', 573.0): array([927]), ('10.1016/j.actamat.2019.06.032', 'Al0.057 Nb0.236 Ti0.236 V0.236 Zr0.236', 24.0): array([28]), ('10.1016/j.actamat.2019.06.032', 'Al0.057 Nb0.236 Ti0.236 V0.236 Zr0.236', 82.0): array([27]), ('10.1016/j.actamat.2019.06.032', 'Al0.057 Nb0.236 Ti0.236 V0.236 Zr0.236', 1240.0): array([26]), ('10.1016/j.actamat.2019.06.032', 'Al0.08 Hf0.12 Nb0.2 Ta0.2 Ti0.2 Zr0.2', 89.0): array([50]), ('10.1016/j.actamat.2019.06.032', 'Al0.2 Cr0.2 Mo0.2 Nb0.2 Ti0.2', 105.0): array([173]), ('10.1016/j.actamat.2019.06.032', 'Al0.2 Cr0.2 Mo0.2 Nb0.2 Ti0.2', 1010.0): array([172]), ('10.1016/j.actamat.2019.06.032', 'Al0.25 Cr0.25 Mo0.25 Ti0.25', 1100.0): array([232]), ('10.1016/j.actamat.2019.06.032', 'Al0.25 Mo0.25 Nb0.25 Ti0.25', 1100.0): array([243]), ('10.1016/j.actamat.2019.06.032', 'Mo0.2 Nb0.2 Ti0.2 V0.2 Zr0.2', 116.0): array([742]), ('10.1016/j.actamat.2019.06.032', 'Mo0.2 Nb0.2 Ti0.2 V0.2 Zr0.2', 467.0): array([741]), ('10.1016/j.actamat.2019.06.032', 'Mo0.2 Nb0.2 Ti0.2 V0.2 Zr0.2', 1706.0): array([740]), ('10.1016/j.actamat.2019.06.032', 'Mo0.333 Nb0.333 Ti0.333', 324.0): array([850]), ('10.1016/j.actamat.2019.06.032', 'Mo0.333 Nb0.333 Ti0.333', 504.0): array([849]), ('10.1016/j.actamat.2019.06.032', 'Mo0.333 Nb0.333 Ti0.333', 1100.0): array([848]), ('10.1016/j.actamat.2019.06.032', 'Nb0.2 Ta0.2 Ti0.2 V0.2 Zr0.2', 78.0): array([865]), ('10.1016/j.actamat.2019.06.032', 'Nb0.2 Ta0.2 Ti0.2 V0.2 Zr0.2', 190.0): array([864]), ('10.1016/j.actamat.2019.06.032', 'Nb0.2 Ta0.2 Ti0.2 V0.2 Zr0.2', 1395.0): array([863]), ('10.1016/j.actamat.2019.06.032', 'Nb0.303 Re0.091 Ti0.303 Zr0.303', 89.0): array([922]), ('10.1016/j.actamat.2019.06.032', 'Nb0.303 Re0.091 Ti0.303 Zr0.303', 323.0): array([921]), ('10.1016/j.actamat.2019.06.032', 'Nb0.303 Re0.091 Ti0.303 Zr0.303', 1244.0): array([920]), ('10.1016/j.actamat.2019.06.032', 'Nb0.303 Ta0.091 Ti0.303 Zr0.303', 102.0): array([925]), ('10.1016/j.actamat.2019.06.032', 'Nb0.303 Ta0.091 Ti0.303 Zr0.303', 274.0): array([924]), ('10.1016/j.actamat.2019.06.032', 'Nb0.303 Ta0.091 Ti0.303 Zr0.303', 882.0): array([923]), ('10.1016/j.ijrmhm.2014.07.009', 'Cr0.2 Hf0.2 Nb0.2 Ti0.2 Zr0.2', 1322.0): array([293]), ('10.1016/j.ijrmhm.2014.07.009', 'Cr0.2 Hf0.2 Nb0.2 Ti0.2 Zr0.2', 1328.0): array([292]), ('10.1016/j.ijrmhm.2014.07.009', 'Cr0.2 Hf0.2 Nb0.2 Ti0.2 Zr0.2', 1375.0): array([291]), ('10.1016/j.ijrmhm.2014.07.009', 'Cr0.2 Hf0.2 Nb0.2 Ti0.2 Zr0.2', 1420.0): array([290]), ('10.1016/j.ijrmhm.2014.07.009', 'Cr0.2 Hf0.2 Nb0.2 Ti0.2 Zr0.2', 1457.0): array([289]), ('10.1016/j.ijrmhm.2014.07.009', 'Hf0.2 Nb0.2 Ti0.2 V0.2 Zr0.2', 1120.0): array([566]), ('10.1016/j.ijrmhm.2014.07.009', 'Hf0.2 Nb0.2 Ti0.2 V0.2 Zr0.2', 1140.0): array([565]), ('10.1016/j.ijrmhm.2014.07.009', 'Hf0.2 Nb0.2 Ti0.2 V0.2 Zr0.2', 1157.0): array([568]), ('10.1016/j.ijrmhm.2014.07.009', 'Hf0.2 Nb0.2 Ti0.2 V0.2 Zr0.2', 1170.0): array([567]), ('10.1016/j.ijrmhm.2014.07.009', 'Hf0.2 Nb0.2 Ti0.2 V0.2 Zr0.2', 1253.0): array([564]), ('10.1016/j.ijrmhm.2019.02.009', 'Cr0.12 Mo0.2 Nb0.42 Ta0.01 Ti0.13 V0.12', 2680.0): array([280]), ('10.1016/j.ijrmhm.2019.105132', 'Al0.125 Nb0.25 Ta0.125 Ti0.25 Zr0.25', 67.0): array([106]), ('10.1016/j.ijrmhm.2019.105132', 'Al0.125 Nb0.25 Ta0.125 Ti0.25 Zr0.25', 88.0): array([109]), ('10.1016/j.ijrmhm.2019.105132', 'Al0.125 Nb0.25 Ta0.125 Ti0.25 Zr0.25', 102.0): array([103]), ('10.1016/j.ijrmhm.2019.105132', 'Al0.125 Nb0.25 Ta0.125 Ti0.25 Zr0.25', 108.0): array([105]), ('10.1016/j.ijrmhm.2019.105132', 'Al0.125 Nb0.25 Ta0.125 Ti0.25 Zr0.25', 189.0): array([108]), ('10.1016/j.ijrmhm.2019.105132', 'Al0.125 Nb0.25 Ta0.125 Ti0.25 Zr0.25', 351.0): array([102]), ('10.1016/j.ijrmhm.2019.105132', 'Al0.125 Nb0.25 Ta0.125 Ti0.25 Zr0.25', 1310.0): array([104]), ('10.1016/j.ijrmhm.2019.105132', 'Al0.125 Nb0.25 Ta0.125 Ti0.25 Zr0.25', 1500.0): array([101]), ('10.1016/j.ijrmhm.2019.105132', 'Al0.125 Nb0.25 Ta0.125 Ti0.25 Zr0.25', 1740.0): array([107]), ('10.1016/j.ijrmhm.2020.105195', 'Mo0.333 Nb0.333 Ta0.333', 712.0): array([847]), ('10.1016/j.ijrmhm.2020.105195', 'Mo0.333 Nb0.333 Ta0.333', 999.0): array([846]), ('10.1016/j.ijrmhm.2020.105322', 'Al0.15 Hf0.15 Nb0.3 Ti0.4', 635.0): array([144]), ('10.1016/j.ijrmhm.2020.105322', 'Al0.15 Hf0.15 Nb0.3 Ti0.4', 830.0): array([143]), ('10.1016/j.ijrmhm.2020.105322', 'Al0.15 Hf0.15 Nb0.3 Ti0.4', 920.0): array([146]), ('10.1016/j.ijrmhm.2020.105322', 'Al0.15 Hf0.15 Nb0.3 Ti0.4', 1250.0): array([145]), ('10.1016/j.ijrmhm.2020.105370', 'Mo0.05 Nb0.35 Ta0.35 W0.25', 692.0): array([664]), ('10.1016/j.ijrmhm.2020.105370', 'Mo0.05 Nb0.35 Ta0.35 W0.25', 709.0): array([663]), ('10.1016/j.ijrmhm.2020.105370', 'Mo0.05 Nb0.35 Ta0.35 W0.25', 714.0): array([662]), ('10.1016/j.ijrmhm.2020.105370', 'Mo0.25 Nb0.25 Ta0.25 W0.25', 963.0): array([804]), ('10.1016/j.ijrmhm.2020.105370', 'Mo0.25 Nb0.25 Ta0.25 W0.25', 1087.0): array([806]), ('10.1016/j.ijrmhm.2020.105370', 'Mo0.25 Nb0.25 Ta0.25 W0.25', 1124.0): array([805]), ('10.1016/j.ijrmhm.2020.105370', 'Mo0.25 Nb0.35 Ta0.05 W0.35', 914.0): array([820]), ('10.1016/j.ijrmhm.2020.105370', 'Mo0.25 Nb0.35 Ta0.05 W0.35', 941.0): array([819]), ('10.1016/j.ijrmhm.2020.105370', 'Mo0.25 Nb0.35 Ta0.05 W0.35', 966.0): array([821]), ('10.1016/j.ijrmhm.2020.105370', 'Mo0.35 Nb0.16 Ta0.35 W0.14', 814.0): array([852]), ('10.1016/j.ijrmhm.2020.105370', 'Mo0.35 Nb0.16 Ta0.35 W0.14', 966.0): array([853]), ('10.1016/j.ijrmhm.2020.105370', 'Mo0.35 Nb0.16 Ta0.35 W0.14', 978.0): array([851]), ('10.1016/j.ijrmhm.2020.105370', 'Mo0.35 Nb0.25 Ta0.35 W0.05', 734.0): array([856]), ('10.1016/j.ijrmhm.2020.105370', 'Mo0.35 Nb0.25 Ta0.35 W0.05', 777.0): array([855]), ('10.1016/j.ijrmhm.2020.105370', 'Mo0.35 Nb0.25 Ta0.35 W0.05', 820.0): array([854]), ('10.1016/j.ijrmhm.2020.105467', 'Hf0.584 Mo0.208 Ta0.208', 23.0): array([644]), ('10.1016/j.ijrmhm.2020.105467', 'Hf0.584 Mo0.208 Ta0.208', 60.0): array([643]), ('10.1016/j.ijrmhm.2020.105467', 'Hf0.584 Mo0.208 Ta0.208', 118.0): array([642]), ('10.1016/j.ijrmhm.2020.105467', 'Hf0.584 Mo0.208 Ta0.208', 278.0): array([641]), ('10.1016/j.ijrmhm.2020.105467', 'Hf0.584 Mo0.208 Ta0.208', 832.0): array([640]), ('10.1016/j.ijrmhm.2020.105467', 'Hf0.584 Nb0.208 Ta0.208', 64.0): array([649]), ('10.1016/j.ijrmhm.2020.105467', 'Hf0.584 Nb0.208 Ta0.208', 146.0): array([648]), ('10.1016/j.ijrmhm.2020.105467', 'Hf0.584 Nb0.208 Ta0.208', 421.0): array([647]), ('10.1016/j.ijrmhm.2020.105467', 'Hf0.584 Nb0.208 Ta0.208', 943.0): array([646]), ('10.1016/j.ijrmhm.2020.105467', 'Hf0.584 Nb0.208 Ta0.208', 1496.0): array([645]), ('10.1016/j.ijrmhm.2020.105467', 'Hf0.584 Ta0.208 W0.208', 28.3): array([654]), ('10.1016/j.ijrmhm.2020.105467', 'Hf0.584 Ta0.208 W0.208', 77.0): array([653]), ('10.1016/j.ijrmhm.2020.105467', 'Hf0.584 Ta0.208 W0.208', 137.0): array([652]), ('10.1016/j.ijrmhm.2020.105467', 'Hf0.584 Ta0.208 W0.208', 480.0): array([651]), ('10.1016/j.ijrmhm.2020.105467', 'Hf0.584 Ta0.208 W0.208', 1475.0): array([650]), ('10.1016/j.ijrmhm.2020.105467', 'Hf0.73 Ta0.27', 18.8): array([659]), ('10.1016/j.ijrmhm.2020.105467', 'Hf0.73 Ta0.27', 33.0): array([658]), ('10.1016/j.ijrmhm.2020.105467', 'Hf0.73 Ta0.27', 94.0): array([657]), ('10.1016/j.ijrmhm.2020.105467', 'Hf0.73 Ta0.27', 353.0): array([656]), ('10.1016/j.ijrmhm.2020.105467', 'Hf0.73 Ta0.27', 1708.0): array([655]), ('10.1016/j.ijrmhm.2021.105664', 'Mo0.2 Nb0.2 Ta0.2 Ti0.2 V0.2', 1480.0): array([706]), ('10.1016/j.intermet.2011.01.004', 'Mo0.2 Nb0.2 Ta0.2 V0.2 W0.2', 477.0): array([735]), ('10.1016/j.intermet.2011.01.004', 'Mo0.2 Nb0.2 Ta0.2 V0.2 W0.2', 656.0): array([734]), ('10.1016/j.intermet.2011.01.004', 'Mo0.2 Nb0.2 Ta0.2 V0.2 W0.2', 735.0): array([733]), ('10.1016/j.intermet.2011.01.004', 'Mo0.2 Nb0.2 Ta0.2 V0.2 W0.2', 842.0): array([732]), ('10.1016/j.intermet.2011.01.004', 'Mo0.2 Nb0.2 Ta0.2 V0.2 W0.2', 846.0): array([731]), ('10.1016/j.intermet.2011.01.004', 'Mo0.2 Nb0.2 Ta0.2 V0.2 W0.2', 862.0): array([730]), ('10.1016/j.intermet.2011.01.004', 'Mo0.2 Nb0.2 Ta0.2 V0.2 W0.2', 1246.0): array([729]), ('10.1016/j.intermet.2011.01.004', 'Mo0.25 Nb0.25 Ta0.25 W0.25', 405.0): array([813]), ('10.1016/j.intermet.2011.01.004', 'Mo0.25 Nb0.25 Ta0.25 W0.25', 421.0): array([812]), ('10.1016/j.intermet.2011.01.004', 'Mo0.25 Nb0.25 Ta0.25 W0.25', 506.0): array([811]), ('10.1016/j.intermet.2011.01.004', 'Mo0.25 Nb0.25 Ta0.25 W0.25', 548.0): array([810]), ('10.1016/j.intermet.2011.01.004', 'Mo0.25 Nb0.25 Ta0.25 W0.25', 552.0): array([809]), ('10.1016/j.intermet.2011.01.004', 'Mo0.25 Nb0.25 Ta0.25 W0.25', 561.0): array([808]), ('10.1016/j.intermet.2011.01.004', 'Mo0.25 Nb0.25 Ta0.25 W0.25', 1058.0): array([807]), ('10.1016/j.intermet.2015.03.013', 'Hf0.167 Mo0.167 Nb0.167 Ta0.167 Ti0.167 Zr0.167', 556.0): array([414]), ('10.1016/j.intermet.2015.03.013', 'Hf0.167 Mo0.167 Nb0.167 Ta0.167 Ti0.167 Zr0.167', 814.0): array([413]), ('10.1016/j.intermet.2015.03.013', 'Hf0.167 Mo0.167 Nb0.167 Ta0.167 Ti0.167 Zr0.167', 1007.0): array([412]), ('10.1016/j.intermet.2015.03.013', 'Hf0.167 Mo0.167 Nb0.167 Ta0.167 Ti0.167 Zr0.167', 1512.0): array([411]), ('10.1016/j.intermet.2015.03.013', 'Hf0.2 Mo0.2 Ta0.2 Ti0.2 Zr0.2', 404.0): array([454]), ('10.1016/j.intermet.2015.03.013', 'Hf0.2 Mo0.2 Ta0.2 Ti0.2 Zr0.2', 855.0): array([453]), ('10.1016/j.intermet.2015.03.013', 'Hf0.2 Mo0.2 Ta0.2 Ti0.2 Zr0.2', 1045.0): array([452]), ('10.1016/j.intermet.2015.03.013', 'Hf0.2 Mo0.2 Ta0.2 Ti0.2 Zr0.2', 1600.0): array([451]), ('10.1016/j.intermet.2015.09.011', 'C0.024 Hf0.122 Mo0.122 Nb0.244 Ti0.244 Zr0.244', 1183.0): array([268]), ('10.1016/j.intermet.2015.09.011', 'C0.07 Hf0.116 Mo0.116 Nb0.233 Ti0.233 Zr0.233', 1201.0): array([270]), ('10.1016/j.intermet.2015.09.011', 'Hf0.125 Mo0.125 Nb0.25 Ti0.25 Zr0.25', 1176.0): array([383]), ('10.1016/j.intermet.2015.10.011', 'Hf0.2 Mo0.2 Nb0.2 Ti0.2 Zr0.2', 1719.0): array([441]), ('10.1016/j.intermet.2017.01.007', 'Mo0.167 Nb0.167 Ta0.167 Ti0.167 V0.167 W0.167', 659.0): array([691]), ('10.1016/j.intermet.2017.01.007', 'Mo0.167 Nb0.167 Ta0.167 Ti0.167 V0.167 W0.167', 752.8): array([690]), ('10.1016/j.intermet.2017.01.007', 'Mo0.167 Nb0.167 Ta0.167 Ti0.167 V0.167 W0.167', 791.3): array([689]), ('10.1016/j.intermet.2017.01.007', 'Mo0.167 Nb0.167 Ta0.167 Ti0.167 V0.167 W0.167', 973.0): array([688]), ('10.1016/j.intermet.2017.01.007', 'Mo0.167 Nb0.167 Ta0.167 Ti0.167 V0.167 W0.167', 1515.0): array([687]), ('10.1016/j.intermet.2017.01.007', 'Mo0.2 Nb0.2 Ta0.2 Ti0.2 W0.2', 586.0): array([716]), ('10.1016/j.intermet.2017.01.007', 'Mo0.2 Nb0.2 Ta0.2 Ti0.2 W0.2', 620.0): array([715]), ('10.1016/j.intermet.2017.01.007', 'Mo0.2 Nb0.2 Ta0.2 Ti0.2 W0.2', 674.0): array([714]), ('10.1016/j.intermet.2017.01.007', 'Mo0.2 Nb0.2 Ta0.2 Ti0.2 W0.2', 689.0): array([713]), ('10.1016/j.intermet.2017.01.007', 'Mo0.2 Nb0.2 Ta0.2 Ti0.2 W0.2', 1343.0): array([712]), ('10.1016/j.intermet.2019.01.004', 'Hf0.25 Nb0.25 Ta0.25 Ti0.25', 663.0): array([596]), ('10.1016/j.intermet.2019.01.004', 'Hf0.333 Nb0.333 Ta0.333', 847.0): array([636]), ('10.1016/j.intermet.2019.01.004', 'Nb0.333 Ta0.333 Ti0.333', 478.0): array([935]), ('10.1016/j.intermet.2019.01.004', 'Nb0.5 Ta0.5', 246.0): array([955]), ('10.1016/j.intermet.2020.106928', 'Cr0.2 Mo0.2 Nb0.2 Ta0.2 W0.2', 1056.0): array([298]), ('10.1016/j.intermet.2020.106928', 'Hf0.2 Mo0.2 Nb0.2 Ta0.2 W0.2', 1252.0): array([435]), ('10.1016/j.intermet.2020.106928', 'Mo0.2 Nb0.2 Ta0.2 V0.2 W0.2', 1460.0): array([736]), ('10.1016/j.intermet.2020.106928', 'Mo0.2 Nb0.2 Ta0.2 W0.2 Zr0.2', 1480.0): array([738]), ('10.1016/j.intermet.2021.107323', 'Cr0.25 Nb0.25 Ta0.25 Ti0.25', 20.0): array([337]), ('10.1016/j.intermet.2021.107323', 'Cr0.25 Nb0.25 Ta0.25 Ti0.25', 62.0): array([336]), ('10.1016/j.intermet.2021.107323', 'Cr0.25 Nb0.25 Ta0.25 Ti0.25', 515.0): array([335]), ('10.1016/j.intermet.2021.107323', 'Cr0.333 Nb0.333 Ti0.333', 57.0): array([351]), ('10.1016/j.intermet.2021.107323', 'Cr0.333 Nb0.333 Ti0.333', 204.0): array([350]), ('10.1016/j.intermet.2021.107323', 'Cr0.333 Nb0.333 Ti0.333', 1353.0): array([349]), ('10.1016/j.intermet.2021.107323', 'Cr0.5 Nb0.5', 974.0): array([354]), ('10.1016/j.jallcom.2014.11.064', 'Al0.057 Hf0.189 Nb0.189 Ta0.189 Ti0.189 Zr0.189', 1188.0): array([23]), ('10.1016/j.jallcom.2014.11.064', 'Al0.091 Hf0.182 Nb0.182 Ta0.182 Ti0.182 Zr0.182', 1302.0): array([56]), ('10.1016/j.jallcom.2014.11.064', 'Al0.13 Hf0.174 Nb0.174 Ta0.174 Ti0.174 Zr0.174', 1415.0): array([119]), ('10.1016/j.jallcom.2014.11.064', 'Al0.167 Hf0.167 Nb0.167 Ta0.167 Ti0.167 Zr0.167', 1489.0): array([153]), ('10.1016/j.jallcom.2014.11.064', 'Hf0.2 Nb0.2 Ta0.2 Ti0.2 Zr0.2', 1073.0): array([487]), ('10.1016/j.jallcom.2015.07.209', 'Hf0.2 Nb0.2 Ta0.2 Ti0.2 Zr0.2', 1145.0): array([489]), ('10.1016/j.jallcom.2015.07.209', 'Hf0.2 Nb0.2 Ta0.2 Ti0.2 Zr0.2', 1202.0): array([488]), ('10.1016/j.jallcom.2015.07.209', 'Hf0.2 Nb0.2 Ta0.2 Ti0.2 Zr0.2', 1303.0): array([490]), ('10.1016/j.jallcom.2015.08.224', 'Al0.182 Cr0.273 Nb0.182 Ti0.182 V0.182', 75.0): array([161]), ('10.1016/j.jallcom.2015.08.224', 'Al0.182 Cr0.273 Nb0.182 Ti0.182 V0.182', 970.0): array([160]), ('10.1016/j.jallcom.2015.08.224', 'Al0.182 Cr0.273 Nb0.182 Ti0.182 V0.182', 1370.0): array([159]), ('10.1016/j.jallcom.2015.08.224', 'Al0.182 Cr0.273 Nb0.182 Ti0.182 V0.182', 1700.0): array([158]), ('10.1016/j.jallcom.2015.08.224', 'Al0.2 Cr0.2 Nb0.2 Ti0.2 V0.2', 65.0): array([185]), ('10.1016/j.jallcom.2015.08.224', 'Al0.2 Cr0.2 Nb0.2 Ti0.2 V0.2', 860.0): array([184]), ('10.1016/j.jallcom.2015.08.224', 'Al0.2 Cr0.2 Nb0.2 Ti0.2 V0.2', 1015.0): array([183]), ('10.1016/j.jallcom.2015.08.224', 'Al0.2 Cr0.2 Nb0.2 Ti0.2 V0.2', 1550.0): array([182]), ('10.1016/j.jallcom.2015.08.224', 'Al0.222 Cr0.111 Nb0.222 Ti0.222 V0.222', 40.0): array([207]), ('10.1016/j.jallcom.2015.08.224', 'Al0.222 Cr0.111 Nb0.222 Ti0.222 V0.222', 640.0): array([206]), ('10.1016/j.jallcom.2015.08.224', 'Al0.222 Cr0.111 Nb0.222 Ti0.222 V0.222', 1005.0): array([205]), ('10.1016/j.jallcom.2015.08.224', 'Al0.222 Cr0.111 Nb0.222 Ti0.222 V0.222', 1300.0): array([204]), ('10.1016/j.jallcom.2015.08.224', 'Al0.25 Nb0.25 Ti0.25 V0.25', 110.0): array([253]), ('10.1016/j.jallcom.2015.11.050', 'Al0.2 Cr0.2 Mo0.2 Nb0.2 Ti0.2', 105.0): array([179]), ('10.1016/j.jallcom.2015.11.050', 'Al0.2 Cr0.2 Mo0.2 Nb0.2 Ti0.2', 594.0): array([178]), ('10.1016/j.jallcom.2015.11.050', 'Al0.2 Cr0.2 Mo0.2 Nb0.2 Ti0.2', 860.0): array([177]), ('10.1016/j.jallcom.2015.11.050', 'Al0.2 Cr0.2 Mo0.2 Nb0.2 Ti0.2', 1060.0): array([176]), ('10.1016/j.jallcom.2015.11.050', 'Al0.2 Cr0.2 Mo0.2 Nb0.2 Ti0.2', 1080.0): array([175]), ('10.1016/j.jallcom.2015.11.091', 'Hf0.102 Mo0.102 Nb0.204 Si0.184 Ti0.204 Zr0.204', 1650.0): array([374]), ('10.1016/j.jallcom.2015.11.091', 'Hf0.106 Mo0.106 Nb0.213 Si0.149 Ti0.213 Zr0.213', 1550.0): array([376]), ('10.1016/j.jallcom.2015.11.091', 'Hf0.111 Mo0.111 Nb0.222 Si0.111 Ti0.222 Zr0.222', 1600.0): array([377]), ('10.1016/j.jallcom.2015.11.091', 'Hf0.116 Mo0.116 Nb0.233 Si0.07 Ti0.233 Zr0.233', 1370.0): array([381]), ('10.1016/j.jallcom.2015.11.091', 'Hf0.122 Mo0.122 Nb0.244 Si0.024 Ti0.244 Zr0.244', 1350.0): array([382]), ('10.1016/j.jallcom.2015.11.091', 'Hf0.125 Mo0.125 Nb0.25 Ti0.25 Zr0.25', 1150.0): array([384]), ('10.1016/j.jallcom.2016.10.014', 'Hf0.213 Mo0.106 Nb0.213 Si0.149 Ti0.213 V0.106', 235.0): array([572]), ('10.1016/j.jallcom.2016.10.014', 'Hf0.213 Mo0.106 Nb0.213 Si0.149 Ti0.213 V0.106', 673.0): array([571]), ('10.1016/j.jallcom.2016.10.014', 'Hf0.213 Mo0.106 Nb0.213 Si0.149 Ti0.213 V0.106', 2134.0): array([570]), ('10.1016/j.jallcom.2016.10.014', 'Hf0.222 Mo0.111 Nb0.222 Si0.111 Ti0.222 V0.111', 188.0): array([575]), ('10.1016/j.jallcom.2016.10.014', 'Hf0.222 Mo0.111 Nb0.222 Si0.111 Ti0.222 V0.111', 614.0): array([574]), ('10.1016/j.jallcom.2016.10.014', 'Hf0.222 Mo0.111 Nb0.222 Si0.111 Ti0.222 V0.111', 1787.0): array([573]), ('10.1016/j.jallcom.2016.10.014', 'Hf0.233 Mo0.116 Nb0.233 Si0.07 Ti0.233 V0.116', 166.0): array([587]), ('10.1016/j.jallcom.2016.10.014', 'Hf0.233 Mo0.116 Nb0.233 Si0.07 Ti0.233 V0.116', 398.0): array([586]), ('10.1016/j.jallcom.2016.10.014', 'Hf0.233 Mo0.116 Nb0.233 Si0.07 Ti0.233 V0.116', 1617.0): array([585]), ('10.1016/j.jallcom.2016.10.014', 'Hf0.25 Mo0.125 Nb0.25 Ti0.25 V0.125', 60.0): array([591]), ('10.1016/j.jallcom.2016.10.014', 'Hf0.25 Mo0.125 Nb0.25 Ti0.25 V0.125', 368.0): array([590]), ('10.1016/j.jallcom.2016.10.014', 'Hf0.25 Mo0.125 Nb0.25 Ti0.25 V0.125', 1260.0): array([589]), ('10.1016/j.jallcom.2016.11.188', 'Mo0.2 Nb0.2 Ta0.2 Ti0.2 V0.2', 1400.0): array([707]), ('10.1016/j.jallcom.2018.10.230', 'Nb0.25 Ta0.25 Ti0.25 V0.25', 1108.0): array([881]), ('10.1016/j.jallcom.2018.10.230', 'Nb0.25 Ta0.25 Ti0.25 V0.25', 1308.0): array([882]), ('10.1016/j.jallcom.2018.10.230', 'Nb0.25 Ta0.25 Ti0.25 V0.25', 1373.0): array([883]), ('10.1016/j.jallcom.2018.11.111', 'C0.051 Mo0.256 Nb0.256 Re0.128 Ta0.051 W0.256', 1074.0): array([269]), ('10.1016/j.jallcom.2018.11.111', 'C0.093 Mo0.233 Nb0.233 Re0.116 Ta0.093 W0.233', 1144.0): array([271]), ('10.1016/j.jallcom.2018.11.111', 'C0.111 Mo0.222 Nb0.222 Re0.111 Ta0.111 W0.222', 1202.0): array([272]), ('10.1016/j.jallcom.2018.11.111', 'C0.128 Mo0.213 Nb0.213 Re0.106 Ta0.128 W0.213', 1241.0): array([273]), ('10.1016/j.jallcom.2018.11.111', 'Mo0.286 Nb0.286 Re0.143 W0.286', 896.0): array([831]), ('10.1016/j.jallcom.2018.11.318', 'Cr0.167 Mo0.167 Nb0.167 Ta0.167 V0.167 W0.167', 3338.0): array([284]), ('10.1016/j.jallcom.2018.11.318', 'Cr0.167 Mo0.167 Nb0.167 Ta0.167 V0.167 W0.167', 3410.0): array([283]), ('10.1016/j.jallcom.2018.11.318', 'Cr0.167 Mo0.167 Nb0.167 Ta0.167 V0.167 W0.167', 3416.0): array([282]), ('10.1016/j.jallcom.2019.06.138', 'Hf0.143 Mo0.143 Nb0.143 Ta0.143 Ti0.143 W0.143 Zr0.143', 703.0): array([389]), ('10.1016/j.jallcom.2019.06.138', 'Hf0.143 Mo0.143 Nb0.143 Ta0.143 Ti0.143 W0.143 Zr0.143', 736.0): array([388]), ('10.1016/j.jallcom.2019.06.138', 'Hf0.143 Mo0.143 Nb0.143 Ta0.143 Ti0.143 W0.143 Zr0.143', 1065.0): array([387]), ('10.1016/j.jallcom.2019.06.138', 'Hf0.143 Mo0.143 Nb0.143 Ta0.143 Ti0.143 W0.143 Zr0.143', 1637.0): array([386]), ('10.1016/j.jallcom.2019.06.138', 'Hf0.167 Nb0.167 Ta0.167 Ti0.167 W0.167 Zr0.167', 345.0): array([419]), ('10.1016/j.jallcom.2019.06.138', 'Hf0.167 Nb0.167 Ta0.167 Ti0.167 W0.167 Zr0.167', 409.0): array([418]), ('10.1016/j.jallcom.2019.06.138', 'Hf0.167 Nb0.167 Ta0.167 Ti0.167 W0.167 Zr0.167', 577.0): array([417]), ('10.1016/j.jallcom.2019.06.138', 'Hf0.167 Nb0.167 Ta0.167 Ti0.167 W0.167 Zr0.167', 1550.0): array([416]), ('10.1016/j.jallcom.2019.151685', 'Hf0.224 Nb0.717 W0.059', 388.0): array([584]), ('10.1016/j.jallcom.2019.151685', 'Hf0.224 Nb0.717 W0.059', 397.0): array([583]), ('10.1016/j.jallcom.2019.151685', 'Hf0.224 Nb0.717 W0.059', 424.0): array([582]), ('10.1016/j.jallcom.2019.151685', 'Hf0.224 Nb0.717 W0.059', 437.0): array([581]), ('10.1016/j.jallcom.2019.151685', 'Hf0.224 Nb0.717 W0.059', 663.0): array([580]), ('10.1016/j.jallcom.2019.151685', 'Mo0.092 Nb0.73 Ti0.178', 97.0): array([671]), ('10.1016/j.jallcom.2019.151685', 'Mo0.092 Nb0.73 Ti0.178', 170.0): array([670]), ('10.1016/j.jallcom.2019.151685', 'Mo0.092 Nb0.73 Ti0.178', 207.0): array([669]), ('10.1016/j.jallcom.2019.151685', 'Mo0.092 Nb0.73 Ti0.178', 230.0): array([668]), ('10.1016/j.jallcom.2019.151685', 'Mo0.092 Nb0.73 Ti0.178', 521.0): array([667]), ('10.1016/j.jallcom.2019.151685', 'Mo0.119 Nb0.7 Ti0.181', 161.0): array([677]), ('10.1016/j.jallcom.2019.151685', 'Mo0.119 Nb0.7 Ti0.181', 250.0): array([676]), ('10.1016/j.jallcom.2019.151685', 'Mo0.119 Nb0.7 Ti0.181', 311.0): array([675]), ('10.1016/j.jallcom.2019.151685', 'Mo0.119 Nb0.7 Ti0.181', 350.0): array([674]), ('10.1016/j.jallcom.2019.151685', 'Mo0.119 Nb0.7 Ti0.181', 719.0): array([673]), ('10.1016/j.jallcom.2019.151685', 'Mo0.141 Nb0.678 Ti0.181', 183.0): array([683]), ('10.1016/j.jallcom.2019.151685', 'Mo0.141 Nb0.678 Ti0.181', 270.0): array([682]), ('10.1016/j.jallcom.2019.151685', 'Mo0.141 Nb0.678 Ti0.181', 329.0): array([681]), ('10.1016/j.jallcom.2019.151685', 'Mo0.141 Nb0.678 Ti0.181', 390.0): array([680]), ('10.1016/j.jallcom.2019.151685', 'Mo0.141 Nb0.678 Ti0.181', 780.0): array([679]), ('10.1016/j.jallcom.2019.151685', 'Mo0.17 Nb0.329 Ti0.343 W0.157', 461.0): array([697]), ('10.1016/j.jallcom.2019.151685', 'Mo0.17 Nb0.329 Ti0.343 W0.157', 635.0): array([696]), ('10.1016/j.jallcom.2019.151685', 'Mo0.17 Nb0.329 Ti0.343 W0.157', 747.0): array([695]), ('10.1016/j.jallcom.2019.151685', 'Mo0.17 Nb0.329 Ti0.343 W0.157', 883.0): array([694]), ('10.1016/j.jallcom.2019.151685', 'Mo0.17 Nb0.329 Ti0.343 W0.157', 1440.0): array([693]), ('10.1016/j.jallcom.2019.151685', 'Mo0.328 Nb0.347 Ti0.325', 536.0): array([844]), ('10.1016/j.jallcom.2019.151685', 'Mo0.328 Nb0.347 Ti0.325', 614.0): array([843]), ('10.1016/j.jallcom.2019.151685', 'Nb0.735 Ti0.181 W0.084', 194.0): array([961]), ('10.1016/j.jallcom.2019.151685', 'Nb0.735 Ti0.181 W0.084', 348.0): array([960]), ('10.1016/j.jallcom.2019.151685', 'Nb0.735 Ti0.181 W0.084', 389.0): array([959]), ('10.1016/j.jallcom.2019.151685', 'Nb0.735 Ti0.181 W0.084', 420.0): array([958]), ('10.1016/j.jallcom.2019.151685', 'Nb0.735 Ti0.181 W0.084', 849.0): array([957]), ('10.1016/j.jallcom.2020.154301', 'Mo0.2 Nb0.2 Re0.2 Ta0.2 W0.2', 1062.0): array([700]), ('10.1016/j.jallcom.2020.154301', 'Mo0.222 Nb0.222 Re0.111 Ta0.222 W0.222', 1147.0): array([760]), ('10.1016/j.jallcom.2020.154301', 'Mo0.25 Nb0.25 Ta0.25 W0.25', 1121.0): array([814]), ('10.1016/j.jallcom.2020.155700', 'Al0.025 Cr0.2 Mo0.2 Nb0.2 Ta0.025 Ti0.2 V0.05 Zr0.1', 669.0): array([0]), ('10.1016/j.jallcom.2020.155700', 'Al0.025 Cr0.2 Mo0.2 Nb0.2 Ta0.05 Ti0.2 V0.025 Zr0.1', 771.0): array([1]), ('10.1016/j.jallcom.2020.155700', 'Al0.025 Cr0.2 Mo0.2 Nb0.2 Ta0.075 Ti0.2 Zr0.1', 586.0): array([2]), ('10.1016/j.jallcom.2020.155700', 'Al0.025 Cr0.2 Mo0.2 Nb0.2 Ti0.2 V0.075 Zr0.1', 1100.0): array([3]), ('10.1016/j.jallcom.2020.155700', 'Al0.05 Cr0.2 Mo0.2 Nb0.2 Ta0.025 Ti0.2 V0.025 Zr0.1', 785.0): array([19]), ('10.1016/j.jallcom.2020.155700', 'Al0.05 Cr0.2 Mo0.2 Nb0.2 Ta0.05 Ti0.2 Zr0.1', 703.0): array([20]), ('10.1016/j.jallcom.2020.155700', 'Al0.05 Cr0.2 Mo0.2 Nb0.2 Ti0.2 V0.05 Zr0.1', 978.0): array([21]), ('10.1016/j.jallcom.2020.155700', 'Al0.075 Cr0.2 Mo0.2 Nb0.2 Ta0.025 Ti0.2 Zr0.1', 750.0): array([44]), ('10.1016/j.jallcom.2020.155700', 'Al0.075 Cr0.2 Mo0.2 Nb0.2 Ti0.2 V0.025 Zr0.1', 889.0): array([45]), ('10.1016/j.jallcom.2020.155700', 'Al0.1 Cr0.2 Mo0.2 Nb0.2 Ti0.2 Zr0.1', 1206.0): array([58]), ('10.1016/j.jallcom.2020.155700', 'Cr0.2 Mo0.2 Nb0.2 Ta0.025 Ti0.2 V0.075 Zr0.1', 670.0): array([294]), ('10.1016/j.jallcom.2020.155700', 'Cr0.2 Mo0.2 Nb0.2 Ta0.05 Ti0.2 V0.05 Zr0.1', 583.0): array([295]), ('10.1016/j.jallcom.2020.155700', 'Cr0.2 Mo0.2 Nb0.2 Ta0.075 Ti0.2 V0.025 Zr0.1', 729.0): array([296]), ('10.1016/j.jallcom.2020.155700', 'Cr0.2 Mo0.2 Nb0.2 Ta0.1 Ti0.2 Zr0.1', 502.0): array([297]), ('10.1016/j.jallcom.2020.155700', 'Cr0.2 Mo0.2 Nb0.2 Ti0.2 V0.1 Zr0.1', 827.0): array([299]), ('10.1016/j.jallcom.2020.157542', 'Mo0.2 Nb0.2 Ta0.2 Ti0.2 W0.2', 1600.0): array([717]), ('10.1016/j.jallcom.2020.158003', 'Nb0.333 Ta0.333 Ti0.333', 129.0): array([941]), ('10.1016/j.jallcom.2020.158003', 'Nb0.333 Ta0.333 Ti0.333', 201.0): array([940]), ('10.1016/j.jallcom.2020.158003', 'Nb0.333 Ta0.333 Ti0.333', 268.0): array([939]), ('10.1016/j.jallcom.2020.158003', 'Nb0.333 Ta0.333 Ti0.333', 341.0): array([938]), ('10.1016/j.jallcom.2020.158003', 'Nb0.333 Ta0.333 Ti0.333', 469.0): array([937]), ('10.1016/j.jallcom.2020.158003', 'Nb0.333 Ta0.333 Ti0.333', 724.0): array([936]), ('10.1016/j.jallcom.2021.159190', 'Nb0.2 Ti0.174 V0.136 Zr0.49', 424.0): array([867]), ('10.1016/j.jallcom.2021.159190', 'Nb0.2 Ti0.174 V0.136 Zr0.49', 829.0): array([866]), ('10.1016/j.jallcom.2021.159190', 'Nb0.25 Ti0.232 V0.322 Zr0.196', 966.0): array([900]), ('10.1016/j.jallcom.2021.159190', 'Nb0.25 Ti0.232 V0.322 Zr0.196', 1010.0): array([899]), ('10.1016/j.jallcom.2021.159190', 'Nb0.251 Ti0.229 V0.183 Zr0.337', 923.0): array([906]), ('10.1016/j.jallcom.2021.159190', 'Nb0.259 Ti0.233 V0.194 Zr0.313', 960.0): array([907]), ('10.1016/j.jallcom.2021.159190', 'Nb0.266 Ti0.238 V0.276 Zr0.22', 1010.0): array([908]), ('10.1016/j.jallcom.2021.159190', 'Nb0.268 Ti0.236 V0.227 Zr0.269', 876.0): array([910]), ('10.1016/j.jallcom.2021.159190', 'Nb0.268 Ti0.236 V0.227 Zr0.269', 969.0): array([909]), ('10.1016/j.jallcom.2021.159740', 'Mo0.05 Nb0.317 Ta0.317 W0.317', 1210.0): array([661]), ('10.1016/j.jallcom.2021.159740', 'Mo0.15 Nb0.283 Ta0.283 W0.283', 1092.0): array([686]), ('10.1016/j.jallcom.2021.159740', 'Mo0.25 Nb0.25 Ta0.25 W0.25', 1158.0): array([815]), ('10.1016/j.jallcom.2021.159740', 'Nb0.333 Ta0.333 W0.333', 1298.0): array([946]), ('10.1016/j.jallcom.2021.161187', 'Hf0.167 Nb0.167 Ta0.167 Ti0.167 V0.167 Zr0.167', 1203.0): array([415]), ('10.1016/j.jallcom.2021.161187', 'Hf0.222 Nb0.111 Ta0.111 Ti0.222 V0.111 Zr0.222', 1202.0): array([576]), ('10.1016/j.jallcom.2021.161187', 'Hf0.303 Nb0.03 Ta0.03 Ti0.303 V0.03 Zr0.303', 866.0): array([633]), ('10.1016/j.jmst.2020.05.038', 'Al0.143 Nb0.286 Ta0.143 Ti0.143 Zr0.286', 73.5): array([135]), ('10.1016/j.jmst.2020.05.038', 'Al0.143 Nb0.286 Ta0.143 Ti0.143 Zr0.286', 93.7): array([134]), ('10.1016/j.jmst.2020.05.038', 'Al0.143 Nb0.286 Ta0.143 Ti0.143 Zr0.286', 103.9): array([133]), ('10.1016/j.jmst.2020.05.038', 'Al0.143 Nb0.286 Ta0.143 Ti0.143 Zr0.286', 114.6): array([132]), ('10.1016/j.jmst.2020.05.038', 'Al0.143 Nb0.286 Ta0.143 Ti0.143 Zr0.286', 191.7): array([131]), ('10.1016/j.jmst.2020.05.038', 'Al0.143 Nb0.286 Ta0.143 Ti0.143 Zr0.286', 312.5): array([129]), ('10.1016/j.jmst.2020.05.038', 'Al0.143 Nb0.286 Ta0.143 Ti0.143 Zr0.286', 353.6): array([130]), ('10.1016/j.jmst.2020.05.038', 'Al0.143 Nb0.286 Ta0.143 Ti0.143 Zr0.286', 581.8): array([128]), ('10.1016/j.jmst.2020.05.038', 'Al0.143 Nb0.286 Ta0.143 Ti0.143 Zr0.286', 1104.1): array([127]), ('10.1016/j.jmst.2020.05.038', 'Al0.143 Nb0.286 Ta0.143 Ti0.143 Zr0.286', 1310.0): array([126]), ('10.1016/j.jmst.2020.05.038', 'Al0.143 Nb0.286 Ta0.143 Ti0.143 Zr0.286', 1500.0): array([124]), ('10.1016/j.jmst.2020.05.038', 'Al0.143 Nb0.286 Ta0.143 Ti0.143 Zr0.286', 1740.0): array([125]), ('10.1016/j.jmst.2020.07.012', 'Al0.111 Cr0.222 Mo0.222 Nb0.222 V0.222', 1178.0): array([94]), ('10.1016/j.jmst.2020.07.012', 'Al0.111 Cr0.222 Mo0.222 Nb0.222 V0.222', 2497.0): array([93]), ('10.1016/j.jmst.2020.07.012', 'Al0.2 Cr0.2 Mo0.2 Nb0.2 V0.2', 1085.0): array([181]), ('10.1016/j.jmst.2020.07.012', 'Al0.2 Cr0.2 Mo0.2 Nb0.2 V0.2', 2326.0): array([180]), ('10.1016/j.jmst.2020.07.012', 'Cr0.25 Mo0.25 Nb0.25 V0.25', 1513.0): array([324]), ('10.1016/j.jmst.2020.07.012', 'Cr0.25 Mo0.25 Nb0.25 V0.25', 2743.0): array([323]), ('10.1016/j.jmst.2020.10.073', 'Hf0.2 Nb0.2 Ta0.2 Ti0.2 V0.2', 720.0): array([464]), ('10.1016/j.jmst.2020.10.073', 'Hf0.2 Nb0.2 Ta0.2 Ti0.2 V0.2', 810.0): array([463]), ('10.1016/j.jmst.2020.10.073', 'Hf0.2 Nb0.2 Ta0.2 Ti0.2 V0.2', 841.0): array([462]), ('10.1016/j.jmst.2020.10.073', 'Hf0.2 Nb0.2 Ta0.2 Ti0.2 V0.2', 1350.0): array([461]), ('10.1016/j.jmst.2020.10.073', 'Hf0.2 Nb0.2 Ta0.2 Ti0.2 Zr0.2', 900.0): array([533]), ('10.1016/j.matchar.2015.11.018', 'Hf0.2 Nb0.2 Ta0.2 Ti0.2 Zr0.2', 890.0): array([534]), ('10.1016/j.matchar.2021.111287', 'Al0.048 Hf0.095 Nb0.095 Ti0.381 V0.19 Zr0.19', 1040.0): array([10]), ('10.1016/j.matchar.2021.111287', 'Al0.091 Hf0.091 Nb0.091 Ti0.364 V0.182 Zr0.182', 180.0): array([55]), ('10.1016/j.matchar.2021.111287', 'Al0.091 Hf0.091 Nb0.091 Ti0.364 V0.182 Zr0.182', 862.0): array([54]), ('10.1016/j.matchar.2021.111287', 'Al0.091 Hf0.091 Nb0.091 Ti0.364 V0.182 Zr0.182', 1159.0): array([53]), ('10.1016/j.matchar.2021.111287', 'Al0.13 Hf0.087 Nb0.087 Ti0.348 V0.174 Zr0.174', 1323.0): array([118]), ('10.1016/j.matchar.2021.111287', 'Al0.167 Hf0.083 Nb0.083 Ti0.333 V0.167 Zr0.167', 278.0): array([152]), ('10.1016/j.matchar.2021.111287', 'Al0.167 Hf0.083 Nb0.083 Ti0.333 V0.167 Zr0.167', 1088.0): array([151]), ('10.1016/j.matchar.2021.111287', 'Al0.167 Hf0.083 Nb0.083 Ti0.333 V0.167 Zr0.167', 1410.0): array([150]), ('10.1016/j.matchar.2021.111287', 'Hf0.1 Nb0.1 Ti0.4 V0.2 Zr0.2', 126.0): array([373]), ('10.1016/j.matchar.2021.111287', 'Hf0.1 Nb0.1 Ti0.4 V0.2 Zr0.2', 719.0): array([372]), ('10.1016/j.matchar.2021.111287', 'Hf0.1 Nb0.1 Ti0.4 V0.2 Zr0.2', 915.0): array([371]), ('10.1016/j.matchemphys.2017.06.054', 'Cr0.233 Ta0.233 Ti0.07 V0.233 W0.233', 586.0): array([315]), ('10.1016/j.matchemphys.2017.06.054', 'Cr0.233 Ta0.233 Ti0.07 V0.233 W0.233', 2050.0): array([314]), ('10.1016/j.matchemphys.2017.06.054', 'Cr0.24 Ta0.24 Ti0.041 V0.24 W0.24', 750.0): array([317]), ('10.1016/j.matchemphys.2017.06.054', 'Cr0.24 Ta0.24 Ti0.041 V0.24 W0.24', 2034.0): array([316]), ('10.1016/j.matchemphys.2017.06.054', 'Cr0.25 Ta0.25 V0.25 W0.25', 979.0): array([348]), ('10.1016/j.matchemphys.2017.06.054', 'Cr0.25 Ta0.25 V0.25 W0.25', 2327.0): array([347]), ('10.1016/j.matdes.2015.05.019', 'Hf0.2 Mo0.2 Nb0.2 Ti0.2 Zr0.2', 187.0): array([446]), ('10.1016/j.matdes.2015.05.019', 'Hf0.2 Mo0.2 Nb0.2 Ti0.2 Zr0.2', 635.0): array([445]), ('10.1016/j.matdes.2015.05.019', 'Hf0.2 Mo0.2 Nb0.2 Ti0.2 Zr0.2', 825.0): array([444]), ('10.1016/j.matdes.2015.05.019', 'Hf0.2 Mo0.2 Nb0.2 Ti0.2 Zr0.2', 1575.0): array([443]), ('10.1016/j.matdes.2015.05.019', 'Hf0.2 Mo0.2 Nb0.2 Ti0.2 Zr0.2', 1719.0): array([442]), ('10.1016/j.matdes.2015.06.072', 'Mo0.029 Nb0.294 Ti0.294 V0.088 Zr0.294', 932.0): array([660]), ('10.1016/j.matdes.2015.06.072', 'Mo0.07 Nb0.233 Ti0.233 V0.233 Zr0.233', 1289.0): array([665]), ('10.1016/j.matdes.2015.06.072', 'Mo0.083 Nb0.278 Ti0.278 V0.083 Zr0.278', 1312.0): array([666]), ('10.1016/j.matdes.2015.06.072', 'Mo0.111 Nb0.222 Ti0.222 V0.222 Zr0.222', 1473.0): array([672]), ('10.1016/j.matdes.2015.06.072', 'Mo0.132 Nb0.263 Ti0.263 V0.079 Zr0.263', 1301.0): array([678]), ('10.1016/j.matdes.2015.06.072', 'Mo0.149 Nb0.213 Ti0.213 V0.213 Zr0.213', 1706.0): array([685]), ('10.1016/j.matdes.2015.06.072', 'Mo0.175 Nb0.25 Ti0.25 V0.075 Zr0.25', 1436.0): array([698]), ('10.1016/j.matdes.2015.06.072', 'Mo0.2 Nb0.2 Ti0.2 V0.2 Zr0.2', 1779.0): array([743]), ('10.1016/j.matdes.2015.06.072', 'Mo0.233 Nb0.233 Ti0.233 V0.07 Zr0.233', 1455.0): array([772]), ('10.1016/j.matdes.2015.06.072', 'Mo0.245 Nb0.189 Ti0.189 V0.189 Zr0.189', 1496.0): array([780]), ('10.1016/j.matdes.2015.06.072', 'Mo0.273 Nb0.182 Ti0.182 V0.182 Zr0.182', 1603.0): array([829]), ('10.1016/j.matdes.2015.06.072', 'Mo0.283 Nb0.217 Ti0.217 V0.065 Zr0.217', 1603.0): array([830]), ('10.1016/j.matdes.2015.06.072', 'Mo0.298 Nb0.175 Ti0.175 V0.175 Zr0.175', 1645.0): array([836]), ('10.1016/j.matdes.2015.06.072', 'Mo0.312 Nb0.208 Ti0.208 V0.062 Zr0.208', 1576.0): array([841]), ('10.1016/j.matdes.2015.06.072', 'Mo0.333 Nb0.167 Ti0.167 V0.167 Zr0.167', 1765.0): array([845]), ('10.1016/j.matdes.2015.06.072', 'Nb0.25 Ti0.25 V0.25 Zr0.25', 1104.0): array([901]), ('10.1016/j.matdes.2015.06.072', 'Nb0.303 Ti0.303 V0.091 Zr0.303', 866.0): array([926]), ('10.1016/j.matdes.2017.11.033', 'Al0.059 Nb0.235 Ta0.235 Ti0.235 Zr0.235', 366.0): array([32]), ('10.1016/j.matdes.2017.11.033', 'Al0.059 Nb0.235 Ta0.235 Ti0.235 Zr0.235', 1745.0): array([31]), ('10.1016/j.matdes.2017.11.033', 'Al0.111 Mo0.111 Nb0.222 Ta0.111 Ti0.222 Zr0.222', 579.0): array([96]), ('10.1016/j.matdes.2017.11.033', 'Al0.111 Mo0.111 Nb0.222 Ta0.111 Ti0.222 Zr0.222', 2350.0): array([95]), ('10.1016/j.matdes.2017.11.033', 'Al0.2 Mo0.1 Nb0.2 Ta0.1 Ti0.2 Zr0.2', 2197.0): array([194]), ('10.1016/j.matdes.2017.11.033', 'Al0.222 Mo0.111 Nb0.222 Ta0.111 Ti0.222 Zr0.111', 935.0): array([209]), ('10.1016/j.matdes.2017.11.033', 'Al0.25 Nb0.25 Ta0.125 Ti0.25 Zr0.125', 535.0): array([247]), ('10.1016/j.matdes.2017.11.033', 'Al0.25 Nb0.25 Ta0.125 Ti0.25 Zr0.125', 1352.0): array([246]), ('10.1016/j.matlet.2014.05.134', 'Hf0.25 Nb0.25 Ti0.25 Zr0.25', 879.0): array([617]), ('10.1016/j.matlet.2014.11.162', 'Al0.25 Nb0.25 Ti0.25 V0.25', 158.0): array([257]), ('10.1016/j.matlet.2014.11.162', 'Al0.25 Nb0.25 Ti0.25 V0.25', 685.0): array([256]), ('10.1016/j.matlet.2014.11.162', 'Al0.25 Nb0.25 Ti0.25 V0.25', 810.0): array([255]), ('10.1016/j.matlet.2014.11.162', 'Al0.25 Nb0.25 Ti0.25 V0.25', 1020.0): array([254]), ('10.1016/j.matlet.2015.08.099', 'Al0.222 Nb0.222 Ti0.222 V0.222 Zr0.111', 1480.0): array([212]), ('10.1016/j.matlet.2016.03.092', 'Hf0.222 Nb0.222 Si0.111 Ti0.222 V0.222', 240.0): array([579]), ('10.1016/j.matlet.2016.03.092', 'Hf0.222 Nb0.222 Si0.111 Ti0.222 V0.222', 875.0): array([578]), ('10.1016/j.matlet.2016.03.092', 'Hf0.222 Nb0.222 Si0.111 Ti0.222 V0.222', 1399.0): array([577]), ('10.1016/j.matlet.2016.03.133', 'Hf0.174 Mo0.13 Nb0.174 Ta0.174 Ti0.174 Zr0.174', 1373.0): array([420]), ('10.1016/j.matlet.2016.03.133', 'Hf0.182 Mo0.091 Nb0.182 Ta0.182 Ti0.182 Zr0.182', 1317.0): array([421]), ('10.1016/j.matlet.2016.03.133', 'Hf0.19 Mo0.048 Nb0.19 Ta0.19 Ti0.19 Zr0.19', 1112.0): array([429]), ('10.1016/j.matlet.2016.03.133', 'Hf0.2 Nb0.2 Ta0.2 Ti0.2 Zr0.2', 1015.0): array([536]), ('10.1016/j.matlet.2016.08.060', 'Hf0.2 Nb0.2 Ta0.2 Ti0.2 Zr0.2', 940.0): array([539]), ('10.1016/j.matlet.2016.08.060', 'Hf0.2 Nb0.2 Ta0.2 Ti0.2 Zr0.2', 944.0): array([538]), ('10.1016/j.matlet.2016.08.060', 'Hf0.2 Nb0.2 Ta0.2 Ti0.2 Zr0.2', 958.0): array([537]), ('10.1016/j.matlet.2016.11.030', 'Al0.1 Cr0.2 Nb0.2 Ti0.4 V0.1', 90.0): array([63]), ('10.1016/j.matlet.2016.11.030', 'Al0.1 Cr0.2 Nb0.2 Ti0.4 V0.1', 445.0): array([62]), ('10.1016/j.matlet.2016.11.030', 'Al0.1 Cr0.2 Nb0.2 Ti0.4 V0.1', 930.0): array([61]), ('10.1016/j.matlet.2016.11.030', 'Al0.1 Cr0.2 Nb0.2 Ti0.4 V0.1', 1240.0): array([59]), ('10.1016/j.matlet.2016.11.030', 'Al0.1 Cr0.2 Nb0.2 Ti0.4 V0.1', 1340.0): array([60]), ('10.1016/j.matlet.2019.03.075', 'Al0.125 Nb0.25 Ta0.125 Ti0.25 Zr0.25', 1200.0): array([115]), ('10.1016/j.matlet.2019.03.075', 'Al0.125 Nb0.25 Ta0.125 Ti0.25 Zr0.25', 1500.0): array([114]), ('10.1016/j.matlet.2019.03.075', 'Al0.125 Nb0.25 Ta0.125 Ti0.25 Zr0.25', 1630.0): array([113]), ('10.1016/j.matlet.2019.03.075', 'Al0.125 Nb0.25 Ta0.125 Ti0.25 Zr0.25', 1740.0): array([112]), ('10.1016/j.matlet.2019.03.075', 'Al0.125 Nb0.25 Ta0.125 Ti0.25 Zr0.25', 2100.0): array([111]), ('10.1016/j.matlet.2020.127372', 'Al0.2 Cr0.1 Nb0.15 Ti0.2 V0.25 Zr0.1', 720.0): array([165]), ('10.1016/j.matlet.2020.127372', 'Al0.2 Cr0.1 Nb0.15 Ti0.2 V0.25 Zr0.1', 1000.0): array([167]), ('10.1016/j.matlet.2020.127372', 'Al0.2 Cr0.1 Nb0.15 Ti0.2 V0.25 Zr0.1', 1535.0): array([166]), ('10.1016/j.matlet.2021.129428', 'Al0.079 Nb0.263 Ti0.395 Zr0.263', 876.0): array([46]), ('10.1016/j.matlet.2021.129753', 'Mo0.204 Nb0.306 Ta0.204 Ti0.204 W0.082', 503.0): array([747]), ('10.1016/j.matlet.2021.129753', 'Mo0.204 Nb0.306 Ta0.204 Ti0.204 W0.082', 764.0): array([746]), ('10.1016/j.matlet.2021.129753', 'Mo0.204 Nb0.306 Ta0.204 Ti0.204 W0.082', 986.0): array([745]), ('10.1016/j.matlet.2021.129753', 'Mo0.204 Nb0.306 Ta0.204 Ti0.204 W0.082', 1312.0): array([744]), ('10.1016/j.matlet.2021.129753', 'Mo0.213 Nb0.277 Ta0.213 Ti0.213 W0.085', 425.0): array([759]), ('10.1016/j.matlet.2021.129753', 'Mo0.213 Nb0.277 Ta0.213 Ti0.213 W0.085', 905.0): array([758]), ('10.1016/j.matlet.2021.129753', 'Mo0.213 Nb0.277 Ta0.213 Ti0.213 W0.085', 1125.0): array([757]), ('10.1016/j.matlet.2021.129753', 'Mo0.213 Nb0.277 Ta0.213 Ti0.213 W0.085', 1334.0): array([756]), ('10.1016/j.matlet.2021.129753', 'Mo0.222 Nb0.244 Ta0.222 Ti0.222 W0.089', 585.0): array([771]), ('10.1016/j.matlet.2021.129753', 'Mo0.222 Nb0.244 Ta0.222 Ti0.222 W0.089', 664.0): array([770]), ('10.1016/j.matlet.2021.129753', 'Mo0.222 Nb0.244 Ta0.222 Ti0.222 W0.089', 1027.0): array([769]), ('10.1016/j.matlet.2021.129753', 'Mo0.222 Nb0.244 Ta0.222 Ti0.222 W0.089', 1412.0): array([768]), ('10.1016/j.msea.2003.12.011', 'Ta0.384 Ti0.616', 600.0): array([969]), ('10.1016/j.msea.2003.12.011', 'Ta0.51 Ti0.49', 375.0): array([970]), ('10.1016/j.msea.2012.12.018', 'Cr0.2 Nb0.2 Ti0.2 V0.2 Zr0.2', 259.0): array([308]), ('10.1016/j.msea.2012.12.018', 'Cr0.2 Nb0.2 Ti0.2 V0.2 Zr0.2', 615.0): array([307]), ('10.1016/j.msea.2012.12.018', 'Cr0.2 Nb0.2 Ti0.2 V0.2 Zr0.2', 1230.0): array([306]), ('10.1016/j.msea.2012.12.018', 'Cr0.2 Nb0.2 Ti0.2 V0.2 Zr0.2', 1298.0): array([305]), ('10.1016/j.msea.2012.12.018', 'Cr0.25 Nb0.25 Ti0.25 Zr0.25', 115.0): array([346]), ('10.1016/j.msea.2012.12.018', 'Cr0.25 Nb0.25 Ti0.25 Zr0.25', 300.0): array([345]), ('10.1016/j.msea.2012.12.018', 'Cr0.25 Nb0.25 Ti0.25 Zr0.25', 1035.0): array([344]), ('10.1016/j.msea.2012.12.018', 'Cr0.25 Nb0.25 Ti0.25 Zr0.25', 1260.0): array([343]), ('10.1016/j.msea.2012.12.018', 'Nb0.2 Ti0.2 V0.4 Zr0.2', 72.0): array([871]), ('10.1016/j.msea.2012.12.018', 'Nb0.2 Ti0.2 V0.4 Zr0.2', 240.0): array([870]), ('10.1016/j.msea.2012.12.018', 'Nb0.2 Ti0.2 V0.4 Zr0.2', 571.0): array([869]), ('10.1016/j.msea.2012.12.018', 'Nb0.2 Ti0.2 V0.4 Zr0.2', 918.0): array([868]), ('10.1016/j.msea.2012.12.018', 'Nb0.25 Ti0.25 V0.25 Zr0.25', 58.0): array([905]), ('10.1016/j.msea.2012.12.018', 'Nb0.25 Ti0.25 V0.25 Zr0.25', 187.0): array([904]), ('10.1016/j.msea.2012.12.018', 'Nb0.25 Ti0.25 V0.25 Zr0.25', 834.0): array([903]), ('10.1016/j.msea.2012.12.018', 'Nb0.25 Ti0.25 V0.25 Zr0.25', 1105.0): array([902]), ('10.1016/j.msea.2015.08.024', 'Hf0.2 Nb0.2 Ta0.2 Ti0.2 Zr0.2', 905.0): array([540]), ('10.1016/j.msea.2015.12.017', 'Hf0.2 Nb0.2 Ta0.2 Ti0.2 Zr0.2', 803.0): array([544]), ('10.1016/j.msea.2015.12.017', 'Hf0.2 Nb0.2 Ta0.2 Ti0.2 Zr0.2', 820.0): array([543]), ('10.1016/j.msea.2015.12.017', 'Hf0.2 Nb0.2 Ta0.2 Ti0.2 Zr0.2', 827.0): array([542]), ('10.1016/j.msea.2015.12.017', 'Hf0.2 Nb0.2 Ta0.2 Ti0.2 Zr0.2', 828.0): array([541]), ('10.1016/j.msea.2016.07.102', 'Nb0.2 Ta0.2 Ti0.2 V0.2 W0.2', 1420.0): array([862]), ('10.1016/j.msea.2016.07.102', 'Nb0.25 Ta0.25 Ti0.25 V0.25', 965.0): array([884]), ('10.1016/j.msea.2016.07.102', 'Nb0.25 Ta0.25 V0.25 W0.25', 1530.0): array([898]), ('10.1016/j.msea.2017.08.019', 'Al0.182 Nb0.182 Ti0.182 V0.182 Zr0.273', 180.0): array([164]), ('10.1016/j.msea.2017.08.019', 'Al0.182 Nb0.182 Ti0.182 V0.182 Zr0.273', 1195.0): array([163]), ('10.1016/j.msea.2017.08.019', 'Al0.182 Nb0.182 Ti0.182 V0.182 Zr0.273', 1535.0): array([162]), ('10.1016/j.msea.2017.08.019', 'Al0.2 Nb0.2 Ti0.2 V0.2 Zr0.2', 550.0): array([200]), ('10.1016/j.msea.2017.08.019', 'Al0.2 Nb0.2 Ti0.2 V0.2 Zr0.2', 1155.0): array([199]), ('10.1016/j.msea.2017.08.019', 'Al0.2 Nb0.2 Ti0.2 V0.2 Zr0.2', 1500.0): array([198]), ('10.1016/j.msea.2017.08.019', 'Al0.222 Nb0.222 Ti0.222 V0.222 Zr0.111', 675.0): array([215]), ('10.1016/j.msea.2017.08.019', 'Al0.222 Nb0.222 Ti0.222 V0.222 Zr0.111', 1135.0): array([214]), ('10.1016/j.msea.2017.08.019', 'Al0.222 Nb0.222 Ti0.222 V0.222 Zr0.111', 1485.0): array([213]), ('10.1016/j.msea.2017.08.019', 'Al0.235 Nb0.235 Ti0.235 V0.235 Zr0.059', 855.0): array([221]), ('10.1016/j.msea.2017.08.019', 'Al0.235 Nb0.235 Ti0.235 V0.235 Zr0.059', 1065.0): array([220]), ('10.1016/j.msea.2017.08.019', 'Al0.235 Nb0.235 Ti0.235 V0.235 Zr0.059', 1360.0): array([219]), ('10.1016/j.msea.2017.08.019', 'Al0.244 Nb0.244 Ti0.244 V0.244 Zr0.024', 865.0): array([224]), ('10.1016/j.msea.2017.08.019', 'Al0.244 Nb0.244 Ti0.244 V0.244 Zr0.024', 975.0): array([223]), ('10.1016/j.msea.2017.08.019', 'Al0.244 Nb0.244 Ti0.244 V0.244 Zr0.024', 1290.0): array([222]), ('10.1016/j.msea.2017.08.019', 'Al0.25 Nb0.25 Ti0.25 V0.25', 560.0): array([260]), ('10.1016/j.msea.2017.08.019', 'Al0.25 Nb0.25 Ti0.25 V0.25', 780.0): array([259]), ('10.1016/j.msea.2017.08.019', 'Al0.25 Nb0.25 Ti0.25 V0.25', 1000.0): array([258]), ('10.1016/j.msea.2017.10.073', 'Hf0.15 Nb0.2 Ta0.1 Ti0.3 Zr0.25', 640.0): array([410]), ('10.1016/j.msea.2017.10.073', 'Hf0.15 Nb0.2 Ta0.1 Ti0.3 Zr0.25', 890.0): array([407]), ('10.1016/j.msea.2017.10.073', 'Hf0.15 Nb0.2 Ta0.1 Ti0.3 Zr0.25', 1020.0): array([402, 409]), ('10.1016/j.msea.2017.10.073', 'Hf0.15 Nb0.2 Ta0.1 Ti0.3 Zr0.25', 1040.0): array([408]), ('10.1016/j.msea.2017.10.073', 'Hf0.15 Nb0.2 Ta0.1 Ti0.3 Zr0.25', 1100.0): array([406]), ('10.1016/j.msea.2017.10.073', 'Hf0.15 Nb0.2 Ta0.1 Ti0.3 Zr0.25', 1150.0): array([405]), ('10.1016/j.msea.2017.10.073', 'Hf0.15 Nb0.2 Ta0.1 Ti0.3 Zr0.25', 1180.0): array([403]), ('10.1016/j.msea.2017.10.073', 'Hf0.15 Nb0.2 Ta0.1 Ti0.3 Zr0.25', 1200.0): array([404]), ('10.1016/j.msea.2017.10.073', 'Hf0.15 Nb0.2 Ta0.1 Ti0.3 Zr0.25', 1250.0): array([399]), ('10.1016/j.msea.2017.10.073', 'Hf0.15 Nb0.2 Ta0.1 Ti0.3 Zr0.25', 1370.0): array([396, 400]), ('10.1016/j.msea.2017.10.073', 'Hf0.15 Nb0.2 Ta0.1 Ti0.3 Zr0.25', 1380.0): array([401]), ('10.1016/j.msea.2017.10.073', 'Hf0.15 Nb0.2 Ta0.1 Ti0.3 Zr0.25', 1550.0): array([397]), ('10.1016/j.msea.2017.10.073', 'Hf0.15 Nb0.2 Ta0.1 Ti0.3 Zr0.25', 1640.0): array([398]), ('10.1016/j.msea.2017.10.073', 'Hf0.15 Nb0.2 Ta0.1 Ti0.3 Zr0.25', 1750.0): array([393]), ('10.1016/j.msea.2017.10.073', 'Hf0.15 Nb0.2 Ta0.1 Ti0.3 Zr0.25', 1880.0): array([394]), ('10.1016/j.msea.2017.10.073', 'Hf0.15 Nb0.2 Ta0.1 Ti0.3 Zr0.25', 1920.0): array([395]), ('10.1016/j.msea.2017.10.073', 'Hf0.15 Nb0.2 Ta0.1 Ti0.3 Zr0.25', 2210.0): array([390]), ('10.1016/j.msea.2017.10.073', 'Hf0.15 Nb0.2 Ta0.1 Ti0.3 Zr0.25', 2250.0): array([391]), ('10.1016/j.msea.2017.10.073', 'Hf0.15 Nb0.2 Ta0.1 Ti0.3 Zr0.25', 2390.0): array([392]), ('10.1016/j.msea.2017.12.004', 'Mo0.2 Nb0.2 Ta0.2 Ti0.2 W0.2', 1455.0): array([721]), ('10.1016/j.msea.2017.12.004', 'Mo0.211 Nb0.211 Ta0.211 Ti0.158 W0.211', 1304.0): array([754]), ('10.1016/j.msea.2017.12.004', 'Mo0.222 Nb0.222 Ta0.222 Ti0.111 W0.222', 1211.0): array([766]), ('10.1016/j.msea.2017.12.004', 'Mo0.235 Nb0.235 Ta0.235 Ti0.059 W0.235', 1109.0): array([778]), ('10.1016/j.msea.2017.12.004', 'Mo0.25 Nb0.25 Ta0.25 W0.25', 996.0): array([816]), ('10.1016/j.msea.2017.12.021', 'Mo0.2 Nb0.2 Ta0.2 V0.2 W0.2', 2612.0): array([737]), ('10.1016/j.msea.2020.139275', 'Al0.038 Mo0.192 Nb0.192 Ta0.192 Ti0.192 V0.192', 1292.0): array([4]), ('10.1016/j.msea.2020.139275', 'Al0.074 Mo0.185 Nb0.185 Ta0.185 Ti0.185 V0.185', 1332.0): array([40]), ('10.1016/j.msea.2020.139275', 'Al0.107 Mo0.179 Nb0.179 Ta0.179 Ti0.179 V0.179', 1352.0): array([88]), ('10.1016/j.msea.2020.139275', 'Al0.167 Mo0.167 Nb0.167 Ta0.167 Ti0.167 V0.167', 1391.0): array([154]), ('10.1016/j.msea.2020.139275', 'Mo0.2 Nb0.2 Ta0.2 Ti0.2 V0.2', 1228.0): array([708]), ('10.1016/j.msea.2020.139774', 'Nb0.167 Ti0.333 V0.167 Zr0.333', 787.0): array([859]), ('10.1016/j.msea.2020.139774', 'Nb0.167 Ti0.333 V0.167 Zr0.333', 832.0): array([860]), ('10.1016/j.msea.2021.140798', 'Hf0.29 Nb0.072 Ta0.058 Ti0.29 Zr0.29', 748.0): array([629]), ('10.1016/j.msea.2021.140798', 'Hf0.294 Nb0.059 Ta0.059 Ti0.294 Zr0.294', 607.0): array([630]), ('10.1016/j.msea.2021.140798', 'Hf0.299 Nb0.045 Ta0.06 Ti0.299 Zr0.299', 406.0): array([632]), ('10.1016/j.msea.2021.140798', 'Hf0.312 Ta0.062 Ti0.312 Zr0.312', 1206.0): array([634]), ('10.1016/j.msea.2021.140848', 'Mo0.25 Nb0.25 Ta0.25 V0.25', 811.0): array([794]), ('10.1016/j.msea.2021.140848', 'Mo0.25 Nb0.25 Ta0.25 V0.25', 933.0): array([793]), ('10.1016/j.msea.2021.140848', 'Mo0.25 Nb0.25 Ta0.25 V0.25', 1233.0): array([792]), ('10.1016/j.msea.2021.140848', 'Mo0.267 Nb0.267 Ta0.267 V0.2', 772.0): array([827]), ('10.1016/j.msea.2021.140848', 'Mo0.267 Nb0.267 Ta0.267 V0.2', 887.0): array([826]), ('10.1016/j.msea.2021.140848', 'Mo0.267 Nb0.267 Ta0.267 V0.2', 1173.0): array([825]), ('10.1016/j.msea.2021.140848', 'Mo0.286 Nb0.286 Ta0.286 V0.143', 741.0): array([834]), ('10.1016/j.msea.2021.140848', 'Mo0.286 Nb0.286 Ta0.286 V0.143', 824.0): array([833]), ('10.1016/j.msea.2021.140848', 'Mo0.286 Nb0.286 Ta0.286 V0.143', 1085.0): array([832]), ('10.1016/j.msea.2021.140848', 'Mo0.308 Nb0.308 Ta0.308 V0.077', 694.0): array([839]), ('10.1016/j.msea.2021.140848', 'Mo0.308 Nb0.308 Ta0.308 V0.077', 763.0): array([838]), ('10.1016/j.msea.2021.140848', 'Mo0.308 Nb0.308 Ta0.308 V0.077', 1017.0): array([837]), ('10.1016/j.msea.2021.140983', 'Hf0.2 Nb0.2 Ta0.2 Ti0.2 Zr0.2', 123.0): array([551]), ('10.1016/j.msea.2021.140983', 'Hf0.2 Nb0.2 Ta0.2 Ti0.2 Zr0.2', 499.0): array([550]), ('10.1016/j.msea.2021.140983', 'Hf0.2 Nb0.2 Ta0.2 Ti0.2 Zr0.2', 659.0): array([548]), ('10.1016/j.msea.2021.140983', 'Hf0.2 Nb0.2 Ta0.2 Ti0.2 Zr0.2', 708.0): array([549]), ('10.1016/j.msea.2021.140983', 'Hf0.2 Nb0.2 Ta0.2 Ti0.2 Zr0.2', 784.0): array([547]), ('10.1016/j.msea.2021.140983', 'Hf0.2 Nb0.2 Ta0.2 Ti0.2 Zr0.2', 1024.0): array([546]), ('10.1016/j.msea.2021.140983', 'Hf0.2 Nb0.2 Ta0.2 Ti0.2 Zr0.2', 1326.0): array([545]), ('10.1016/j.msea.2021.141168', 'Ta0.333 Ti0.333 Zr0.333', 63.1): array([967]), ('10.1016/j.msea.2021.141168', 'Ta0.333 Ti0.333 Zr0.333', 103.0): array([966]), ('10.1016/j.msea.2021.141168', 'Ta0.333 Ti0.333 Zr0.333', 157.0): array([965]), ('10.1016/j.msea.2021.141168', 'Ta0.333 Ti0.333 Zr0.333', 346.0): array([964]), ('10.1016/j.msea.2021.141168', 'Ta0.333 Ti0.333 Zr0.333', 1440.0): array([963]), ('10.1016/j.msea.2021.141168', 'Ta0.333 Ti0.333 Zr0.333', 1671.0): array([962]), ('10.1016/j.msea.2021.141234', 'Al0.043 Nb0.145 Ti0.522 V0.116 Zr0.174', 756.02576): array([8]), ('10.1016/j.msea.2021.141234', 'Al0.043 Nb0.145 Ti0.522 V0.116 Zr0.174', 869.98912): array([9]), ('10.1016/j.msea.2021.141234', 'Al0.048 Nb0.159 Ti0.476 V0.127 Zr0.19', 789.00992): array([12]), ('10.1016/j.msea.2021.141234', 'Al0.057 Nb0.189 Ti0.377 V0.151 Zr0.226', 983.016): array([24]), ('10.1016/j.msea.2021.141234', 'Al0.057 Nb0.189 Ti0.377 V0.151 Zr0.226', 1079.9856): array([25]), ('10.1016/j.msea.2021.141234', 'Al0.062 Nb0.208 Ti0.312 V0.167 Zr0.25', 1079.99326): array([39]), ('10.1016/j.msea.2021.141234', 'Al0.083 Nb0.139 Ti0.5 V0.111 Zr0.167', 913.97676): array([51]), ('10.1016/j.msea.2021.141234', 'Al0.083 Nb0.139 Ti0.5 V0.111 Zr0.167', 989.0184): array([52]), ('10.1016/j.msea.2021.141234', 'Al0.091 Nb0.152 Ti0.455 V0.121 Zr0.182', 923.00424): array([57]), ('10.1016/j.msea.2021.141234', 'Al0.107 Nb0.179 Ti0.357 V0.143 Zr0.214', 488.00135): array([92]), ('10.1016/j.msea.2021.141234', 'Al0.12 Nb0.133 Ti0.48 V0.107 Zr0.16', 990.99324): array([99]), ('10.1016/j.msea.2021.141234', 'Nb0.152 Ti0.545 V0.121 Zr0.182', 680.01696): array([858]), ('10.1016/j.msea.2021.141234', 'Nb0.167 Ti0.5 V0.133 Zr0.2', 716.01884): array([861]), ('10.1016/j.msea.2021.141234', 'Nb0.2 Ti0.4 V0.16 Zr0.24', 931.99428): array([872]), ('10.1016/j.msea.2021.141234', 'Nb0.222 Ti0.333 V0.178 Zr0.267', 952.97972): array([873]), ('10.1016/j.msea.2021.141908', 'Nb0.333 Ta0.333 V0.333', 920.0): array([944]), ('10.1016/j.msea.2021.141908', 'Nb0.333 Ta0.333 V0.333', 925.0): array([943]), ('10.1016/j.msea.2021.141908', 'Nb0.333 Ta0.333 V0.333', 930.0): array([945]), ('10.1016/j.msec.2016.12.057', 'Mo0.2 Nb0.2 Ta0.2 Ti0.2 Zr0.2', 1390.0): array([722]), ('10.1016/j.mtla.2020.100627', 'Al0.1 Nb0.15 Ta0.05 Ti0.3 Zr0.4', 8.0): array([81]), ('10.1016/j.mtla.2020.100627', 'Al0.1 Nb0.15 Ta0.05 Ti0.3 Zr0.4', 15.6): array([80]), ('10.1016/j.mtla.2020.100627', 'Al0.1 Nb0.15 Ta0.05 Ti0.3 Zr0.4', 30.0): array([79]), ('10.1016/j.mtla.2020.100627', 'Al0.1 Nb0.15 Ta0.05 Ti0.3 Zr0.4', 45.5): array([78]), ('10.1016/j.mtla.2020.100627', 'Al0.1 Nb0.15 Ta0.05 Ti0.3 Zr0.4', 124.0): array([84]), ('10.1016/j.mtla.2020.100627', 'Al0.1 Nb0.15 Ta0.05 Ti0.3 Zr0.4', 145.0): array([77]), ('10.1016/j.mtla.2020.100627', 'Al0.1 Nb0.15 Ta0.05 Ti0.3 Zr0.4', 251.0): array([76]), ('10.1016/j.mtla.2020.100627', 'Al0.1 Nb0.15 Ta0.05 Ti0.3 Zr0.4', 377.0): array([74]), ('10.1016/j.mtla.2020.100627', 'Al0.1 Nb0.15 Ta0.05 Ti0.3 Zr0.4', 561.0): array([75]), ('10.1016/j.mtla.2020.100627', 'Al0.1 Nb0.15 Ta0.05 Ti0.3 Zr0.4', 698.0): array([73]), ('10.1016/j.mtla.2020.100627', 'Al0.1 Nb0.15 Ta0.05 Ti0.3 Zr0.4', 852.0): array([68]), ('10.1016/j.mtla.2020.100627', 'Al0.1 Nb0.15 Ta0.05 Ti0.3 Zr0.4', 913.0): array([66]), ('10.1016/j.mtla.2020.100627', 'Al0.1 Nb0.15 Ta0.05 Ti0.3 Zr0.4', 973.0): array([83]), ('10.1016/j.mtla.2020.100627', 'Al0.1 Nb0.15 Ta0.05 Ti0.3 Zr0.4', 993.0): array([70]), ('10.1016/j.mtla.2020.100627', 'Al0.1 Nb0.15 Ta0.05 Ti0.3 Zr0.4', 1005.0): array([69]), ('10.1016/j.mtla.2020.100627', 'Al0.1 Nb0.15 Ta0.05 Ti0.3 Zr0.4', 1049.0): array([64]), ('10.1016/j.mtla.2020.100627', 'Al0.1 Nb0.15 Ta0.05 Ti0.3 Zr0.4', 1059.0): array([72]), ('10.1016/j.mtla.2020.100627', 'Al0.1 Nb0.15 Ta0.05 Ti0.3 Zr0.4', 1069.0): array([67]), ('10.1016/j.mtla.2020.100627', 'Al0.1 Nb0.15 Ta0.05 Ti0.3 Zr0.4', 1076.0): array([82]), ('10.1016/j.mtla.2020.100627', 'Al0.1 Nb0.15 Ta0.05 Ti0.3 Zr0.4', 1092.0): array([71]), ('10.1016/j.mtla.2020.100627', 'Al0.1 Nb0.15 Ta0.05 Ti0.3 Zr0.4', 1235.0): array([65]), ('10.1016/j.mtla.2021.101057', 'Al0.15 Cr0.2 Nb0.15 Ti0.4 Zr0.1', 60.0): array([140]), ('10.1016/j.mtla.2021.101057', 'Al0.15 Cr0.2 Nb0.15 Ti0.4 Zr0.1', 300.0): array([139]), ('10.1016/j.mtla.2021.101057', 'Al0.15 Cr0.2 Nb0.15 Ti0.4 Zr0.1', 625.0): array([138]), ('10.1016/j.mtla.2021.101057', 'Al0.15 Cr0.2 Nb0.15 Ti0.4 Zr0.1', 1290.0): array([137]), ('10.1016/j.mtla.2021.101057', 'Al0.15 Cr0.2 Nb0.15 Ti0.4 Zr0.1', 1750.0): array([136]), ('10.1016/j.mtla.2021.101057', 'Al0.23 Cr0.2 Nb0.15 Ti0.32 Zr0.1', 130.0): array([218]), ('10.1016/j.mtla.2021.101057', 'Al0.23 Cr0.2 Nb0.15 Ti0.32 Zr0.1', 560.0): array([217]), ('10.1016/j.mtla.2021.101057', 'Al0.23 Cr0.2 Nb0.15 Ti0.32 Zr0.1', 1105.0): array([216]), ('10.1016/j.mtla.2021.101057', 'Al0.28 Cr0.2 Nb0.15 Ti0.27 Zr0.1', 155.0): array([265]), ('10.1016/j.mtla.2021.101057', 'Al0.28 Cr0.2 Nb0.15 Ti0.27 Zr0.1', 810.0): array([264]), ('10.1016/j.mtla.2021.101057', 'Al0.33 Cr0.2 Nb0.15 Ti0.22 Zr0.1', 230.0): array([267]), ('10.1016/j.mtla.2021.101057', 'Cr0.2 Nb0.3 Ti0.4 Zr0.1', 60.0): array([313]), ('10.1016/j.mtla.2021.101057', 'Cr0.2 Nb0.3 Ti0.4 Zr0.1', 205.0): array([312]), ('10.1016/j.mtla.2021.101057', 'Cr0.2 Nb0.3 Ti0.4 Zr0.1', 535.0): array([311]), ('10.1016/j.mtla.2021.101057', 'Cr0.2 Nb0.3 Ti0.4 Zr0.1', 775.0): array([310]), ('10.1016/j.mtla.2021.101057', 'Cr0.2 Nb0.3 Ti0.4 Zr0.1', 1005.0): array([309]), ('10.1016/j.mtla.2021.101057', 'Nb0.3 Ti0.4 Zr0.3', 115.0): array([917]), ('10.1016/j.mtla.2021.101057', 'Nb0.3 Ti0.4 Zr0.3', 125.0): array([916]), ('10.1016/j.mtla.2021.101057', 'Nb0.3 Ti0.4 Zr0.3', 210.0): array([915]), ('10.1016/j.mtla.2021.101057', 'Nb0.3 Ti0.4 Zr0.3', 370.0): array([914]), ('10.1016/j.mtla.2021.101057', 'Nb0.3 Ti0.4 Zr0.3', 605.0): array([918]), ('10.1016/j.mtla.2021.101057', 'Nb0.3 Ti0.4 Zr0.3', 675.0): array([913]), ('10.1016/j.proeng.2012.03.043', 'Al0.059 Nb0.235 Ta0.235 Ti0.235 V0.235', 1330.0): array([30]), ('10.1016/j.proeng.2012.03.043', 'Al0.111 Nb0.222 Ta0.222 Ti0.222 V0.222', 1014.0): array([98]), ('10.1016/j.proeng.2012.03.043', 'Al0.2 Nb0.2 Ta0.2 Ti0.2 V0.2', 993.0): array([197]), ('10.1016/j.proeng.2012.03.043', 'Nb0.25 Ta0.25 Ti0.25 V0.25', 1092.0): array([885]), ('10.1016/j.scriptamat.2016.10.028', 'Mo0.2 Nb0.2 Ta0.2 Ti0.2 Zr0.2', 1100.0): array([724]), ('10.1016/j.scriptamat.2016.10.028', 'Mo0.2 Nb0.2 Ta0.2 Ti0.2 Zr0.2', 1375.0): array([723]), ('10.1016/j.scriptamat.2019.07.033', 'Al0.143 Mo0.286 Ta0.286 Ti0.286', 969.0): array([121]), ('10.1016/j.scriptamat.2019.07.033', 'Al0.143 Mo0.286 Ta0.286 Ti0.286', 1085.0): array([122]), ('10.1016/j.scriptamat.2020.07.006', 'Hf0.05 Nb0.55 Ta0.25 Ti0.15', 512.0): array([358]), ('10.1016/j.scriptamat.2020.07.006', 'Hf0.05 Nb0.55 Ta0.25 Ti0.15', 531.0): array([357]), ('10.1016/j.scriptamat.2020.07.006', 'Hf0.05 Nb0.55 Ta0.25 Ti0.15', 802.0): array([356]), ('10.1016/j.scriptamat.2020.07.006', 'Hf0.25 Nb0.25 Ta0.25 V0.25', 1100.0): array([602]), ('10.1016/j.scriptamat.2020.09.027', 'Mo0.25 Nb0.25 Ta0.25 V0.25', 813.0): array([797]), ('10.1016/j.scriptamat.2020.09.027', 'Mo0.25 Nb0.25 Ta0.25 V0.25', 935.0): array([796]), ('10.1016/j.scriptamat.2020.09.027', 'Mo0.25 Nb0.25 Ta0.25 V0.25', 1257.0): array([795]), ('10.1016/j.scriptamat.2021.113919', 'Hf0.2 Nb0.2 Ta0.2 Ti0.2 Zr0.2', 689.0): array([561]), ('10.1016/j.scriptamat.2021.113919', 'Hf0.2 Nb0.2 Ta0.2 Ti0.2 Zr0.2', 698.0): array([562]), ('10.1016/j.scriptamat.2021.113919', 'Hf0.2 Nb0.2 Ta0.2 Ti0.2 Zr0.2', 717.5): array([557]), ('10.1016/j.scriptamat.2021.113919', 'Hf0.2 Nb0.2 Ta0.2 Ti0.2 Zr0.2', 722.4): array([558]), ('10.1016/j.scriptamat.2021.113919', 'Hf0.2 Nb0.2 Ta0.2 Ti0.2 Zr0.2', 734.3): array([554]), ('10.1016/j.scriptamat.2021.113919', 'Hf0.2 Nb0.2 Ta0.2 Ti0.2 Zr0.2', 734.8): array([560]), ('10.1016/j.scriptamat.2021.113919', 'Hf0.2 Nb0.2 Ta0.2 Ti0.2 Zr0.2', 759.0): array([556]), ('10.1016/j.scriptamat.2021.113919', 'Hf0.2 Nb0.2 Ta0.2 Ti0.2 Zr0.2', 805.7): array([559]), ('10.1016/j.scriptamat.2021.113919', 'Hf0.2 Nb0.2 Ta0.2 Ti0.2 Zr0.2', 817.4): array([552]), ('10.1016/j.scriptamat.2021.113919', 'Hf0.2 Nb0.2 Ta0.2 Ti0.2 Zr0.2', 819.1): array([553]), ('10.1016/j.scriptamat.2021.113919', 'Hf0.2 Nb0.2 Ta0.2 Ti0.2 Zr0.2', 854.0): array([555]), ('10.1016/j.scriptamat.2021.114225', 'Hf0.2 Nb0.1 Ti0.35 Zr0.35', 524.0): array([455]), ('10.1016/j.scriptamat.2021.114225', 'Hf0.2 Nb0.1 Ti0.35 Zr0.35', 844.0): array([459]), ('10.1016/j.scriptamat.2021.114225', 'Hf0.2 Nb0.1 Ti0.35 Zr0.35', 855.0): array([460]), ('10.1016/j.scriptamat.2021.114225', 'Hf0.2 Nb0.1 Ti0.35 Zr0.35', 877.0): array([458]), ('10.1016/j.scriptamat.2021.114225', 'Hf0.2 Nb0.1 Ti0.35 Zr0.35', 952.0): array([457]), ('10.1016/j.scriptamat.2021.114225', 'Hf0.2 Nb0.1 Ti0.35 Zr0.35', 1031.0): array([456]), ('10.1016/j.vacuum.2020.109614', 'Al0.2 Cr0.21 Mo0.27 Ti0.22 W0.1', 105.0): array([189]), ('10.1016/j.vacuum.2020.109614', 'Al0.2 Cr0.21 Mo0.27 Ti0.22 W0.1', 201.0): array([188]), ('10.1016/j.vacuum.2020.109614', 'Al0.2 Cr0.21 Mo0.27 Ti0.22 W0.1', 510.0): array([187]), ('10.1016/j.vacuum.2020.109614', 'Al0.2 Cr0.21 Mo0.27 Ti0.22 W0.1', 1245.0): array([186]), ('10.1038/s41563-020-0750-4', 'Hf0.24 Nb0.23 Ti0.38 V0.15', 774.0): array([588]), ('10.1038/s41563-020-0750-4', 'Hf0.25 Nb0.25 Ti0.25 V0.25', 1004.0): array([611]), ('10.1063/1.4966659', 'Hf0.125 Nb0.125 Ta0.125 Ti0.375 Zr0.25', 903.0): array([385]), ('10.1080/02670836.2018.1446267', 'Al0.25 Nb0.25 Ti0.25 Zr0.25', 1509.0): array([261]), ('10.1080/02670836.2018.1446267', 'Al0.25 Nb0.25 Ti0.25 Zr0.25', 1579.0): array([262]), ('10.1080/14786435.2015.1028506', 'Hf0.08 Nb0.307 Ta0.307 Ti0.178 Zr0.128', 590.0): array([363]), ('10.1080/14786435.2015.1028506', 'Hf0.08 Nb0.307 Ta0.307 Ti0.178 Zr0.128', 650.0): array([362]), ('10.1080/14786435.2015.1028506', 'Hf0.08 Nb0.307 Ta0.307 Ti0.178 Zr0.128', 765.0): array([361]), ('10.1080/14786435.2015.1028506', 'Hf0.08 Nb0.307 Ta0.307 Ti0.178 Zr0.128', 795.0): array([360]), ('10.1080/14786435.2015.1028506', 'Hf0.08 Nb0.307 Ta0.307 Ti0.178 Zr0.128', 845.0): array([359]), ('10.1080/21663831.2016.1221861', 'Hf0.275 Nb0.05 Ta0.05 Ti0.35 Zr0.275', 540.0): array([626]), ('10.1080/21663831.2019.1610105', 'Hf0.25 Nb0.25 Ta0.25 Ti0.25', 762.0): array([599]), ('10.1080/21663831.2019.1610105', 'Hf0.25 Nb0.25 Ta0.25 Zr0.25', 1046.0): array([608]), ('10.1080/21663831.2019.1610105', 'Hf0.25 Nb0.25 Ti0.25 Zr0.25', 783.0): array([618]), ('10.1080/21663831.2019.1610105', 'Hf0.333 Nb0.333 Ti0.333', 613.0): array([637]), ('10.1080/21663831.2019.1610105', 'Nb0.25 Ta0.25 Ti0.25 Zr0.25', 876.0): array([894]), ('10.1080/21663831.2019.1610105', 'Nb0.333 Ti0.333 Zr0.333', 749.0): array([952]), ('10.1080/21663831.2019.1610105', 'Nb0.5 Ti0.5', 354.0): array([956]), ('10.1088/1757-899X/1014/1/012041', 'Al0.15 Hf0.15 Nb0.2 Ta0.1 Ti0.4', 700.0): array([142]), ('10.1088/1757-899X/1014/1/012041', 'Al0.15 Hf0.15 Nb0.2 Ta0.1 Ti0.4', 1075.0): array([141]), ('10.1088/1757-899X/1014/1/012041', 'Al0.15 Hf0.15 Nb0.3 Ti0.4', 635.0): array([148]), ('10.1088/1757-899X/1014/1/012041', 'Al0.15 Hf0.15 Nb0.3 Ti0.4', 830.0): array([147]), ('10.1088/1757-899X/1014/1/012041', 'Al0.25 Hf0.25 Nb0.125 Ti0.375', 810.0): array([234]), ('10.1088/1757-899X/1014/1/012041', 'Al0.25 Hf0.25 Nb0.125 Ti0.375', 1645.0): array([233]), ('10.1179/1743284715Y.0000000032', 'Al0.25 Nb0.25 Ti0.25 Zr0.25', 1080.0): array([263]), ('10.2320/matertrans.MT-MK2019003', 'Hf0.25 Nb0.25 Ta0.25 Ti0.25', 775.0): array([601]), ('10.2320/matertrans.MT-MK2019003', 'Hf0.25 Nb0.25 Ta0.25 Ti0.25', 800.0): array([600]), ('10.2320/matertrans.MT-MK2019003', 'Hf0.25 Nb0.25 Ta0.25 Zr0.25', 860.0): array([610]), ('10.2320/matertrans.MT-MK2019003', 'Hf0.25 Nb0.25 Ta0.25 Zr0.25', 1025.0): array([609]), ('10.2320/matertrans.MT-MK2019003', 'Hf0.25 Nb0.25 Ti0.25 Zr0.25', 615.0): array([620]), ('10.2320/matertrans.MT-MK2019003', 'Hf0.25 Nb0.25 Ti0.25 Zr0.25', 635.0): array([619]), ('10.2320/matertrans.MT-MK2019003', 'Hf0.25 Ta0.25 Ti0.25 Zr0.25', 875.0): array([623]), ('10.2320/matertrans.MT-MK2019003', 'Hf0.25 Ta0.25 Ti0.25 Zr0.25', 1060.0): array([624]), ('10.2320/matertrans.MT-MK2019003', 'Nb0.25 Ta0.25 Ti0.25 Zr0.25', 920.0): array([896]), ('10.2320/matertrans.MT-MK2019003', 'Nb0.25 Ta0.25 Ti0.25 Zr0.25', 975.0): array([895]), ('10.3390/e16020870', 'Al0.059 Mo0.235 Nb0.235 Ti0.235 V0.235', 1250.0): array([29]), ('10.3390/e16020870', 'Al0.111 Mo0.222 Nb0.222 Ti0.222 V0.222', 1625.0): array([97]), ('10.3390/e16020870', 'Al0.158 Mo0.211 Nb0.211 Ti0.211 V0.211', 1260.0): array([149]), ('10.3390/e16020870', 'Al0.2 Mo0.2 Nb0.2 Ti0.2 V0.2', 1375.0): array([195]), ('10.3390/e16020870', 'Mo0.25 Nb0.25 Ti0.25 V0.25', 1200.0): array([817]), ('10.3390/e18050189', 'Mo0.25 Nb0.25 Ta0.25 V0.25', 1525.0): array([798]), ('10.3390/e21010015', 'Hf0.2 Mo0.2 Nb0.2 Ta0.2 Ti0.2', 367.0): array([434]), ('10.3390/e21010015', 'Hf0.2 Mo0.2 Nb0.2 Ta0.2 Ti0.2', 699.0): array([433]), ('10.3390/e21010015', 'Hf0.2 Mo0.2 Nb0.2 Ta0.2 Ti0.2', 778.0): array([432]), ('10.3390/e21010015', 'Hf0.2 Mo0.2 Nb0.2 Ta0.2 Ti0.2', 822.0): array([431]), ('10.3390/e21010015', 'Hf0.2 Mo0.2 Nb0.2 Ta0.2 Ti0.2', 1369.0): array([430]), ('10.3390/e21010015', 'Hf0.2 Mo0.2 Nb0.2 Ta0.2 Zr0.2', 278.0): array([440]), ('10.3390/e21010015', 'Hf0.2 Mo0.2 Nb0.2 Ta0.2 Zr0.2', 694.0): array([439]), ('10.3390/e21010015', 'Hf0.2 Mo0.2 Nb0.2 Ta0.2 Zr0.2', 927.0): array([438]), ('10.3390/e21010015', 'Hf0.2 Mo0.2 Nb0.2 Ta0.2 Zr0.2', 1005.0): array([437]), ('10.3390/e21010015', 'Hf0.2 Mo0.2 Nb0.2 Ta0.2 Zr0.2', 1524.0): array([436]), ('10.3390/e21010015', 'Hf0.2 Mo0.2 Nb0.2 Ti0.2 Zr0.2', 301.0): array([450]), ('10.3390/e21010015', 'Hf0.2 Mo0.2 Nb0.2 Ti0.2 Zr0.2', 721.0): array([449]), ('10.3390/e21010015', 'Hf0.2 Mo0.2 Nb0.2 Ti0.2 Zr0.2', 829.0): array([448]), ('10.3390/e21010015', 'Hf0.2 Mo0.2 Nb0.2 Ti0.2 Zr0.2', 1351.0): array([447]), ('10.3390/e21020114', 'Hf0.2 Nb0.2 Ta0.2 Ti0.2 Zr0.2', 1155.0): array([563]), ('10.3390/e21020114', 'Nb0.25 Ta0.25 Ti0.25 Zr0.25', 1144.0): array([897]), ('10.3390/e21020114', 'Nb0.333 Ta0.333 Ti0.333', 620.0): array([942]), ('10.3390/e21020114', 'Nb0.333 Ti0.333 Zr0.333', 956.0): array([953]), ('10.3390/e21020114', 'Nb0.375 Ta0.25 Ti0.25 Zr0.125', 822.0): array([954]), ('10.4028/www.scientific.net/MSF.849.76', 'Hf0.182 Nb0.182 Si0.091 Ti0.182 V0.182 Zr0.182', 102.0): array([428]), ('10.4028/www.scientific.net/MSF.849.76', 'Hf0.182 Nb0.182 Si0.091 Ti0.182 V0.182 Zr0.182', 371.0): array([427]), ('10.4028/www.scientific.net/MSF.849.76', 'Hf0.182 Nb0.182 Si0.091 Ti0.182 V0.182 Zr0.182', 597.0): array([426]), ('10.4028/www.scientific.net/MSF.849.76', 'Hf0.182 Nb0.182 Si0.091 Ti0.182 V0.182 Zr0.182', 920.0): array([425]), ('10.4028/www.scientific.net/MSF.849.76', 'Hf0.182 Nb0.182 Si0.091 Ti0.182 V0.182 Zr0.182', 1273.0): array([424]), ('10.4028/www.scientific.net/MSF.849.76', 'Hf0.182 Nb0.182 Si0.091 Ti0.182 V0.182 Zr0.182', 1483.0): array([423]), ('10.4028/www.scientific.net/MSF.849.76', 'Hf0.182 Nb0.182 Si0.091 Ti0.182 V0.182 Zr0.182', 1540.0): array([422]), ('10.4028/www.scientific.net/MSF.898.638', 'Al0.048 Mo0.238 Ta0.238 Ti0.238 V0.238', 1021.0): array([11]), ('10.4028/www.scientific.net/MSF.898.638', 'Al0.13 Mo0.217 Ta0.217 Ti0.217 V0.217', 962.0): array([120]), ('10.4028/www.scientific.net/MSF.898.638', 'Mo0.25 Ta0.25 Ti0.25 V0.25', 1221.0): array([824])}\n"
     ]
    }
   ]
  },
  {
   "cell_type": "code",
   "source": [
    "v_groups = {group:indices for group, indices in gb.indices.items() if len(indices) > 1}\n",
    "v_groups"
   ],
   "metadata": {
    "colab": {
     "base_uri": "https://localhost:8080/"
    },
    "id": "eP_HbFSPPlC8",
    "executionInfo": {
     "status": "ok",
     "timestamp": 1707858581819,
     "user_tz": 300,
     "elapsed": 114,
     "user": {
      "displayName": "Satanu Ghosh",
      "userId": "07683061709303200546"
     }
    },
    "outputId": "a67cbb1f-62e6-4352-b623-ea254941da6e",
    "ExecuteTime": {
     "end_time": "2024-05-20T18:20:05.788677700Z",
     "start_time": "2024-05-20T18:20:05.738827200Z"
    }
   },
   "execution_count": 12,
   "outputs": [
    {
     "data": {
      "text/plain": "{('10.1016/j.actamat.2019.06.006',\n  'Al0.25 Nb0.25 Ta0.25 Ti0.25',\n  740.0): array([249, 250]),\n ('10.1016/j.actamat.2019.06.006',\n  'Cr0.25 Mo0.25 Ta0.25 Ti0.25',\n  1162.0): array([330, 331]),\n ('10.1016/j.msea.2017.10.073',\n  'Hf0.15 Nb0.2 Ta0.1 Ti0.3 Zr0.25',\n  1020.0): array([402, 409]),\n ('10.1016/j.msea.2017.10.073',\n  'Hf0.15 Nb0.2 Ta0.1 Ti0.3 Zr0.25',\n  1370.0): array([396, 400])}"
     },
     "execution_count": 12,
     "metadata": {},
     "output_type": "execute_result"
    }
   ]
  },
  {
   "cell_type": "code",
   "source": [
    "pd.set_option(\"display.max_columns\", None)\n",
    "paper_df.iloc[[396, 400]]"
   ],
   "metadata": {
    "colab": {
     "base_uri": "https://localhost:8080/",
     "height": 340
    },
    "id": "FT96UdXzQS5E",
    "executionInfo": {
     "status": "ok",
     "timestamp": 1707858581819,
     "user_tz": 300,
     "elapsed": 93,
     "user": {
      "displayName": "Satanu Ghosh",
      "userId": "07683061709303200546"
     }
    },
    "outputId": "ea5d68d9-348a-45e1-ad72-b7b929c22905",
    "ExecuteTime": {
     "end_time": "2024-05-20T18:20:07.157188600Z",
     "start_time": "2024-05-20T18:20:07.063152600Z"
    }
   },
   "execution_count": 13,
   "outputs": [
    {
     "data": {
      "text/plain": "     IDENTIFIER: Reference ID                          FORMULA  \\\n396                        74  Hf0.15 Nb0.2 Ta0.1 Ti0.3 Zr0.25   \n400                        74  Hf0.15 Nb0.2 Ta0.1 Ti0.3 Zr0.25   \n\n    PROPERTY: Microstructure PROPERTY: Processing method  \\\n396                      BCC                     WROUGHT   \n400                      BCC                     WROUGHT   \n\n    PROPERTY: BCC/FCC/other  PROPERTY: grain size ($\\mu$m)  \\\n396                     BCC                            NaN   \n400                     BCC                            NaN   \n\n     PROPERTY: Exp. Density (g/cm$^3$)  PROPERTY: Computed Density (g/cm$^3$)  \\\n396                                NaN                                    8.4   \n400                                NaN                                    8.4   \n\n     PROPERTY: HV PROPERTY: Type of test  \\\n396           NaN                      C   \n400           NaN                      C   \n\n     PROPERTY: Test temperature ($^\\circ$C)  PROPERTY: YS (MPa)  \\\n396                                  -153.0              1370.0   \n400                                  -103.0              1370.0   \n\n     PROPERTY: UTS (MPa)  PROPERTY: Elongation (%)  \\\n396                  NaN                       NaN   \n400                  NaN                       NaN   \n\n     PROPERTY: Elongation plastic (%)  PROPERTY: Exp. Young modulus (GPa)  \\\n396                               NaN                                 NaN   \n400                               NaN                                 NaN   \n\n     PROPERTY: Computed Young modulus (GPa)  PROPERTY: O content (wppm)  \\\n396                                   103.0                         NaN   \n400                                   103.0                         NaN   \n\n     PROPERTY: N content (wppm)  PROPERTY: C content (wppm)  \\\n396                         NaN                         NaN   \n400                         NaN                         NaN   \n\n                 REFERENCE: doi  REFERENCE: year  \\\n396  10.1016/j.msea.2017.10.073           2018.0   \n400  10.1016/j.msea.2017.10.073           2018.0   \n\n                                      REFERENCE: title  \n396  Mechanical properties and thermally activated ...  \n400  Mechanical properties and thermally activated ...  ",
      "text/html": "<div>\n<style scoped>\n    .dataframe tbody tr th:only-of-type {\n        vertical-align: middle;\n    }\n\n    .dataframe tbody tr th {\n        vertical-align: top;\n    }\n\n    .dataframe thead th {\n        text-align: right;\n    }\n</style>\n<table border=\"1\" class=\"dataframe\">\n  <thead>\n    <tr style=\"text-align: right;\">\n      <th></th>\n      <th>IDENTIFIER: Reference ID</th>\n      <th>FORMULA</th>\n      <th>PROPERTY: Microstructure</th>\n      <th>PROPERTY: Processing method</th>\n      <th>PROPERTY: BCC/FCC/other</th>\n      <th>PROPERTY: grain size ($\\mu$m)</th>\n      <th>PROPERTY: Exp. Density (g/cm$^3$)</th>\n      <th>PROPERTY: Computed Density (g/cm$^3$)</th>\n      <th>PROPERTY: HV</th>\n      <th>PROPERTY: Type of test</th>\n      <th>PROPERTY: Test temperature ($^\\circ$C)</th>\n      <th>PROPERTY: YS (MPa)</th>\n      <th>PROPERTY: UTS (MPa)</th>\n      <th>PROPERTY: Elongation (%)</th>\n      <th>PROPERTY: Elongation plastic (%)</th>\n      <th>PROPERTY: Exp. Young modulus (GPa)</th>\n      <th>PROPERTY: Computed Young modulus (GPa)</th>\n      <th>PROPERTY: O content (wppm)</th>\n      <th>PROPERTY: N content (wppm)</th>\n      <th>PROPERTY: C content (wppm)</th>\n      <th>REFERENCE: doi</th>\n      <th>REFERENCE: year</th>\n      <th>REFERENCE: title</th>\n    </tr>\n  </thead>\n  <tbody>\n    <tr>\n      <th>396</th>\n      <td>74</td>\n      <td>Hf0.15 Nb0.2 Ta0.1 Ti0.3 Zr0.25</td>\n      <td>BCC</td>\n      <td>WROUGHT</td>\n      <td>BCC</td>\n      <td>NaN</td>\n      <td>NaN</td>\n      <td>8.4</td>\n      <td>NaN</td>\n      <td>C</td>\n      <td>-153.0</td>\n      <td>1370.0</td>\n      <td>NaN</td>\n      <td>NaN</td>\n      <td>NaN</td>\n      <td>NaN</td>\n      <td>103.0</td>\n      <td>NaN</td>\n      <td>NaN</td>\n      <td>NaN</td>\n      <td>10.1016/j.msea.2017.10.073</td>\n      <td>2018.0</td>\n      <td>Mechanical properties and thermally activated ...</td>\n    </tr>\n    <tr>\n      <th>400</th>\n      <td>74</td>\n      <td>Hf0.15 Nb0.2 Ta0.1 Ti0.3 Zr0.25</td>\n      <td>BCC</td>\n      <td>WROUGHT</td>\n      <td>BCC</td>\n      <td>NaN</td>\n      <td>NaN</td>\n      <td>8.4</td>\n      <td>NaN</td>\n      <td>C</td>\n      <td>-103.0</td>\n      <td>1370.0</td>\n      <td>NaN</td>\n      <td>NaN</td>\n      <td>NaN</td>\n      <td>NaN</td>\n      <td>103.0</td>\n      <td>NaN</td>\n      <td>NaN</td>\n      <td>NaN</td>\n      <td>10.1016/j.msea.2017.10.073</td>\n      <td>2018.0</td>\n      <td>Mechanical properties and thermally activated ...</td>\n    </tr>\n  </tbody>\n</table>\n</div>"
     },
     "execution_count": 13,
     "metadata": {},
     "output_type": "execute_result"
    }
   ]
  },
  {
   "cell_type": "markdown",
   "source": [
    "# Read extraction jsons"
   ],
   "metadata": {
    "id": "HPSH4RKVmtVg"
   }
  },
  {
   "cell_type": "code",
   "source": [
    "os.listdir(extraction_dir)\n"
   ],
   "metadata": {
    "colab": {
     "base_uri": "https://localhost:8080/"
    },
    "id": "VTUMHqSlmwAF",
    "executionInfo": {
     "status": "ok",
     "timestamp": 1707858581819,
     "user_tz": 300,
     "elapsed": 92,
     "user": {
      "displayName": "Satanu Ghosh",
      "userId": "07683061709303200546"
     }
    },
    "outputId": "166f0ec3-3145-44c6-f7ff-ae9d71d9c413",
    "ExecuteTime": {
     "end_time": "2024-05-20T18:20:11.897053100Z",
     "start_time": "2024-05-20T18:20:11.842038800Z"
    }
   },
   "execution_count": 14,
   "outputs": [
    {
     "data": {
      "text/plain": "['10.1016.j.matlet.2020.127372.jsonl',\n '10.1016.j.mtla.2020.100627.jsonl',\n 'failed_DOIs.json',\n '10.1016.j.actamat.2019.06.006.jsonl',\n '10.1016.j.intermet.2019.01.004.jsonl',\n '10.1007.s00339-019-2484-1.jsonl',\n '10.3390.e16020870.jsonl',\n '10.1080.21663831.2016.1221861.jsonl',\n '10.1016.j.ijrmhm.2020.105195.jsonl',\n '10.1016.j.msea.2016.07.102.jsonl',\n '10.1007.s42864-021-00111-8.jsonl',\n '10.1016.j.actamat.2019.06.032.jsonl',\n '10.1016.j.jallcom.2014.11.064.jsonl',\n '10.1016.j.msea.2017.10.073.jsonl',\n '10.1016.j.ijrmhm.2019.105132.jsonl',\n '10.1016.j.matlet.2014.11.162.jsonl',\n '10.1016.j.msea.2021.141908.jsonl',\n '10.1016.j.msea.2012.12.018.jsonl',\n '10.1016.j.msea.2020.139774.jsonl',\n '10.1007.s11837-020-04557-y.jsonl',\n '10.1016.j.actamat.2016.01.018.jsonl',\n '10.1007.s11837-012-0366-5.jsonl',\n '10.1016.j.scriptamat.2021.113919.jsonl',\n '10.1016.j.msea.2017.12.021.jsonl',\n '10.1016.j.scriptamat.2019.07.033.jsonl',\n '10.1016.j.intermet.2015.03.013.jsonl',\n '10.1016.j.matlet.2016.08.060.jsonl',\n '10.1016.j.vacuum.2020.109614.jsonl',\n '10.1002.adem.200300567.jsonl',\n '10.1016.j.ijrmhm.2020.105467.jsonl',\n '10.1016.j.ijrmhm.2020.105322.jsonl',\n '10.1016.j.matlet.2016.03.133.jsonl',\n '10.1016.j.matlet.2016.11.030.jsonl',\n '10.1016.j.matdes.2017.11.033.jsonl',\n '10.1016.j.intermet.2019.04.003.jsonl',\n '10.1016.j.jallcom.2020.155700.jsonl',\n '10.1016.j.jallcom.2016.10.014.jsonl',\n '10.1016.j.msea.2021.141168.jsonl',\n '10.1016.j.jallcom.2018.11.111.jsonl',\n '10.1016.j.jmst.2020.05.038.jsonl',\n '10.1016.j.matchar.2021.111287.jsonl',\n '10.1016.j.intermet.2021.107323.jsonl',\n '10.1016.j.actamat.2018.08.053.jsonl',\n '10.1016.j.ijrmhm.2019.02.009.jsonl',\n '10.3390.met11030514.jsonl',\n '10.1016.j.jallcom.2020.158003.jsonl',\n '10.1016.j.scriptamat.2021.114225.jsonl',\n '10.1016.j.matchar.2015.11.018.jsonl',\n '10.1016.j.jallcom.2021.159740.jsonl',\n '10.1016.j.ijrmhm.2014.07.009.jsonl',\n '10.1016.j.msea.2021.141234.jsonl',\n '10.1002.adma.201701678.jsonl',\n '10.1016.j.matdes.2015.06.072.jsonl',\n '10.1016.j.matlet.2014.05.134.jsonl',\n '10.1038.s41467-019-10533-1.jsonl',\n '10.1016.j.actamat.2017.09.035.jsonl',\n '10.1016.j.msec.2016.12.057.jsonl',\n '10.1016.j.proeng.2012.03.043.jsonl',\n '10.4028.www.scientific.net.MSF.898.638.jsonl',\n '10.1002.adem.202100765.jsonl',\n '10.1007.s11661-018-4646-8.jsonl',\n '10.1016.j.msea.2021.140848.jsonl',\n '10.1016.j.scriptamat.2016.10.028.jsonl',\n '10.1007.s11665-017-2799-z.jsonl',\n '10.1016.j.matchemphys.2017.06.054.jsonl',\n '10.1016.j.matlet.2015.08.099.jsonl',\n '10.1016.j.intermet.2020.106928.jsonl',\n '10.1007.s11837-019-03432-9.jsonl',\n '10.1016.j.matdes.2018.06.003.jsonl',\n '10.1016.j.jallcom.2019.05.322.jsonl',\n '10.3390.e18050189.jsonl',\n '10.1016.j.matlet.2019.03.075.jsonl',\n '10.3390.e21020114.jsonl',\n '10.1088.1757-899X.1014.1.012041.jsonl',\n '10.1016.j.intermet.2011.01.004.jsonl',\n '10.1016.j.jallcom.2018.10.230.jsonl',\n '10.1016.j.jallcom.2019.06.138.jsonl',\n '10.3390.e21010015.jsonl',\n '10.1016.j.msea.2021.140798.jsonl',\n '10.1080.14786435.2015.1028506.jsonl',\n '10.1016.j.msea.2021.140983.jsonl',\n '10.1016.j.matchar.2018.07.015.jsonl',\n '10.1016.j.actamat.2017.09.062.jsonl',\n '10.1007.s12598-019-01310-6.jsonl',\n '10.1016.j.jallcom.2020.154301.jsonl',\n '10.1016.j.scriptamat.2020.09.027.jsonl',\n '10.1016.j.intermet.2017.01.007.jsonl',\n '10.1016.j.jallcom.2021.161187.jsonl',\n '10.1080.21663831.2019.1610105.jsonl',\n '10.1016.j.matlet.2021.129428.jsonl',\n '10.1016.j.jallcom.2021.159190.jsonl',\n '10.1016.j.matlet.2016.03.092.jsonl',\n '10.1080.02670836.2018.1446267.jsonl',\n '10.1016.j.msea.2003.12.011.jsonl',\n '10.1016.j.jallcom.2015.07.209.jsonl',\n '10.1179.1743284715Y.0000000032.jsonl',\n '10.4028.www.scientific.net.MSF.849.76.jsonl',\n '10.1016.j.jmst.2020.10.073.jsonl',\n '10.1007.s40195-019-00921-3.jsonl',\n '10.1016.j.ijrmhm.2021.105664.jsonl',\n '10.1016.j.intermet.2015.10.011.jsonl',\n '10.1016.j.mtla.2021.101057.jsonl',\n '10.1016.j.msea.2020.139275.jsonl',\n '10.1016.j.intermet.2015.09.011.jsonl',\n '10.1016.j.msea.2017.12.004.jsonl',\n '10.1016.j.msea.2015.12.017.jsonl',\n '10.1007.s10853-012-6260-2.jsonl',\n '10.1016.j.msea.2015.08.024.jsonl',\n '10.1016.j.scriptamat.2020.07.006.jsonl',\n '10.1007.s40195-019-00935-x.jsonl',\n '10.2320.matertrans.MT-MK2019003].jsonl',\n '10.1016.j.jallcom.2016.11.188.jsonl',\n '10.1016.j.ijrmhm.2020.105370.jsonl',\n '10.1016.j.jallcom.2015.11.091.jsonl',\n '10.1016.j.jmst.2020.07.012.jsonl',\n '10.1038.s41563-020-0750-4.jsonl',\n '10.1016.j.matdes.2015.05.019.jsonl']"
     },
     "execution_count": 14,
     "metadata": {},
     "output_type": "execute_result"
    }
   ]
  },
  {
   "cell_type": "code",
   "source": [
    "import json\n",
    "extraction_dfs = []\n",
    "extraction_dois = set()\n",
    "for extraction_fn in os.listdir(extraction_dir):\n",
    "  if extraction_fn == 'failed_DOIs.json':\n",
    "    continue\n",
    "  print(extraction_fn)\n",
    "  extraction_path = os.path.join(extraction_dir, extraction_fn)\n",
    "  with open(extraction_path) as f:\n",
    "    obj = json.load(f)\n",
    "\n",
    "  doi = extraction_fn.replace('.jsonl','')\n",
    "  extraction_dois.add(doi)\n",
    "  \n",
    "  try:\n",
    "    df = pd.DataFrame(obj)\n",
    "    df['doi'] = doi\n",
    "    \n",
    "  except:\n",
    "    print(extraction_fn)\n",
    "    print(obj)\n",
    "    continue\n",
    "  \n",
    "  \n",
    "  extraction_dfs.append(df)\n",
    "  \n",
    "  \n",
    "  \n",
    "  ''' commenting out everything below this line for time being\n",
    "  \n",
    "  # if 'extracted_info' in obj['extracted_info'].keys():\n",
    "  #   print('a list of dict with key')\n",
    "  # else:\n",
    "  #   print(obj['extracted_info'])\n",
    "\n",
    "  # Slightly redundant schema\n",
    "  pprint(obj['extracted_info'])\n",
    "  records = [entry['extracted_info'] if 'extracted_info' in obj['extracted_info'].keys() else entry for entry in obj['extracted_info']]\n",
    "  pprint(records)\n",
    "  df = pd.DataFrame(records)\n",
    "  df['doi'] = doi\n",
    "\n",
    "  display(df.shape)\n",
    "  display(df.head(1))\n",
    "  extraction_dfs.append(df)\n",
    "  print('\\n','*'*50,'\\n')\n",
    "  '''\n",
    "\n",
    "print('Extraction DFs:',len(extraction_dfs))"
   ],
   "metadata": {
    "colab": {
     "base_uri": "https://localhost:8080/",
     "height": 1000
    },
    "id": "Gj841APAm8HY",
    "executionInfo": {
     "status": "ok",
     "timestamp": 1707858592245,
     "user_tz": 300,
     "elapsed": 10514,
     "user": {
      "displayName": "Satanu Ghosh",
      "userId": "07683061709303200546"
     }
    },
    "outputId": "700cfa41-e8cd-42ff-bf62-4934e7d78a09",
    "ExecuteTime": {
     "end_time": "2024-05-20T19:55:59.263212800Z",
     "start_time": "2024-05-20T19:55:59.138680300Z"
    }
   },
   "execution_count": 64,
   "outputs": [
    {
     "name": "stdout",
     "output_type": "stream",
     "text": [
      "10.1016.j.matlet.2020.127372.jsonl\n",
      "10.1016.j.mtla.2020.100627.jsonl\n",
      "10.1016.j.actamat.2019.06.006.jsonl\n",
      "10.1016.j.intermet.2019.01.004.jsonl\n",
      "10.1007.s00339-019-2484-1.jsonl\n",
      "10.3390.e16020870.jsonl\n",
      "10.1080.21663831.2016.1221861.jsonl\n",
      "10.1016.j.ijrmhm.2020.105195.jsonl\n",
      "10.1016.j.msea.2016.07.102.jsonl\n",
      "10.1007.s42864-021-00111-8.jsonl\n",
      "10.1016.j.actamat.2019.06.032.jsonl\n",
      "10.1016.j.jallcom.2014.11.064.jsonl\n",
      "10.1016.j.msea.2017.10.073.jsonl\n",
      "10.1016.j.ijrmhm.2019.105132.jsonl\n",
      "10.1016.j.matlet.2014.11.162.jsonl\n",
      "10.1016.j.msea.2021.141908.jsonl\n",
      "10.1016.j.msea.2012.12.018.jsonl\n",
      "10.1016.j.msea.2020.139774.jsonl\n",
      "10.1007.s11837-020-04557-y.jsonl\n",
      "10.1016.j.actamat.2016.01.018.jsonl\n",
      "10.1007.s11837-012-0366-5.jsonl\n",
      "10.1016.j.scriptamat.2021.113919.jsonl\n",
      "10.1016.j.msea.2017.12.021.jsonl\n",
      "10.1016.j.scriptamat.2019.07.033.jsonl\n",
      "10.1016.j.intermet.2015.03.013.jsonl\n",
      "10.1016.j.matlet.2016.08.060.jsonl\n",
      "10.1016.j.vacuum.2020.109614.jsonl\n",
      "10.1002.adem.200300567.jsonl\n",
      "10.1016.j.ijrmhm.2020.105467.jsonl\n",
      "10.1016.j.ijrmhm.2020.105322.jsonl\n",
      "10.1016.j.matlet.2016.03.133.jsonl\n",
      "10.1016.j.matlet.2016.11.030.jsonl\n",
      "10.1016.j.matdes.2017.11.033.jsonl\n",
      "10.1016.j.intermet.2019.04.003.jsonl\n",
      "10.1016.j.jallcom.2020.155700.jsonl\n",
      "10.1016.j.jallcom.2016.10.014.jsonl\n",
      "10.1016.j.msea.2021.141168.jsonl\n",
      "10.1016.j.jallcom.2018.11.111.jsonl\n",
      "10.1016.j.jmst.2020.05.038.jsonl\n",
      "10.1016.j.matchar.2021.111287.jsonl\n",
      "10.1016.j.intermet.2021.107323.jsonl\n",
      "10.1016.j.actamat.2018.08.053.jsonl\n",
      "10.1016.j.ijrmhm.2019.02.009.jsonl\n",
      "10.3390.met11030514.jsonl\n",
      "10.1016.j.jallcom.2020.158003.jsonl\n",
      "10.1016.j.scriptamat.2021.114225.jsonl\n",
      "10.1016.j.matchar.2015.11.018.jsonl\n",
      "10.1016.j.jallcom.2021.159740.jsonl\n",
      "10.1016.j.ijrmhm.2014.07.009.jsonl\n",
      "10.1016.j.msea.2021.141234.jsonl\n",
      "10.1002.adma.201701678.jsonl\n",
      "10.1016.j.matdes.2015.06.072.jsonl\n",
      "10.1016.j.matlet.2014.05.134.jsonl\n",
      "10.1038.s41467-019-10533-1.jsonl\n",
      "10.1016.j.actamat.2017.09.035.jsonl\n",
      "10.1016.j.msec.2016.12.057.jsonl\n",
      "10.1016.j.proeng.2012.03.043.jsonl\n",
      "10.4028.www.scientific.net.MSF.898.638.jsonl\n",
      "10.1002.adem.202100765.jsonl\n",
      "10.1007.s11661-018-4646-8.jsonl\n",
      "10.1016.j.msea.2021.140848.jsonl\n",
      "10.1016.j.scriptamat.2016.10.028.jsonl\n",
      "10.1007.s11665-017-2799-z.jsonl\n",
      "10.1016.j.matchemphys.2017.06.054.jsonl\n",
      "10.1016.j.matlet.2015.08.099.jsonl\n",
      "10.1016.j.intermet.2020.106928.jsonl\n",
      "10.1007.s11837-019-03432-9.jsonl\n",
      "10.1016.j.matdes.2018.06.003.jsonl\n",
      "10.1016.j.jallcom.2019.05.322.jsonl\n",
      "10.3390.e18050189.jsonl\n",
      "10.1016.j.matlet.2019.03.075.jsonl\n",
      "10.3390.e21020114.jsonl\n",
      "10.1088.1757-899X.1014.1.012041.jsonl\n",
      "10.1016.j.intermet.2011.01.004.jsonl\n",
      "10.1016.j.jallcom.2018.10.230.jsonl\n",
      "10.1016.j.jallcom.2019.06.138.jsonl\n",
      "10.3390.e21010015.jsonl\n",
      "10.1016.j.msea.2021.140798.jsonl\n",
      "10.1080.14786435.2015.1028506.jsonl\n",
      "10.1016.j.msea.2021.140983.jsonl\n",
      "10.1016.j.matchar.2018.07.015.jsonl\n",
      "10.1016.j.actamat.2017.09.062.jsonl\n",
      "10.1007.s12598-019-01310-6.jsonl\n",
      "10.1016.j.jallcom.2020.154301.jsonl\n",
      "10.1016.j.scriptamat.2020.09.027.jsonl\n",
      "10.1016.j.intermet.2017.01.007.jsonl\n",
      "10.1016.j.jallcom.2021.161187.jsonl\n",
      "10.1080.21663831.2019.1610105.jsonl\n",
      "10.1016.j.matlet.2021.129428.jsonl\n",
      "10.1016.j.jallcom.2021.159190.jsonl\n",
      "10.1016.j.matlet.2016.03.092.jsonl\n",
      "10.1080.02670836.2018.1446267.jsonl\n",
      "10.1016.j.msea.2003.12.011.jsonl\n",
      "10.1016.j.jallcom.2015.07.209.jsonl\n",
      "10.1179.1743284715Y.0000000032.jsonl\n",
      "10.4028.www.scientific.net.MSF.849.76.jsonl\n",
      "10.1016.j.jmst.2020.10.073.jsonl\n",
      "10.1007.s40195-019-00921-3.jsonl\n",
      "10.1016.j.ijrmhm.2021.105664.jsonl\n",
      "10.1016.j.intermet.2015.10.011.jsonl\n",
      "10.1016.j.mtla.2021.101057.jsonl\n",
      "10.1016.j.msea.2020.139275.jsonl\n",
      "10.1016.j.intermet.2015.09.011.jsonl\n",
      "10.1016.j.msea.2017.12.004.jsonl\n",
      "10.1016.j.msea.2015.12.017.jsonl\n",
      "10.1007.s10853-012-6260-2.jsonl\n",
      "10.1016.j.msea.2015.08.024.jsonl\n",
      "10.1016.j.scriptamat.2020.07.006.jsonl\n",
      "10.1007.s40195-019-00935-x.jsonl\n",
      "10.2320.matertrans.MT-MK2019003].jsonl\n",
      "10.1016.j.jallcom.2016.11.188.jsonl\n",
      "10.1016.j.ijrmhm.2020.105370.jsonl\n",
      "10.1016.j.jallcom.2015.11.091.jsonl\n",
      "10.1016.j.jmst.2020.07.012.jsonl\n",
      "10.1038.s41563-020-0750-4.jsonl\n",
      "10.1016.j.matdes.2015.05.019.jsonl\n",
      "Extraction DFs: 116\n"
     ]
    }
   ]
  },
  {
   "cell_type": "code",
   "execution_count": 65,
   "outputs": [
    {
     "data": {
      "text/plain": "[                              formula  yield_strength  grain_size  experimental_density  hardness  test_temperature  ultimate_tensile_strength  elongation  elongation_plastic                                           evidence                           doi\n 0  Al 20 Cr 10 Nb 15 Ti 20 V 25 Zr 10          1535.0         0.0                  5.55       0.0              22.0                        0.0         0.6                 0.0  At 22 °C, the as-cast RHEA fractured in the el...  10.1016.j.matlet.2020.127372\n 1  Al 20 Cr 10 Nb 15 Ti 20 V 25 Zr 10          1000.0         0.0                  5.55       0.0             800.0                        0.0         0.0                 0.0  At 800 °C, stress-strain curves of the RHEA in...  10.1016.j.matlet.2020.127372\n 2             Al20Cr10Nb15Ti20V25Zr10             0.0         0.0                  0.00       0.0               0.0                        0.0         0.0                 0.0  In summary, the presented data show that the A...  10.1016.j.matlet.2020.127372,\n                          formula  yield_strength  grain_size  experimental_density  hardness  test_temperature  ultimate_tensile_strength  elongation  elongation_plastic                                           evidence                         doi\n 0   Al 10 Nb 15 Ta 5 Ti 30 Zr 40          1050.0         0.0                  0.00       0.0              23.0                        0.0         0.0                 0.0  In the homogenized condition, the yield stress...  10.1016.j.mtla.2020.100627\n 1   Al 10 Nb 15 Ta 5 Ti 30 Zr 40           852.0         0.0                  0.00       0.0             400.0                        0.0         0.0                 0.0  In the homogenized condition, the yield stress...  10.1016.j.mtla.2020.100627\n 2   Al 10 Nb 15 Ta 5 Ti 30 Zr 40          1059.0         0.0                  0.00       0.0             600.0                        0.0         0.0                 0.0  In the homogenized condition, the yield stress...  10.1016.j.mtla.2020.100627\n 3   Al 10 Nb 15 Ta 5 Ti 30 Zr 40           250.0         0.0                  0.00       0.0             800.0                        0.0         0.0                 0.0  Above 600 °C, the yield stress decreases rapid...  10.1016.j.mtla.2020.100627\n 4   Al 10 Nb 15 Ta 5 Ti 30 Zr 40            50.0         0.0                  0.00       0.0            1000.0                        0.0         0.0                 0.0  Above 600 °C, the yield stress decreases rapid...  10.1016.j.mtla.2020.100627\n 5   Al 10 Nb 15 Ta 5 Ti 30 Zr 40          1074.0      1000.0                  0.00       0.0              23.0                     1418.0        27.0                 0.0  At room temperature (RT), the deformation beha...  10.1016.j.mtla.2020.100627\n 6   Al 10 Nb 15 Ta 5 Ti 30 Zr 40             0.0         0.0                  0.00       0.0              23.0                        0.0         0.0                 0.0  Mechanical behavior at temperatures from 23 to...  10.1016.j.mtla.2020.100627\n 7   Al 10 Nb 15 Ta 5 Ti 30 Zr 40             0.0         0.0                  0.00       0.0             400.0                        0.0         0.0                 0.0  Mechanical behavior at 400-600 °C In this temp...  10.1016.j.mtla.2020.100627\n 8   Al 10 Nb 15 Ta 5 Ti 30 Zr 40             0.0         0.0                  0.00       0.0               0.0                        0.0         0.0                 0.0  The yield stress of the Al 10 Nb 15 Ta 5 Ti 30...  10.1016.j.mtla.2020.100627\n 9   Al-containing refractory HEA             0.0         0.0                  0.00       0.0               0.0                        0.0         0.0                 0.0  In this work, an aluminum-containing refractor...  10.1016.j.mtla.2020.100627\n 10  Al 10 Nb 15 Ta 5 Ti 30 Zr 40          1050.0         0.0                  6.48       0.0              23.0                        0.0        50.0                 0.0  In this work, an aluminum-containing refractor...  10.1016.j.mtla.2020.100627\n 11  Al 10 Nb 15 Ta 5 Ti 30 Zr 40             0.0         0.0                  0.00       0.0             600.0                        0.0         0.0                 0.0  Chemical composition (in at.%) of the phases o...  10.1016.j.mtla.2020.100627,\n                              formula  yield_strength  grain_size  experimental_density  hardness  test_temperature  ultimate_tensile_strength  elongation  elongation_plastic                                           evidence                            doi\n 0                             NbTaTi             0.0         0.0                   0.0       0.0               0.0                        0.0         0.0                 0.0  A total of seven alloys were produced by arc m...  10.1016.j.actamat.2019.06.006\n 1                           AlNbTaTi             0.0         0.0                   0.0       0.0               0.0                        0.0         0.0                 0.0  A total of seven alloys were produced by arc m...  10.1016.j.actamat.2019.06.006\n 2                           MoNbTaTi             0.0         0.0                   0.0       0.0               0.0                        0.0         0.0                 0.0  A total of seven alloys were produced by arc m...  10.1016.j.actamat.2019.06.006\n 3                            WNbTaTi             0.0         0.0                   0.0       0.0               0.0                        0.0         0.0                 0.0  A total of seven alloys were produced by arc m...  10.1016.j.actamat.2019.06.006\n 4                           HfNbTaTi             0.0         0.0                   0.0       0.0               0.0                        0.0         0.0                 0.0  A total of seven alloys were produced by arc m...  10.1016.j.actamat.2019.06.006\n 5                           CrNbMoTi             0.0         0.0                   0.0       0.0               0.0                        0.0         0.0                 0.0  A total of seven alloys were produced by arc m...  10.1016.j.actamat.2019.06.006\n 6                           CrMoTaTi             0.0         0.0                   0.0       0.0               0.0                        0.0         0.0                 0.0  A total of seven alloys were produced by arc m...  10.1016.j.actamat.2019.06.006\n 7                           HfNbTaTi             0.0         0.0                   0.0       0.0              20.0                        0.0         0.0                 0.0  The samples were tested from room temperature ...  10.1016.j.actamat.2019.06.006\n 8                          AlNb-TaTi             0.0         0.0                   0.0       0.0              20.0                        0.0         0.0                 0.0  The samples were tested from room temperature ...  10.1016.j.actamat.2019.06.006\n 9                              RHEAs             0.0         0.0                   0.0       0.0               0.0                        0.0         0.0                 0.0  The experimental thermally-activated yield str...  10.1016.j.actamat.2019.06.006\n 10                           WNbTaTi             0.0         0.0                   0.0       0.0               0.0                        0.0         0.0                 0.0  the WNbTaTi alloy with the largest value (1.89...  10.1016.j.actamat.2019.06.006\n 11                          MoNbTaTi             0.0         0.0                   0.0       0.0               0.0                        0.0         0.0                 0.0  For example, the MoNbTaTi alloy is predicted t...  10.1016.j.actamat.2019.06.006\n 12  Co 16.67 Fe 36.67 Ni 16.67 Ti 30             0.0         0.0                   0.0       0.0               0.0                        0.0         0.0                 0.0  In their simulations, the activation energy ba...  10.1016.j.actamat.2019.06.006,\n        formula  yield_strength  grain_size  experimental_density  hardness  test_temperature  ultimate_tensile_strength  elongation  elongation_plastic                                           evidence                             doi\n 0   TiZrHfNbTa           820.0         0.0                   0.0       0.0               0.0                        0.0         9.0                 0.0  The as-cast BCC equiatomic TiZrHfNbTa alloy sh...  10.1016.j.intermet.2019.01.004\n 1         NbTa             0.0       300.0                   0.0       0.0               0.0                        0.0         0.0                 0.0  The distribution of grain sizes for NbTa, TiNb...  10.1016.j.intermet.2019.01.004\n 2       TiNbTa             0.0       341.0                   0.0       0.0               0.0                        0.0         0.0                 0.0  The distribution of grain sizes for NbTa, TiNb...  10.1016.j.intermet.2019.01.004\n 3       HfNbTa             0.0       215.0                   0.0       0.0               0.0                        0.0         0.0                 0.0  On the other hand, grain sizes below 100 μm ac...  10.1016.j.intermet.2019.01.004\n 4     TiHfNbTa             0.0       340.0                   0.0       0.0               0.0                        0.0         0.0                 0.0  The distribution of grain sizes for NbTa, TiNb...  10.1016.j.intermet.2019.01.004\n 5         NbTa           246.0         0.0                   0.0       0.0               0.0                        0.0        20.0                 0.0  For the NbTa binary solid solution, its σ y is...  10.1016.j.intermet.2019.01.004\n 6       TiNbTa           478.0         0.0                   0.0       0.0               0.0                        0.0         0.0                 0.0  Alloying the NbTa with Ti to form the TiNbTa M...  10.1016.j.intermet.2019.01.004\n 7       HfNbTa           847.0         0.0                   0.0       0.0               0.0                      889.0        10.0                 0.0  For ternary HfNbTa, its σ y reaches as high as...  10.1016.j.intermet.2019.01.004\n 8     TiHfNbTa           663.0         0.0                   0.0       0.0               0.0                        0.0        10.0                 0.0  The TiHfNbTa quaternary produces an intermedia...  10.1016.j.intermet.2019.01.004\n 9       TiNbTa           500.0         0.0                   0.0       0.0               0.0                        0.0        20.0                 0.0  The TiNbTa RMEA has a tensile ductility in exc...  10.1016.j.intermet.2019.01.004\n 10      HfNbTa             0.0         0.0                   0.0       0.0               0.0                        0.0         0.0                 0.0  Moreover, HfNbTa has a combination of yield st...  10.1016.j.intermet.2019.01.004\n 11        NbTa           246.0         0.0                   0.0       0.0               0.0                      304.0        21.0                 0.0  Table 3 3 Tensile properties of BCC NbTa-based...  10.1016.j.intermet.2019.01.004\n 12      TiNbTa           478.0         0.0                   0.0       0.0               0.0                      514.0        19.0                 0.0  Table 3 3 Tensile properties of BCC NbTa-based...  10.1016.j.intermet.2019.01.004\n 13      HfNbTa           847.0         0.0                   0.0       0.0               0.0                      889.0        10.0                 0.0  Table 3 3 Tensile properties of BCC NbTa-based...  10.1016.j.intermet.2019.01.004\n 14    TiHfNbTa           663.0         0.0                   0.0       0.0               0.0                      709.0        11.0                 0.0  Table 3 3 Tensile properties of BCC NbTa-based...  10.1016.j.intermet.2019.01.004,\n      formula  yield_strength  grain_size  experimental_density  hardness  test_temperature  ultimate_tensile_strength  elongation  elongation_plastic                                           evidence                        doi\n 0     TiZrHf             0.0         0.0                   0.0       0.0               0.0                        0.0         0.0                 0.0  This study aimed to design and prepare the fol...  10.1007.s00339-019-2484-1\n 1   TiZrHfSc             0.0         0.0                   0.0       0.0               0.0                        0.0         0.0                 0.0  This study aimed to design and prepare the fol...  10.1007.s00339-019-2484-1\n 2    TiZrHfY             0.0         0.0                   0.0       0.0               0.0                        0.0         0.0                 0.0  This study aimed to design and prepare the fol...  10.1007.s00339-019-2484-1\n 3  TiZrHfScY             0.0         0.0                   0.0       0.0               0.0                        0.0         0.0                 0.0  This study aimed to design and prepare the fol...  10.1007.s00339-019-2484-1\n 4     TiZrHf           773.0         0.0                   0.0     211.0               0.0                     1184.0        17.0                 0.0  Table 2 Mechanical properties of TiZrHf, TiZrH...  10.1007.s00339-019-2484-1\n 5   TiZrHfSc          1001.0         0.0                   0.0     233.0               0.0                     1800.0        21.9                 0.0  Table 2 Mechanical properties of TiZrHf, TiZrH...  10.1007.s00339-019-2484-1\n 6    TiZrHfY           554.0         0.0                   0.0     241.0               0.0                     1071.0        17.7                 0.0  Table 2 Mechanical properties of TiZrHf, TiZrH...  10.1007.s00339-019-2484-1\n 7  TiZrHfScY           793.0         0.0                   0.0     256.0               0.0                     1365.0        15.7                 0.0  Table 2 Mechanical properties of TiZrHf, TiZrH...  10.1007.s00339-019-2484-1,\n           formula  yield_strength  grain_size  experimental_density  hardness  test_temperature  ultimate_tensile_strength  elongation  elongation_plastic                                           evidence                doi\n 0  Al 0.5 NbTiMoV          1625.0         0.0                   0.0       0.0               0.0                        0.0        0.00                 0.0  Among these alloys, Al 0.5 NbTiMoV reaches the...  10.3390.e16020870\n 1      AlxNbTiMoV          1625.0         0.0                   0.0       0.0               0.0                        0.0        0.00                25.0  When x = 0, the plastic strain reaches the max...  10.3390.e16020870\n 2    Al x NbTiMoV             0.0         0.0                   0.0       0.0               0.0                        0.0        0.00                 0.0  In conclusion, a refractory HEAs system, Al x ...  10.3390.e16020870\n 3     Al0 NbTiMoV          1200.0         0.0                   0.0     440.7               0.0                        0.0       25.62                 0.0  Table 3 . 3 The yield strength, fracture strai...  10.3390.e16020870\n 4  Al0.25 NbTiMoV          1250.0         0.0                   0.0     460.1               0.0                        0.0       12.91                 0.0  Table 3 . 3 The yield strength, fracture strai...  10.3390.e16020870\n 5   Al0.5 NbTiMoV          1625.0         0.0                   0.0     486.5               0.0                        0.0       11.25                 0.0  Table 3 . 3 The yield strength, fracture strai...  10.3390.e16020870\n 6  Al0.75 NbTiMoV          1260.0         0.0                   0.0     516.6               0.0                        0.0        7.50                 0.0  Table 3 . 3 The yield strength, fracture strai...  10.3390.e16020870\n 7     Al1 NbTiMoV          1375.0         0.0                   0.0     536.6               0.0                        0.0        2.50                 0.0  Table 3 . 3 The yield strength, fracture strai...  10.3390.e16020870\n 8   Al1.5 NbTiMoV           500.0         0.0                   0.0     556.4               0.0                        0.0        1.30                 0.0  Table 3 . 3 The yield strength, fracture strai...  10.3390.e16020870,\n                            formula  yield_strength  grain_size  experimental_density  hardness  test_temperature  ultimate_tensile_strength  elongation  elongation_plastic                                           evidence                            doi\n 0  Ti 35 Zr 27.5 Hf 27.5 Nb 5 Ta 5             0.0        40.0                   0.0       0.0               0.0                        0.0         0.0                 0.0  The solution treated alloy displays a fully bc...  10.1080.21663831.2016.1221861\n 1           Ti35Zr27.5Hf27.5Nb5Ta5           540.0         0.0                   0.0       0.0               0.0                      995.0        23.0                 0.0  The tensile true stress/true strain and work-h...  10.1080.21663831.2016.1221861\n 2                             Ti35             0.0         0.0                   0.0       0.0               0.0                        0.0         0.0                23.0  macroscopic localization is observed at about ...  10.1080.21663831.2016.1221861,\n   formula  yield_strength  grain_size  experimental_density  hardness  test_temperature  ultimate_tensile_strength  elongation  elongation_plastic                                           evidence                           doi\n 0  NbMoTa             0.0       13.18                   0.0     356.3              25.0                        0.0         0.0                 0.0  The average values of H v are 356.3 ± 12.2, 33...  10.1016.j.ijrmhm.2020.105195\n 1  NbMoTa             0.0      112.52                   0.0     516.6              25.0                        0.0         0.0                 0.0  The average values of H v are 356.3 ± 12.2, 33...  10.1016.j.ijrmhm.2020.105195\n 2  NbMoTa           999.0        0.00                   0.0       0.0            1000.0                        0.0         0.0                 0.0  Through this figure, it can be found that the ...  10.1016.j.ijrmhm.2020.105195\n 3  NbMoTa           712.0       13.18                   0.0       0.0            1000.0                        0.0         0.0                 0.0  (d) The yield strength and compressive strengt...  10.1016.j.ijrmhm.2020.105195\n 4  NbMoTa           874.0        0.00                   0.0       0.0              25.0                        0.0         5.8                 0.0  Table 3 3 Values of compression properties of ...  10.1016.j.ijrmhm.2020.105195\n 5  NbMoTa           999.0        0.00                   0.0       0.0              25.0                        0.0         2.5                 0.0  Table 3 3 Values of compression properties of ...  10.1016.j.ijrmhm.2020.105195\n 6  NbMoTa           530.0        0.00                   0.0       0.0            1000.0                        0.0         8.5                 0.0  Table 3 3 Values of compression properties of ...  10.1016.j.ijrmhm.2020.105195\n 7  NbMoTa           712.0        0.00                   0.0       0.0            1000.0                        0.0         3.8                 0.0  Table 3 3 Values of compression properties of ...  10.1016.j.ijrmhm.2020.105195,\n     formula  yield_strength  grain_size  experimental_density  hardness  test_temperature  ultimate_tensile_strength  elongation  elongation_plastic                                           evidence                         doi\n 0  NbTaTiVW          1420.0         0.0                   0.0       0.0               0.0                        0.0        20.0                 0.0  While NbTaTiVW shows an impressive yield stren...  10.1016.j.msea.2016.07.102\n 1    NbTaVW             0.0         0.0                   0.0       0.0             298.0                        0.0        12.0                 0.0  The plastic fracture strains are 12% and 20% f...  10.1016.j.msea.2016.07.102\n 2  NbTaTiVW             0.0         0.0                   0.0       0.0             298.0                        0.0        20.0                 0.0  The plastic fracture strains are 12% and 20% f...  10.1016.j.msea.2016.07.102\n 3   NbTaTiV             0.0         0.0                   0.0       0.0               0.0                        0.0        50.0                 0.0  While NbTaTiV is very ductile and does not fra...  10.1016.j.msea.2016.07.102\n 4  NbTaTiVW          1420.0         0.0                   0.0       0.0               0.0                        0.0        20.0                 0.0  NbTaTiVW has a yield strength of 1420 MPa with...  10.1016.j.msea.2016.07.102,\n                                   formula  yield_strength  grain_size  experimental_density  hardness  test_temperature  ultimate_tensile_strength  elongation  elongation_plastic                                           evidence                         doi\n 0  (Ta 25-x Nb 25 Zr 25 Ti 25+x ) 95 Al 5          1762.0         0.0                   0.0       0.0               0.0                        0.0         7.3                 0.0  Although replacing Ta with Ti results in a red...  10.1007.s42864-021-00111-8\n 1     Ta 25-x Nb 25 Zr 25 Ti 25+x 95 Al 5           973.0       130.0                   0.0       0.0             600.0                        0.0         7.3                 0.0  The ST-1300/24 alloys exhibit good compressive...  10.1007.s42864-021-00111-8\n 2                             Ta 25 Ti 25          1762.0         0.0                   0.0       0.0               0.0                        0.0        10.0                 0.0  The Ta 25 Ti 25 alloy exhibits the highest str...  10.1007.s42864-021-00111-8\n 3                             Ta 20 Ti 30          1509.0         0.0                   0.0       0.0               0.0                        0.0        40.0                 0.0  the Ta 20 Ti 30 and Ta 15 Ti 35 alloys exhibit...  10.1007.s42864-021-00111-8\n 4                             Ta 15 Ti 35          1243.0         0.0                   0.0       0.0               0.0                        0.0        40.0                 0.0  the Ta 20 Ti 30 and Ta 15 Ti 35 alloys exhibit...  10.1007.s42864-021-00111-8,\n                  formula  yield_strength  grain_size  experimental_density  hardness  test_temperature  ultimate_tensile_strength  elongation  elongation_plastic                                           evidence                            doi\n 0        Al 0.24 NbTiVZr          1240.0         0.0                  0.00       0.0              25.0                        0.0         0.0                 0.0  For example, Al 0.24 Nb-TiVZr and MoNbTiVZr ha...  10.1016.j.actamat.2019.06.032\n 1              MoNbTiVZr          1706.0         0.0                  0.00       0.0              25.0                        0.0         0.0                 0.0  For example, Al 0.24 Nb-TiVZr and MoNbTiVZr ha...  10.1016.j.actamat.2019.06.032\n 2          Al0.24NbTiVZr             0.0         0.0                  0.00       0.0            1200.0                        0.0         0.0                 0.0  Although Ts for these alloys is smaller than t...  10.1016.j.actamat.2019.06.032\n 3               MoNbTaVW           735.0         0.0                 12.30       0.0            1200.0                        0.0         0.0                 0.0  Here a clear tendency is seen for s 0.2 1200 C...  10.1016.j.actamat.2019.06.032\n 4            NbTa0.3TiZr           882.0         0.0                  0.00       0.0              25.0                        0.0         0.0                 0.0  s 0. 2 25C 2 in the range from 882 MPa for NbT...  10.1016.j.actamat.2019.06.032\n 5     Al0.4Hf0.6NbTaTiZr          1841.0         0.0                  0.00       0.0              25.0                        0.0         0.0                 0.0  s 0. 2 25C 2 in the range from 882 MPa for NbT...  10.1016.j.actamat.2019.06.032\n 6                MoNbTaW           996.0         0.0                  0.00       0.0              25.0                        0.0         0.0                 0.0  The RT yield strength of MoNbTaW, which has th...  10.1016.j.actamat.2019.06.032\n 7             AlCrMoNbTi          1010.0         0.0                  0.00       0.0              25.0                        0.0         0.0                 0.0  The s 0.2 25 C of these alloys is in the range...  10.1016.j.actamat.2019.06.032\n 8   HfMo0.5NbSi0.7TiV0.5          2134.0         0.0                  0.00       0.0              25.0                        0.0         0.0                 0.0  The s 0.2 25 C of these alloys is in the range...  10.1016.j.actamat.2019.06.032\n 9     Al0.4Hf0.6NbTaTiZr          1841.0         0.0                  9.08       0.0              23.0                        0.0         0.0                 0.0  Reported single-phase alloys Al 0.4 Hf 0.6 NbT...  10.1016.j.actamat.2019.06.032\n 10              AlCrMoTi          1100.0         0.0                  5.98       0.0              23.0                        0.0         0.0                 0.0  Reported single-phase alloys AlCrMoTi A BCC 5....  10.1016.j.actamat.2019.06.032\n 11              AlMoNbTi          1100.0         0.0                  6.46       0.0              23.0                        0.0         0.0                 0.0  Reported single-phase alloys AlMoNbTi A BCC 6....  10.1016.j.actamat.2019.06.032\n 12       HfMo0.5NbTiV0.5          1260.0         0.0                  8.96       0.0              23.0                        0.0         0.0                 0.0  Reported single-phase alloys HfMo 0.5 NbTiV 0....  10.1016.j.actamat.2019.06.032\n 13          HfMoNbTaTiZr          1512.0         0.0                  9.93       0.0              23.0                        0.0         0.0                 0.0  Reported single-phase alloys HfMoNbTaTiZr AC B...  10.1016.j.actamat.2019.06.032\n 14            HfMoNbTiZr          1575.0         0.0                  8.68       0.0              23.0                        0.0         0.0                 0.0  Reported single-phase alloys HfMoNbTiZr AC BCC...  10.1016.j.actamat.2019.06.032\n 15            HfMoTaTiZr          1600.0         0.0                 10.18       0.0              23.0                        0.0         0.0                 0.0  Reported single-phase alloys HfMoTaTiZr AC BCC...  10.1016.j.actamat.2019.06.032\n 16            HfNbTaTiZr           929.0         0.0                  9.89       0.0              23.0                        0.0         0.0                 0.0  Reported single-phase alloys HfNbTaTiZr HIP þ ...  10.1016.j.actamat.2019.06.032\n 17            MoNbTaTiVW          1515.0         0.0                 10.91       0.0              23.0                        0.0         0.0                 0.0  Reported single-phase alloys MoNbTaTiVW AC BCC...  10.1016.j.actamat.2019.06.032\n 18             MoNbTaTiW          1343.0         0.0                 11.72       0.0              23.0                        0.0         0.0                 0.0  Reported single-phase alloys MoNbTaTiW AC BCC ...  10.1016.j.actamat.2019.06.032\n 19              MoNbTaVW          1246.0         0.0                 12.29       0.0              23.0                        0.0         0.0                 0.0  Reported single-phase alloys MoNbTaVW HIP þ A ...  10.1016.j.actamat.2019.06.032\n 20               MoNbTaW           996.0         0.0                 13.60       0.0              23.0                        0.0         0.0                 0.0  Reported single-phase alloys MoNbTaW HIP þ A B...  10.1016.j.actamat.2019.06.032\n 21                MoNbTi          1100.0         0.0                  7.67       0.0              23.0                        0.0         0.0                 0.0  Reported single-phase alloys MoNbTi HIP þ A BC...  10.1016.j.actamat.2019.06.032\n 22           NbTa0.3TiZr           882.0         0.0                  7.81       0.0              23.0                        0.0         0.0                 0.0  Reported single-phase alloys NbTa 0.3 TiZr HIP...  10.1016.j.actamat.2019.06.032\n 23                NbTiZr           975.0         0.0                  6.63       0.0              23.0                        0.0         0.0                 0.0  Reported single-phase alloys NbTiZr HIP þ A BC...  10.1016.j.actamat.2019.06.032,\n                formula  yield_strength  grain_size  experimental_density  hardness  test_temperature  ultimate_tensile_strength  elongation  elongation_plastic                                           evidence                            doi\n 0      Al0.3HfNbTaTiZr             0.0         0.0                  0.00       0.0               0.0                        0.0         0.0                 0.0  The partial substitution of Hf with Al in the ...  10.1016.j.jallcom.2014.11.064\n 1      Al0.5HfNbTaTiZr             0.0         0.0                  0.00       0.0               0.0                        0.0         0.0                 0.0  The partial substitution of Hf with Al in the ...  10.1016.j.jallcom.2014.11.064\n 2     Al0.75HfNbTaTiZr             0.0         0.0                  0.00       0.0               0.0                        0.0         0.0                 0.0  The partial substitution of Hf with Al in the ...  10.1016.j.jallcom.2014.11.064\n 3         AlHfNbTaTiZr             0.0         0.0                  0.00       0.0               0.0                        0.0         0.0                 0.0  The partial substitution of Hf with Al in the ...  10.1016.j.jallcom.2014.11.064\n 4        AlxHfNbTaTiZr             0.0         0.0                  8.91       0.0               0.0                        0.0         0.0                 0.0  Al addition indeed brings one important benefi...  10.1016.j.jallcom.2014.11.064\n 5        AlxHfNbTaTiZr          1489.0         0.0                  0.00       0.0               0.0                        0.0        21.0                 0.0  The addition of Al increased the compressive y...  10.1016.j.jallcom.2014.11.064\n 6         AlHfNbTaTiZr          1486.0         0.0                  0.00       0.0               0.0                        0.0        21.0                 0.0  Table 4. It demonstrates that yield strength i...  10.1016.j.jallcom.2014.11.064\n 7           HfNbTaTiZr          1073.0         0.0                  9.96     119.0               0.0                        0.0         0.0                 0.0                     HfNbTaTiZr 1073 ± 6 55 ± 1 >50  10.1016.j.jallcom.2014.11.064\n 8    Al 0.3 HfNbTaTiZr          1188.0         0.0                  9.48     112.0               0.0                        0.0         0.0                 0.0              Al 0.3 HfNbTaTiZr 1188 ± 7 63 ± 3 >50  10.1016.j.jallcom.2014.11.064\n 9    Al 0.5 HfNbTaTiZr          1302.0         0.0                  9.25     109.0               0.0                        0.0         0.0                 0.0               Al 0.5 HfNbTaTiZr 1302 ± 6 97 ± 2 46  10.1016.j.jallcom.2014.11.064\n 10  Al 0.75 HfNbTaTiZr          1415.0         0.0                  9.10     106.0               0.0                        0.0         0.0                 0.0             Al 0.75 HfNbTaTiZr 1415 ± 4 102 ± 2 30  10.1016.j.jallcom.2014.11.064\n 11        AlHfNbTaTiZr          1489.0         0.0                  8.84     102.0               0.0                        0.0         0.0                 0.0                   AlHfNbTaTiZr 1489 ± 7 103 ± 1 21  10.1016.j.jallcom.2014.11.064,\n                          formula  yield_strength  grain_size  experimental_density  hardness  test_temperature  ultimate_tensile_strength  elongation  elongation_plastic                                           evidence                         doi\n 0  Ti 30 Zr 25 Hf 15 Nb 20 Ta 10             0.0         0.0                   0.0       0.0             300.0                        0.0         0.0                 0.0  Mechanical properties of the Ti 30 Zr 25 Hf 15...  10.1016.j.msea.2017.10.073\n 1           Ti30Zr25Hf15Nb20Ta10             0.0         0.0                   0.0       0.0               0.0                        0.0         0.0                 0.0  The Ti 30 Zr 25 Hf 15 Nb 20 Ta 10 high entropy...  10.1016.j.msea.2017.10.073\n 2  Ti 30 Zr 25 Hf 15 Nb 20 Ta 10             0.0         0.0                   0.0       0.0               0.0                        0.0         0.0                 0.0  The temperature dependences of the flow stress...  10.1016.j.msea.2017.10.073,\n                formula  yield_strength  grain_size  experimental_density  hardness  test_temperature  ultimate_tensile_strength  elongation  elongation_plastic                                           evidence                           doi\n 0  TiNbTa 0.5 ZrAl 0.5          1740.0         0.0                   6.7       0.0              25.0                        0.0        12.0                 0.0  The hot-worked TiNbTa 0.5 ZrAl 0.5 alloy has a...  10.1016.j.ijrmhm.2019.105132\n 1  TiNbTa 0.5 ZrAl 0.5          1740.0         1.0                   7.3     579.0              20.0                     2031.0        12.0                 0.0  The mechanical properties of the as-forged TiN...  10.1016.j.ijrmhm.2019.105132\n 2     TiNbTa0.5ZrAl0.5          1740.0         1.0                   0.0       0.0               0.0                        0.0        12.0                 0.0  The hot-worked TiNbTa 0.5 ZrAl 0.5 RHEA has a ...  10.1016.j.ijrmhm.2019.105132\n 3     TiNbTa0.5ZrAl0.5             0.0         0.0                   0.0       0.0               0.0                        0.0         0.0                 0.0  Fig. 4. Nano-indentation hardness of the TiNbT...  10.1016.j.ijrmhm.2019.105132,\n    formula  yield_strength  grain_size  experimental_density  hardness  test_temperature  ultimate_tensile_strength  elongation  elongation_plastic                                           evidence                           doi\n 0  AlNbTiV          1020.0       400.0                  5.59    4394.0              22.0                     1318.0         5.0                 0.0  The resulting mechanical properties, yield str...  10.1016.j.matlet.2014.11.162\n 1  AlNbTiV          1020.0         0.0                  5.59       0.0              20.0                     1318.0         5.0                 0.0  The alloy had single bcc phase coarse-grained ...  10.1016.j.matlet.2014.11.162,\n   formula  yield_strength  grain_size  experimental_density  hardness  test_temperature  ultimate_tensile_strength  elongation  elongation_plastic                                           evidence                         doi\n 0   VNbTa           925.0       44.28                   0.0       0.0              25.0                     1050.0        26.0                 0.0  It can be seen that present alloy exhibits the...  10.1016.j.msea.2021.141908\n 1   VNbTa             0.0        0.00                   0.0       0.0              25.0                        0.0         0.0                 0.0  Tensile engineering stress-strain curve of as-...  10.1016.j.msea.2021.141908,\n        formula  yield_strength  grain_size  experimental_density  hardness  test_temperature  ultimate_tensile_strength  elongation  elongation_plastic                                           evidence                         doi\n 0      NbTiVZr          1105.0         0.0                  6.52       0.0             298.0                        0.0         0.0                 0.0  The NbTiVZr and NbTiV 2 Zr alloys showed good ...  10.1016.j.msea.2012.12.018\n 1   NbTiV 2 Zr           918.0         0.0                  6.34       0.0             298.0                        0.0         0.0                 0.0  The NbTiVZr and NbTiV 2 Zr alloys showed good ...  10.1016.j.msea.2012.12.018\n 2     CrNbTiZr          1260.0         0.0                  6.67       0.0             298.0                        0.0         0.0                 0.0  The CrNbTiZr and CrNbTiVZr alloys showed high ...  10.1016.j.msea.2012.12.018\n 3    CrNbTiVZr          1298.0         0.0                  6.57       0.0             298.0                        0.0         0.0                 0.0  The CrNbTiZr and CrNbTiVZr alloys showed high ...  10.1016.j.msea.2012.12.018\n 4    CrNbTiVZr           615.0         0.0                  0.00       0.0            1073.0                        0.0         0.0                 0.0  Among the studied alloys, the CrNbTiVZr alloy ...  10.1016.j.msea.2012.12.018\n 5     CrNbTiZr           300.0         0.0                  0.00       0.0            1073.0                        0.0         0.0                 0.0  The CrNbTiZr alloy has approximately half the ...  10.1016.j.msea.2012.12.018\n 6      NbTiVZr            53.0         0.0                  0.00    3300.0            1273.0                        0.0         0.0                 0.0  The strengths of the NbTiVZr and NbTiV 2 Zr al...  10.1016.j.msea.2012.12.018\n 7     NbTiV2Zr            77.0         0.0                  0.00       0.0            1273.0                        0.0         0.0                 0.0  The strengths of the NbTiVZr and NbTiV 2 Zr al...  10.1016.j.msea.2012.12.018\n 8    CrNbTiVZr           256.0         0.0                  0.00    4400.0            1273.0                        0.0         0.0                 0.0  Among the studied alloys, the CrNbTiVZr alloy ...  10.1016.j.msea.2012.12.018\n 9      NbTiVZr             0.0       500.0                  0.00       0.0             293.0                        0.0         0.0                 0.0  Deformation behavior at room temperature The p...  10.1016.j.msea.2012.12.018\n 10    NbTiV2Zr             0.0       600.0                  0.00       0.0             293.0                        0.0         0.0                 0.0  Deformation behavior at room temperature The p...  10.1016.j.msea.2012.12.018\n 11     NbTiVZr          1105.0         0.0                  0.00       0.0             298.0                        0.0         0.0                 0.0  The alloys had yield strengths of 1105 MPa and...  10.1016.j.msea.2012.12.018\n 12    NbTiV2Zr           918.0         0.0                  0.00       0.0             298.0                        0.0         0.0                 0.0  The alloys had yield strengths of 1105 MPa and...  10.1016.j.msea.2012.12.018\n 13    CrNbTiZr          1260.0         0.0                  0.00       0.0             298.0                        0.0         0.0                 0.0  The CrNbTiZr and CrNbTiVZr alloys showed high ...  10.1016.j.msea.2012.12.018\n 14   CrNbTiVZr          1298.0         0.0                  0.00       0.0             298.0                        0.0         0.0                 0.0  The CrNbTiZr and CrNbTiVZr alloys showed high ...  10.1016.j.msea.2012.12.018\n 15     NbTiVZr            58.0         0.0                  0.00       0.0            1273.0                        0.0         0.0                 0.0  During deformation at 1273 K, the NbTiVZr, NbT...  10.1016.j.msea.2012.12.018\n 16  NbTiV 2 Zr            72.0         0.0                  0.00       0.0            1273.0                        0.0         0.0                 0.0  During deformation at 1273 K, the NbTiVZr, NbT...  10.1016.j.msea.2012.12.018\n 17    CrNbTIZr           115.0         0.0                  0.00       0.0            1273.0                        0.0         0.0                 0.0  During deformation at 1273 K, the NbTiVZr, NbT...  10.1016.j.msea.2012.12.018\n 18   CrNbTiVZr           259.0         0.0                  0.00       0.0            1273.0                        0.0         0.0                 0.0  During deformation at 1273 K, the NbTiVZr, NbT...  10.1016.j.msea.2012.12.018\n 19     NbTiVZr             0.0         0.0                  0.00       0.0            1273.0                        0.0         0.0                 0.0  Table 4 Chemical composition of the NbTiVZr al...  10.1016.j.msea.2012.12.018\n 20    NbTiV2Zr             0.0         0.0                  0.00       0.0            1273.0                        0.0         0.0                 0.0  Table 5 Chemical composition of the NbTiV2Zr a...  10.1016.j.msea.2012.12.018\n 21    CrNbTiZr             0.0         0.0                  0.00       0.0            1273.0                        0.0         0.0                 0.0  Table 6 Chemical composition of the CrNbTiZr a...  10.1016.j.msea.2012.12.018\n 22   CrNbTiVZr             0.0         0.0                  0.00       0.0            1273.0                        0.0         0.0                 0.0  Table 7 Chemical composition of the CrNbTiVZr ...  10.1016.j.msea.2012.12.018,\n              formula  yield_strength  grain_size  experimental_density  hardness  test_temperature  ultimate_tensile_strength  elongation  elongation_plastic                                           evidence                         doi\n 0  V 0.5 Nb 0.5 ZrTi             0.0       221.0                   6.0       0.0               0.0                      787.0        21.9                 0.0  A ductile V 0.5 Nb 0.5 ZrTi refractory high-en...  10.1016.j.msea.2020.139774\n 1  V 0.5 Nb 0.5 ZrTi           832.0        50.0                   6.1       0.0               0.0                      913.0         0.0                18.6  The as-cast alloy displays the yield stress of...  10.1016.j.msea.2020.139774\n 2  V 0.5 Nb 0.5 ZrTi           787.0         0.0                   0.0       0.0               0.0                      830.0        21.9                 0.0  A novel V 0.5 Nb 0.5 ZrTi alloy is fabricated ...  10.1016.j.msea.2020.139774,\n       formula  yield_strength  grain_size  experimental_density  hardness  test_temperature  ultimate_tensile_strength  elongation  elongation_plastic                                           evidence                         doi\n 0  CrHfNbTaTi          1258.0         0.0                   0.0       0.0               0.0                        0.0        24.3                 0.0  The yield strength of the alloy significantly ...  10.1007.s11837-020-04557-y\n 1  CrHfNbTaTi          1258.0         0.0                   0.0       0.0               0.0                     2061.0        24.3                 0.0  The yield strength, r 0:2 , is 1258 AE 15 MPa ...  10.1007.s11837-020-04557-y\n 2  CrHfNbTaTi          1366.0         0.0                   0.0       0.0               0.0                        0.0        24.3                 0.0  The yield strength increased from 926 MPa to 1...  10.1007.s11837-020-04557-y,\n     formula  yield_strength  grain_size  experimental_density  hardness  test_temperature  ultimate_tensile_strength  elongation  elongation_plastic                                           evidence                            doi\n 0  TaNbHfZr             0.0         0.0                   0.0       0.0               0.0                        0.0         0.0                 0.0  Equiatomic TaNbHfZr refractory high-entropy al...  10.1016.j.actamat.2016.01.018\n 1  TaNbHfZr          1315.0         0.0                   0.0    3575.0               0.0                        0.0         0.0                 0.0  The hardness and the compressive yield strengt...  10.1016.j.actamat.2016.01.018\n 2  TaNbHfZr          2310.0         0.0                   0.0       0.0               0.0                        0.0         0.0                 0.0              the peak of yield strength (2310 MPa)  10.1016.j.actamat.2016.01.018,\n           formula  yield_strength  grain_size  experimental_density  hardness  test_temperature  ultimate_tensile_strength  elongation  elongation_plastic                                           evidence                        doi\n 0      AlCoCrFeNi          1450.0         0.0                   0.0       0.0             298.0                     2960.0        15.3                 0.0  The yielding strengths, fracture strengths, an...  10.1007.s11837-012-0366-5\n 1      AlCoCrFeNi          1880.0         0.0                   0.0       0.0              77.0                     3550.0        14.3                 0.0  while the yielding strengths, fracture strengt...  10.1007.s11837-012-0366-5\n 2      TiZrNbMoVx             0.0         0.0                   0.0       0.0               0.0                        0.0         0.0                 0.0  Fig. 3. (a) Engineering stress-strain curves o...  10.1007.s11837-012-0366-5\n 3  CoCrFeNiAlNb x             0.0         0.0                   0.0       0.0               0.0                        0.0         0.0                 0.0  Fig. 5. SEM back-scatter electron images of th...  10.1007.s11837-012-0366-5\n 4      AlCoCrFeNi             0.0         0.0                   0.0       0.0               0.0                        0.0         0.0                 0.0  Fig. 10. The compressive true stress-strain cu...  10.1007.s11837-012-0366-5\n 5    CoCrFeNiAlNb             0.0         0.0                   0.0       0.0            1773.0                        0.0         0.0                 0.0  (Published onlineJuly 10, 2012) Alloy Design a...  10.1007.s11837-012-0366-5,\n                     formula  yield_strength  grain_size  experimental_density  hardness  test_temperature  ultimate_tensile_strength  elongation  elongation_plastic                                           evidence                               doi\n 0                HfNbTaTiZr             0.0       0.000                   0.0       0.0             573.0                        0.0       0.000               0.000  The mechanical responses of the alloy under un...  10.1016.j.scriptamat.2021.113919\n 1                HfNbTaTiZr             0.0       0.000                   0.0       0.0             823.0                        0.0       0.000               0.000  The mechanical responses of the alloy under un...  10.1016.j.scriptamat.2021.113919\n 2                HfNbTaTiZr           854.0       0.000                   0.0       0.0             573.0                      962.0      12.800               0.000  Table 1 1 YS, UTS, elongation at failure (EL),...  10.1016.j.scriptamat.2021.113919\n 3                HfNbTaTiZr           759.0       0.000                   0.0       0.0             673.0                      930.0      14.100               0.000  Table 1 1 YS, UTS, elongation at failure (EL),...  10.1016.j.scriptamat.2021.113919\n 4                HfNbTaTiZr           717.5       0.000                   0.0       0.0             723.0                      866.0       8.400               0.000  Table 1 1 YS, UTS, elongation at failure (EL),...  10.1016.j.scriptamat.2021.113919\n 5                HfNbTaTiZr           722.4       0.000                   0.0       0.0             773.0                      924.0       9.800               0.000  Table 1 1 YS, UTS, elongation at failure (EL),...  10.1016.j.scriptamat.2021.113919\n 6                HfNbTaTiZr           805.7       0.000                   0.0       0.0             573.0                      930.0      15.000               0.000  Table 1 1 YS, UTS, elongation at failure (EL),...  10.1016.j.scriptamat.2021.113919\n 7                HfNbTaTiZr           734.8       0.000                   0.0       0.0             673.0                      909.0      14.600               0.000  Table 1 1 YS, UTS, elongation at failure (EL),...  10.1016.j.scriptamat.2021.113919\n 8                HfNbTaTiZr           689.0       0.000                   0.0       0.0             723.0                      812.0       8.700               0.000  Table 1 1 YS, UTS, elongation at failure (EL),...  10.1016.j.scriptamat.2021.113919\n 9   S < -θ -τ ext ˙ γ t DSA           723.0       0.047                 689.0     812.0             773.0                      698.0       0.087               0.037           .047 723 689 812 0.087 0.037 773 698 880  10.1016.j.scriptamat.2021.113919\n 10  S < -θ -τ ext ˙ γ t DSA           673.0       0.052                 817.4     956.0             773.0                      819.1       0.150               0.078  0.052 1 × 10 -3 673 817.4 956 0.15 0.078 773 8...  10.1016.j.scriptamat.2021.113919\n 11  S < -θ -τ ext ˙ γ t DSA           823.0       0.100                 734.3     876.6             823.0                      734.3       0.118               0.083    0.1 823 734.3 876.6 0.118 0.083 823 734.3 876.6  10.1016.j.scriptamat.2021.113919,\n     formula  yield_strength  grain_size  experimental_density  hardness  test_temperature  ultimate_tensile_strength  elongation  elongation_plastic                                           evidence                         doi\n 0  WNbMoTaV             0.0         0.0                   0.0       0.0               0.0                        0.0         0.0                 0.0  An equi-atomic WNbMoTaV high entropy alloy (HE...  10.1016.j.msea.2017.12.021\n 1  WNbMoTaV             0.0        66.1                   0.0       0.0               0.0                        0.0         0.0                 0.0  After 6 h of milling, nanocrystalline HEA powd...  10.1016.j.msea.2017.12.021\n 2  WNbMoTaV          2612.0        80.0                   0.0       0.0               0.0                        0.0         0.0                 8.8  The bulk specimen sintered at 1,500°C displaye...  10.1016.j.msea.2017.12.021\n 3  WNbMoTaV          2612.0         0.0                   0.0       0.0              25.0                        0.0         8.8                 0.0  The bulk material sintered at 1,500°C had a co...  10.1016.j.msea.2017.12.021\n 4  WNbMoTaV             0.0         0.0                   0.0       0.0               0.0                        0.0         0.0                 0.0  Figure 8 shows fracture surfaces of the WNbMoT...  10.1016.j.msea.2017.12.021,\n          formula  yield_strength  grain_size  experimental_density  hardness  test_temperature  ultimate_tensile_strength  elongation  elongation_plastic                                           evidence                               doi\n 0  Al 0.5 MoTaTi             0.0         0.0                   9.1      0.00            1273.0                        0.0         0.0                 0.0  In this study we show that a superalloy-like m...  10.1016.j.scriptamat.2019.07.033\n 1    Al0.5MoTaTi           969.0         0.0                   0.0      0.00            1273.0                     1139.0         0.0                 0.0  While σ 0.2 increases only slightly from 969 M...  10.1016.j.scriptamat.2019.07.033\n 2  Al 0.5 MoTaTi           969.0         0.0                   9.1      6.67            1273.0                      973.0         1.0                 0.0  Table 2 2 Annealing conditions, lattice parame...  10.1016.j.scriptamat.2019.07.033,\n         formula  yield_strength  grain_size  experimental_density  hardness  test_temperature  ultimate_tensile_strength  elongation  elongation_plastic                                           evidence                             doi\n 0    HfMoTaTiZr             0.0         0.0                 10.24       0.0               0.0                        0.0         0.0                 0.0  The theoretical densities of the HfMoTaTiZr an...  10.1016.j.intermet.2015.03.013\n 1  HfMoNbTaTiZr             0.0         0.0                  9.97       0.0               0.0                        0.0        12.0                 0.0  The theoretical densities of the HfMoTaTiZr an...  10.1016.j.intermet.2015.03.013\n 2    HfMoTaTiZr          1600.0         0.0                  0.00     542.0               0.0                        0.0         4.0                 0.0  The yield strength of the HfMoTaTiZr alloy at ...  10.1016.j.intermet.2015.03.013\n 3  HfMoNbTaTiZr          1512.0         0.0                  0.00     505.0               0.0                        0.0        12.0                 0.0  The yield strength of the HfMoNbTaTiZr alloy a...  10.1016.j.intermet.2015.03.013\n 4  HfMoNbTaTiZr             0.0         0.0                  0.00       0.0               0.0                        0.0         0.0                 0.0  Because of its better combination of strength ...  10.1016.j.intermet.2015.03.013\n 5    HfMoTaTiZr          1600.0         0.0                 10.24     542.0               0.0                        0.0         4.0                 0.0  The compression yield strengths of the HfMoTaT...  10.1016.j.intermet.2015.03.013\n 6  HfMoNbTaTiZr          1512.0         0.0                  9.97     505.0               0.0                        0.0        12.0                 0.0  The compression yield strengths of the HfMoNbT...  10.1016.j.intermet.2015.03.013,\n       formula  yield_strength  grain_size  experimental_density  hardness  test_temperature  ultimate_tensile_strength  elongation  elongation_plastic                                           evidence                           doi\n 0  HfNbTaTiZr             0.0        38.0                   0.0       0.0               0.0                      974.0        20.0                 0.0  To investigate the grain size strengthening an...  10.1016.j.matlet.2016.08.060\n 1  HfNbTaTiZr             0.0        81.0                   0.0       0.0               0.0                      959.0        18.0                 0.0  To investigate the grain size strengthening an...  10.1016.j.matlet.2016.08.060\n 2  HfNbTaTiZr             0.0       128.0                   0.0       0.0               0.0                      953.0        15.0                 0.0  To investigate the grain size strengthening an...  10.1016.j.matlet.2016.08.060\n 3  HfNbTaTiZr           958.0        38.0                   0.0       0.0               0.0                        0.0        20.0                 0.0  The tensile yield strength, elongation and tru...  10.1016.j.matlet.2016.08.060,\n                         formula  yield_strength  grain_size  experimental_density  hardness  test_temperature  ultimate_tensile_strength  elongation  elongation_plastic                                           evidence                           doi\n 0  W 10 Mo 27 Cr 21 Ti 22 Al 20          1245.0         0.0                  7.48     511.0              20.0                        0.0         0.0                 0.0  This alloy had compressive yield strengths of ...  10.1016.j.vacuum.2020.109614\n 1  W 10 Mo 27 Cr 21 Ti 22 Al 20             0.0         0.0                  0.00       0.0               0.0                        0.0         0.0                 0.0  The selected alloy W 10 Mo 27 Cr 21 Ti 22 Al 2...  10.1016.j.vacuum.2020.109614\n 2  W 10 Mo 27 Cr 21 Ti 22 Al 20          1245.0         0.0                  7.48     511.0               0.0                        0.0         0.0                 0.0  The alloy has a density of 7.48 g/cm3... The e...  10.1016.j.vacuum.2020.109614\n 3  W 10 Mo 27 Cr 21 Ti 22 Al 20          1245.0         0.0                  7.61     511.0              25.0                     1310.0         7.7                 0.0  The yield strength, σ 0.2 , (i.e., σ 0.2 is de...  10.1016.j.vacuum.2020.109614,\n                formula  yield_strength  grain_size  experimental_density  hardness  test_temperature  ultimate_tensile_strength  elongation  elongation_plastic                                           evidence                     doi\n 0  CuCoNiCrAlFeMoTiVZr             0.0         0.0                   0.0       0.0               0.0                        0.0         0.0                 0.0  A 10-element equimolar alloy, CuCoNiCrAlFeMoTi...  10.1002.adem.200300567\n 1      CuCoNiCrAl x Fe             0.0         0.0                   0.0       0.0               0.0                        0.0         0.0                 0.0  The increased tensile Young's modulus of Cu-Co...  10.1002.adem.200300567\n 2    CuCoNiCrAl 0.5 Fe             0.0         0.0                   0.0       0.0             800.0                        0.0         0.0                 0.0  The compressive yield strength of fcc CuCoNiCr...  10.1002.adem.200300567\n 3      CuCoNiCrAlFeTiV             0.0         0.8                   0.0       0.0               0.0                        0.0         0.0                 0.0  In Figure  5A  the average grain size of the a...  10.1002.adem.200300567\n 4      Cu 0.5 CoNiCrAl             0.0         7.0                   0.0       0.0               0.0                        0.0         0.0                 0.0  In Figure  5B  the average grain size of the a...  10.1002.adem.200300567\n 5      CuCoNiCrAlFeTiV             0.0         0.8                   0.0       0.0               0.0                        0.0         0.0                 0.0  TEM bright-field images and corresponding SAD ...  10.1002.adem.200300567\n 6        Cu0.5CoNiCrAl             0.0         7.0                   0.0       0.0               0.0                        0.0         0.0                 0.0  TEM bright-field images and corresponding SAD ...  10.1002.adem.200300567,\n               formula  yield_strength  grain_size  experimental_density  hardness  test_temperature  ultimate_tensile_strength  elongation  elongation_plastic                                           evidence                           doi\n 0             Hf-27Ta             0.0         1.0                   0.0       0.0               0.0                        0.0       0.000               0.000  An SEM microstructure analysis shows that, in ...  10.1016.j.ijrmhm.2020.105467\n 1        Hf-21Nb-21Ta             0.0         0.4                   0.0       0.0               0.0                        0.0       0.000               0.000  The alloy has an equiaxed, polygonal grain str...  10.1016.j.ijrmhm.2020.105467\n 2        Hf-21Mo-21Ta             0.0       145.0                   0.0       0.0               0.0                        0.0       0.000               0.000  SEM shows that Hf-21Mo-21Ta has an equiaxed gr...  10.1016.j.ijrmhm.2020.105467\n 3         Hf-21Ta-21W             0.0        75.0                   0.0       0.0               0.0                        0.0       0.000               0.000  The microstructure of Hf-21Ta-21W consists of ...  10.1016.j.ijrmhm.2020.105467\n 4         Hf-21Ta-21W           832.0         0.0                   0.0     522.0              25.0                        0.0       0.000               0.000  The ternary alloys with Mo (Hf-21Mo-21Ta) and ...  10.1016.j.ijrmhm.2020.105467\n 5             Hf-27Ta             0.0         0.0                   0.0       0.0               0.0                        0.0       0.000               0.000  A binary Hf-27Ta alloy and three ternary alloy...  10.1016.j.ijrmhm.2020.105467\n 6        Hf-21Mo-21Ta             0.0         0.0                   0.0       0.0               0.0                        0.0       0.000               0.000  A binary Hf-27Ta alloy and three ternary alloy...  10.1016.j.ijrmhm.2020.105467\n 7        Hf-21Nb-21Ta             0.0         0.0                   0.0       0.0               0.0                        0.0       0.000               0.000  A binary Hf-27Ta alloy and three ternary alloy...  10.1016.j.ijrmhm.2020.105467\n 8         Hf-21Ta-21W             0.0         0.0                   0.0       0.0               0.0                        0.0       0.000               0.000  A binary Hf-27Ta alloy and three ternary alloy...  10.1016.j.ijrmhm.2020.105467\n 9         Hf 73 Ta 27          1708.0         0.0                   0.0     490.0              25.0                     1940.0       0.129               0.106  Hf 73 Ta 27 Hv 490 σ y (MPa) 1708 σ p (MPa) 19...  10.1016.j.ijrmhm.2020.105467\n 10  Hf 58 Mo 21 Ta 21          1496.0         0.0                   0.0     513.0              25.0                     1580.0       0.048               0.031  Hf 58 Mo 21 Ta 21 Hv 513 σ y (MPa) 1496 σ p (M...  10.1016.j.ijrmhm.2020.105467\n 11  Hf 58 Nb 21 Ta 21           832.0         0.0                   0.0     289.0              25.0                     1204.0       0.559               0.554  Hf 58 Nb 21 Ta 21 Hv 289 σ y (MPa) 832 σ p (MP...  10.1016.j.ijrmhm.2020.105467\n 12   Hf 58 Ta 21 W 21          1475.0         0.0                   0.0     522.0              25.0                     1883.0       0.067               0.059  Hf 58 Ta 21 W 21 Hv 522 σ y (MPa) 1475 σ p (MP...  10.1016.j.ijrmhm.2020.105467,\n                    formula  yield_strength  grain_size  experimental_density  hardness  test_temperature  ultimate_tensile_strength  elongation  elongation_plastic                                           evidence                           doi\n 0  Ti 40 Nb 30 Hf 15 Al 15             0.0       400.0                  7.07       0.0               0.0                        0.0         0.0                 0.0  The density of the alloy, determined by the hy...  10.1016.j.ijrmhm.2020.105322\n 1  Ti 40 Nb 30 Hf 15 Al 15           830.0       400.0                  0.00       0.0              22.0                        0.0        50.0                 0.0  After annealing at 1200˚C, the alloy demonstra...  10.1016.j.ijrmhm.2020.105322\n 2  Ti 40 Nb 30 Hf 15 Al 15           635.0         0.0                  0.00       0.0             600.0                        0.0        50.0                 0.0  At 600°C, the yield strength decreased to 635 ...  10.1016.j.ijrmhm.2020.105322\n 3  Ti 40 Nb 30 Hf 15 Al 15          1250.0         0.0                  0.00       0.0              22.0                        0.0        16.0                 0.0  At 22°C, the yield strength increased by ~50% ...  10.1016.j.ijrmhm.2020.105322\n 4  Ti 40 Nb 30 Hf 15 Al 15           920.0         0.0                  0.00       0.0             600.0                        0.0        50.0                 0.0  At 600°C, the alloy exhibited higher ductility...  10.1016.j.ijrmhm.2020.105322\n 5  Ti 40 Nb 30 Hf 15 Al 15           830.0         0.0                  0.00       0.0              22.0                        0.0         0.0                 0.0  After annealing at 1200˚C, the alloy demonstra...  10.1016.j.ijrmhm.2020.105322\n 6  Ti 40 Nb 30 Hf 15 Al 15           635.0         0.0                  0.00       0.0             600.0                        0.0         0.0                 0.0  At 600°C, the yield strength decreased to 635 ...  10.1016.j.ijrmhm.2020.105322\n 7  Ti 40 Nb 30 Hf 15 Al 15          1250.0         0.0                  0.00       0.0              22.0                     1630.0        16.0                 0.0  At 22°C, the yield strength increased by ~50% ...  10.1016.j.ijrmhm.2020.105322\n 8  Ti 40 Nb 30 Hf 15 Al 15           920.0         0.0                  0.00       0.0             600.0                        0.0         0.0                 0.0  At 600°C, the alloy exhibited higher ductility...  10.1016.j.ijrmhm.2020.105322,\n            formula  yield_strength  grain_size  experimental_density  hardness  test_temperature  ultimate_tensile_strength  elongation  elongation_plastic                                           evidence                           doi\n 0  HfMo x NbTaTiZr          1015.0         0.0                  0.00       0.0               0.0                        0.0         0.0                 0.0  The yield strength of the HfMo x NbTaTiZr allo...  10.1016.j.matlet.2016.03.133\n 1  HfMo x NbTaTiZr          1015.0         0.0                  9.91     335.0               0.0                        0.0         0.0                 0.0  The yield strength of the studied alloys incre...  10.1016.j.matlet.2016.03.133,\n                  formula  yield_strength  grain_size  experimental_density  hardness  test_temperature  ultimate_tensile_strength  elongation  elongation_plastic                                           evidence                           doi\n 0  Al 0.5 CrNbTi 2 V 0.5          1340.0       300.0                  5.76       0.0              22.0                        0.0        18.5                 0.0  The as-cast alloy has the yield strength of 12...  10.1016.j.matlet.2016.11.030\n 1  Al 0.5 CrNbTi 2 V 0.5          1340.0         0.0                  0.00       0.0              20.0                        0.0         0.0                 0.0  The precipitation of Laves phase particle incr...  10.1016.j.matlet.2016.11.030,\n                          formula  yield_strength  grain_size  experimental_density  hardness  test_temperature  ultimate_tensile_strength  elongation  elongation_plastic                                           evidence                           doi\n 0         AlMo 0.5 NbTa 0.5 TiZr           745.0         0.0                   0.0       0.0            1000.0                        0.0         0.0                 0.0  Among these RHEAs, AlMo 0.5 NbTa 0.5 TiZr has ...  10.1016.j.matdes.2017.11.033\n 1             AlMo0.5NbTa0.5TiZr             0.0         0.0                   0.0       0.0               0.0                        0.0         0.0                 0.0  XRD of the base AlMo 0.5 NbTa 0.5 TiZr alloy c...  10.1016.j.matdes.2017.11.033\n 2          AlMo0.5NbTa0.5TiZr0.5             0.0         0.0                   0.0       0.0               0.0                        0.0         0.0                 0.0  Reducing the amount of Zr in the AlMo 0.5 NbTa...  10.1016.j.matdes.2017.11.033\n 3               AlNbTa0.5TiZr0.5             0.0         0.0                   0.0       0.0               0.0                        0.0         0.0                 0.0  Additional removal of Mo (AlNbTa 0.5 TiZr 0.5 ...  10.1016.j.matdes.2017.11.033\n 4          Al0.5Mo0.5NbTa0.5TiZr             0.0         0.0                   0.0       0.0               0.0                        0.0         0.0                 0.0  According to the X-ray diffraction analysis, t...  10.1016.j.matdes.2017.11.033\n 5                 Al0.25NbTaTiZr             0.0         0.0                   0.0       0.0               0.0                        0.0         0.0                 0.0  Finally, the alloy with a reduced Al and Mo co...  10.1016.j.matdes.2017.11.033\n 6         AlMo 0.5 NbTa 0.5 TiZr          2197.0         0.0                   0.0       5.8               0.0                     2370.0         4.1                 0.0  The base AlMo 0.5 NbTa 0.5 TiZr alloy has rath...  10.1016.j.matdes.2017.11.033\n 7     AlMo 0.5 NbTa 0.5 TiZr 0.5             0.0         0.0                   0.0       6.2               0.0                     1320.0         0.0                 0.0  A decrease in the amount of Zr (AlMo 0.5 NbTa ...  10.1016.j.matdes.2017.11.033\n 8            AlNbTa 0.5 TiZr 0.5          1352.0         0.0                   0.0       5.0               0.0                     1357.0         0.0                 0.0  An additional removal of Mo (AlNbTa 0.5 TiZr 0...  10.1016.j.matdes.2017.11.033\n 9    Al 0.5 Mo 0.5 NbTa 0.5 TiZr          2350.0         0.0                   0.0       6.4               0.0                     2460.0         3.2                 0.0  A decrease in the amount of Al in Al 0.5 Mo 0....  10.1016.j.matdes.2017.11.033\n 10              Al 0.25 NbTaTiZr          1745.0         0.0                   0.0       4.9               0.0                     1830.0         3.8                 0.0  Finally, Al 0.25 NbTaTiZr, which has even lowe...  10.1016.j.matdes.2017.11.033\n 11    AlMo 0.5 NbTa 0.5 TiZr 0.5           935.0         0.0                   0.0       0.0            1000.0                     1019.0         0.0                 0.0  The AlMo 0.5 NbTa 0.5 TiZr 0.5 RHEA (with a re...  10.1016.j.matdes.2017.11.033\n 12           AlNbTa 0.5 TiZr 0.5           535.0         0.0                   0.0       0.0            1000.0                      542.0         0.0                 0.0  Additional removal of Mo resulted in a signifi...  10.1016.j.matdes.2017.11.033\n 13   Al 0.5 Mo 0.5 NbTa 0.5 TiZr           579.0         0.0                   0.0       0.0            1000.0                      646.0         0.0                 0.0  The Al 0.5 Mo 0.5 NbTa 0.5 TiZr alloy (with a ...  10.1016.j.matdes.2017.11.033\n 14              Al 0.25 NbTaTiZr           366.0         0.0                   0.0       0.0            1000.0                      408.0         0.0                 0.0  The Al 0.25 NbTaTiZr RHEA, which has even less...  10.1016.j.matdes.2017.11.033\n 15    AlMo 0.5 NbTa 0.5 TiZr 0.5             0.0         0.0                   0.0       0.0            1000.0                        0.0         0.0                 0.0  Single-phase B2 RHEAs show the highest (AlMo 0...  10.1016.j.matdes.2017.11.033\n 16           AlNbTa 0.5 TiZr 0.5             0.0         0.0                   0.0       0.0            1000.0                        0.0         0.0                 0.0  Single-phase B2 RHEAs show the highest (AlMo 0...  10.1016.j.matdes.2017.11.033\n 17        AlMo 0.5 NbTa 0.5 TiZr             0.0         0.0                   0.0       0.0               0.0                        0.0         0.0                 0.0  Compositional adjustments of the base AlMo 0.5...  10.1016.j.matdes.2017.11.033\n 18    AlMo 0.5 NbTa 0.5 TiZr 0.5             0.0         0.0                   0.0       0.0               0.0                        0.0         0.0                 0.0  Fig. 4 . 4 Fig. 4. AlMo 0.5 NbTa 0.5 TiZr 0.5 ...  10.1016.j.matdes.2017.11.033\n 19           AlNbTa 0.5 TiZr 0.5             0.0         0.0                   0.0       0.0               0.0                        0.0         0.0                 0.0  Fig. 7 . 7 Fig. 7. SEM BSE micrographs of AlNb...  10.1016.j.matdes.2017.11.033\n 20   Al 0.5 Mo 0.5 NbTa 0.5 TiZr             0.0         0.0                   0.0       0.0               0.0                        0.0         0.0                 0.0  Fig. 9 . 9 Fig. 9. BSE images of Al 0.5 Mo 0.5...  10.1016.j.matdes.2017.11.033\n 21              Al 0.25 NbTaTiZr             0.0         0.0                   0.0       0.0               0.0                        0.0         0.0                 0.0  Fig. 12 . 12 Fig. 12. BSE images of Al 0.25 Nb...  10.1016.j.matdes.2017.11.033\n 22        AlMo 0.5 NbTa 0.5 TiZr          2197.0         0.0                   7.4       5.8               0.0                     2370.0         4.1                 0.0  AlMo 0.5 NbTa 0.5 TiZr 326.9/330.4 7.4/7.31 5....  10.1016.j.matdes.2017.11.033\n 23    AlMo 0.5 NbTa 0.5 TiZr 0.5             0.0         0.0                   7.4       6.2               0.0                     1320.0         1.0                 0.0  AlMo 0.5 NbTa 0.5 TiZr 0.5 326.9 7.4/7.32 6.2 ...  10.1016.j.matdes.2017.11.033\n 24           AlNbTa 0.5 TiZr 0.5          1352.0         0.0                   7.1       5.0               0.0                     1357.0         1.3                 0.0  AlNbTa 0.5 TiZr 0.5 330.6 7.1/7.02 5.0 ± 0.1 1...  10.1016.j.matdes.2017.11.033\n 25  A l 0.5 Mo 0.5 NbTa 0.5 TiZr          2350.0         0.0                   8.1       6.4               0.0                     2460.0         3.2                 0.0  A l 0.5 Mo 0.5 NbTa 0.5 TiZr 328.3 8.1/7.96 6....  10.1016.j.matdes.2017.11.033\n 26             A l 0.25 NbTaTiZr          1745.0         0.0                   9.4       4.9               0.0                     1830.0         3.8                 0.0  A l 0.25 NbTaTiZr 330.0 9.4/9.27 4.9 ± 0.1 118...  10.1016.j.matdes.2017.11.033,\n        formula  yield_strength  grain_size  experimental_density  hardness  test_temperature  ultimate_tensile_strength  elongation  elongation_plastic                                           evidence                             doi\n 0     NbHfZrTi             0.0       150.0                  0.00       0.0               0.0                        0.0         0.0                 0.0  The equiatomic NbHfZrTi HEA was synthesized, a...  10.1016.j.intermet.2019.04.003\n 1     NbHfZrTi             0.0         0.0                  0.00       0.0               0.0                        0.0        15.0                 0.0  In summary, all relevant elastic parameters in...  10.1016.j.intermet.2019.04.003\n 2     NbHfZrTi             0.0         0.0                  8.32       0.0               0.0                        0.0         0.0                 0.0  In this study, elastic constants of the single...  10.1016.j.intermet.2019.04.003\n 3     NbHfZrTi            69.7         0.0                  0.00       0.0               0.0                       89.4         0.0                 0.0                               NbHfZrTi a 69.7 89.4  10.1016.j.intermet.2019.04.003\n 4   NbTaHfZrTi            78.5         0.0                  0.00       0.0               0.0                      106.9         0.0                 0.0                       NbTaHfZrTi [22] b 78.5 106.9  10.1016.j.intermet.2019.04.003\n 5    NbMoTaWTi           156.0         0.0                  0.00       0.0               0.0                      222.2         0.0                 0.0                          NbMoTaWTi [7] a 156 222.2  10.1016.j.intermet.2019.04.003\n 6   NbMoTaWTiV           164.0         0.0                  0.00       0.0               0.0                      209.0         0.0                 0.0                         NbMoTaWTiV [7] a 164 209.0  10.1016.j.intermet.2019.04.003\n 7   NiCoCrFeMn           201.6         0.0                  0.00       0.0               0.0                      219.9         0.0                 0.0                       NiCoCrFeMn [6] a 201.6 219.9  10.1016.j.intermet.2019.04.003\n 8     NiCoFeCr           215.0         0.0                  0.00       0.0               0.0                      225.7         0.0                 0.0                         NiCoFeCr [6] a 215.0 225.7  10.1016.j.intermet.2019.04.003\n 9     NiCoFeMn           187.9         0.0                  0.00       0.0               0.0                      204.5         0.0                 0.0                         NiCoFeMn [6] a 187.9 204.5  10.1016.j.intermet.2019.04.003\n 10    NiCoCrMn           195.0         0.0                  0.00       0.0               0.0                      222.1         0.0                 0.0                         NiCoCrMn [6] a 195.0 222.1  10.1016.j.intermet.2019.04.003\n 11      NiCoFe           162.0         0.0                  0.00       0.0               0.0                      206.8         0.0                 0.0                           NiCoFe [6] a 162.0 206.8  10.1016.j.intermet.2019.04.003\n 12      NiCoCr           226.2         0.0                  0.00       0.0               0.0                      230.8         0.0                 0.0                           NiCoCr [6] a 226.2 230.8  10.1016.j.intermet.2019.04.003\n 13      NiFeMn           181.0         0.0                  0.00       0.0               0.0                      203.0         0.0                 0.0                           NiFeMn [6] a 181.0 203.0  10.1016.j.intermet.2019.04.003\n 14      NiCoMn           189.4         0.0                  0.00       0.0               0.0                      202.2         0.0                 0.0                           NiCoMn [6] a 189.4 202.2  10.1016.j.intermet.2019.04.003\n 15        NiCo           216.7         0.0                  0.00       0.0               0.0                      204.5         0.0                 0.0                             NiCo [6] a 216.7 204.5  10.1016.j.intermet.2019.04.003\n 16        NiFe           166.2         0.0                  0.00       0.0               0.0                      205.7         0.0                 0.0                             NiFe [6] a 166.2 205.7  10.1016.j.intermet.2019.04.003,\n                                formula  yield_strength  grain_size  experimental_density  hardness  test_temperature  ultimate_tensile_strength  elongation  elongation_plastic                                           evidence                            doi\n 0                              MoNbTaW           405.0         0.0                  0.00       0.0            1600.0                        0.0         0.0                 0.0                         MoNbTaW (405 MPa at 1600 )  10.1016.j.jallcom.2020.155700\n 1                             MoNbTaVW           477.0         0.0                  0.00       0.0            1600.0                        0.0         0.0                 0.0                        MoNbTaVW (477 MPa at 1600 )  10.1016.j.jallcom.2020.155700\n 2                           HfNbTaTiZr             0.0         0.0                  0.00       0.0               0.0                        0.0         0.0                 0.0  the replacement of Ta in HfNbTaTiZr, with Mo, ...  10.1016.j.jallcom.2020.155700\n 3                           AlxNbTaTiV          1092.0         0.0                  0.00       0.0               0.0                        0.0         0.0                 0.0  adding Al to AlxNbTaTiV led to a yield strengt...  10.1016.j.jallcom.2020.155700\n 4                   AlMo0.5NbTa0.5TiZr           745.0         0.0                  0.00       0.0            1000.0                        0.0         0.0                 0.0  AlMo0.5NbTa0.5TiZr, which has shown an impress...  10.1016.j.jallcom.2020.155700\n 5  Al 10 Cr 20 Mo 20 Nb 20 Ti 20 Zr 10             0.0         0.0                  6.93       0.0            1000.0                        0.0         0.0                 0.0  Al 10 -Q Al 10 Cr 20 Mo 20 Nb 20 Ti 20 Zr 10 6...  10.1016.j.jallcom.2020.155700\n 6   V 10 Cr 20 Mo 20 Nb 20 Ti 20 Zr 10             0.0         0.0                  7.31       0.0               0.0                        0.0         0.0                 0.0  V 10 -Q V 10 Cr 20 Mo 20 Nb 20 Ti 20 Zr 10 7.3...  10.1016.j.jallcom.2020.155700\n 7  Ta 10 Cr 20 Mo 20 Nb 20 Ti 20 Zr 10             0.0         0.0                  8.40       0.0               0.0                        0.0         0.0                 0.0  Ta 10 -Q Ta 10 Cr 20 Mo 20 Nb 20 Ti 20 Zr 10 8...  10.1016.j.jallcom.2020.155700,\n                       formula  yield_strength  grain_size  experimental_density  hardness  test_temperature  ultimate_tensile_strength  elongation  elongation_plastic                                           evidence                            doi\n 0          HfMo 0.5 NbTiV 0.5          1260.0         0.0                  0.00       0.0              20.0                        0.0         0.0                 0.0  At room temperature, The HfMo 0.5 NbTiV 0.5 an...  10.1016.j.jallcom.2016.10.014\n 1   HfMo 0.5 NbTiV 0.5 Si 0.7          2134.0         0.0                  0.00       0.0              20.0                        0.0         0.0                 0.0  At room temperature, The HfMo 0.5 NbTiV 0.5 an...  10.1016.j.jallcom.2016.10.014\n 2          HfMo 0.5 NbTiV 0.5            60.0         0.0                  0.00       0.0            1200.0                        0.0         0.0                 0.0  During deformation at 1200 , the yield strengt...  10.1016.j.jallcom.2016.10.014\n 3   HfMo 0.5 NbTiV 0.5 Si 0.7           235.0         0.0                  0.00       0.0            1200.0                        0.0         0.0                 0.0  During deformation at 1200 , the yield strengt...  10.1016.j.jallcom.2016.10.014\n 4     HfMo 0.5 NbTiV 0.5 Si x          2134.0         0.0                  8.49     612.0               0.0                        0.0         0.0                 0.0  For the matrix HfMo 0.5 NbTiV 0.5 alloy, the h...  10.1016.j.jallcom.2016.10.014\n 5          HfMo 0.5 NbTiV 0.5          1260.0         0.0                  0.00       0.0               0.0                        0.0        35.0                 0.0  the respective yield strength and fracture str...  10.1016.j.jallcom.2016.10.014\n 6   HfMo 0.5 NbTiV 0.5 Si 0.7          2134.0         0.0                  0.00       0.0               0.0                        0.0         9.2                 0.0  the yield strength and fracture strain of the ...  10.1016.j.jallcom.2016.10.014\n 7          HfMo 0.5 NbTiV 0.5            60.0         0.0                  9.02       0.0            1200.0                        0.0        35.0                 0.0  The yield strengths of HfMo 0.5 NbTiV 0.5 and ...  10.1016.j.jallcom.2016.10.014\n 8   HfMo 0.5 NbTiV 0.5 Si 0.3           166.0         0.0                  8.75       0.0            1200.0                        0.0        35.0                 0.0  HfMo 0.5 NbTiV 0.5 Si 0.3 -16.17 12.61 7.9% 1....  10.1016.j.jallcom.2016.10.014\n 9   HfMo 0.5 NbTiV 0.5 Si 0.5           188.0         0.0                  8.60       0.0            1200.0                        0.0        35.0                 0.0  HfMo 0.5 NbTiV 0.5 Si 0.5 -24.44 12.39 8.8% 1....  10.1016.j.jallcom.2016.10.014\n 10  HfMo 0.5 NbTiV 0.5 Si 0.7           235.0         0.0                  8.49       0.0            1200.0                        0.0        35.0                 0.0  HfMo 0.5 NbTiV 0.5 Si 0.7 -31.13 12.17 9.4% 0....  10.1016.j.jallcom.2016.10.014,\n   formula  yield_strength  grain_size  experimental_density  hardness  test_temperature  ultimate_tensile_strength  elongation  elongation_plastic                                           evidence                         doi\n 0  TaTiZr          1671.0         0.0                  9.56       0.0              25.0                        0.0         0.0                 0.0  The HIP'd alloy had high yield stress of 1671 ...  10.1016.j.msea.2021.141168\n 1  TaTiZr             0.0       320.0                  0.00       0.0               0.0                        0.0         0.0                 0.0  Microstructure of TaTiZr in HIP'd condition SE...  10.1016.j.msea.2021.141168\n 2  TaTiZr             0.0       320.0                  0.00       0.0            1400.0                        0.0         0.0                 0.0  T = 1400 • C, at which the TaTiZr alloy was HI...  10.1016.j.msea.2021.141168\n 3  TaTiZr          1671.0       320.0                  0.00       0.0              25.0                        0.0         0.0                 0.0  After hot isostatic pressing (HIP) at 1400 • C...  10.1016.j.msea.2021.141168\n 4  TaTiZr          1440.0       320.0                  0.00       0.0             400.0                        0.0         0.0                 0.0  After hot isostatic pressing (HIP) at 1400 • C...  10.1016.j.msea.2021.141168\n 5  TaTiZr           346.0       320.0                  0.00       0.0             600.0                        0.0         0.0                 0.0  During deformation at T ≥ 600 • C the alloy be...  10.1016.j.msea.2021.141168\n 6  TaTiZr           103.0       320.0                  0.00       0.0            1000.0                        0.0         0.0                 0.0  During deformation at T ≥ 600 • C the alloy be...  10.1016.j.msea.2021.141168\n 7  TaTiZr             0.0         0.0                  0.00       0.0               0.0                        0.0         0.0                 0.0  Fig. 1. True stress vs. true strain compressio...  10.1016.j.msea.2021.141168,\n                formula  yield_strength  grain_size  experimental_density  hardness  test_temperature  ultimate_tensile_strength  elongation  elongation_plastic                                           evidence                            doi\n 0  MoNbRe 0.5 W(TaC) x             0.0         0.0                   0.0       0.0               0.0                        0.0       10.25                 0.0  The MoNbRe 0.5 W(TaC) 0.5 composite has the ma...  10.1016.j.jallcom.2018.11.111\n 1     MoNbRe0.5W(TaC)x          1202.0         0.0                   0.0       0.0               0.0                        0.0       10.25                 0.0  The T0.5 composite has the maximum fracture st...  10.1016.j.jallcom.2018.11.111\n 2              MoNbTaW          1058.0         0.0                   0.0       0.0               0.0                        0.0        0.00                 0.0  As reported by Senkov  [9] , the yield strengt...  10.1016.j.jallcom.2018.11.111\n 3             MoNbTaVW          1246.0         0.0                   0.0       0.0               0.0                        0.0        0.00                 0.0  As reported by Senkov  [9] , the yield strengt...  10.1016.j.jallcom.2018.11.111\n 4     MoNbRe0.5W(TaC)x           896.0         0.0                   0.0       0.0               0.0                        0.0        0.00                 0.0  Table 2 Compressive mechanical properties of t...  10.1016.j.jallcom.2018.11.111\n 5     MoNbRe0.5W(TaC)x          1074.0         0.0                   0.0       0.0               0.0                        0.0        0.00                 0.0  Table 2 Compressive mechanical properties of t...  10.1016.j.jallcom.2018.11.111\n 6     MoNbRe0.5W(TaC)x          1144.0         0.0                   0.0       0.0               0.0                        0.0        0.00                 0.0  Table 2 Compressive mechanical properties of t...  10.1016.j.jallcom.2018.11.111\n 7     MoNbRe0.5W(TaC)x          1202.0         0.0                   0.0       0.0               0.0                        0.0        0.00                 0.0  Table 2 Compressive mechanical properties of t...  10.1016.j.jallcom.2018.11.111\n 8     MoNbRe0.5W(TaC)x          1241.0         0.0                   0.0       0.0               0.0                        0.0        0.00                 0.0  Table 2 Compressive mechanical properties of t...  10.1016.j.jallcom.2018.11.111,\n                formula  yield_strength  grain_size  experimental_density  hardness  test_temperature  ultimate_tensile_strength  elongation  elongation_plastic                                           evidence                         doi\n 0  TiNbTa 0.5 ZrAl 0.5             0.0         0.0                   0.0       0.0               0.0                        0.0         0.0                 0.0  In this work, the phase stability of a BCC TiN...  10.1016.j.jmst.2020.05.038\n 1     TiNbTa0.5ZrAl0.5          1500.0         0.0                   0.0     780.0               0.0                        0.0        22.0                 0.0  The yield strength of HEA1500, HEA1200 and HEA...  10.1016.j.jmst.2020.05.038\n 2     TiNbTa0.5ZrAl0.5          1740.0         0.0                   0.0     589.0               0.0                        0.0        18.0                 0.0  The yield strength of HEA1500, HEA1200 and HEA...  10.1016.j.jmst.2020.05.038\n 3     TiNbTa0.5ZrAl0.5          1310.0         0.0                   0.0     563.0               0.0                        0.0        34.0                 0.0  The yield strength of HEA1500, HEA1200 and HEA...  10.1016.j.jmst.2020.05.038\n 4  TiNbTa 0.5 ZrAl 0.5             0.0         0.0                   0.0       0.0               0.0                        0.0         0.0                 0.0  In this work, the multiple impacts of precipit...  10.1016.j.jmst.2020.05.038\n 5     TiNbTa0.5ZrAl0.5           240.0         1.0                   0.0       0.0            1200.0                        0.0         0.0                 4.0  The hard HCP precipitates make the HEA1200 str...  10.1016.j.jmst.2020.05.038\n 6              HEA1200             0.0         0.0                   0.0       0.0            1200.0                        0.0         0.0                 0.0  12.1 11.4 5.5 38.1 32.9 HEA1200 BCC (Nb, Ta)-rich  10.1016.j.jmst.2020.05.038\n 7               HEA800             0.0         0.0                   0.0       0.0             800.0                        0.0         0.0                 0.0   25.1 21.2 9.7 33.5 10.4 HEA800 BCC (Nb, Ta)-rich  10.1016.j.jmst.2020.05.038,\n                    formula  yield_strength  grain_size  experimental_density  hardness  test_temperature  ultimate_tensile_strength  elongation  elongation_plastic                                           evidence                            doi\n 0      Ti2ZrHf0.5VNb0.5Alx           915.0         0.0                  0.00       0.0             293.0                        0.0         0.0                 0.0  This B2 ordering results in significant yield ...  10.1016.j.matchar.2021.111287\n 1      Ti2ZrHf0.5VNb0.5Alx          1410.0         0.0                  0.00       0.0             293.0                        0.0         0.0                 0.0  This B2 ordering results in significant yield ...  10.1016.j.matchar.2021.111287\n 2      Ti2ZrHf0.5VNb0.5Alx           719.0         0.0                  0.00       0.0             873.0                        0.0         0.0                 0.0                       719 MPa to 1088 MPa at 873 K  10.1016.j.matchar.2021.111287\n 3      Ti2ZrHf0.5VNb0.5Alx          1088.0         0.0                  0.00       0.0             873.0                        0.0         0.0                 0.0                       719 MPa to 1088 MPa at 873 K  10.1016.j.matchar.2021.111287\n 4      Ti2ZrHf0.5VNb0.5Alx           126.0         0.0                  0.00       0.0            1073.0                        0.0         0.0                 0.0                       126 MPa to 278 MPa at 1073 K  10.1016.j.matchar.2021.111287\n 5      Ti2ZrHf0.5VNb0.5Alx           278.0         0.0                  0.00       0.0            1073.0                        0.0         0.0                 0.0                       126 MPa to 278 MPa at 1073 K  10.1016.j.matchar.2021.111287\n 6      Ti2ZrHf0.5VNb0.5Alx           915.0         0.0                  6.68       0.0               0.0                        0.0         0.0                 0.0  As x increases from 0 to 1, σ y exhibit a sign...  10.1016.j.matchar.2021.111287\n 7      Ti2ZrHf0.5V0.5NbAlx             0.0         0.0                  0.00       0.0               0.0                        0.0         0.0                 0.0  The effect of Al elements on the mechanical pr...  10.1016.j.matchar.2021.111287\n 8      Ti2ZrHf0.5VNb0.5Alx             0.0         0.0                  0.00       0.0               0.0                        0.0         0.0                 0.0  In this work, the antioxidant light-weight ele...  10.1016.j.matchar.2021.111287\n 9      Ti2ZrHf0.5V0.5NbAlx           915.0         0.0                  0.00       0.0             293.0                        0.0         0.0                 0.0  The Al addition significantly increases the yi...  10.1016.j.matchar.2021.111287\n 10     Ti2ZrHf0.5V0.5NbAl0             0.0         0.0                  0.00       0.0               0.0                        0.0         0.0                 0.0  Table 1 Chemical composition (at.%) of dendrit...  10.1016.j.matchar.2021.111287\n 11  Ti2ZrHf0.5V0.5NbAl0.25             0.0         0.0                  0.00       0.0               0.0                        0.0         0.0                 0.0  Table 1 Chemical composition (at.%) of dendrit...  10.1016.j.matchar.2021.111287\n 12   Ti2ZrHf0.5V0.5NbAl0.5             0.0         0.0                  0.00       0.0               0.0                        0.0         0.0                 0.0  Table 1 Chemical composition (at.%) of dendrit...  10.1016.j.matchar.2021.111287\n 13  Ti2ZrHf0.5V0.5NbAl0.75             0.0         0.0                  0.00       0.0               0.0                        0.0         0.0                 0.0  Table 1 Chemical composition (at.%) of dendrit...  10.1016.j.matchar.2021.111287\n 14     Ti2ZrHf0.5V0.5NbAl1             0.0         0.0                  0.00       0.0               0.0                        0.0         0.0                 0.0  Table 1 Chemical composition (at.%) of dendrit...  10.1016.j.matchar.2021.111287,\n     formula  yield_strength  grain_size  experimental_density  hardness  test_temperature  ultimate_tensile_strength  elongation  elongation_plastic                                           evidence                             doi\n 0      CrNb             0.0       200.0                   0.0       0.0            1400.0                        0.0       0.000                 0.0  The microstructure of the CrNb alloy consists ...  10.1016.j.intermet.2021.107323\n 1    CrNbTi          1353.0       120.0                   0.0       0.0              25.0                     1460.0       0.000                 0.0  The ternary CrNbTi alloy was more ductile, but...  10.1016.j.intermet.2021.107323\n 2  CrNbTaTi           515.0         0.0                   0.0       0.0              25.0                        0.0       0.000                 0.0  The quaternary CrNbTaTi alloy showed excellent...  10.1016.j.intermet.2021.107323\n 3      CrNb           974.0         0.0                   0.0       0.0            1200.0                     1074.0       0.028                 0.0  T = 1200 • C σ y (MPa) 974 57 20 σ p (MPa) 107...  10.1016.j.intermet.2021.107323\n 4    CrNbTi            57.0         0.0                   0.0       0.0            1200.0                       60.0       0.017                 0.0  T = 1200 • C σ y (MPa) 974 57 20 σ p (MPa) 107...  10.1016.j.intermet.2021.107323\n 5  CrNbTaTi            20.0         0.0                   0.0       0.0            1200.0                       37.0       0.690                 0.0  T = 1200 • C σ y (MPa) 974 57 20 σ p (MPa) 107...  10.1016.j.intermet.2021.107323,\n    formula  yield_strength  grain_size  experimental_density  hardness  test_temperature  ultimate_tensile_strength  elongation  elongation_plastic                                           evidence                            doi\n 0  NbTaTiV             0.0         0.0                   0.0       0.0             900.0                        0.0         0.0                 0.0  The fully-homogeneous single-phase NbTaTiV ref...  10.1016.j.actamat.2018.08.053\n 1  NbTaTiV             0.0         0.0                   0.0       0.0               0.0                        0.0         0.0                 0.0  In-situ neutron-diffraction (ND) measurements ...  10.1016.j.actamat.2018.08.053\n 2  NbTaTiV          1273.0         0.0                   0.0       0.0               0.0                        0.0         0.0                 0.0  The values of the yield stress (σ y ) for the ...  10.1016.j.actamat.2018.08.053\n 3  NbTaTiV           431.0         0.0                   0.0       0.0               0.0                        0.0         0.0                 0.0  the strengthening components in the NbTaTiV al...  10.1016.j.actamat.2018.08.053\n 4  NbTaTiV             0.0         0.0                   0.0       0.0               0.0                        0.0         0.0                 0.0  Figure 4(a) presents the compressive engineeri...  10.1016.j.actamat.2018.08.053\n 5  NbTaTiV             0.0         0.0                   0.0       0.0               0.0                        0.0         0.0                 0.0  Table 1 SEM-EDS and APT compositions, and elem...  10.1016.j.actamat.2018.08.053,\n                              formula  yield_strength  grain_size  experimental_density  hardness  test_temperature  ultimate_tensile_strength  elongation  elongation_plastic                                           evidence                           doi\n 0  Nb 42 Mo 20 Ti 13 Cr 12 V 12 Ta 1          2680.0         0.0                  0.00     741.0               0.0                     3896.0         0.0                 0.0  The bulk Nb 42 Mo 20 Ti 13 Cr 12 V 12 Ta 1 RHE...  10.1016.j.ijrmhm.2019.02.009\n 1  Nb 42 Mo 20 Ti 13 Cr 12 V 12 Ta 1          2680.0       347.0                  8.02     741.0              20.0                     3896.0         5.2                 0.0  In this study, we developed a novel Nb 42 Mo 2...  10.1016.j.ijrmhm.2019.02.009\n 2  Nb 42 Mo 20 Ti 13 Cr 12 V 12 Ta 1          2680.0       327.0                  8.02     741.0               0.0                     3896.0         0.0                 0.0  Table 3 3 Compressive mechanical properties an...  10.1016.j.ijrmhm.2019.02.009,\n                    formula  yield_strength  grain_size  experimental_density  hardness  test_temperature  ultimate_tensile_strength  elongation  elongation_plastic                                           evidence                  doi\n 0           TiNbTa0.5ZrAlx             0.0         0.0                   0.0       0.0               0.0                        0.0         0.0                 0.0  TiNbTa 0.5 ZrAl x alloys (x ≤ 0.5) have single...  10.3390.met11030514\n 1                 RHEA-Al0             0.0         0.0                   0.0       0.0               0.0                        0.0         0.0                 0.0  As for RHEA-Al0, annealing at temperatures abo...  10.3390.met11030514\n 2               RHEA-Al0.2             0.0         0.0                   0.0       0.0               0.0                        0.0         0.0                 0.0  RHEA-Al0.2 has analogous precipitation behavio...  10.3390.met11030514\n 3               RHEA-Al0.5             0.0         0.0                   0.0       0.0               0.0                        0.0         0.0                 0.0  As for RHEA-Al0.5, the precipitation behavior ...  10.3390.met11030514\n 4               RHEA-Al1.0             0.0         0.0                   0.0       0.0               0.0                        0.0         0.0                 0.0  The annealed RHEA-Al1.0 consists of BCC and HC...  10.3390.met11030514\n 5           TiNbTa0.5ZrAlx             0.0         0.0                   0.0       0.0               0.0                        0.0         0.0                 0.0  The above empirical parameters for the current...  10.3390.met11030514\n 6  Al0.5NbTa0.8Ti1.5V0.2Zr             0.0         0.0                   0.0       0.0             600.0                        0.0         0.0                 0.0  Soni et al.  [29]  also observed similar phase...  10.3390.met11030514\n 7       AlMo0.5NbTa0.5TiZr             0.0         0.0                   0.0       0.0             800.0                        0.0         0.0                 0.0  RHEA-Al0.5 annealing at 800 • C causes precipi...  10.3390.met11030514\n 8           TiNbTa0.5ZrAlx             0.0         0.0                   0.0       0.0             800.0                        0.0         0.0                 0.0  Annealing at 800 • C causes precipitation of a...  10.3390.met11030514\n 9           Ti-Nb-Ta-Zr-Al             0.0         0.0                   0.0       0.0               0.0                        0.0         0.0                 0.0  Table 1 . 1 The values of ∆H mix (kJ/mol) for ...  10.3390.met11030514,\n   formula  yield_strength  grain_size  experimental_density  hardness  test_temperature  ultimate_tensile_strength  elongation  elongation_plastic                                           evidence                            doi\n 0  NbTaTi             0.0       400.0                 10.09       0.0               0.0                        0.0       0.000                 0.0  Annealed (HIP'd) Condition Both NbTaTi and NbT...  10.1016.j.jallcom.2020.158003\n 1  NbTaZr             0.0        40.0                 10.30       0.0               0.0                        0.0       0.000                 0.0  Annealed (HIP'd) Condition Both NbTaTi and NbT...  10.1016.j.jallcom.2020.158003\n 2  NbTaTi             0.0         0.0                  0.00       0.0               0.0                        0.0       0.000                 0.0  The equimolar alloys, NbTaTi and NbTaZr, studi...  10.1016.j.jallcom.2020.158003\n 3  NbTaZr             0.0         0.0                 10.30       0.0               0.0                        0.0       0.000                 0.0  However, NbTaZr has higher density (10.3 g/cm ...  10.1016.j.jallcom.2020.158003\n 4  NbTaTi             0.0         0.0                  0.00       0.0              25.0                        0.0       0.000                 0.0  Figure 1. True stress vs. true strain compress...  10.1016.j.jallcom.2020.158003\n 5  NbTaZr             0.0         0.0                  0.00       0.0              25.0                        0.0       0.000                 0.0  Figure 1. True stress vs. true strain compress...  10.1016.j.jallcom.2020.158003\n 6  NbTaTi           724.0         0.0                 10.09       0.0              25.0                     1137.0       0.354                 0.0  Table 2 . 2 Compression properties of NbTaTi a...  10.1016.j.jallcom.2020.158003\n 7  NbTaZr          1027.0         0.0                 10.30       0.0              25.0                     1409.0       0.169                 0.0  Table 2 . 2 Compression properties of NbTaTi a...  10.1016.j.jallcom.2020.158003,\n              formula  yield_strength  grain_size  experimental_density  hardness  test_temperature  ultimate_tensile_strength  elongation  elongation_plastic                                           evidence                               doi\n 0   Hf20Nb10Ti35Zr35           524.0         0.0                   0.0     252.0             900.0                      704.0        17.5                 0.0  The tensile stress-strain curve of BCC Nb10 af...  10.1016.j.scriptamat.2021.114225\n 1  Ti-6Cr-5Mo-5V-4Al          1031.0        10.0                   0.0     346.0             450.0                     1085.0         3.0                 0.0  The specimen aged at 450 °C for 36 had a hardn...  10.1016.j.scriptamat.2021.114225\n 2               Nb10           855.0         0.0                   0.0     274.0             500.0                      892.0         6.0                 0.0  The specimen treatment at 500 °C for 36 h had ...  10.1016.j.scriptamat.2021.114225,\n                          formula  yield_strength  grain_size  experimental_density  hardness  test_temperature  ultimate_tensile_strength  elongation  elongation_plastic                                           evidence                            doi\n 0  Ti 20 Hf 20 Zr 20 Ta 20 Nb 20             0.0         0.0                   0.0       0.0               0.0                        0.0         0.0                 0.0  The microstructure and the mechanical behavior...  10.1016.j.matchar.2015.11.018\n 1                            HEA             0.0       200.0                   0.0    1228.0               0.0                        0.0         0.0                 0.0  The material exhibits a random crystallographi...  10.1016.j.matchar.2015.11.018\n 2                     TiHfZrTaNb           600.0         0.0                   0.0       0.0             293.0                     1500.0         0.0                 0.0  In the pioneering work by Senkov et al. [15] s...  10.1016.j.matchar.2015.11.018\n 3           Ti20Hf20Zr20Ta20Nb20             0.0         0.0                   0.0       0.0               0.0                        0.0         0.0                 0.0  Conclusions The effect of strain rate on the p...  10.1016.j.matchar.2015.11.018,\n              formula  yield_strength  grain_size  experimental_density  hardness  test_temperature  ultimate_tensile_strength  elongation  elongation_plastic                                           evidence                            doi\n 0              NbTaW             0.0         0.0                  0.00       0.0               0.0                     1460.0        16.2                 0.0  NbTaW MEA had the maximum mechanical strength ...  10.1016.j.jallcom.2021.159740\n 1  (NbTaW)0.75Mo0.25             0.0         0.0                 13.75       0.0               0.0                        0.0         0.0                 0.0  The lattice constant and density of (NbTaW) 0....  10.1016.j.jallcom.2021.159740\n 2      (NbTaW)1-xMox          1298.0         0.0                  0.00       0.0               0.0                        0.0         0.0                 0.0  In present work, Mo 0 alloy yielded at σ 0.2 =...  10.1016.j.jallcom.2021.159740\n 3      (NbTaW)1-xMox             0.0         0.0                  0.00       0.0               0.0                        0.0         0.0                 0.0  Conclusion (NbTaW)1-xMox (x = 0, 0.05, 0.15, 0...  10.1016.j.jallcom.2021.159740\n 4      (NbTaW)1-xMox             0.0         0.0                  0.00    4023.0               0.0                        0.0         0.0                 0.0  The average HV are respectively measured to be...  10.1016.j.jallcom.2021.159740\n 5      (NbTaW)1-xMox             0.0         0.0                  0.00    5573.0               0.0                        0.0         0.0                 0.0                            5573 MPa for Mo 5 alloy  10.1016.j.jallcom.2021.159740\n 6      (NbTaW)1-xMox             0.0         0.0                  0.00    7684.0               0.0                        0.0         0.0                 0.0                           7684 MPa for Mo 15 alloy  10.1016.j.jallcom.2021.159740\n 7      (NbTaW)1-xMox             0.0         0.0                  0.00    7633.0               0.0                        0.0         0.0                 0.0                           7633 MPa for Mo 25 alloy  10.1016.j.jallcom.2021.159740,\n                           formula  yield_strength  grain_size  experimental_density  hardness  test_temperature  ultimate_tensile_strength  elongation  elongation_plastic                                           evidence                           doi\n 0    Ti 20 Zr 20 Hf 20 Nb 20 V 20             0.0         0.0                   0.0       0.0               0.0                        0.0         0.0                 0.0  We investigated the microstructure and mechani...  10.1016.j.ijrmhm.2014.07.009\n 1   Ti 20 Zr 20 Hf 20 Nb 20 Cr 20             0.0         0.0                   0.0       0.0               0.0                        0.0         0.0                 0.0  We investigated the microstructure and mechani...  10.1016.j.ijrmhm.2014.07.009\n 2             Ti20Zr20Hf20Nb20V20           929.0       100.0                   0.0       0.0            1173.0                        0.0        30.0                30.0  For Ti 20 Zr 20 Hf 20 Nb 20 V 20 alloy , the σ...  10.1016.j.ijrmhm.2014.07.009\n 3            Ti20Zr20Hf20Nb20Cr20          1322.0       100.0                   0.0       0.0            1173.0                        0.0         4.0                 4.0  For Ti 20 Zr 20 Hf 20 Nb 20 V 20 alloy , the σ...  10.1016.j.ijrmhm.2014.07.009\n 4    Ti 20 Zr 20 Hf 20 Nb 20 V 20             0.0        13.0                   0.0       0.0             298.0                        0.0         0.0                 0.0  Fig. 2 shows the SEM images of the surface of ...  10.1016.j.ijrmhm.2014.07.009\n 5   Ti 20 Zr 20 Hf 20 Nb 20 Cr 20             0.0        13.0                   0.0       0.0             298.0                        0.0         0.0                 0.0  It is found in the case of Ti 20 Zr 20 Hf 20 N...  10.1016.j.ijrmhm.2014.07.009\n 6             Ti20Zr20Hf20Nb20V20             0.0         0.0                   0.0       0.0               0.0                        0.0         0.0                 0.0  Ti 20 Zr 20 Hf 20 Nb 20 V 20 340.1 341.3 338.5...  10.1016.j.ijrmhm.2014.07.009\n 7            Ti20Zr20Hf20Nb20Cr20             0.0         0.0                   0.0       0.0               0.0                        0.0         0.0                 0.0  Ti 20 Zr 20 Hf 20 Nb 20 Cr 20 337.1 337.9 342....  10.1016.j.ijrmhm.2014.07.009\n 8            Ti20Zr20Hf20Nb20Ta20             0.0         0.0                   0.0       0.0               0.0                        0.0         0.0                 0.0  Ti 20 Zr 20 Hf 20 Nb 20 Ta 20 345.7 348.2 340....  10.1016.j.ijrmhm.2014.07.009\n 9                 Ta25Nb25W25Mo25             0.0         0.0                   0.0       0.0               0.0                        0.0         0.0                 0.0  Ta 25 Nb 25 W 25 Mo 25 326.9 330.1 321.3 261.6...  10.1016.j.ijrmhm.2014.07.009\n 10             Ta20Nb20W20Mo20V20             0.0         0.0                   0.0       0.0               0.0                        0.0         0.0                 0.0  Ta 20 Nb 20 W 20 Mo 20 V 20 323.2 324.7 318.3 ...  10.1016.j.ijrmhm.2014.07.009\n 11             Zr33.3Hf33.3Nb33.3             0.0         0.0                   0.0       0.0               0.0                        0.0         0.0                 0.0  Zr 33.3 Hf 33.3 Nb 33.3 356.3 358.6 348.7 113....  10.1016.j.ijrmhm.2014.07.009,\n                     formula  yield_strength  grain_size  experimental_density  hardness  test_temperature  ultimate_tensile_strength  elongation  elongation_plastic                                           evidence                         doi\n 0  Zr 1.2 V 0.8 NbTi x Al y             0.0         0.0                   5.0       0.0               0.0                        0.0        27.0                 0.0  In Zr 1.2 V 0.8 NbTi 3 Al y and Zr 1.2 V 0.8 N...  10.1016.j.msea.2021.141234\n 1           Ti3.6Al0.6 LHEA             0.0         0.0                   0.0       0.0               0.0                        0.0        27.0                 0.0  By controlling the Ti and Al, the specific yie...  10.1016.j.msea.2021.141234\n 2                  Ti2Al0.3           850.0       100.0                   0.0       0.0               0.0                        0.0        25.0                 0.0  The recrystallized Ti2Al0.3, Ti3.6Al0.3, and T...  10.1016.j.msea.2021.141234\n 3                Ti3.6Al0.3          1000.0       100.0                   0.0       0.0               0.0                        0.0        25.0                 0.0  The recrystallized Ti2Al0.3, Ti3.6Al0.3, and T...  10.1016.j.msea.2021.141234\n 4                Ti3.6Al0.6          1100.0       100.0                   0.0       0.0               0.0                        0.0        25.0                 0.0  The recrystallized Ti2Al0.3, Ti3.6Al0.3, and T...  10.1016.j.msea.2021.141234\n 5                    TixAly             0.0         0.0                   0.0       0.0               0.0                        0.0         0.0                 0.0  The previous studies  [20] [21] [22] 31]  show...  10.1016.j.msea.2021.141234\n 6  Zr 1.2 V 0.8 NbTi x Al y             0.0         0.0                   0.0       0.0               0.0                        0.0         0.0                 0.0  In this work, we reported a series of Zr 1.2 V...  10.1016.j.msea.2021.141234,\n        formula  yield_strength  grain_size  experimental_density  hardness  test_temperature  ultimate_tensile_strength  elongation  elongation_plastic                                           evidence                     doi\n 0     TaHfZrTi             0.0       100.0                   0.0       0.0               0.0                     1500.0         4.0                 0.0  Ta1 (#1) shows high strength (≈1500 MPa) but v...  10.1002.adma.201701678\n 1  Ta0.6HfZrTi             0.0         0.0                   0.0       0.0               0.0                     1100.0        20.0                 0.0  Decreasing the Ta content significantly ductil...  10.1002.adma.201701678\n 2  Ta0.5HfZrTi             0.0         0.0                   0.0       0.0               0.0                     1100.0        27.0                 0.0  Decreasing the Ta content significantly ductil...  10.1002.adma.201701678\n 3  Ta0.4HfZrTi             0.0         0.0                   0.0       0.0               0.0                        0.0         0.0                 0.0  Further decrease of Ta (i.e., Ta0.4, #4), the ...  10.1002.adma.201701678\n 4        Ta0.4             0.0         0.0                   0.0       0.0               0.0                        0.0         0.0                 0.0  To understand deformation mechanism of the des...  10.1002.adma.201701678\n 5    TaxHfZrTi             0.0         0.0                   0.0       0.0               0.0                        0.0         0.0                 0.0  Experimental Section Alloy ingots with a nomin...  10.1002.adma.201701678,\n                                 formula  yield_strength  grain_size  experimental_density  hardness  test_temperature  ultimate_tensile_strength  elongation  elongation_plastic                                           evidence                           doi\n 0                       TiZrNbMo0.3V0.3          1312.0         0.0                  0.00       0.0            1273.0                        0.0         0.0                50.0  Especially, TiZrNbMo 0.3 V 0.3 has the yield s...  10.1016.j.matdes.2015.06.072\n 1                             TiZrNbMoV             0.0         0.0                  0.00       0.0               0.0                        0.0         0.0                 0.0  Phase selection in TiZrNbMoV HEAs Up until now...  10.1016.j.matdes.2015.06.072\n 2                             TiZrNbVMo          1312.0         0.0                  0.00       0.0               0.0                        0.0         0.0                50.0  M3V3 demonstrates excellent comprehensive comp...  10.1016.j.matdes.2015.06.072\n 3                               TiZrNbV          1104.0         0.0                  6.46       0.0               0.0                        0.0        50.0                 0.0  Table 3 3 Room temperature mechanical properti...  10.1016.j.matdes.2015.06.072\n 4                         TiZrNbVMo 0.3          1289.0         0.0                  6.69       0.0               0.0                        0.0        42.0                 0.0  Table 3 3 Room temperature mechanical properti...  10.1016.j.matdes.2015.06.072\n 5                         TiZrNbVMo 0.5          1473.0         0.0                  6.83       0.0               0.0                        0.0        32.0                 0.0  Table 3 3 Room temperature mechanical properti...  10.1016.j.matdes.2015.06.072\n 6                         TiZrNbVMo 0.7          1706.0         0.0                  6.96       0.0               0.0                        0.0        32.0                 0.0  Table 3 3 Room temperature mechanical properti...  10.1016.j.matdes.2015.06.072\n 7                         TiZrNbVMo 1.0          1779.0         0.0                  7.13       0.0               0.0                        0.0        32.0                 0.0  Table 3 3 Room temperature mechanical properti...  10.1016.j.matdes.2015.06.072\n 8                         TiZrNbVMo 1.3          1496.0         0.0                  7.29       0.0               0.0                        0.0        30.0                 0.0  Table 3 3 Room temperature mechanical properti...  10.1016.j.matdes.2015.06.072\n 9                         TiZrNbVMo 1.5          1603.0         0.0                  7.38       0.0               0.0                        0.0        20.0                 0.0  Table 3 3 Room temperature mechanical properti...  10.1016.j.matdes.2015.06.072\n 10                            TiZrNbVMo          1603.0       217.0                  7.48    1645.0              20.0                      220.0        15.0                 0.0  Present work TiZrNbVMo 1.7 7.48 1645 220 15 Pr...  10.1016.j.matdes.2015.06.072\n 11                            TiZrNbVMo          1765.0       232.0                  7.60    1765.0              20.0                      232.0        12.0                 0.0  Present work TiZrNbVMo 2.0 7.60 1765 232 12 Pr...  10.1016.j.matdes.2015.06.072\n 12                              TiZrNbV           866.0       133.0                  6.51     866.0              45.0                      133.0        45.0                 0.0  Present work TiZrNbV 0.3 6.51 866 133 45 Prese...  10.1016.j.matdes.2015.06.072\n 13                   TiZrNbV 0.3 Mo 0.1           932.0       141.0                  6.60     932.0              45.0                      141.0        45.0                 0.0  Present work TiZrNbV 0.3 Mo 0.1 6.60 932 141 4...  10.1016.j.matdes.2015.06.072\n 14                   TiZrNbV 0.3 Mo 0.3          1312.0       194.0                  6.77    1312.0              50.0                      194.0        50.0                 0.0  Present work TiZrNbV 0.3 Mo 0.3 6.77 1312 194 ...  10.1016.j.matdes.2015.06.072\n 15                   TiZrNbV 0.3 Mo 0.5          1301.0       188.0                  6.93    1301.0              43.0                      188.0        43.0                 0.0  Present work TiZrNbV 0.3 Mo 0.5 6.93 1301 188 ...  10.1016.j.matdes.2015.06.072\n 16                   TiZrNbV 0.3 Mo 0.7          1436.0       203.0                  7.07    1436.0              26.6                      203.0        26.6                 0.0  Present work TiZrNbV 0.3 Mo 0.7 7.07 1436 203 ...  10.1016.j.matdes.2015.06.072\n 17                   TiZrNbV 0.3 Mo 1.0          1455.0       200.0                  7.26    1455.0              25.0                      200.0        25.0                 0.0  Present work TiZrNbV 0.3 Mo 1.0 7.26 1455 200 ...  10.1016.j.matdes.2015.06.072\n 18                   TiZrNbV 0.3 Mo 1.3          1603.0       216.0                  7.43    1603.0              20.0                      216.0        20.0                 0.0  Present work TiZrNbV 0.3 Mo 1.3 7.43 1603 216 ...  10.1016.j.matdes.2015.06.072\n 19                   TiZrNbV 0.3 Mo 1.5          1576.0       209.0                  7.53    1576.0               8.0                      209.0         8.0                 0.0  Present work TiZrNbV 0.3 Mo 1.5 7.53 1576 209 ...  10.1016.j.matdes.2015.06.072\n 20                     AlCoCrFeNiTi 0.5          2260.0       351.0                  6.44    2260.0              23.3                      351.0        23.3                 0.0           AlCoCrFeNiTi 0.5 6.44 2260 351 23.3 [26]  10.1016.j.matdes.2015.06.072\n 21                           AlCrFeCoNi          1251.0       186.0                  6.72    1251.0              32.7                      186.0        32.7                 0.0                 AlCrFeCoNi 6.72 1251 186 32.7 [27]  10.1016.j.matdes.2015.06.072\n 22                     CrFeCoNiCuTi 0.8          1042.0       137.0                  7.58    1042.0               2.1                      137.0         2.1                 0.0            CrFeCoNiCuTi 0.8 7.58 1042 137 2.1 [28]  10.1016.j.matdes.2015.06.072\n 23                     CrFeCoNiCuTi 0.5           700.0        90.0                  7.82     700.0              21.6                       90.0        21.6                 0.0             CrFeCoNiCuTi 0.5 7.82 700 90 21.6 [28]  10.1016.j.matdes.2015.06.072\n 24                           CrFeCoNiCu           230.0        28.0                  8.33     230.0              50.0                       28.0        50.0                 0.0                     CrFeCoNiCu 8.33 230 28 50 [28]  10.1016.j.matdes.2015.06.072\n 25                         AlCrFeCoNiCu          1303.0       184.0                  7.07    1303.0              18.0                      184.0        18.0                 0.0                 AlCrFeCoNiCu 7.07 1303 184 18 [29]  10.1016.j.matdes.2015.06.072\n 26                        AlCrFeCoNiCuV          1469.0       212.0                  6.92    1469.0               6.0                      212.0         6.0                 0.0                 AlCrFeCoNiCuV 6.92 1469 212 6 [29]  10.1016.j.matdes.2015.06.072\n 27             Cu 0.25 AlCoCrFeNiTi 0.5          1994.0       305.0                  6.54    1994.0               9.1                      305.0         9.1                 0.0    Cu 0.25 AlCoCrFeNiTi 0.5 6.54 1994 305 9.1 [30]  10.1016.j.matdes.2015.06.072\n 28                     AlCoCrFeNiMo 0.1          1804.0       280.0                  6.45    1804.0               7.5                      280.0         7.5                 0.0            AlCoCrFeNiMo 0.1 6.45 1804 280 7.5 [31]  10.1016.j.matdes.2015.06.072\n 29                     AlCoCrFeNiSi 0.2          1265.0       183.0                  6.92    1265.0              13.8                      183.0        13.8                 0.0           AlCoCrFeNiSi 0.2 6.92 1265 183 13.8 [32]  10.1016.j.matdes.2015.06.072\n 30                     AlCoCrFeNiSi 0.4          1481.0       238.0                  6.22    1481.0              13.4                      238.0        13.4                 0.0           AlCoCrFeNiSi 0.4 6.22 1481 238 13.4 [32]  10.1016.j.matdes.2015.06.072\n 31                           TaNbHfZrTi           929.0        94.0                  9.90     929.0              50.0                       94.0        50.0                 0.0                     TaNbHfZrTi 9.90 929 94 50 [33]  10.1016.j.matdes.2015.06.072\n 32                              NbMoTaW          1058.0        78.0                 13.64    1058.0               2.6                       78.0         2.6                 0.0                      NbMoTaW 13.64 1058 78 2.6 [6]  10.1016.j.matdes.2015.06.072\n 33                             VNbMoTaW          1246.0       101.0                 12.36    1246.0               1.7                      101.0         1.7                 0.0                    VNbMoTaW 12.36 1246 101 1.7 [6]  10.1016.j.matdes.2015.06.072\n 34               NbCrMo 0.5 Ta 0.5 TiZr          1595.0       199.0                  8.00    1595.0               5.0                      199.0         5.0                 0.0        NbCrMo 0.5 Ta 0.5 TiZr 8.00 1595 199 5 [34]  10.1016.j.matdes.2015.06.072\n 35                             CrNbTiZr          1260.0       190.0                  6.64    1260.0               6.0                      190.0         6.0                 0.0                      CrNbTiZr 6.64 1260 190 6 [36]  10.1016.j.matdes.2015.06.072\n 36                            CrNbTiVZr          1289.0       198.0                  6.56    1289.0               3.0                      198.0         3.0                 0.0                     CrNbTiVZr 6.56 1289 198 3 [36]  10.1016.j.matdes.2015.06.072\n 37               AlMo 0.5 NbTa 0.5 TiZr          2000.0       274.0                  7.30    2000.0               9.0                      274.0         9.0                 0.0        AlMo 0.5 NbTa 0.5 TiZr 7.30 2000 274 9 [35]  10.1016.j.matdes.2015.06.072\n 38        AlNb 1.5 Ta 0.5 Ti 1.5 Zr 0.5          1280.0       188.0                  6.80    1280.0               2.5                      188.0         2.5                 0.0  AlNb 1.5 Ta 0.5 Ti 1.5 Zr 0.5 6.80 1280 188 2....  10.1016.j.matdes.2015.06.072\n 39               Al 0.4 Hf 0.6 NbTaTiZr          1841.0       205.0                  9.00    1841.0               9.0                      205.0         9.0                 0.0        Al 0.4 Hf 0.6 NbTaTiZr 9.00 1841 205 9 [35]  10.1016.j.matdes.2015.06.072\n 40             Al 0.3 NbTaTi 1.4 Zr 1.3          1965.0       243.0                  8.10    1965.0               4.0                      243.0         4.0                 0.0      Al 0.3 NbTaTi 1.4 Zr 1.3 8.10 1965 243 4 [35]  10.1016.j.matdes.2015.06.072\n 41  Al 0.3 NbTa 0.8 Ti 1.4 V 0.2 Zr 1.3          1965.0       259.0                  7.60    1965.0               4.0                      259.0         4.0                 0.0  Al 0.3 NbTa 0.8 Ti 1.4 V 0.2 Zr 1.3 7.60 1965 ...  10.1016.j.matdes.2015.06.072\n 42      Al 0.5 NbTa 0.8 Ti 1.5 V 0.2 Zr          2035.0       279.0                  7.30    2035.0               3.5                      279.0         3.5                 0.0  Al 0.5 NbTa 0.8 Ti 1.5 V 0.2 Zr 7.30 2035 279 ...  10.1016.j.matdes.2015.06.072,\n                    formula  yield_strength  grain_size  experimental_density  hardness  test_temperature  ultimate_tensile_strength  elongation  elongation_plastic                                           evidence                           doi\n 0  Hf 25 Nb 25 Ti 25 Zr 25           879.0         1.0                   0.0       0.0               0.0                      969.0        14.9                14.9  In the as-cast state, tensile YS is 879 MPa, U...  10.1016.j.matlet.2014.05.134\n 1  Hf 25 Nb 25 Ti 25 Zr 25             0.0         0.0                   0.0       0.0               0.0                        0.0         0.0                14.9  MPa, and the plastic elongation is 14.9%. The ...  10.1016.j.matlet.2014.05.134,\n                          formula  yield_strength  grain_size  experimental_density  hardness  test_temperature  ultimate_tensile_strength  elongation  elongation_plastic                                           evidence                         doi\n 0            Co33W07Al33Nb24Cr03             0.0         0.0                   0.0    1084.0               0.0                        0.0         0.0                 0.0  The highest measured hardnesses were found for...  10.1038.s41467-019-10533-1\n 1           Ti18Ni24Ta12Cr22Co24             0.0         0.0                   0.0    1011.0               0.0                        0.0         0.0                 0.0       Ti 18 Ni 24 Ta 12 Cr 22 Co 24 (1011 ± 20 HV)  10.1038.s41467-019-10533-1\n 2   Co 33 W 07 Al 33 Nb 24 Cr 03             0.0         0.0                   0.0       0.0               0.0                        0.0         0.0                 0.0  The marked difference in hardness between the ...  10.1038.s41467-019-10533-1\n 3   Ti 39 W 04 Nb 31 Ta 04 Co 22             0.0         0.0                   0.0       0.0               0.0                        0.0         0.0                 0.0  The marked difference in hardness between the ...  10.1038.s41467-019-10533-1\n 4            Co33W07Al33Nb24Cr03             0.0         0.0                   0.0    1084.0               0.0                        0.0         0.0                 0.0  Table 2 The Vicker's hardness values (in HV) f...  10.1038.s41467-019-10533-1\n 5           Ti18Ni24Ta12Cr22Co24             0.0         0.0                   0.0    1011.0               0.0                        0.0         0.0                 0.0  Table 2 The Vicker's hardness values (in HV) f...  10.1038.s41467-019-10533-1\n 6              Co6W9Al36Mo38Ni11             0.0         0.0                   0.0     725.0               0.0                        0.0         0.0                 0.0  Table 2 The Vicker's hardness values (in HV) f...  10.1038.s41467-019-10533-1\n 7            Ni47Co02Ta12Ti9Nb30             0.0         0.0                   0.0     815.0               0.0                        0.0         0.0                 0.0  Table 2 The Vicker's hardness values (in HV) f...  10.1038.s41467-019-10533-1\n 8           Ti44Ni02Nb21Cr21Co12             0.0         0.0                   0.0     422.0               0.0                        0.0         0.0                 0.0  Table 2 The Vicker's hardness values (in HV) f...  10.1038.s41467-019-10533-1\n 9            Ti32Nb9Ta01Cr19Co39             0.0         0.0                   0.0     856.0               0.0                        0.0         0.0                 0.0  Table 2 The Vicker's hardness values (in HV) f...  10.1038.s41467-019-10533-1\n 10           Ti39W04Nb31Ta04Co22             0.0         0.0                   0.0     277.0               0.0                        0.0         0.0                 0.0  Table 2 The Vicker's hardness values (in HV) f...  10.1038.s41467-019-10533-1,\n       formula  yield_strength  grain_size  experimental_density  hardness  test_temperature  ultimate_tensile_strength  elongation  elongation_plastic                                           evidence                            doi\n 0  TiZrNbHfTa             0.0         0.1                   0.0     530.0             773.0                        0.0         0.0                 0.0  An equiatomic, single-phase TiZrNbHfTa high-en...  10.1016.j.actamat.2017.09.035\n 1  TiZrNbHfTa             0.0        50.0                   0.0     419.4               0.0                        0.0         0.0                 0.0  The evolution of the microstructure and hardne...  10.1016.j.actamat.2017.09.035\n 2  TiZrNbHfTa             0.0         0.0                   0.0       0.0               0.0                     1900.0         7.9                 0.0  Grain refinement via HPT processing leads to a...  10.1016.j.actamat.2017.09.035\n 3  TiZrNbHfTa             0.0        50.0                   0.0     530.0             500.0                        0.0         0.0                 0.0  After the maximum hardness of approximately 53...  10.1016.j.actamat.2017.09.035\n 4  TiZrNbHfTa             0.0        50.0                   0.0       0.0               0.0                     1900.0         0.0                 0.0  HPT-processing of the coarse-grained TiZrNbHfT...  10.1016.j.actamat.2017.09.035\n 5  TiZrNbHfTa             0.0         0.0                   0.0       0.0             800.0                      795.0         5.0                 0.0  Table 3 3 Summary of mechanical properties obt...  10.1016.j.actamat.2017.09.035,\n                          formula  yield_strength  grain_size  experimental_density  hardness  test_temperature  ultimate_tensile_strength  elongation  elongation_plastic                                           evidence                         doi\n 0  Ti 20 Zr 20 Nb 20 Ta 20 Mo 20          1390.0         0.0                   0.0    4900.0               0.0                        0.0         0.0                 6.0  The TiZrNbTaMo HEA exhibited Young's modulus o...  10.1016.j.msec.2016.12.057\n 1                     TiZrNbTaMo             0.0         0.0                   0.0       4.9               0.0                        0.0         0.0                 0.0  Vickers microhardness, H v , of the as-cast Ti...  10.1016.j.msec.2016.12.057\n 2                     TiZrNbTaMo             0.0         0.0                   0.0       0.0               0.0                        0.0         0.0                 0.0                                                     10.1016.j.msec.2016.12.057\n 3                     TiZrNbTaMo          1900.0         0.0                   0.0       0.0               0.0                        0.0         0.0                 0.0  yield strength of the alloy containing dual ph...  10.1016.j.msec.2016.12.057\n 4           Ti20Zr20Nb20Ta20Mo20          1390.0         0.0                   0.0    4900.0               0.0                        0.0         0.0                 6.0  The TiZrNbTaMo HEA exhibits room-temperature c...  10.1016.j.msec.2016.12.057\n 5                     TiZrNbTaMo          1390.0         0.0                   0.0       4.9              37.0                        0.0         0.0                 0.0  Yield strength σ y (MPa) 195 280 240 170 420 2...  10.1016.j.msec.2016.12.057,\n       formula  yield_strength  grain_size  experimental_density  hardness  test_temperature  ultimate_tensile_strength  elongation  elongation_plastic                                           evidence                           doi\n 0  NbTiVTaAlx          1092.0         0.0                   0.0       0.0               0.0                        0.0         0.0                 0.0  The yield strength of Al0, Al0.25, Al0.5 and A...  10.1016.j.proeng.2012.03.043\n 1  NbTiVTaAlx          1330.0         0.0                   0.0       0.0               0.0                        0.0         0.0                 0.0  The yield strength of Al0, Al0.25, Al0.5 and A...  10.1016.j.proeng.2012.03.043\n 2  NbTiVTaAlx          1012.0         0.0                   0.0       0.0               0.0                        0.0         0.0                 0.0  The yield strength of Al0, Al0.25, Al0.5 and A...  10.1016.j.proeng.2012.03.043\n 3  NbTiVTaAlx           991.0         0.0                   0.0       0.0               0.0                        0.0         0.0                 0.0  The yield strength of Al0, Al0.25, Al0.5 and A...  10.1016.j.proeng.2012.03.043\n 4  NbTiVTaAlx          1330.0         0.0                   0.0       0.0               0.0                        0.0         0.0                 0.0  It can be seen that when the Al content increa...  10.1016.j.proeng.2012.03.043,\n         formula  yield_strength  grain_size  experimental_density  hardness  test_temperature  ultimate_tensile_strength  elongation  elongation_plastic                                           evidence                                     doi\n 0    VTaTiMoAlx          1221.0         0.0                   0.0       0.0               0.0                        0.0        9.91                 0.0  The value of compressive properties such as yi...  10.4028.www.scientific.net.MSF.898.638\n 1    VTaTiMoAl0          1221.0         0.0                   0.0     433.2               0.0                     1454.0        9.93                 0.0                           Al0 1221 1454 9.93 433.2  10.4028.www.scientific.net.MSF.898.638\n 2  VTaTiMoAl0.2          1021.0         0.0                   0.0     450.0               0.0                     1249.0        6.81                 0.0                         Al0.2 1021 1249 6.81 450.0  10.4028.www.scientific.net.MSF.898.638\n 3  VTaTiMoAl0.6           962.0         0.0                   0.0     483.3               0.0                     1033.0        4.20                 0.0                           Al0.6 962 1033 4.2 483.3  10.4028.www.scientific.net.MSF.898.638\n 4    VTaTiMoAl1             0.0         0.0                   0.0     509.5               0.0                      735.0        0.00                 0.0                                  Al1 - 735 - 509.5  10.4028.www.scientific.net.MSF.898.638,\n    formula  yield_strength  grain_size  experimental_density  hardness  test_temperature  ultimate_tensile_strength  elongation  elongation_plastic                                           evidence                     doi\n 0  WReTaMo           172.0         0.0                   0.0     654.0            1600.0                      244.0        25.0                 0.0  The WReTaMo RHEA has a bodycentered cubic (BCC...  10.1002.adem.202100765\n 1  WReTaMo             0.0         0.0                   0.0     723.0            2200.0                        0.0         0.0                 0.0  Then, the hardness increases rapidly to a high...  10.1002.adem.202100765\n 2  WReTaMo             0.0         0.0                   0.0       0.0            1600.0                        0.0         0.0                 0.0  A promising WReTaMo RHEA with high strength at...  10.1002.adem.202100765\n 3  WReTaMo             0.0         0.0                   0.0       0.0            2200.0                        0.0         0.0                 0.0        the WReTaMo RHEA after annealing at 2200 C.  10.1002.adem.202100765,\n          formula  yield_strength  grain_size  experimental_density  hardness  test_temperature  ultimate_tensile_strength  elongation  elongation_plastic                                           evidence                        doi\n 0     HfNbTaTiZr          1438.0         0.0                  0.00       0.0              20.0                     1495.0       5.000                 0.0  The cold-worked material retained a single-pha...  10.1007.s11661-018-4646-8\n 1   Not provided          1438.0       232.0                  0.00       0.0              20.0                     1495.0       5.000                 0.0  In the as-rolled condition, the tensile yield ...  10.1007.s11661-018-4646-8\n 2   Not provided          1159.0         0.0                  0.00       0.0              20.0                     1174.0       7.600                 0.0  Annealing at 800 °C for 4 hours resulted in a ...  10.1007.s11661-018-4646-8\n 3   Not provided          1112.0         0.0                  0.00       0.0              20.0                     1175.0      18.000                 0.0  After annealing at 1100 °C for 0.5, 1, or 2 ho...  10.1007.s11661-018-4646-8\n 4     HfNbTaTiZr             0.0         0.0                  0.00       0.0             800.0                        0.0       0.000                 0.0  The results of this work show that two types o...  10.1007.s11661-018-4646-8\n 5     HfNbTaTiZr             0.0         0.0                  9.94       0.0            1473.0                        0.0       0.000                 0.0  Applying the experimental values E = 100 GPa, ...  10.1007.s11661-018-4646-8\n 6     HfNbTaTiZr          1438.0         0.0                  0.00       0.0               0.0                     1495.0       5.000                 0.0  The cold-worked HfNbTaTiZr sheet showed a high...  10.1007.s11661-018-4646-8\n 7     NbTaHfTiZr          1438.0         0.0                  0.00       0.0               0.0                     1495.0       5.000                 0.0  A single-phase BCC NbTaHfTiZr refractory high ...  10.1007.s11661-018-4646-8\n 8     HfNbTaTiZr          1438.0        24.4                  0.00       0.0               0.0                     1495.0       5.000                 0.0  Table IV . IV Tensile Properties (Young's Modu...  10.1007.s11661-018-4646-8\n 9     HfNbTaTiZr          1159.0         0.0                  0.00       0.0             800.0                     1174.0       4.700                 0.0  Table IV . IV Tensile Properties (Young's Modu...  10.1007.s11661-018-4646-8\n 10    HfNbTaTiZr          1134.0         0.0                  0.00       0.0             800.0                     1165.0       7.600                 0.0  Table IV . IV Tensile Properties (Young's Modu...  10.1007.s11661-018-4646-8\n 11    HfNbTaTiZr          1094.0         0.0                  0.00       0.0             800.0                     1110.0       6.000                 0.0  Table IV . IV Tensile Properties (Young's Modu...  10.1007.s11661-018-4646-8\n 12    HfNbTaTiZr          1071.0         0.0                  0.00       0.0             800.0                     1074.0       4.600                 0.0  Table IV . IV Tensile Properties (Young's Modu...  10.1007.s11661-018-4646-8\n 13    HfNbTaTiZr          1107.0         0.0                  0.00       0.0            1100.0                     1159.0      13.900                 0.0  Table IV . IV Tensile Properties (Young's Modu...  10.1007.s11661-018-4646-8\n 14    HfNbTaTiZr          1115.0         0.0                  0.00       0.0            1100.0                     1195.0      18.500                 0.0  Table IV . IV Tensile Properties (Young's Modu...  10.1007.s11661-018-4646-8\n 15    HfNbTaTiZr          1114.0         0.0                  0.00       0.0            1100.0                     1168.0      12.200                 0.0  Table IV . IV Tensile Properties (Young's Modu...  10.1007.s11661-018-4646-8\n 16    HfNbTaTiZr          1438.0         0.0                  0.00       0.0             800.0                     1495.0       0.050                 0.0                     As-rolled 1438 1495 1218 0.050  10.1007.s11661-018-4646-8\n 17    HfNbTaTiZr          1159.0         0.0                  0.00       0.0             800.0                     1174.0       0.047                 0.0                   800 °C, 4 h 1159 1174 1127 0.047  10.1007.s11661-018-4646-8\n 18    HfNbTaTiZr          1134.0         0.0                  0.00       0.0             800.0                     1165.0       0.076                 0.0                  800 °C, 16 h 1134 1165 1134 0.076  10.1007.s11661-018-4646-8\n 19    HfNbTaTiZr          1094.0         0.0                  0.00       0.0             800.0                     1110.0       0.060                 0.0                   800 °C, 64 h 1094 1110 1066 0.06  10.1007.s11661-018-4646-8\n 20    HfNbTaTiZr          1071.0         0.0                  0.00       0.0             800.0                     1074.0       0.046                 0.0                  800 °C, 256 h 1071 1074 964 0.046  10.1007.s11661-018-4646-8\n 21    HfNbTaTiZr          1107.0         0.0                  0.00       0.0            1100.0                     1159.0       0.139                 0.0                 1100 °C, 0.5 h 1107 1159 977 0.139  10.1007.s11661-018-4646-8\n 22    HfNbTaTiZr          1115.0         0.0                  0.00       0.0            1100.0                     1195.0       0.185                 0.0                 1100 °C, 1.0 h 1115 1195 830 0.185  10.1007.s11661-018-4646-8\n 23    HfNbTaTiZr          1114.0         0.0                  0.00       0.0            1100.0                     1168.0       0.122                 0.0                 1100 °C, 2.0 h 1114 1168 935 0.122  10.1007.s11661-018-4646-8,\n     formula  yield_strength  grain_size  experimental_density  hardness  test_temperature  ultimate_tensile_strength  elongation  elongation_plastic                                           evidence                         doi\n 0  VxNbMoTa             0.0         0.0                   0.0       0.0               0.0                        0.0         0.0                 0.0  Mechanical properties and strengthening, defor...  10.1016.j.msea.2021.140848\n 1  VxNbMoTa             0.0         0.0                   0.0       0.0             800.0                        0.0         0.0                 0.0  Fig. 3 (a) and (b) show true stress-strain cur...  10.1016.j.msea.2021.140848\n 2  VxNbMoTa             0.0         0.0                   0.0       0.0               0.0                        0.0         0.0                 0.0  Mechanical properties and strengthening, defor...  10.1016.j.msea.2021.140848\n 3  VxNbMoTa          1233.0         0.0                   0.0       0.0             293.0                        0.0        29.0                 0.0  Table 1 Mechanical properties of V x NbMoTa RH...  10.1016.j.msea.2021.140848,\n       formula  yield_strength  grain_size  experimental_density  hardness  test_temperature  ultimate_tensile_strength  elongation  elongation_plastic                                           evidence                               doi\n 0  TiNbTaZrMo             0.0         0.0                   0.0       0.0               0.0                        0.0         0.0                 0.0  A novel equiatomic TiNbTaZrMo high-entropy all...  10.1016.j.scriptamat.2016.10.028\n 1  TiNbTaZrMo          1000.0         0.0                   0.0       0.0               0.0                        0.0         0.0                 0.0  The as-cast and annealed TiNbTaZrMo HEAs show ...  10.1016.j.scriptamat.2016.10.028\n 2  TiNbTaZrMo             0.0         0.0                   0.0       0.0            1273.0                        0.0         0.0                 0.0  Fig. 2 . 2 Fig.2. Engineering stress vs. plast...  10.1016.j.scriptamat.2016.10.028,\n           formula  yield_strength  grain_size  experimental_density  hardness  test_temperature  ultimate_tensile_strength  elongation  elongation_plastic                                           evidence                        doi\n 0   CoCrMoNbTi0.2          1906.0         0.0                 0.000    916.46               0.0                        0.0        5.07                 0.0  Particularly, for the CoCrMoNbTi 0.2 alloy, th...  10.1007.s11665-017-2799-z\n 1      CoCrMoNbTi             0.0         0.0                 0.000      0.00               0.0                        0.0        0.00                 0.0  From representative x-ray diffraction patterns...  10.1007.s11665-017-2799-z\n 2   CoCrMoNbTi0.4             0.0        12.0                 8.366    830.00               0.0                        0.0        0.00                 0.0  The measured density of the CoCrMoNbTi 0.4 all...  10.1007.s11665-017-2799-z\n 3     CoCrMoNbTi0             0.0         0.0                 0.000    959.62               0.0                        0.0        0.00                 0.0  The Ti0 alloys exhibited the highest hardnesse...  10.1007.s11665-017-2799-z\n 4   CoCrMoNbTi0.2             0.0         0.0                 0.000      0.00               0.0                     1906.0        5.07                 0.0  The Ti0.2 alloy exhibited a compressive streng...  10.1007.s11665-017-2799-z\n 5   CoCrMoNbTi1.0             0.0         0.0                 0.000      0.00               0.0                     1097.0        3.88                 0.0  The Ti1.0 alloy exhibited the lowest compressi...  10.1007.s11665-017-2799-z\n 6             Ti0             0.0         0.0                 0.000      0.00               0.0                     1419.6        5.77                 0.0                          Ti0 1419.6 5.77 This work  10.1007.s11665-017-2799-z\n 7           Ti0.2             0.0         0.0                 0.000      0.00               0.0                     1905.6        5.07                 0.0                        Ti0.2 1905.6 5.07 This work  10.1007.s11665-017-2799-z\n 8           Ti0.4             0.0         0.0                 0.000      0.00               0.0                     1771.3        4.62                 0.0                        Ti0.4 1771.3 4.62 This work  10.1007.s11665-017-2799-z\n 9           Ti0.5             0.0         0.0                 0.000      0.00               0.0                     1609.2        4.92                 0.0                        Ti0.5 1609.2 4.92 This work  10.1007.s11665-017-2799-z\n 10          Ti1.0             0.0         0.0                 0.000      0.00               0.0                     1096.8        3.88                 0.0                        Ti1.0 1096.8 3.88 This work  10.1007.s11665-017-2799-z,\n        formula  yield_strength  grain_size  experimental_density  hardness  test_temperature  ultimate_tensile_strength  elongation  elongation_plastic                                           evidence                                doi\n 0  Ti x WTaVCr             0.0        0.00                   0.0       0.0               0.0                        0.0         0.0                 0.0  The synthesis and characterization of Ti x WTa...  10.1016.j.matchemphys.2017.06.054\n 1        7Ti s             0.0        2.75                   0.0     714.0            1200.0                        0.0         0.0                 0.0  The 7Ti s sample is harder than several other ...  10.1016.j.matchemphys.2017.06.054\n 2  Ti x WTaVCr             0.0        0.00                   0.0       0.0            1000.0                        0.0         0.0                 0.0  This study showed that the addition of 7 at% T...  10.1016.j.matchemphys.2017.06.054,\n          formula  yield_strength  grain_size  experimental_density  hardness  test_temperature  ultimate_tensile_strength  elongation  elongation_plastic                                           evidence                           doi\n 0  AlNbTiVZr 0.5          1430.0        22.0                  5.64       0.0              22.0                        0.0         0.0                 0.0  The yield strength of the alloy gradually decr...  10.1016.j.matlet.2015.08.099\n 1  AlNbTiVZr 0.5          1430.0         0.0                  5.64       0.0              25.0                        0.0         0.0                 0.0  The density of the alloy is 5.64 g cm -3 . At ...  10.1016.j.matlet.2015.08.099,\n                                 formula  yield_strength  grain_size  experimental_density  hardness  test_temperature  ultimate_tensile_strength  elongation  elongation_plastic                                           evidence                             doi\n 0                               NbMoTaW          1058.0         0.0                13.750       0.0               0.0                        0.0         0.0                 0.0  For example, the yield strength of NbMoTaW RHE...  10.1016.j.intermet.2020.106928\n 1                               NbMoTaW          1246.0         0.0                 0.000       0.0               0.0                        0.0         0.0                 0.0  For example, the yield strength of NbMoTaW RHE...  10.1016.j.intermet.2020.106928\n 2                               NbMoTaW             0.0         0.0                14.099       0.0               0.0                        0.0         0.0                 0.0  The lattice constant and density of NbMoTaW RH...  10.1016.j.intermet.2020.106928\n 3      NbMoTaWX (X = Cr, Zr, V, Hf, Re)          1460.0         0.0                 0.000       0.0               0.0                     1822.0        15.9                 0.0  The yield stress of NbMoTaWX RHEAs increases b...  10.1016.j.intermet.2020.106928\n 4   NbMoTaWX (X = Cr, Zr, V, Hf and Re)             0.0         0.0                 0.000       0.0               0.0                        0.0         0.0                 0.0  Conclusion The phase structure, elastic proper...  10.1016.j.intermet.2020.106928\n 5                               NbMoTaW          1058.0         0.0                 0.000       0.0               0.0                     1211.0         0.0                 3.0  Table 3 3 Compressive properties of NbMoTaWX (...  10.1016.j.intermet.2020.106928\n 6                             NbMoTaWCr          1056.0         0.0                 0.000       0.0               0.0                     1104.0         0.0                 4.6  Table 3 3 Compressive properties of NbMoTaWX (...  10.1016.j.intermet.2020.106928\n 7                             NbMoTaWZr          1480.0         0.0                 0.000       0.0               0.0                     1822.0         0.0                15.9  Table 3 3 Compressive properties of NbMoTaWX (...  10.1016.j.intermet.2020.106928\n 8                              NbMoTaWV          1460.0         0.0                 0.000       0.0               0.0                     1520.0         0.0                 8.8  Table 3 3 Compressive properties of NbMoTaWX (...  10.1016.j.intermet.2020.106928\n 9                             NbMoTaWHf          1252.0         0.0                 0.000       0.0               0.0                     1252.0         0.0                 5.7  Table 3 3 Compressive properties of NbMoTaWX (...  10.1016.j.intermet.2020.106928\n 10                            NbMoTaWRe          1062.0         0.0                 0.000       0.0               0.0                     1147.0         0.0                 4.2  Table 3 3 Compressive properties of NbMoTaWX (...  10.1016.j.intermet.2020.106928,\n      formula  yield_strength  grain_size  experimental_density  hardness  test_temperature  ultimate_tensile_strength  elongation  elongation_plastic                                           evidence                         doi\n 0  WMoNbCrTi             0.0         0.0                   0.0      10.4               0.0                        0.0         0.0                 0.0  The WMoNbCrTi HEA prepared from 30 h milling p...  10.1007.s11837-019-03432-9\n 1  WMoNbCrTi          2492.0         0.0                   0.0      10.4               0.0                        0.0         0.0                 0.0  The yield strength and fracture strength of th...  10.1007.s11837-019-03432-9\n 2  WMoNbCrTi          2492.0         0.0                   0.0      10.4               0.0                     2765.0         9.8                 0.0  The WMoNbCrTi HEA, sintered from the 5 h milli...  10.1007.s11837-019-03432-9,\n      formula  yield_strength  grain_size  experimental_density  hardness  test_temperature  ultimate_tensile_strength  elongation  elongation_plastic                                           evidence                           doi\n 0   AlNbTaTi             0.0         0.0                   0.0       0.0               0.0                        0.0         0.0                 0.0  NbTaTi-Containing Alloys (Family 1) The NbTaTi...  10.1016.j.matdes.2018.06.003\n 1   HfNbTaTi             0.0         0.0                   0.0       0.0               0.0                        0.0         0.0                 0.0  the HfNbTaTi, MoNbTaTi, WNbTaTi and CrMoNbTi a...  10.1016.j.matdes.2018.06.003\n 2   MoNbTaTi             0.0         0.0                   0.0       0.0               0.0                        0.0         0.0                 0.0  the HfNbTaTi, MoNbTaTi, WNbTaTi and CrMoNbTi a...  10.1016.j.matdes.2018.06.003\n 3    WNbTaTi             0.0         0.0                   0.0       0.0               0.0                        0.0         0.0                 0.0  the HfNbTaTi, MoNbTaTi, WNbTaTi and CrMoNbTi a...  10.1016.j.matdes.2018.06.003\n 4   CrMoNbTi             0.0         0.0                   0.0       0.0               0.0                        0.0         0.0                 0.0  the HfNbTaTi, MoNbTaTi, WNbTaTi and CrMoNbTi a...  10.1016.j.matdes.2018.06.003\n 5   CrMoTaTi             0.0         0.0                   0.0       0.0               0.0                        0.0         0.0                 0.0  The CrMoTaTi, CrNbTiW and AlMoNbTi were also p...  10.1016.j.matdes.2018.06.003\n 6    CrNbTiW             0.0         0.0                   0.0       0.0               0.0                        0.0         0.0                 0.0  The CrMoTaTi, CrNbTiW and AlMoNbTi were also p...  10.1016.j.matdes.2018.06.003\n 7   AlMoNbTi             0.0         0.0                   0.0       0.0               0.0                        0.0         0.0                 0.0  The CrMoTaTi, CrNbTiW and AlMoNbTi were also p...  10.1016.j.matdes.2018.06.003\n 8   CrNbTaTi             0.0         0.0                   0.0       0.0               0.0                        0.0         0.0                 0.0  The CrNbTaTi, AlNbTaTi and AlCrNbMo alloys wer...  10.1016.j.matdes.2018.06.003\n 9   AlNbTaTi             0.0         0.0                   0.0       0.0               0.0                        0.0         0.0                 0.0  The CrNbTaTi, AlNbTaTi and AlCrNbMo alloys wer...  10.1016.j.matdes.2018.06.003\n 10  AlCrNbMo             0.0         0.0                   0.0       0.0               0.0                        0.0         0.0                 0.0  The CrNbTaTi, AlNbTaTi and AlCrNbMo alloys wer...  10.1016.j.matdes.2018.06.003\n 11  AlHfNbTi             0.0         0.0                   0.0       0.0               0.0                        0.0         0.0                 0.0  The CALPHAD predictions of the two Al-Hf-conta...  10.1016.j.matdes.2018.06.003\n 12  AlHfTaTi             0.0         0.0                   0.0       0.0               0.0                        0.0         0.0                 0.0  The CALPHAD predictions of the two Al-Hf-conta...  10.1016.j.matdes.2018.06.003\n 13  HfNbTaTi             0.0         0.0                   0.0       0.0            1400.0                        0.0         0.0                 0.0  -Four new single-phase BCC alloys, in which th...  10.1016.j.matdes.2018.06.003\n 14  MoNbTaTi             0.0         0.0                   0.0       0.0            1400.0                        0.0         0.0                 0.0  -Four new single-phase BCC alloys, in which th...  10.1016.j.matdes.2018.06.003\n 15   WNbTaTi             0.0         0.0                   0.0       0.0            1400.0                        0.0         0.0                 0.0  -Four new single-phase BCC alloys, in which th...  10.1016.j.matdes.2018.06.003\n 16  CrMoNbTi             0.0         0.0                   0.0       0.0            1400.0                        0.0         0.0                 0.0  -Four new single-phase BCC alloys, in which th...  10.1016.j.matdes.2018.06.003\n 17  AlHfNbTi             0.0         0.0                   0.0       0.0               0.0                        0.0         0.0                 0.0  -Both the AlHfNbTi and AlHfTaTi alloys formed ...  10.1016.j.matdes.2018.06.003\n 18  AlHfTaTi             0.0         0.0                   0.0       0.0               0.0                        0.0         0.0                 0.0  -Both the AlHfNbTi and AlHfTaTi alloys formed ...  10.1016.j.matdes.2018.06.003\n 19  AlNbTaTi             0.0         0.0                   0.0       0.0               0.0                        0.0         0.0                 0.0                 AlNbTaTi -16.0 1.56 0.96 0.04 4.25  10.1016.j.matdes.2018.06.003\n 20  MoNbTaTi             0.0         0.0                   0.0       0.0               0.0                        0.0         0.0                 0.0                    MoNbTaTi -3.0 10.43 2.53 0.27 5  10.1016.j.matdes.2018.06.003\n 21   NbTaTiW             0.0         0.0                   0.0       0.0               0.0                        0.0         0.0                 0.0                      NbTaTiW -4.5 7.57 2.42 0.35 5  10.1016.j.matdes.2018.06.003\n 22  HfNbTaTi             0.0         0.0                   0.0       0.0               0.0                        0.0         0.0                 0.0                   HfNbTaTi 2.5 11.50 4.14 0.11 4.5  10.1016.j.matdes.2018.06.003\n 23  CrNbTaTi             0.0         0.0                   0.0       0.0               0.0                        0.0         0.0                 0.0                     CrNbTaTi -4.5 5.79 6.03 0.06 5  10.1016.j.matdes.2018.06.003\n 24  CrMoNbTi             0.0         0.0                   0.0       0.0               0.0                        0.0         0.0                 0.0                  CrMoNbTi -5.5 4.87 5.92 0.25 5.25  10.1016.j.matdes.2018.06.003\n 25  CrMoTaTi             0.0         0.0                   0.0       0.0               0.0                        0.0         0.0                 0.0                  CrMoTaTi -5.5 5.13 5.93 0.26 5.25  10.1016.j.matdes.2018.06.003\n 26   CrNbTiW             0.0         0.0                   0.0       0.0               0.0                        0.0         0.0                 0.0                  CrNbTiW -6.25 4.85 5.90 0.33 5.25  10.1016.j.matdes.2018.06.003\n 27  AlCrMoNb             0.0         0.0                   0.0       0.0               0.0                        0.0         0.0                 0.0                    AlCrMoNb -11.5 2.16 5.42 0.23 5  10.1016.j.matdes.2018.06.003\n 28  AlHfNbTi             0.0         0.0                   0.0       0.0               0.0                        0.0         0.0                 0.0                   AlHfNbTi -20.25 1.10 4.12 0.13 4  10.1016.j.matdes.2018.06.003\n 29  AlHfTaTi             0.0         0.0                   0.0       0.0               0.0                        0.0         0.0                 0.0                    AlHfTaTi -21.0 1172 1.06 0.12 4  10.1016.j.matdes.2018.06.003\n 30  AlMoNbTi             0.0         0.0                   0.0       0.0               0.0                        0.0         0.0                 0.0                  AlMoNbTi -15.25 1780 1.7 0.25 4.5  10.1016.j.matdes.2018.06.003,\n       formula  yield_strength  grain_size  experimental_density  hardness  test_temperature  ultimate_tensile_strength  elongation  elongation_plastic                                           evidence                            doi\n 0  HfNbTaTiZr             0.0        70.0                   9.9       0.0               0.0                        0.0         0.0                 0.0  As a result, a new HfNbTaTiZr RHEA was designe...  10.1016.j.jallcom.2019.05.322\n 1  HfNbTaTiZr             0.0        60.0                   9.9       0.0               0.0                        0.0         0.0                 0.0  The microstructure and texture of the B23 shee...  10.1016.j.jallcom.2019.05.322\n 2  HfNbTaTiZr             0.0         0.0                   0.0       0.0             293.0                        0.0         0.0                 0.0  An equiatomic HfNbTaTiZr high-entropy alloy wa...  10.1016.j.jallcom.2019.05.322\n 3  HfNbTaTiZr             0.0         0.0                   0.0       0.0             300.0                        0.0         0.0                 0.0  At room temperature (300 K), the elastic modul...  10.1016.j.jallcom.2019.05.322,\n    formula  yield_strength  grain_size  experimental_density  hardness  test_temperature  ultimate_tensile_strength  elongation  elongation_plastic                                           evidence                doi\n 0  MoNbTaV          1500.0         0.0                   0.0    4950.0               0.0                        0.0         0.0                 0.0  The measured lattice parameter of the alloy (3...  10.3390.e18050189\n 1  MoNbTaV             0.0         0.0                   0.0       0.0               0.0                        0.0         0.0                 0.0  The only crystallization phase is the BCC phas...  10.3390.e18050189\n 2  MoNbTaV          1500.0         0.0                   0.0       0.0              23.0                        0.0        21.0                 0.0  Mechanical Properties Figure  7a  shows the en...  10.3390.e18050189\n 3  MoNbTaV             0.0         0.0                   0.0       0.0               0.0                        0.0         0.0                 0.0  The calculated entropy of mixing and enthalpy ...  10.3390.e18050189\n 4  MoNbTaV             0.0         0.0                   0.0       0.0               0.0                        0.0         0.0                 0.0  The calculated yield stress of the alloy can t...  10.3390.e18050189\n 5  MoNbTaV          1500.0         0.0                   0.0       0.0               0.0                        0.0        21.0                 0.0  In conclusion, the refractory MoNbTaV HEA is d...  10.3390.e18050189\n 6  MoNbTaV          1525.0         0.0                   0.0    4947.0               0.0                        0.0         0.0                 0.0  Table 1 . 1 The Metal Mo Nb Ta V MoNbTaV (Calc...  10.3390.e18050189,\n                formula  yield_strength  grain_size  experimental_density  hardness  test_temperature  ultimate_tensile_strength  elongation  elongation_plastic                                           evidence                           doi\n 0  TiNbTa 0.5 ZrAl 0.5          1740.0         1.0                   0.0       0.0            1000.0                        0.0        20.0                 0.0  Owing to the precipitation strengthening, the ...  10.1016.j.matlet.2019.03.075\n 1     TiNbTa0.5ZrAl0.5             0.0         0.0                   0.0       0.0               0.0                        0.0         0.0                 0.0  Fig. 1. XRD patterns of the TiNbTa 0.5 ZrAl 0....  10.1016.j.matlet.2019.03.075,\n               formula  yield_strength  grain_size  experimental_density  hardness  test_temperature  ultimate_tensile_strength  elongation  elongation_plastic                                           evidence                doi\n 0          HfNbTaTiZr             0.0       0.000                   0.0     489.0               0.0                      843.0        0.00                0.00  The 5 element HEA HfNbTaTiZr alloy has the bes...  10.3390.e21020114\n 1          HfNbTaTiZr             0.0       0.500                   0.0       0.0               0.0                        0.0        0.00                0.00  The 5 element HEA HfNbTaTiZr alloy has the bes...  10.3390.e21020114\n 2            NbTaTiZr             0.0       0.500                   0.0       0.0               0.0                        0.0        6.40                0.00  The 4 element NbTaTiZr alloy has similar stren...  10.3390.e21020114\n 3              NbTaTi             0.0       0.000                   0.0     246.0               0.0                        0.0        0.00                0.00  The most ductile alloy NbTaTi exhibited the lo...  10.3390.e21020114\n 4              NbTiZr             0.0       0.500                   0.0       0.0               0.0                     1000.0       14.20                0.00  The NbTiZr alloy has strength values below 100...  10.3390.e21020114\n 5              TaTiZr             0.0       0.000                   0.0     485.0               0.0                        0.0        0.00                0.00  The TaTiZr alloy exhibited brittle behaviour, ...  10.3390.e21020114\n 6      Nb0.5TaTiZr1.5             0.0       0.000                   0.0     485.0               0.0                        0.0        0.00                0.00  The Nb0.5TaTiZr1.5 alloy performed very simila...  10.3390.e21020114\n 7      Nb1.5TaTiZr0.5           822.0       0.000                   0.0       0.0               0.0                        0.0        0.33                0.00  The Nb1.5TaTiZr0.5 alloy reached the yield poi...  10.3390.e21020114\n 8            NbTaTiZr             0.0     100.000                   0.0       0.0               0.0                        0.0        0.00                0.00  Grain size cannot be calculated from XRD data ...  10.3390.e21020114\n 9      Nb1.5TaTiZr0.5             0.0     100.000                   0.0       0.0               0.0                        0.0        0.00                0.00  Grain size cannot be calculated from XRD data ...  10.3390.e21020114\n 10     Nb0.5TaTiZr1.5             0.0     100.000                   0.0       0.0               0.0                        0.0        0.00                0.00  Grain size cannot be calculated from XRD data ...  10.3390.e21020114\n 11         HfNbTaTiZr             0.0       0.000                   0.0       0.0             300.0                        0.0        0.00                0.00  Monte Carlo Simulation of Microstructure Ab-in...  10.3390.e21020114\n 12             NbTaTi             0.0       0.000                   0.0       0.0               0.0                        0.0        0.00                0.00  NbTaTi is ductile because of absence of Ta-Zr ...  10.3390.e21020114\n 13             NbTiZr             0.0       0.000                   0.0       0.0               0.0                        0.0        0.00                0.00       The NbTiZr alloy exhibits similar behaviour.  10.3390.e21020114\n 14         HfNbTaTiZr             0.0       0.000                   0.0       0.0               0.0                        0.0        0.00                0.00  The HfNbTaTiZr alloy is also ductile, despite ...  10.3390.e21020114\n 15         HfNbTaTiZr             0.0       0.000                   0.0       0.0               0.0                        0.0        0.00                0.00  The 5 element HEA alloy exhibits the best comb...  10.3390.e21020114\n 16           NbTaTiZr             0.0       0.000                   0.0       0.0               0.0                        0.0        6.40                0.00  in Ref.  [25]  the NbTaTiZr is referred as bri...  10.3390.e21020114\n 17             TaTiZr             0.0       0.000                   0.0       0.0               0.0                        0.0        0.00                0.00  Intensive precipitation at grain boundaries wa...  10.3390.e21020114\n 18  Nb 1.5 TaTiZr 0.5             0.0       0.000                   0.0       0.0               0.0                        0.0        0.00                0.00  Some of them are ductile (NbTaTiZr, NbTaTi, Nb...  10.3390.e21020114\n 19  Nb 0.5 TaTiZr 1.5             0.0       0.000                   0.0       0.0               0.0                        0.0        0.00                0.00  Some of them are ductile (NbTaTiZr, NbTaTi, Nb...  10.3390.e21020114\n 20         HfNbTaTiZr          1155.0       0.000                   0.0     359.0               0.0                     1212.0       12.30                0.00                   HfNbTaTiZr 1155 1212 12.3 59 359  10.3390.e21020114\n 21           NbTaTiZr          1144.0       0.000                   0.0     358.0               0.0                     1205.0        6.40                0.00                      NbTaTiZr 1144 1205 6.4 98 358  10.3390.e21020114\n 22             NbTaTi           620.0       0.000                   0.0     246.0               0.0                      683.0       18.50                0.00                        NbTaTi 620 683 18.5 143 246  10.3390.e21020114\n 23             TaTiZr             0.0       0.000                   0.0     485.0               0.0                      284.0        0.00                0.00                             TaTiZr - 284 0 157 485  10.3390.e21020114\n 24             NbTiZr           956.0       0.000                   0.0     295.0               0.0                      991.0       14.20                0.00                         NbTiZr 956 991 14.2 88 295  10.3390.e21020114\n 25  Nb 1.5 TaTiZr 0.5           822.0       0.000                   0.0     294.0               0.0                      852.0        0.33                0.00             Nb 1.5 TaTiZr 0.5 822 852 0.33 127 294  10.3390.e21020114\n 26  Nb 0.5 TaTiZr 1.5             0.0       0.000                   0.0     489.0               0.0                      843.0        0.00                0.00                   Nb 0.5 TaTiZr 1.5 - 843 0 93 489  10.3390.e21020114\n 27         HfNbTaTiZr           359.0       0.400                   0.0       0.0               0.0                     1155.0       12.30               12.51  HfNbTaTiZr 0.4 359 1155 1212 12.3 12.51 [This ...  10.3390.e21020114\n 28           NbTaTiZr           358.0       0.500                   0.0       0.0               0.0                     1144.0        6.40                7.33    NbTaTiZr 0.5 358 1144 1205 6.4 7.33 [This work]  10.3390.e21020114\n 29             NbTaTi           246.0       0.333                   0.0       0.0               0.0                      620.0       18.50               15.98    NbTaTi 0.333 246 620 683 18.5 15.98 [This work]  10.3390.e21020114\n 30             TaTiZr             0.0       0.666                   0.0     485.0               0.0                      284.0        0.00               -1.26         TaTiZr 0.666 485 - 284 0 -1.26 [This work]  10.3390.e21020114\n 31             NbTiZr           295.0       0.333                   0.0       0.0               0.0                      956.0       14.20               15.98    NbTiZr 0.333 295 956 991 14.2 15.98 [This work]  10.3390.e21020114\n 32      Nb 1.5 TaTiZr           294.0       0.375                   0.0       0.0               0.0                      822.0        0.33               13.81  Nb 1.5 TaTiZr 0.5 0.375 294 822 852 0.33 13.81...  10.3390.e21020114\n 33  Nb 0.5 TaTiZr 1.5             0.0       0.625                   0.0     489.0               0.0                      843.0        0.00                0.86  Nb 0.5 TaTiZr 1.5 0.625 489 - 843 0 0.86 [This...  10.3390.e21020114,\n                 formula  yield_strength  grain_size  experimental_density  hardness  test_temperature  ultimate_tensile_strength  elongation  elongation_plastic                                           evidence                              doi\n 0  Ti37.5Nb12.5Hf25Al25           810.0       300.0                  7.23       0.0             600.0                     1645.0        12.0                 0.0  The Ti37.5Nb12.5Hf25Al25 alloy exhibited a not...  10.1088.1757-899X.1014.1.012041\n 1      Ti40Nb30Hf15Al15             0.0       300.0                  7.07       0.0              22.0                      830.0         0.0                 0.0  At 22 °C, the Ti40Nb30Hf15Al15 and Ti40Nb20Ta1...  10.1088.1757-899X.1014.1.012041\n 2  Ti40Nb20Ta10Hf15Al15             0.0       300.0                  7.87       0.0              22.0                     1075.0         0.0                 0.0  At 22 °C, the Ti40Nb30Hf15Al15 and Ti40Nb20Ta1...  10.1088.1757-899X.1014.1.012041\n 3  Ti40Nb20Ta10Hf15Al15             0.0         0.0                  0.00       0.0              22.0                        0.0         0.0                 0.0  Ti40Nb20Ta10Hf15Al15 (c, f) alloys after annea...  10.1088.1757-899X.1014.1.012041\n 4  Ti40Nb20Ta10Hf15Al15             0.0         0.0                  0.00       0.0             600.0                        0.0         0.0                 0.0  Ti40Nb20Ta10Hf15Al15 (c, f) alloys after annea...  10.1088.1757-899X.1014.1.012041,\n                        formula  yield_strength  grain_size  experimental_density  hardness  test_temperature  ultimate_tensile_strength  elongation  elongation_plastic                                           evidence                             doi\n 0       Nb 25 Mo 25 Ta 25 W 25          1058.0         0.0                   0.0    4460.0              23.0                     1211.0         2.1                 0.0  During testing at room temperature (RT, 23 C),...  10.1016.j.intermet.2011.01.004\n 1  V 20 Nb 20 Mo 20 Ta 20 W 20          1246.0         0.0                   0.0    5420.0              23.0                     1270.0         0.0                 0.0  V 20 Nb 20 Mo 20 Ta 20 W 20 alloy Compressive ...  10.1016.j.intermet.2011.01.004\n 2  V 20 Nb 20 Mo 20 Ta 20 W 20           862.0        80.0                   0.0       0.0             600.0                        0.0        13.0                 0.0  An increase in temperature to 600 C decreased ...  10.1016.j.intermet.2011.01.004\n 3  V 20 Nb 20 Mo 20 Ta 20 W 20           842.0        80.0                   0.0       0.0            1000.0                        0.0        19.0                 0.0  With a further increase in the temperature to ...  10.1016.j.intermet.2011.01.004\n 4  V 20 Nb 20 Mo 20 Ta 20 W 20           735.0        80.0                   0.0       0.0            1200.0                        0.0         8.0                 0.0  An increase in the temperature to 1200 C led t...  10.1016.j.intermet.2011.01.004\n 5       Nb 25 Mo 25 Ta 25 W 25             0.0       200.0                   0.0       0.0               0.0                        0.0         0.0                 0.0  The average grain size in the Nb 25 Mo 25 Ta 2...  10.1016.j.intermet.2011.01.004\n 6       Nb 25 Mo 25 Ta 25 W 25          1058.0       300.0                   0.0       0.0              23.0                     1211.0         1.5                 0.0  In the Nb 25 Mo 25 Ta 25 W 25 alloy, the yield...  10.1016.j.intermet.2011.01.004\n 7  V 20 Nb 20 Mo 20 Ta 20 W 20          1246.0       150.0                   0.0       0.0              23.0                     1270.0         0.5                 0.0  In the Nb 25 Mo 25 Ta 25 W 25 alloy, the yield...  10.1016.j.intermet.2011.01.004\n 8                            e          1509.0        17.0                1000.0     842.0            1454.0                     1370.0        19.0              1200.0                                                  e  10.1016.j.intermet.2011.01.004,\n                 formula  yield_strength  grain_size  experimental_density  hardness  test_temperature  ultimate_tensile_strength  elongation  elongation_plastic                                           evidence                            doi\n 0               NbTaTiV          1370.0         0.0                   0.0     510.0              25.0                        0.0        23.0                 0.0  The alloy exhibits a relatively high hardness ...  10.1016.j.jallcom.2018.10.230\n 1               NbTaTiV             0.0         0.0                   0.0     510.9            1700.0                        0.0         0.0                20.0  The NbTaTiV RHEA, which was sintered at 1700 o...  10.1016.j.jallcom.2018.10.230\n 2               NbTaTiV          1370.0        20.0                   0.0       0.0              20.0                        0.0        20.0                 0.0  The P/M NbTaTiV RHEA showed a combined high yi...  10.1016.j.jallcom.2018.10.230\n 3               NbTaTiV          1373.0        38.0                   0.0       0.0              25.0                        0.0        23.0                 0.0  The yield strength of NbTaTiV RHEA sintered at...  10.1016.j.jallcom.2018.10.230\n 4              MoNbTaVW           846.0        17.0                1536.0     800.0             800.0                      842.0        19.0                 0.0  As cast MoNbTaVW [6] 800 846 17 1536 1000 842 ...  10.1016.j.jallcom.2018.10.230\n 5    CrMo0.5NbTa0.5TiZr           983.0         5.5                1100.0     800.0             800.0                      546.0        40.0                 0.0  As cast CrMo0.5NbTa0.5TiZr 800 983 5.5 1100 [2...  10.1016.j.jallcom.2018.10.230\n 6            HfNbTaTiZr           535.0        40.0                 550.0     800.0             800.0                      295.0        40.0                 0.0  As cast HfNbTaTiZr [26] 800 535 40% 550 1000 2...  10.1016.j.jallcom.2018.10.230\n 7               NbTiVZr           187.0        50.0                   0.0     800.0             800.0                       58.0        50.0                 0.0  As cast NbTiVZr[27] 800 187 > 50 % ---- 1000 5...  10.1016.j.jallcom.2018.10.230\n 8  HfMo0.5NbTiV0.5Si0.3           398.0        35.0                 430.0    1000.0            1200.0                      166.0        35.0                 0.0  As cast 1000 398 > 35 % 430 HfMo0.5NbTiV0.5Si0...  10.1016.j.jallcom.2018.10.230,\n          formula  yield_strength  grain_size  experimental_density  hardness  test_temperature  ultimate_tensile_strength  elongation  elongation_plastic                                           evidence                            doi\n 0    HfNbTaTiZrW           345.0         0.0                   0.0       0.0            1200.0                        0.0         0.0                 0.0  Particularly, at 1200 C, H-W and H-MoW show yi...  10.1016.j.jallcom.2019.06.138\n 1  HfNbTaTiZrMoW           703.0         0.0                   0.0       0.0            1200.0                        0.0         0.0                 0.0  Particularly, at 1200 C, H-W and H-MoW show yi...  10.1016.j.jallcom.2019.06.138\n 2            H-W          1550.0        29.4                   0.0       0.0               0.0                     2322.0        26.3                 0.0  As shown in Fig.  6  (a), the H-W alloy exhibi...  10.1016.j.jallcom.2019.06.138\n 3    HfNbTaTiZrW             0.0         0.0                   0.0       0.0            1200.0                        0.0         0.0                 0.0  H-W exhibits yield strength ~700 MPa and fract...  10.1016.j.jallcom.2019.06.138\n 4  HfNbTaTiZrMoW             0.0         0.0                   0.0       0.0            1200.0                        0.0         0.0                 0.0  H-MoW exhibits yield strength ~700 MPa and fra...  10.1016.j.jallcom.2019.06.138\n 5  HfNbTaTiZrMoW          1637.0         0.0                   0.0       0.0            1200.0                        0.0        15.5                 0.0  Table 3 3 Yield strengths (s Temp. ( C) HfNbTa...  10.1016.j.jallcom.2019.06.138,\n          formula  yield_strength  grain_size  experimental_density  hardness  test_temperature  ultimate_tensile_strength  elongation  elongation_plastic                                           evidence                doi\n 0   HfMoNbTaTiZr             0.0         0.0                   0.0       0.0               0.0                        0.0         0.0                 0.0  In 2012, they published the equiatomic composi...  10.3390.e21010015\n 1     HfNbTaTiZr             0.0         0.0                   0.0       0.0               0.0                        0.0        50.0                 0.0  In 2012, they published the equiatomic composi...  10.3390.e21010015\n 2     HfMoTaTiZr          1600.0         0.0                   0.0       0.0              25.0                     1743.0         3.0                 0.0  At room temperature, the yield strength of HfM...  10.3390.e21010015\n 3     HfMoNbTiZr          1351.0         0.0                   0.0       0.0              25.0                     1698.0        17.0                 0.0  At room temperature, the yield strength of all...  10.3390.e21010015\n 4     HfMoNbTaZr          1524.0         0.0                   0.0       0.0              25.0                     1963.0        13.5                 0.0  At room temperature, the yield strength of HfM...  10.3390.e21010015\n 5     HfMoNbTaTi          1369.0         0.0                   0.0       0.0              25.0                     2094.0        25.0                 0.0  At room temperature, the yield strength of HfM...  10.3390.e21010015\n 6   HfMoNbTaTiZr             0.0         0.0                   0.0       0.0               0.0                        0.0         0.0                 0.0  The calculated results are listed in Table  7 ...  10.3390.e21010015\n 7     HfMoNbTaTi           367.0         0.0                   0.0       0.0            1400.0                        0.0         0.0                 0.0  Conclusions The equiatomic HfMoNbTaTiZr alloy ...  10.3390.e21010015\n 8   HfMoNbTaTiZr          1512.0         0.0                   0.0       0.0              25.0                     1828.0        11.0                 0.0  Figure 3 shows the compression test results of...  10.3390.e21010015\n 9   HfMoNbTaTiZr          1007.0         0.0                   0.0       0.0             800.0                     1489.0        19.0                 0.0  At 800 °C, the yield strength of HfMoNbTaTiZr ...  10.3390.e21010015\n 10  HfMoNbTaTiZr           814.0         0.0                   0.0       0.0            1000.0                        0.0         0.0                 0.0  At 1000 °C, the results of yield strength were...  10.3390.e21010015\n 11  HfMoNbTaTiZr           556.0         0.0                   0.0       0.0            1200.0                        0.0         0.0                 0.0  At 1200 °C, the results of yield strength were...  10.3390.e21010015\n 12  HfMoNbTaTiZr          1512.0         0.0                   0.0       0.0               0.0                        0.0        12.0                 0.0  Table 3 . 3 The room temperature compressive y...  10.3390.e21010015\n 13    HfNbTaTiZr           929.0         0.0                   0.0       0.0               0.0                        0.0        50.0                 0.0  Table 3 . 3 The room temperature compressive y...  10.3390.e21010015\n 14    HfMoTaTiZr          1600.0         0.0                   0.0       0.0               0.0                        0.0         4.0                 0.0  Table 3 . 3 The room temperature compressive y...  10.3390.e21010015\n 15    HfMoNbTiZr          1351.0         0.0                   0.0       0.0               0.0                        0.0        20.0                 0.0  Table 3 . 3 The room temperature compressive y...  10.3390.e21010015\n 16    HfMoNbTaZr          1524.0         0.0                   0.0       0.0               0.0                        0.0        16.0                 0.0  Table 3 . 3 The room temperature compressive y...  10.3390.e21010015\n 17    HfMoNbTaTi          1369.0         0.0                   0.0       0.0               0.0                        0.0        27.0                 0.0  Table 3 . 3 The room temperature compressive y...  10.3390.e21010015,\n             formula  yield_strength  grain_size  experimental_density  hardness  test_temperature  ultimate_tensile_strength  elongation  elongation_plastic                                           evidence                         doi\n 0  HfNb0.2Ta0.2TiZr           607.0         0.0                   0.0       0.0               0.0                      983.0        31.8                 0.0  Alloy Nb0.25 shows yield strength of 748 MPa, ...  10.1016.j.msea.2021.140798\n 1             Nb0.2             0.0         0.0                   0.0       0.0               0.0                        0.0         0.0                 0.0  The as-cast Nb0.2 alloy assumes a dual-phase s...  10.1016.j.msea.2021.140798\n 2            Nb0.25             0.0         0.0                   0.0       0.0               0.0                        0.0        14.2                 0.0  Nb0.25 exhibits relatively ductile deformation...  10.1016.j.msea.2021.140798\n 3             Nb0.2           607.0         0.0                   0.0       0.0               0.0                      983.0        31.8                 0.0  Compared with HfTa0.5TiZr, the fracture streng...  10.1016.j.msea.2021.140798\n 4            Nb0.15           406.0         0.0                   0.0       0.0               0.0                     1003.0        25.8                 0.0  As shown in Fig.  1b , the work hardening rate...  10.1016.j.msea.2021.140798\n 5               Nb0          1206.0         0.0                   0.0       0.0               0.0                     1315.0         4.1                 0.0  Hence, a high yield strength (≈1206 MPa) and f...  10.1016.j.msea.2021.140798\n 6    HfNbxTa0.2TiZr             0.0         0.0                   0.0       0.0               0.0                      983.0        26.0                 0.0  This work investigated effects of the BCC-stab...  10.1016.j.msea.2021.140798,\n           formula  yield_strength  grain_size  experimental_density  hardness  test_temperature  ultimate_tensile_strength  elongation  elongation_plastic                                           evidence                            doi\n 0  Zr-Nb-Ti-Ta-Hf           822.0        0.75                   0.0       0.0              19.6                        0.0         0.0                 0.0  The 0.2% yield stress σ 0.2 , i.e. the stress ...  10.1080.14786435.2015.1028506\n 1  Zr-Nb-Ti-Ta-Hf           850.0        0.00                   0.0       0.0             300.0                        0.0         0.0                 0.0  The yield stresses observed in our experiments...  10.1080.14786435.2015.1028506\n 2      Nb-Mo-Ta-W          1058.0        0.00                   0.0       0.0              25.0                        0.0         2.0                 2.0  The Nb-Mo-Ta-W alloy at RT shows a yield stres...  10.1080.14786435.2015.1028506\n 3    V-Nb-Mo-Ta-W          1246.0        0.00                   0.0       0.0              25.0                        0.0         1.5                 1.5  The fivecomponent alloy V-Nb-Mo-Ta-W showed an...  10.1080.14786435.2015.1028506\n 4  Zr-Nb-Ti-Ta-Hf             0.0        0.00                   0.0       0.0             200.0                        0.0         0.0                 0.0  Figure 8. (a) High-resolution HAADF-STEM micro...  10.1080.14786435.2015.1028506,\n       formula  yield_strength  grain_size  experimental_density  hardness  test_temperature  ultimate_tensile_strength  elongation  elongation_plastic                                           evidence                         doi\n 0  HfNbTaTiZr             0.0        10.0                   0.0       0.0               0.0                        0.0         0.0                 0.0  the polycrystals annealed just below the melti...  10.1016.j.msea.2021.140983\n 1  HfNbTaTiZr          1000.0        10.0                   0.0       0.0             293.0                        0.0        25.0                 0.0  Both the single crystals and polycrystals show...  10.1016.j.msea.2021.140983\n 2  HfNbTaTiZr             0.0         0.0                   0.0       0.0             873.0                        0.0         0.0                 0.0  Conclusions Deformation behavior of equiatomic...  10.1016.j.msea.2021.140983,\n                                   formula  yield_strength  grain_size  experimental_density  hardness  test_temperature  ultimate_tensile_strength  elongation  elongation_plastic                                           evidence                            doi\n 0                  Hf0.5Nb0.5Ta0.5Ti1.5Zr             0.0         0.0                   0.0       0.0               0.0                        0.0         0.0                 0.0  Sheikh et al. developed a new ductile refracto...  10.1016.j.matchar.2018.07.015\n 1                              HfNbTaTiZr           500.0         0.0                   0.0       0.0             600.0                        0.0         0.0                 0.0  BCC solid solutions retain yield stresses supe...  10.1016.j.matchar.2018.07.015\n 2                                 MoNbTaW           405.0         0.0                   0.0       0.0            1600.0                        0.0         0.0                 0.0  Under extreme temperatures (> 1200 °C) only Mo...  10.1016.j.matchar.2018.07.015\n 3                                MoNbTaVW           477.0         0.0                   0.0       0.0            1600.0                        0.0         0.0                 0.0  Under extreme temperatures (> 1200 °C) only Mo...  10.1016.j.matchar.2018.07.015\n 4   Hf 1.4 Nb 0.25 Ta 0.25 Ti 1.75 Zr 1.4           540.0         0.0                   0.0       0.0               0.0                        0.0        23.0                 0.0  The lowest yield stress value (540 MPa) is obt...  10.1016.j.matchar.2018.07.015\n 5                                MoNbTaVW             0.0         0.0                   0.0       0.0               0.0                        0.0         8.8                 0.0  The most attractive behavior at RT is obtained...  10.1016.j.matchar.2018.07.015\n 6                              HfNbTaTiZr           890.0         0.0                   0.0       0.0               0.0                        0.0        15.0                 0.0  The HfNbTaTiZr alloy is actually the sole equi...  10.1016.j.matchar.2018.07.015\n 7                              HfNbTaTiZr             0.0         0.0                   0.0       0.0               0.0                     1295.0         4.7                 0.0  A true tensile stress of 1295 MPa and tensile ...  10.1016.j.matchar.2018.07.015\n 8                              HfNbTaTiZr             0.0         0.0                   0.0       0.0               0.0                        0.0         0.0                 0.0  In dynamic conditions, i.e. for strain rates h...  10.1016.j.matchar.2018.07.015\n 9         Hf 0.75 NbTa 0.5 Ti 1.5 Zr 1.25             0.0         0.0                   0.0       0.0               0.0                        0.0         0.0                 0.0  Few studies exist for the study of mechanical ...  10.1016.j.matchar.2018.07.015\n 10                             HfNbTaTiZr             0.0         0.0                   0.0       0.0               0.0                        0.0         0.0                 0.0  Fig. 4. Illustration of the evolution of the m...  10.1016.j.matchar.2018.07.015,\n                            formula  yield_strength  grain_size  experimental_density  hardness  test_temperature  ultimate_tensile_strength  elongation  elongation_plastic                                           evidence                            doi\n 0                       TiZrNbHfTa           880.0         0.0                   0.0       0.0               0.0                        0.0         0.0                 0.0  Among the bcc family, the first published resu...  10.1016.j.actamat.2017.09.062\n 1                                              0.0        31.0                   0.0       0.0               0.0                        0.0         0.0                 0.0  The average grain size in the tensile testing ...  10.1016.j.actamat.2017.09.062\n 2                       TiZrNbHfTa           940.0         0.0                   0.0       0.0               0.0                        0.0         0.0                 0.0  The multi-scale coupling between mechanical te...  10.1016.j.actamat.2017.09.062\n 3                                              0.0        30.0                   0.0       0.0               0.0                        0.0         0.0                 0.0  For the considered grain size of approximately...  10.1016.j.actamat.2017.09.062\n 4  random bcc multicomponent alloy             0.0         0.0                   0.0       0.0               0.0                        0.0         0.0                 0.0  hypotheses are in line with recent atomistic s...  10.1016.j.actamat.2017.09.062,\n     formula  yield_strength  grain_size  experimental_density  hardness  test_temperature  ultimate_tensile_strength  elongation  elongation_plastic                                           evidence                         doi\n 0    NbZrTi             0.0       300.0                   0.0     372.0             293.0                        0.0         0.0                 0.0  The microhardness of the as-cast NbZrTi alloy ...  10.1007.s12598-019-01310-6\n 1  NbHfZrTi             0.0        50.0                   0.0     351.0             293.0                        0.0         0.0                 0.0  The microhardness of the as-cast NbHfZrTi allo...  10.1007.s12598-019-01310-6\n 2    NbZrTi             0.0         0.0                   0.0       0.0               0.0                        0.0         0.0                 0.0  Microstructure and mechanical properties of Nb...  10.1007.s12598-019-01310-6\n 3  NbHfZrTi             0.0         0.0                   0.0       0.0               0.0                        0.0         0.0                 0.0  Microstructure and mechanical properties of Nb...  10.1007.s12598-019-01310-6,\n          formula  yield_strength  grain_size  experimental_density  hardness  test_temperature  ultimate_tensile_strength  elongation  elongation_plastic                                           evidence                            doi\n 0   Re0.5NbMoTaW          1147.0         0.0                   0.0       0.0               0.0                        0.0        7.00                 0.0  As the Re addition increases from 0 to 0.5, th...  10.1016.j.jallcom.2020.154301\n 1   Re x NbMoTaW          1147.0         0.0                   0.0     567.0               0.0                     1465.0        7.01                 0.0  As the Re addition increases from 0 to 1, the ...  10.1016.j.jallcom.2020.154301\n 2   Re0.5NbMoTaW          1147.0         0.0                   0.0     567.0               0.0                     1465.0        7.01                 0.0  The Re 0.5 NbMoTaW alloy reaches the maximum h...  10.1016.j.jallcom.2020.154301\n 3    Re0 NbMoTaW          1121.0         0.0                   0.0     527.0               0.0                     1306.0        6.22                 0.0  Table 4 Vickers hardness values of the Re x Nb...  10.1016.j.jallcom.2020.154301\n 4  Re0.5 NbMoTaW          1147.0         0.0                   0.0     567.0               0.0                     1465.0        7.01                 0.0  Table 4 Vickers hardness values of the Re x Nb...  10.1016.j.jallcom.2020.154301\n 5    Re1 NbMoTaW          1062.0         0.0                   0.0     536.0               0.0                     1147.0        4.22                 0.0  Table 4 Vickers hardness values of the Re x Nb...  10.1016.j.jallcom.2020.154301,\n     formula  yield_strength  grain_size  experimental_density  hardness  test_temperature  ultimate_tensile_strength  elongation  elongation_plastic                                           evidence                               doi\n 0   VNbMoTa           811.0         0.0                   0.0       0.0            1000.0                        0.0        25.0                 0.0  Equimolar VNbMoTa exhibits the yield strength ...  10.1016.j.scriptamat.2020.09.027\n 1  VxNbMoTa             0.0       830.0                   0.0       0.0               0.0                        0.0         0.0                 0.0  as increasing the V content from V0.25 to V1.0...  10.1016.j.scriptamat.2020.09.027\n 2   VNbMoTa          1256.0         0.0                   0.0       0.0              25.0                     1400.0        25.0                 0.0  V1.0 alloy in this study is represented by the...  10.1016.j.scriptamat.2020.09.027\n 3     V0.75             0.0         0.0                   0.0       0.0               0.0                        0.0         0.0                 0.0  Nominal composition (at. %) 20 26.67 26.67 26....  10.1016.j.scriptamat.2020.09.027\n 4      V1.0             0.0         0.0                   0.0       0.0               0.0                        0.0         0.0                 0.0  Nominal composition (at. %) 25 25 25 25 Dendri...  10.1016.j.scriptamat.2020.09.027,\n       formula  yield_strength  grain_size  experimental_density  hardness  test_temperature  ultimate_tensile_strength  elongation  elongation_plastic                                           evidence                             doi\n 0   TiNbMoTaW           586.0         0.0                   0.0       0.0            1200.0                        0.0         0.0                 0.0  Their yield strengths are as high as ~586 MPa ...  10.1016.j.intermet.2017.01.007\n 1  TiVNbMoTaW           659.0         0.0                   0.0       0.0            1200.0                        0.0         0.0                 0.0  Their yield strengths are as high as ~659 MPa ...  10.1016.j.intermet.2017.01.007\n 2   TiNbMoTaW          1343.0         0.0                   0.0     498.7              20.0                     2005.0        14.1                 0.0  The yield stress (s 0.2 ), the peak stress (s ...  10.1016.j.intermet.2017.01.007\n 3  TiVNbMoTaW          1515.0         0.0                   0.0     510.3              20.0                     2135.0        10.6                 0.0  The TiVNbTaMoW HEA exhibits a s 0.2 value of 1...  10.1016.j.intermet.2017.01.007\n 4   TiNbMoTaW          1343.0         0.0                   0.0       0.0              25.0                     2005.0        14.1                 0.0  Table 1 1 Yield strength, peak strength and pl...  10.1016.j.intermet.2017.01.007\n 5  TiVNbMoTaW          1515.0         0.0                   0.0       0.0              25.0                     2135.0        10.6                 0.0  Table 1 1 Yield strength, peak strength and pl...  10.1016.j.intermet.2017.01.007,\n                                   formula  yield_strength  grain_size  experimental_density  hardness  test_temperature  ultimate_tensile_strength  elongation  elongation_plastic                                           evidence                            doi\n 0                          TiZrHfVxNbxTax             0.0         0.0                   0.0       0.0               0.0                        0.0         0.0                 0.0  In this study, we attempted to apply a similar...  10.1016.j.jallcom.2021.161187\n 1                TiZrHfVxNbxTax (x = 1.0)             0.0         0.0                   0.0       0.0               0.0                        0.0         0.0                 0.0  The mechanical properties and deformation beha...  10.1016.j.jallcom.2021.161187\n 2                TiZrHfVxNbxTax (x = 0.5)             0.0         0.0                   0.0       0.0               0.0                        0.0         0.0                 0.0  The mechanical properties and deformation beha...  10.1016.j.jallcom.2021.161187\n 3                TiZrHfVxNbxTax (x = 0.1)             0.0         0.0                   0.0       0.0               0.0                        0.0         0.0                 0.0  The mechanical properties and deformation beha...  10.1016.j.jallcom.2021.161187\n 4  TiZrHfVxNbxTax (x = 1.0, 0.5, and 0.1)             0.0         0.0                   0.0       0.0               0.0                        0.0         0.0                 0.0  In present work, the TiZrHfV x Nb x Ta x (x = ...  10.1016.j.jallcom.2021.161187,\n       formula  yield_strength  grain_size  experimental_density  hardness  test_temperature  ultimate_tensile_strength  elongation  elongation_plastic                                           evidence                            doi\n 0  NbTaTiZrHf             0.0         0.0                   0.0       0.0               0.0                        0.0         0.0                 0.0  Lei et al. [16] also confirmed that the as-cas...  10.1080.21663831.2019.1610105\n 1      NbZrHf             0.0         0.0                   0.0       0.0               0.0                        0.0         0.0                 0.0  ternary alloy NbZrHf has the largest lattice d...  10.1080.21663831.2019.1610105\n 2    NbTiZrHf             0.0         0.0                   0.0       0.0               0.0                        0.0         0.0                 0.0  lattice distortion in bcc refractory HEAs (e.g...  10.1080.21663831.2019.1610105\n 3  NbTaTiZrHf             0.0         0.0                   0.0       0.0               0.0                        0.0         0.0                 0.0  lattice distortion in bcc refractory HEAs (e.g...  10.1080.21663831.2019.1610105,\n              formula  yield_strength  grain_size  experimental_density  hardness  test_temperature  ultimate_tensile_strength  elongation  elongation_plastic                                           evidence                           doi\n 0  Ti 1.5 ZrNbAl 0.3           876.0        24.4                   0.0       0.0               0.0                        0.0        23.0                 0.0  The yield strength of Ti 1.5 ZrNbAl 0.3 are 87...  10.1016.j.matlet.2021.129428\n 1  Ti 1.5 ZrNbAl 0.3           876.0         0.0                   0.0       0.0               0.0                        0.0        23.0                 0.0  In summary, a novel refractory Ti 1.5 ZrNbAl 0...  10.1016.j.matlet.2021.129428,\n            formula  yield_strength  grain_size  experimental_density  hardness  test_temperature  ultimate_tensile_strength  elongation  elongation_plastic                                           evidence                            doi\n 0  Ti25Zr25Nb25V25           876.0         0.0                   0.0       0.0               0.0                        0.0        20.7                 0.0  The Ti 25 Zr 25 Nb 25 V25 alloy presented high...  10.1016.j.jallcom.2021.159190\n 1       Ti-Zr-Nb-V           876.0       100.0                   0.0       0.0               0.0                        0.0        20.7                 0.0  It is observed that V25 displays the best perf...  10.1016.j.jallcom.2021.159190\n 2       Ti-Zr-Nb-V             0.0         0.0                   0.0       0.0               0.0                        0.0         0.0                 0.0  In this work, Ti-Zr-Nb-V alloys with different...  10.1016.j.jallcom.2021.159190\n 3       Ti-Zr-Nb-V             0.0         0.0                   0.0       0.0               0.0                        0.0         0.0                 0.0  Table 3 3 ΔS mix , ΔH mix , Ω, δ and VEC of th...  10.1016.j.jallcom.2021.159190,\n          formula  yield_strength  grain_size  experimental_density  hardness  test_temperature  ultimate_tensile_strength  elongation  elongation_plastic                                           evidence                           doi\n 0  HfNbTiVSi 0.5          1399.0         0.0                   8.6     490.0              25.0                     1608.0        10.9                 0.0  At room temperature, the HfNbTiVSi 0.5 alloy e...  10.1016.j.matlet.2016.03.092\n 1  HfNbTiVSi 0.5          1399.0         0.0                   8.6     490.0              25.0                        0.0        10.9                 0.0  Conclusions To summarize, a new refractory HfN...  10.1016.j.matlet.2016.03.092,\n     formula  yield_strength  grain_size  experimental_density  hardness  test_temperature  ultimate_tensile_strength  elongation  elongation_plastic                                           evidence                            doi\n 0  AlNbTiZr            70.0       200.0                  5.85       0.0               0.0                      308.0         9.2                 0.0  The microstructure and mechanical properties o...  10.1080.02670836.2018.1446267\n 1  AlNbTiZr          1509.0         1.5                  5.85     422.0            1473.0                     1554.0         8.6                17.8  The yield strength of the as-cast sample is ∼ ...  10.1080.02670836.2018.1446267\n 2  AlNbTiZr          1579.0         0.0                  5.85     422.0               0.0                     1862.0        17.8                 0.0  The density of the AlNbTiZr HEA is ∼ 5.85 g cm...  10.1080.02670836.2018.1446267,\n      formula  yield_strength  grain_size  experimental_density  hardness  test_temperature  ultimate_tensile_strength  elongation  elongation_plastic                                           evidence                         doi\n 0  Ti-60% Ta           400.0        60.0                  7.92       0.0               0.0                      690.0         0.0                 0.0  Both the tensile strength and yield strength o...  10.1016.j.msea.2003.12.011,\n       formula  yield_strength  grain_size  experimental_density  hardness  test_temperature  ultimate_tensile_strength  elongation  elongation_plastic                                           evidence                            doi\n 0  HfNbTaTiZr          1202.0         0.0                   0.0     367.0               0.0                     1295.0         4.7                 0.0  The as-rolled sample showed a yield stress (σ ...  10.1016.j.jallcom.2015.07.209\n 1         BCC             0.0         0.0                   0.0       0.0               0.0                        0.0         0.0                 0.0                                                     10.1016.j.jallcom.2015.07.209\n 2  HfNbTaTiZr             0.0         0.0                   0.0       0.0               0.0                     1395.0         0.0                 0.0  After strain hardening to a true strain of ~0....  10.1016.j.jallcom.2015.07.209\n 3  HfNbTaTiZr          1145.0        22.0                   0.0       0.0               0.0                     1262.0         9.7                 0.0  After annealing at 1000°C, the true tensile st...  10.1016.j.jallcom.2015.07.209\n 4  HfNbTaTiZr             0.0         0.0                   0.0       0.0               0.0                     1334.0         1.9                 0.0  After annealing at 800°C, the true tensile str...  10.1016.j.jallcom.2015.07.209\n 5  HfNbTaTiZr          1303.0         0.0                   0.0       0.0             800.0                     1334.0         1.9                 0.0  Cold-Rolled + Annealed at 800°C / 2 h 1303 133...  10.1016.j.jallcom.2015.07.209\n 6  HfNbTaTiZr          1145.0         0.0                   0.0       0.0            1000.0                     1262.0         9.7                 0.0  Cold-Rolled + Annealed at 1000°C / 2 h 1145 12...  10.1016.j.jallcom.2015.07.209,\n            formula  yield_strength  grain_size  experimental_density  hardness  test_temperature  ultimate_tensile_strength  elongation  elongation_plastic                                           evidence                             doi\n 0          NbTiVZr           960.0         0.0                  6.49       0.0               0.0                        0.0         0.0                 0.0  Increase in Al content results in gradual decr...  10.1179.1743284715Y.0000000032\n 1   Al 1.5 NbTiVZr          1320.0         0.0                  5.55       0.0               0.0                        0.0         0.0                 0.0  Increase in Al content results in gradual decr...  10.1179.1743284715Y.0000000032\n 2     Al x NbTiVZr          1320.0         0.0                  6.49     380.0               0.0                     1470.0         4.2                 0.0  The NbTiVZr alloy demonstrates high yield stre...  10.1179.1743284715Y.0000000032\n 3     Al x NbTiVZr             0.0         0.0                  0.00       0.0               0.0                        0.0         0.0                 0.0  Effect of Al on mechanical properties of Al x-...  10.1179.1743284715Y.0000000032\n 4          NbTiVZr          1320.0         0.0                  6.49     457.0               0.0                        0.0         4.2                 0.0  The NbTiVZr alloy had the highest yield streng...  10.1179.1743284715Y.0000000032\n 5   Al 0.5 NbTiVZr           960.0         0.0                  0.00       0.0               0.0                        0.0         0.0                 0.0  The Al 0.5 NbTiVZr alloy has considerably lowe...  10.1179.1743284715Y.0000000032\n 6   Al 1.5 NbTiVZr          1310.0         0.0                  5.55     619.0               0.0                        0.0         0.0                 0.0  The Al 1.5 NbTiVZr alloy does not exhibited pl...  10.1179.1743284715Y.0000000032\n 7          NbTiVZr             0.0         0.0                  0.00       0.0               0.0                        0.0         0.0                 0.0     NbTiVZr 6.29 20.25 11.53 2251 103.75 4.5 0.037  10.1179.1743284715Y.0000000032\n 8     Al0.5NbTiVZr             0.0         0.0                  0.00       0.0               0.0                        0.0         0.0                 0.0  Al0.5NbTiVZr 5.98 210.86 13.15 2104 2.55 4.33 ...  10.1179.1743284715Y.0000000032\n 9        AlNbTiVZr             0.0         0.0                  0.00       0.0               0.0                        0.0         0.0                 0.0    AlNbTiVZr 5.73 217.44 13.38 1987 1.52 4.2 0.035  10.1179.1743284715Y.0000000032\n 10    Al1.5NbTiVZr             0.0         0.0                  0.00       0.0               0.0                        0.0         0.0                 0.0  Al1.5NbTiVZr 5.51 221.55 13.25 1891 1.16 4.09 ...  10.1179.1743284715Y.0000000032,\n             formula  yield_strength  grain_size  experimental_density  hardness  test_temperature  ultimate_tensile_strength  elongation  elongation_plastic                                           evidence                                    doi\n 0    HfNbSi0.5TiVZr          1540.0         0.0                  7.75     464.0             293.0                        0.0         0.0                 0.0  A new refractory alloy HfNbSi 0.5 TiVZr was sy...  10.4028.www.scientific.net.MSF.849.76\n 1  HfNbSi 0.5 TiVZr          1540.0         0.0                  7.75     495.8             296.0                        0.0        16.8                 0.0  The density of the alloy is 7.75g/cm 3 and the...  10.4028.www.scientific.net.MSF.849.76\n 2    HfNbSi0.5TiVZr           371.0         0.0                  7.75     464.0            1073.0                        0.0         0.0                 0.0  Table 4 4 Compressive true mechanical properti...  10.4028.www.scientific.net.MSF.849.76,\n                           formula  yield_strength  grain_size  experimental_density  hardness  test_temperature  ultimate_tensile_strength  elongation  elongation_plastic                                           evidence                         doi\n 0  Hf 0.5 Nb 0.5 Ta 0.5 Ti 1.5 Zr           900.0         0.0                   0.0       0.0               0.0                        0.0        18.8                 0.0  This alloy exhibited a large tensile ductility...  10.1016.j.jmst.2020.10.073\n 1                   Ta 0.4 HfZrTi           400.0         0.0                   0.0       0.0               0.0                        0.0        27.0                 0.0  As a result, the fracture strain (ductility) o...  10.1016.j.jmst.2020.10.073\n 2                       HfNbTaTiV             0.0         0.0                   0.0       0.0               0.0                        0.0         0.0                 0.0  The evolution of the equilibrium phase mole fr...  10.1016.j.jmst.2020.10.073\n 3                       HfNbTaTiV          1350.0         0.0                   0.0       0.0               0.0                        0.0         0.0                 0.0  The yield strength of the HfNbTaTiV HEA is est...  10.1016.j.jmst.2020.10.073\n 4                      HfNbTaTiZr           969.0         0.0                   0.0       0.0               0.0                        0.0         0.0                 0.0  The yield strength of the HfNbTaTiZr HEA is es...  10.1016.j.jmst.2020.10.073\n 5                      HfNbTaTiZr             0.0         0.0                   0.0       0.0               0.0                        0.0         0.0                 0.0  Table 2 Calculated enthalpy of mixing (∆𝐻 mix ...  10.1016.j.jmst.2020.10.073\n 6                       HfNbTaTiV             0.0         0.0                   0.0       0.0               0.0                        0.0         0.0                 0.0  Table 2 Calculated enthalpy of mixing (∆𝐻 mix ...  10.1016.j.jmst.2020.10.073,\n           formula  yield_strength  grain_size  experimental_density  hardness  test_temperature  ultimate_tensile_strength  elongation  elongation_plastic                                           evidence                         doi\n 0  Ti2ZrHf0.5VNbx          1160.0         0.0                  6.47     338.0             293.0                        0.0         0.0                 0.0  With the increase in Nb content, the yield str...  10.1007.s40195-019-00921-3\n 1  Ti2ZrHf0.5VNbx           405.0         0.0                  0.00       0.0             873.0                        0.0         0.0                 0.0  The yield strength of the alloys increased fro...  10.1007.s40195-019-00921-3\n 2  Ti2ZrHf0.5VNbx            85.0         0.0                  0.00       0.0            1073.0                        0.0         0.0                 0.0  The yield strength of the alloys increased fro...  10.1007.s40195-019-00921-3\n 3  Ti2ZrHf0.5VNbx          1160.0         0.0                  0.00     338.0             298.0                        0.0         0.0                 0.0  At RT, all the Ti 2 ZrHf 0.5 VNb x alloys exhi...  10.1007.s40195-019-00921-3\n 4  Ti2ZrHf0.5VNb1           850.0         0.0                  6.84     310.4             873.0                        0.0         0.0                 0.0  The addition of Nb element into the Ti 2 ZrHf ...  10.1007.s40195-019-00921-3,\n               formula  yield_strength  grain_size  experimental_density  hardness  test_temperature  ultimate_tensile_strength  elongation  elongation_plastic                                           evidence                           doi\n 0      (MoNbTa)6Ti2V2             0.0         0.0                   0.0       0.0               0.0                        0.0         0.0                 0.0  The as-cast (MoNbTa) 6 Ti 2 V 2 alloy exhibit ...  10.1016.j.ijrmhm.2021.105664\n 1      (MoNbTa)6TixVy          1100.0         0.0                   0.0       0.0               0.0                        0.0         0.0                10.9  The room temperature compression tests were ca...  10.1016.j.ijrmhm.2021.105664\n 2      (MoNbTa)6TixVy             0.0         0.0                   0.0     600.0               0.0                        0.0         0.0                 0.0  compared with a high content of Ti, the hardne...  10.1016.j.ijrmhm.2021.105664\n 3      (MoNbTa)6Ti1V3             0.0         0.0                   0.0       0.0               0.0                        0.0         0.0                 0.0                                                     10.1016.j.ijrmhm.2021.105664\n 4  (MoNbTa)6Ti1.5V2.5             0.0         0.0                   0.0       0.0               0.0                        0.0         0.0                 0.0                                                     10.1016.j.ijrmhm.2021.105664\n 5           MoNbTaTiV             0.0         0.0                   0.0       0.0               0.0                        0.0         0.0                 0.0                                                     10.1016.j.ijrmhm.2021.105664\n 6  (MoNbTa)6Ti2.5V1.5             0.0         0.0                   0.0       0.0               0.0                        0.0         0.0                 0.0                                                     10.1016.j.ijrmhm.2021.105664\n 7      (MoNbTa)6Ti3V1             0.0         0.0                   0.0       0.0               0.0                        0.0         0.0                 0.0                                                     10.1016.j.ijrmhm.2021.105664,\n           formula  yield_strength  grain_size  experimental_density  hardness  test_temperature  ultimate_tensile_strength  elongation  elongation_plastic                                           evidence                             doi\n 0      MoNbHfZrTi          1719.0         0.0                   0.0     494.0               0.0                     1803.0       10.12                 0.0  As reported, the equitatomic MoNbHfZrTi alloy ...  10.1016.j.intermet.2015.10.011\n 1      MoNbHfZrTi             0.0         0.0                   0.0       0.0               0.0                        0.0        0.00                 0.0  The hardness and strength of non-equiatomic Mo...  10.1016.j.intermet.2015.10.011\n 2   Nb0.5MoTiZrHf             0.0         0.0                   0.0       0.0               0.0                        0.0        0.00                 0.0                                                     10.1016.j.intermet.2015.10.011\n 3   Nb1.5MoTiZrHf             0.0         0.0                   0.0       0.0               0.0                        0.0        0.00                 0.0                                                     10.1016.j.intermet.2015.10.011\n 4           Ti0.5             0.0         0.0                   0.0       0.0               0.0                        0.0        0.00                 0.0                                                     10.1016.j.intermet.2015.10.011\n 5           Ti1.5             0.0         0.0                   0.0       0.0               0.0                        0.0        0.00                 0.0                                                     10.1016.j.intermet.2015.10.011\n 6           Zr0.5             0.0         0.0                   0.0       0.0               0.0                        0.0        0.00                 0.0                                                     10.1016.j.intermet.2015.10.011\n 7           Zr1.5             0.0         0.0                   0.0       0.0               0.0                        0.0        0.00                 0.0                                                     10.1016.j.intermet.2015.10.011\n 8           Hf0.5             0.0         0.0                   0.0       0.0               0.0                        0.0        0.00                 0.0                                                     10.1016.j.intermet.2015.10.011\n 9           Hf1.5             0.0         0.0                   0.0       0.0               0.0                        0.0        0.00                 0.0                                                     10.1016.j.intermet.2015.10.011\n 10     Mo0.5Hf0.5             0.0         0.0                   0.0       0.0               0.0                        0.0        0.00                 0.0                                                     10.1016.j.intermet.2015.10.011\n 11          Mo1.5             0.0         0.0                   0.0       0.0               0.0                        0.0        0.00                 0.0                                                     10.1016.j.intermet.2015.10.011,\n                           formula  yield_strength  grain_size  experimental_density  hardness  test_temperature  ultimate_tensile_strength  elongation  elongation_plastic                                           evidence                         doi\n 0            MoNbRe0.5TaW(TiC)1.0          1496.0         0.0                  0.00       0.0               0.0                     1943.0         0.0                 0.0  It was found that a MoNbRe0.5TaW(TiC)1.0 alloy...  10.1016.j.mtla.2021.101057\n 1   Al 28 Cr 20 Nb 15 Ti 27 Zr 10             0.0         0.0                  5.23       0.0             800.0                        0.0         0.0                 0.0  The Al-containing alloys showed a significantl...  10.1016.j.mtla.2021.101057\n 2               Nb 30 Ti 40 Zr 30           675.0         0.0                  0.00       0.0              22.0                        0.0        50.0                 0.0  At 22 °C, the Nb 30 Ti 40 Zr 30 alloy exhibite...  10.1016.j.mtla.2021.101057\n 3               Nb 30 Ti 40 Zr 30           605.0         0.0                  0.00       0.0              22.0                        0.0        20.9                 0.0  The Nb 30 Ti 40 Zr 30 alloy had a yield streng...  10.1016.j.mtla.2021.101057\n 4   Al 15 Cr 20 Nb 15 Ti 40 Zr 10             0.0         0.0                  5.55       0.0              22.0                        0.0         0.0                 0.0  One of the promising examples of such alloys w...  10.1016.j.mtla.2021.101057\n 5   Al 28 Cr 20 Nb 15 Ti 27 Zr 10           810.0         0.0                  0.00       0.0             800.0                     1150.0         0.0                 0.0  During compression, the alloy yielded at 810 M...  10.1016.j.mtla.2021.101057\n 6   Al 23 Cr 20 Nb 15 Ti 32 Zr 10             0.0         0.0                  0.00       0.0             700.0                        0.0         0.0                 0.0  23 Cr 20 Nb 15 Ti 32 Zr 10 alloy became ductil...  10.1016.j.mtla.2021.101057\n 7   Al 28 Cr 20 Nb 15 Ti 27 Zr 10             0.0         0.0                  0.00       0.0             800.0                        0.0         0.0                 0.0   the Al 28 Cr 20 Nb 15 Ti 27 Zr 10 alloyat 800 °C  10.1016.j.mtla.2021.101057\n 8   Al 33 Cr 20 Nb 15 Ti 22 Zr 10             0.0         0.0                  0.00       0.0            1000.0                        0.0         0.0                 0.0  the Al 33 Cr 20 Nb 15 Ti 22 Zr 10 alloy -at 10...  10.1016.j.mtla.2021.101057\n 9   Al 15 Cr 20 Nb 15 Ti 40 Zr 10             0.0         0.0                  0.00       0.0              22.0                        0.0         4.0                 0.0  15 Ti 40 Zr 10 alloy was the only alloy among ...  10.1016.j.mtla.2021.101057\n 10  Al 23 Cr 20 Nb 15 Ti 32 Zr 10             0.0         0.0                  0.00       0.0             700.0                        0.0         0.0                 0.0  Meanwhile, the hypoeutectic Al 23 Cr 20 Nb 15 ...  10.1016.j.mtla.2021.101057\n 11  Al 28 Cr 20 Nb 15 Ti 27 Zr 10             0.0         0.0                  0.00       0.0             800.0                        0.0         0.0                 0.0  Meanwhile, the hypoeutectic Al 23 Cr 20 Nb 15 ...  10.1016.j.mtla.2021.101057\n 12  Al 33 Cr 20 Nb 15 Ti 22 Zr 10             0.0         0.0                  0.00       0.0            1000.0                        0.0         0.0                 0.0  Meanwhile, the hypoeutectic Al 23 Cr 20 Nb 15 ...  10.1016.j.mtla.2021.101057,\n         formula  yield_strength  grain_size  experimental_density  hardness  test_temperature  ultimate_tensile_strength  elongation  elongation_plastic                                           evidence                         doi\n 0  AlxMoNbTaTiV             0.0         0.0                  0.00       0.0               0.0                        0.0         0.0                 0.0  AlxMoNbTaTiV alloys are designed according to ...  10.1016.j.msea.2020.139275\n 1  AlxMoNbTaTiV          1228.0         0.0                  9.33     421.6              20.0                        0.0         0.0                 0.0  At room temperature, as shown in Fig.  9 (a), ...  10.1016.j.msea.2020.139275\n 2  AlxMoNbTaTiV             0.0         0.0                  0.00       0.0               0.0                        0.0         0.0                 0.0  For AlxMoNbTaTiV alloys, the Al atoms can be r...  10.1016.j.msea.2020.139275\n 3  AlxMoNbTaTiV          1228.0         0.0                  0.00     421.0             293.0                        0.0         0.0                 0.0  As the Al content increases, the lattice const...  10.1016.j.msea.2020.139275\n 4  MoNbTaTiVAlx          1227.9         0.0                  9.33     421.7               0.0                     2066.0        30.0                 0.0  Table 4 4 Density, lattice parameter and mecha...  10.1016.j.msea.2020.139275\n 5  MoNbTaTiVAlx          1292.0         0.0                  9.12     473.6               0.0                     1791.0        16.0                 0.0  Table 4 4 Density, lattice parameter and mecha...  10.1016.j.msea.2020.139275\n 6  MoNbTaTiVAlx          1332.2         0.0                  8.98     510.0               0.0                     1776.0        13.0                 0.0  Table 4 4 Density, lattice parameter and mecha...  10.1016.j.msea.2020.139275\n 7  MoNbTaTiVAlx          1352.9         0.0                  8.79     532.0               0.0                     1868.0        21.0                 0.0  Table 4 4 Density, lattice parameter and mecha...  10.1016.j.msea.2020.139275\n 8  MoNbTaTiVAlx          1391.2         0.0                  8.15     574.8               0.0                     1436.0         9.0                 0.0  Table 4 4 Density, lattice parameter and mecha...  10.1016.j.msea.2020.139275,\n                      formula  yield_strength  grain_size  experimental_density  hardness  test_temperature  ultimate_tensile_strength  elongation  elongation_plastic                                           evidence                             doi\n 0  Mo 0.5 NbHf 0.5 ZrTiC 0.1          1183.0         0.0                   0.0       0.0               0.0                     2139.0         0.0                 0.0  Fig. 4 4 shows the compressive stressestrain c...  10.1016.j.intermet.2015.09.011\n 1  Mo 0.5 NbHf 0.5 ZrTiC 0.3             0.0         0.0                   0.0       0.0               0.0                        0.0         0.0                 0.0  Fig. 4 4 shows the compressive stressestrain c...  10.1016.j.intermet.2015.09.011\n 2                 MoNbHfZrTi             0.0         0.0                   0.0       0.0               0.0                        0.0         0.0                 0.0                                                     10.1016.j.intermet.2015.09.011,\n         formula  yield_strength  grain_size  experimental_density  hardness  test_temperature  ultimate_tensile_strength  elongation  elongation_plastic                                           evidence                         doi\n 0       NbMoTaW           996.0         0.0                   0.0       0.0               0.0                        0.0         1.9                 0.0  It shows that the room temperature ductility o...  10.1016.j.msea.2017.12.004\n 1     TiNbMoTaW          1455.0         0.0                   0.0       0.0               0.0                        0.0        11.5                 0.0  It shows that the room temperature ductility o...  10.1016.j.msea.2017.12.004\n 2  Ti x NbMoTaW          1455.0         0.0                   0.0       0.0               0.0                        0.0        11.5                 0.0  The yield strength of the TiNbMoTaW alloy is 1...  10.1016.j.msea.2017.12.004\n 3           Ti0           996.0         0.0                   0.0       0.0               0.0                     1148.0         0.0                 1.9  Table 4 . 4 Room-temperature yield strength (σ...  10.1016.j.msea.2017.12.004\n 4        Ti0.25          1109.0         0.0                   0.0       0.0               0.0                     1197.0         0.0                 2.5  Table 4 . 4 Room-temperature yield strength (σ...  10.1016.j.msea.2017.12.004\n 5         Ti0.5          1211.0         0.0                   0.0       0.0               0.0                     1578.0         0.0                 5.9  Table 4 . 4 Room-temperature yield strength (σ...  10.1016.j.msea.2017.12.004\n 6        Ti0.75          1304.0         0.0                   0.0       0.0               0.0                     1593.0         0.0                 8.4  Table 4 . 4 Room-temperature yield strength (σ...  10.1016.j.msea.2017.12.004\n 7           Ti1          1455.0         0.0                   0.0       0.0               0.0                     1910.0         0.0                11.5  Table 4 . 4 Room-temperature yield strength (σ...  10.1016.j.msea.2017.12.004,\n                    formula  yield_strength  grain_size  experimental_density  hardness  test_temperature  ultimate_tensile_strength  elongation  elongation_plastic                                           evidence                         doi\n 0               TiHfZrTaNb           879.0         0.0                   0.0       0.0               0.0                        0.0        15.0                 0.0  In a recent report Wu et al. [12] demonstrated...  10.1016.j.msea.2015.12.017\n 1                                      0.0         0.0                   0.0       0.0               0.0                        0.0         0.0                 0.0                                                     10.1016.j.msea.2015.12.017\n 2  Ti 25 Hf 25 Zr 25 Nb 25           810.0         0.0                   0.0       4.9               0.0                      890.0         0.0                 0.0  Interestingly, the above described mechanical ...  10.1016.j.msea.2015.12.017\n 3     Ti20Zr20Hf20Nb20Ta20           800.0         0.0                   0.0       0.0               0.0                        0.0         0.0                 0.0  Room temperature tensile tests showed only rem...  10.1016.j.msea.2015.12.017,\n                          formula  yield_strength  grain_size  experimental_density  hardness  test_temperature  ultimate_tensile_strength  elongation  elongation_plastic                                           evidence                        doi\n 0  Ta 20 Nb 20 Hf 20 Zr 20 Ti 20           929.0       150.0                  9.94       0.0             296.0                        0.0        50.0                 0.0  The TaNbHfZrTi alloy had a single-phase body-c...  10.1007.s10853-012-6260-2\n 1                     TaNbHfZrTi             0.0         0.0                  0.00       0.0            1073.0                        0.0         0.0                 0.0  Microstructure after hot isostatic pressing an...  10.1007.s10853-012-6260-2\n 2                     TaNbHfZrTi             0.0         0.0                  0.00       0.0             296.0                        0.0         0.0                 0.0  One may therefore suggest that the activation ...  10.1007.s10853-012-6260-2\n 3                     TaNbHfZrTi           929.0       100.0                  0.00       0.0             296.0                        0.0         0.0                 0.0  Table 2 Compression yield strength, r 0.2 , of...  10.1007.s10853-012-6260-2\n 4                     TaNbHfZrTi           790.0         0.0                  0.00       0.0             673.0                        0.0         0.0                 0.0  Table 2 Compression yield strength, r 0.2 , of...  10.1007.s10853-012-6260-2\n 5                     TaNbHfZrTi           675.0         0.0                  0.00       0.0             873.0                        0.0         0.0                 0.0  Table 2 Compression yield strength, r 0.2 , of...  10.1007.s10853-012-6260-2\n 6                     TaNbHfZrTi           535.0         0.0                  0.00       0.0            1073.0                        0.0         0.0                 0.0  Table 2 Compression yield strength, r 0.2 , of...  10.1007.s10853-012-6260-2\n 7                     TaNbHfZrTi           295.0         0.0                  0.00       0.0            1273.0                        0.0         0.0                 0.0  Table 2 Compression yield strength, r 0.2 , of...  10.1007.s10853-012-6260-2\n 8                     TaNbHfZrTi            92.0         0.0                  0.00       0.0            1473.0                        0.0         0.0                 0.0  Table 2 Compression yield strength, r 0.2 , of...  10.1007.s10853-012-6260-2,\n                          formula  yield_strength  grain_size  experimental_density  hardness  test_temperature  ultimate_tensile_strength  elongation  elongation_plastic                                           evidence                         doi\n 0                     TiZrHfNbTa             0.0         0.0                   0.0       0.0               0.0                        0.0         0.0                 0.0  The preparation of the equimolar TiZrHfNbTa hi...  10.1016.j.msea.2015.08.024\n 1                     TiZrHfNbTa             0.0        80.0                   0.0       0.0               0.0                        0.0        20.0                17.0  After stabilization up to  P ≈ 11%, the work ...  10.1016.j.msea.2015.08.024\n 2  Ti 20 Zr 20 Hf 20 Nb 20 Ta 20             0.0         0.0                   0.0       0.0               0.0                        0.0         0.0                 0.0  In this paper, dislocation structures have bee...  10.1016.j.msea.2015.08.024,\n                          formula  yield_strength  grain_size  experimental_density  hardness  test_temperature  ultimate_tensile_strength  elongation  elongation_plastic                                           evidence                               doi\n 0  Nb 55 Ta 25 Ti 15 Hf 5 (at.%)             0.0         0.0                   0.0       0.0               0.0                        0.0         0.0                 0.0  In this study, we report a new non-equiatomic ...  10.1016.j.scriptamat.2020.07.006\n 1                       NbTaTiHf           620.0         3.6                   0.0       0.0               0.0                        0.0         0.0                 0.0  The HL-structured NTTH RCCA specimen with yiel...  10.1016.j.scriptamat.2020.07.006\n 2                           NTTH             0.0         0.0                   0.0       0.0             900.0                        0.0         0.0                 0.0  Fig. 4 . 4 Fig. 4. (a) True stress-strain curv...  10.1016.j.scriptamat.2020.07.006,\n        formula  yield_strength  grain_size  experimental_density  hardness  test_temperature  ultimate_tensile_strength  elongation  elongation_plastic                                           evidence                         doi\n 0    MoNbFeCrV             0.0         0.0                   0.0       0.0               0.0                        0.0         0.0                 0.0  All the three HEAs show high hardness, high yi...  10.1007.s40195-019-00935-x\n 1   MoNbFeCrTi             0.0         0.0                   0.0       0.0               0.0                        0.0         0.0                 0.0  All the three HEAs show high hardness, high yi...  10.1007.s40195-019-00935-x\n 2    MoNbFeVTi             0.0         0.0                   0.0       0.0               0.0                        0.0         0.0                 0.0  All the three HEAs show high hardness, high yi...  10.1007.s40195-019-00935-x\n 3    MoNbFeCrV             0.0         0.0                   0.0       0.0               0.0                        0.0         0.0                 0.0  Crystal Structure XRD patterns of the MoNbFeCr...  10.1007.s40195-019-00935-x\n 4   MoNbFeCrTi             0.0         0.0                   0.0       0.0               0.0                        0.0         0.0                 0.0  For the MoNbFeCrTi alloy, one BCC phase with t...  10.1007.s40195-019-00935-x\n 5    MoNbFeVTi             0.0         0.0                   0.0       0.0               0.0                        0.0         0.0                 0.0  It is noted that an ordered BCC (B2) phase ins...  10.1007.s40195-019-00935-x\n 6    MoNbFeVTi             0.0         0.0                   0.0       0.0               0.0                        0.0         0.0                 0.0  The MoNbFeVTi alloy consists of three distinct...  10.1007.s40195-019-00935-x\n 7    MoNbFeCrV             0.0         0.0                   0.0     826.0               0.0                        0.0         0.0                 0.0  The measured hardness values of the MoNbFeCrV,...  10.1007.s40195-019-00935-x\n 8   MoNbFeCrTi             0.0         0.0                   0.0     792.0               0.0                        0.0         0.0                 0.0  The measured hardness values of the MoNbFeCrV,...  10.1007.s40195-019-00935-x\n 9    MoNbFeVTi             0.0         0.0                   0.0     699.0               0.0                        0.0         0.0                 0.0  The measured hardness values of the MoNbFeCrV,...  10.1007.s40195-019-00935-x\n 10   MoNbFeCrV          2663.0         0.0                   0.0     826.0               0.0                        0.0         2.7                 0.0  (3) The MoNbFeCrV alloy has the highest hardne...  10.1007.s40195-019-00935-x\n 11  MoNbFeCrTi          1647.0         0.0                   0.0       0.0               0.0                        0.0         0.9                 0.0  The fracture strains of the MoNbFeCrV, MoNbFeC...  10.1007.s40195-019-00935-x\n 12   MoNbFeVTi          1707.0         0.0                   0.0       0.0               0.0                        0.0         1.7                 0.0  The fracture strains of the MoNbFeCrV, MoNbFeC...  10.1007.s40195-019-00935-x,\n      formula  yield_strength  grain_size  experimental_density  hardness  test_temperature  ultimate_tensile_strength  elongation  elongation_plastic                                           evidence                               doi\n 0   HfNbTaTi             0.0         0.0                   0.0       0.0               0.0                        0.0         0.0                 0.0  After homogenization, ductility of (1) HfNbTaT...  10.2320.matertrans.MT-MK2019003]\n 1   HfNbTaZr             0.0         0.0                   0.0       0.0               0.0                        0.0         0.0                 0.0  After homogenization, ductility of (1) HfNbTaT...  10.2320.matertrans.MT-MK2019003]\n 2   HfNbTiZr             0.0         0.0                   0.0       0.0               0.0                        0.0         0.0                 0.0  After homogenization, ductility of (1) HfNbTaT...  10.2320.matertrans.MT-MK2019003]\n 3   HfTaTiZr             0.0         0.0                   0.0       0.0               0.0                        0.0         0.0                 0.0  After homogenization, ductility of (1) HfNbTaT...  10.2320.matertrans.MT-MK2019003]\n 4   NbTaTiZr             0.0         0.0                   0.0       0.0               0.0                        0.0         0.0                 0.0  After homogenization, ductility of (1) HfNbTaT...  10.2320.matertrans.MT-MK2019003]\n 5   HfNbTaTi             0.0         0.0                   0.0       0.0               0.0                        0.0         0.0                 0.0  The fraction of GM and DM reduced to zero in (...  10.2320.matertrans.MT-MK2019003]\n 6   HfNbTiZr             0.0         0.0                   0.0       0.0               0.0                        0.0         0.0                 0.0  The fraction of GM and DM reduced to zero in (...  10.2320.matertrans.MT-MK2019003]\n 7   HfTaTiZr             0.0         0.0                   0.0       0.0               0.0                        0.0         0.0                 0.0  The fraction of GM and DM reduced to zero in (...  10.2320.matertrans.MT-MK2019003]\n 8   HfNbTaZr             0.0         0.0                   0.0       0.0               0.0                        0.0         0.0                 0.0  AG and GM were observed in (2) HfNbTaZr and DM...  10.2320.matertrans.MT-MK2019003]\n 9   NbTaTiZr             0.0         0.0                   0.0       0.0               0.0                        0.0         0.0                 0.0  AG and GM were observed in (2) HfNbTaZr and DM...  10.2320.matertrans.MT-MK2019003]\n 10  HfNbTaTi             0.0         0.0                   0.0       0.0               0.0                        0.0         0.0                 0.0  After the homogenization, yield strength and u...  10.2320.matertrans.MT-MK2019003]\n 11  HfTaTiZr           875.0         0.0                   0.0       0.0               0.0                        0.0         0.0                 0.0  (4) HfTaTiZr and (5) NbTaTiZr showed comparabl...  10.2320.matertrans.MT-MK2019003]\n 12  NbTaTiZr           920.0         0.0                   0.0       0.0               0.0                        0.0         0.0                 0.0  (4) HfTaTiZr and (5) NbTaTiZr showed comparabl...  10.2320.matertrans.MT-MK2019003]\n 13  HfNbTaTi             0.0         0.0                   0.0       0.0               0.0                        0.0         0.0                 0.0  Tensile ductility of (1) HfNbTaTi, (3) HfNbTiZ...  10.2320.matertrans.MT-MK2019003]\n 14  HfNbTaZr             0.0         0.0                   0.0       0.0               0.0                        0.0         0.0                 0.0  (2) HfNbTaZr still showed a brittle fracture b...  10.2320.matertrans.MT-MK2019003]\n 15  HfNbTiZr             0.0         0.0                   0.0       0.0               0.0                        0.0         0.0                 0.0  Tensile ductility of (1) HfNbTaTi, (3) HfNbTiZ...  10.2320.matertrans.MT-MK2019003]\n 16  HfTaTiZr             0.0         0.0                   0.0       0.0               0.0                        0.0         0.0                 0.0  Tensile ductility of (1) HfNbTaTi, (3) HfNbTiZ...  10.2320.matertrans.MT-MK2019003]\n 17  NbTaTiZr             0.0         0.0                   0.0       0.0               0.0                        0.0         0.0                 0.0  Tensile ductility of (1) HfNbTaTi, (3) HfNbTiZ...  10.2320.matertrans.MT-MK2019003],\n          formula  yield_strength  grain_size  experimental_density  hardness  test_temperature  ultimate_tensile_strength  elongation  elongation_plastic                                           evidence                            doi\n 0      MoNbTaTiV          1400.0         0.0                  9.29     443.0               0.0                        0.0         0.0                 0.0  The measured density and lattice parameter for...  10.1016.j.jallcom.2016.11.188\n 1      MoNbTaTiV          1400.0         0.0                  9.29       0.0              25.0                        0.0        30.0                 0.0  The yield strength ðs exp 0:2 Þ of the MoNbTaT...  10.1016.j.jallcom.2016.11.188\n 2      MoNbTaTiV          1467.0         0.0                  0.00     449.0               0.0                        0.0         0.0                 0.0  The calculated yield strength ðs cal 0:2 Þ usi...  10.1016.j.jallcom.2016.11.188\n 3      MoNbTaTiV             0.0         0.0                  0.00       0.0               0.0                        0.0         0.0                 0.0  The calculated empirical parameters for the Mo...  10.1016.j.jallcom.2016.11.188\n 4      MoNbTaTiV          1400.0        43.0                  9.29     443.0               0.0                        0.0         0.0                 0.0  Table 2 2 Comparison between the calculated yi...  10.1016.j.jallcom.2016.11.188\n 5     HfMoTaTiZr           542.0         0.0                  0.00       0.0               0.0                     1600.0         0.0                 0.0  Ref. [28] HfMoTaTiZr BCC As-cast 542 574 1600 ...  10.1016.j.jallcom.2016.11.188\n 6   HfMoNbTaTiZr           505.0         0.0                  0.00       0.0               0.0                     1512.0         0.0                 0.0  Ref. [50] HfMoNbTaTiZr BCC As-cast 505 506 151...  10.1016.j.jallcom.2016.11.188\n 7    HfNbTaTiVZr           558.0         0.0                  0.00       0.0               0.0                        0.0         0.0                 0.0  Ref. [29] HfNbTaTiVZr BCC As-cast 558 485 e e ...  10.1016.j.jallcom.2016.11.188\n 8     HfNbTaTiZr           390.0         0.0                  0.00       0.0               0.0                      929.0         0.0                 0.0  Ref. [19] HfNbTaTiZr BCC As-cast 390 331 929 1...  10.1016.j.jallcom.2016.11.188\n 9     HfMoNbTiZr           552.0         0.0                  0.00       0.0               0.0                     1719.0         0.0                 0.0  Ref. [51] HfMoNbTiZr BCC BCC As-cast Annealed ...  10.1016.j.jallcom.2016.11.188\n 10       NbTiVZr           335.0         0.0                  0.00       0.0               0.0                     1105.0         0.0                 0.0  Ref. [51] NbTiVZr BCC Annealed 335 390 1105 12...  10.1016.j.jallcom.2016.11.188,\n                              formula  yield_strength  grain_size  experimental_density  hardness  test_temperature  ultimate_tensile_strength  elongation  elongation_plastic                                           evidence                           doi\n 0                         Nb-Mo-Ta-W             0.0       150.0                   0.0       0.0               0.0                        0.0         0.0                 0.0  The grain sizes of each alloy are about ~150 μ...  10.1016.j.ijrmhm.2020.105370\n 1                         Nb-Mo-Ta-W             0.0         0.0                   0.0       0.0              25.0                        0.0         0.0                 0.0  The comprehensive mechanical properties of the...  10.1016.j.ijrmhm.2020.105370\n 2                         Nb-Mo-Ta-W             0.0         0.0                   0.0       0.0               0.0                        0.0         0.0                 0.0  All the five Nb-Mo-Ta-W HEAs with same compone...  10.1016.j.ijrmhm.2020.105370\n 3             Ti 45 Zr 25 Nb 25 Ta 5           790.0         0.0                   0.0       0.0               0.0                        0.0         0.0                 0.0  Ti 45 Zr 25 Nb 25 Ta 5 BCC As-cast 1.202 790 9...  10.1016.j.ijrmhm.2020.105370\n 4            Ti 40 Zr 25 Nb 25 Ta 10           910.0         0.0                   0.0       0.0               0.0                        0.0         0.0                 0.0  Ti 40 Zr 25 Nb 25 Ta 10 BCC As-cast 1.290 910 ...  10.1016.j.ijrmhm.2020.105370\n 5            Ti 35 Zr 25 Nb 25 Ta 15          1020.0         0.0                   0.0       0.0               0.0                        0.0         0.0                 0.0  Ti 35 Zr 25 Nb 25 Ta 15 BCC As-cast 1.345 1020...  10.1016.j.ijrmhm.2020.105370\n 6            Ti 30 Zr 25 Nb 25 Ta 20          1080.0         0.0                   0.0       0.0               0.0                        0.0         0.0                 0.0  Ti 30 Zr 25 Nb 25 Ta 20 BCC As-cast 1.376 1080...  10.1016.j.ijrmhm.2020.105370\n 7            Ti 25 Zr 25 Nb 25 Ta 25          1170.0         0.0                   0.0       0.0               0.0                        0.0         0.0                 0.0  Ti 25 Zr 25 Nb 25 Ta 25 BCC As-cast 1.386 1170...  10.1016.j.ijrmhm.2020.105370\n 8            Ti 25 Zr 25 Nb 25 Ta 25           970.0         0.0                   0.0       0.0               0.0                        0.0         0.0                 0.0  Ti 25 Zr 25 Nb 25 Ta 25 BCC As-cast 1.386 970 ...  10.1016.j.ijrmhm.2020.105370\n 9    Ti 31.67 Zr 31.67 Nb 31.66 Ta 5           790.0         0.0                   0.0       0.0               0.0                        0.0         0.0                 0.0  Ti 31.67 Zr 31.67 Nb 31.66 Ta 5 BCC As-cast 1....  10.1016.j.ijrmhm.2020.105370\n 10            Ti 35 Zr 35 Nb 25 Ta 5           780.0         0.0                   0.0       0.0               0.0                        0.0         0.0                 0.0  Ti 35 Zr 35 Nb 25 Ta 5 BCC As-cast 1.231 780 1...  10.1016.j.ijrmhm.2020.105370\n 11             Ti 45 Zr 45 Nb 5 Ta 5           690.0         0.0                   0.0       0.0               0.0                        0.0         0.0                 0.0  Ti 45 Zr 45 Nb 5 Ta 5 BCC As-cast 1.018 690 99...  10.1016.j.ijrmhm.2020.105370\n 12  Ti 21.67 Zr 21.67 Nb 21.66 Ta 35          1050.0         0.0                   0.0       0.0               0.0                        0.0         0.0                 0.0  Ti 21.67 Zr 21.67 Nb 21.66 Ta 35 BCC As-cast 1...  10.1016.j.ijrmhm.2020.105370\n 13           Ti 15 Zr 15 Nb 35 Ta 35           970.0         0.0                   0.0       0.0               0.0                        0.0         0.0                 0.0  Ti 15 Zr 15 Nb 35 Ta 35 BCC As-cast 1.304 970 ...  10.1016.j.ijrmhm.2020.105370\n 14                   Ti 0.25 NbMoTaW          1109.0         0.0                   0.0       0.0               0.0                        0.0         0.0                 0.0  Ti 0.25 NbMoTaW BCC As-cast 1.530 1109 1465 13...  10.1016.j.ijrmhm.2020.105370\n 15                    Ti 0.5 NbMoTaW          1211.0         0.0                   0.0       0.0               0.0                        0.0         0.0                 0.0  Ti 0.5 NbMoTaW BCC As-cast 1.582 1211 1464 140...  10.1016.j.ijrmhm.2020.105370\n 16                   Ti 0.75 NbMoTaW          1304.0         0.0                   0.0       0.0               0.0                        0.0         0.0                 0.0  Ti 0.75 NbMoTaW BCC As-cast 1.604 1304 1454 14...  10.1016.j.ijrmhm.2020.105370\n 17                         TiNbMoTaW          1455.0         0.0                   0.0       0.0               0.0                        0.0         0.0                 0.0  TiNbMoTaW BCC As-cast 1.609 1455 1436 1436 Ref...  10.1016.j.ijrmhm.2020.105370\n 18                     TiZrNbVMo 0.3          1289.0         0.0                   0.0       0.0               0.0                        0.0         0.0                 0.0  TiZrNbVMo 0.3 BCC As-cast 1.543 1289 1690 1521...  10.1016.j.ijrmhm.2020.105370\n 19                     TiZrNbVMo 0.5          1473.0         0.0                   0.0       0.0               0.0                        0.0         0.0                 0.0  TiZrNbVMo 0.5 BCC As-cast 1.582 1473 1805 1728...  10.1016.j.ijrmhm.2020.105370\n 20                     TiZrNbVMo 0.7          1706.0         0.0                   0.0       0.0               0.0                        0.0         0.0                 0.0  TiZrNbVMo 0.7 BCC As-cast 1.600 1706 1902 1874...  10.1016.j.ijrmhm.2020.105370\n 21                         TiZrNbVMo          1779.0         0.0                   0.0       0.0               0.0                        0.0         0.0                 0.0  TiZrNbVMo BCC As-cast 1.609 1779 2035 2035 Ref...  10.1016.j.ijrmhm.2020.105370\n 22              Ta 0.4 Nb 0.4 HfZrTi           800.0         0.0                   0.0       0.0               0.0                        0.0         0.0                 0.0  Ta 0.4 Nb 0.4 HfZrTi BCC As-cast 1.528 800 985...  10.1016.j.ijrmhm.2020.105370\n 23              Ta 0.6 Nb 0.6 HfZrTi           880.0         0.0                   0.0       0.0               0.0                        0.0         0.0                 0.0  Ta 0.6 Nb 0.6 HfZrTi BCC As-cast 1.581 880 103...  10.1016.j.ijrmhm.2020.105370\n 24              Ta 0.8 Nb 0.8 HfZrTi           890.0         0.0                   0.0       0.0               0.0                        0.0         0.0                 0.0  Ta 0.8 Nb 0.8 HfZrTi BCC As-cast 1.604 890 106...  10.1016.j.ijrmhm.2020.105370\n 25                        TaNbHfZrTi          1200.0         0.0                   0.0       0.0               0.0                        0.0         0.0                 0.0  TaNbHfZrTi BCC As-cast 1.609 1200 1088 1088 Re...  10.1016.j.ijrmhm.2020.105370,\n                     formula  yield_strength  grain_size  experimental_density  hardness  test_temperature  ultimate_tensile_strength  elongation  elongation_plastic                                           evidence                            doi\n 0      Mo 0.5 NbHf 0.5 ZrTi             0.0         0.0                   0.0       0.0               0.0                        0.0         0.0                 0.0  Refractory high-entropy alloy Mo 0.5 NbHf 0.5 ...  10.1016.j.jallcom.2015.11.091\n 1       Mo0.5NbHf0.5ZrTiSix             0.0         0.0                   0.0     398.0               0.0                        0.0         0.0                 0.0  Without the addition of Si, the hardness is 39...  10.1016.j.jallcom.2015.11.091\n 2       Mo0.5NbHf0.5ZrTiSix             0.0         0.0                   0.0     638.0               0.0                        0.0         0.0                 0.0  the hardness reaches to 638 HV when the conten...  10.1016.j.jallcom.2015.11.091\n 3  Mo 0.5 NbHf 0.5 ZrTiSi x             0.0         0.0                   0.0       0.0               0.0                        0.0         0.0                 0.0  The results of this work demonstrate that the ...  10.1016.j.jallcom.2015.11.091,\n          formula  yield_strength  grain_size  experimental_density  hardness  test_temperature  ultimate_tensile_strength  elongation  elongation_plastic                                           evidence                         doi\n 0        CrNbVMo          2743.0        2.00                  8.00       0.0              25.0                        0.0         0.0                 0.0  Here, CrNbVMo alloy showed a yield strength of...  10.1016.j.jmst.2020.07.012\n 1        CrNbVMo          1513.0        2.00                  8.00       0.0            1000.0                        0.0         0.0                 0.0  Surprisingly, the yield strength of the CrNbVM...  10.1016.j.jmst.2020.07.012\n 2           Al 0          1513.0        2.95                  8.03       0.0            1000.0                        0.0         0.0                 0.0  The Al 0 alloy showed an ultra-high yield stre...  10.1016.j.jmst.2020.07.012\n 3         Al 0.5             0.0        2.95                  7.53       0.0               0.0                        0.0         0.0                 0.0  The densities of the sintered alloys were 8.03...  10.1016.j.jmst.2020.07.012\n 4         Al 1.0             0.0        2.95                  7.05       0.0               0.0                        0.0         0.0                 0.0  The densities of the sintered alloys were 8.03...  10.1016.j.jmst.2020.07.012\n 5     AlxCrNbVMo             0.0        0.00                  0.00       0.0               0.0                        0.0         0.0                 0.0  To our knowledge, the AlxCrNbVMo RHEAs have th...  10.1016.j.jmst.2020.07.012\n 6     Al0CrNbVMo          1513.0        2.07                  8.03     333.0            1000.0                        0.0         0.0                 0.0  Conclusions Lightweight RHEAs of AlxCrNbVMo (x...  10.1016.j.jmst.2020.07.012\n 7   Al0.5CrNbVMo             0.0        2.09                  7.53     204.0               0.0                        0.0         0.0                 0.0  Table 2 2 Measured Al0 8.03 (100.2 %) 2.07 ± 1...  10.1016.j.jmst.2020.07.012\n 8   Al1.0CrNbVMo             0.0        2.95                  7.05     169.0               0.0                        0.0         0.0                 0.0  Table 2 2 Measured Al0 8.03 (100.2 %) 2.07 ± 1...  10.1016.j.jmst.2020.07.012\n 9        CrNbVMo          2743.0        0.00                  8.00       0.0               0.0                        0.0         0.0                 0.0  CrNbVMo 8.0 77.5 0.953 1642 BCC This work 564 ...  10.1016.j.jmst.2020.07.012\n 10  Al0.5CrNbVMo          2497.0        0.00                  7.50       0.0               0.0                        0.0         0.0                 0.0  Al0.5CrNbVMo 7.5 74.3 1.006 1661 BCC This work...  10.1016.j.jmst.2020.07.012\n 11  Al1.0CrNbVMo          2326.0        0.00                  7.10       0.0               0.0                        0.0         0.0                 0.0  Al1.0CrNbVMo 7.1 71.3 1.026 1625 BCC This work...  10.1016.j.jmst.2020.07.012,\n                        formula  yield_strength  grain_size  experimental_density  hardness  test_temperature  ultimate_tensile_strength  elongation  elongation_plastic                                           evidence                        doi\n 0       Ti 38 V 15 Nb 23 Hf 24           774.0         0.0                   0.0       0.0               0.0                      792.0        20.6                 0.0  As seen in Fig.  2a , even without any microst...  10.1038.s41563-020-0750-4\n 1  Ti 38 V 15 Nb 23 Hf 24 RHEA           200.0         0.0                   0.0       0.0               0.0                        0.0         0.0                 0.0  An improved yield strength of ~200 MPa along w...  10.1038.s41563-020-0750-4\n 2       Ti 38 V 15 Nb 23 Hf 24             0.0         0.0                   0.0       0.0               0.0                        0.0         0.0                 0.0  In conclusion, we have successfully inherited ...  10.1038.s41563-020-0750-4\n 3       Ti 38 V 15 Nb 23 Hf 24           200.0         0.0                   0.0       0.0               0.0                        0.0         0.0                 0.0  An improved yield strength of ~200 MPa along w...  10.1038.s41563-020-0750-4,\n       formula  yield_strength  grain_size  experimental_density  hardness  test_temperature  ultimate_tensile_strength  elongation  elongation_plastic                                           evidence                           doi\n 0  MoNbHfZrTi          1719.0         0.0                   0.0       0.0             293.0                        0.0         0.0                 0.0  At room temperature, the compressive yield str...  10.1016.j.matdes.2015.05.019\n 1  MoNbHfZrTi          1719.0         0.0                   0.0       0.0             293.0                        0.0         0.0                 0.0  At room temperature, the alloy has high compre...  10.1016.j.matdes.2015.05.019\n 2  MoNbHfZrTi           187.0         0.0                   0.0       0.0            1473.0                        0.0         0.0                 0.0  At elevated temperatures, this alloy still has...  10.1016.j.matdes.2015.05.019]"
     },
     "execution_count": 65,
     "metadata": {},
     "output_type": "execute_result"
    }
   ],
   "source": [
    "extraction_dfs"
   ],
   "metadata": {
    "collapsed": false,
    "ExecuteTime": {
     "end_time": "2024-05-20T19:56:06.521367900Z",
     "start_time": "2024-05-20T19:56:05.894752100Z"
    }
   }
  },
  {
   "cell_type": "code",
   "execution_count": 66,
   "outputs": [],
   "source": [
    "colname_map = {'FORMULA':'formula',\n",
    "               'PROPERTY: grain size ($\\mu$m)':'grain_size',\n",
    "               'PROPERTY: YS (MPa)':'yield_strength',\n",
    "               'PROPERTY: Exp. Density (g/cm$^3$)':'experimental_density',\n",
    "               'PROPERTY: HV':'hardness',\n",
    "               'PROPERTY: Test temperature ($^\\circ$C)':'test_temperature',\n",
    "               'PROPERTY: UTS (MPa)':'ultimate_tensile_strength',\n",
    "               'PROPERTY: Elongation (%)':'elongation',\n",
    "               'PROPERTY: Elongation plastic (%)':'elongation_plastic',\n",
    "               'REFERENCE: doi':'doi'\n",
    "               }"
   ],
   "metadata": {
    "collapsed": false,
    "ExecuteTime": {
     "end_time": "2024-05-20T19:56:12.530350600Z",
     "start_time": "2024-05-20T19:56:12.482842700Z"
    }
   }
  },
  {
   "cell_type": "code",
   "source": [
    "extraction_df = pd.concat(extraction_dfs, axis=0).reset_index(drop=True)\n",
    "# extraction_df.drop(columns=['ultimate tensible strength'], inplace=True)\n",
    "print(extraction_df.columns)"
   ],
   "metadata": {
    "colab": {
     "base_uri": "https://localhost:8080/",
     "height": 528
    },
    "id": "f452o2oHomFZ",
    "executionInfo": {
     "status": "ok",
     "timestamp": 1707858743640,
     "user_tz": 300,
     "elapsed": 249,
     "user": {
      "displayName": "Satanu Ghosh",
      "userId": "07683061709303200546"
     }
    },
    "outputId": "bafa53a1-68c8-4481-cdc1-59683c8348af",
    "ExecuteTime": {
     "end_time": "2024-05-20T19:56:13.468242600Z",
     "start_time": "2024-05-20T19:56:13.349718300Z"
    }
   },
   "execution_count": 67,
   "outputs": [
    {
     "name": "stdout",
     "output_type": "stream",
     "text": [
      "Index(['formula', 'yield_strength', 'grain_size', 'experimental_density', 'hardness', 'test_temperature', 'ultimate_tensile_strength', 'elongation', 'elongation_plastic', 'evidence', 'doi'], dtype='object')\n"
     ]
    }
   ]
  },
  {
   "cell_type": "code",
   "execution_count": 69,
   "outputs": [
    {
     "data": {
      "text/plain": "(947, 10)"
     },
     "metadata": {},
     "output_type": "display_data"
    },
    {
     "data": {
      "text/plain": "                                formula  yield_strength  grain_size  experimental_density  hardness  test_temperature  ultimate_tensile_strength  elongation  elongation_plastic                           doi\n0    Al 20 Cr 10 Nb 15 Ti 20 V 25 Zr 10          1535.0         0.0                  5.55       0.0              22.0                        0.0         0.6                 0.0  10.1016.j.matlet.2020.127372\n1    Al 20 Cr 10 Nb 15 Ti 20 V 25 Zr 10          1000.0         0.0                  5.55       0.0             800.0                        0.0         0.0                 0.0  10.1016.j.matlet.2020.127372\n2               Al20Cr10Nb15Ti20V25Zr10             0.0         0.0                  0.00       0.0               0.0                        0.0         0.0                 0.0  10.1016.j.matlet.2020.127372\n3          Al 10 Nb 15 Ta 5 Ti 30 Zr 40          1050.0         0.0                  0.00       0.0              23.0                        0.0         0.0                 0.0    10.1016.j.mtla.2020.100627\n4          Al 10 Nb 15 Ta 5 Ti 30 Zr 40           852.0         0.0                  0.00       0.0             400.0                        0.0         0.0                 0.0    10.1016.j.mtla.2020.100627\n..                                  ...             ...         ...                   ...       ...               ...                        ...         ...                 ...                           ...\n942              Ti 38 V 15 Nb 23 Hf 24             0.0         0.0                  0.00       0.0               0.0                        0.0         0.0                 0.0     10.1038.s41563-020-0750-4\n943              Ti 38 V 15 Nb 23 Hf 24           200.0         0.0                  0.00       0.0               0.0                        0.0         0.0                 0.0     10.1038.s41563-020-0750-4\n944                          MoNbHfZrTi          1719.0         0.0                  0.00       0.0             293.0                        0.0         0.0                 0.0  10.1016.j.matdes.2015.05.019\n945                          MoNbHfZrTi          1719.0         0.0                  0.00       0.0             293.0                        0.0         0.0                 0.0  10.1016.j.matdes.2015.05.019\n946                          MoNbHfZrTi           187.0         0.0                  0.00       0.0            1473.0                        0.0         0.0                 0.0  10.1016.j.matdes.2015.05.019\n\n[947 rows x 10 columns]",
      "text/html": "<div>\n<style scoped>\n    .dataframe tbody tr th:only-of-type {\n        vertical-align: middle;\n    }\n\n    .dataframe tbody tr th {\n        vertical-align: top;\n    }\n\n    .dataframe thead th {\n        text-align: right;\n    }\n</style>\n<table border=\"1\" class=\"dataframe\">\n  <thead>\n    <tr style=\"text-align: right;\">\n      <th></th>\n      <th>formula</th>\n      <th>yield_strength</th>\n      <th>grain_size</th>\n      <th>experimental_density</th>\n      <th>hardness</th>\n      <th>test_temperature</th>\n      <th>ultimate_tensile_strength</th>\n      <th>elongation</th>\n      <th>elongation_plastic</th>\n      <th>doi</th>\n    </tr>\n  </thead>\n  <tbody>\n    <tr>\n      <th>0</th>\n      <td>Al 20 Cr 10 Nb 15 Ti 20 V 25 Zr 10</td>\n      <td>1535.0</td>\n      <td>0.0</td>\n      <td>5.55</td>\n      <td>0.0</td>\n      <td>22.0</td>\n      <td>0.0</td>\n      <td>0.6</td>\n      <td>0.0</td>\n      <td>10.1016.j.matlet.2020.127372</td>\n    </tr>\n    <tr>\n      <th>1</th>\n      <td>Al 20 Cr 10 Nb 15 Ti 20 V 25 Zr 10</td>\n      <td>1000.0</td>\n      <td>0.0</td>\n      <td>5.55</td>\n      <td>0.0</td>\n      <td>800.0</td>\n      <td>0.0</td>\n      <td>0.0</td>\n      <td>0.0</td>\n      <td>10.1016.j.matlet.2020.127372</td>\n    </tr>\n    <tr>\n      <th>2</th>\n      <td>Al20Cr10Nb15Ti20V25Zr10</td>\n      <td>0.0</td>\n      <td>0.0</td>\n      <td>0.00</td>\n      <td>0.0</td>\n      <td>0.0</td>\n      <td>0.0</td>\n      <td>0.0</td>\n      <td>0.0</td>\n      <td>10.1016.j.matlet.2020.127372</td>\n    </tr>\n    <tr>\n      <th>3</th>\n      <td>Al 10 Nb 15 Ta 5 Ti 30 Zr 40</td>\n      <td>1050.0</td>\n      <td>0.0</td>\n      <td>0.00</td>\n      <td>0.0</td>\n      <td>23.0</td>\n      <td>0.0</td>\n      <td>0.0</td>\n      <td>0.0</td>\n      <td>10.1016.j.mtla.2020.100627</td>\n    </tr>\n    <tr>\n      <th>4</th>\n      <td>Al 10 Nb 15 Ta 5 Ti 30 Zr 40</td>\n      <td>852.0</td>\n      <td>0.0</td>\n      <td>0.00</td>\n      <td>0.0</td>\n      <td>400.0</td>\n      <td>0.0</td>\n      <td>0.0</td>\n      <td>0.0</td>\n      <td>10.1016.j.mtla.2020.100627</td>\n    </tr>\n    <tr>\n      <th>...</th>\n      <td>...</td>\n      <td>...</td>\n      <td>...</td>\n      <td>...</td>\n      <td>...</td>\n      <td>...</td>\n      <td>...</td>\n      <td>...</td>\n      <td>...</td>\n      <td>...</td>\n    </tr>\n    <tr>\n      <th>942</th>\n      <td>Ti 38 V 15 Nb 23 Hf 24</td>\n      <td>0.0</td>\n      <td>0.0</td>\n      <td>0.00</td>\n      <td>0.0</td>\n      <td>0.0</td>\n      <td>0.0</td>\n      <td>0.0</td>\n      <td>0.0</td>\n      <td>10.1038.s41563-020-0750-4</td>\n    </tr>\n    <tr>\n      <th>943</th>\n      <td>Ti 38 V 15 Nb 23 Hf 24</td>\n      <td>200.0</td>\n      <td>0.0</td>\n      <td>0.00</td>\n      <td>0.0</td>\n      <td>0.0</td>\n      <td>0.0</td>\n      <td>0.0</td>\n      <td>0.0</td>\n      <td>10.1038.s41563-020-0750-4</td>\n    </tr>\n    <tr>\n      <th>944</th>\n      <td>MoNbHfZrTi</td>\n      <td>1719.0</td>\n      <td>0.0</td>\n      <td>0.00</td>\n      <td>0.0</td>\n      <td>293.0</td>\n      <td>0.0</td>\n      <td>0.0</td>\n      <td>0.0</td>\n      <td>10.1016.j.matdes.2015.05.019</td>\n    </tr>\n    <tr>\n      <th>945</th>\n      <td>MoNbHfZrTi</td>\n      <td>1719.0</td>\n      <td>0.0</td>\n      <td>0.00</td>\n      <td>0.0</td>\n      <td>293.0</td>\n      <td>0.0</td>\n      <td>0.0</td>\n      <td>0.0</td>\n      <td>10.1016.j.matdes.2015.05.019</td>\n    </tr>\n    <tr>\n      <th>946</th>\n      <td>MoNbHfZrTi</td>\n      <td>187.0</td>\n      <td>0.0</td>\n      <td>0.00</td>\n      <td>0.0</td>\n      <td>1473.0</td>\n      <td>0.0</td>\n      <td>0.0</td>\n      <td>0.0</td>\n      <td>10.1016.j.matdes.2015.05.019</td>\n    </tr>\n  </tbody>\n</table>\n<p>947 rows × 10 columns</p>\n</div>"
     },
     "metadata": {},
     "output_type": "display_data"
    }
   ],
   "source": [
    "display(extraction_df.shape)\n",
    "columns_to_drop = [col for col in extraction_df.columns if col not in colname_map.values()]\n",
    "extraction_df.drop(columns=columns_to_drop, inplace=True)\n",
    "display(extraction_df)"
   ],
   "metadata": {
    "collapsed": false,
    "ExecuteTime": {
     "end_time": "2024-05-20T19:56:23.408359600Z",
     "start_time": "2024-05-20T19:56:23.339841500Z"
    }
   }
  },
  {
   "cell_type": "code",
   "source": [
    "import numpy as np\n",
    "extraction_df.replace(to_replace='No information', value=np.nan, inplace=True)\n",
    "display(extraction_df.head(3))"
   ],
   "metadata": {
    "colab": {
     "base_uri": "https://localhost:8080/",
     "height": 161
    },
    "id": "btG4iHdHeD4a",
    "executionInfo": {
     "status": "ok",
     "timestamp": 1707858748396,
     "user_tz": 300,
     "elapsed": 202,
     "user": {
      "displayName": "Satanu Ghosh",
      "userId": "07683061709303200546"
     }
    },
    "outputId": "afafce8b-ba5f-48c9-c281-3cb55d6e939c",
    "ExecuteTime": {
     "end_time": "2024-05-20T19:56:24.365273200Z",
     "start_time": "2024-05-20T19:56:24.254698Z"
    }
   },
   "execution_count": 70,
   "outputs": [
    {
     "data": {
      "text/plain": "                              formula  yield_strength  grain_size  experimental_density  hardness  test_temperature  ultimate_tensile_strength  elongation  elongation_plastic                           doi\n0  Al 20 Cr 10 Nb 15 Ti 20 V 25 Zr 10          1535.0         0.0                  5.55       0.0              22.0                        0.0         0.6                 0.0  10.1016.j.matlet.2020.127372\n1  Al 20 Cr 10 Nb 15 Ti 20 V 25 Zr 10          1000.0         0.0                  5.55       0.0             800.0                        0.0         0.0                 0.0  10.1016.j.matlet.2020.127372\n2             Al20Cr10Nb15Ti20V25Zr10             0.0         0.0                  0.00       0.0               0.0                        0.0         0.0                 0.0  10.1016.j.matlet.2020.127372",
      "text/html": "<div>\n<style scoped>\n    .dataframe tbody tr th:only-of-type {\n        vertical-align: middle;\n    }\n\n    .dataframe tbody tr th {\n        vertical-align: top;\n    }\n\n    .dataframe thead th {\n        text-align: right;\n    }\n</style>\n<table border=\"1\" class=\"dataframe\">\n  <thead>\n    <tr style=\"text-align: right;\">\n      <th></th>\n      <th>formula</th>\n      <th>yield_strength</th>\n      <th>grain_size</th>\n      <th>experimental_density</th>\n      <th>hardness</th>\n      <th>test_temperature</th>\n      <th>ultimate_tensile_strength</th>\n      <th>elongation</th>\n      <th>elongation_plastic</th>\n      <th>doi</th>\n    </tr>\n  </thead>\n  <tbody>\n    <tr>\n      <th>0</th>\n      <td>Al 20 Cr 10 Nb 15 Ti 20 V 25 Zr 10</td>\n      <td>1535.0</td>\n      <td>0.0</td>\n      <td>5.55</td>\n      <td>0.0</td>\n      <td>22.0</td>\n      <td>0.0</td>\n      <td>0.6</td>\n      <td>0.0</td>\n      <td>10.1016.j.matlet.2020.127372</td>\n    </tr>\n    <tr>\n      <th>1</th>\n      <td>Al 20 Cr 10 Nb 15 Ti 20 V 25 Zr 10</td>\n      <td>1000.0</td>\n      <td>0.0</td>\n      <td>5.55</td>\n      <td>0.0</td>\n      <td>800.0</td>\n      <td>0.0</td>\n      <td>0.0</td>\n      <td>0.0</td>\n      <td>10.1016.j.matlet.2020.127372</td>\n    </tr>\n    <tr>\n      <th>2</th>\n      <td>Al20Cr10Nb15Ti20V25Zr10</td>\n      <td>0.0</td>\n      <td>0.0</td>\n      <td>0.00</td>\n      <td>0.0</td>\n      <td>0.0</td>\n      <td>0.0</td>\n      <td>0.0</td>\n      <td>0.0</td>\n      <td>10.1016.j.matlet.2020.127372</td>\n    </tr>\n  </tbody>\n</table>\n</div>"
     },
     "metadata": {},
     "output_type": "display_data"
    }
   ]
  },
  {
   "cell_type": "markdown",
   "source": [
    "# Aligning extracted and ground-truth papers"
   ],
   "metadata": {
    "id": "z99yTUEeo5Dt"
   }
  },
  {
   "cell_type": "code",
   "source": [
    "paper_df.iloc[0]"
   ],
   "metadata": {
    "colab": {
     "base_uri": "https://localhost:8080/"
    },
    "id": "gCG3loUPqJeZ",
    "executionInfo": {
     "status": "ok",
     "timestamp": 1707858748788,
     "user_tz": 300,
     "elapsed": 281,
     "user": {
      "displayName": "Satanu Ghosh",
      "userId": "07683061709303200546"
     }
    },
    "outputId": "012873f0-370c-428f-e747-bfb7b5e9215e",
    "ExecuteTime": {
     "end_time": "2024-05-20T19:56:25.838879Z",
     "start_time": "2024-05-20T19:56:25.751348100Z"
    }
   },
   "execution_count": 71,
   "outputs": [
    {
     "data": {
      "text/plain": "IDENTIFIER: Reference ID                                                                  7\nFORMULA                                   Al0.025 Cr0.2 Mo0.2 Nb0.2 Ta0.025 Ti0.2 V0.05 ...\nPROPERTY: Microstructure                                                          BCC+Laves\nPROPERTY: Processing method                                                            CAST\nPROPERTY: BCC/FCC/other                                                               other\nPROPERTY: grain size ($\\mu$m)                                                           NaN\nPROPERTY: Exp. Density (g/cm$^3$)                                                      7.44\nPROPERTY: Computed Density (g/cm$^3$)                                                   7.5\nPROPERTY: HV                                                                            NaN\nPROPERTY: Type of test                                                                    C\nPROPERTY: Test temperature ($^\\circ$C)                                               1000.0\nPROPERTY: YS (MPa)                                                                    669.0\nPROPERTY: UTS (MPa)                                                                     NaN\nPROPERTY: Elongation (%)                                                                NaN\nPROPERTY: Elongation plastic (%)                                                        NaN\nPROPERTY: Exp. Young modulus (GPa)                                                      NaN\nPROPERTY: Computed Young modulus (GPa)                                                185.0\nPROPERTY: O content (wppm)                                                              NaN\nPROPERTY: N content (wppm)                                                              NaN\nPROPERTY: C content (wppm)                                                              NaN\nREFERENCE: doi                                                10.1016/j.jallcom.2020.155700\nREFERENCE: year                                                                      2020.0\nREFERENCE: title                          Combinatorial development of the low-density h...\nprocessed_doi                                                 10.1016.j.jallcom.2020.155700\nName: 0, dtype: object"
     },
     "execution_count": 71,
     "metadata": {},
     "output_type": "execute_result"
    }
   ]
  },
  {
   "cell_type": "code",
   "source": [
    "extraction_df.iloc[0]"
   ],
   "metadata": {
    "colab": {
     "base_uri": "https://localhost:8080/"
    },
    "id": "nfaXtM6AqQh-",
    "executionInfo": {
     "status": "ok",
     "timestamp": 1707858748788,
     "user_tz": 300,
     "elapsed": 91,
     "user": {
      "displayName": "Satanu Ghosh",
      "userId": "07683061709303200546"
     }
    },
    "outputId": "3e7fd92f-4797-41c0-c40c-9dec7eb9b952",
    "ExecuteTime": {
     "end_time": "2024-05-20T19:56:26.427995500Z",
     "start_time": "2024-05-20T19:56:26.189436200Z"
    }
   },
   "execution_count": 72,
   "outputs": [
    {
     "data": {
      "text/plain": "formula                      Al 20 Cr 10 Nb 15 Ti 20 V 25 Zr 10\nyield_strength                                           1535.0\ngrain_size                                                  0.0\nexperimental_density                                       5.55\nhardness                                                    0.0\ntest_temperature                                           22.0\nultimate_tensile_strength                                   0.0\nelongation                                                  0.6\nelongation_plastic                                          0.0\ndoi                                10.1016.j.matlet.2020.127372\nName: 0, dtype: object"
     },
     "execution_count": 72,
     "metadata": {},
     "output_type": "execute_result"
    }
   ]
  },
  {
   "cell_type": "markdown",
   "source": [
    "## Hardcoded column name mapping"
   ],
   "metadata": {
    "id": "-0JSi9zcPwzl"
   }
  },
  {
   "cell_type": "code",
   "source": [
    "for col in extraction_df.columns:\n",
    "  assert col in colname_map.values(), print(col)\n",
    "\n",
    "for col in colname_map.values():\n",
    "  assert col in extraction_df.columns\n",
    "\n",
    "for col in colname_map.keys():\n",
    "  assert col in paper_df.columns, print(col)\n",
    "\n",
    "inverted_colname_map = {value:key for key,value in colname_map.items()}"
   ],
   "metadata": {
    "id": "mQmZzlRVqUDv",
    "ExecuteTime": {
     "end_time": "2024-05-20T19:56:27.004300Z",
     "start_time": "2024-05-20T19:56:26.806516700Z"
    }
   },
   "execution_count": 73,
   "outputs": []
  },
  {
   "cell_type": "code",
   "source": [
    "extraction_df.columns"
   ],
   "metadata": {
    "colab": {
     "base_uri": "https://localhost:8080/"
    },
    "id": "iP0us9lbxMAM",
    "executionInfo": {
     "status": "ok",
     "timestamp": 1707858748789,
     "user_tz": 300,
     "elapsed": 88,
     "user": {
      "displayName": "Satanu Ghosh",
      "userId": "07683061709303200546"
     }
    },
    "outputId": "97fca2c6-3982-463f-9124-dba32a3a1c41",
    "ExecuteTime": {
     "end_time": "2024-05-20T19:56:27.935503700Z",
     "start_time": "2024-05-20T19:56:27.846979Z"
    }
   },
   "execution_count": 74,
   "outputs": [
    {
     "data": {
      "text/plain": "Index(['formula', 'yield_strength', 'grain_size', 'experimental_density', 'hardness', 'test_temperature', 'ultimate_tensile_strength', 'elongation', 'elongation_plastic', 'doi'], dtype='object')"
     },
     "execution_count": 74,
     "metadata": {},
     "output_type": "execute_result"
    }
   ]
  },
  {
   "cell_type": "markdown",
   "source": [
    "## Matching up DOIs"
   ],
   "metadata": {
    "id": "aJc4xEkifo4t"
   }
  },
  {
   "cell_type": "code",
   "source": [
    "paper_df['REFERENCE: doi']"
   ],
   "metadata": {
    "colab": {
     "base_uri": "https://localhost:8080/"
    },
    "id": "ScLE_sRir5yZ",
    "executionInfo": {
     "status": "ok",
     "timestamp": 1707858748789,
     "user_tz": 300,
     "elapsed": 86,
     "user": {
      "displayName": "Satanu Ghosh",
      "userId": "07683061709303200546"
     }
    },
    "outputId": "e1094462-d760-4841-d80a-0b92a5e39d18",
    "ExecuteTime": {
     "end_time": "2024-05-20T19:56:29.108862700Z",
     "start_time": "2024-05-20T19:56:29.026352200Z"
    }
   },
   "execution_count": 75,
   "outputs": [
    {
     "data": {
      "text/plain": "0      10.1016/j.jallcom.2020.155700\n1      10.1016/j.jallcom.2020.155700\n2      10.1016/j.jallcom.2020.155700\n3      10.1016/j.jallcom.2020.155700\n4         10.1016/j.msea.2020.139275\n                   ...              \n966       10.1016/j.msea.2021.141168\n967       10.1016/j.msea.2021.141168\n968                10.3390/e21020114\n969       10.1016/j.msea.2003.12.011\n970       10.1016/j.msea.2003.12.011\nName: REFERENCE: doi, Length: 971, dtype: object"
     },
     "execution_count": 75,
     "metadata": {},
     "output_type": "execute_result"
    }
   ]
  },
  {
   "cell_type": "code",
   "source": [
    "extraction_df['doi']"
   ],
   "metadata": {
    "colab": {
     "base_uri": "https://localhost:8080/"
    },
    "id": "xrrRe2E7tCXj",
    "executionInfo": {
     "status": "ok",
     "timestamp": 1707858748789,
     "user_tz": 300,
     "elapsed": 84,
     "user": {
      "displayName": "Satanu Ghosh",
      "userId": "07683061709303200546"
     }
    },
    "outputId": "0a533490-a2df-4993-8ff3-6f0743a4e6fc",
    "ExecuteTime": {
     "end_time": "2024-05-20T19:56:30.182633100Z",
     "start_time": "2024-05-20T19:56:30.096116700Z"
    }
   },
   "execution_count": 76,
   "outputs": [
    {
     "data": {
      "text/plain": "0      10.1016.j.matlet.2020.127372\n1      10.1016.j.matlet.2020.127372\n2      10.1016.j.matlet.2020.127372\n3        10.1016.j.mtla.2020.100627\n4        10.1016.j.mtla.2020.100627\n                   ...             \n942       10.1038.s41563-020-0750-4\n943       10.1038.s41563-020-0750-4\n944    10.1016.j.matdes.2015.05.019\n945    10.1016.j.matdes.2015.05.019\n946    10.1016.j.matdes.2015.05.019\nName: doi, Length: 947, dtype: object"
     },
     "execution_count": 76,
     "metadata": {},
     "output_type": "execute_result"
    }
   ]
  },
  {
   "cell_type": "code",
   "source": [
    "#Should be 20 or so uniques, unless there were papers from which satanu couldn't extract anything\n",
    "extraction_dois = extraction_df['doi'].unique()\n",
    "len(extraction_dois)"
   ],
   "metadata": {
    "colab": {
     "base_uri": "https://localhost:8080/"
    },
    "id": "wbvPLfcMtMgP",
    "executionInfo": {
     "status": "ok",
     "timestamp": 1707858748790,
     "user_tz": 300,
     "elapsed": 82,
     "user": {
      "displayName": "Satanu Ghosh",
      "userId": "07683061709303200546"
     }
    },
    "outputId": "568646eb-3d73-4ff7-a67f-17836db5729c",
    "ExecuteTime": {
     "end_time": "2024-05-20T19:56:31.126938400Z",
     "start_time": "2024-05-20T19:56:31.047416900Z"
    }
   },
   "execution_count": 77,
   "outputs": [
    {
     "data": {
      "text/plain": "116"
     },
     "execution_count": 77,
     "metadata": {},
     "output_type": "execute_result"
    }
   ]
  },
  {
   "cell_type": "code",
   "source": [
    "# Two possible ways to find the set of ground-truth records:\n",
    "# 1: match on DOIs from the extraction dataset\n",
    "# 2: Grab the top 20 alphabetical paper titles, which is supposedly what Satanu did\n",
    "\n",
    "# Alphabetical approach not working because the extracted records appear to include the top 21st, 22nd, and 23rd titles,\n",
    "# but are missing 4 titles that are above them (see below for analysis)\n",
    "\n",
    "# DOI matching mostly works, but it is unable to find the 20th paper attempted by Satanu, which means that the performance\n",
    "# will be slightly overestimated, because it will not account for the paper for which, presumably, Satanu's extraction\n",
    "# wasn't able to find anything\n",
    "\n",
    "paper_df['processed_doi'] =  paper_df['REFERENCE: doi'].apply(lambda doi:doi.replace('/','.'))\n",
    "\n",
    "# filtered_paper_df = paper_df[paper_df['processed_doi'].isin(extraction_dois)]\n",
    "\n",
    "# # So this isn't ideal. Should be 20. Need to get list of 20 dois from Satanu, but will continue onward for now.\n",
    "# len(filtered_paper_df['REFERENCE: doi'].unique())\n",
    "first_20_papers = sorted(paper_df['REFERENCE: title'][paper_df['REFERENCE: title'].notnull()].unique())[0:20]\n",
    "alphabetical_filtered_paper_df = paper_df[paper_df['REFERENCE: title'].isin(first_20_papers)]\n",
    "\n",
    "doi_match_filtered_paper_df = paper_df[paper_df['processed_doi'].isin(extraction_dois)]\n",
    "\n",
    "filtered_paper_df =doi_match_filtered_paper_df #Using the DOI matching for now til I resolve things with Satanu\n",
    "\n",
    "print(filtered_paper_df.shape)\n",
    "print('Filtered titles:',len(filtered_paper_df['REFERENCE: title'].unique())) # should be 20\n",
    "print('Filtered DOIs:',len(filtered_paper_df['REFERENCE: doi'].unique())) # should be 20\n",
    "\n",
    "\n",
    "filtered_paper_dois = filtered_paper_df['REFERENCE: doi'].apply(lambda doi:doi.replace('/','.')).unique()\n",
    "\n",
    "overlap = set(filtered_paper_dois).intersection(set(extraction_dois))\n",
    "print('Overlapping DOIs:',len(overlap)) #should be size of smaller set\n",
    "assert len(overlap) == min(len(filtered_paper_dois), len(extraction_dois))"
   ],
   "metadata": {
    "colab": {
     "base_uri": "https://localhost:8080/"
    },
    "id": "4PbhJjVEteFI",
    "executionInfo": {
     "status": "ok",
     "timestamp": 1707858748790,
     "user_tz": 300,
     "elapsed": 79,
     "user": {
      "displayName": "Satanu Ghosh",
      "userId": "07683061709303200546"
     }
    },
    "outputId": "5f4a431b-eb42-4ad1-9f3a-76fdc1f87538",
    "ExecuteTime": {
     "end_time": "2024-05-20T19:56:32.241730400Z",
     "start_time": "2024-05-20T19:56:32.143210600Z"
    }
   },
   "execution_count": 78,
   "outputs": [
    {
     "name": "stdout",
     "output_type": "stream",
     "text": [
      "(818, 24)\n",
      "Filtered titles: 115\n",
      "Filtered DOIs: 115\n",
      "Overlapping DOIs: 115\n"
     ]
    }
   ]
  },
  {
   "cell_type": "code",
   "source": [
    "# Analyze the non-overlap between the alphabetical ground truth papers and extracted papers\n",
    "processed_filtered_dois = set(alphabetical_filtered_paper_df['processed_doi'].unique())\n",
    "\n",
    "print('Extracted but not included in the alphabetical filtered paper DF:')\n",
    "extracted_not_filtered_dois = (set(extraction_dois).difference(processed_filtered_dois))\n",
    "print(extracted_not_filtered_dois)\n",
    "display(paper_df[paper_df['processed_doi'].isin(extracted_not_filtered_dois)]['REFERENCE: title'].unique())\n",
    "# So Satanu's extracted results includes some papers which shouldn't be in the alphabetical top 20\n",
    "\n",
    "\n",
    "print('\\nPresent in alphabetical filtered paper df but not extracted')\n",
    "filtered_not_extracted = (set(processed_filtered_dois).difference(extraction_dois))\n",
    "print(filtered_not_extracted)\n",
    "display(paper_df[paper_df['processed_doi'].isin(filtered_not_extracted)]['REFERENCE: title'].unique())\n",
    "# And it excludes some papers which should be in the top 20, alphabetically\n"
   ],
   "metadata": {
    "colab": {
     "base_uri": "https://localhost:8080/",
     "height": 1000
    },
    "id": "C8KNxNjW2Iyb",
    "executionInfo": {
     "status": "ok",
     "timestamp": 1707858748922,
     "user_tz": 300,
     "elapsed": 208,
     "user": {
      "displayName": "Satanu Ghosh",
      "userId": "07683061709303200546"
     }
    },
    "outputId": "64d07419-6c53-48ad-ac8a-8e2ac150d658",
    "ExecuteTime": {
     "end_time": "2024-05-20T19:56:36.847661900Z",
     "start_time": "2024-05-20T19:56:36.742118800Z"
    }
   },
   "execution_count": 79,
   "outputs": [
    {
     "name": "stdout",
     "output_type": "stream",
     "text": [
      "Extracted but not included in the alphabetical filtered paper DF:\n",
      "{'10.1016.j.jallcom.2021.159740', '10.1016.j.intermet.2015.09.011', '10.3390.e18050189', '10.1016.j.jallcom.2020.154301', '10.1016.j.scriptamat.2021.114225', '10.1016.j.mtla.2020.100627', '10.1016.j.jallcom.2015.11.091', '10.1016.j.msea.2003.12.011', '10.1016.j.matchemphys.2017.06.054', '10.1016.j.matlet.2016.03.133', '10.1007.s11661-018-4646-8', '10.1016.j.intermet.2015.03.013', '10.1016.j.jallcom.2021.161187', '10.1007.s40195-019-00935-x', '10.1016.j.scriptamat.2021.113919', '10.1016.j.scriptamat.2016.10.028', '10.1016.j.scriptamat.2020.09.027', '10.1016.j.msea.2015.12.017', '10.1016.j.jallcom.2021.159190', '10.1007.s42864-021-00111-8', '10.1016.j.matchar.2021.111287', '10.1016.j.jmst.2020.07.012', '10.1016.j.msea.2021.140798', '10.1016.j.jallcom.2014.11.064', '10.1016.j.msea.2017.10.073', '10.1007.s10853-012-6260-2', '10.1016.j.actamat.2019.06.006', '10.1016.j.ijrmhm.2021.105664', '10.1016.j.ijrmhm.2019.02.009', '10.1016.j.actamat.2019.06.032', '10.2320.matertrans.MT-MK2019003]', '10.1016.j.matlet.2014.11.162', '10.1016.j.ijrmhm.2020.105370', '10.1038.s41467-019-10533-1', '10.1080.02670836.2018.1446267', '10.1007.s11837-019-03432-9', '10.1016.j.actamat.2016.01.018', '10.1016.j.matlet.2016.08.060', '10.3390.e21020114', '10.1007.s00339-019-2484-1', '10.1016.j.matdes.2015.06.072', '10.3390.e16020870', '10.3390.e21010015', '10.1016.j.intermet.2019.04.003', '10.1016.j.proeng.2012.03.043', '10.1016.j.msea.2021.140848', '10.1016.j.msec.2016.12.057', '10.1016.j.msea.2015.08.024', '10.1016.j.matlet.2021.129428', '10.1016.j.actamat.2017.09.062', '10.1179.1743284715Y.0000000032', '10.1016.j.jallcom.2016.10.014', '10.1016.j.matlet.2020.127372', '10.1016.j.vacuum.2020.109614', '10.1016.j.intermet.2020.106928', '10.1016.j.matlet.2016.03.092', '10.1016.j.jallcom.2015.07.209', '10.4028.www.scientific.net.MSF.849.76', '10.1016.j.intermet.2021.107323', '10.1016.j.matlet.2016.11.030', '10.1016.j.actamat.2017.09.035', '10.1016.j.intermet.2017.01.007', '10.1002.adem.202100765', '10.1016.j.jallcom.2019.05.322', '10.4028.www.scientific.net.MSF.898.638', '10.1016.j.jallcom.2018.10.230', '10.1016.j.matdes.2015.05.019', '10.1016.j.jallcom.2019.06.138', '10.1016.j.msea.2020.139275', '10.1016.j.actamat.2018.08.053', '10.1016.j.msea.2017.12.021', '10.1016.j.intermet.2015.10.011', '10.1016.j.matchar.2015.11.018', '10.1016.j.matdes.2018.06.003', '10.1016.j.jallcom.2018.11.111', '10.1038.s41563-020-0750-4', '10.1016.j.matlet.2019.03.075', '10.1016.j.jallcom.2020.158003', '10.1016.j.msea.2021.141908', '10.1016.j.jallcom.2016.11.188', '10.1016.j.jmst.2020.05.038', '10.1016.j.ijrmhm.2019.105132', '10.1016.j.intermet.2011.01.004', '10.1016.j.msea.2021.141234', '10.1002.adem.200300567', '10.1016.j.ijrmhm.2020.105467', '10.1016.j.ijrmhm.2014.07.009', '10.1088.1757-899X.1014.1.012041', '10.1016.j.msea.2016.07.102', '10.1016.j.msea.2012.12.018', '10.1016.j.scriptamat.2019.07.033', '10.1016.j.msea.2017.12.004', '10.1002.adma.201701678', '10.1007.s11837-020-04557-y', '10.1007.s11665-017-2799-z', '10.1007.s12598-019-01310-6', '10.3390.met11030514', '10.1016.j.msea.2021.141168', '10.1080.14786435.2015.1028506', '10.1016.j.intermet.2019.01.004'}\n"
     ]
    },
    {
     "data": {
      "text/plain": "array(['Effects of Al addition on the microstructures and properties of MoNbTaTiV refractory high entropy alloy',\n       'Lightweight Zr1.2V0.8NbTi Al  high-entropy alloys with high tensile strength and ductility',\n       'The mechanical and oxidation properties of novel B2-ordered Ti2ZrHf0.5VNb0.5Alx refractory high-entropy alloys',\n       'Microstructure and Mechanical Properties of VTaTiMoAlsubx/sub Refractory High Entropy Alloys',\n       'Microstructures and mechanical properties of Ta‚ÄìNb‚ÄìZr‚ÄìTi‚ÄìAl refractory high entropy alloys with varying Ta/Ti ratios',\n       'Effects of Al on Precipitation Behavior of Ti-Nb-Ta-Zr Refractory High Entropy Alloys',\n       'Effect of Al addition on mechanical properties and microstructure of refractory AlxHfNbTaTiZr alloys',\n       'High temperature strength of refractory complex concentrated alloys',\n       'Microstructures and Crackling Noise of AlxNbTiMoV High Entropy Alloys',\n       'Microstructure and Compressive Properties of NbTiVTaAlx High Entropy Alloys',\n       'Ductile Ti1.5ZrNbAl0.3 refractory high entropy alloy with high specific strength',\n       'Precipitation-strengthened refractory Al 0.5 CrNbTi 2 V 0.5 high entropy alloy',\n       'Temperature dependent deformation behavior and strengthening mechanisms in a low density refractory high entropy alloy Al10Nb15Ta5Ti30Zr40',\n       'Superior mechanical properties and strengthening mechanisms of lightweight AlxCrNbVMo refractory high-entropy alloys (x = 0, 0.5, 1.0) fabricated by the powder metallurgy process',\n       'Precipitation behavior and mechanical properties of a hot-worked TiNbTa0.5ZrAl0.5 refractory high entropy alloy',\n       'Precipitation strengthening in a hot-worked TiNbTa0.5ZrAl0.5 refractory high entropy alloy',\n       'Precipitation behaviour and mechanical properties of a novel Al0.5MoTaTi complex concentrated alloy',\n       'Phase decomposition behavior and its effects on mechanical properties of TiNbTa0.5ZrAl0.5 refractory high entropy alloy',\n       'Precipitation-hardened refractoryTi-Nb-Hf-Al-Ta high-entropy alloys',\n       'Structure and mechanical properties of an in situ refractory Al20Cr10Nb15Ti20V25Zr10 high entropy alloy composite',\n       'Design of a low density refractory high entropy alloy in non-equiatomic W‚ÄìMo‚ÄìCr‚ÄìTi‚ÄìAl system',\n       'Phase equilibria, mechanical properties and design of quaternary refractory high entropy alloys',\n       'Solid-solution strengthening in refractory high entropy alloys',\n       'Structure and mechanical properties of a light-weight AlNbTiV high entropy alloy',\n       'Microstructure and mechanical properties of a novel refractory AlNbTiZr high-entropy alloy',\n       'Effect of Al on structure and mechanical properties of AlxNbTiVZr (x‚Äâ=‚Äâ0, 0.5, 1, 1.5) high entropy alloys',\n       'Materials informatics for the screening of multi-principal elements and high-entropy alloys',\n       'Microstructure and mechanical properties of in-situ MC-carbide particulates-reinforced refractory high-entropy Mo0.5NbHf0.5ZrTi matrix alloy composite',\n       'Microstructure evolution, mechanical properties and strengthening mechanism of refractory high-entropy alloy matrix composites with addition of TaC',\n       'Microstructure and Mechanical Properties of a Refractory CoCrMoNbTi High-Entropy Alloy',\n       'Fabrication, microstructure and mechanical property of a novel Nb-rich refractory high-entropy alloy strengthened by in-situ formation of dispersoids',\n       'Microstructure, Mechanical Properties, and Corrosion Behavior of MoNbFeCrV, MoNbFeCrTi, and MoNbFeVTi High-Entropy Alloys',\n       'Microstructure and Mechanical Properties of a New Refractory Equiatomic CrHfNbTaTi High-Entropy Alloy',\n       'Experimental and theoretical study of Ti20Zr20Hf20Nb20X20 (X=V or Cr) refractory high-entropy alloys',\n       'Influence of alloying elements on mechanical and electronic properties of NbMoTaWX (X¬†=¬†Cr, Zr, V, Hf and Re) refractory high entropy alloys',\n       'Microstructure and Mechanical Properties of WMoNbCrTi HEAs Sintered from the Powders Milled for Different Durations',\n       'Mechanical properties of low-density, refractory multi-principal element alloys of the Cr‚ÄìNb‚ÄìTi‚ÄìV‚ÄìZr system',\n       'The effect of Ti on the sintering and mechanical properties of refractory high-entropy alloy TixWTaVCr fabricated via spark plasma¬†sintering for fusion plasma-facing materials',\n       'Microstructures and mechanical properties of CrNb, CrNbTi, and CrNbTaTi concentrated refractory alloys',\n       'Nanostructured High-Entropy Alloys with Multiple Principal Elements: Novel Alloy Design Concepts and Outcomes',\n       'Plastic deformation properties of Zr‚ÄìNb‚ÄìTi‚ÄìTa‚ÄìHf high-entropy alloys',\n       'Microstructure and mechanical properties of refractory high entropy (Mo 0.5 NbHf 0.5 ZrTi) BCC /M 5 Si 3 in-situ compound',\n       'Microstructures and mechanical properties of HfNbTaTiZrW and HfNbTaTiZrMoW refractory high-entropy alloys',\n       'Mechanical properties and thermally activated plasticity of the Ti30Zr25Hf15Nb20Ta10 high entropy alloy at temperatures 4.2‚Äì350 K',\n       'Enhanced mechanical properties of HfMoTaTiZr and HfMoNbTaTiZr refractory high-entropy alloys',\n       'Investigation of phase-transformation path in TiZrHf(VNbTa)x refractory high-entropy alloys and its effect on mechanical property',\n       'Solution strengthening of ductile refractory HfMoxNbTaTiZr high-entropy alloys',\n       'Microstructure and Mechanical Properties of a New Refractory HfNbSisub0.5/subTiVZr High Entropy Alloy',\n       'Effects of Mo, Nb, Ta, Ti, and Zr on Mechanical Properties of Equiatomic Hf-Mo-Nb-Ta-Ti-Zr Alloys',\n       'Effect of composing element on microstructure and mechanical properties in Mo‚ÄìNb‚ÄìHf‚ÄìZr‚ÄìTi multi-principle component alloys',\n       'Microstructure and mechanical properties of refractory MoNbHfZrTi high-entropy alloy',\n       'Strengthening mechanisms and microstructural evolution of ductile refractory medium-entropy alloy Hf20Nb10Ti35Zr35',\n       'Microstructure and elevated temperature properties of a refractory TaNbHfZrTi alloy',\n       'Effect of Cold Deformation and Annealing on the Microstructure and Tensile Properties of a HfNbTaTiZr Refractory High Entropy Alloy',\n       nan,\n       'Study of a bcc multi-principal element alloy: Tensile and simple shear properties and underlying deformation mechanisms',\n       'Microstructure and properties of a refractory high-entropy alloy after cold working',\n       'Temperature dependence of elastic moduli in a refractory HfNbTaTiZr high-entropy alloy',\n       'Mechanical behavior and microstructure of Ti20Hf20Zr20Ta20Nb20 high-entropy alloy loaded under quasi-static and dynamic compression conditions',\n       'Simultaneously increasing the strength and ductility of a refractory high-entropy alloy via grain refining',\n       'On the room temperature deformation mechanisms of a TiZrHfNbTa refractory high-entropy alloy',\n       'Elastic and plastic properties of as-cast equimolar TiHfZrTaNb high-entropy alloy',\n       'On temperature and strain-rate dependence of flow serration in HfNbTaTiZr high-entropy alloy',\n       'Microstructure and Room Temperature Mechanical Properties of Different 3 and 4 Element Medium Entropy Alloys from HfNbTaTiZr System',\n       'Effect of Sc and Y addition on the microstructure and properties of HCP-structured high-entropy alloys',\n       'Microstructure and mechanical properties of refractory HfMo0.5NbTiV0.5Six high-entropy composites',\n       'Microstructure and mechanical properties of a refractory HfNbTiVSi0.5 high-entropy alloy composite',\n       'Natural-mixing guided design of refractory high-entropy alloys with as-cast tensile ductility',\n       'New ternary equi-atomic refractory medium-entropy alloys with tensile ductility: Hafnium versus titanium into NbTa-based solution',\n       'Structural-disorder and its effect on mechanical properties in single-phase TaNbHfZr high-entropy alloy',\n       'Microstructure and mechanical properties of NbZrTi and NbHfZrTi alloys',\n       'Evaluating elastic properties of a body-centered cubic NbHfZrTi high-entropy alloy ‚Äì A direct comparison between experiments and ab initio calculations',\n       'Phase-Transformation Ductilization of Brittle High-Entropy Alloys via Metastability Engineering',\n       'Effects of Nb on deformation-induced transformation and mechanical properties of HfNbxTa0.2TiZr high entropy alloys',\n       'High-temperature mechanical properties and oxidation behavior of Hf-27Ta and Hf-21Ta-21X (X is Nb, Mo or W) alloys',\n       'Phase composition and solid solution strengthening effect in TiZrNbMoV high-entropy alloys',\n       'Mechanical Performance of (NbTaW)1-xMox (x=0, 0.05, 0.15, 0.25) Refractory High Entropy Alloys: Perspective from Experiments and First Principles Calculations',\n       'The effect of configurational entropy on mechanical properties of single BCC structural refractory high-entropy alloys systems',\n       'Effect of Ti additions on mechanical properties of NbMoTaW and VNbMoTaW refractory high entropy alloys',\n       'Microstructure and mechanical properties of RexNbMoTaW high-entropy alloys prepared by arc melting using metal powders',\n       'Microstructures and mechanical properties of (MoNbTa)6TixVy (xÂ\\xa0+Â\\xa0yÂ\\xa0=Â\\xa04) multi-component alloys',\n       'Mechanical properties of refractory high-entropy alloys: Experiments and modeling',\n       'Microstructures and mechanical properties of Ti NbMoTaW refractory high-entropy alloys',\n       'TiZrNbTaMo high-entropy alloy designed for orthopedic implants: As-cast microstructure and mechanical properties',\n       'Novel TiNbTaZrMo high-entropy alloys for metallic biomaterials',\n       'Mechanical properties of Nb25Mo25Ta25W25 and V20Nb20Mo20Ta20W20 refractory high entropy alloys',\n       'Ultra-high strength WNbMoTaV high-entropy alloys with fine grain structure fabricated by powder metallurgical process',\n       'Effects of vanadium concentration on mechanical properties of V NbMoTa refractory high-entropy alloys',\n       'Designing V NbMoTa refractory high-entropy alloys with improved properties for high-temperature applications',\n       'MoNbTaV Medium-Entropy Alloy',\n       'WReTaMo Refractory Highâ€\\x90Entropy Alloy with High Strength at 1600â€‰Â°C',\n       'NbTaV-(Ti,W) refractory high-entropy alloys: Experiments and modeling',\n       'Effect of the valence electron concentration on the yield strength of Ti‚ÄìZr‚ÄìNb‚ÄìV high-entropy alloys',\n       'Lattice distortion in a strong and ductile refractory high-entropy alloy',\n       'Microstructures and mechanical properties of ductile NbTaTiV refractory high entropy alloy prepared by powder metallurgy',\n       'Microstructure, mechanical properties and oxidation behavior of NbTaTi and NbTaZr refractory alloys',\n       'Novel BCC VNbTa refractory multi-element alloys with superior tensile properties',\n       'Microstructure and properties of an equiatomic TaTiZr alloy',\n       'Effects of Ta content on Young‚Äôs modulus and tensile properties of binary Ti‚ÄìTa alloys for biomedical applications'],\n      dtype=object)"
     },
     "metadata": {},
     "output_type": "display_data"
    },
    {
     "name": "stdout",
     "output_type": "stream",
     "text": [
      "\n",
      "Present in alphabetical filtered paper df but not extracted\n",
      "{'10.1063.1.4966659', '10.1007.s11661-017-4386-1', '10.1007.s10853-019-03567-9', '10.1016.j.jallcom.2018.11.318'}\n"
     ]
    },
    {
     "data": {
      "text/plain": "array(['Contribution of Lattice Distortion to Solid Solution Strengthening in a Series of Refractory High Entropy Alloys',\n       'A fine-grained NbMoTaWVCr refractory high-entropy alloy with ultra-high strength: Microstructural evolution and mechanical properties',\n       'Alloy design for intrinsically ductile refractory high-entropy alloys',\n       'Correction to: Effect of Si additions on microstructure and mechanical properties of refractory NbTaWMo high-entropy alloys'],\n      dtype=object)"
     },
     "metadata": {},
     "output_type": "display_data"
    }
   ]
  },
  {
   "cell_type": "code",
   "source": [
    "first_20_papers"
   ],
   "metadata": {
    "colab": {
     "base_uri": "https://localhost:8080/"
    },
    "id": "yI7Ko1mV5HQv",
    "executionInfo": {
     "status": "ok",
     "timestamp": 1707858748923,
     "user_tz": 300,
     "elapsed": 41,
     "user": {
      "displayName": "Satanu Ghosh",
      "userId": "07683061709303200546"
     }
    },
    "outputId": "3373676d-3c6e-4617-8bb0-bb8b77486a89",
    "ExecuteTime": {
     "end_time": "2024-05-20T19:56:40.632107200Z",
     "start_time": "2024-05-20T19:56:40.549653400Z"
    }
   },
   "execution_count": 80,
   "outputs": [
    {
     "data": {
      "text/plain": "['A Novel Series of Refractory High-Entropy Alloys Ti2ZrHf0.5VNbx with High Specific Yield Strength and Good Ductility',\n 'A fine-grained NbMoTaWVCr refractory high-entropy alloy with ultra-high strength: Microstructural evolution and mechanical properties',\n 'A new refractory Ti-Nb-Hf-Al high entropy alloy strengthened by orthorhombic phase particles',\n 'A novel HfNbTaTiV high-entropy alloy of superior mechanical properties designed on the principle of maximum lattice distortion',\n 'A refractory Hf25Nb25Ti25Zr25 high-entropy alloy with excellent structural stability and tensile properties',\n 'A simplified model connecting lattice distortion with friction stress of Nb-based equiatomic high-entropy alloys',\n 'A single-phase V0.5Nb0.5ZrTi refractory high-entropy alloy with outstanding tensile properties',\n 'Alloy Design and Properties Optimization of High-Entropy Alloys',\n 'Alloy design for intrinsically ductile refractory high-entropy alloys',\n 'An AlNbTiVZr0.5 high-entropy alloy combining high specific strength and good ductility',\n 'Body-centered cubic high-entropy alloys: From processing to underlying deformation mechanisms',\n 'Cold-workable refractory complex concentrated alloys with tunable microstructure and good room-temperature tensile behavior',\n 'Combinatorial development of the low-density high-entropy alloy Al10Cr20Mo20Nb20Ti20Zr10 having gigapascal strength at 1000¬†¬∞C',\n 'Comparative study of the microstructures and mechanical properties of laser metal deposited and vacuum arc melted refractory NbMoTa medium-entropy alloy',\n 'Compositional variation effects on the microstructure and properties of a refractory high-entropy superalloy AlMo0.5NbTa0.5TiZr',\n 'Contribution of Lattice Distortion to Solid Solution Strengthening in a Series of Refractory High Entropy Alloys',\n 'Correction to: Effect of Si additions on microstructure and mechanical properties of refractory NbTaWMo high-entropy alloys',\n 'Deformation behavior of HfNbTaTiZr high entropy alloy singe crystals and polycrystals',\n 'Design and characterization of eutectic refractory high entropy alloys',\n 'Design and tensile properties of a bcc Ti-rich high-entropy alloy with transformation-induced plasticity']"
     },
     "execution_count": 80,
     "metadata": {},
     "output_type": "execute_result"
    }
   ]
  },
  {
   "cell_type": "markdown",
   "source": [
    "# Aligning extracted and ground-truth rows"
   ],
   "metadata": {
    "id": "CxqU7DsCuoWE"
   }
  },
  {
   "cell_type": "code",
   "source": [
    "# So at this point we have filtered_paper_df, consisting of the ground truth extracted values for the 20-paper sample,\n",
    "# and extraction_df, consisting of the extracted values. colname_map maps from ground truth col names to extracted col names"
   ],
   "metadata": {
    "id": "GQIWCGM5uqAt",
    "ExecuteTime": {
     "end_time": "2024-05-20T19:56:42.573067900Z",
     "start_time": "2024-05-20T19:56:42.510551Z"
    }
   },
   "execution_count": 81,
   "outputs": []
  },
  {
   "cell_type": "code",
   "source": [
    "target_cols = ['PROPERTY: HV',\n",
    "               'PROPERTY: YS (MPa)',\n",
    "               'PROPERTY: UTS (MPa)',\n",
    "               'PROPERTY: Elongation (%)',\n",
    "               'PROPERTY: Elongation plastic (%)',\n",
    "               'PROPERTY: Exp. Young modulus (GPa)']"
   ],
   "metadata": {
    "id": "IydF_8UsyXbc",
    "ExecuteTime": {
     "end_time": "2024-05-20T19:56:43.399239800Z",
     "start_time": "2024-05-20T19:56:43.333238400Z"
    }
   },
   "execution_count": 82,
   "outputs": []
  },
  {
   "cell_type": "code",
   "source": [
    "filtered_paper_df.columns"
   ],
   "metadata": {
    "colab": {
     "base_uri": "https://localhost:8080/"
    },
    "id": "9-vcnSMXu46a",
    "executionInfo": {
     "status": "ok",
     "timestamp": 1707858748923,
     "user_tz": 300,
     "elapsed": 38,
     "user": {
      "displayName": "Satanu Ghosh",
      "userId": "07683061709303200546"
     }
    },
    "outputId": "e4925863-a0df-49ef-ea9b-bd5372d21ac0",
    "ExecuteTime": {
     "end_time": "2024-05-20T19:56:44.475282700Z",
     "start_time": "2024-05-20T19:56:44.375032600Z"
    }
   },
   "execution_count": 83,
   "outputs": [
    {
     "data": {
      "text/plain": "Index(['IDENTIFIER: Reference ID', 'FORMULA', 'PROPERTY: Microstructure', 'PROPERTY: Processing method', 'PROPERTY: BCC/FCC/other', 'PROPERTY: grain size ($\\mu$m)', 'PROPERTY: Exp. Density (g/cm$^3$)', 'PROPERTY: Computed Density (g/cm$^3$)', 'PROPERTY: HV', 'PROPERTY: Type of test',\n       'PROPERTY: Test temperature ($^\\circ$C)', 'PROPERTY: YS (MPa)', 'PROPERTY: UTS (MPa)', 'PROPERTY: Elongation (%)', 'PROPERTY: Elongation plastic (%)', 'PROPERTY: Exp. Young modulus (GPa)', 'PROPERTY: Computed Young modulus (GPa)', 'PROPERTY: O content (wppm)', 'PROPERTY: N content (wppm)',\n       'PROPERTY: C content (wppm)', 'REFERENCE: doi', 'REFERENCE: year', 'REFERENCE: title', 'processed_doi'],\n      dtype='object')"
     },
     "execution_count": 83,
     "metadata": {},
     "output_type": "execute_result"
    }
   ]
  },
  {
   "cell_type": "code",
   "source": [
    "filtered_paper_df.iloc[0]"
   ],
   "metadata": {
    "colab": {
     "base_uri": "https://localhost:8080/"
    },
    "id": "pCGnXcyGer9K",
    "executionInfo": {
     "status": "ok",
     "timestamp": 1707858748923,
     "user_tz": 300,
     "elapsed": 34,
     "user": {
      "displayName": "Satanu Ghosh",
      "userId": "07683061709303200546"
     }
    },
    "outputId": "14e7d4e5-31e3-4188-b5cb-524818d0165e",
    "ExecuteTime": {
     "end_time": "2024-05-20T19:56:45.421600500Z",
     "start_time": "2024-05-20T19:56:45.382083300Z"
    }
   },
   "execution_count": 84,
   "outputs": [
    {
     "data": {
      "text/plain": "IDENTIFIER: Reference ID                                                                  7\nFORMULA                                   Al0.025 Cr0.2 Mo0.2 Nb0.2 Ta0.025 Ti0.2 V0.05 ...\nPROPERTY: Microstructure                                                          BCC+Laves\nPROPERTY: Processing method                                                            CAST\nPROPERTY: BCC/FCC/other                                                               other\nPROPERTY: grain size ($\\mu$m)                                                           NaN\nPROPERTY: Exp. Density (g/cm$^3$)                                                      7.44\nPROPERTY: Computed Density (g/cm$^3$)                                                   7.5\nPROPERTY: HV                                                                            NaN\nPROPERTY: Type of test                                                                    C\nPROPERTY: Test temperature ($^\\circ$C)                                               1000.0\nPROPERTY: YS (MPa)                                                                    669.0\nPROPERTY: UTS (MPa)                                                                     NaN\nPROPERTY: Elongation (%)                                                                NaN\nPROPERTY: Elongation plastic (%)                                                        NaN\nPROPERTY: Exp. Young modulus (GPa)                                                      NaN\nPROPERTY: Computed Young modulus (GPa)                                                185.0\nPROPERTY: O content (wppm)                                                              NaN\nPROPERTY: N content (wppm)                                                              NaN\nPROPERTY: C content (wppm)                                                              NaN\nREFERENCE: doi                                                10.1016/j.jallcom.2020.155700\nREFERENCE: year                                                                      2020.0\nREFERENCE: title                          Combinatorial development of the low-density h...\nprocessed_doi                                                 10.1016.j.jallcom.2020.155700\nName: 0, dtype: object"
     },
     "execution_count": 84,
     "metadata": {},
     "output_type": "execute_result"
    }
   ]
  },
  {
   "cell_type": "code",
   "source": [
    "extraction_df.iloc[0]"
   ],
   "metadata": {
    "colab": {
     "base_uri": "https://localhost:8080/"
    },
    "id": "eHLS5aQqexha",
    "executionInfo": {
     "status": "ok",
     "timestamp": 1707858748924,
     "user_tz": 300,
     "elapsed": 33,
     "user": {
      "displayName": "Satanu Ghosh",
      "userId": "07683061709303200546"
     }
    },
    "outputId": "ea046872-bdaa-4e9a-c386-6dd567c4a982",
    "ExecuteTime": {
     "end_time": "2024-05-20T19:56:46.693663400Z",
     "start_time": "2024-05-20T19:56:46.597133500Z"
    }
   },
   "execution_count": 85,
   "outputs": [
    {
     "data": {
      "text/plain": "formula                      Al 20 Cr 10 Nb 15 Ti 20 V 25 Zr 10\nyield_strength                                           1535.0\ngrain_size                                                  0.0\nexperimental_density                                       5.55\nhardness                                                    0.0\ntest_temperature                                           22.0\nultimate_tensile_strength                                   0.0\nelongation                                                  0.6\nelongation_plastic                                          0.0\ndoi                                10.1016.j.matlet.2020.127372\nName: 0, dtype: object"
     },
     "execution_count": 85,
     "metadata": {},
     "output_type": "execute_result"
    }
   ]
  },
  {
   "cell_type": "markdown",
   "source": [
    "## Unique records"
   ],
   "metadata": {
    "id": "JkJA8LgJdH26"
   }
  },
  {
   "cell_type": "code",
   "source": [
    "paper_keys = ['FORMULA',\n",
    "              'PROPERTY: Microstructure',\n",
    "              'PROPERTY: Processing method',\n",
    "              'PROPERTY: BCC/FCC/other',\n",
    "              'PROPERTY: grain size ($\\mu$m)',\n",
    "              'PROPERTY: Type of test',\n",
    "              'PROPERTY: Test temperature ($^\\circ$C)']\n",
    "\n",
    "extraction_keys = [colname_map[paper_key] for paper_key in paper_keys if paper_key in colname_map]\n",
    "print(extraction_keys)"
   ],
   "metadata": {
    "colab": {
     "base_uri": "https://localhost:8080/"
    },
    "id": "yDO-116KvCPa",
    "executionInfo": {
     "status": "ok",
     "timestamp": 1707858748924,
     "user_tz": 300,
     "elapsed": 30,
     "user": {
      "displayName": "Satanu Ghosh",
      "userId": "07683061709303200546"
     }
    },
    "outputId": "d7d55925-729e-4b38-d73d-dcec57281984",
    "ExecuteTime": {
     "end_time": "2024-05-20T19:56:48.976539600Z",
     "start_time": "2024-05-20T19:56:48.842022600Z"
    }
   },
   "execution_count": 86,
   "outputs": [
    {
     "name": "stdout",
     "output_type": "stream",
     "text": [
      "['formula', 'grain_size', 'test_temperature']\n"
     ]
    }
   ]
  },
  {
   "cell_type": "markdown",
   "source": [
    "I think we need to be trying to extract more keys from the data\n",
    "\n",
    "We'll consider a unique record to be a unique combination of those 7 properties, and we will consider full matches and likely matches."
   ],
   "metadata": {
    "id": "b-iy6wlYwqUW"
   }
  },
  {
   "cell_type": "markdown",
   "source": [
    "### normalize_formula() function"
   ],
   "metadata": {
    "id": "yb-4w1xCT7Xa"
   }
  },
  {
   "cell_type": "code",
   "source": [
    "import pymatgen.core as mg\n"
   ],
   "metadata": {
    "id": "tpsHedLwd_Da",
    "ExecuteTime": {
     "end_time": "2024-05-20T19:56:51.534880200Z",
     "start_time": "2024-05-20T19:56:51.436755700Z"
    }
   },
   "execution_count": 87,
   "outputs": []
  },
  {
   "cell_type": "code",
   "source": [
    "f1 = \"Hf0.105 Nb0.053 Ti0.421 V0.211 Zr0.211\"\n",
    "f2 = \"Ti2ZrHf0.5VNb0.25\"\n"
   ],
   "metadata": {
    "id": "VYpuo9zbXNe6",
    "ExecuteTime": {
     "end_time": "2024-05-20T19:56:52.357056100Z",
     "start_time": "2024-05-20T19:56:52.281540200Z"
    }
   },
   "execution_count": 88,
   "outputs": []
  },
  {
   "cell_type": "code",
   "source": [
    "def rounding_fractions(comp_string: str) -> list[str]:\n",
    "    elements = [f for i, f in enumerate(comp_string.split('$')) if i%2==0]\n",
    "    fractions = [str(round(float(f.replace(\"_{\", \"\").replace(\"}\", \"\")), 3)) for i, f in enumerate(comp_string.split('$')) if\n",
    "                 i % 2 != 0]\n",
    "    final_results = [f\"{i}{j}\" for i, j in zip(elements, fractions)]\n",
    "    return final_results\n",
    "\n",
    "def normalize_comp_name(compName: str) -> str:\n",
    "  try:\n",
    "    comp = mg.Composition(compName)\n",
    "    comp = mg.Composition(comp.alphabetical_formula)\n",
    "    fractional_comp = comp.fractional_composition\n",
    "    fract_comp_ustring = fractional_comp.to_unicode_string()\n",
    "    normalized_frac_comp = rounding_fractions(fract_comp_ustring)\n",
    "    normalized_comp_name = ''.join(f for f in normalized_frac_comp)\n",
    "\n",
    "    return normalized_comp_name\n",
    "  except:\n",
    "    print(compName)\n",
    "    return None\n",
    "\n",
    "\n",
    "display(normalize_comp_name(f1))\n",
    "display(normalize_comp_name(f2))"
   ],
   "metadata": {
    "colab": {
     "base_uri": "https://localhost:8080/",
     "height": 54
    },
    "id": "_Yg0d4HTWn4x",
    "executionInfo": {
     "status": "ok",
     "timestamp": 1707858751442,
     "user_tz": 300,
     "elapsed": 80,
     "user": {
      "displayName": "Satanu Ghosh",
      "userId": "07683061709303200546"
     }
    },
    "outputId": "bc04c853-c0d7-4536-9cc2-f5c5f9d4b0bf",
    "ExecuteTime": {
     "end_time": "2024-05-20T19:56:52.903313100Z",
     "start_time": "2024-05-20T19:56:52.821305300Z"
    }
   },
   "execution_count": 89,
   "outputs": [
    {
     "data": {
      "text/plain": "'Hf0.105Nb0.053Ti0.421V0.211Zr0.211'"
     },
     "metadata": {},
     "output_type": "display_data"
    },
    {
     "data": {
      "text/plain": "'Hf0.105Nb0.053Ti0.421V0.211Zr0.211'"
     },
     "metadata": {},
     "output_type": "display_data"
    }
   ]
  },
  {
   "cell_type": "code",
   "source": [
    "from traceback import print_exc\n",
    "import re\n",
    "\n",
    "float_pattern = '[0-9]*\\.?[0-9]+'\n",
    "def round_string_floats(s:str, precision:int=2):\n",
    "  floats = re.search(float_pattern, s)\n",
    "\n",
    "\n",
    "def normalize_formula(formula):\n",
    "  try:\n",
    "    return mg.Composition(formula).get_integer_formula_and_factor()[0]\n",
    "  except Exception as ex:\n",
    "    # print_exc()\n",
    "    return None\n",
    "\n",
    "f1 = \"Hf0.105 Nb0.053 Ti0.421 V0.211 Zr0.211\"\n",
    "f2 = \"Ti2ZrHf0.5VNb0.25\"\n",
    "\n",
    "display(normalize_formula(f1))\n",
    "display(normalize_formula(f2))\n",
    "\n",
    "round_string_floats(f1)"
   ],
   "metadata": {
    "id": "O3UjoC8dhBqc",
    "executionInfo": {
     "status": "ok",
     "timestamp": 1707858751442,
     "user_tz": 300,
     "elapsed": 77,
     "user": {
      "displayName": "Satanu Ghosh",
      "userId": "07683061709303200546"
     }
    },
    "colab": {
     "base_uri": "https://localhost:8080/",
     "height": 54
    },
    "outputId": "957b63ed-268a-4bdd-ccdc-5620db8cb852",
    "ExecuteTime": {
     "end_time": "2024-05-20T19:56:53.769177400Z",
     "start_time": "2024-05-20T19:56:53.740175100Z"
    }
   },
   "execution_count": 90,
   "outputs": [
    {
     "data": {
      "text/plain": "'Hf105Zr211Ti421Nb53V211'"
     },
     "metadata": {},
     "output_type": "display_data"
    },
    {
     "data": {
      "text/plain": "'Hf2Zr4Ti8NbV4'"
     },
     "metadata": {},
     "output_type": "display_data"
    }
   ]
  },
  {
   "cell_type": "code",
   "source": [
    "c1 = mg.Composition(f1)\n",
    "display(c1)\n",
    "c2 = mg.Composition(f2)\n",
    "display(c2.fractional_composition)\n",
    "\n",
    "display(c1.almost_equals(c2,rtol=0.1, atol=0.1))"
   ],
   "metadata": {
    "colab": {
     "base_uri": "https://localhost:8080/",
     "height": 69
    },
    "id": "vsDJrloPUURp",
    "executionInfo": {
     "status": "ok",
     "timestamp": 1707858751794,
     "user_tz": 300,
     "elapsed": 427,
     "user": {
      "displayName": "Satanu Ghosh",
      "userId": "07683061709303200546"
     }
    },
    "outputId": "05df3212-0e72-45ca-ba2e-d1361b2892ad",
    "ExecuteTime": {
     "end_time": "2024-05-20T19:56:54.515281500Z",
     "start_time": "2024-05-20T19:56:54.453277800Z"
    }
   },
   "execution_count": 91,
   "outputs": [
    {
     "data": {
      "text/plain": "Comp: Hf0.105 Zr0.211 Ti0.421 Nb0.053 V0.211"
     },
     "metadata": {},
     "output_type": "display_data"
    },
    {
     "data": {
      "text/plain": "Comp: Hf0.10526316 Zr0.21052632 Ti0.42105263 Nb0.05263158 V0.21052632"
     },
     "metadata": {},
     "output_type": "display_data"
    },
    {
     "data": {
      "text/plain": "False"
     },
     "metadata": {},
     "output_type": "display_data"
    }
   ]
  },
  {
   "cell_type": "code",
   "source": [
    "c2 = mg.Composition(f2)\n",
    "c2.fractional_composition"
   ],
   "metadata": {
    "colab": {
     "base_uri": "https://localhost:8080/"
    },
    "id": "y1vyjKZCUboi",
    "executionInfo": {
     "status": "ok",
     "timestamp": 1707858751794,
     "user_tz": 300,
     "elapsed": 66,
     "user": {
      "displayName": "Satanu Ghosh",
      "userId": "07683061709303200546"
     }
    },
    "outputId": "bdf13224-ff28-4f64-b672-7b0b62ab2dbc",
    "ExecuteTime": {
     "end_time": "2024-05-20T19:56:55.550992400Z",
     "start_time": "2024-05-20T19:56:55.445667500Z"
    }
   },
   "execution_count": 92,
   "outputs": [
    {
     "data": {
      "text/plain": "Comp: Hf0.10526316 Zr0.21052632 Ti0.42105263 Nb0.05263158 V0.21052632"
     },
     "execution_count": 92,
     "metadata": {},
     "output_type": "execute_result"
    }
   ]
  },
  {
   "cell_type": "code",
   "source": [
    "# filtered_paper_df['normalized_formula'] = filtered_paper_df['FORMULA'].apply(normalize_formula)\n",
    "filtered_paper_df['normalized_formula'] = filtered_paper_df['FORMULA'].apply(normalize_comp_name)\n",
    "\n",
    "filtered_paper_df.sort_values('processed_doi')[['FORMULA','normalized_formula','processed_doi']]"
   ],
   "metadata": {
    "colab": {
     "base_uri": "https://localhost:8080/",
     "height": 528
    },
    "id": "cb5lDrghgg6z",
    "executionInfo": {
     "status": "ok",
     "timestamp": 1707858752744,
     "user_tz": 300,
     "elapsed": 1012,
     "user": {
      "displayName": "Satanu Ghosh",
      "userId": "07683061709303200546"
     }
    },
    "outputId": "b9283006-3851-476b-de42-f1baebcb9374",
    "ExecuteTime": {
     "end_time": "2024-05-20T19:56:56.340627900Z",
     "start_time": "2024-05-20T19:56:56.212019500Z"
    }
   },
   "execution_count": 93,
   "outputs": [
    {
     "name": "stderr",
     "output_type": "stream",
     "text": [
      "/tmp/ipykernel_1793644/2496855811.py:2: SettingWithCopyWarning: \n",
      "A value is trying to be set on a copy of a slice from a DataFrame.\n",
      "Try using .loc[row_indexer,col_indexer] = value instead\n",
      "\n",
      "See the caveats in the documentation: https://pandas.pydata.org/pandas-docs/stable/user_guide/indexing.html#returning-a-view-versus-a-copy\n",
      "  filtered_paper_df['normalized_formula'] = filtered_paper_df['FORMULA'].apply(normalize_comp_name)\n"
     ]
    },
    {
     "data": {
      "text/plain": "                                            FORMULA                         normalized_formula                           processed_doi\n355  Fe0.167 Mo0.167 Ni0.167 Ti0.167 V0.167 Zr0.167  Fe0.167Mo0.167Ni0.167Ti0.167V0.167Zr0.167                  10.1002.adem.200300567\n823                      Mo0.25 Re0.25 Ta0.25 W0.25                    Mo0.25Re0.25Ta0.25W0.25                  10.1002.adem.202100765\n822                      Mo0.25 Re0.25 Ta0.25 W0.25                    Mo0.25Re0.25Ta0.25W0.25                  10.1002.adem.202100765\n622                     Hf0.25 Ta0.25 Ti0.25 Zr0.25                   Hf0.25Ta0.25Ti0.25Zr0.25                  10.1002.adma.201701678\n627                 Hf0.278 Ta0.167 Ti0.278 Zr0.278               Hf0.278Ta0.167Ti0.278Zr0.278                  10.1002.adma.201701678\n..                                              ...                                        ...                                     ...\n424  Hf0.182 Nb0.182 Si0.091 Ti0.182 V0.182 Zr0.182  Hf0.182Nb0.182Si0.091Ti0.182V0.182Zr0.182   10.4028.www.scientific.net.MSF.849.76\n11           Al0.048 Mo0.238 Ta0.238 Ti0.238 V0.238         Al0.048Mo0.238Ta0.238Ti0.238V0.238  10.4028.www.scientific.net.MSF.898.638\n120           Al0.13 Mo0.217 Ta0.217 Ti0.217 V0.217          Al0.13Mo0.217Ta0.217Ti0.217V0.217  10.4028.www.scientific.net.MSF.898.638\n824                      Mo0.25 Ta0.25 Ti0.25 V0.25                    Mo0.25Ta0.25Ti0.25V0.25  10.4028.www.scientific.net.MSF.898.638\n196                    Al0.2 Mo0.2 Ta0.2 Ti0.2 V0.2                   Al0.2Mo0.2Ta0.2Ti0.2V0.2  10.4028.www.scientific.net.MSF.898.638\n\n[818 rows x 3 columns]",
      "text/html": "<div>\n<style scoped>\n    .dataframe tbody tr th:only-of-type {\n        vertical-align: middle;\n    }\n\n    .dataframe tbody tr th {\n        vertical-align: top;\n    }\n\n    .dataframe thead th {\n        text-align: right;\n    }\n</style>\n<table border=\"1\" class=\"dataframe\">\n  <thead>\n    <tr style=\"text-align: right;\">\n      <th></th>\n      <th>FORMULA</th>\n      <th>normalized_formula</th>\n      <th>processed_doi</th>\n    </tr>\n  </thead>\n  <tbody>\n    <tr>\n      <th>355</th>\n      <td>Fe0.167 Mo0.167 Ni0.167 Ti0.167 V0.167 Zr0.167</td>\n      <td>Fe0.167Mo0.167Ni0.167Ti0.167V0.167Zr0.167</td>\n      <td>10.1002.adem.200300567</td>\n    </tr>\n    <tr>\n      <th>823</th>\n      <td>Mo0.25 Re0.25 Ta0.25 W0.25</td>\n      <td>Mo0.25Re0.25Ta0.25W0.25</td>\n      <td>10.1002.adem.202100765</td>\n    </tr>\n    <tr>\n      <th>822</th>\n      <td>Mo0.25 Re0.25 Ta0.25 W0.25</td>\n      <td>Mo0.25Re0.25Ta0.25W0.25</td>\n      <td>10.1002.adem.202100765</td>\n    </tr>\n    <tr>\n      <th>622</th>\n      <td>Hf0.25 Ta0.25 Ti0.25 Zr0.25</td>\n      <td>Hf0.25Ta0.25Ti0.25Zr0.25</td>\n      <td>10.1002.adma.201701678</td>\n    </tr>\n    <tr>\n      <th>627</th>\n      <td>Hf0.278 Ta0.167 Ti0.278 Zr0.278</td>\n      <td>Hf0.278Ta0.167Ti0.278Zr0.278</td>\n      <td>10.1002.adma.201701678</td>\n    </tr>\n    <tr>\n      <th>...</th>\n      <td>...</td>\n      <td>...</td>\n      <td>...</td>\n    </tr>\n    <tr>\n      <th>424</th>\n      <td>Hf0.182 Nb0.182 Si0.091 Ti0.182 V0.182 Zr0.182</td>\n      <td>Hf0.182Nb0.182Si0.091Ti0.182V0.182Zr0.182</td>\n      <td>10.4028.www.scientific.net.MSF.849.76</td>\n    </tr>\n    <tr>\n      <th>11</th>\n      <td>Al0.048 Mo0.238 Ta0.238 Ti0.238 V0.238</td>\n      <td>Al0.048Mo0.238Ta0.238Ti0.238V0.238</td>\n      <td>10.4028.www.scientific.net.MSF.898.638</td>\n    </tr>\n    <tr>\n      <th>120</th>\n      <td>Al0.13 Mo0.217 Ta0.217 Ti0.217 V0.217</td>\n      <td>Al0.13Mo0.217Ta0.217Ti0.217V0.217</td>\n      <td>10.4028.www.scientific.net.MSF.898.638</td>\n    </tr>\n    <tr>\n      <th>824</th>\n      <td>Mo0.25 Ta0.25 Ti0.25 V0.25</td>\n      <td>Mo0.25Ta0.25Ti0.25V0.25</td>\n      <td>10.4028.www.scientific.net.MSF.898.638</td>\n    </tr>\n    <tr>\n      <th>196</th>\n      <td>Al0.2 Mo0.2 Ta0.2 Ti0.2 V0.2</td>\n      <td>Al0.2Mo0.2Ta0.2Ti0.2V0.2</td>\n      <td>10.4028.www.scientific.net.MSF.898.638</td>\n    </tr>\n  </tbody>\n</table>\n<p>818 rows × 3 columns</p>\n</div>"
     },
     "execution_count": 93,
     "metadata": {},
     "output_type": "execute_result"
    }
   ]
  },
  {
   "cell_type": "code",
   "source": [
    "# extraction_df['normalized_formula'] = extraction_df['high_entropy_alloy_formula'].apply(normalize_formula)\n",
    "extraction_df['normalized_formula'] = extraction_df['formula'].apply(normalize_comp_name)\n",
    "\n",
    "extraction_df.sort_values('doi')[['formula','normalized_formula','doi']]"
   ],
   "metadata": {
    "colab": {
     "base_uri": "https://localhost:8080/",
     "height": 1000
    },
    "id": "u7GTr6WLg1Np",
    "executionInfo": {
     "status": "ok",
     "timestamp": 1707858752746,
     "user_tz": 300,
     "elapsed": 98,
     "user": {
      "displayName": "Satanu Ghosh",
      "userId": "07683061709303200546"
     }
    },
    "outputId": "dc18160c-1eaf-47fa-97ff-4c4b00aedd19",
    "ExecuteTime": {
     "end_time": "2024-05-20T19:57:44.180625200Z",
     "start_time": "2024-05-20T19:57:44.047086300Z"
    }
   },
   "execution_count": 96,
   "outputs": [
    {
     "name": "stdout",
     "output_type": "stream",
     "text": [
      "Al-containing refractory HEA\n",
      "AlNb-TaTi\n",
      "RHEAs\n",
      "AlxNbTiMoV\n",
      "Al x NbTiMoV\n",
      "(Ta 25-x Nb 25 Zr 25 Ti 25+x ) 95 Al 5\n",
      "Ta 25-x Nb 25 Zr 25 Ti 25+x 95 Al 5\n",
      "AlxHfNbTaTiZr\n",
      "AlxHfNbTaTiZr\n",
      "CrNbTIZr\n",
      "TiZrNbMoVx\n",
      "CoCrFeNiAlNb x\n",
      "S < -θ -τ ext ˙ γ t DSA\n",
      "S < -θ -τ ext ˙ γ t DSA\n",
      "S < -θ -τ ext ˙ γ t DSA\n",
      "CuCoNiCrAl x Fe\n",
      "Hf-27Ta\n",
      "Hf-21Nb-21Ta\n",
      "Hf-21Mo-21Ta\n",
      "Hf-21Ta-21W\n",
      "Hf-21Ta-21W\n",
      "Hf-27Ta\n",
      "Hf-21Mo-21Ta\n",
      "Hf-21Nb-21Ta\n",
      "Hf-21Ta-21W\n",
      "HfMo x NbTaTiZr\n",
      "HfMo x NbTaTiZr\n",
      "A l 0.5 Mo 0.5 NbTa 0.5 TiZr\n",
      "A l 0.25 NbTaTiZr\n",
      "AlxNbTaTiV\n",
      "HfMo 0.5 NbTiV 0.5 Si x\n",
      "MoNbRe 0.5 W(TaC) x\n",
      "MoNbRe0.5W(TaC)x\n",
      "MoNbRe0.5W(TaC)x\n",
      "MoNbRe0.5W(TaC)x\n",
      "MoNbRe0.5W(TaC)x\n",
      "MoNbRe0.5W(TaC)x\n",
      "MoNbRe0.5W(TaC)x\n",
      "HEA1200\n",
      "HEA800\n",
      "Ti2ZrHf0.5VNb0.5Alx\n",
      "Ti2ZrHf0.5VNb0.5Alx\n",
      "Ti2ZrHf0.5VNb0.5Alx\n",
      "Ti2ZrHf0.5VNb0.5Alx\n",
      "Ti2ZrHf0.5VNb0.5Alx\n",
      "Ti2ZrHf0.5VNb0.5Alx\n",
      "Ti2ZrHf0.5VNb0.5Alx\n",
      "Ti2ZrHf0.5V0.5NbAlx\n",
      "Ti2ZrHf0.5VNb0.5Alx\n",
      "Ti2ZrHf0.5V0.5NbAlx\n",
      "TiNbTa0.5ZrAlx\n",
      "RHEA-Al0\n",
      "RHEA-Al0.2\n",
      "RHEA-Al0.5\n",
      "RHEA-Al1.0\n",
      "TiNbTa0.5ZrAlx\n",
      "TiNbTa0.5ZrAlx\n",
      "Ti-Nb-Ta-Zr-Al\n",
      "Ti-6Cr-5Mo-5V-4Al\n",
      "HEA\n",
      "(NbTaW)1-xMox\n",
      "(NbTaW)1-xMox\n",
      "(NbTaW)1-xMox\n",
      "(NbTaW)1-xMox\n",
      "(NbTaW)1-xMox\n",
      "(NbTaW)1-xMox\n",
      "Zr 1.2 V 0.8 NbTi x Al y\n",
      "Ti3.6Al0.6 LHEA\n",
      "TixAly\n",
      "Zr 1.2 V 0.8 NbTi x Al y\n",
      "TaxHfZrTi\n",
      "NbTiVTaAlx\n",
      "NbTiVTaAlx\n",
      "NbTiVTaAlx\n",
      "NbTiVTaAlx\n",
      "NbTiVTaAlx\n",
      "VTaTiMoAlx\n",
      "Not provided\n",
      "Not provided\n",
      "Not provided\n",
      "VxNbMoTa\n",
      "VxNbMoTa\n",
      "VxNbMoTa\n",
      "VxNbMoTa\n",
      "Ti x WTaVCr\n",
      "7Ti s\n",
      "Ti x WTaVCr\n",
      "NbMoTaWX (X = Cr, Zr, V, Hf, Re)\n",
      "NbMoTaWX (X = Cr, Zr, V, Hf and Re)\n",
      "e\n",
      "H-W\n",
      "HfNbxTa0.2TiZr\n",
      "Zr-Nb-Ti-Ta-Hf\n",
      "Zr-Nb-Ti-Ta-Hf\n",
      "Nb-Mo-Ta-W\n",
      "V-Nb-Mo-Ta-W\n",
      "Zr-Nb-Ti-Ta-Hf\n",
      "random bcc multicomponent alloy\n",
      "Re x NbMoTaW\n",
      "VxNbMoTa\n",
      "TiZrHfVxNbxTax\n",
      "TiZrHfVxNbxTax (x = 1.0)\n",
      "TiZrHfVxNbxTax (x = 0.5)\n",
      "TiZrHfVxNbxTax (x = 0.1)\n",
      "TiZrHfVxNbxTax (x = 1.0, 0.5, and 0.1)\n",
      "Ti-Zr-Nb-V\n",
      "Ti-Zr-Nb-V\n",
      "Ti-Zr-Nb-V\n",
      "Ti-60% Ta\n",
      "Al x NbTiVZr\n",
      "Al x NbTiVZr\n",
      "Ti2ZrHf0.5VNbx\n",
      "Ti2ZrHf0.5VNbx\n",
      "Ti2ZrHf0.5VNbx\n",
      "Ti2ZrHf0.5VNbx\n",
      "(MoNbTa)6TixVy\n",
      "(MoNbTa)6TixVy\n",
      "AlxMoNbTaTiV\n",
      "AlxMoNbTaTiV\n",
      "AlxMoNbTaTiV\n",
      "AlxMoNbTaTiV\n",
      "MoNbTaTiVAlx\n",
      "MoNbTaTiVAlx\n",
      "MoNbTaTiVAlx\n",
      "MoNbTaTiVAlx\n",
      "MoNbTaTiVAlx\n",
      "Ti x NbMoTaW\n",
      "Nb 55 Ta 25 Ti 15 Hf 5 (at.%)\n",
      "NTTH\n",
      "Nb-Mo-Ta-W\n",
      "Nb-Mo-Ta-W\n",
      "Nb-Mo-Ta-W\n",
      "Mo0.5NbHf0.5ZrTiSix\n",
      "Mo0.5NbHf0.5ZrTiSix\n",
      "Mo 0.5 NbHf 0.5 ZrTiSi x\n",
      "AlxCrNbVMo\n",
      "Ti 38 V 15 Nb 23 Hf 24 RHEA\n"
     ]
    },
    {
     "data": {
      "text/plain": "                 formula                                 normalized_formula                                     doi\n201  CuCoNiCrAlFeMoTiVZr  Al0.1Co0.1Cr0.1Cu0.1Fe0.1Mo0.1Ni0.1Ti0.1V0.1Zr0.1                  10.1002.adem.200300567\n202      CuCoNiCrAl x Fe                                               None                  10.1002.adem.200300567\n203    CuCoNiCrAl 0.5 Fe         Al0.091Co0.182Cr0.182Cu0.182Fe0.182Ni0.182                  10.1002.adem.200300567\n204      CuCoNiCrAlFeTiV  Al0.125Co0.125Cr0.125Cu0.125Fe0.125Ni0.125Ti0....                  10.1002.adem.200300567\n205      Cu 0.5 CoNiCrAl                Al0.222Co0.222Cr0.222Cu0.111Ni0.222                  10.1002.adem.200300567\n..                   ...                                                ...                                     ...\n484           VTaTiMoAl0                            Mo0.25Ta0.25Ti0.25V0.25  10.4028.www.scientific.net.MSF.898.638\n485         VTaTiMoAl0.2                 Al0.048Mo0.238Ta0.238Ti0.238V0.238  10.4028.www.scientific.net.MSF.898.638\n486         VTaTiMoAl0.6                  Al0.13Mo0.217Ta0.217Ti0.217V0.217  10.4028.www.scientific.net.MSF.898.638\n487           VTaTiMoAl1                           Al0.2Mo0.2Ta0.2Ti0.2V0.2  10.4028.www.scientific.net.MSF.898.638\n483           VTaTiMoAlx                                               None  10.4028.www.scientific.net.MSF.898.638\n\n[947 rows x 3 columns]",
      "text/html": "<div>\n<style scoped>\n    .dataframe tbody tr th:only-of-type {\n        vertical-align: middle;\n    }\n\n    .dataframe tbody tr th {\n        vertical-align: top;\n    }\n\n    .dataframe thead th {\n        text-align: right;\n    }\n</style>\n<table border=\"1\" class=\"dataframe\">\n  <thead>\n    <tr style=\"text-align: right;\">\n      <th></th>\n      <th>formula</th>\n      <th>normalized_formula</th>\n      <th>doi</th>\n    </tr>\n  </thead>\n  <tbody>\n    <tr>\n      <th>201</th>\n      <td>CuCoNiCrAlFeMoTiVZr</td>\n      <td>Al0.1Co0.1Cr0.1Cu0.1Fe0.1Mo0.1Ni0.1Ti0.1V0.1Zr0.1</td>\n      <td>10.1002.adem.200300567</td>\n    </tr>\n    <tr>\n      <th>202</th>\n      <td>CuCoNiCrAl x Fe</td>\n      <td>None</td>\n      <td>10.1002.adem.200300567</td>\n    </tr>\n    <tr>\n      <th>203</th>\n      <td>CuCoNiCrAl 0.5 Fe</td>\n      <td>Al0.091Co0.182Cr0.182Cu0.182Fe0.182Ni0.182</td>\n      <td>10.1002.adem.200300567</td>\n    </tr>\n    <tr>\n      <th>204</th>\n      <td>CuCoNiCrAlFeTiV</td>\n      <td>Al0.125Co0.125Cr0.125Cu0.125Fe0.125Ni0.125Ti0....</td>\n      <td>10.1002.adem.200300567</td>\n    </tr>\n    <tr>\n      <th>205</th>\n      <td>Cu 0.5 CoNiCrAl</td>\n      <td>Al0.222Co0.222Cr0.222Cu0.111Ni0.222</td>\n      <td>10.1002.adem.200300567</td>\n    </tr>\n    <tr>\n      <th>...</th>\n      <td>...</td>\n      <td>...</td>\n      <td>...</td>\n    </tr>\n    <tr>\n      <th>484</th>\n      <td>VTaTiMoAl0</td>\n      <td>Mo0.25Ta0.25Ti0.25V0.25</td>\n      <td>10.4028.www.scientific.net.MSF.898.638</td>\n    </tr>\n    <tr>\n      <th>485</th>\n      <td>VTaTiMoAl0.2</td>\n      <td>Al0.048Mo0.238Ta0.238Ti0.238V0.238</td>\n      <td>10.4028.www.scientific.net.MSF.898.638</td>\n    </tr>\n    <tr>\n      <th>486</th>\n      <td>VTaTiMoAl0.6</td>\n      <td>Al0.13Mo0.217Ta0.217Ti0.217V0.217</td>\n      <td>10.4028.www.scientific.net.MSF.898.638</td>\n    </tr>\n    <tr>\n      <th>487</th>\n      <td>VTaTiMoAl1</td>\n      <td>Al0.2Mo0.2Ta0.2Ti0.2V0.2</td>\n      <td>10.4028.www.scientific.net.MSF.898.638</td>\n    </tr>\n    <tr>\n      <th>483</th>\n      <td>VTaTiMoAlx</td>\n      <td>None</td>\n      <td>10.4028.www.scientific.net.MSF.898.638</td>\n    </tr>\n  </tbody>\n</table>\n<p>947 rows × 3 columns</p>\n</div>"
     },
     "execution_count": 96,
     "metadata": {},
     "output_type": "execute_result"
    }
   ]
  },
  {
   "cell_type": "markdown",
   "source": [
    "Basic logic: for each unique record in ground truth data, try to locate that record in the extracted data, as either:\n",
    "\n",
    "Exact match between unique keys\n",
    "\n",
    "Partial match between unique keys, with no other possible candidates"
   ],
   "metadata": {
    "id": "TARcEoF8mVMy"
   }
  },
  {
   "cell_type": "code",
   "source": [
    "for target_col in target_cols:\n",
    "  print('Target:',target_col)"
   ],
   "metadata": {
    "colab": {
     "base_uri": "https://localhost:8080/"
    },
    "id": "fEM8tWyhyvqA",
    "executionInfo": {
     "status": "ok",
     "timestamp": 1707858752747,
     "user_tz": 300,
     "elapsed": 93,
     "user": {
      "displayName": "Satanu Ghosh",
      "userId": "07683061709303200546"
     }
    },
    "outputId": "69006464-6d06-417d-e189-db04ccb0b041",
    "ExecuteTime": {
     "end_time": "2024-05-20T19:57:46.945502700Z",
     "start_time": "2024-05-20T19:57:46.851989600Z"
    }
   },
   "execution_count": 97,
   "outputs": [
    {
     "name": "stdout",
     "output_type": "stream",
     "text": [
      "Target: PROPERTY: HV\n",
      "Target: PROPERTY: YS (MPa)\n",
      "Target: PROPERTY: UTS (MPa)\n",
      "Target: PROPERTY: Elongation (%)\n",
      "Target: PROPERTY: Elongation plastic (%)\n",
      "Target: PROPERTY: Exp. Young modulus (GPa)\n"
     ]
    }
   ]
  },
  {
   "cell_type": "markdown",
   "source": [
    "## Row match functions"
   ],
   "metadata": {
    "id": "NFDF0_EOZUfD"
   }
  },
  {
   "cell_type": "markdown",
   "source": [
    "### assess_row_row_match()"
   ],
   "metadata": {
    "id": "_Wv0XZmBVAVu"
   }
  },
  {
   "cell_type": "code",
   "source": [
    "import pandas as pd\n",
    "\n",
    "\n",
    "from typing import Sequence, Dict, List\n",
    "\n",
    "\n",
    "def assess_row_row_match(data_row: pd.Series,\n",
    "                         extracted_row: pd.Series,\n",
    "                         required_keys: Sequence[str],\n",
    "                         other_keys: Sequence[str],\n",
    "                         ):\n",
    "    '''\n",
    "    Assess the extent to which an extracted row matches a dataset row.\n",
    "    Full if it matches all required and other keys\n",
    "    Partial if it matches required keys and at least doesn't violate other keys (i.e. it has nulls where they have values)\n",
    "    Nonmatch if it doesn't match required keys, or if violates any other keys (conflicting values)\n",
    "\n",
    "    If we want to add flexible matching or unit conversion or something,\n",
    "    (e.g. making '100mL' match '0.1L'), this is where to put it\n",
    "\n",
    "    But nothing like this is currently implemented\n",
    "    '''\n",
    "    all_keys = required_keys + other_keys\n",
    "    match_strength = 0\n",
    "    for key in all_keys:\n",
    "        if type(data_row[key]) == float and type(extracted_row[key]) == str:\n",
    "          try:\n",
    "            extracted_row[key] = float(extracted_row[key])\n",
    "          except:\n",
    "            pass\n",
    "        if key in required_keys and extracted_row[key] != data_row[key]:\n",
    "            return 0.0\n",
    "        elif extracted_row[key] == data_row[key] or pd.isnull(extracted_row[key]) and pd.isnull(data_row[key]):\n",
    "            match_strength +=1\n",
    "\n",
    "    match_strength /= len(all_keys)\n",
    "    return match_strength\n",
    "    return result"
   ],
   "metadata": {
    "id": "FF0vSzmmVFPa",
    "ExecuteTime": {
     "end_time": "2024-05-20T19:57:49.164597300Z",
     "start_time": "2024-05-20T19:57:49.078086500Z"
    }
   },
   "execution_count": 98,
   "outputs": []
  },
  {
   "cell_type": "code",
   "source": [
    "r1 = filtered_paper_df.loc[375:375]\n",
    "display(r1)"
   ],
   "metadata": {
    "colab": {
     "base_uri": "https://localhost:8080/",
     "height": 257
    },
    "id": "B0BHU2WKdB46",
    "executionInfo": {
     "status": "ok",
     "timestamp": 1707858752748,
     "user_tz": 300,
     "elapsed": 90,
     "user": {
      "displayName": "Satanu Ghosh",
      "userId": "07683061709303200546"
     }
    },
    "outputId": "6593e33c-ed66-4db3-c8c5-89c9d878856d",
    "ExecuteTime": {
     "end_time": "2024-05-20T19:57:49.865105700Z",
     "start_time": "2024-05-20T19:57:49.792619800Z"
    }
   },
   "execution_count": 99,
   "outputs": [
    {
     "data": {
      "text/plain": "     IDENTIFIER: Reference ID                                 FORMULA PROPERTY: Microstructure PROPERTY: Processing method PROPERTY: BCC/FCC/other  PROPERTY: grain size ($\\mu$m)  PROPERTY: Exp. Density (g/cm$^3$)  PROPERTY: Computed Density (g/cm$^3$)  PROPERTY: HV PROPERTY: Type of test  \\\n375                       142  Hf0.105 Nb0.053 Ti0.421 V0.211 Zr0.211                      BCC                        CAST                     BCC                            NaN                                NaN                                    6.4         332.4                      C   \n\n     PROPERTY: Test temperature ($^\\circ$C)  PROPERTY: YS (MPa)  PROPERTY: UTS (MPa)  PROPERTY: Elongation (%)  PROPERTY: Elongation plastic (%)  PROPERTY: Exp. Young modulus (GPa)  PROPERTY: Computed Young modulus (GPa)  PROPERTY: O content (wppm)  PROPERTY: N content (wppm)  \\\n375                                    25.0              1115.0                  NaN                      50.0                               NaN                                 NaN                                   104.0                         NaN                         NaN   \n\n     PROPERTY: C content (wppm)              REFERENCE: doi  REFERENCE: year                                   REFERENCE: title               processed_doi                  normalized_formula  \n375                         NaN  10.1007/s40195-019-00921-3           2019.0  A Novel Series of Refractory High-Entropy Allo...  10.1007.s40195-019-00921-3  Hf0.105Nb0.053Ti0.421V0.211Zr0.211  ",
      "text/html": "<div>\n<style scoped>\n    .dataframe tbody tr th:only-of-type {\n        vertical-align: middle;\n    }\n\n    .dataframe tbody tr th {\n        vertical-align: top;\n    }\n\n    .dataframe thead th {\n        text-align: right;\n    }\n</style>\n<table border=\"1\" class=\"dataframe\">\n  <thead>\n    <tr style=\"text-align: right;\">\n      <th></th>\n      <th>IDENTIFIER: Reference ID</th>\n      <th>FORMULA</th>\n      <th>PROPERTY: Microstructure</th>\n      <th>PROPERTY: Processing method</th>\n      <th>PROPERTY: BCC/FCC/other</th>\n      <th>PROPERTY: grain size ($\\mu$m)</th>\n      <th>PROPERTY: Exp. Density (g/cm$^3$)</th>\n      <th>PROPERTY: Computed Density (g/cm$^3$)</th>\n      <th>PROPERTY: HV</th>\n      <th>PROPERTY: Type of test</th>\n      <th>PROPERTY: Test temperature ($^\\circ$C)</th>\n      <th>PROPERTY: YS (MPa)</th>\n      <th>PROPERTY: UTS (MPa)</th>\n      <th>PROPERTY: Elongation (%)</th>\n      <th>PROPERTY: Elongation plastic (%)</th>\n      <th>PROPERTY: Exp. Young modulus (GPa)</th>\n      <th>PROPERTY: Computed Young modulus (GPa)</th>\n      <th>PROPERTY: O content (wppm)</th>\n      <th>PROPERTY: N content (wppm)</th>\n      <th>PROPERTY: C content (wppm)</th>\n      <th>REFERENCE: doi</th>\n      <th>REFERENCE: year</th>\n      <th>REFERENCE: title</th>\n      <th>processed_doi</th>\n      <th>normalized_formula</th>\n    </tr>\n  </thead>\n  <tbody>\n    <tr>\n      <th>375</th>\n      <td>142</td>\n      <td>Hf0.105 Nb0.053 Ti0.421 V0.211 Zr0.211</td>\n      <td>BCC</td>\n      <td>CAST</td>\n      <td>BCC</td>\n      <td>NaN</td>\n      <td>NaN</td>\n      <td>6.4</td>\n      <td>332.4</td>\n      <td>C</td>\n      <td>25.0</td>\n      <td>1115.0</td>\n      <td>NaN</td>\n      <td>50.0</td>\n      <td>NaN</td>\n      <td>NaN</td>\n      <td>104.0</td>\n      <td>NaN</td>\n      <td>NaN</td>\n      <td>NaN</td>\n      <td>10.1007/s40195-019-00921-3</td>\n      <td>2019.0</td>\n      <td>A Novel Series of Refractory High-Entropy Allo...</td>\n      <td>10.1007.s40195-019-00921-3</td>\n      <td>Hf0.105Nb0.053Ti0.421V0.211Zr0.211</td>\n    </tr>\n  </tbody>\n</table>\n</div>"
     },
     "metadata": {},
     "output_type": "display_data"
    }
   ]
  },
  {
   "cell_type": "code",
   "source": [
    "r2 = extraction_df.loc[1:1].rename(columns=inverted_colname_map)\n",
    "display(r2)"
   ],
   "metadata": {
    "colab": {
     "base_uri": "https://localhost:8080/",
     "height": 133
    },
    "id": "JSLrFa49dTVZ",
    "executionInfo": {
     "status": "ok",
     "timestamp": 1707858752749,
     "user_tz": 300,
     "elapsed": 90,
     "user": {
      "displayName": "Satanu Ghosh",
      "userId": "07683061709303200546"
     }
    },
    "outputId": "77366089-73c9-451d-fdb4-3deae20f5239",
    "ExecuteTime": {
     "end_time": "2024-05-20T19:57:51.264074900Z",
     "start_time": "2024-05-20T19:57:51.170557100Z"
    }
   },
   "execution_count": 100,
   "outputs": [
    {
     "data": {
      "text/plain": "                              FORMULA  PROPERTY: YS (MPa)  PROPERTY: grain size ($\\mu$m)  PROPERTY: Exp. Density (g/cm$^3$)  PROPERTY: HV  PROPERTY: Test temperature ($^\\circ$C)  PROPERTY: UTS (MPa)  PROPERTY: Elongation (%)  PROPERTY: Elongation plastic (%)                REFERENCE: doi  \\\n1  Al 20 Cr 10 Nb 15 Ti 20 V 25 Zr 10              1000.0                            0.0                               5.55           0.0                                   800.0                  0.0                       0.0                               0.0  10.1016.j.matlet.2020.127372   \n\n                normalized_formula  \n1  Al0.2Cr0.1Nb0.15Ti0.2V0.25Zr0.1  ",
      "text/html": "<div>\n<style scoped>\n    .dataframe tbody tr th:only-of-type {\n        vertical-align: middle;\n    }\n\n    .dataframe tbody tr th {\n        vertical-align: top;\n    }\n\n    .dataframe thead th {\n        text-align: right;\n    }\n</style>\n<table border=\"1\" class=\"dataframe\">\n  <thead>\n    <tr style=\"text-align: right;\">\n      <th></th>\n      <th>FORMULA</th>\n      <th>PROPERTY: YS (MPa)</th>\n      <th>PROPERTY: grain size ($\\mu$m)</th>\n      <th>PROPERTY: Exp. Density (g/cm$^3$)</th>\n      <th>PROPERTY: HV</th>\n      <th>PROPERTY: Test temperature ($^\\circ$C)</th>\n      <th>PROPERTY: UTS (MPa)</th>\n      <th>PROPERTY: Elongation (%)</th>\n      <th>PROPERTY: Elongation plastic (%)</th>\n      <th>REFERENCE: doi</th>\n      <th>normalized_formula</th>\n    </tr>\n  </thead>\n  <tbody>\n    <tr>\n      <th>1</th>\n      <td>Al 20 Cr 10 Nb 15 Ti 20 V 25 Zr 10</td>\n      <td>1000.0</td>\n      <td>0.0</td>\n      <td>5.55</td>\n      <td>0.0</td>\n      <td>800.0</td>\n      <td>0.0</td>\n      <td>0.0</td>\n      <td>0.0</td>\n      <td>10.1016.j.matlet.2020.127372</td>\n      <td>Al0.2Cr0.1Nb0.15Ti0.2V0.25Zr0.1</td>\n    </tr>\n  </tbody>\n</table>\n</div>"
     },
     "metadata": {},
     "output_type": "display_data"
    }
   ]
  },
  {
   "cell_type": "code",
   "source": [
    "assess_row_row_match(data_row=r1.iloc[0],\n",
    "                         extracted_row=r2.iloc[0],\n",
    "                         required_keys=['normalized_formula', 'PROPERTY: YS (MPa)'],\n",
    "                         other_keys= [\n",
    "                            #  'PROPERTY: Microstructure',\n",
    "              # 'PROPERTY: Processing method',\n",
    "              # 'PROPERTY: BCC/FCC/other',\n",
    "              'PROPERTY: grain size ($\\mu$m)',\n",
    "              # 'PROPERTY: Type of test',\n",
    "              'PROPERTY: Test temperature ($^\\circ$C)'])"
   ],
   "metadata": {
    "colab": {
     "base_uri": "https://localhost:8080/"
    },
    "id": "nV824ficeHfR",
    "executionInfo": {
     "status": "ok",
     "timestamp": 1707858752750,
     "user_tz": 300,
     "elapsed": 89,
     "user": {
      "displayName": "Satanu Ghosh",
      "userId": "07683061709303200546"
     }
    },
    "outputId": "36c87c63-435c-48ab-8dba-4d7ebf57184d",
    "ExecuteTime": {
     "end_time": "2024-05-20T19:57:52.342077300Z",
     "start_time": "2024-05-20T19:57:52.260552500Z"
    }
   },
   "execution_count": 101,
   "outputs": [
    {
     "data": {
      "text/plain": "0.0"
     },
     "execution_count": 101,
     "metadata": {},
     "output_type": "execute_result"
    }
   ]
  },
  {
   "cell_type": "code",
   "source": [],
   "metadata": {
    "id": "wzzBNnEZdQ7R",
    "ExecuteTime": {
     "end_time": "2024-05-20T19:57:53.881551600Z",
     "start_time": "2024-05-20T19:57:53.768054200Z"
    }
   },
   "execution_count": 101,
   "outputs": []
  },
  {
   "cell_type": "markdown",
   "source": [
    "### assess_df_df_match()"
   ],
   "metadata": {
    "id": "3VMlwSpDVJI1"
   }
  },
  {
   "cell_type": "code",
   "source": [
    "from typing import List, Tuple\n",
    "\n",
    "def assess_df_df_matches(\n",
    "        data_df: pd.DataFrame,  # test df\n",
    "        extracted_df: pd.DataFrame,  # extracted df\n",
    "        required_keys: List[str],\n",
    "        other_keys: List[str]\n",
    "):\n",
    "    '''\n",
    "    Assess pairwise row matches between two dfs. Assume columns match.\n",
    "    '''\n",
    "    extracted_data_matches = {}\n",
    "\n",
    "    for extracted_idx, extracted_row in extracted_df.iterrows():\n",
    "        extracted_data_matches[extracted_idx] = {}\n",
    "        for data_idx, data_row in data_df.iterrows():\n",
    "\n",
    "            row_match = assess_row_row_match(data_row=data_row,\n",
    "                                             extracted_row=extracted_row,\n",
    "                                             required_keys=required_keys, other_keys=other_keys)\n",
    "            extracted_data_matches[extracted_idx][data_idx] = row_match\n",
    "\n",
    "    return extracted_data_matches\n"
   ],
   "metadata": {
    "id": "d0Igy6HFVPS0",
    "ExecuteTime": {
     "end_time": "2024-05-20T19:58:03.061288700Z",
     "start_time": "2024-05-20T19:58:02.947772500Z"
    }
   },
   "execution_count": 102,
   "outputs": []
  },
  {
   "cell_type": "markdown",
   "source": [
    "### perform_matching()"
   ],
   "metadata": {
    "id": "HH5htru4VQCp"
   }
  },
  {
   "cell_type": "code",
   "source": [
    "def perform_matching(extracted_data_matches:Dict[int, Dict[int,float]], exclusive_threshold=0.2, verbose:bool=False):\n",
    "    '''\n",
    "    Given a dictionary of row-to-row match strength values, determine a likely one-to-one pairing of rows\n",
    "    by greedily picking the strongest match until there are no more unmatched rows or until no matches are stronger\n",
    "    than the threshold value\n",
    "\n",
    "    :param extracted_data_matches:\n",
    "    :param data_extracted_matches:\n",
    "    :return:\n",
    "    '''\n",
    "    unmatched_extracted_idxs = set()\n",
    "    unmatched_data_idxs = set()\n",
    "    match_strengths = []\n",
    "\n",
    "    for extracted_idx, match_dict in extracted_data_matches.items():\n",
    "        for data_idx, match_strength in match_dict.items():\n",
    "            match_strengths.append((extracted_idx, data_idx, match_strength))\n",
    "            unmatched_extracted_idxs.add(extracted_idx)\n",
    "            unmatched_data_idxs.add(data_idx)\n",
    "\n",
    "    match_strengths = sorted(match_strengths, key=lambda m:m[2], reverse=True)\n",
    "    if verbose:\n",
    "      print(match_strengths)\n",
    "\n",
    "    matches= []\n",
    "\n",
    "    for extracted_idx, data_idx, match_strength in match_strengths:\n",
    "        if match_strength > exclusive_threshold and extracted_idx in unmatched_extracted_idxs and data_idx in unmatched_data_idxs:\n",
    "            matches.append((extracted_idx, data_idx, match_strength))\n",
    "            unmatched_extracted_idxs.remove(extracted_idx)\n",
    "            unmatched_data_idxs.remove(data_idx)\n",
    "\n",
    "    return matches, list(unmatched_extracted_idxs), list(unmatched_data_idxs)\n"
   ],
   "metadata": {
    "id": "i76qAK-4VVGE",
    "ExecuteTime": {
     "end_time": "2024-05-20T19:58:05.041817Z",
     "start_time": "2024-05-20T19:58:04.930783800Z"
    }
   },
   "execution_count": 103,
   "outputs": []
  },
  {
   "cell_type": "markdown",
   "source": [
    "### align_dfs()"
   ],
   "metadata": {
    "id": "rn-febiYVV0D"
   }
  },
  {
   "cell_type": "code",
   "source": [
    "from typing import Union, Callable\n",
    "def align_dfs(data_df: pd.DataFrame,  # test df\n",
    "                      extracted_df: pd.DataFrame,  # extracted df\n",
    "                      required_keys: List[str],  # keys rows absolutely must match on to be a potential match (e.g. formula, target value (yield strength, etc))\n",
    "                      other_keys: List[str],  # keys rows could/should match on if possible, but a non-match isn't disqualifying (e.g. grain size, test temp)\n",
    "                      extracted_to_data_colmap: Dict[str, str],  # map between data and extracted df columns\n",
    "                      group_by: Union[str, Tuple[str,str]],  # group by this before doing the matching. Should be paper title or DOI. If tuple, first is for data_df, second for extracted_df\n",
    "                      discard_nonextracted_keys: bool = False,  # If true, ignore other_keys that don't exist in the extracted_df\n",
    "                      verbose: bool = False,\n",
    "                      debug_group_count: int=None,\n",
    "                      debug_group_skip:int=None,\n",
    "                      debug_group_filter:Callable=None\n",
    "                      ):\n",
    "    '''\n",
    "    :param data_df: human-annotated df\n",
    "   :param extracted_df: model-extracted df. Should have same structure as human-annotated one, but columns don't have to match\n",
    "   :param required_keys: keys that absolutely have to match for a pair of records to be considered a potential match (e.g. formula and YS, if YS is the target value)\n",
    "   :param other_keys: keys that should match, but don't absolutely have to (e.g. grain size, test temp)\n",
    "   :param extracted_to_data_colmap: dictionary mapping column names from extracted DF to original DF\n",
    "   :param group_by: column to group by before doing the matching. Should be title or DOI\n",
    "   :param discard_nonextracted_keys: whether to ignore any keys that weren't extracted, as these could never be a match (e.g. test type if we didn't try to extract it)\n",
    "   :param verbose: whether to print additional output\n",
    "   :return:\n",
    "\n",
    "    Take a dataframe of human-extracted values (e.g. Carolina's dataset), and align it with\n",
    "    a dataframe of model-extracted values.\n",
    "\n",
    "    Goal here is alignment--figure out which extracted records match with which original records,\n",
    "    and which original and extracted records are unmatched.\n",
    "\n",
    "    Do this with a greedy matching algorithm.\n",
    "\n",
    "    Return a combined dataframe where matched records are merged side by side with their columns\n",
    "    suffixed with '_original' and '_extracted' respectively. Unmatched records are included too, with\n",
    "    NaN values for the columns that couldn't be matched.\n",
    "\n",
    "   index  extracted_idx  original_idx  match_strength match_group formula_original  test_temp_original  grain_size_original test_type_original  ys_original title_original formula_extracted  test_temp_extracted grain_size_extracted  ys_extracted title_extracted\n",
    "0      0            0.0           0.0            0.75     paper_1              NbV               100.0                 25.5             Normal         14.4        paper_1               NbV                100.0                 None          14.4         paper_1\n",
    "1      1            NaN           1.0             NaN     paper_1              NbV               200.0                 34.0             Normal         24.8        paper_1               NaN                  NaN                  NaN           NaN             NaN\n",
    "2      1            1.0           NaN             NaN     paper_1              NaN                 NaN                  NaN                NaN          NaN            NaN               NbV                300.0                 None          24.5         paper_1\n",
    "\n",
    "    So when you want to isolate rows that were successfully matched, just look for pd.notnull(original_idx) and pd.notnull(extracted_idx), and\n",
    "    vice versa for finding original or extracted rows that couldn't be matched.\n",
    "\n",
    "    '''\n",
    "    all_keys = required_keys + other_keys\n",
    "    data_keys = [col for col in all_keys if col in data_df]\n",
    "\n",
    "    if verbose:\n",
    "        print('True data DF:')\n",
    "        display(data_df[data_keys])\n",
    "\n",
    "    extracted_df = extracted_df.rename(columns=extracted_to_data_colmap)\n",
    "\n",
    "    if discard_nonextracted_keys:\n",
    "        other_keys = [key for key in other_keys if key in extracted_df]\n",
    "\n",
    "    extracted_keys  = [key for key in all_keys if key in extracted_df]\n",
    "\n",
    "    if verbose:\n",
    "        print('Extracted data DF (with renamed columns):')\n",
    "        display(extracted_df[extracted_keys])\n",
    "        print('Required keys:', required_keys)\n",
    "        print('Other keys to match on:', other_keys)\n",
    "        print('\\nMatching rows:')\n",
    "\n",
    "    if type(group_by) == str:\n",
    "      data_groups = data_df.groupby(group_by)\n",
    "      extracted_groups = extracted_df.groupby(group_by)\n",
    "    elif type(group_by) == tuple:\n",
    "      data_groups = data_df.groupby(group_by[0])\n",
    "      extracted_groups = extracted_df.groupby(group_by[1])\n",
    "      group_by=group_by[0]\n",
    "\n",
    "    # By definition we can assume that data_df has a nonempty group for every paper\n",
    "    # The same is not necessarily true for extracted_df, if no values were found for a paper\n",
    "\n",
    "    match_dfs = []\n",
    "    group_count = 0\n",
    "    group_skip = 0 if debug_group_skip is None else debug_group_skip\n",
    "\n",
    "    for group, data_indices in data_groups.indices.items():\n",
    "        extracted_indices = extracted_groups.indices[group] if group in extracted_groups.indices else []\n",
    "\n",
    "        if verbose:\n",
    "          print('---')\n",
    "          print(group_by, group)\n",
    "          print('original indices',data_indices)\n",
    "          print('extracted indices', extracted_indices)\n",
    "\n",
    "        group_data_df = data_df.iloc[data_indices]\n",
    "        group_extracted_df = extracted_df.iloc[extracted_indices]\n",
    "\n",
    "        if debug_group_filter and ( not debug_group_filter(group_data_df) or not debug_group_filter(group_extracted_df)):\n",
    "          if verbose: print('Group debug filter fail. Skipping.')\n",
    "          continue\n",
    "\n",
    "        group_count +=1\n",
    "        if group_count <= group_skip:\n",
    "          if verbose:print('Skipping for debug')\n",
    "          continue\n",
    "\n",
    "        if verbose:\n",
    "          print('Group data df:')\n",
    "          display(group_data_df[data_keys])\n",
    "          print('Group extracted df:')\n",
    "          display(group_extracted_df[extracted_keys])\n",
    "\n",
    "        e_d_matches = assess_df_df_matches(data_df=group_data_df,\n",
    "                                                        extracted_df=group_extracted_df,\n",
    "                                                        required_keys=required_keys,\n",
    "                                                        other_keys=other_keys)\n",
    "\n",
    "        # print('extracted matches')\n",
    "        # print(e_d_matches)\n",
    "\n",
    "        matches, unmatched_extracted_idxs, unmatched_data_idxs = perform_matching(extracted_data_matches=e_d_matches, verbose=verbose)\n",
    "\n",
    "\n",
    "        match_df = pd.DataFrame(matches, columns=['extracted_idx','original_idx', 'match_strength'])\n",
    "        match_df['match_group'] = group\n",
    "\n",
    "        if verbose:\n",
    "          print('matches:')\n",
    "          print(matches)\n",
    "          print('match df:')\n",
    "          display(match_df)\n",
    "\n",
    "\n",
    "        match_df = match_df.merge(group_data_df.rename(columns=lambda c:c+'_original'), left_on='original_idx', right_index=True)\n",
    "\n",
    "        if verbose:\n",
    "          print('merged match df:')\n",
    "          display(match_df)\n",
    "\n",
    "        match_df = match_df.merge(group_extracted_df.rename(columns=lambda c: c + '_extracted'), left_on='extracted_idx', right_index=True)\n",
    "\n",
    "        if verbose:\n",
    "          print('second merged match df:')\n",
    "          display(match_df)\n",
    "\n",
    "        unmatched_extracted_df = group_extracted_df.loc[unmatched_extracted_idxs].rename(columns=lambda c:c+'_extracted')\n",
    "        unmatched_extracted_df['extracted_idx'] = unmatched_extracted_idxs\n",
    "        unmatched_extracted_df['match_group'] = group\n",
    "\n",
    "        unmatched_data_df = group_data_df.loc[unmatched_data_idxs].rename(columns=lambda c:c+'_original')\n",
    "        unmatched_data_df['original_idx'] = unmatched_data_idxs\n",
    "        unmatched_data_df['match_group'] = group\n",
    "\n",
    "        match_df = pd.concat([match_df, unmatched_data_df, unmatched_extracted_df], axis=0)\n",
    "        match_dfs.append(match_df)\n",
    "        pass\n",
    "\n",
    "        if verbose:\n",
    "          print('===')\n",
    "\n",
    "        if debug_group_count and group_count >= debug_group_count+group_skip:\n",
    "          break\n",
    "\n",
    "    all_match_df = pd.concat(match_dfs, axis=0).reset_index()\n",
    "    return all_match_df\n"
   ],
   "metadata": {
    "id": "e7IcXdEcVdwl",
    "ExecuteTime": {
     "end_time": "2024-05-20T19:58:06.643323100Z",
     "start_time": "2024-05-20T19:58:06.562809500Z"
    }
   },
   "execution_count": 104,
   "outputs": []
  },
  {
   "cell_type": "markdown",
   "source": [
    "### Testing"
   ],
   "metadata": {
    "id": "5RWPAZXAVebP"
   }
  },
  {
   "cell_type": "markdown",
   "source": [
    "#### Toy dataset"
   ],
   "metadata": {
    "id": "EEhuDdkwWoA4"
   }
  },
  {
   "cell_type": "code",
   "source": [
    "required_keys = ['formula', 'ys']\n",
    "other_keys = [ 'test_temp', 'grain_size', 'test_type']\n",
    "\n",
    "t_tdf = pd.DataFrame([{'formula':'NbV', 'test_temp':100, 'grain_size':25.5, 'test_type':'Normal', 'ys':14.4, 'title':'paper_1'},\n",
    "                     {'formula':'NbV', 'test_temp':200, 'grain_size':34, 'test_type':'Normal', 'ys':24.8, 'title':'paper_1'},\n",
    "                     ])\n",
    "\n",
    "\n",
    "tkey_mapping = {'test_temp':'test temperature', 'grain_size':'grain size', 'ys':'yield strength'}\n",
    "inverted_tkey_mapping = {value:key for key, value in tkey_mapping.items()}\n",
    "\n",
    "t_edf1 = pd.DataFrame([{'formula':'NbV', 'test temperature':100, 'grain size':None, 'yield strength':14.4, 'title':'paper_1'},\n",
    "                       {'formula':'NbV', 'test temperature':300, 'grain size':None, 'yield strength':24.5, 'title':'paper_1'},\n",
    "                       ])\n",
    "\n",
    "\n",
    "\n",
    "\n",
    "df_result = align_dfs(data_df=t_tdf,\n",
    "                  extracted_df=t_edf1,\n",
    "                  required_keys=required_keys,\n",
    "                  other_keys=other_keys,\n",
    "                  extracted_to_data_colmap=inverted_tkey_mapping,\n",
    "                  group_by='title',\n",
    "                  discard_nonextracted_keys=True,\n",
    "                  verbose=True\n",
    "                  )\n",
    "\n",
    "pd.options.display.width=300\n",
    "print(df_result)"
   ],
   "metadata": {
    "id": "LXSdQdy7ZXQd",
    "executionInfo": {
     "status": "ok",
     "timestamp": 1707858753336,
     "user_tz": 300,
     "elapsed": 68,
     "user": {
      "displayName": "Satanu Ghosh",
      "userId": "07683061709303200546"
     }
    },
    "colab": {
     "base_uri": "https://localhost:8080/",
     "height": 1000
    },
    "outputId": "9d5d138b-51e4-40c8-8417-dd797ed221d7",
    "ExecuteTime": {
     "end_time": "2024-05-20T19:58:08.631007500Z",
     "start_time": "2024-05-20T19:58:08.509485800Z"
    }
   },
   "execution_count": 105,
   "outputs": [
    {
     "name": "stdout",
     "output_type": "stream",
     "text": [
      "True data DF:\n"
     ]
    },
    {
     "data": {
      "text/plain": "  formula    ys  test_temp  grain_size test_type\n0     NbV  14.4        100        25.5    Normal\n1     NbV  24.8        200        34.0    Normal",
      "text/html": "<div>\n<style scoped>\n    .dataframe tbody tr th:only-of-type {\n        vertical-align: middle;\n    }\n\n    .dataframe tbody tr th {\n        vertical-align: top;\n    }\n\n    .dataframe thead th {\n        text-align: right;\n    }\n</style>\n<table border=\"1\" class=\"dataframe\">\n  <thead>\n    <tr style=\"text-align: right;\">\n      <th></th>\n      <th>formula</th>\n      <th>ys</th>\n      <th>test_temp</th>\n      <th>grain_size</th>\n      <th>test_type</th>\n    </tr>\n  </thead>\n  <tbody>\n    <tr>\n      <th>0</th>\n      <td>NbV</td>\n      <td>14.4</td>\n      <td>100</td>\n      <td>25.5</td>\n      <td>Normal</td>\n    </tr>\n    <tr>\n      <th>1</th>\n      <td>NbV</td>\n      <td>24.8</td>\n      <td>200</td>\n      <td>34.0</td>\n      <td>Normal</td>\n    </tr>\n  </tbody>\n</table>\n</div>"
     },
     "metadata": {},
     "output_type": "display_data"
    },
    {
     "name": "stdout",
     "output_type": "stream",
     "text": [
      "Extracted data DF (with renamed columns):\n"
     ]
    },
    {
     "data": {
      "text/plain": "  formula    ys  test_temp grain_size\n0     NbV  14.4        100       None\n1     NbV  24.5        300       None",
      "text/html": "<div>\n<style scoped>\n    .dataframe tbody tr th:only-of-type {\n        vertical-align: middle;\n    }\n\n    .dataframe tbody tr th {\n        vertical-align: top;\n    }\n\n    .dataframe thead th {\n        text-align: right;\n    }\n</style>\n<table border=\"1\" class=\"dataframe\">\n  <thead>\n    <tr style=\"text-align: right;\">\n      <th></th>\n      <th>formula</th>\n      <th>ys</th>\n      <th>test_temp</th>\n      <th>grain_size</th>\n    </tr>\n  </thead>\n  <tbody>\n    <tr>\n      <th>0</th>\n      <td>NbV</td>\n      <td>14.4</td>\n      <td>100</td>\n      <td>None</td>\n    </tr>\n    <tr>\n      <th>1</th>\n      <td>NbV</td>\n      <td>24.5</td>\n      <td>300</td>\n      <td>None</td>\n    </tr>\n  </tbody>\n</table>\n</div>"
     },
     "metadata": {},
     "output_type": "display_data"
    },
    {
     "name": "stdout",
     "output_type": "stream",
     "text": [
      "Required keys: ['formula', 'ys']\n",
      "Other keys to match on: ['test_temp', 'grain_size']\n",
      "\n",
      "Matching rows:\n",
      "---\n",
      "title paper_1\n",
      "original indices [0 1]\n",
      "extracted indices [0 1]\n",
      "Group data df:\n"
     ]
    },
    {
     "data": {
      "text/plain": "  formula    ys  test_temp  grain_size test_type\n0     NbV  14.4        100        25.5    Normal\n1     NbV  24.8        200        34.0    Normal",
      "text/html": "<div>\n<style scoped>\n    .dataframe tbody tr th:only-of-type {\n        vertical-align: middle;\n    }\n\n    .dataframe tbody tr th {\n        vertical-align: top;\n    }\n\n    .dataframe thead th {\n        text-align: right;\n    }\n</style>\n<table border=\"1\" class=\"dataframe\">\n  <thead>\n    <tr style=\"text-align: right;\">\n      <th></th>\n      <th>formula</th>\n      <th>ys</th>\n      <th>test_temp</th>\n      <th>grain_size</th>\n      <th>test_type</th>\n    </tr>\n  </thead>\n  <tbody>\n    <tr>\n      <th>0</th>\n      <td>NbV</td>\n      <td>14.4</td>\n      <td>100</td>\n      <td>25.5</td>\n      <td>Normal</td>\n    </tr>\n    <tr>\n      <th>1</th>\n      <td>NbV</td>\n      <td>24.8</td>\n      <td>200</td>\n      <td>34.0</td>\n      <td>Normal</td>\n    </tr>\n  </tbody>\n</table>\n</div>"
     },
     "metadata": {},
     "output_type": "display_data"
    },
    {
     "name": "stdout",
     "output_type": "stream",
     "text": [
      "Group extracted df:\n"
     ]
    },
    {
     "data": {
      "text/plain": "  formula    ys  test_temp grain_size\n0     NbV  14.4        100       None\n1     NbV  24.5        300       None",
      "text/html": "<div>\n<style scoped>\n    .dataframe tbody tr th:only-of-type {\n        vertical-align: middle;\n    }\n\n    .dataframe tbody tr th {\n        vertical-align: top;\n    }\n\n    .dataframe thead th {\n        text-align: right;\n    }\n</style>\n<table border=\"1\" class=\"dataframe\">\n  <thead>\n    <tr style=\"text-align: right;\">\n      <th></th>\n      <th>formula</th>\n      <th>ys</th>\n      <th>test_temp</th>\n      <th>grain_size</th>\n    </tr>\n  </thead>\n  <tbody>\n    <tr>\n      <th>0</th>\n      <td>NbV</td>\n      <td>14.4</td>\n      <td>100</td>\n      <td>None</td>\n    </tr>\n    <tr>\n      <th>1</th>\n      <td>NbV</td>\n      <td>24.5</td>\n      <td>300</td>\n      <td>None</td>\n    </tr>\n  </tbody>\n</table>\n</div>"
     },
     "metadata": {},
     "output_type": "display_data"
    },
    {
     "name": "stdout",
     "output_type": "stream",
     "text": [
      "[(0, 0, 0.75), (0, 1, 0.0), (1, 0, 0.0), (1, 1, 0.0)]\n",
      "matches:\n",
      "[(0, 0, 0.75)]\n",
      "match df:\n"
     ]
    },
    {
     "data": {
      "text/plain": "   extracted_idx  original_idx  match_strength match_group\n0              0             0            0.75     paper_1",
      "text/html": "<div>\n<style scoped>\n    .dataframe tbody tr th:only-of-type {\n        vertical-align: middle;\n    }\n\n    .dataframe tbody tr th {\n        vertical-align: top;\n    }\n\n    .dataframe thead th {\n        text-align: right;\n    }\n</style>\n<table border=\"1\" class=\"dataframe\">\n  <thead>\n    <tr style=\"text-align: right;\">\n      <th></th>\n      <th>extracted_idx</th>\n      <th>original_idx</th>\n      <th>match_strength</th>\n      <th>match_group</th>\n    </tr>\n  </thead>\n  <tbody>\n    <tr>\n      <th>0</th>\n      <td>0</td>\n      <td>0</td>\n      <td>0.75</td>\n      <td>paper_1</td>\n    </tr>\n  </tbody>\n</table>\n</div>"
     },
     "metadata": {},
     "output_type": "display_data"
    },
    {
     "name": "stdout",
     "output_type": "stream",
     "text": [
      "merged match df:\n"
     ]
    },
    {
     "data": {
      "text/plain": "   extracted_idx  original_idx  match_strength match_group formula_original  test_temp_original  grain_size_original test_type_original  ys_original title_original\n0              0             0            0.75     paper_1              NbV                 100                 25.5             Normal         14.4        paper_1",
      "text/html": "<div>\n<style scoped>\n    .dataframe tbody tr th:only-of-type {\n        vertical-align: middle;\n    }\n\n    .dataframe tbody tr th {\n        vertical-align: top;\n    }\n\n    .dataframe thead th {\n        text-align: right;\n    }\n</style>\n<table border=\"1\" class=\"dataframe\">\n  <thead>\n    <tr style=\"text-align: right;\">\n      <th></th>\n      <th>extracted_idx</th>\n      <th>original_idx</th>\n      <th>match_strength</th>\n      <th>match_group</th>\n      <th>formula_original</th>\n      <th>test_temp_original</th>\n      <th>grain_size_original</th>\n      <th>test_type_original</th>\n      <th>ys_original</th>\n      <th>title_original</th>\n    </tr>\n  </thead>\n  <tbody>\n    <tr>\n      <th>0</th>\n      <td>0</td>\n      <td>0</td>\n      <td>0.75</td>\n      <td>paper_1</td>\n      <td>NbV</td>\n      <td>100</td>\n      <td>25.5</td>\n      <td>Normal</td>\n      <td>14.4</td>\n      <td>paper_1</td>\n    </tr>\n  </tbody>\n</table>\n</div>"
     },
     "metadata": {},
     "output_type": "display_data"
    },
    {
     "name": "stdout",
     "output_type": "stream",
     "text": [
      "second merged match df:\n"
     ]
    },
    {
     "data": {
      "text/plain": "   extracted_idx  original_idx  match_strength match_group formula_original  test_temp_original  grain_size_original test_type_original  ys_original title_original formula_extracted  test_temp_extracted grain_size_extracted  ys_extracted title_extracted\n0              0             0            0.75     paper_1              NbV                 100                 25.5             Normal         14.4        paper_1               NbV                  100                 None          14.4         paper_1",
      "text/html": "<div>\n<style scoped>\n    .dataframe tbody tr th:only-of-type {\n        vertical-align: middle;\n    }\n\n    .dataframe tbody tr th {\n        vertical-align: top;\n    }\n\n    .dataframe thead th {\n        text-align: right;\n    }\n</style>\n<table border=\"1\" class=\"dataframe\">\n  <thead>\n    <tr style=\"text-align: right;\">\n      <th></th>\n      <th>extracted_idx</th>\n      <th>original_idx</th>\n      <th>match_strength</th>\n      <th>match_group</th>\n      <th>formula_original</th>\n      <th>test_temp_original</th>\n      <th>grain_size_original</th>\n      <th>test_type_original</th>\n      <th>ys_original</th>\n      <th>title_original</th>\n      <th>formula_extracted</th>\n      <th>test_temp_extracted</th>\n      <th>grain_size_extracted</th>\n      <th>ys_extracted</th>\n      <th>title_extracted</th>\n    </tr>\n  </thead>\n  <tbody>\n    <tr>\n      <th>0</th>\n      <td>0</td>\n      <td>0</td>\n      <td>0.75</td>\n      <td>paper_1</td>\n      <td>NbV</td>\n      <td>100</td>\n      <td>25.5</td>\n      <td>Normal</td>\n      <td>14.4</td>\n      <td>paper_1</td>\n      <td>NbV</td>\n      <td>100</td>\n      <td>None</td>\n      <td>14.4</td>\n      <td>paper_1</td>\n    </tr>\n  </tbody>\n</table>\n</div>"
     },
     "metadata": {},
     "output_type": "display_data"
    },
    {
     "name": "stdout",
     "output_type": "stream",
     "text": [
      "===\n",
      "   index  extracted_idx  original_idx  match_strength match_group formula_original  test_temp_original  grain_size_original test_type_original  ys_original title_original formula_extracted  test_temp_extracted grain_size_extracted  ys_extracted title_extracted\n",
      "0      0            0.0           0.0            0.75     paper_1              NbV               100.0                 25.5             Normal         14.4        paper_1               NbV                100.0                 None          14.4         paper_1\n",
      "1      1            NaN           1.0             NaN     paper_1              NbV               200.0                 34.0             Normal         24.8        paper_1               NaN                  NaN                  NaN           NaN             NaN\n",
      "2      1            1.0           NaN             NaN     paper_1              NaN                 NaN                  NaN                NaN          NaN            NaN               NbV                300.0                 None          24.5         paper_1\n"
     ]
    }
   ]
  },
  {
   "cell_type": "markdown",
   "source": [
    "#### Real data"
   ],
   "metadata": {
    "id": "5Sxvae14WriY"
   }
  },
  {
   "cell_type": "code",
   "source": [
    "# These have to be a match\n",
    "required_keys = ['normalized_formula', # I added this to both dfs up above in the unique records section\n",
    "                 'PROPERTY: YS (MPa)']\n",
    "\n",
    "# These should be a match but it isn't the end of the world if they aren't\n",
    "other_keys =[ 'PROPERTY: Microstructure',\n",
    "              'PROPERTY: Processing method',\n",
    "              'PROPERTY: BCC/FCC/other',\n",
    "              'PROPERTY: grain size ($\\mu$m)',\n",
    "              'PROPERTY: Type of test',\n",
    "              'PROPERTY: Test temperature ($^\\circ$C)']\n",
    "\n",
    "\n",
    "df_result = align_dfs(data_df=filtered_paper_df,\n",
    "                  extracted_df=extraction_df,\n",
    "                  required_keys=required_keys,\n",
    "                  other_keys=other_keys,\n",
    "                  extracted_to_data_colmap=inverted_colname_map,\n",
    "                  group_by=('processed_doi', 'REFERENCE: doi'),\n",
    "                  discard_nonextracted_keys=True,\n",
    "                  # verbose=True,\n",
    "                  # debug_group_count=1,\n",
    "                  # debug_group_skip=1,\n",
    "                  # debug_group_filter = lambda df: np.any(df['PROPERTY: YS (MPa)'].notnull())\n",
    "                  )\n",
    "\n",
    "\n",
    "\n",
    "display(df_result)"
   ],
   "metadata": {
    "colab": {
     "base_uri": "https://localhost:8080/",
     "height": 912
    },
    "id": "wgIUzqE2WU0M",
    "executionInfo": {
     "status": "ok",
     "timestamp": 1707858754965,
     "user_tz": 300,
     "elapsed": 1692,
     "user": {
      "displayName": "Satanu Ghosh",
      "userId": "07683061709303200546"
     }
    },
    "outputId": "fbfe59f6-c974-490d-a5f3-2e37c411fa71",
    "ExecuteTime": {
     "end_time": "2024-05-20T19:58:17.651786900Z",
     "start_time": "2024-05-20T19:58:16.306294Z"
    }
   },
   "execution_count": 106,
   "outputs": [
    {
     "data": {
      "text/plain": "      index  extracted_idx  original_idx  match_strength                             match_group  IDENTIFIER: Reference ID_original                                FORMULA_original PROPERTY: Microstructure_original PROPERTY: Processing method_original PROPERTY: BCC/FCC/other_original  \\\n0       355            NaN         355.0             NaN                  10.1002.adem.200300567                               15.0  Fe0.167 Mo0.167 Ni0.167 Ti0.167 V0.167 Zr0.167                          BCC+Sec.                                 CAST                            other   \n1       201          201.0           NaN             NaN                  10.1002.adem.200300567                                NaN                                             NaN                               NaN                                  NaN                              NaN   \n2       202          202.0           NaN             NaN                  10.1002.adem.200300567                                NaN                                             NaN                               NaN                                  NaN                              NaN   \n3       203          203.0           NaN             NaN                  10.1002.adem.200300567                                NaN                                             NaN                               NaN                                  NaN                              NaN   \n4       204          204.0           NaN             NaN                  10.1002.adem.200300567                                NaN                                             NaN                               NaN                                  NaN                              NaN   \n...     ...            ...           ...             ...                                     ...                                ...                                             ...                               ...                                  ...                              ...   \n1550      1          485.0          11.0             0.5  10.4028.www.scientific.net.MSF.898.638                               86.0          Al0.048 Mo0.238 Ta0.238 Ti0.238 V0.238                               BCC                                 CAST                              BCC   \n1551      2          486.0         120.0             0.5  10.4028.www.scientific.net.MSF.898.638                               86.0           Al0.13 Mo0.217 Ta0.217 Ti0.217 V0.217                               BCC                                 CAST                              BCC   \n1552    196            NaN         196.0             NaN  10.4028.www.scientific.net.MSF.898.638                               86.0                    Al0.2 Mo0.2 Ta0.2 Ti0.2 V0.2                               BCC                                 CAST                              BCC   \n1553    483          483.0           NaN             NaN  10.4028.www.scientific.net.MSF.898.638                                NaN                                             NaN                               NaN                                  NaN                              NaN   \n1554    487          487.0           NaN             NaN  10.4028.www.scientific.net.MSF.898.638                                NaN                                             NaN                               NaN                                  NaN                              NaN   \n\n      PROPERTY: grain size ($\\mu$m)_original  PROPERTY: Exp. Density (g/cm$^3$)_original  PROPERTY: Computed Density (g/cm$^3$)_original  PROPERTY: HV_original PROPERTY: Type of test_original  PROPERTY: Test temperature ($^\\circ$C)_original  PROPERTY: YS (MPa)_original  \\\n0                                        NaN                                         NaN                                             7.4                  740.0                             NaN                                             25.0                          NaN   \n1                                        NaN                                         NaN                                             NaN                    NaN                             NaN                                              NaN                          NaN   \n2                                        NaN                                         NaN                                             NaN                    NaN                             NaN                                              NaN                          NaN   \n3                                        NaN                                         NaN                                             NaN                    NaN                             NaN                                              NaN                          NaN   \n4                                        NaN                                         NaN                                             NaN                    NaN                             NaN                                              NaN                          NaN   \n...                                      ...                                         ...                                             ...                    ...                             ...                                              ...                          ...   \n1550                                     NaN                                         NaN                                             9.1                    NaN                               C                                             25.0                       1021.0   \n1551                                     NaN                                         NaN                                             8.5                    NaN                               C                                             25.0                        962.0   \n1552                                     NaN                                         NaN                                             8.0                    NaN                               C                                             25.0                          NaN   \n1553                                     NaN                                         NaN                                             NaN                    NaN                             NaN                                              NaN                          NaN   \n1554                                     NaN                                         NaN                                             NaN                    NaN                             NaN                                              NaN                          NaN   \n\n      PROPERTY: UTS (MPa)_original  PROPERTY: Elongation (%)_original  PROPERTY: Elongation plastic (%)_original  PROPERTY: Exp. Young modulus (GPa)_original  PROPERTY: Computed Young modulus (GPa)_original  PROPERTY: O content (wppm)_original  PROPERTY: N content (wppm)_original  \\\n0                              NaN                                NaN                                        NaN                                          NaN                                            175.0                                  NaN                                  NaN   \n1                              NaN                                NaN                                        NaN                                          NaN                                              NaN                                  NaN                                  NaN   \n2                              NaN                                NaN                                        NaN                                          NaN                                              NaN                                  NaN                                  NaN   \n3                              NaN                                NaN                                        NaN                                          NaN                                              NaN                                  NaN                                  NaN   \n4                              NaN                                NaN                                        NaN                                          NaN                                              NaN                                  NaN                                  NaN   \n...                            ...                                ...                                        ...                                          ...                                              ...                                  ...                                  ...   \n1550                        1249.0                                NaN                                        NaN                                          NaN                                            184.0                                  NaN                                  NaN   \n1551                        1033.0                                NaN                                        NaN                                          NaN                                            174.0                                  NaN                                  NaN   \n1552                         735.0                                NaN                                        NaN                                          NaN                                            166.0                                  NaN                                  NaN   \n1553                           NaN                                NaN                                        NaN                                          NaN                                              NaN                                  NaN                                  NaN   \n1554                           NaN                                NaN                                        NaN                                          NaN                                              NaN                                  NaN                                  NaN   \n\n      PROPERTY: C content (wppm)_original                 REFERENCE: doi_original  REFERENCE: year_original                          REFERENCE: title_original                  processed_doi_original                normalized_formula_original    FORMULA_extracted  PROPERTY: YS (MPa)_extracted  \\\n0                                     NaN                  10.1002/adem.200300567                    2004.0  Nanostructured High-Entropy Alloys with Multip...                  10.1002.adem.200300567  Fe0.167Mo0.167Ni0.167Ti0.167V0.167Zr0.167                  NaN                           NaN   \n1                                     NaN                                     NaN                       NaN                                                NaN                                     NaN                                        NaN  CuCoNiCrAlFeMoTiVZr                           0.0   \n2                                     NaN                                     NaN                       NaN                                                NaN                                     NaN                                        NaN      CuCoNiCrAl x Fe                           0.0   \n3                                     NaN                                     NaN                       NaN                                                NaN                                     NaN                                        NaN    CuCoNiCrAl 0.5 Fe                           0.0   \n4                                     NaN                                     NaN                       NaN                                                NaN                                     NaN                                        NaN      CuCoNiCrAlFeTiV                           0.0   \n...                                   ...                                     ...                       ...                                                ...                                     ...                                        ...                  ...                           ...   \n1550                                  NaN  10.4028/www.scientific.net/MSF.898.638                    2017.0  Microstructure and Mechanical Properties of VT...  10.4028.www.scientific.net.MSF.898.638         Al0.048Mo0.238Ta0.238Ti0.238V0.238         VTaTiMoAl0.2                        1021.0   \n1551                                  NaN  10.4028/www.scientific.net/MSF.898.638                    2017.0  Microstructure and Mechanical Properties of VT...  10.4028.www.scientific.net.MSF.898.638          Al0.13Mo0.217Ta0.217Ti0.217V0.217         VTaTiMoAl0.6                         962.0   \n1552                                  NaN  10.4028/www.scientific.net/MSF.898.638                    2017.0  Microstructure and Mechanical Properties of VT...  10.4028.www.scientific.net.MSF.898.638                   Al0.2Mo0.2Ta0.2Ti0.2V0.2                  NaN                           NaN   \n1553                                  NaN                                     NaN                       NaN                                                NaN                                     NaN                                        NaN           VTaTiMoAlx                        1221.0   \n1554                                  NaN                                     NaN                       NaN                                                NaN                                     NaN                                        NaN           VTaTiMoAl1                           0.0   \n\n      PROPERTY: grain size ($\\mu$m)_extracted  PROPERTY: Exp. Density (g/cm$^3$)_extracted  PROPERTY: HV_extracted  PROPERTY: Test temperature ($^\\circ$C)_extracted  PROPERTY: UTS (MPa)_extracted  PROPERTY: Elongation (%)_extracted  PROPERTY: Elongation plastic (%)_extracted  \\\n0                                         NaN                                          NaN                     NaN                                               NaN                            NaN                                 NaN                                         NaN   \n1                                         0.0                                          0.0                     0.0                                               0.0                            0.0                                0.00                                         0.0   \n2                                         0.0                                          0.0                     0.0                                               0.0                            0.0                                0.00                                         0.0   \n3                                         0.0                                          0.0                     0.0                                             800.0                            0.0                                0.00                                         0.0   \n4                                         0.8                                          0.0                     0.0                                               0.0                            0.0                                0.00                                         0.0   \n...                                       ...                                          ...                     ...                                               ...                            ...                                 ...                                         ...   \n1550                                      0.0                                          0.0                   450.0                                               0.0                         1249.0                                6.81                                         0.0   \n1551                                      0.0                                          0.0                   483.3                                               0.0                         1033.0                                4.20                                         0.0   \n1552                                      NaN                                          NaN                     NaN                                               NaN                            NaN                                 NaN                                         NaN   \n1553                                      0.0                                          0.0                     0.0                                               0.0                            0.0                                9.91                                         0.0   \n1554                                      0.0                                          0.0                   509.5                                               0.0                          735.0                                0.00                                         0.0   \n\n                    REFERENCE: doi_extracted                       normalized_formula_extracted  \n0                                        NaN                                                NaN  \n1                     10.1002.adem.200300567  Al0.1Co0.1Cr0.1Cu0.1Fe0.1Mo0.1Ni0.1Ti0.1V0.1Zr0.1  \n2                     10.1002.adem.200300567                                               None  \n3                     10.1002.adem.200300567         Al0.091Co0.182Cr0.182Cu0.182Fe0.182Ni0.182  \n4                     10.1002.adem.200300567  Al0.125Co0.125Cr0.125Cu0.125Fe0.125Ni0.125Ti0....  \n...                                      ...                                                ...  \n1550  10.4028.www.scientific.net.MSF.898.638                 Al0.048Mo0.238Ta0.238Ti0.238V0.238  \n1551  10.4028.www.scientific.net.MSF.898.638                  Al0.13Mo0.217Ta0.217Ti0.217V0.217  \n1552                                     NaN                                                NaN  \n1553  10.4028.www.scientific.net.MSF.898.638                                               None  \n1554  10.4028.www.scientific.net.MSF.898.638                           Al0.2Mo0.2Ta0.2Ti0.2V0.2  \n\n[1555 rows x 41 columns]",
      "text/html": "<div>\n<style scoped>\n    .dataframe tbody tr th:only-of-type {\n        vertical-align: middle;\n    }\n\n    .dataframe tbody tr th {\n        vertical-align: top;\n    }\n\n    .dataframe thead th {\n        text-align: right;\n    }\n</style>\n<table border=\"1\" class=\"dataframe\">\n  <thead>\n    <tr style=\"text-align: right;\">\n      <th></th>\n      <th>index</th>\n      <th>extracted_idx</th>\n      <th>original_idx</th>\n      <th>match_strength</th>\n      <th>match_group</th>\n      <th>IDENTIFIER: Reference ID_original</th>\n      <th>FORMULA_original</th>\n      <th>PROPERTY: Microstructure_original</th>\n      <th>PROPERTY: Processing method_original</th>\n      <th>PROPERTY: BCC/FCC/other_original</th>\n      <th>PROPERTY: grain size ($\\mu$m)_original</th>\n      <th>PROPERTY: Exp. Density (g/cm$^3$)_original</th>\n      <th>PROPERTY: Computed Density (g/cm$^3$)_original</th>\n      <th>PROPERTY: HV_original</th>\n      <th>PROPERTY: Type of test_original</th>\n      <th>PROPERTY: Test temperature ($^\\circ$C)_original</th>\n      <th>PROPERTY: YS (MPa)_original</th>\n      <th>PROPERTY: UTS (MPa)_original</th>\n      <th>PROPERTY: Elongation (%)_original</th>\n      <th>PROPERTY: Elongation plastic (%)_original</th>\n      <th>PROPERTY: Exp. Young modulus (GPa)_original</th>\n      <th>PROPERTY: Computed Young modulus (GPa)_original</th>\n      <th>PROPERTY: O content (wppm)_original</th>\n      <th>PROPERTY: N content (wppm)_original</th>\n      <th>PROPERTY: C content (wppm)_original</th>\n      <th>REFERENCE: doi_original</th>\n      <th>REFERENCE: year_original</th>\n      <th>REFERENCE: title_original</th>\n      <th>processed_doi_original</th>\n      <th>normalized_formula_original</th>\n      <th>FORMULA_extracted</th>\n      <th>PROPERTY: YS (MPa)_extracted</th>\n      <th>PROPERTY: grain size ($\\mu$m)_extracted</th>\n      <th>PROPERTY: Exp. Density (g/cm$^3$)_extracted</th>\n      <th>PROPERTY: HV_extracted</th>\n      <th>PROPERTY: Test temperature ($^\\circ$C)_extracted</th>\n      <th>PROPERTY: UTS (MPa)_extracted</th>\n      <th>PROPERTY: Elongation (%)_extracted</th>\n      <th>PROPERTY: Elongation plastic (%)_extracted</th>\n      <th>REFERENCE: doi_extracted</th>\n      <th>normalized_formula_extracted</th>\n    </tr>\n  </thead>\n  <tbody>\n    <tr>\n      <th>0</th>\n      <td>355</td>\n      <td>NaN</td>\n      <td>355.0</td>\n      <td>NaN</td>\n      <td>10.1002.adem.200300567</td>\n      <td>15.0</td>\n      <td>Fe0.167 Mo0.167 Ni0.167 Ti0.167 V0.167 Zr0.167</td>\n      <td>BCC+Sec.</td>\n      <td>CAST</td>\n      <td>other</td>\n      <td>NaN</td>\n      <td>NaN</td>\n      <td>7.4</td>\n      <td>740.0</td>\n      <td>NaN</td>\n      <td>25.0</td>\n      <td>NaN</td>\n      <td>NaN</td>\n      <td>NaN</td>\n      <td>NaN</td>\n      <td>NaN</td>\n      <td>175.0</td>\n      <td>NaN</td>\n      <td>NaN</td>\n      <td>NaN</td>\n      <td>10.1002/adem.200300567</td>\n      <td>2004.0</td>\n      <td>Nanostructured High-Entropy Alloys with Multip...</td>\n      <td>10.1002.adem.200300567</td>\n      <td>Fe0.167Mo0.167Ni0.167Ti0.167V0.167Zr0.167</td>\n      <td>NaN</td>\n      <td>NaN</td>\n      <td>NaN</td>\n      <td>NaN</td>\n      <td>NaN</td>\n      <td>NaN</td>\n      <td>NaN</td>\n      <td>NaN</td>\n      <td>NaN</td>\n      <td>NaN</td>\n      <td>NaN</td>\n    </tr>\n    <tr>\n      <th>1</th>\n      <td>201</td>\n      <td>201.0</td>\n      <td>NaN</td>\n      <td>NaN</td>\n      <td>10.1002.adem.200300567</td>\n      <td>NaN</td>\n      <td>NaN</td>\n      <td>NaN</td>\n      <td>NaN</td>\n      <td>NaN</td>\n      <td>NaN</td>\n      <td>NaN</td>\n      <td>NaN</td>\n      <td>NaN</td>\n      <td>NaN</td>\n      <td>NaN</td>\n      <td>NaN</td>\n      <td>NaN</td>\n      <td>NaN</td>\n      <td>NaN</td>\n      <td>NaN</td>\n      <td>NaN</td>\n      <td>NaN</td>\n      <td>NaN</td>\n      <td>NaN</td>\n      <td>NaN</td>\n      <td>NaN</td>\n      <td>NaN</td>\n      <td>NaN</td>\n      <td>NaN</td>\n      <td>CuCoNiCrAlFeMoTiVZr</td>\n      <td>0.0</td>\n      <td>0.0</td>\n      <td>0.0</td>\n      <td>0.0</td>\n      <td>0.0</td>\n      <td>0.0</td>\n      <td>0.00</td>\n      <td>0.0</td>\n      <td>10.1002.adem.200300567</td>\n      <td>Al0.1Co0.1Cr0.1Cu0.1Fe0.1Mo0.1Ni0.1Ti0.1V0.1Zr0.1</td>\n    </tr>\n    <tr>\n      <th>2</th>\n      <td>202</td>\n      <td>202.0</td>\n      <td>NaN</td>\n      <td>NaN</td>\n      <td>10.1002.adem.200300567</td>\n      <td>NaN</td>\n      <td>NaN</td>\n      <td>NaN</td>\n      <td>NaN</td>\n      <td>NaN</td>\n      <td>NaN</td>\n      <td>NaN</td>\n      <td>NaN</td>\n      <td>NaN</td>\n      <td>NaN</td>\n      <td>NaN</td>\n      <td>NaN</td>\n      <td>NaN</td>\n      <td>NaN</td>\n      <td>NaN</td>\n      <td>NaN</td>\n      <td>NaN</td>\n      <td>NaN</td>\n      <td>NaN</td>\n      <td>NaN</td>\n      <td>NaN</td>\n      <td>NaN</td>\n      <td>NaN</td>\n      <td>NaN</td>\n      <td>NaN</td>\n      <td>CuCoNiCrAl x Fe</td>\n      <td>0.0</td>\n      <td>0.0</td>\n      <td>0.0</td>\n      <td>0.0</td>\n      <td>0.0</td>\n      <td>0.0</td>\n      <td>0.00</td>\n      <td>0.0</td>\n      <td>10.1002.adem.200300567</td>\n      <td>None</td>\n    </tr>\n    <tr>\n      <th>3</th>\n      <td>203</td>\n      <td>203.0</td>\n      <td>NaN</td>\n      <td>NaN</td>\n      <td>10.1002.adem.200300567</td>\n      <td>NaN</td>\n      <td>NaN</td>\n      <td>NaN</td>\n      <td>NaN</td>\n      <td>NaN</td>\n      <td>NaN</td>\n      <td>NaN</td>\n      <td>NaN</td>\n      <td>NaN</td>\n      <td>NaN</td>\n      <td>NaN</td>\n      <td>NaN</td>\n      <td>NaN</td>\n      <td>NaN</td>\n      <td>NaN</td>\n      <td>NaN</td>\n      <td>NaN</td>\n      <td>NaN</td>\n      <td>NaN</td>\n      <td>NaN</td>\n      <td>NaN</td>\n      <td>NaN</td>\n      <td>NaN</td>\n      <td>NaN</td>\n      <td>NaN</td>\n      <td>CuCoNiCrAl 0.5 Fe</td>\n      <td>0.0</td>\n      <td>0.0</td>\n      <td>0.0</td>\n      <td>0.0</td>\n      <td>800.0</td>\n      <td>0.0</td>\n      <td>0.00</td>\n      <td>0.0</td>\n      <td>10.1002.adem.200300567</td>\n      <td>Al0.091Co0.182Cr0.182Cu0.182Fe0.182Ni0.182</td>\n    </tr>\n    <tr>\n      <th>4</th>\n      <td>204</td>\n      <td>204.0</td>\n      <td>NaN</td>\n      <td>NaN</td>\n      <td>10.1002.adem.200300567</td>\n      <td>NaN</td>\n      <td>NaN</td>\n      <td>NaN</td>\n      <td>NaN</td>\n      <td>NaN</td>\n      <td>NaN</td>\n      <td>NaN</td>\n      <td>NaN</td>\n      <td>NaN</td>\n      <td>NaN</td>\n      <td>NaN</td>\n      <td>NaN</td>\n      <td>NaN</td>\n      <td>NaN</td>\n      <td>NaN</td>\n      <td>NaN</td>\n      <td>NaN</td>\n      <td>NaN</td>\n      <td>NaN</td>\n      <td>NaN</td>\n      <td>NaN</td>\n      <td>NaN</td>\n      <td>NaN</td>\n      <td>NaN</td>\n      <td>NaN</td>\n      <td>CuCoNiCrAlFeTiV</td>\n      <td>0.0</td>\n      <td>0.8</td>\n      <td>0.0</td>\n      <td>0.0</td>\n      <td>0.0</td>\n      <td>0.0</td>\n      <td>0.00</td>\n      <td>0.0</td>\n      <td>10.1002.adem.200300567</td>\n      <td>Al0.125Co0.125Cr0.125Cu0.125Fe0.125Ni0.125Ti0....</td>\n    </tr>\n    <tr>\n      <th>...</th>\n      <td>...</td>\n      <td>...</td>\n      <td>...</td>\n      <td>...</td>\n      <td>...</td>\n      <td>...</td>\n      <td>...</td>\n      <td>...</td>\n      <td>...</td>\n      <td>...</td>\n      <td>...</td>\n      <td>...</td>\n      <td>...</td>\n      <td>...</td>\n      <td>...</td>\n      <td>...</td>\n      <td>...</td>\n      <td>...</td>\n      <td>...</td>\n      <td>...</td>\n      <td>...</td>\n      <td>...</td>\n      <td>...</td>\n      <td>...</td>\n      <td>...</td>\n      <td>...</td>\n      <td>...</td>\n      <td>...</td>\n      <td>...</td>\n      <td>...</td>\n      <td>...</td>\n      <td>...</td>\n      <td>...</td>\n      <td>...</td>\n      <td>...</td>\n      <td>...</td>\n      <td>...</td>\n      <td>...</td>\n      <td>...</td>\n      <td>...</td>\n      <td>...</td>\n    </tr>\n    <tr>\n      <th>1550</th>\n      <td>1</td>\n      <td>485.0</td>\n      <td>11.0</td>\n      <td>0.5</td>\n      <td>10.4028.www.scientific.net.MSF.898.638</td>\n      <td>86.0</td>\n      <td>Al0.048 Mo0.238 Ta0.238 Ti0.238 V0.238</td>\n      <td>BCC</td>\n      <td>CAST</td>\n      <td>BCC</td>\n      <td>NaN</td>\n      <td>NaN</td>\n      <td>9.1</td>\n      <td>NaN</td>\n      <td>C</td>\n      <td>25.0</td>\n      <td>1021.0</td>\n      <td>1249.0</td>\n      <td>NaN</td>\n      <td>NaN</td>\n      <td>NaN</td>\n      <td>184.0</td>\n      <td>NaN</td>\n      <td>NaN</td>\n      <td>NaN</td>\n      <td>10.4028/www.scientific.net/MSF.898.638</td>\n      <td>2017.0</td>\n      <td>Microstructure and Mechanical Properties of VT...</td>\n      <td>10.4028.www.scientific.net.MSF.898.638</td>\n      <td>Al0.048Mo0.238Ta0.238Ti0.238V0.238</td>\n      <td>VTaTiMoAl0.2</td>\n      <td>1021.0</td>\n      <td>0.0</td>\n      <td>0.0</td>\n      <td>450.0</td>\n      <td>0.0</td>\n      <td>1249.0</td>\n      <td>6.81</td>\n      <td>0.0</td>\n      <td>10.4028.www.scientific.net.MSF.898.638</td>\n      <td>Al0.048Mo0.238Ta0.238Ti0.238V0.238</td>\n    </tr>\n    <tr>\n      <th>1551</th>\n      <td>2</td>\n      <td>486.0</td>\n      <td>120.0</td>\n      <td>0.5</td>\n      <td>10.4028.www.scientific.net.MSF.898.638</td>\n      <td>86.0</td>\n      <td>Al0.13 Mo0.217 Ta0.217 Ti0.217 V0.217</td>\n      <td>BCC</td>\n      <td>CAST</td>\n      <td>BCC</td>\n      <td>NaN</td>\n      <td>NaN</td>\n      <td>8.5</td>\n      <td>NaN</td>\n      <td>C</td>\n      <td>25.0</td>\n      <td>962.0</td>\n      <td>1033.0</td>\n      <td>NaN</td>\n      <td>NaN</td>\n      <td>NaN</td>\n      <td>174.0</td>\n      <td>NaN</td>\n      <td>NaN</td>\n      <td>NaN</td>\n      <td>10.4028/www.scientific.net/MSF.898.638</td>\n      <td>2017.0</td>\n      <td>Microstructure and Mechanical Properties of VT...</td>\n      <td>10.4028.www.scientific.net.MSF.898.638</td>\n      <td>Al0.13Mo0.217Ta0.217Ti0.217V0.217</td>\n      <td>VTaTiMoAl0.6</td>\n      <td>962.0</td>\n      <td>0.0</td>\n      <td>0.0</td>\n      <td>483.3</td>\n      <td>0.0</td>\n      <td>1033.0</td>\n      <td>4.20</td>\n      <td>0.0</td>\n      <td>10.4028.www.scientific.net.MSF.898.638</td>\n      <td>Al0.13Mo0.217Ta0.217Ti0.217V0.217</td>\n    </tr>\n    <tr>\n      <th>1552</th>\n      <td>196</td>\n      <td>NaN</td>\n      <td>196.0</td>\n      <td>NaN</td>\n      <td>10.4028.www.scientific.net.MSF.898.638</td>\n      <td>86.0</td>\n      <td>Al0.2 Mo0.2 Ta0.2 Ti0.2 V0.2</td>\n      <td>BCC</td>\n      <td>CAST</td>\n      <td>BCC</td>\n      <td>NaN</td>\n      <td>NaN</td>\n      <td>8.0</td>\n      <td>NaN</td>\n      <td>C</td>\n      <td>25.0</td>\n      <td>NaN</td>\n      <td>735.0</td>\n      <td>NaN</td>\n      <td>NaN</td>\n      <td>NaN</td>\n      <td>166.0</td>\n      <td>NaN</td>\n      <td>NaN</td>\n      <td>NaN</td>\n      <td>10.4028/www.scientific.net/MSF.898.638</td>\n      <td>2017.0</td>\n      <td>Microstructure and Mechanical Properties of VT...</td>\n      <td>10.4028.www.scientific.net.MSF.898.638</td>\n      <td>Al0.2Mo0.2Ta0.2Ti0.2V0.2</td>\n      <td>NaN</td>\n      <td>NaN</td>\n      <td>NaN</td>\n      <td>NaN</td>\n      <td>NaN</td>\n      <td>NaN</td>\n      <td>NaN</td>\n      <td>NaN</td>\n      <td>NaN</td>\n      <td>NaN</td>\n      <td>NaN</td>\n    </tr>\n    <tr>\n      <th>1553</th>\n      <td>483</td>\n      <td>483.0</td>\n      <td>NaN</td>\n      <td>NaN</td>\n      <td>10.4028.www.scientific.net.MSF.898.638</td>\n      <td>NaN</td>\n      <td>NaN</td>\n      <td>NaN</td>\n      <td>NaN</td>\n      <td>NaN</td>\n      <td>NaN</td>\n      <td>NaN</td>\n      <td>NaN</td>\n      <td>NaN</td>\n      <td>NaN</td>\n      <td>NaN</td>\n      <td>NaN</td>\n      <td>NaN</td>\n      <td>NaN</td>\n      <td>NaN</td>\n      <td>NaN</td>\n      <td>NaN</td>\n      <td>NaN</td>\n      <td>NaN</td>\n      <td>NaN</td>\n      <td>NaN</td>\n      <td>NaN</td>\n      <td>NaN</td>\n      <td>NaN</td>\n      <td>NaN</td>\n      <td>VTaTiMoAlx</td>\n      <td>1221.0</td>\n      <td>0.0</td>\n      <td>0.0</td>\n      <td>0.0</td>\n      <td>0.0</td>\n      <td>0.0</td>\n      <td>9.91</td>\n      <td>0.0</td>\n      <td>10.4028.www.scientific.net.MSF.898.638</td>\n      <td>None</td>\n    </tr>\n    <tr>\n      <th>1554</th>\n      <td>487</td>\n      <td>487.0</td>\n      <td>NaN</td>\n      <td>NaN</td>\n      <td>10.4028.www.scientific.net.MSF.898.638</td>\n      <td>NaN</td>\n      <td>NaN</td>\n      <td>NaN</td>\n      <td>NaN</td>\n      <td>NaN</td>\n      <td>NaN</td>\n      <td>NaN</td>\n      <td>NaN</td>\n      <td>NaN</td>\n      <td>NaN</td>\n      <td>NaN</td>\n      <td>NaN</td>\n      <td>NaN</td>\n      <td>NaN</td>\n      <td>NaN</td>\n      <td>NaN</td>\n      <td>NaN</td>\n      <td>NaN</td>\n      <td>NaN</td>\n      <td>NaN</td>\n      <td>NaN</td>\n      <td>NaN</td>\n      <td>NaN</td>\n      <td>NaN</td>\n      <td>NaN</td>\n      <td>VTaTiMoAl1</td>\n      <td>0.0</td>\n      <td>0.0</td>\n      <td>0.0</td>\n      <td>509.5</td>\n      <td>0.0</td>\n      <td>735.0</td>\n      <td>0.00</td>\n      <td>0.0</td>\n      <td>10.4028.www.scientific.net.MSF.898.638</td>\n      <td>Al0.2Mo0.2Ta0.2Ti0.2V0.2</td>\n    </tr>\n  </tbody>\n</table>\n<p>1555 rows × 41 columns</p>\n</div>"
     },
     "metadata": {},
     "output_type": "display_data"
    }
   ]
  },
  {
   "cell_type": "markdown",
   "source": [
    "##### Looking at matched rows"
   ],
   "metadata": {
    "id": "hv0KUzftxpW9"
   }
  },
  {
   "cell_type": "code",
   "source": [
    "match_df = df_result[df_result['original_idx'].notnull() & df_result['extracted_idx'].notnull()]\n",
    "print(match_df.shape)\n",
    "display(match_df)"
   ],
   "metadata": {
    "colab": {
     "base_uri": "https://localhost:8080/",
     "height": 947
    },
    "id": "NNJFPoR7abL9",
    "executionInfo": {
     "status": "ok",
     "timestamp": 1707858754966,
     "user_tz": 300,
     "elapsed": 111,
     "user": {
      "displayName": "Satanu Ghosh",
      "userId": "07683061709303200546"
     }
    },
    "outputId": "ee1dc48b-5b6c-48cd-a2d5-9f5c28f220c9",
    "ExecuteTime": {
     "end_time": "2024-05-20T19:58:23.761322Z",
     "start_time": "2024-05-20T19:58:23.656805500Z"
    }
   },
   "execution_count": 107,
   "outputs": [
    {
     "name": "stdout",
     "output_type": "stream",
     "text": [
      "(192, 41)\n"
     ]
    },
    {
     "data": {
      "text/plain": "      index  extracted_idx  original_idx  match_strength                             match_group  IDENTIFIER: Reference ID_original                                FORMULA_original PROPERTY: Microstructure_original PROPERTY: Processing method_original PROPERTY: BCC/FCC/other_original  \\\n8         0          488.0         823.0            0.75                  10.1002.adem.202100765                                5.0                      Mo0.25 Re0.25 Ta0.25 W0.25                               BCC                                 CAST                              BCC   \n23        0           47.0         639.0            0.50               10.1007.s00339-019-2484-1                               15.0                         Hf0.333 Ti0.333 Zr0.333                             Other                                 CAST                            other   \n24        1           48.0         621.0            0.50               10.1007.s00339-019-2484-1                               15.0                     Hf0.25 Sc0.25 Ti0.25 Zr0.25                             Other                                 CAST                            other   \n25        2           49.0         625.0            0.50               10.1007.s00339-019-2484-1                               15.0                      Hf0.25 Ti0.25 Y0.25 Zr0.25                             Other                                 CAST                            other   \n26        3           50.0         569.0            0.50               10.1007.s00339-019-2484-1                               15.0                    Hf0.2 Sc0.2 Ti0.2 Y0.2 Zr0.2                             Other                                 CAST                            other   \n...     ...            ...           ...             ...                                     ...                                ...                                             ...                               ...                                  ...                              ...   \n1541      0          769.0         422.0            0.50   10.4028.www.scientific.net.MSF.849.76                               78.0  Hf0.182 Nb0.182 Si0.091 Ti0.182 V0.182 Zr0.182                    BCC+Laves+Sec.                                 CAST                            other   \n1542      1          771.0         427.0            0.50   10.4028.www.scientific.net.MSF.849.76                               78.0  Hf0.182 Nb0.182 Si0.091 Ti0.182 V0.182 Zr0.182                    BCC+Laves+Sec.                                 CAST                            other   \n1549      0          484.0         824.0            0.50  10.4028.www.scientific.net.MSF.898.638                               86.0                      Mo0.25 Ta0.25 Ti0.25 V0.25                               BCC                                 CAST                              BCC   \n1550      1          485.0          11.0            0.50  10.4028.www.scientific.net.MSF.898.638                               86.0          Al0.048 Mo0.238 Ta0.238 Ti0.238 V0.238                               BCC                                 CAST                              BCC   \n1551      2          486.0         120.0            0.50  10.4028.www.scientific.net.MSF.898.638                               86.0           Al0.13 Mo0.217 Ta0.217 Ti0.217 V0.217                               BCC                                 CAST                              BCC   \n\n      PROPERTY: grain size ($\\mu$m)_original  PROPERTY: Exp. Density (g/cm$^3$)_original  PROPERTY: Computed Density (g/cm$^3$)_original  PROPERTY: HV_original PROPERTY: Type of test_original  PROPERTY: Test temperature ($^\\circ$C)_original  PROPERTY: YS (MPa)_original  \\\n8                                        NaN                                         NaN                                            16.8                    NaN                               C                                           1600.0                        172.0   \n23                                       NaN                                         NaN                                             8.1                  211.0                               C                                             25.0                        773.0   \n24                                       NaN                                         NaN                                             6.8                  233.0                               C                                             25.0                       1001.0   \n25                                       NaN                                         NaN                                             7.2                  241.0                               C                                             25.0                        554.0   \n26                                       NaN                                         NaN                                             6.4                  256.0                               C                                             25.0                        793.0   \n...                                      ...                                         ...                                             ...                    ...                             ...                                              ...                          ...   \n1541                                     NaN                                         NaN                                             7.3                    NaN                               C                                             25.0                       1540.0   \n1542                                     NaN                                         NaN                                             7.3                    NaN                               C                                            800.0                        371.0   \n1549                                     NaN                                         NaN                                             9.4                    NaN                               C                                             25.0                       1221.0   \n1550                                     NaN                                         NaN                                             9.1                    NaN                               C                                             25.0                       1021.0   \n1551                                     NaN                                         NaN                                             8.5                    NaN                               C                                             25.0                        962.0   \n\n      PROPERTY: UTS (MPa)_original  PROPERTY: Elongation (%)_original  PROPERTY: Elongation plastic (%)_original  PROPERTY: Exp. Young modulus (GPa)_original  PROPERTY: Computed Young modulus (GPa)_original  PROPERTY: O content (wppm)_original  PROPERTY: N content (wppm)_original  \\\n8                              NaN                                NaN                                        NaN                                          NaN                                            347.0                                  NaN                                  NaN   \n23                             NaN                               17.0                                        NaN                                          NaN                                             87.0                                  NaN                                  NaN   \n24                             NaN                               21.9                                        NaN                                          NaN                                             84.0                                  NaN                                  NaN   \n25                             NaN                               17.7                                        NaN                                          NaN                                             82.0                                  NaN                                  NaN   \n26                             NaN                               15.7                                        NaN                                          NaN                                             80.0                                  NaN                                  NaN   \n...                            ...                                ...                                        ...                                          ...                                              ...                                  ...                                  ...   \n1541                        1643.0                               16.8                                        NaN                                          NaN                                             94.0                                  NaN                                  NaN   \n1542                         427.0                               50.0                                        NaN                                          NaN                                             94.0                                  NaN                                  NaN   \n1549                        1454.0                                NaN                                        NaN                                          NaN                                            190.0                                  NaN                                  NaN   \n1550                        1249.0                                NaN                                        NaN                                          NaN                                            184.0                                  NaN                                  NaN   \n1551                        1033.0                                NaN                                        NaN                                          NaN                                            174.0                                  NaN                                  NaN   \n\n      PROPERTY: C content (wppm)_original                 REFERENCE: doi_original  REFERENCE: year_original                          REFERENCE: title_original                  processed_doi_original                normalized_formula_original FORMULA_extracted  PROPERTY: YS (MPa)_extracted  \\\n8                                     NaN                  10.1002/adem.202100765                    2021.0  WReTaMo Refractory Highâ€Entropy Alloy with H...                  10.1002.adem.202100765                    Mo0.25Re0.25Ta0.25W0.25           WReTaMo                         172.0   \n23                                    NaN               10.1007/s00339-019-2484-1                    2019.0  Effect of Sc and Y addition on the microstruct...               10.1007.s00339-019-2484-1                      Hf0.333Ti0.333Zr0.333            TiZrHf                         773.0   \n24                                    NaN               10.1007/s00339-019-2484-1                    2019.0  Effect of Sc and Y addition on the microstruct...               10.1007.s00339-019-2484-1                   Hf0.25Sc0.25Ti0.25Zr0.25          TiZrHfSc                        1001.0   \n25                                    NaN               10.1007/s00339-019-2484-1                    2019.0  Effect of Sc and Y addition on the microstruct...               10.1007.s00339-019-2484-1                    Hf0.25Ti0.25Y0.25Zr0.25           TiZrHfY                         554.0   \n26                                    NaN               10.1007/s00339-019-2484-1                    2019.0  Effect of Sc and Y addition on the microstruct...               10.1007.s00339-019-2484-1                   Hf0.2Sc0.2Ti0.2Y0.2Zr0.2         TiZrHfScY                         793.0   \n...                                   ...                                     ...                       ...                                                ...                                     ...                                        ...               ...                           ...   \n1541                                  NaN   10.4028/www.scientific.net/MSF.849.76                    2016.0  Microstructure and Mechanical Properties of a ...   10.4028.www.scientific.net.MSF.849.76  Hf0.182Nb0.182Si0.091Ti0.182V0.182Zr0.182    HfNbSi0.5TiVZr                        1540.0   \n1542                                  NaN   10.4028/www.scientific.net/MSF.849.76                    2016.0  Microstructure and Mechanical Properties of a ...   10.4028.www.scientific.net.MSF.849.76  Hf0.182Nb0.182Si0.091Ti0.182V0.182Zr0.182    HfNbSi0.5TiVZr                         371.0   \n1549                                  NaN  10.4028/www.scientific.net/MSF.898.638                    2017.0  Microstructure and Mechanical Properties of VT...  10.4028.www.scientific.net.MSF.898.638                    Mo0.25Ta0.25Ti0.25V0.25        VTaTiMoAl0                        1221.0   \n1550                                  NaN  10.4028/www.scientific.net/MSF.898.638                    2017.0  Microstructure and Mechanical Properties of VT...  10.4028.www.scientific.net.MSF.898.638         Al0.048Mo0.238Ta0.238Ti0.238V0.238      VTaTiMoAl0.2                        1021.0   \n1551                                  NaN  10.4028/www.scientific.net/MSF.898.638                    2017.0  Microstructure and Mechanical Properties of VT...  10.4028.www.scientific.net.MSF.898.638          Al0.13Mo0.217Ta0.217Ti0.217V0.217      VTaTiMoAl0.6                         962.0   \n\n      PROPERTY: grain size ($\\mu$m)_extracted  PROPERTY: Exp. Density (g/cm$^3$)_extracted  PROPERTY: HV_extracted  PROPERTY: Test temperature ($^\\circ$C)_extracted  PROPERTY: UTS (MPa)_extracted  PROPERTY: Elongation (%)_extracted  PROPERTY: Elongation plastic (%)_extracted  \\\n8                                         0.0                                         0.00                   654.0                                            1600.0                          244.0                               25.00                                         0.0   \n23                                        0.0                                         0.00                   211.0                                               0.0                         1184.0                               17.00                                         0.0   \n24                                        0.0                                         0.00                   233.0                                               0.0                         1800.0                               21.90                                         0.0   \n25                                        0.0                                         0.00                   241.0                                               0.0                         1071.0                               17.70                                         0.0   \n26                                        0.0                                         0.00                   256.0                                               0.0                         1365.0                               15.70                                         0.0   \n...                                       ...                                          ...                     ...                                               ...                            ...                                 ...                                         ...   \n1541                                      0.0                                         7.75                   464.0                                             293.0                            0.0                                0.00                                         0.0   \n1542                                      0.0                                         7.75                   464.0                                            1073.0                            0.0                                0.00                                         0.0   \n1549                                      0.0                                         0.00                   433.2                                               0.0                         1454.0                                9.93                                         0.0   \n1550                                      0.0                                         0.00                   450.0                                               0.0                         1249.0                                6.81                                         0.0   \n1551                                      0.0                                         0.00                   483.3                                               0.0                         1033.0                                4.20                                         0.0   \n\n                    REFERENCE: doi_extracted               normalized_formula_extracted  \n8                     10.1002.adem.202100765                    Mo0.25Re0.25Ta0.25W0.25  \n23                 10.1007.s00339-019-2484-1                      Hf0.333Ti0.333Zr0.333  \n24                 10.1007.s00339-019-2484-1                   Hf0.25Sc0.25Ti0.25Zr0.25  \n25                 10.1007.s00339-019-2484-1                    Hf0.25Ti0.25Y0.25Zr0.25  \n26                 10.1007.s00339-019-2484-1                   Hf0.2Sc0.2Ti0.2Y0.2Zr0.2  \n...                                      ...                                        ...  \n1541   10.4028.www.scientific.net.MSF.849.76  Hf0.182Nb0.182Si0.091Ti0.182V0.182Zr0.182  \n1542   10.4028.www.scientific.net.MSF.849.76  Hf0.182Nb0.182Si0.091Ti0.182V0.182Zr0.182  \n1549  10.4028.www.scientific.net.MSF.898.638                    Mo0.25Ta0.25Ti0.25V0.25  \n1550  10.4028.www.scientific.net.MSF.898.638         Al0.048Mo0.238Ta0.238Ti0.238V0.238  \n1551  10.4028.www.scientific.net.MSF.898.638          Al0.13Mo0.217Ta0.217Ti0.217V0.217  \n\n[192 rows x 41 columns]",
      "text/html": "<div>\n<style scoped>\n    .dataframe tbody tr th:only-of-type {\n        vertical-align: middle;\n    }\n\n    .dataframe tbody tr th {\n        vertical-align: top;\n    }\n\n    .dataframe thead th {\n        text-align: right;\n    }\n</style>\n<table border=\"1\" class=\"dataframe\">\n  <thead>\n    <tr style=\"text-align: right;\">\n      <th></th>\n      <th>index</th>\n      <th>extracted_idx</th>\n      <th>original_idx</th>\n      <th>match_strength</th>\n      <th>match_group</th>\n      <th>IDENTIFIER: Reference ID_original</th>\n      <th>FORMULA_original</th>\n      <th>PROPERTY: Microstructure_original</th>\n      <th>PROPERTY: Processing method_original</th>\n      <th>PROPERTY: BCC/FCC/other_original</th>\n      <th>PROPERTY: grain size ($\\mu$m)_original</th>\n      <th>PROPERTY: Exp. Density (g/cm$^3$)_original</th>\n      <th>PROPERTY: Computed Density (g/cm$^3$)_original</th>\n      <th>PROPERTY: HV_original</th>\n      <th>PROPERTY: Type of test_original</th>\n      <th>PROPERTY: Test temperature ($^\\circ$C)_original</th>\n      <th>PROPERTY: YS (MPa)_original</th>\n      <th>PROPERTY: UTS (MPa)_original</th>\n      <th>PROPERTY: Elongation (%)_original</th>\n      <th>PROPERTY: Elongation plastic (%)_original</th>\n      <th>PROPERTY: Exp. Young modulus (GPa)_original</th>\n      <th>PROPERTY: Computed Young modulus (GPa)_original</th>\n      <th>PROPERTY: O content (wppm)_original</th>\n      <th>PROPERTY: N content (wppm)_original</th>\n      <th>PROPERTY: C content (wppm)_original</th>\n      <th>REFERENCE: doi_original</th>\n      <th>REFERENCE: year_original</th>\n      <th>REFERENCE: title_original</th>\n      <th>processed_doi_original</th>\n      <th>normalized_formula_original</th>\n      <th>FORMULA_extracted</th>\n      <th>PROPERTY: YS (MPa)_extracted</th>\n      <th>PROPERTY: grain size ($\\mu$m)_extracted</th>\n      <th>PROPERTY: Exp. Density (g/cm$^3$)_extracted</th>\n      <th>PROPERTY: HV_extracted</th>\n      <th>PROPERTY: Test temperature ($^\\circ$C)_extracted</th>\n      <th>PROPERTY: UTS (MPa)_extracted</th>\n      <th>PROPERTY: Elongation (%)_extracted</th>\n      <th>PROPERTY: Elongation plastic (%)_extracted</th>\n      <th>REFERENCE: doi_extracted</th>\n      <th>normalized_formula_extracted</th>\n    </tr>\n  </thead>\n  <tbody>\n    <tr>\n      <th>8</th>\n      <td>0</td>\n      <td>488.0</td>\n      <td>823.0</td>\n      <td>0.75</td>\n      <td>10.1002.adem.202100765</td>\n      <td>5.0</td>\n      <td>Mo0.25 Re0.25 Ta0.25 W0.25</td>\n      <td>BCC</td>\n      <td>CAST</td>\n      <td>BCC</td>\n      <td>NaN</td>\n      <td>NaN</td>\n      <td>16.8</td>\n      <td>NaN</td>\n      <td>C</td>\n      <td>1600.0</td>\n      <td>172.0</td>\n      <td>NaN</td>\n      <td>NaN</td>\n      <td>NaN</td>\n      <td>NaN</td>\n      <td>347.0</td>\n      <td>NaN</td>\n      <td>NaN</td>\n      <td>NaN</td>\n      <td>10.1002/adem.202100765</td>\n      <td>2021.0</td>\n      <td>WReTaMo Refractory Highâ€Entropy Alloy with H...</td>\n      <td>10.1002.adem.202100765</td>\n      <td>Mo0.25Re0.25Ta0.25W0.25</td>\n      <td>WReTaMo</td>\n      <td>172.0</td>\n      <td>0.0</td>\n      <td>0.00</td>\n      <td>654.0</td>\n      <td>1600.0</td>\n      <td>244.0</td>\n      <td>25.00</td>\n      <td>0.0</td>\n      <td>10.1002.adem.202100765</td>\n      <td>Mo0.25Re0.25Ta0.25W0.25</td>\n    </tr>\n    <tr>\n      <th>23</th>\n      <td>0</td>\n      <td>47.0</td>\n      <td>639.0</td>\n      <td>0.50</td>\n      <td>10.1007.s00339-019-2484-1</td>\n      <td>15.0</td>\n      <td>Hf0.333 Ti0.333 Zr0.333</td>\n      <td>Other</td>\n      <td>CAST</td>\n      <td>other</td>\n      <td>NaN</td>\n      <td>NaN</td>\n      <td>8.1</td>\n      <td>211.0</td>\n      <td>C</td>\n      <td>25.0</td>\n      <td>773.0</td>\n      <td>NaN</td>\n      <td>17.0</td>\n      <td>NaN</td>\n      <td>NaN</td>\n      <td>87.0</td>\n      <td>NaN</td>\n      <td>NaN</td>\n      <td>NaN</td>\n      <td>10.1007/s00339-019-2484-1</td>\n      <td>2019.0</td>\n      <td>Effect of Sc and Y addition on the microstruct...</td>\n      <td>10.1007.s00339-019-2484-1</td>\n      <td>Hf0.333Ti0.333Zr0.333</td>\n      <td>TiZrHf</td>\n      <td>773.0</td>\n      <td>0.0</td>\n      <td>0.00</td>\n      <td>211.0</td>\n      <td>0.0</td>\n      <td>1184.0</td>\n      <td>17.00</td>\n      <td>0.0</td>\n      <td>10.1007.s00339-019-2484-1</td>\n      <td>Hf0.333Ti0.333Zr0.333</td>\n    </tr>\n    <tr>\n      <th>24</th>\n      <td>1</td>\n      <td>48.0</td>\n      <td>621.0</td>\n      <td>0.50</td>\n      <td>10.1007.s00339-019-2484-1</td>\n      <td>15.0</td>\n      <td>Hf0.25 Sc0.25 Ti0.25 Zr0.25</td>\n      <td>Other</td>\n      <td>CAST</td>\n      <td>other</td>\n      <td>NaN</td>\n      <td>NaN</td>\n      <td>6.8</td>\n      <td>233.0</td>\n      <td>C</td>\n      <td>25.0</td>\n      <td>1001.0</td>\n      <td>NaN</td>\n      <td>21.9</td>\n      <td>NaN</td>\n      <td>NaN</td>\n      <td>84.0</td>\n      <td>NaN</td>\n      <td>NaN</td>\n      <td>NaN</td>\n      <td>10.1007/s00339-019-2484-1</td>\n      <td>2019.0</td>\n      <td>Effect of Sc and Y addition on the microstruct...</td>\n      <td>10.1007.s00339-019-2484-1</td>\n      <td>Hf0.25Sc0.25Ti0.25Zr0.25</td>\n      <td>TiZrHfSc</td>\n      <td>1001.0</td>\n      <td>0.0</td>\n      <td>0.00</td>\n      <td>233.0</td>\n      <td>0.0</td>\n      <td>1800.0</td>\n      <td>21.90</td>\n      <td>0.0</td>\n      <td>10.1007.s00339-019-2484-1</td>\n      <td>Hf0.25Sc0.25Ti0.25Zr0.25</td>\n    </tr>\n    <tr>\n      <th>25</th>\n      <td>2</td>\n      <td>49.0</td>\n      <td>625.0</td>\n      <td>0.50</td>\n      <td>10.1007.s00339-019-2484-1</td>\n      <td>15.0</td>\n      <td>Hf0.25 Ti0.25 Y0.25 Zr0.25</td>\n      <td>Other</td>\n      <td>CAST</td>\n      <td>other</td>\n      <td>NaN</td>\n      <td>NaN</td>\n      <td>7.2</td>\n      <td>241.0</td>\n      <td>C</td>\n      <td>25.0</td>\n      <td>554.0</td>\n      <td>NaN</td>\n      <td>17.7</td>\n      <td>NaN</td>\n      <td>NaN</td>\n      <td>82.0</td>\n      <td>NaN</td>\n      <td>NaN</td>\n      <td>NaN</td>\n      <td>10.1007/s00339-019-2484-1</td>\n      <td>2019.0</td>\n      <td>Effect of Sc and Y addition on the microstruct...</td>\n      <td>10.1007.s00339-019-2484-1</td>\n      <td>Hf0.25Ti0.25Y0.25Zr0.25</td>\n      <td>TiZrHfY</td>\n      <td>554.0</td>\n      <td>0.0</td>\n      <td>0.00</td>\n      <td>241.0</td>\n      <td>0.0</td>\n      <td>1071.0</td>\n      <td>17.70</td>\n      <td>0.0</td>\n      <td>10.1007.s00339-019-2484-1</td>\n      <td>Hf0.25Ti0.25Y0.25Zr0.25</td>\n    </tr>\n    <tr>\n      <th>26</th>\n      <td>3</td>\n      <td>50.0</td>\n      <td>569.0</td>\n      <td>0.50</td>\n      <td>10.1007.s00339-019-2484-1</td>\n      <td>15.0</td>\n      <td>Hf0.2 Sc0.2 Ti0.2 Y0.2 Zr0.2</td>\n      <td>Other</td>\n      <td>CAST</td>\n      <td>other</td>\n      <td>NaN</td>\n      <td>NaN</td>\n      <td>6.4</td>\n      <td>256.0</td>\n      <td>C</td>\n      <td>25.0</td>\n      <td>793.0</td>\n      <td>NaN</td>\n      <td>15.7</td>\n      <td>NaN</td>\n      <td>NaN</td>\n      <td>80.0</td>\n      <td>NaN</td>\n      <td>NaN</td>\n      <td>NaN</td>\n      <td>10.1007/s00339-019-2484-1</td>\n      <td>2019.0</td>\n      <td>Effect of Sc and Y addition on the microstruct...</td>\n      <td>10.1007.s00339-019-2484-1</td>\n      <td>Hf0.2Sc0.2Ti0.2Y0.2Zr0.2</td>\n      <td>TiZrHfScY</td>\n      <td>793.0</td>\n      <td>0.0</td>\n      <td>0.00</td>\n      <td>256.0</td>\n      <td>0.0</td>\n      <td>1365.0</td>\n      <td>15.70</td>\n      <td>0.0</td>\n      <td>10.1007.s00339-019-2484-1</td>\n      <td>Hf0.2Sc0.2Ti0.2Y0.2Zr0.2</td>\n    </tr>\n    <tr>\n      <th>...</th>\n      <td>...</td>\n      <td>...</td>\n      <td>...</td>\n      <td>...</td>\n      <td>...</td>\n      <td>...</td>\n      <td>...</td>\n      <td>...</td>\n      <td>...</td>\n      <td>...</td>\n      <td>...</td>\n      <td>...</td>\n      <td>...</td>\n      <td>...</td>\n      <td>...</td>\n      <td>...</td>\n      <td>...</td>\n      <td>...</td>\n      <td>...</td>\n      <td>...</td>\n      <td>...</td>\n      <td>...</td>\n      <td>...</td>\n      <td>...</td>\n      <td>...</td>\n      <td>...</td>\n      <td>...</td>\n      <td>...</td>\n      <td>...</td>\n      <td>...</td>\n      <td>...</td>\n      <td>...</td>\n      <td>...</td>\n      <td>...</td>\n      <td>...</td>\n      <td>...</td>\n      <td>...</td>\n      <td>...</td>\n      <td>...</td>\n      <td>...</td>\n      <td>...</td>\n    </tr>\n    <tr>\n      <th>1541</th>\n      <td>0</td>\n      <td>769.0</td>\n      <td>422.0</td>\n      <td>0.50</td>\n      <td>10.4028.www.scientific.net.MSF.849.76</td>\n      <td>78.0</td>\n      <td>Hf0.182 Nb0.182 Si0.091 Ti0.182 V0.182 Zr0.182</td>\n      <td>BCC+Laves+Sec.</td>\n      <td>CAST</td>\n      <td>other</td>\n      <td>NaN</td>\n      <td>NaN</td>\n      <td>7.3</td>\n      <td>NaN</td>\n      <td>C</td>\n      <td>25.0</td>\n      <td>1540.0</td>\n      <td>1643.0</td>\n      <td>16.8</td>\n      <td>NaN</td>\n      <td>NaN</td>\n      <td>94.0</td>\n      <td>NaN</td>\n      <td>NaN</td>\n      <td>NaN</td>\n      <td>10.4028/www.scientific.net/MSF.849.76</td>\n      <td>2016.0</td>\n      <td>Microstructure and Mechanical Properties of a ...</td>\n      <td>10.4028.www.scientific.net.MSF.849.76</td>\n      <td>Hf0.182Nb0.182Si0.091Ti0.182V0.182Zr0.182</td>\n      <td>HfNbSi0.5TiVZr</td>\n      <td>1540.0</td>\n      <td>0.0</td>\n      <td>7.75</td>\n      <td>464.0</td>\n      <td>293.0</td>\n      <td>0.0</td>\n      <td>0.00</td>\n      <td>0.0</td>\n      <td>10.4028.www.scientific.net.MSF.849.76</td>\n      <td>Hf0.182Nb0.182Si0.091Ti0.182V0.182Zr0.182</td>\n    </tr>\n    <tr>\n      <th>1542</th>\n      <td>1</td>\n      <td>771.0</td>\n      <td>427.0</td>\n      <td>0.50</td>\n      <td>10.4028.www.scientific.net.MSF.849.76</td>\n      <td>78.0</td>\n      <td>Hf0.182 Nb0.182 Si0.091 Ti0.182 V0.182 Zr0.182</td>\n      <td>BCC+Laves+Sec.</td>\n      <td>CAST</td>\n      <td>other</td>\n      <td>NaN</td>\n      <td>NaN</td>\n      <td>7.3</td>\n      <td>NaN</td>\n      <td>C</td>\n      <td>800.0</td>\n      <td>371.0</td>\n      <td>427.0</td>\n      <td>50.0</td>\n      <td>NaN</td>\n      <td>NaN</td>\n      <td>94.0</td>\n      <td>NaN</td>\n      <td>NaN</td>\n      <td>NaN</td>\n      <td>10.4028/www.scientific.net/MSF.849.76</td>\n      <td>2016.0</td>\n      <td>Microstructure and Mechanical Properties of a ...</td>\n      <td>10.4028.www.scientific.net.MSF.849.76</td>\n      <td>Hf0.182Nb0.182Si0.091Ti0.182V0.182Zr0.182</td>\n      <td>HfNbSi0.5TiVZr</td>\n      <td>371.0</td>\n      <td>0.0</td>\n      <td>7.75</td>\n      <td>464.0</td>\n      <td>1073.0</td>\n      <td>0.0</td>\n      <td>0.00</td>\n      <td>0.0</td>\n      <td>10.4028.www.scientific.net.MSF.849.76</td>\n      <td>Hf0.182Nb0.182Si0.091Ti0.182V0.182Zr0.182</td>\n    </tr>\n    <tr>\n      <th>1549</th>\n      <td>0</td>\n      <td>484.0</td>\n      <td>824.0</td>\n      <td>0.50</td>\n      <td>10.4028.www.scientific.net.MSF.898.638</td>\n      <td>86.0</td>\n      <td>Mo0.25 Ta0.25 Ti0.25 V0.25</td>\n      <td>BCC</td>\n      <td>CAST</td>\n      <td>BCC</td>\n      <td>NaN</td>\n      <td>NaN</td>\n      <td>9.4</td>\n      <td>NaN</td>\n      <td>C</td>\n      <td>25.0</td>\n      <td>1221.0</td>\n      <td>1454.0</td>\n      <td>NaN</td>\n      <td>NaN</td>\n      <td>NaN</td>\n      <td>190.0</td>\n      <td>NaN</td>\n      <td>NaN</td>\n      <td>NaN</td>\n      <td>10.4028/www.scientific.net/MSF.898.638</td>\n      <td>2017.0</td>\n      <td>Microstructure and Mechanical Properties of VT...</td>\n      <td>10.4028.www.scientific.net.MSF.898.638</td>\n      <td>Mo0.25Ta0.25Ti0.25V0.25</td>\n      <td>VTaTiMoAl0</td>\n      <td>1221.0</td>\n      <td>0.0</td>\n      <td>0.00</td>\n      <td>433.2</td>\n      <td>0.0</td>\n      <td>1454.0</td>\n      <td>9.93</td>\n      <td>0.0</td>\n      <td>10.4028.www.scientific.net.MSF.898.638</td>\n      <td>Mo0.25Ta0.25Ti0.25V0.25</td>\n    </tr>\n    <tr>\n      <th>1550</th>\n      <td>1</td>\n      <td>485.0</td>\n      <td>11.0</td>\n      <td>0.50</td>\n      <td>10.4028.www.scientific.net.MSF.898.638</td>\n      <td>86.0</td>\n      <td>Al0.048 Mo0.238 Ta0.238 Ti0.238 V0.238</td>\n      <td>BCC</td>\n      <td>CAST</td>\n      <td>BCC</td>\n      <td>NaN</td>\n      <td>NaN</td>\n      <td>9.1</td>\n      <td>NaN</td>\n      <td>C</td>\n      <td>25.0</td>\n      <td>1021.0</td>\n      <td>1249.0</td>\n      <td>NaN</td>\n      <td>NaN</td>\n      <td>NaN</td>\n      <td>184.0</td>\n      <td>NaN</td>\n      <td>NaN</td>\n      <td>NaN</td>\n      <td>10.4028/www.scientific.net/MSF.898.638</td>\n      <td>2017.0</td>\n      <td>Microstructure and Mechanical Properties of VT...</td>\n      <td>10.4028.www.scientific.net.MSF.898.638</td>\n      <td>Al0.048Mo0.238Ta0.238Ti0.238V0.238</td>\n      <td>VTaTiMoAl0.2</td>\n      <td>1021.0</td>\n      <td>0.0</td>\n      <td>0.00</td>\n      <td>450.0</td>\n      <td>0.0</td>\n      <td>1249.0</td>\n      <td>6.81</td>\n      <td>0.0</td>\n      <td>10.4028.www.scientific.net.MSF.898.638</td>\n      <td>Al0.048Mo0.238Ta0.238Ti0.238V0.238</td>\n    </tr>\n    <tr>\n      <th>1551</th>\n      <td>2</td>\n      <td>486.0</td>\n      <td>120.0</td>\n      <td>0.50</td>\n      <td>10.4028.www.scientific.net.MSF.898.638</td>\n      <td>86.0</td>\n      <td>Al0.13 Mo0.217 Ta0.217 Ti0.217 V0.217</td>\n      <td>BCC</td>\n      <td>CAST</td>\n      <td>BCC</td>\n      <td>NaN</td>\n      <td>NaN</td>\n      <td>8.5</td>\n      <td>NaN</td>\n      <td>C</td>\n      <td>25.0</td>\n      <td>962.0</td>\n      <td>1033.0</td>\n      <td>NaN</td>\n      <td>NaN</td>\n      <td>NaN</td>\n      <td>174.0</td>\n      <td>NaN</td>\n      <td>NaN</td>\n      <td>NaN</td>\n      <td>10.4028/www.scientific.net/MSF.898.638</td>\n      <td>2017.0</td>\n      <td>Microstructure and Mechanical Properties of VT...</td>\n      <td>10.4028.www.scientific.net.MSF.898.638</td>\n      <td>Al0.13Mo0.217Ta0.217Ti0.217V0.217</td>\n      <td>VTaTiMoAl0.6</td>\n      <td>962.0</td>\n      <td>0.0</td>\n      <td>0.00</td>\n      <td>483.3</td>\n      <td>0.0</td>\n      <td>1033.0</td>\n      <td>4.20</td>\n      <td>0.0</td>\n      <td>10.4028.www.scientific.net.MSF.898.638</td>\n      <td>Al0.13Mo0.217Ta0.217Ti0.217V0.217</td>\n    </tr>\n  </tbody>\n</table>\n<p>192 rows × 41 columns</p>\n</div>"
     },
     "metadata": {},
     "output_type": "display_data"
    }
   ]
  },
  {
   "cell_type": "markdown",
   "source": [
    "##### Looking at original rows"
   ],
   "metadata": {
    "id": "VViQaXqX4TVd"
   }
  },
  {
   "cell_type": "code",
   "source": [
    "original_df = df_result[df_result['original_idx'].notnull()]"
   ],
   "metadata": {
    "id": "DZP3T5Nn4XW1",
    "ExecuteTime": {
     "end_time": "2024-05-20T19:58:33.196004100Z",
     "start_time": "2024-05-20T19:58:33.111822500Z"
    }
   },
   "execution_count": 108,
   "outputs": []
  },
  {
   "cell_type": "code",
   "source": [
    "len(original_df[original_df['PROPERTY: YS (MPa)_original'].notnull()])"
   ],
   "metadata": {
    "colab": {
     "base_uri": "https://localhost:8080/"
    },
    "id": "fxYKVMdjUSQJ",
    "executionInfo": {
     "status": "ok",
     "timestamp": 1707858980331,
     "user_tz": 300,
     "elapsed": 209,
     "user": {
      "displayName": "Satanu Ghosh",
      "userId": "07683061709303200546"
     }
    },
    "outputId": "fccf6ea3-ad7d-4fd1-8277-c15ceb6b4f72",
    "ExecuteTime": {
     "end_time": "2024-05-20T19:58:34.249111100Z",
     "start_time": "2024-05-20T19:58:34.203602Z"
    }
   },
   "execution_count": 109,
   "outputs": [
    {
     "data": {
      "text/plain": "692"
     },
     "execution_count": 109,
     "metadata": {},
     "output_type": "execute_result"
    }
   ]
  },
  {
   "cell_type": "code",
   "source": [
    "# And then we can evaluated p/r/f1 for individual columns\n",
    "# Finding that scikit-learn is broken for some reason\n",
    "# from sklearn.metrics import accuracy_score\n",
    "# classification_report(original_df['PROPERTY: YS (MPa)_original'], original_df['PROPERTY: YS (MPa)_extracted'])"
   ],
   "metadata": {
    "id": "WfILt0us4Ek9",
    "ExecuteTime": {
     "end_time": "2024-05-20T19:58:35.986398100Z",
     "start_time": "2024-05-20T19:58:35.874982900Z"
    }
   },
   "execution_count": 110,
   "outputs": []
  },
  {
   "cell_type": "markdown",
   "source": [
    "##### Comparing match rows for a particular paper"
   ],
   "metadata": {
    "id": "upZziEesxiNc"
   }
  },
  {
   "cell_type": "code",
   "source": [
    "nonmatch_df = df_result[df_result['original_idx'].isnull() | df_result['extracted_idx'].isnull()]\n",
    "print(nonmatch_df.shape)\n"
   ],
   "metadata": {
    "colab": {
     "base_uri": "https://localhost:8080/"
    },
    "id": "42199ZWMtSFM",
    "executionInfo": {
     "status": "ok",
     "timestamp": 1707858754972,
     "user_tz": 300,
     "elapsed": 113,
     "user": {
      "displayName": "Satanu Ghosh",
      "userId": "07683061709303200546"
     }
    },
    "outputId": "915ecd4a-02f7-4823-b7b9-0358bbca36f6",
    "ExecuteTime": {
     "end_time": "2024-05-20T19:58:38.909677900Z",
     "start_time": "2024-05-20T19:58:38.843669300Z"
    }
   },
   "execution_count": 111,
   "outputs": [
    {
     "name": "stdout",
     "output_type": "stream",
     "text": [
      "(1363, 41)\n"
     ]
    }
   ]
  },
  {
   "cell_type": "code",
   "source": [
    "match_df = df_result[df_result['original_idx'].notnull() & df_result['extracted_idx'].notnull()]\n",
    "print(match_df.shape)"
   ],
   "metadata": {
    "colab": {
     "base_uri": "https://localhost:8080/"
    },
    "id": "eE4xkX6jQ7jp",
    "executionInfo": {
     "status": "ok",
     "timestamp": 1707858754972,
     "user_tz": 300,
     "elapsed": 110,
     "user": {
      "displayName": "Satanu Ghosh",
      "userId": "07683061709303200546"
     }
    },
    "outputId": "7e5d983a-bef1-47ff-a087-3f93538e0cd3",
    "ExecuteTime": {
     "end_time": "2024-05-20T19:58:51.168171300Z",
     "start_time": "2024-05-20T19:58:51.121664300Z"
    }
   },
   "execution_count": 112,
   "outputs": [
    {
     "name": "stdout",
     "output_type": "stream",
     "text": [
      "(192, 41)\n"
     ]
    }
   ]
  },
  {
   "cell_type": "code",
   "source": [
    "match_df.to_csv('matched_langchain_zeroshot.csv', encoding='utf8')"
   ],
   "metadata": {
    "id": "E_1L69mPYgTY",
    "ExecuteTime": {
     "end_time": "2024-05-20T19:58:52.178536800Z",
     "start_time": "2024-05-20T19:58:52.125030400Z"
    }
   },
   "execution_count": 113,
   "outputs": []
  },
  {
   "cell_type": "code",
   "source": [
    "original_df = df_result[df_result['original_idx'].notnull()]\n",
    "print(original_df.shape)"
   ],
   "metadata": {
    "colab": {
     "base_uri": "https://localhost:8080/"
    },
    "id": "XwlQIo2-b7qK",
    "executionInfo": {
     "status": "ok",
     "timestamp": 1707858754978,
     "user_tz": 300,
     "elapsed": 113,
     "user": {
      "displayName": "Satanu Ghosh",
      "userId": "07683061709303200546"
     }
    },
    "outputId": "e08e768e-657a-4cce-d305-4a8affd321bc",
    "ExecuteTime": {
     "end_time": "2024-05-20T19:58:54.249525400Z",
     "start_time": "2024-05-20T19:58:54.172594600Z"
    }
   },
   "execution_count": 114,
   "outputs": [
    {
     "name": "stdout",
     "output_type": "stream",
     "text": [
      "(818, 41)\n"
     ]
    }
   ]
  },
  {
   "cell_type": "code",
   "source": [
    "groups = df_result.groupby('match_group').indices\n",
    "groups"
   ],
   "metadata": {
    "colab": {
     "base_uri": "https://localhost:8080/"
    },
    "id": "40RR6Q4hRFJ4",
    "executionInfo": {
     "status": "ok",
     "timestamp": 1707858754979,
     "user_tz": 300,
     "elapsed": 112,
     "user": {
      "displayName": "Satanu Ghosh",
      "userId": "07683061709303200546"
     }
    },
    "outputId": "8f065509-5470-47d8-ca97-25497b18876b",
    "ExecuteTime": {
     "end_time": "2024-05-20T19:58:55.136337300Z",
     "start_time": "2024-05-20T19:58:55.055307100Z"
    }
   },
   "execution_count": 115,
   "outputs": [
    {
     "data": {
      "text/plain": "{'10.1002.adem.200300567': array([0, 1, 2, 3, 4, 5, 6, 7]),\n '10.1002.adem.202100765': array([ 8,  9, 10, 11, 12]),\n '10.1002.adma.201701678': array([13, 14, 15, 16, 17, 18, 19, 20, 21, 22]),\n '10.1007.s00339-019-2484-1': array([23, 24, 25, 26, 27, 28, 29, 30]),\n '10.1007.s10853-012-6260-2': array([31, 32, 33, 34, 35, 36, 37, 38, 39]),\n '10.1007.s11661-018-4646-8': array([40, 41, 42, 43, 44, 45, 46, 47, 48, 49, 50, 51, 52, 53, 54, 55, 56,\n        57, 58, 59, 60, 61, 62, 63, 64, 65, 66]),\n '10.1007.s11665-017-2799-z': array([67, 68, 69, 70, 71, 72, 73, 74, 75, 76, 77, 78, 79, 80, 81, 82]),\n '10.1007.s11837-012-0366-5': array([83, 84, 85, 86, 87, 88, 89, 90, 91, 92, 93, 94, 95, 96]),\n '10.1007.s11837-019-03432-9': array([ 97,  98,  99, 100, 101, 102, 103, 104]),\n '10.1007.s11837-020-04557-y': array([105, 106, 107]),\n '10.1007.s12598-019-01310-6': array([108, 109, 110, 111, 112, 113, 114, 115, 116, 117, 118, 119]),\n '10.1007.s40195-019-00921-3': array([120, 121, 122, 123, 124, 125, 126, 127, 128, 129, 130, 131, 132,\n        133, 134, 135]),\n '10.1007.s40195-019-00935-x': array([136, 137, 138, 139, 140, 141, 142, 143, 144, 145, 146, 147, 148]),\n '10.1007.s42864-021-00111-8': array([149, 150, 151, 152, 153, 154, 155, 156, 157, 158, 159]),\n '10.1016.j.actamat.2016.01.018': array([160, 161, 162, 163, 164, 165]),\n '10.1016.j.actamat.2017.09.035': array([166, 167, 168, 169, 170, 171, 172, 173, 174, 175]),\n '10.1016.j.actamat.2017.09.062': array([176, 177, 178, 179, 180]),\n '10.1016.j.actamat.2018.08.053': array([181, 182, 183, 184, 185, 186, 187, 188, 189, 190, 191, 192]),\n '10.1016.j.actamat.2019.06.006': array([193, 194, 195, 196, 197, 198, 199, 200, 201, 202, 203, 204, 205,\n        206, 207, 208, 209, 210, 211, 212, 213, 214, 215, 216, 217, 218,\n        219, 220, 221, 222, 223, 224, 225, 226, 227, 228, 229, 230, 231,\n        232, 233, 234, 235, 236, 237, 238, 239, 240, 241, 242, 243, 244,\n        245, 246, 247, 248, 249, 250]),\n '10.1016.j.actamat.2019.06.032': array([251, 252, 253, 254, 255, 256, 257, 258, 259, 260, 261, 262, 263,\n        264, 265, 266, 267, 268, 269, 270, 271, 272, 273, 274, 275, 276,\n        277, 278, 279, 280, 281, 282, 283, 284, 285, 286, 287, 288, 289,\n        290]),\n '10.1016.j.ijrmhm.2014.07.009': array([291, 292, 293, 294, 295, 296, 297, 298, 299, 300, 301, 302, 303,\n        304, 305, 306, 307, 308, 309, 310, 311]),\n '10.1016.j.ijrmhm.2019.02.009': array([312, 313, 314]),\n '10.1016.j.ijrmhm.2019.105132': array([315, 316, 317, 318, 319, 320, 321, 322, 323, 324, 325, 326, 327]),\n '10.1016.j.ijrmhm.2020.105195': array([328, 329, 330, 331, 332, 333, 334, 335]),\n '10.1016.j.ijrmhm.2020.105322': array([336, 337, 338, 339, 340, 341, 342, 343, 344]),\n '10.1016.j.ijrmhm.2020.105370': array([345, 346, 347, 348, 349, 350, 351, 352, 353, 354, 355, 356, 357,\n        358, 359, 360, 361, 362, 363, 364, 365, 366, 367, 368, 369, 370,\n        371, 372, 373, 374, 375, 376, 377, 378, 379, 380, 381, 382, 383,\n        384, 385]),\n '10.1016.j.ijrmhm.2020.105467': array([386, 387, 388, 389, 390, 391, 392, 393, 394, 395, 396, 397, 398,\n        399, 400, 401, 402, 403, 404, 405, 406, 407, 408, 409, 410, 411,\n        412, 413, 414, 415, 416, 417]),\n '10.1016.j.ijrmhm.2021.105664': array([418, 419, 420, 421, 422, 423, 424, 425, 426, 427, 428, 429, 430,\n        431, 432, 433, 434, 435]),\n '10.1016.j.intermet.2011.01.004': array([436, 437, 438, 439, 440, 441, 442, 443, 444, 445, 446, 447, 448,\n        449, 450, 451, 452, 453]),\n '10.1016.j.intermet.2015.03.013': array([454, 455, 456, 457, 458, 459, 460, 461, 462, 463, 464, 465, 466]),\n '10.1016.j.intermet.2015.09.011': array([467, 468, 469, 470, 471]),\n '10.1016.j.intermet.2015.10.011': array([472, 473, 474, 475, 476, 477, 478, 479, 480, 481, 482, 483]),\n '10.1016.j.intermet.2017.01.007': array([484, 485, 486, 487, 488, 489, 490, 491, 492, 493, 494, 495]),\n '10.1016.j.intermet.2019.01.004': array([496, 497, 498, 499, 500, 501, 502, 503, 504, 505, 506, 507, 508,\n        509, 510]),\n '10.1016.j.intermet.2019.04.003': array([511, 512, 513, 514, 515, 516, 517, 518, 519, 520, 521, 522, 523,\n        524, 525, 526, 527, 528]),\n '10.1016.j.intermet.2020.106928': array([529, 530, 531, 532, 533, 534, 535, 536, 537, 538, 539]),\n '10.1016.j.intermet.2021.107323': array([540, 541, 542, 543, 544, 545, 546, 547, 548, 549]),\n '10.1016.j.jallcom.2014.11.064': array([550, 551, 552, 553, 554, 555, 556, 557, 558, 559, 560, 561]),\n '10.1016.j.jallcom.2015.07.209': array([562, 563, 564, 565, 566, 567, 568]),\n '10.1016.j.jallcom.2015.11.091': array([569, 570, 571, 572, 573, 574, 575, 576, 577, 578]),\n '10.1016.j.jallcom.2016.10.014': array([579, 580, 581, 582, 583, 584, 585, 586, 587, 588, 589, 590, 591,\n        592, 593, 594, 595]),\n '10.1016.j.jallcom.2016.11.188': array([596, 597, 598, 599, 600, 601, 602, 603, 604, 605, 606]),\n '10.1016.j.jallcom.2018.10.230': array([607, 608, 609, 610, 611, 612, 613, 614, 615, 616, 617]),\n '10.1016.j.jallcom.2018.11.111': array([618, 619, 620, 621, 622, 623, 624, 625, 626, 627, 628, 629, 630,\n        631]),\n '10.1016.j.jallcom.2019.05.322': array([632, 633, 634, 635, 636, 637, 638, 639, 640, 641, 642, 643, 644,\n        645, 646, 647, 648, 649, 650, 651, 652, 653, 654, 655, 656, 657,\n        658, 659, 660, 661, 662, 663, 664, 665, 666, 667, 668, 669, 670,\n        671, 672, 673, 674, 675, 676, 677]),\n '10.1016.j.jallcom.2019.06.138': array([678, 679, 680, 681, 682, 683, 684, 685, 686, 687, 688]),\n '10.1016.j.jallcom.2020.154301': array([689, 690, 691, 692, 693, 694]),\n '10.1016.j.jallcom.2020.155700': array([695, 696, 697, 698, 699, 700, 701, 702, 703, 704, 705, 706, 707,\n        708, 709, 710, 711, 712, 713, 714, 715, 716, 717]),\n '10.1016.j.jallcom.2020.158003': array([718, 719, 720, 721, 722, 723, 724, 725, 726, 727, 728, 729, 730]),\n '10.1016.j.jallcom.2021.159190': array([731, 732, 733, 734, 735, 736, 737, 738, 739, 740, 741, 742, 743]),\n '10.1016.j.jallcom.2021.159740': array([744, 745, 746, 747, 748, 749, 750, 751, 752, 753, 754, 755]),\n '10.1016.j.jallcom.2021.161187': array([756, 757, 758, 759, 760, 761, 762, 763]),\n '10.1016.j.jmst.2020.05.038': array([764, 765, 766, 767, 768, 769, 770, 771, 772, 773, 774, 775, 776,\n        777, 778, 779, 780, 781, 782, 783]),\n '10.1016.j.jmst.2020.07.012': array([784, 785, 786, 787, 788, 789, 790, 791, 792, 793, 794, 795, 796,\n        797]),\n '10.1016.j.jmst.2020.10.073': array([798, 799, 800, 801, 802, 803, 804, 805, 806, 807, 808]),\n '10.1016.j.matchar.2015.11.018': array([809, 810, 811, 812, 813]),\n '10.1016.j.matchar.2018.07.015': array([814, 815, 816, 817, 818, 819, 820, 821, 822, 823, 824, 825]),\n '10.1016.j.matchar.2021.111287': array([826, 827, 828, 829, 830, 831, 832, 833, 834, 835, 836, 837, 838,\n        839, 840, 841, 842, 843, 844, 845, 846, 847, 848, 849, 850, 851]),\n '10.1016.j.matchemphys.2017.06.054': array([852, 853, 854, 855, 856, 857, 858, 859, 860]),\n '10.1016.j.matdes.2015.05.019': array([861, 862, 863, 864, 865, 866]),\n '10.1016.j.matdes.2015.06.072': array([867, 868, 869, 870, 871, 872, 873, 874, 875, 876, 877, 878, 879,\n        880, 881, 882, 883, 884, 885, 886, 887, 888, 889, 890, 891, 892,\n        893, 894, 895, 896, 897, 898, 899, 900, 901, 902, 903, 904, 905,\n        906, 907, 908, 909, 910, 911, 912, 913]),\n '10.1016.j.matdes.2017.11.033': array([914, 915, 916, 917, 918, 919, 920, 921, 922, 923, 924, 925, 926,\n        927, 928, 929, 930, 931, 932, 933, 934, 935, 936, 937, 938, 939,\n        940, 941]),\n '10.1016.j.matdes.2018.06.003': array([942, 943, 944, 945, 946, 947, 948, 949, 950, 951, 952, 953, 954,\n        955, 956, 957, 958, 959, 960, 961, 962, 963, 964, 965, 966, 967,\n        968, 969, 970, 971, 972, 973, 974, 975, 976, 977, 978, 979, 980,\n        981, 982, 983, 984, 985, 986, 987, 988, 989, 990, 991, 992, 993,\n        994]),\n '10.1016.j.matlet.2014.05.134': array([995, 996]),\n '10.1016.j.matlet.2014.11.162': array([ 997,  998,  999, 1000, 1001]),\n '10.1016.j.matlet.2015.08.099': array([1002, 1003, 1004]),\n '10.1016.j.matlet.2016.03.092': array([1005, 1006, 1007, 1008]),\n '10.1016.j.matlet.2016.03.133': array([1009, 1010, 1011, 1012, 1013, 1014]),\n '10.1016.j.matlet.2016.08.060': array([1015, 1016, 1017, 1018, 1019, 1020]),\n '10.1016.j.matlet.2016.11.030': array([1021, 1022, 1023, 1024, 1025, 1026]),\n '10.1016.j.matlet.2019.03.075': array([1027, 1028, 1029, 1030, 1031, 1032, 1033]),\n '10.1016.j.matlet.2020.127372': array([1034, 1035, 1036, 1037]),\n '10.1016.j.matlet.2021.129428': array([1038, 1039]),\n '10.1016.j.msea.2003.12.011': array([1040, 1041, 1042]),\n '10.1016.j.msea.2012.12.018': array([1043, 1044, 1045, 1046, 1047, 1048, 1049, 1050, 1051, 1052, 1053,\n        1054, 1055, 1056, 1057, 1058, 1059, 1060, 1061, 1062, 1063, 1064,\n        1065, 1066, 1067, 1068, 1069, 1070, 1071, 1072]),\n '10.1016.j.msea.2015.08.024': array([1073, 1074, 1075, 1076]),\n '10.1016.j.msea.2015.12.017': array([1077, 1078, 1079, 1080, 1081, 1082, 1083, 1084]),\n '10.1016.j.msea.2016.07.102': array([1085, 1086, 1087, 1088, 1089, 1090, 1091]),\n '10.1016.j.msea.2017.10.073': array([1092, 1093, 1094, 1095, 1096, 1097, 1098, 1099, 1100, 1101, 1102,\n        1103, 1104, 1105, 1106, 1107, 1108, 1109, 1110, 1111, 1112, 1113,\n        1114, 1115]),\n '10.1016.j.msea.2017.12.004': array([1116, 1117, 1118, 1119, 1120, 1121, 1122, 1123, 1124, 1125, 1126]),\n '10.1016.j.msea.2017.12.021': array([1127, 1128, 1129, 1130, 1131]),\n '10.1016.j.msea.2020.139275': array([1132, 1133, 1134, 1135, 1136, 1137, 1138, 1139, 1140, 1141, 1142,\n        1143, 1144, 1145, 1146, 1147, 1148, 1149, 1150, 1151, 1152, 1153,\n        1154, 1155, 1156, 1157, 1158, 1159, 1160]),\n '10.1016.j.msea.2020.139774': array([1161, 1162, 1163]),\n '10.1016.j.msea.2021.140798': array([1164, 1165, 1166, 1167, 1168, 1169, 1170, 1171, 1172, 1173]),\n '10.1016.j.msea.2021.140848': array([1174, 1175, 1176, 1177, 1178, 1179, 1180, 1181, 1182, 1183, 1184,\n        1185, 1186, 1187, 1188, 1189]),\n '10.1016.j.msea.2021.140983': array([1190, 1191, 1192, 1193, 1194, 1195, 1196, 1197, 1198, 1199]),\n '10.1016.j.msea.2021.141168': array([1200, 1201, 1202, 1203, 1204, 1205, 1206, 1207, 1208, 1209]),\n '10.1016.j.msea.2021.141234': array([1210, 1211, 1212, 1213, 1214, 1215, 1216, 1217, 1218, 1219, 1220,\n        1221, 1222, 1223, 1224, 1225, 1226, 1227, 1228, 1229, 1230, 1231]),\n '10.1016.j.msea.2021.141908': array([1232, 1233, 1234, 1235]),\n '10.1016.j.msec.2016.12.057': array([1236, 1237, 1238, 1239, 1240, 1241]),\n '10.1016.j.mtla.2020.100627': array([1242, 1243, 1244, 1245, 1246, 1247, 1248, 1249, 1250, 1251, 1252,\n        1253, 1254, 1255, 1256, 1257, 1258, 1259, 1260, 1261, 1262, 1263,\n        1264, 1265, 1266, 1267, 1268, 1269, 1270, 1271, 1272]),\n '10.1016.j.mtla.2021.101057': array([1273, 1274, 1275, 1276, 1277, 1278, 1279, 1280, 1281, 1282, 1283,\n        1284, 1285, 1286, 1287, 1288, 1289, 1290, 1291, 1292, 1293, 1294,\n        1295, 1296, 1297, 1298, 1299, 1300, 1301, 1302, 1303, 1304]),\n '10.1016.j.proeng.2012.03.043': array([1305, 1306, 1307, 1308, 1309, 1310, 1311, 1312, 1313]),\n '10.1016.j.scriptamat.2016.10.028': array([1314, 1315, 1316, 1317, 1318]),\n '10.1016.j.scriptamat.2019.07.033': array([1319, 1320, 1321, 1322, 1323]),\n '10.1016.j.scriptamat.2020.07.006': array([1324, 1325, 1326, 1327, 1328, 1329, 1330]),\n '10.1016.j.scriptamat.2020.09.027': array([1331, 1332, 1333, 1334, 1335, 1336, 1337, 1338, 1339, 1340, 1341]),\n '10.1016.j.scriptamat.2021.113919': array([1342, 1343, 1344, 1345, 1346, 1347, 1348, 1349, 1350, 1351, 1352,\n        1353, 1354, 1355, 1356, 1357]),\n '10.1016.j.scriptamat.2021.114225': array([1358, 1359, 1360, 1361, 1362, 1363, 1364, 1365]),\n '10.1016.j.vacuum.2020.109614': array([1366, 1367, 1368, 1369, 1370, 1371, 1372]),\n '10.1038.s41467-019-10533-1': array([1373, 1374, 1375, 1376, 1377, 1378, 1379, 1380, 1381, 1382, 1383,\n        1384, 1385]),\n '10.1038.s41563-020-0750-4': array([1386, 1387, 1388, 1389, 1390, 1391, 1392, 1393, 1394]),\n '10.1080.02670836.2018.1446267': array([1395, 1396, 1397]),\n '10.1080.14786435.2015.1028506': array([1398, 1399, 1400, 1401, 1402, 1403, 1404, 1405, 1406, 1407]),\n '10.1080.21663831.2016.1221861': array([1408, 1409, 1410]),\n '10.1080.21663831.2019.1610105': array([1411, 1412, 1413, 1414, 1415, 1416, 1417, 1418, 1419, 1420, 1421]),\n '10.1088.1757-899X.1014.1.012041': array([1422, 1423, 1424, 1425, 1426, 1427, 1428, 1429, 1430, 1431]),\n '10.1179.1743284715Y.0000000032': array([1432, 1433, 1434, 1435, 1436, 1437, 1438, 1439, 1440, 1441, 1442,\n        1443]),\n '10.3390.e16020870': array([1444, 1445, 1446, 1447, 1448, 1449, 1450, 1451, 1452]),\n '10.3390.e18050189': array([1453, 1454, 1455, 1456, 1457, 1458, 1459]),\n '10.3390.e21010015': array([1460, 1461, 1462, 1463, 1464, 1465, 1466, 1467, 1468, 1469, 1470,\n        1471, 1472, 1473, 1474, 1475, 1476, 1477, 1478, 1479, 1480, 1481,\n        1482, 1483, 1484, 1485, 1486, 1487]),\n '10.3390.e21020114': array([1488, 1489, 1490, 1491, 1492, 1493, 1494, 1495, 1496, 1497, 1498,\n        1499, 1500, 1501, 1502, 1503, 1504, 1505, 1506, 1507, 1508, 1509,\n        1510, 1511, 1512, 1513, 1514, 1515, 1516, 1517, 1518, 1519, 1520,\n        1521, 1522, 1523]),\n '10.3390.met11030514': array([1524, 1525, 1526, 1527, 1528, 1529, 1530, 1531, 1532, 1533, 1534,\n        1535, 1536, 1537, 1538, 1539, 1540]),\n '10.4028.www.scientific.net.MSF.849.76': array([1541, 1542, 1543, 1544, 1545, 1546, 1547, 1548]),\n '10.4028.www.scientific.net.MSF.898.638': array([1549, 1550, 1551, 1552, 1553, 1554])}"
     },
     "execution_count": 115,
     "metadata": {},
     "output_type": "execute_result"
    }
   ]
  },
  {
   "cell_type": "code",
   "source": [
    "#Taking a look at the non-matched original versus extracted rows for an individual paper\n",
    "doi = list(groups.keys())[2]\n",
    "\n",
    "print('Matched rows:')\n",
    "display(match_df[match_df['match_group']==doi][['normalized_formula_original',\n",
    "                                                     'normalized_formula_extracted',\n",
    "                                                     'FORMULA_original',\n",
    "                                                     'FORMULA_extracted',\n",
    "                                                     'PROPERTY: YS (MPa)_original',\n",
    "                                                     'PROPERTY: YS (MPa)_extracted',\n",
    "                                                     'match_group']])\n",
    "\n",
    "print('Non-matched rows:')\n",
    "display(nonmatch_df[nonmatch_df['match_group']==doi][['original_idx', 'extracted_idx',\n",
    "                                                      'normalized_formula_original',\n",
    "                                                     'normalized_formula_extracted',\n",
    "                                                     'FORMULA_original',\n",
    "                                                     'FORMULA_extracted',\n",
    "                                                     'PROPERTY: YS (MPa)_original',\n",
    "                                                     'PROPERTY: YS (MPa)_extracted',\n",
    "                                                     'match_group']])"
   ],
   "metadata": {
    "colab": {
     "base_uri": "https://localhost:8080/",
     "height": 346
    },
    "id": "UuIb8_R2wGQX",
    "executionInfo": {
     "status": "ok",
     "timestamp": 1707858754979,
     "user_tz": 300,
     "elapsed": 108,
     "user": {
      "displayName": "Satanu Ghosh",
      "userId": "07683061709303200546"
     }
    },
    "outputId": "50fef25c-8eff-4eb0-c4ab-0dcc82cc7f7a",
    "ExecuteTime": {
     "end_time": "2024-05-20T19:58:56.094810400Z",
     "start_time": "2024-05-20T19:58:56.001290Z"
    }
   },
   "execution_count": 116,
   "outputs": [
    {
     "name": "stdout",
     "output_type": "stream",
     "text": [
      "Matched rows:\n"
     ]
    },
    {
     "data": {
      "text/plain": "Empty DataFrame\nColumns: [normalized_formula_original, normalized_formula_extracted, FORMULA_original, FORMULA_extracted, PROPERTY: YS (MPa)_original, PROPERTY: YS (MPa)_extracted, match_group]\nIndex: []",
      "text/html": "<div>\n<style scoped>\n    .dataframe tbody tr th:only-of-type {\n        vertical-align: middle;\n    }\n\n    .dataframe tbody tr th {\n        vertical-align: top;\n    }\n\n    .dataframe thead th {\n        text-align: right;\n    }\n</style>\n<table border=\"1\" class=\"dataframe\">\n  <thead>\n    <tr style=\"text-align: right;\">\n      <th></th>\n      <th>normalized_formula_original</th>\n      <th>normalized_formula_extracted</th>\n      <th>FORMULA_original</th>\n      <th>FORMULA_extracted</th>\n      <th>PROPERTY: YS (MPa)_original</th>\n      <th>PROPERTY: YS (MPa)_extracted</th>\n      <th>match_group</th>\n    </tr>\n  </thead>\n  <tbody>\n  </tbody>\n</table>\n</div>"
     },
     "metadata": {},
     "output_type": "display_data"
    },
    {
     "name": "stdout",
     "output_type": "stream",
     "text": [
      "Non-matched rows:\n"
     ]
    },
    {
     "data": {
      "text/plain": "    original_idx  extracted_idx   normalized_formula_original  normalized_formula_extracted                 FORMULA_original FORMULA_extracted  PROPERTY: YS (MPa)_original  PROPERTY: YS (MPa)_extracted             match_group\n13         627.0            NaN  Hf0.278Ta0.167Ti0.278Zr0.278                           NaN  Hf0.278 Ta0.167 Ti0.278 Zr0.278               NaN                        750.0                           NaN  10.1002.adma.201701678\n14         628.0            NaN  Hf0.286Ta0.143Ti0.286Zr0.286                           NaN  Hf0.286 Ta0.143 Ti0.286 Zr0.286               NaN                        687.0                           NaN  10.1002.adma.201701678\n15         622.0            NaN      Hf0.25Ta0.25Ti0.25Zr0.25                           NaN      Hf0.25 Ta0.25 Ti0.25 Zr0.25               NaN                       1356.0                           NaN  10.1002.adma.201701678\n16         631.0            NaN  Hf0.294Ta0.118Ti0.294Zr0.294                           NaN  Hf0.294 Ta0.118 Ti0.294 Zr0.294               NaN                        354.0                           NaN  10.1002.adma.201701678\n17           NaN          404.0                           NaN      Hf0.25Ta0.25Ti0.25Zr0.25                              NaN          TaHfZrTi                          NaN                           0.0  10.1002.adma.201701678\n18           NaN          405.0                           NaN  Hf0.278Ta0.167Ti0.278Zr0.278                              NaN       Ta0.6HfZrTi                          NaN                           0.0  10.1002.adma.201701678\n19           NaN          406.0                           NaN  Hf0.286Ta0.143Ti0.286Zr0.286                              NaN       Ta0.5HfZrTi                          NaN                           0.0  10.1002.adma.201701678\n20           NaN          407.0                           NaN  Hf0.294Ta0.118Ti0.294Zr0.294                              NaN       Ta0.4HfZrTi                          NaN                           0.0  10.1002.adma.201701678\n21           NaN          408.0                           NaN                                                            NaN             Ta0.4                          NaN                           0.0  10.1002.adma.201701678\n22           NaN          409.0                           NaN                          None                              NaN         TaxHfZrTi                          NaN                           0.0  10.1002.adma.201701678",
      "text/html": "<div>\n<style scoped>\n    .dataframe tbody tr th:only-of-type {\n        vertical-align: middle;\n    }\n\n    .dataframe tbody tr th {\n        vertical-align: top;\n    }\n\n    .dataframe thead th {\n        text-align: right;\n    }\n</style>\n<table border=\"1\" class=\"dataframe\">\n  <thead>\n    <tr style=\"text-align: right;\">\n      <th></th>\n      <th>original_idx</th>\n      <th>extracted_idx</th>\n      <th>normalized_formula_original</th>\n      <th>normalized_formula_extracted</th>\n      <th>FORMULA_original</th>\n      <th>FORMULA_extracted</th>\n      <th>PROPERTY: YS (MPa)_original</th>\n      <th>PROPERTY: YS (MPa)_extracted</th>\n      <th>match_group</th>\n    </tr>\n  </thead>\n  <tbody>\n    <tr>\n      <th>13</th>\n      <td>627.0</td>\n      <td>NaN</td>\n      <td>Hf0.278Ta0.167Ti0.278Zr0.278</td>\n      <td>NaN</td>\n      <td>Hf0.278 Ta0.167 Ti0.278 Zr0.278</td>\n      <td>NaN</td>\n      <td>750.0</td>\n      <td>NaN</td>\n      <td>10.1002.adma.201701678</td>\n    </tr>\n    <tr>\n      <th>14</th>\n      <td>628.0</td>\n      <td>NaN</td>\n      <td>Hf0.286Ta0.143Ti0.286Zr0.286</td>\n      <td>NaN</td>\n      <td>Hf0.286 Ta0.143 Ti0.286 Zr0.286</td>\n      <td>NaN</td>\n      <td>687.0</td>\n      <td>NaN</td>\n      <td>10.1002.adma.201701678</td>\n    </tr>\n    <tr>\n      <th>15</th>\n      <td>622.0</td>\n      <td>NaN</td>\n      <td>Hf0.25Ta0.25Ti0.25Zr0.25</td>\n      <td>NaN</td>\n      <td>Hf0.25 Ta0.25 Ti0.25 Zr0.25</td>\n      <td>NaN</td>\n      <td>1356.0</td>\n      <td>NaN</td>\n      <td>10.1002.adma.201701678</td>\n    </tr>\n    <tr>\n      <th>16</th>\n      <td>631.0</td>\n      <td>NaN</td>\n      <td>Hf0.294Ta0.118Ti0.294Zr0.294</td>\n      <td>NaN</td>\n      <td>Hf0.294 Ta0.118 Ti0.294 Zr0.294</td>\n      <td>NaN</td>\n      <td>354.0</td>\n      <td>NaN</td>\n      <td>10.1002.adma.201701678</td>\n    </tr>\n    <tr>\n      <th>17</th>\n      <td>NaN</td>\n      <td>404.0</td>\n      <td>NaN</td>\n      <td>Hf0.25Ta0.25Ti0.25Zr0.25</td>\n      <td>NaN</td>\n      <td>TaHfZrTi</td>\n      <td>NaN</td>\n      <td>0.0</td>\n      <td>10.1002.adma.201701678</td>\n    </tr>\n    <tr>\n      <th>18</th>\n      <td>NaN</td>\n      <td>405.0</td>\n      <td>NaN</td>\n      <td>Hf0.278Ta0.167Ti0.278Zr0.278</td>\n      <td>NaN</td>\n      <td>Ta0.6HfZrTi</td>\n      <td>NaN</td>\n      <td>0.0</td>\n      <td>10.1002.adma.201701678</td>\n    </tr>\n    <tr>\n      <th>19</th>\n      <td>NaN</td>\n      <td>406.0</td>\n      <td>NaN</td>\n      <td>Hf0.286Ta0.143Ti0.286Zr0.286</td>\n      <td>NaN</td>\n      <td>Ta0.5HfZrTi</td>\n      <td>NaN</td>\n      <td>0.0</td>\n      <td>10.1002.adma.201701678</td>\n    </tr>\n    <tr>\n      <th>20</th>\n      <td>NaN</td>\n      <td>407.0</td>\n      <td>NaN</td>\n      <td>Hf0.294Ta0.118Ti0.294Zr0.294</td>\n      <td>NaN</td>\n      <td>Ta0.4HfZrTi</td>\n      <td>NaN</td>\n      <td>0.0</td>\n      <td>10.1002.adma.201701678</td>\n    </tr>\n    <tr>\n      <th>21</th>\n      <td>NaN</td>\n      <td>408.0</td>\n      <td>NaN</td>\n      <td></td>\n      <td>NaN</td>\n      <td>Ta0.4</td>\n      <td>NaN</td>\n      <td>0.0</td>\n      <td>10.1002.adma.201701678</td>\n    </tr>\n    <tr>\n      <th>22</th>\n      <td>NaN</td>\n      <td>409.0</td>\n      <td>NaN</td>\n      <td>None</td>\n      <td>NaN</td>\n      <td>TaxHfZrTi</td>\n      <td>NaN</td>\n      <td>0.0</td>\n      <td>10.1002.adma.201701678</td>\n    </tr>\n  </tbody>\n</table>\n</div>"
     },
     "metadata": {},
     "output_type": "display_data"
    }
   ]
  },
  {
   "cell_type": "code",
   "source": [
    "extraction_df[extraction_df['doi'] ==doi]"
   ],
   "metadata": {
    "colab": {
     "base_uri": "https://localhost:8080/",
     "height": 262
    },
    "id": "W4-X6D6FSDj5",
    "executionInfo": {
     "status": "ok",
     "timestamp": 1707858754980,
     "user_tz": 300,
     "elapsed": 103,
     "user": {
      "displayName": "Satanu Ghosh",
      "userId": "07683061709303200546"
     }
    },
    "outputId": "9748a561-3640-43ae-d985-93dd284779cf",
    "ExecuteTime": {
     "end_time": "2024-05-20T19:58:59.115636600Z",
     "start_time": "2024-05-20T19:58:58.988119200Z"
    }
   },
   "execution_count": 117,
   "outputs": [
    {
     "data": {
      "text/plain": "         formula  yield_strength  grain_size  experimental_density  hardness  test_temperature  ultimate_tensile_strength  elongation  elongation_plastic                     doi            normalized_formula\n404     TaHfZrTi             0.0       100.0                   0.0       0.0               0.0                     1500.0         4.0                 0.0  10.1002.adma.201701678      Hf0.25Ta0.25Ti0.25Zr0.25\n405  Ta0.6HfZrTi             0.0         0.0                   0.0       0.0               0.0                     1100.0        20.0                 0.0  10.1002.adma.201701678  Hf0.278Ta0.167Ti0.278Zr0.278\n406  Ta0.5HfZrTi             0.0         0.0                   0.0       0.0               0.0                     1100.0        27.0                 0.0  10.1002.adma.201701678  Hf0.286Ta0.143Ti0.286Zr0.286\n407  Ta0.4HfZrTi             0.0         0.0                   0.0       0.0               0.0                        0.0         0.0                 0.0  10.1002.adma.201701678  Hf0.294Ta0.118Ti0.294Zr0.294\n408        Ta0.4             0.0         0.0                   0.0       0.0               0.0                        0.0         0.0                 0.0  10.1002.adma.201701678                              \n409    TaxHfZrTi             0.0         0.0                   0.0       0.0               0.0                        0.0         0.0                 0.0  10.1002.adma.201701678                          None",
      "text/html": "<div>\n<style scoped>\n    .dataframe tbody tr th:only-of-type {\n        vertical-align: middle;\n    }\n\n    .dataframe tbody tr th {\n        vertical-align: top;\n    }\n\n    .dataframe thead th {\n        text-align: right;\n    }\n</style>\n<table border=\"1\" class=\"dataframe\">\n  <thead>\n    <tr style=\"text-align: right;\">\n      <th></th>\n      <th>formula</th>\n      <th>yield_strength</th>\n      <th>grain_size</th>\n      <th>experimental_density</th>\n      <th>hardness</th>\n      <th>test_temperature</th>\n      <th>ultimate_tensile_strength</th>\n      <th>elongation</th>\n      <th>elongation_plastic</th>\n      <th>doi</th>\n      <th>normalized_formula</th>\n    </tr>\n  </thead>\n  <tbody>\n    <tr>\n      <th>404</th>\n      <td>TaHfZrTi</td>\n      <td>0.0</td>\n      <td>100.0</td>\n      <td>0.0</td>\n      <td>0.0</td>\n      <td>0.0</td>\n      <td>1500.0</td>\n      <td>4.0</td>\n      <td>0.0</td>\n      <td>10.1002.adma.201701678</td>\n      <td>Hf0.25Ta0.25Ti0.25Zr0.25</td>\n    </tr>\n    <tr>\n      <th>405</th>\n      <td>Ta0.6HfZrTi</td>\n      <td>0.0</td>\n      <td>0.0</td>\n      <td>0.0</td>\n      <td>0.0</td>\n      <td>0.0</td>\n      <td>1100.0</td>\n      <td>20.0</td>\n      <td>0.0</td>\n      <td>10.1002.adma.201701678</td>\n      <td>Hf0.278Ta0.167Ti0.278Zr0.278</td>\n    </tr>\n    <tr>\n      <th>406</th>\n      <td>Ta0.5HfZrTi</td>\n      <td>0.0</td>\n      <td>0.0</td>\n      <td>0.0</td>\n      <td>0.0</td>\n      <td>0.0</td>\n      <td>1100.0</td>\n      <td>27.0</td>\n      <td>0.0</td>\n      <td>10.1002.adma.201701678</td>\n      <td>Hf0.286Ta0.143Ti0.286Zr0.286</td>\n    </tr>\n    <tr>\n      <th>407</th>\n      <td>Ta0.4HfZrTi</td>\n      <td>0.0</td>\n      <td>0.0</td>\n      <td>0.0</td>\n      <td>0.0</td>\n      <td>0.0</td>\n      <td>0.0</td>\n      <td>0.0</td>\n      <td>0.0</td>\n      <td>10.1002.adma.201701678</td>\n      <td>Hf0.294Ta0.118Ti0.294Zr0.294</td>\n    </tr>\n    <tr>\n      <th>408</th>\n      <td>Ta0.4</td>\n      <td>0.0</td>\n      <td>0.0</td>\n      <td>0.0</td>\n      <td>0.0</td>\n      <td>0.0</td>\n      <td>0.0</td>\n      <td>0.0</td>\n      <td>0.0</td>\n      <td>10.1002.adma.201701678</td>\n      <td></td>\n    </tr>\n    <tr>\n      <th>409</th>\n      <td>TaxHfZrTi</td>\n      <td>0.0</td>\n      <td>0.0</td>\n      <td>0.0</td>\n      <td>0.0</td>\n      <td>0.0</td>\n      <td>0.0</td>\n      <td>0.0</td>\n      <td>0.0</td>\n      <td>10.1002.adma.201701678</td>\n      <td>None</td>\n    </tr>\n  </tbody>\n</table>\n</div>"
     },
     "execution_count": 117,
     "metadata": {},
     "output_type": "execute_result"
    }
   ]
  },
  {
   "cell_type": "code",
   "source": [
    "df_result[df_result['match_group']==doi][['original_idx', 'extracted_idx',\n",
    "                                          'normalized_formula_original',\n",
    "                                                     'normalized_formula_extracted',\n",
    "                                                     'FORMULA_original',\n",
    "                                                     'FORMULA_extracted',\n",
    "                                                     'PROPERTY: YS (MPa)_original',\n",
    "                                                     'PROPERTY: YS (MPa)_extracted',\n",
    "                                                     'match_group']]"
   ],
   "metadata": {
    "colab": {
     "base_uri": "https://localhost:8080/",
     "height": 262
    },
    "id": "zD4v2XG7Zm3a",
    "executionInfo": {
     "status": "ok",
     "timestamp": 1707858754986,
     "user_tz": 300,
     "elapsed": 107,
     "user": {
      "displayName": "Satanu Ghosh",
      "userId": "07683061709303200546"
     }
    },
    "outputId": "66e7c0dd-a055-47a6-bef1-b796337b7445",
    "ExecuteTime": {
     "end_time": "2024-05-20T19:59:01.186131200Z",
     "start_time": "2024-05-20T19:59:01.085621200Z"
    }
   },
   "execution_count": 118,
   "outputs": [
    {
     "data": {
      "text/plain": "    original_idx  extracted_idx   normalized_formula_original  normalized_formula_extracted                 FORMULA_original FORMULA_extracted  PROPERTY: YS (MPa)_original  PROPERTY: YS (MPa)_extracted             match_group\n13         627.0            NaN  Hf0.278Ta0.167Ti0.278Zr0.278                           NaN  Hf0.278 Ta0.167 Ti0.278 Zr0.278               NaN                        750.0                           NaN  10.1002.adma.201701678\n14         628.0            NaN  Hf0.286Ta0.143Ti0.286Zr0.286                           NaN  Hf0.286 Ta0.143 Ti0.286 Zr0.286               NaN                        687.0                           NaN  10.1002.adma.201701678\n15         622.0            NaN      Hf0.25Ta0.25Ti0.25Zr0.25                           NaN      Hf0.25 Ta0.25 Ti0.25 Zr0.25               NaN                       1356.0                           NaN  10.1002.adma.201701678\n16         631.0            NaN  Hf0.294Ta0.118Ti0.294Zr0.294                           NaN  Hf0.294 Ta0.118 Ti0.294 Zr0.294               NaN                        354.0                           NaN  10.1002.adma.201701678\n17           NaN          404.0                           NaN      Hf0.25Ta0.25Ti0.25Zr0.25                              NaN          TaHfZrTi                          NaN                           0.0  10.1002.adma.201701678\n18           NaN          405.0                           NaN  Hf0.278Ta0.167Ti0.278Zr0.278                              NaN       Ta0.6HfZrTi                          NaN                           0.0  10.1002.adma.201701678\n19           NaN          406.0                           NaN  Hf0.286Ta0.143Ti0.286Zr0.286                              NaN       Ta0.5HfZrTi                          NaN                           0.0  10.1002.adma.201701678\n20           NaN          407.0                           NaN  Hf0.294Ta0.118Ti0.294Zr0.294                              NaN       Ta0.4HfZrTi                          NaN                           0.0  10.1002.adma.201701678\n21           NaN          408.0                           NaN                                                            NaN             Ta0.4                          NaN                           0.0  10.1002.adma.201701678\n22           NaN          409.0                           NaN                          None                              NaN         TaxHfZrTi                          NaN                           0.0  10.1002.adma.201701678",
      "text/html": "<div>\n<style scoped>\n    .dataframe tbody tr th:only-of-type {\n        vertical-align: middle;\n    }\n\n    .dataframe tbody tr th {\n        vertical-align: top;\n    }\n\n    .dataframe thead th {\n        text-align: right;\n    }\n</style>\n<table border=\"1\" class=\"dataframe\">\n  <thead>\n    <tr style=\"text-align: right;\">\n      <th></th>\n      <th>original_idx</th>\n      <th>extracted_idx</th>\n      <th>normalized_formula_original</th>\n      <th>normalized_formula_extracted</th>\n      <th>FORMULA_original</th>\n      <th>FORMULA_extracted</th>\n      <th>PROPERTY: YS (MPa)_original</th>\n      <th>PROPERTY: YS (MPa)_extracted</th>\n      <th>match_group</th>\n    </tr>\n  </thead>\n  <tbody>\n    <tr>\n      <th>13</th>\n      <td>627.0</td>\n      <td>NaN</td>\n      <td>Hf0.278Ta0.167Ti0.278Zr0.278</td>\n      <td>NaN</td>\n      <td>Hf0.278 Ta0.167 Ti0.278 Zr0.278</td>\n      <td>NaN</td>\n      <td>750.0</td>\n      <td>NaN</td>\n      <td>10.1002.adma.201701678</td>\n    </tr>\n    <tr>\n      <th>14</th>\n      <td>628.0</td>\n      <td>NaN</td>\n      <td>Hf0.286Ta0.143Ti0.286Zr0.286</td>\n      <td>NaN</td>\n      <td>Hf0.286 Ta0.143 Ti0.286 Zr0.286</td>\n      <td>NaN</td>\n      <td>687.0</td>\n      <td>NaN</td>\n      <td>10.1002.adma.201701678</td>\n    </tr>\n    <tr>\n      <th>15</th>\n      <td>622.0</td>\n      <td>NaN</td>\n      <td>Hf0.25Ta0.25Ti0.25Zr0.25</td>\n      <td>NaN</td>\n      <td>Hf0.25 Ta0.25 Ti0.25 Zr0.25</td>\n      <td>NaN</td>\n      <td>1356.0</td>\n      <td>NaN</td>\n      <td>10.1002.adma.201701678</td>\n    </tr>\n    <tr>\n      <th>16</th>\n      <td>631.0</td>\n      <td>NaN</td>\n      <td>Hf0.294Ta0.118Ti0.294Zr0.294</td>\n      <td>NaN</td>\n      <td>Hf0.294 Ta0.118 Ti0.294 Zr0.294</td>\n      <td>NaN</td>\n      <td>354.0</td>\n      <td>NaN</td>\n      <td>10.1002.adma.201701678</td>\n    </tr>\n    <tr>\n      <th>17</th>\n      <td>NaN</td>\n      <td>404.0</td>\n      <td>NaN</td>\n      <td>Hf0.25Ta0.25Ti0.25Zr0.25</td>\n      <td>NaN</td>\n      <td>TaHfZrTi</td>\n      <td>NaN</td>\n      <td>0.0</td>\n      <td>10.1002.adma.201701678</td>\n    </tr>\n    <tr>\n      <th>18</th>\n      <td>NaN</td>\n      <td>405.0</td>\n      <td>NaN</td>\n      <td>Hf0.278Ta0.167Ti0.278Zr0.278</td>\n      <td>NaN</td>\n      <td>Ta0.6HfZrTi</td>\n      <td>NaN</td>\n      <td>0.0</td>\n      <td>10.1002.adma.201701678</td>\n    </tr>\n    <tr>\n      <th>19</th>\n      <td>NaN</td>\n      <td>406.0</td>\n      <td>NaN</td>\n      <td>Hf0.286Ta0.143Ti0.286Zr0.286</td>\n      <td>NaN</td>\n      <td>Ta0.5HfZrTi</td>\n      <td>NaN</td>\n      <td>0.0</td>\n      <td>10.1002.adma.201701678</td>\n    </tr>\n    <tr>\n      <th>20</th>\n      <td>NaN</td>\n      <td>407.0</td>\n      <td>NaN</td>\n      <td>Hf0.294Ta0.118Ti0.294Zr0.294</td>\n      <td>NaN</td>\n      <td>Ta0.4HfZrTi</td>\n      <td>NaN</td>\n      <td>0.0</td>\n      <td>10.1002.adma.201701678</td>\n    </tr>\n    <tr>\n      <th>21</th>\n      <td>NaN</td>\n      <td>408.0</td>\n      <td>NaN</td>\n      <td></td>\n      <td>NaN</td>\n      <td>Ta0.4</td>\n      <td>NaN</td>\n      <td>0.0</td>\n      <td>10.1002.adma.201701678</td>\n    </tr>\n    <tr>\n      <th>22</th>\n      <td>NaN</td>\n      <td>409.0</td>\n      <td>NaN</td>\n      <td>None</td>\n      <td>NaN</td>\n      <td>TaxHfZrTi</td>\n      <td>NaN</td>\n      <td>0.0</td>\n      <td>10.1002.adma.201701678</td>\n    </tr>\n  </tbody>\n</table>\n</div>"
     },
     "execution_count": 118,
     "metadata": {},
     "output_type": "execute_result"
    }
   ]
  },
  {
   "cell_type": "code",
   "source": [
    "filtered_paper_df[filtered_paper_df['processed_doi'] ==doi]"
   ],
   "metadata": {
    "colab": {
     "base_uri": "https://localhost:8080/",
     "height": 542
    },
    "id": "6BST9kAxZJ7q",
    "executionInfo": {
     "status": "ok",
     "timestamp": 1707858754986,
     "user_tz": 300,
     "elapsed": 106,
     "user": {
      "displayName": "Satanu Ghosh",
      "userId": "07683061709303200546"
     }
    },
    "outputId": "c0def22d-444d-43bb-fce9-07c378c7afe2",
    "ExecuteTime": {
     "end_time": "2024-05-20T19:59:03.240245100Z",
     "start_time": "2024-05-20T19:59:03.161235400Z"
    }
   },
   "execution_count": 119,
   "outputs": [
    {
     "data": {
      "text/plain": "     IDENTIFIER: Reference ID                          FORMULA PROPERTY: Microstructure PROPERTY: Processing method PROPERTY: BCC/FCC/other  PROPERTY: grain size ($\\mu$m)  PROPERTY: Exp. Density (g/cm$^3$)  PROPERTY: Computed Density (g/cm$^3$)  PROPERTY: HV PROPERTY: Type of test  \\\n622                        88      Hf0.25 Ta0.25 Ti0.25 Zr0.25                      BCC                        CAST                     BCC                            NaN                                NaN                                   10.2           NaN                      T   \n627                        88  Hf0.278 Ta0.167 Ti0.278 Zr0.278                  BCC+HCP                        CAST                   other                            NaN                                NaN                                    9.5           NaN                      T   \n628                        88  Hf0.286 Ta0.143 Ti0.286 Zr0.286                  BCC+HCP                        CAST                   other                            NaN                                NaN                                    9.3           NaN                      T   \n631                        88  Hf0.294 Ta0.118 Ti0.294 Zr0.294                  BCC+HCP                        CAST                   other                            NaN                                NaN                                    9.1           NaN                      T   \n\n     PROPERTY: Test temperature ($^\\circ$C)  PROPERTY: YS (MPa)  PROPERTY: UTS (MPa)  PROPERTY: Elongation (%)  PROPERTY: Elongation plastic (%)  PROPERTY: Exp. Young modulus (GPa)  PROPERTY: Computed Young modulus (GPa)  PROPERTY: O content (wppm)  PROPERTY: N content (wppm)  \\\n622                                    25.0              1356.0               1452.0                       4.0                               NaN                                 NaN                                   112.0                         NaN                         NaN   \n627                                    25.0               750.0               1110.0                       NaN                               NaN                                 NaN                                   104.0                         NaN                         NaN   \n628                                    25.0               687.0               1119.0                      29.9                               NaN                                 NaN                                   101.0                         NaN                         NaN   \n631                                    25.0               354.0               1100.0                      30.6                               NaN                                 NaN                                    99.0                         NaN                         NaN   \n\n     PROPERTY: C content (wppm)          REFERENCE: doi  REFERENCE: year                                   REFERENCE: title           processed_doi            normalized_formula  \n622                         NaN  10.1002/adma.201701678           2017.0  Phase-Transformation Ductilization of Brittle ...  10.1002.adma.201701678      Hf0.25Ta0.25Ti0.25Zr0.25  \n627                         NaN  10.1002/adma.201701678           2017.0  Phase-Transformation Ductilization of Brittle ...  10.1002.adma.201701678  Hf0.278Ta0.167Ti0.278Zr0.278  \n628                         NaN  10.1002/adma.201701678           2017.0  Phase-Transformation Ductilization of Brittle ...  10.1002.adma.201701678  Hf0.286Ta0.143Ti0.286Zr0.286  \n631                         NaN  10.1002/adma.201701678           2017.0  Phase-Transformation Ductilization of Brittle ...  10.1002.adma.201701678  Hf0.294Ta0.118Ti0.294Zr0.294  ",
      "text/html": "<div>\n<style scoped>\n    .dataframe tbody tr th:only-of-type {\n        vertical-align: middle;\n    }\n\n    .dataframe tbody tr th {\n        vertical-align: top;\n    }\n\n    .dataframe thead th {\n        text-align: right;\n    }\n</style>\n<table border=\"1\" class=\"dataframe\">\n  <thead>\n    <tr style=\"text-align: right;\">\n      <th></th>\n      <th>IDENTIFIER: Reference ID</th>\n      <th>FORMULA</th>\n      <th>PROPERTY: Microstructure</th>\n      <th>PROPERTY: Processing method</th>\n      <th>PROPERTY: BCC/FCC/other</th>\n      <th>PROPERTY: grain size ($\\mu$m)</th>\n      <th>PROPERTY: Exp. Density (g/cm$^3$)</th>\n      <th>PROPERTY: Computed Density (g/cm$^3$)</th>\n      <th>PROPERTY: HV</th>\n      <th>PROPERTY: Type of test</th>\n      <th>PROPERTY: Test temperature ($^\\circ$C)</th>\n      <th>PROPERTY: YS (MPa)</th>\n      <th>PROPERTY: UTS (MPa)</th>\n      <th>PROPERTY: Elongation (%)</th>\n      <th>PROPERTY: Elongation plastic (%)</th>\n      <th>PROPERTY: Exp. Young modulus (GPa)</th>\n      <th>PROPERTY: Computed Young modulus (GPa)</th>\n      <th>PROPERTY: O content (wppm)</th>\n      <th>PROPERTY: N content (wppm)</th>\n      <th>PROPERTY: C content (wppm)</th>\n      <th>REFERENCE: doi</th>\n      <th>REFERENCE: year</th>\n      <th>REFERENCE: title</th>\n      <th>processed_doi</th>\n      <th>normalized_formula</th>\n    </tr>\n  </thead>\n  <tbody>\n    <tr>\n      <th>622</th>\n      <td>88</td>\n      <td>Hf0.25 Ta0.25 Ti0.25 Zr0.25</td>\n      <td>BCC</td>\n      <td>CAST</td>\n      <td>BCC</td>\n      <td>NaN</td>\n      <td>NaN</td>\n      <td>10.2</td>\n      <td>NaN</td>\n      <td>T</td>\n      <td>25.0</td>\n      <td>1356.0</td>\n      <td>1452.0</td>\n      <td>4.0</td>\n      <td>NaN</td>\n      <td>NaN</td>\n      <td>112.0</td>\n      <td>NaN</td>\n      <td>NaN</td>\n      <td>NaN</td>\n      <td>10.1002/adma.201701678</td>\n      <td>2017.0</td>\n      <td>Phase-Transformation Ductilization of Brittle ...</td>\n      <td>10.1002.adma.201701678</td>\n      <td>Hf0.25Ta0.25Ti0.25Zr0.25</td>\n    </tr>\n    <tr>\n      <th>627</th>\n      <td>88</td>\n      <td>Hf0.278 Ta0.167 Ti0.278 Zr0.278</td>\n      <td>BCC+HCP</td>\n      <td>CAST</td>\n      <td>other</td>\n      <td>NaN</td>\n      <td>NaN</td>\n      <td>9.5</td>\n      <td>NaN</td>\n      <td>T</td>\n      <td>25.0</td>\n      <td>750.0</td>\n      <td>1110.0</td>\n      <td>NaN</td>\n      <td>NaN</td>\n      <td>NaN</td>\n      <td>104.0</td>\n      <td>NaN</td>\n      <td>NaN</td>\n      <td>NaN</td>\n      <td>10.1002/adma.201701678</td>\n      <td>2017.0</td>\n      <td>Phase-Transformation Ductilization of Brittle ...</td>\n      <td>10.1002.adma.201701678</td>\n      <td>Hf0.278Ta0.167Ti0.278Zr0.278</td>\n    </tr>\n    <tr>\n      <th>628</th>\n      <td>88</td>\n      <td>Hf0.286 Ta0.143 Ti0.286 Zr0.286</td>\n      <td>BCC+HCP</td>\n      <td>CAST</td>\n      <td>other</td>\n      <td>NaN</td>\n      <td>NaN</td>\n      <td>9.3</td>\n      <td>NaN</td>\n      <td>T</td>\n      <td>25.0</td>\n      <td>687.0</td>\n      <td>1119.0</td>\n      <td>29.9</td>\n      <td>NaN</td>\n      <td>NaN</td>\n      <td>101.0</td>\n      <td>NaN</td>\n      <td>NaN</td>\n      <td>NaN</td>\n      <td>10.1002/adma.201701678</td>\n      <td>2017.0</td>\n      <td>Phase-Transformation Ductilization of Brittle ...</td>\n      <td>10.1002.adma.201701678</td>\n      <td>Hf0.286Ta0.143Ti0.286Zr0.286</td>\n    </tr>\n    <tr>\n      <th>631</th>\n      <td>88</td>\n      <td>Hf0.294 Ta0.118 Ti0.294 Zr0.294</td>\n      <td>BCC+HCP</td>\n      <td>CAST</td>\n      <td>other</td>\n      <td>NaN</td>\n      <td>NaN</td>\n      <td>9.1</td>\n      <td>NaN</td>\n      <td>T</td>\n      <td>25.0</td>\n      <td>354.0</td>\n      <td>1100.0</td>\n      <td>30.6</td>\n      <td>NaN</td>\n      <td>NaN</td>\n      <td>99.0</td>\n      <td>NaN</td>\n      <td>NaN</td>\n      <td>NaN</td>\n      <td>10.1002/adma.201701678</td>\n      <td>2017.0</td>\n      <td>Phase-Transformation Ductilization of Brittle ...</td>\n      <td>10.1002.adma.201701678</td>\n      <td>Hf0.294Ta0.118Ti0.294Zr0.294</td>\n    </tr>\n  </tbody>\n</table>\n</div>"
     },
     "execution_count": 119,
     "metadata": {},
     "output_type": "execute_result"
    }
   ]
  },
  {
   "cell_type": "code",
   "execution_count": null,
   "outputs": [],
   "source": [],
   "metadata": {
    "collapsed": false,
    "is_executing": true
   }
  }
 ]
}
