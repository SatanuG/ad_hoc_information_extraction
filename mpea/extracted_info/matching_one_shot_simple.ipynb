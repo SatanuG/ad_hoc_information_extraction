{
 "nbformat": 4,
 "nbformat_minor": 0,
 "metadata": {
  "colab": {
   "provenance": [
    {
     "file_id": "1ODEIBLu2psm3uY-ADucI39Rl3pN4XQ15",
     "timestamp": 1707102689745
    }
   ],
   "toc_visible": true
  },
  "kernelspec": {
   "name": "python3",
   "language": "python",
   "display_name": "Python 3 (ipykernel)"
  },
  "language_info": {
   "name": "python"
  }
 },
 "cells": [
  {
   "cell_type": "code",
   "source": [
    "import os\n",
    "from pprint import pprint"
   ],
   "metadata": {
    "id": "ndvrLrkYl6uv",
    "ExecuteTime": {
     "end_time": "2024-05-17T19:08:15.305008200Z",
     "start_time": "2024-05-17T19:08:15.221003800Z"
    }
   },
   "execution_count": 116,
   "outputs": []
  },
  {
   "cell_type": "code",
   "execution_count": 117,
   "outputs": [
    {
     "name": "stdout",
     "output_type": "stream",
     "text": [
      "\u001B[0m\u001B[01;34mlangchain_0shot_complex\u001B[0m/          MPEA_matching_complex.ipynb\r\n",
      "\u001B[01;34mlangchain_0shot_simple\u001B[0m/           MPEA_matching_simple.ipynb\r\n",
      "matched_complex_zeroshot.csv      \u001B[01;34mschema_0shot_complex\u001B[0m/\r\n",
      "matched_simple_zeroshot.csv       \u001B[01;34mschema_0shot_simple\u001B[0m/\r\n",
      "matching_zero_shot_complex.ipynb  \u001B[01;34mschema_1shot_complex\u001B[0m/\r\n",
      "matching_zero_shot_simple.ipynb   \u001B[01;34mschema_1shot_simple\u001B[0m/\r\n"
     ]
    }
   ],
   "source": [
    "%ls"
   ],
   "metadata": {
    "collapsed": false,
    "ExecuteTime": {
     "end_time": "2024-05-17T19:08:16.684116600Z",
     "start_time": "2024-05-17T19:08:16.454096200Z"
    }
   }
  },
  {
   "cell_type": "code",
   "source": [
    "data_path = '../RMPEA Dataset filtered Aug 30 23.csv'\n",
    "assert os.path.exists(data_path)"
   ],
   "metadata": {
    "id": "QMHkyCb5kyeR",
    "ExecuteTime": {
     "end_time": "2024-05-17T19:08:16.824356500Z",
     "start_time": "2024-05-17T19:08:16.693112300Z"
    }
   },
   "execution_count": 118,
   "outputs": []
  },
  {
   "cell_type": "code",
   "source": [
    "extraction_dir = 'schema_0shot_simple/'"
   ],
   "metadata": {
    "id": "Cw4aCnNrl1DB",
    "ExecuteTime": {
     "end_time": "2024-05-17T19:08:17.190061700Z",
     "start_time": "2024-05-17T19:08:16.989368100Z"
    }
   },
   "execution_count": 119,
   "outputs": []
  },
  {
   "cell_type": "code",
   "source": [
    "%pip install pymatgen"
   ],
   "metadata": {
    "colab": {
     "base_uri": "https://localhost:8080/"
    },
    "id": "qKAogeVsgQdS",
    "executionInfo": {
     "status": "ok",
     "timestamp": 1707858580793,
     "user_tz": 300,
     "elapsed": 15585,
     "user": {
      "displayName": "Satanu Ghosh",
      "userId": "07683061709303200546"
     }
    },
    "outputId": "6c5e162a-1153-4a4d-959c-4ce14b0b6313",
    "ExecuteTime": {
     "end_time": "2024-05-17T19:08:20.528434400Z",
     "start_time": "2024-05-17T19:08:17.188062800Z"
    }
   },
   "execution_count": 120,
   "outputs": [
    {
     "name": "stdout",
     "output_type": "stream",
     "text": [
      "Requirement already satisfied: pymatgen in /data/anaconda3/envs/satanu/lib/python3.10/site-packages (2023.1.30)\r\n",
      "Requirement already satisfied: numpy>=1.20.1 in /data/anaconda3/envs/satanu/lib/python3.10/site-packages (from pymatgen) (1.23.5)\r\n",
      "Requirement already satisfied: sympy in /data/anaconda3/envs/satanu/lib/python3.10/site-packages (from pymatgen) (1.11.1)\r\n",
      "Requirement already satisfied: networkx>=2.2 in /data/anaconda3/envs/satanu/lib/python3.10/site-packages (from pymatgen) (3.0)\r\n",
      "Requirement already satisfied: plotly>=4.5.0 in /data/anaconda3/envs/satanu/lib/python3.10/site-packages (from pymatgen) (5.13.0)\r\n",
      "Requirement already satisfied: requests in /data/anaconda3/envs/satanu/lib/python3.10/site-packages (from pymatgen) (2.28.2)\r\n",
      "Requirement already satisfied: matplotlib>=1.5 in /data/anaconda3/envs/satanu/lib/python3.10/site-packages (from pymatgen) (3.8.3)\r\n",
      "Requirement already satisfied: scipy>=1.5.0 in /data/anaconda3/envs/satanu/lib/python3.10/site-packages (from pymatgen) (1.10.1)\r\n",
      "Requirement already satisfied: spglib>=2.0.2 in /data/anaconda3/envs/satanu/lib/python3.10/site-packages (from pymatgen) (2.0.2)\r\n",
      "Requirement already satisfied: monty>=3.0.2 in /data/anaconda3/envs/satanu/lib/python3.10/site-packages (from pymatgen) (2022.9.9)\r\n",
      "Requirement already satisfied: tqdm in /data/anaconda3/envs/satanu/lib/python3.10/site-packages (from pymatgen) (4.65.0)\r\n",
      "Requirement already satisfied: mp-api>=0.27.3 in /data/anaconda3/envs/satanu/lib/python3.10/site-packages (from pymatgen) (0.30.8)\r\n",
      "Requirement already satisfied: pybtex in /data/anaconda3/envs/satanu/lib/python3.10/site-packages (from pymatgen) (0.24.0)\r\n",
      "Requirement already satisfied: tabulate in /data/anaconda3/envs/satanu/lib/python3.10/site-packages (from pymatgen) (0.9.0)\r\n",
      "Requirement already satisfied: palettable>=3.1.1 in /data/anaconda3/envs/satanu/lib/python3.10/site-packages (from pymatgen) (3.3.0)\r\n",
      "Requirement already satisfied: pandas in /data/anaconda3/envs/satanu/lib/python3.10/site-packages (from pymatgen) (1.5.3)\r\n",
      "Requirement already satisfied: uncertainties>=3.1.4 in /data/anaconda3/envs/satanu/lib/python3.10/site-packages (from pymatgen) (3.1.7)\r\n",
      "Requirement already satisfied: ruamel.yaml>=0.17.0 in /data/anaconda3/envs/satanu/lib/python3.10/site-packages (from pymatgen) (0.17.21)\r\n",
      "Requirement already satisfied: pyparsing>=2.3.1 in /data/anaconda3/envs/satanu/lib/python3.10/site-packages (from matplotlib>=1.5->pymatgen) (3.1.1)\r\n",
      "Requirement already satisfied: contourpy>=1.0.1 in /data/anaconda3/envs/satanu/lib/python3.10/site-packages (from matplotlib>=1.5->pymatgen) (1.2.0)\r\n",
      "Requirement already satisfied: kiwisolver>=1.3.1 in /data/anaconda3/envs/satanu/lib/python3.10/site-packages (from matplotlib>=1.5->pymatgen) (1.4.5)\r\n",
      "Requirement already satisfied: packaging>=20.0 in /data/anaconda3/envs/satanu/lib/python3.10/site-packages (from matplotlib>=1.5->pymatgen) (23.2)\r\n",
      "Requirement already satisfied: cycler>=0.10 in /data/anaconda3/envs/satanu/lib/python3.10/site-packages (from matplotlib>=1.5->pymatgen) (0.12.1)\r\n",
      "Requirement already satisfied: python-dateutil>=2.7 in /data/anaconda3/envs/satanu/lib/python3.10/site-packages (from matplotlib>=1.5->pymatgen) (2.9.0.post0)\r\n",
      "Requirement already satisfied: fonttools>=4.22.0 in /data/anaconda3/envs/satanu/lib/python3.10/site-packages (from matplotlib>=1.5->pymatgen) (4.49.0)\r\n",
      "Requirement already satisfied: pillow>=8 in /data/anaconda3/envs/satanu/lib/python3.10/site-packages (from matplotlib>=1.5->pymatgen) (10.2.0)\r\n",
      "Requirement already satisfied: emmet-core>=0.39.8 in /data/anaconda3/envs/satanu/lib/python3.10/site-packages (from mp-api>=0.27.3->pymatgen) (0.43.0)\r\n",
      "Requirement already satisfied: setuptools in /data/anaconda3/envs/satanu/lib/python3.10/site-packages (from mp-api>=0.27.3->pymatgen) (67.6.0)\r\n",
      "Requirement already satisfied: msgpack in /data/anaconda3/envs/satanu/lib/python3.10/site-packages (from mp-api>=0.27.3->pymatgen) (1.0.4)\r\n",
      "Requirement already satisfied: typing-extensions>=3.7.4.1 in /data/anaconda3/envs/satanu/lib/python3.10/site-packages (from mp-api>=0.27.3->pymatgen) (4.11.0)\r\n",
      "Requirement already satisfied: tenacity>=6.2.0 in /data/anaconda3/envs/satanu/lib/python3.10/site-packages (from plotly>=4.5.0->pymatgen) (8.1.0)\r\n",
      "Requirement already satisfied: idna<4,>=2.5 in /data/anaconda3/envs/satanu/lib/python3.10/site-packages (from requests->pymatgen) (2.10)\r\n",
      "Requirement already satisfied: certifi>=2017.4.17 in /data/anaconda3/envs/satanu/lib/python3.10/site-packages (from requests->pymatgen) (2022.12.7)\r\n",
      "Requirement already satisfied: charset-normalizer<4,>=2 in /data/anaconda3/envs/satanu/lib/python3.10/site-packages (from requests->pymatgen) (2.1.1)\r\n",
      "Requirement already satisfied: urllib3<1.27,>=1.21.1 in /data/anaconda3/envs/satanu/lib/python3.10/site-packages (from requests->pymatgen) (1.26.15)\r\n",
      "Requirement already satisfied: ruamel.yaml.clib>=0.2.6 in /data/anaconda3/envs/satanu/lib/python3.10/site-packages (from ruamel.yaml>=0.17.0->pymatgen) (0.2.7)\r\n",
      "Requirement already satisfied: future in /data/anaconda3/envs/satanu/lib/python3.10/site-packages (from uncertainties>=3.1.4->pymatgen) (0.18.3)\r\n",
      "Requirement already satisfied: pytz>=2020.1 in /data/anaconda3/envs/satanu/lib/python3.10/site-packages (from pandas->pymatgen) (2022.7.1)\r\n",
      "Requirement already satisfied: PyYAML>=3.01 in /data/anaconda3/envs/satanu/lib/python3.10/site-packages (from pybtex->pymatgen) (6.0)\r\n",
      "Requirement already satisfied: six in /data/anaconda3/envs/satanu/lib/python3.10/site-packages (from pybtex->pymatgen) (1.16.0)\r\n",
      "Requirement already satisfied: latexcodec>=1.0.4 in /data/anaconda3/envs/satanu/lib/python3.10/site-packages (from pybtex->pymatgen) (2.0.1)\r\n",
      "Requirement already satisfied: mpmath>=0.19 in /data/anaconda3/envs/satanu/lib/python3.10/site-packages (from sympy->pymatgen) (1.2.1)\r\n",
      "Requirement already satisfied: pydantic>=1.10.2 in /data/anaconda3/envs/satanu/lib/python3.10/site-packages (from emmet-core>=0.39.8->mp-api>=0.27.3->pymatgen) (1.10.12)\r\n",
      "Note: you may need to restart the kernel to use updated packages.\n"
     ]
    }
   ]
  },
  {
   "cell_type": "code",
   "source": [
    "# %pip install numpy==1.24.4"
   ],
   "metadata": {
    "id": "E48crVx45PmA",
    "ExecuteTime": {
     "end_time": "2024-05-17T19:08:20.530436Z",
     "start_time": "2024-05-17T19:08:20.511431800Z"
    }
   },
   "execution_count": 121,
   "outputs": []
  },
  {
   "cell_type": "markdown",
   "source": [
    "# Read paper dataset"
   ],
   "metadata": {
    "id": "YyNnnvOOmXd8"
   }
  },
  {
   "cell_type": "code",
   "source": [
    "import pandas as pd"
   ],
   "metadata": {
    "id": "8oO6kT1AmgFB",
    "ExecuteTime": {
     "end_time": "2024-05-17T19:08:20.530436Z",
     "start_time": "2024-05-17T19:08:20.518433500Z"
    }
   },
   "execution_count": 122,
   "outputs": []
  },
  {
   "cell_type": "code",
   "source": [
    "paper_df = pd.read_csv(data_path)\n",
    "display(paper_df.shape)\n",
    "display(paper_df.head(5))"
   ],
   "metadata": {
    "colab": {
     "base_uri": "https://localhost:8080/",
     "height": 863
    },
    "id": "jPzwa91Qmh3O",
    "executionInfo": {
     "status": "ok",
     "timestamp": 1707858581818,
     "user_tz": 300,
     "elapsed": 129,
     "user": {
      "displayName": "Satanu Ghosh",
      "userId": "07683061709303200546"
     }
    },
    "outputId": "3595b249-943c-4aa3-ec64-e62739f7b2d8",
    "ExecuteTime": {
     "end_time": "2024-05-17T19:08:20.630442100Z",
     "start_time": "2024-05-17T19:08:20.525432200Z"
    }
   },
   "execution_count": 123,
   "outputs": [
    {
     "data": {
      "text/plain": "(971, 23)"
     },
     "metadata": {},
     "output_type": "display_data"
    },
    {
     "data": {
      "text/plain": "   IDENTIFIER: Reference ID                                            FORMULA PROPERTY: Microstructure PROPERTY: Processing method PROPERTY: BCC/FCC/other  PROPERTY: grain size ($\\mu$m)  PROPERTY: Exp. Density (g/cm$^3$)  PROPERTY: Computed Density (g/cm$^3$)  PROPERTY: HV PROPERTY: Type of test  \\\n0                         7  Al0.025 Cr0.2 Mo0.2 Nb0.2 Ta0.025 Ti0.2 V0.05 ...                BCC+Laves                        CAST                   other                            NaN                               7.44                                    7.5           NaN                      C   \n1                         7  Al0.025 Cr0.2 Mo0.2 Nb0.2 Ta0.05 Ti0.2 V0.025 ...                BCC+Laves                        CAST                   other                            NaN                               7.77                                    7.8           NaN                      C   \n2                         7      Al0.025 Cr0.2 Mo0.2 Nb0.2 Ta0.075 Ti0.2 Zr0.1                BCC+Laves                        CAST                   other                            NaN                               8.06                                    8.1           NaN                      C   \n3                         7       Al0.025 Cr0.2 Mo0.2 Nb0.2 Ti0.2 V0.075 Zr0.1                BCC+Laves                        CAST                   other                            NaN                               7.19                                    7.3           NaN                      C   \n4                         1     Al0.038 Mo0.192 Nb0.192 Ta0.192 Ti0.192 V0.192                      BCC                        CAST                     BCC                            NaN                                NaN                                    9.0         474.0                      C   \n\n   PROPERTY: Test temperature ($^\\circ$C)  PROPERTY: YS (MPa)  PROPERTY: UTS (MPa)  PROPERTY: Elongation (%)  PROPERTY: Elongation plastic (%)  PROPERTY: Exp. Young modulus (GPa)  PROPERTY: Computed Young modulus (GPa)  PROPERTY: O content (wppm)  PROPERTY: N content (wppm)  \\\n0                                  1000.0               669.0                  NaN                       NaN                               NaN                                 NaN                                   185.0                         NaN                         NaN   \n1                                  1000.0               771.0                  NaN                       NaN                               NaN                                 NaN                                   187.0                         NaN                         NaN   \n2                                  1000.0               586.0                  NaN                       NaN                               NaN                                 NaN                                   188.0                         NaN                         NaN   \n3                                  1000.0              1100.0                  NaN                       NaN                               NaN                                 NaN                                   184.0                         NaN                         NaN   \n4                                    25.0              1292.0                  NaN                      16.0                               NaN                                 NaN                                   169.0                         NaN                         NaN   \n\n   PROPERTY: C content (wppm)                 REFERENCE: doi  REFERENCE: year                                   REFERENCE: title  \n0                         NaN  10.1016/j.jallcom.2020.155700           2020.0  Combinatorial development of the low-density h...  \n1                         NaN  10.1016/j.jallcom.2020.155700           2020.0  Combinatorial development of the low-density h...  \n2                         NaN  10.1016/j.jallcom.2020.155700           2020.0  Combinatorial development of the low-density h...  \n3                         NaN  10.1016/j.jallcom.2020.155700           2020.0  Combinatorial development of the low-density h...  \n4                         NaN     10.1016/j.msea.2020.139275           2020.0  Effects of Al addition on the microstructures ...  ",
      "text/html": "<div>\n<style scoped>\n    .dataframe tbody tr th:only-of-type {\n        vertical-align: middle;\n    }\n\n    .dataframe tbody tr th {\n        vertical-align: top;\n    }\n\n    .dataframe thead th {\n        text-align: right;\n    }\n</style>\n<table border=\"1\" class=\"dataframe\">\n  <thead>\n    <tr style=\"text-align: right;\">\n      <th></th>\n      <th>IDENTIFIER: Reference ID</th>\n      <th>FORMULA</th>\n      <th>PROPERTY: Microstructure</th>\n      <th>PROPERTY: Processing method</th>\n      <th>PROPERTY: BCC/FCC/other</th>\n      <th>PROPERTY: grain size ($\\mu$m)</th>\n      <th>PROPERTY: Exp. Density (g/cm$^3$)</th>\n      <th>PROPERTY: Computed Density (g/cm$^3$)</th>\n      <th>PROPERTY: HV</th>\n      <th>PROPERTY: Type of test</th>\n      <th>PROPERTY: Test temperature ($^\\circ$C)</th>\n      <th>PROPERTY: YS (MPa)</th>\n      <th>PROPERTY: UTS (MPa)</th>\n      <th>PROPERTY: Elongation (%)</th>\n      <th>PROPERTY: Elongation plastic (%)</th>\n      <th>PROPERTY: Exp. Young modulus (GPa)</th>\n      <th>PROPERTY: Computed Young modulus (GPa)</th>\n      <th>PROPERTY: O content (wppm)</th>\n      <th>PROPERTY: N content (wppm)</th>\n      <th>PROPERTY: C content (wppm)</th>\n      <th>REFERENCE: doi</th>\n      <th>REFERENCE: year</th>\n      <th>REFERENCE: title</th>\n    </tr>\n  </thead>\n  <tbody>\n    <tr>\n      <th>0</th>\n      <td>7</td>\n      <td>Al0.025 Cr0.2 Mo0.2 Nb0.2 Ta0.025 Ti0.2 V0.05 ...</td>\n      <td>BCC+Laves</td>\n      <td>CAST</td>\n      <td>other</td>\n      <td>NaN</td>\n      <td>7.44</td>\n      <td>7.5</td>\n      <td>NaN</td>\n      <td>C</td>\n      <td>1000.0</td>\n      <td>669.0</td>\n      <td>NaN</td>\n      <td>NaN</td>\n      <td>NaN</td>\n      <td>NaN</td>\n      <td>185.0</td>\n      <td>NaN</td>\n      <td>NaN</td>\n      <td>NaN</td>\n      <td>10.1016/j.jallcom.2020.155700</td>\n      <td>2020.0</td>\n      <td>Combinatorial development of the low-density h...</td>\n    </tr>\n    <tr>\n      <th>1</th>\n      <td>7</td>\n      <td>Al0.025 Cr0.2 Mo0.2 Nb0.2 Ta0.05 Ti0.2 V0.025 ...</td>\n      <td>BCC+Laves</td>\n      <td>CAST</td>\n      <td>other</td>\n      <td>NaN</td>\n      <td>7.77</td>\n      <td>7.8</td>\n      <td>NaN</td>\n      <td>C</td>\n      <td>1000.0</td>\n      <td>771.0</td>\n      <td>NaN</td>\n      <td>NaN</td>\n      <td>NaN</td>\n      <td>NaN</td>\n      <td>187.0</td>\n      <td>NaN</td>\n      <td>NaN</td>\n      <td>NaN</td>\n      <td>10.1016/j.jallcom.2020.155700</td>\n      <td>2020.0</td>\n      <td>Combinatorial development of the low-density h...</td>\n    </tr>\n    <tr>\n      <th>2</th>\n      <td>7</td>\n      <td>Al0.025 Cr0.2 Mo0.2 Nb0.2 Ta0.075 Ti0.2 Zr0.1</td>\n      <td>BCC+Laves</td>\n      <td>CAST</td>\n      <td>other</td>\n      <td>NaN</td>\n      <td>8.06</td>\n      <td>8.1</td>\n      <td>NaN</td>\n      <td>C</td>\n      <td>1000.0</td>\n      <td>586.0</td>\n      <td>NaN</td>\n      <td>NaN</td>\n      <td>NaN</td>\n      <td>NaN</td>\n      <td>188.0</td>\n      <td>NaN</td>\n      <td>NaN</td>\n      <td>NaN</td>\n      <td>10.1016/j.jallcom.2020.155700</td>\n      <td>2020.0</td>\n      <td>Combinatorial development of the low-density h...</td>\n    </tr>\n    <tr>\n      <th>3</th>\n      <td>7</td>\n      <td>Al0.025 Cr0.2 Mo0.2 Nb0.2 Ti0.2 V0.075 Zr0.1</td>\n      <td>BCC+Laves</td>\n      <td>CAST</td>\n      <td>other</td>\n      <td>NaN</td>\n      <td>7.19</td>\n      <td>7.3</td>\n      <td>NaN</td>\n      <td>C</td>\n      <td>1000.0</td>\n      <td>1100.0</td>\n      <td>NaN</td>\n      <td>NaN</td>\n      <td>NaN</td>\n      <td>NaN</td>\n      <td>184.0</td>\n      <td>NaN</td>\n      <td>NaN</td>\n      <td>NaN</td>\n      <td>10.1016/j.jallcom.2020.155700</td>\n      <td>2020.0</td>\n      <td>Combinatorial development of the low-density h...</td>\n    </tr>\n    <tr>\n      <th>4</th>\n      <td>1</td>\n      <td>Al0.038 Mo0.192 Nb0.192 Ta0.192 Ti0.192 V0.192</td>\n      <td>BCC</td>\n      <td>CAST</td>\n      <td>BCC</td>\n      <td>NaN</td>\n      <td>NaN</td>\n      <td>9.0</td>\n      <td>474.0</td>\n      <td>C</td>\n      <td>25.0</td>\n      <td>1292.0</td>\n      <td>NaN</td>\n      <td>16.0</td>\n      <td>NaN</td>\n      <td>NaN</td>\n      <td>169.0</td>\n      <td>NaN</td>\n      <td>NaN</td>\n      <td>NaN</td>\n      <td>10.1016/j.msea.2020.139275</td>\n      <td>2020.0</td>\n      <td>Effects of Al addition on the microstructures ...</td>\n    </tr>\n  </tbody>\n</table>\n</div>"
     },
     "metadata": {},
     "output_type": "display_data"
    }
   ]
  },
  {
   "cell_type": "markdown",
   "source": [
    "## Analyzing unique keys"
   ],
   "metadata": {
    "id": "CtoXwarbPEK_"
   }
  },
  {
   "cell_type": "code",
   "source": [
    "gb = paper_df.groupby(['REFERENCE: doi','FORMULA','PROPERTY: YS (MPa)'])"
   ],
   "metadata": {
    "id": "kvWnzTo0PHP3",
    "ExecuteTime": {
     "end_time": "2024-05-17T19:08:20.729447900Z",
     "start_time": "2024-05-17T19:08:20.560435800Z"
    }
   },
   "execution_count": 124,
   "outputs": []
  },
  {
   "cell_type": "code",
   "source": [
    "len(gb.groups)"
   ],
   "metadata": {
    "colab": {
     "base_uri": "https://localhost:8080/"
    },
    "id": "ayWmZly4PYEJ",
    "executionInfo": {
     "status": "ok",
     "timestamp": 1707858581819,
     "user_tz": 300,
     "elapsed": 126,
     "user": {
      "displayName": "Satanu Ghosh",
      "userId": "07683061709303200546"
     }
    },
    "outputId": "f9c9d833-4c49-48d9-a9c2-72800f189fba",
    "ExecuteTime": {
     "end_time": "2024-05-17T19:08:20.730448Z",
     "start_time": "2024-05-17T19:08:20.601439900Z"
    }
   },
   "execution_count": 125,
   "outputs": [
    {
     "data": {
      "text/plain": "883"
     },
     "execution_count": 125,
     "metadata": {},
     "output_type": "execute_result"
    }
   ]
  },
  {
   "cell_type": "code",
   "source": [
    "for group in gb.groups:\n",
    "  print(gb.indices)\n",
    "  break"
   ],
   "metadata": {
    "colab": {
     "base_uri": "https://localhost:8080/"
    },
    "id": "UYtU1sIxPuE8",
    "executionInfo": {
     "status": "ok",
     "timestamp": 1707858581819,
     "user_tz": 300,
     "elapsed": 123,
     "user": {
      "displayName": "Satanu Ghosh",
      "userId": "07683061709303200546"
     }
    },
    "outputId": "111ebf98-e974-4dc1-e84c-9d359b4822b3",
    "ExecuteTime": {
     "end_time": "2024-05-17T19:08:20.828454700Z",
     "start_time": "2024-05-17T19:08:20.601439900Z"
    }
   },
   "execution_count": 126,
   "outputs": [
    {
     "name": "stdout",
     "output_type": "stream",
     "text": [
      "{('10.1002/adem.202100765', 'Mo0.25 Re0.25 Ta0.25 W0.25', 172.0): array([823]), ('10.1002/adem.202100765', 'Mo0.25 Re0.25 Ta0.25 W0.25', 1075.0): array([822]), ('10.1002/adma.201701678', 'Hf0.25 Ta0.25 Ti0.25 Zr0.25', 1356.0): array([622]), ('10.1002/adma.201701678', 'Hf0.278 Ta0.167 Ti0.278 Zr0.278', 750.0): array([627]), ('10.1002/adma.201701678', 'Hf0.286 Ta0.143 Ti0.286 Zr0.286', 687.0): array([628]), ('10.1002/adma.201701678', 'Hf0.294 Ta0.118 Ti0.294 Zr0.294', 354.0): array([631]), ('10.1007/s00339-019-2484-1', 'Hf0.2 Sc0.2 Ti0.2 Y0.2 Zr0.2', 793.0): array([569]), ('10.1007/s00339-019-2484-1', 'Hf0.25 Sc0.25 Ti0.25 Zr0.25', 1001.0): array([621]), ('10.1007/s00339-019-2484-1', 'Hf0.25 Ti0.25 Y0.25 Zr0.25', 554.0): array([625]), ('10.1007/s00339-019-2484-1', 'Hf0.333 Ti0.333 Zr0.333', 773.0): array([639]), ('10.1007/s10853-012-6260-2', 'Hf0.2 Nb0.2 Ta0.2 Ti0.2 Zr0.2', 92.0): array([470]), ('10.1007/s10853-012-6260-2', 'Hf0.2 Nb0.2 Ta0.2 Ti0.2 Zr0.2', 295.0): array([469]), ('10.1007/s10853-012-6260-2', 'Hf0.2 Nb0.2 Ta0.2 Ti0.2 Zr0.2', 535.0): array([468]), ('10.1007/s10853-012-6260-2', 'Hf0.2 Nb0.2 Ta0.2 Ti0.2 Zr0.2', 675.0): array([467]), ('10.1007/s10853-012-6260-2', 'Hf0.2 Nb0.2 Ta0.2 Ti0.2 Zr0.2', 790.0): array([466]), ('10.1007/s10853-012-6260-2', 'Hf0.2 Nb0.2 Ta0.2 Ti0.2 Zr0.2', 929.0): array([465]), ('10.1007/s10853-019-03567-9', 'Mo0.211 Nb0.211 Si0.158 Ta0.211 W0.211', 960.0): array([753]), ('10.1007/s10853-019-03567-9', 'Mo0.211 Nb0.211 Si0.158 Ta0.211 W0.211', 2483.0): array([748]), ('10.1007/s10853-019-03567-9', 'Mo0.222 Nb0.222 Si0.111 Ta0.222 W0.222', 1883.0): array([761]), ('10.1007/s10853-019-03567-9', 'Mo0.235 Nb0.235 Si0.059 Ta0.235 W0.235', 1826.0): array([773]), ('10.1007/s10853-019-03567-9', 'Mo0.25 Nb0.25 Ta0.25 W0.25', 1217.0): array([799]), ('10.1007/s11661-017-4386-1', 'Al0.2 Cr0.2 Mo0.2 Nb0.2 Ti0.2', 150.0): array([171]), ('10.1007/s11661-017-4386-1', 'Al0.2 Cr0.2 Mo0.2 Nb0.2 Ti0.2', 550.0): array([170]), ('10.1007/s11661-017-4386-1', 'Al0.2 Cr0.2 Mo0.2 Nb0.2 Ti0.2', 875.0): array([169]), ('10.1007/s11661-017-4386-1', 'Al0.2 Cr0.2 Mo0.2 Nb0.2 Ti0.2', 930.0): array([168]), ('10.1007/s11661-017-4386-1', 'Al0.25 Cr0.25 Mo0.25 Ti0.25', 100.0): array([231]), ('10.1007/s11661-017-4386-1', 'Al0.25 Cr0.25 Mo0.25 Ti0.25', 375.0): array([230]), ('10.1007/s11661-017-4386-1', 'Al0.25 Cr0.25 Mo0.25 Ti0.25', 875.0): array([229]), ('10.1007/s11661-017-4386-1', 'Al0.25 Cr0.25 Mo0.25 Ti0.25', 1020.0): array([228]), ('10.1007/s11661-017-4386-1', 'Al0.25 Cr0.25 Mo0.25 Ti0.25', 1070.0): array([227]), ('10.1007/s11661-017-4386-1', 'Al0.25 Mo0.25 Nb0.25 Ti0.25', 200.0): array([242]), ('10.1007/s11661-017-4386-1', 'Al0.25 Mo0.25 Nb0.25 Ti0.25', 500.0): array([240]), ('10.1007/s11661-017-4386-1', 'Al0.25 Mo0.25 Nb0.25 Ti0.25', 520.0): array([239]), ('10.1007/s11661-017-4386-1', 'Al0.25 Mo0.25 Nb0.25 Ti0.25', 540.0): array([241]), ('10.1007/s11661-018-4646-8', 'Hf0.2 Nb0.2 Ta0.2 Ti0.2 Zr0.2', 1071.0): array([477]), ('10.1007/s11661-018-4646-8', 'Hf0.2 Nb0.2 Ta0.2 Ti0.2 Zr0.2', 1094.0): array([476]), ('10.1007/s11661-018-4646-8', 'Hf0.2 Nb0.2 Ta0.2 Ti0.2 Zr0.2', 1107.0): array([475]), ('10.1007/s11661-018-4646-8', 'Hf0.2 Nb0.2 Ta0.2 Ti0.2 Zr0.2', 1114.0): array([474]), ('10.1007/s11661-018-4646-8', 'Hf0.2 Nb0.2 Ta0.2 Ti0.2 Zr0.2', 1115.0): array([473]), ('10.1007/s11661-018-4646-8', 'Hf0.2 Nb0.2 Ta0.2 Ti0.2 Zr0.2', 1134.0): array([472]), ('10.1007/s11661-018-4646-8', 'Hf0.2 Nb0.2 Ta0.2 Ti0.2 Zr0.2', 1159.0): array([471]), ('10.1007/s11661-018-4646-8', 'Hf0.2 Nb0.2 Ta0.2 Ti0.2 Zr0.2', 1438.0): array([478]), ('10.1007/s11837-012-0366-5', 'Mo0.143 Nb0.143 Ti0.143 V0.429 Zr0.143', 1418.0): array([684]), ('10.1007/s11837-012-0366-5', 'Mo0.167 Nb0.167 Ti0.167 V0.333 Zr0.167', 1538.0): array([692]), ('10.1007/s11837-012-0366-5', 'Mo0.182 Nb0.182 Ti0.182 V0.273 Zr0.182', 1735.0): array([699]), ('10.1007/s11837-012-0366-5', 'Mo0.2 Nb0.2 Ti0.2 V0.2 Zr0.2', 1786.0): array([739]), ('10.1007/s11837-012-0366-5', 'Mo0.211 Nb0.211 Ti0.211 V0.158 Zr0.211', 1708.0): array([755]), ('10.1007/s11837-012-0366-5', 'Mo0.222 Nb0.222 Ti0.222 V0.111 Zr0.222', 1647.0): array([767]), ('10.1007/s11837-012-0366-5', 'Mo0.235 Nb0.235 Ti0.235 V0.059 Zr0.235', 1776.0): array([779]), ('10.1007/s11837-012-0366-5', 'Mo0.25 Nb0.25 Ti0.25 Zr0.25', 1592.0): array([818]), ('10.1007/s11837-014-1066-0', 'Al0.06 Nb0.2 Ta0.16 Ti0.28 V0.04 Zr0.26', 166.0): array([35]), ('10.1007/s11837-014-1066-0', 'Al0.06 Nb0.2 Ta0.16 Ti0.28 V0.04 Zr0.26', 678.0): array([34]), ('10.1007/s11837-014-1066-0', 'Al0.06 Nb0.2 Ta0.16 Ti0.28 V0.04 Zr0.26', 1965.0): array([33]), ('10.1007/s11837-014-1066-0', 'Al0.06 Nb0.2 Ta0.2 Ti0.28 Zr0.26', 236.0): array([38]), ('10.1007/s11837-014-1066-0', 'Al0.06 Nb0.2 Ta0.2 Ti0.28 Zr0.26', 362.0): array([37]), ('10.1007/s11837-014-1066-0', 'Al0.06 Nb0.2 Ta0.2 Ti0.28 Zr0.26', 1965.0): array([36]), ('10.1007/s11837-014-1066-0', 'Al0.08 Hf0.12 Nb0.2 Ta0.2 Ti0.2 Zr0.2', 298.0): array([49]), ('10.1007/s11837-014-1066-0', 'Al0.08 Hf0.12 Nb0.2 Ta0.2 Ti0.2 Zr0.2', 796.0): array([48]), ('10.1007/s11837-014-1066-0', 'Al0.08 Hf0.12 Nb0.2 Ta0.2 Ti0.2 Zr0.2', 1841.0): array([47]), ('10.1007/s11837-014-1066-0', 'Al0.1 Nb0.2 Ta0.16 Ti0.3 V0.04 Zr0.2', 220.0): array([87]), ('10.1007/s11837-014-1066-0', 'Al0.1 Nb0.2 Ta0.16 Ti0.3 V0.04 Zr0.2', 796.0): array([86]), ('10.1007/s11837-014-1066-0', 'Al0.1 Nb0.2 Ta0.16 Ti0.3 V0.04 Zr0.2', 2035.0): array([85]), ('10.1007/s11837-014-1066-0', 'Al0.2 Mo0.1 Nb0.2 Ta0.1 Ti0.2 Zr0.2', 250.0): array([193]), ('10.1007/s11837-014-1066-0', 'Al0.2 Mo0.1 Nb0.2 Ta0.1 Ti0.2 Zr0.2', 745.0): array([192]), ('10.1007/s11837-014-1066-0', 'Al0.2 Mo0.1 Nb0.2 Ta0.1 Ti0.2 Zr0.2', 1597.0): array([191]), ('10.1007/s11837-014-1066-0', 'Al0.2 Mo0.1 Nb0.2 Ta0.1 Ti0.2 Zr0.2', 2000.0): array([190]), ('10.1007/s11837-014-1066-0', 'Al0.2 Nb0.3 Ta0.1 Ti0.3 Zr0.1', 403.0): array([203]), ('10.1007/s11837-014-1066-0', 'Al0.2 Nb0.3 Ta0.1 Ti0.3 Zr0.1', 728.0): array([202]), ('10.1007/s11837-014-1066-0', 'Al0.2 Nb0.3 Ta0.1 Ti0.3 Zr0.1', 1280.0): array([201]), ('10.1007/s11837-019-03432-9', 'Cr0.2 Mo0.2 Nb0.2 Ti0.2 W0.2', 1260.0): array([301]), ('10.1007/s11837-019-03432-9', 'Cr0.2 Mo0.2 Nb0.2 Ti0.2 W0.2', 1630.0): array([302]), ('10.1007/s11837-019-03432-9', 'Cr0.2 Mo0.2 Nb0.2 Ti0.2 W0.2', 1920.0): array([304]), ('10.1007/s11837-019-03432-9', 'Cr0.2 Mo0.2 Nb0.2 Ti0.2 W0.2', 2030.0): array([303]), ('10.1007/s11837-019-03432-9', 'Cr0.2 Mo0.2 Nb0.2 Ti0.2 W0.2', 2500.0): array([300]), ('10.1007/s11837-020-04557-y', 'Cr0.2 Hf0.2 Nb0.2 Ta0.2 Ti0.2', 1258.0): array([287]), ('10.1007/s11837-020-04557-y', 'Cr0.2 Hf0.2 Nb0.2 Ta0.2 Ti0.2', 1366.0): array([288]), ('10.1007/s12598-019-01310-6', 'Hf0.25 Nb0.25 Ti0.25 Zr0.25', 154.0): array([614]), ('10.1007/s12598-019-01310-6', 'Hf0.25 Nb0.25 Ti0.25 Zr0.25', 303.0): array([613]), ('10.1007/s12598-019-01310-6', 'Hf0.25 Nb0.25 Ti0.25 Zr0.25', 1000.0): array([612]), ('10.1007/s12598-019-01310-6', 'Nb0.333 Ti0.333 Zr0.333', 218.0): array([950]), ('10.1007/s12598-019-01310-6', 'Nb0.333 Ti0.333 Zr0.333', 462.0): array([949]), ('10.1007/s12598-019-01310-6', 'Nb0.333 Ti0.333 Zr0.333', 1223.0): array([948]), ('10.1007/s40195-019-00921-3', 'Hf0.091 Nb0.182 Ti0.364 V0.182 Zr0.182', 195.0): array([366]), ('10.1007/s40195-019-00921-3', 'Hf0.091 Nb0.182 Ti0.364 V0.182 Zr0.182', 859.0): array([365]), ('10.1007/s40195-019-00921-3', 'Hf0.091 Nb0.182 Ti0.364 V0.182 Zr0.182', 980.0): array([364]), ('10.1007/s40195-019-00921-3', 'Hf0.095 Nb0.143 Ti0.381 V0.19 Zr0.19', 1025.0): array([367]), ('10.1007/s40195-019-00921-3', 'Hf0.1 Nb0.1 Ti0.4 V0.2 Zr0.2', 135.0): array([370]), ('10.1007/s40195-019-00921-3', 'Hf0.1 Nb0.1 Ti0.4 V0.2 Zr0.2', 718.0): array([369]), ('10.1007/s40195-019-00921-3', 'Hf0.1 Nb0.1 Ti0.4 V0.2 Zr0.2', 1065.0): array([368]), ('10.1007/s40195-019-00921-3', 'Hf0.105 Nb0.053 Ti0.421 V0.211 Zr0.211', 1115.0): array([375]), ('10.1007/s40195-019-00921-3', 'Hf0.111 Ti0.444 V0.222 Zr0.222', 85.0): array([380]), ('10.1007/s40195-019-00921-3', 'Hf0.111 Ti0.444 V0.222 Zr0.222', 405.0): array([379]), ('10.1007/s40195-019-00921-3', 'Hf0.111 Ti0.444 V0.222 Zr0.222', 1160.0): array([378]), ('10.1007/s40195-019-00935-x', 'Cr0.2 Fe0.2 Mo0.2 Nb0.2 Ti0.2', 1647.0): array([285]), ('10.1007/s40195-019-00935-x', 'Cr0.2 Fe0.2 Mo0.2 Nb0.2 V0.2', 2663.0): array([286]), ('10.1007/s42864-021-00111-8', 'Al0.048 Nb0.238 Ta0.143 Ti0.333 Zr0.238', 973.0): array([13]), ('10.1007/s42864-021-00111-8', 'Al0.048 Nb0.238 Ta0.143 Ti0.333 Zr0.238', 1243.0): array([14]), ('10.1007/s42864-021-00111-8', 'Al0.048 Nb0.238 Ta0.19 Ti0.286 Zr0.238', 1112.0): array([15]), ('10.1007/s42864-021-00111-8', 'Al0.048 Nb0.238 Ta0.19 Ti0.286 Zr0.238', 1509.0): array([16]), ('10.1007/s42864-021-00111-8', 'Al0.048 Nb0.238 Ta0.238 Ti0.238 Zr0.238', 1304.0): array([17]), ('10.1007/s42864-021-00111-8', 'Al0.048 Nb0.238 Ta0.238 Ti0.238 Zr0.238', 1762.0): array([18]), ('10.1016/j.actamat.2012.11.032', 'Cr0.25 Nb0.25 Ti0.25 Zr0.25', 1260.0): array([342]), ('10.1016/j.actamat.2016.01.018', 'Hf0.25 Nb0.25 Ta0.25 Zr0.25', 1315.0): array([603]), ('10.1016/j.actamat.2016.01.018', 'Hf0.25 Nb0.25 Ta0.25 Zr0.25', 1950.0): array([607]), ('10.1016/j.actamat.2016.01.018', 'Hf0.25 Nb0.25 Ta0.25 Zr0.25', 2020.0): array([606]), ('10.1016/j.actamat.2016.01.018', 'Hf0.25 Nb0.25 Ta0.25 Zr0.25', 2100.0): array([605]), ('10.1016/j.actamat.2016.01.018', 'Hf0.25 Nb0.25 Ta0.25 Zr0.25', 2310.0): array([604]), ('10.1016/j.actamat.2017.09.035', 'Hf0.2 Nb0.2 Ta0.2 Ti0.2 Zr0.2', 795.0): array([484]), ('10.1016/j.actamat.2017.09.035', 'Hf0.2 Nb0.2 Ta0.2 Ti0.2 Zr0.2', 830.0): array([482]), ('10.1016/j.actamat.2017.09.035', 'Hf0.2 Nb0.2 Ta0.2 Ti0.2 Zr0.2', 1520.0): array([485]), ('10.1016/j.actamat.2017.09.035', 'Hf0.2 Nb0.2 Ta0.2 Ti0.2 Zr0.2', 1900.0): array([483]), ('10.1016/j.actamat.2017.09.062', 'Hf0.2 Nb0.2 Ta0.2 Ti0.2 Zr0.2', 940.0): array([486]), ('10.1016/j.actamat.2018.08.053', 'Nb0.25 Ta0.25 Ti0.25 V0.25', 688.0): array([880]), ('10.1016/j.actamat.2018.08.053', 'Nb0.25 Ta0.25 Ti0.25 V0.25', 720.0): array([879]), ('10.1016/j.actamat.2018.08.053', 'Nb0.25 Ta0.25 Ti0.25 V0.25', 723.0): array([878]), ('10.1016/j.actamat.2018.08.053', 'Nb0.25 Ta0.25 Ti0.25 V0.25', 778.0): array([877]), ('10.1016/j.actamat.2018.08.053', 'Nb0.25 Ta0.25 Ti0.25 V0.25', 1034.0): array([876]), ('10.1016/j.actamat.2018.08.053', 'Nb0.25 Ta0.25 Ti0.25 V0.25', 1236.0): array([874]), ('10.1016/j.actamat.2018.08.053', 'Nb0.25 Ta0.25 Ti0.25 V0.25', 1273.0): array([875]), ('10.1016/j.actamat.2019.06.006', 'Al0.25 Nb0.25 Ta0.25 Ti0.25', 740.0): array([249, 250]), ('10.1016/j.actamat.2019.06.006', 'Al0.25 Nb0.25 Ta0.25 Ti0.25', 1152.0): array([248]), ('10.1016/j.actamat.2019.06.006', 'Cr0.25 Mo0.25 Nb0.25 Ti0.25', 1058.0): array([322]), ('10.1016/j.actamat.2019.06.006', 'Cr0.25 Mo0.25 Nb0.25 Ti0.25', 1062.0): array([321]), ('10.1016/j.actamat.2019.06.006', 'Cr0.25 Mo0.25 Nb0.25 Ti0.25', 1115.0): array([320]), ('10.1016/j.actamat.2019.06.006', 'Cr0.25 Mo0.25 Nb0.25 Ti0.25', 1268.0): array([319]), ('10.1016/j.actamat.2019.06.006', 'Cr0.25 Mo0.25 Nb0.25 Ti0.25', 1630.0): array([318]), ('10.1016/j.actamat.2019.06.006', 'Cr0.25 Mo0.25 Ta0.25 Ti0.25', 1159.0): array([332]), ('10.1016/j.actamat.2019.06.006', 'Cr0.25 Mo0.25 Ta0.25 Ti0.25', 1162.0): array([330, 331]), ('10.1016/j.actamat.2019.06.006', 'Cr0.25 Mo0.25 Ta0.25 Ti0.25', 1175.0): array([329]), ('10.1016/j.actamat.2019.06.006', 'Cr0.25 Mo0.25 Ta0.25 Ti0.25', 1183.0): array([328]), ('10.1016/j.actamat.2019.06.006', 'Cr0.25 Mo0.25 Ta0.25 Ti0.25', 1266.0): array([327]), ('10.1016/j.actamat.2019.06.006', 'Cr0.25 Mo0.25 Ta0.25 Ti0.25', 1506.0): array([326]), ('10.1016/j.actamat.2019.06.006', 'Cr0.25 Mo0.25 Ta0.25 Ti0.25', 1795.0): array([325]), ('10.1016/j.actamat.2019.06.006', 'Hf0.25 Nb0.25 Ta0.25 Ti0.25', 473.0): array([595]), ('10.1016/j.actamat.2019.06.006', 'Hf0.25 Nb0.25 Ta0.25 Ti0.25', 610.0): array([594]), ('10.1016/j.actamat.2019.06.006', 'Hf0.25 Nb0.25 Ta0.25 Ti0.25', 834.0): array([593]), ('10.1016/j.actamat.2019.06.006', 'Hf0.25 Nb0.25 Ta0.25 Ti0.25', 860.0): array([592]), ('10.1016/j.actamat.2019.06.006', 'Mo0.25 Nb0.25 Ta0.25 Ti0.25', 539.0): array([789]), ('10.1016/j.actamat.2019.06.006', 'Mo0.25 Nb0.25 Ta0.25 Ti0.25', 564.0): array([788]), ('10.1016/j.actamat.2019.06.006', 'Mo0.25 Nb0.25 Ta0.25 Ti0.25', 593.0): array([787]), ('10.1016/j.actamat.2019.06.006', 'Mo0.25 Nb0.25 Ta0.25 Ti0.25', 685.0): array([786]), ('10.1016/j.actamat.2019.06.006', 'Mo0.25 Nb0.25 Ta0.25 Ti0.25', 732.0): array([785]), ('10.1016/j.actamat.2019.06.006', 'Mo0.25 Nb0.25 Ta0.25 Ti0.25', 868.0): array([784]), ('10.1016/j.actamat.2019.06.006', 'Mo0.25 Nb0.25 Ta0.25 Ti0.25', 1029.0): array([783]), ('10.1016/j.actamat.2019.06.006', 'Mo0.25 Nb0.25 Ta0.25 Ti0.25', 1071.0): array([782]), ('10.1016/j.actamat.2019.06.006', 'Mo0.25 Nb0.25 Ta0.25 Ti0.25', 1210.0): array([781]), ('10.1016/j.actamat.2019.06.006', 'Nb0.25 Ta0.25 Ti0.25 W0.25', 459.0): array([893]), ('10.1016/j.actamat.2019.06.006', 'Nb0.25 Ta0.25 Ti0.25 W0.25', 564.0): array([892]), ('10.1016/j.actamat.2019.06.006', 'Nb0.25 Ta0.25 Ti0.25 W0.25', 596.0): array([891]), ('10.1016/j.actamat.2019.06.006', 'Nb0.25 Ta0.25 Ti0.25 W0.25', 627.0): array([890]), ('10.1016/j.actamat.2019.06.006', 'Nb0.25 Ta0.25 Ti0.25 W0.25', 754.0): array([889]), ('10.1016/j.actamat.2019.06.006', 'Nb0.25 Ta0.25 Ti0.25 W0.25', 869.0): array([888]), ('10.1016/j.actamat.2019.06.006', 'Nb0.25 Ta0.25 Ti0.25 W0.25', 968.0): array([887]), ('10.1016/j.actamat.2019.06.006', 'Nb0.25 Ta0.25 Ti0.25 W0.25', 1054.0): array([886]), ('10.1016/j.actamat.2019.06.006', 'Nb0.333 Ta0.333 Ti0.333', 160.0): array([934]), ('10.1016/j.actamat.2019.06.006', 'Nb0.333 Ta0.333 Ti0.333', 210.0): array([933]), ('10.1016/j.actamat.2019.06.006', 'Nb0.333 Ta0.333 Ti0.333', 222.0): array([932]), ('10.1016/j.actamat.2019.06.006', 'Nb0.333 Ta0.333 Ti0.333', 232.0): array([931]), ('10.1016/j.actamat.2019.06.006', 'Nb0.333 Ta0.333 Ti0.333', 314.0): array([930]), ('10.1016/j.actamat.2019.06.006', 'Nb0.333 Ta0.333 Ti0.333', 378.0): array([929]), ('10.1016/j.actamat.2019.06.006', 'Nb0.333 Ta0.333 Ti0.333', 486.0): array([928]), ('10.1016/j.actamat.2019.06.006', 'Nb0.333 Ta0.333 Ti0.333', 573.0): array([927]), ('10.1016/j.actamat.2019.06.032', 'Al0.057 Nb0.236 Ti0.236 V0.236 Zr0.236', 24.0): array([28]), ('10.1016/j.actamat.2019.06.032', 'Al0.057 Nb0.236 Ti0.236 V0.236 Zr0.236', 82.0): array([27]), ('10.1016/j.actamat.2019.06.032', 'Al0.057 Nb0.236 Ti0.236 V0.236 Zr0.236', 1240.0): array([26]), ('10.1016/j.actamat.2019.06.032', 'Al0.08 Hf0.12 Nb0.2 Ta0.2 Ti0.2 Zr0.2', 89.0): array([50]), ('10.1016/j.actamat.2019.06.032', 'Al0.2 Cr0.2 Mo0.2 Nb0.2 Ti0.2', 105.0): array([173]), ('10.1016/j.actamat.2019.06.032', 'Al0.2 Cr0.2 Mo0.2 Nb0.2 Ti0.2', 1010.0): array([172]), ('10.1016/j.actamat.2019.06.032', 'Al0.25 Cr0.25 Mo0.25 Ti0.25', 1100.0): array([232]), ('10.1016/j.actamat.2019.06.032', 'Al0.25 Mo0.25 Nb0.25 Ti0.25', 1100.0): array([243]), ('10.1016/j.actamat.2019.06.032', 'Mo0.2 Nb0.2 Ti0.2 V0.2 Zr0.2', 116.0): array([742]), ('10.1016/j.actamat.2019.06.032', 'Mo0.2 Nb0.2 Ti0.2 V0.2 Zr0.2', 467.0): array([741]), ('10.1016/j.actamat.2019.06.032', 'Mo0.2 Nb0.2 Ti0.2 V0.2 Zr0.2', 1706.0): array([740]), ('10.1016/j.actamat.2019.06.032', 'Mo0.333 Nb0.333 Ti0.333', 324.0): array([850]), ('10.1016/j.actamat.2019.06.032', 'Mo0.333 Nb0.333 Ti0.333', 504.0): array([849]), ('10.1016/j.actamat.2019.06.032', 'Mo0.333 Nb0.333 Ti0.333', 1100.0): array([848]), ('10.1016/j.actamat.2019.06.032', 'Nb0.2 Ta0.2 Ti0.2 V0.2 Zr0.2', 78.0): array([865]), ('10.1016/j.actamat.2019.06.032', 'Nb0.2 Ta0.2 Ti0.2 V0.2 Zr0.2', 190.0): array([864]), ('10.1016/j.actamat.2019.06.032', 'Nb0.2 Ta0.2 Ti0.2 V0.2 Zr0.2', 1395.0): array([863]), ('10.1016/j.actamat.2019.06.032', 'Nb0.303 Re0.091 Ti0.303 Zr0.303', 89.0): array([922]), ('10.1016/j.actamat.2019.06.032', 'Nb0.303 Re0.091 Ti0.303 Zr0.303', 323.0): array([921]), ('10.1016/j.actamat.2019.06.032', 'Nb0.303 Re0.091 Ti0.303 Zr0.303', 1244.0): array([920]), ('10.1016/j.actamat.2019.06.032', 'Nb0.303 Ta0.091 Ti0.303 Zr0.303', 102.0): array([925]), ('10.1016/j.actamat.2019.06.032', 'Nb0.303 Ta0.091 Ti0.303 Zr0.303', 274.0): array([924]), ('10.1016/j.actamat.2019.06.032', 'Nb0.303 Ta0.091 Ti0.303 Zr0.303', 882.0): array([923]), ('10.1016/j.ijrmhm.2014.07.009', 'Cr0.2 Hf0.2 Nb0.2 Ti0.2 Zr0.2', 1322.0): array([293]), ('10.1016/j.ijrmhm.2014.07.009', 'Cr0.2 Hf0.2 Nb0.2 Ti0.2 Zr0.2', 1328.0): array([292]), ('10.1016/j.ijrmhm.2014.07.009', 'Cr0.2 Hf0.2 Nb0.2 Ti0.2 Zr0.2', 1375.0): array([291]), ('10.1016/j.ijrmhm.2014.07.009', 'Cr0.2 Hf0.2 Nb0.2 Ti0.2 Zr0.2', 1420.0): array([290]), ('10.1016/j.ijrmhm.2014.07.009', 'Cr0.2 Hf0.2 Nb0.2 Ti0.2 Zr0.2', 1457.0): array([289]), ('10.1016/j.ijrmhm.2014.07.009', 'Hf0.2 Nb0.2 Ti0.2 V0.2 Zr0.2', 1120.0): array([566]), ('10.1016/j.ijrmhm.2014.07.009', 'Hf0.2 Nb0.2 Ti0.2 V0.2 Zr0.2', 1140.0): array([565]), ('10.1016/j.ijrmhm.2014.07.009', 'Hf0.2 Nb0.2 Ti0.2 V0.2 Zr0.2', 1157.0): array([568]), ('10.1016/j.ijrmhm.2014.07.009', 'Hf0.2 Nb0.2 Ti0.2 V0.2 Zr0.2', 1170.0): array([567]), ('10.1016/j.ijrmhm.2014.07.009', 'Hf0.2 Nb0.2 Ti0.2 V0.2 Zr0.2', 1253.0): array([564]), ('10.1016/j.ijrmhm.2019.02.009', 'Cr0.12 Mo0.2 Nb0.42 Ta0.01 Ti0.13 V0.12', 2680.0): array([280]), ('10.1016/j.ijrmhm.2019.105132', 'Al0.125 Nb0.25 Ta0.125 Ti0.25 Zr0.25', 67.0): array([106]), ('10.1016/j.ijrmhm.2019.105132', 'Al0.125 Nb0.25 Ta0.125 Ti0.25 Zr0.25', 88.0): array([109]), ('10.1016/j.ijrmhm.2019.105132', 'Al0.125 Nb0.25 Ta0.125 Ti0.25 Zr0.25', 102.0): array([103]), ('10.1016/j.ijrmhm.2019.105132', 'Al0.125 Nb0.25 Ta0.125 Ti0.25 Zr0.25', 108.0): array([105]), ('10.1016/j.ijrmhm.2019.105132', 'Al0.125 Nb0.25 Ta0.125 Ti0.25 Zr0.25', 189.0): array([108]), ('10.1016/j.ijrmhm.2019.105132', 'Al0.125 Nb0.25 Ta0.125 Ti0.25 Zr0.25', 351.0): array([102]), ('10.1016/j.ijrmhm.2019.105132', 'Al0.125 Nb0.25 Ta0.125 Ti0.25 Zr0.25', 1310.0): array([104]), ('10.1016/j.ijrmhm.2019.105132', 'Al0.125 Nb0.25 Ta0.125 Ti0.25 Zr0.25', 1500.0): array([101]), ('10.1016/j.ijrmhm.2019.105132', 'Al0.125 Nb0.25 Ta0.125 Ti0.25 Zr0.25', 1740.0): array([107]), ('10.1016/j.ijrmhm.2020.105195', 'Mo0.333 Nb0.333 Ta0.333', 712.0): array([847]), ('10.1016/j.ijrmhm.2020.105195', 'Mo0.333 Nb0.333 Ta0.333', 999.0): array([846]), ('10.1016/j.ijrmhm.2020.105322', 'Al0.15 Hf0.15 Nb0.3 Ti0.4', 635.0): array([144]), ('10.1016/j.ijrmhm.2020.105322', 'Al0.15 Hf0.15 Nb0.3 Ti0.4', 830.0): array([143]), ('10.1016/j.ijrmhm.2020.105322', 'Al0.15 Hf0.15 Nb0.3 Ti0.4', 920.0): array([146]), ('10.1016/j.ijrmhm.2020.105322', 'Al0.15 Hf0.15 Nb0.3 Ti0.4', 1250.0): array([145]), ('10.1016/j.ijrmhm.2020.105370', 'Mo0.05 Nb0.35 Ta0.35 W0.25', 692.0): array([664]), ('10.1016/j.ijrmhm.2020.105370', 'Mo0.05 Nb0.35 Ta0.35 W0.25', 709.0): array([663]), ('10.1016/j.ijrmhm.2020.105370', 'Mo0.05 Nb0.35 Ta0.35 W0.25', 714.0): array([662]), ('10.1016/j.ijrmhm.2020.105370', 'Mo0.25 Nb0.25 Ta0.25 W0.25', 963.0): array([804]), ('10.1016/j.ijrmhm.2020.105370', 'Mo0.25 Nb0.25 Ta0.25 W0.25', 1087.0): array([806]), ('10.1016/j.ijrmhm.2020.105370', 'Mo0.25 Nb0.25 Ta0.25 W0.25', 1124.0): array([805]), ('10.1016/j.ijrmhm.2020.105370', 'Mo0.25 Nb0.35 Ta0.05 W0.35', 914.0): array([820]), ('10.1016/j.ijrmhm.2020.105370', 'Mo0.25 Nb0.35 Ta0.05 W0.35', 941.0): array([819]), ('10.1016/j.ijrmhm.2020.105370', 'Mo0.25 Nb0.35 Ta0.05 W0.35', 966.0): array([821]), ('10.1016/j.ijrmhm.2020.105370', 'Mo0.35 Nb0.16 Ta0.35 W0.14', 814.0): array([852]), ('10.1016/j.ijrmhm.2020.105370', 'Mo0.35 Nb0.16 Ta0.35 W0.14', 966.0): array([853]), ('10.1016/j.ijrmhm.2020.105370', 'Mo0.35 Nb0.16 Ta0.35 W0.14', 978.0): array([851]), ('10.1016/j.ijrmhm.2020.105370', 'Mo0.35 Nb0.25 Ta0.35 W0.05', 734.0): array([856]), ('10.1016/j.ijrmhm.2020.105370', 'Mo0.35 Nb0.25 Ta0.35 W0.05', 777.0): array([855]), ('10.1016/j.ijrmhm.2020.105370', 'Mo0.35 Nb0.25 Ta0.35 W0.05', 820.0): array([854]), ('10.1016/j.ijrmhm.2020.105467', 'Hf0.584 Mo0.208 Ta0.208', 23.0): array([644]), ('10.1016/j.ijrmhm.2020.105467', 'Hf0.584 Mo0.208 Ta0.208', 60.0): array([643]), ('10.1016/j.ijrmhm.2020.105467', 'Hf0.584 Mo0.208 Ta0.208', 118.0): array([642]), ('10.1016/j.ijrmhm.2020.105467', 'Hf0.584 Mo0.208 Ta0.208', 278.0): array([641]), ('10.1016/j.ijrmhm.2020.105467', 'Hf0.584 Mo0.208 Ta0.208', 832.0): array([640]), ('10.1016/j.ijrmhm.2020.105467', 'Hf0.584 Nb0.208 Ta0.208', 64.0): array([649]), ('10.1016/j.ijrmhm.2020.105467', 'Hf0.584 Nb0.208 Ta0.208', 146.0): array([648]), ('10.1016/j.ijrmhm.2020.105467', 'Hf0.584 Nb0.208 Ta0.208', 421.0): array([647]), ('10.1016/j.ijrmhm.2020.105467', 'Hf0.584 Nb0.208 Ta0.208', 943.0): array([646]), ('10.1016/j.ijrmhm.2020.105467', 'Hf0.584 Nb0.208 Ta0.208', 1496.0): array([645]), ('10.1016/j.ijrmhm.2020.105467', 'Hf0.584 Ta0.208 W0.208', 28.3): array([654]), ('10.1016/j.ijrmhm.2020.105467', 'Hf0.584 Ta0.208 W0.208', 77.0): array([653]), ('10.1016/j.ijrmhm.2020.105467', 'Hf0.584 Ta0.208 W0.208', 137.0): array([652]), ('10.1016/j.ijrmhm.2020.105467', 'Hf0.584 Ta0.208 W0.208', 480.0): array([651]), ('10.1016/j.ijrmhm.2020.105467', 'Hf0.584 Ta0.208 W0.208', 1475.0): array([650]), ('10.1016/j.ijrmhm.2020.105467', 'Hf0.73 Ta0.27', 18.8): array([659]), ('10.1016/j.ijrmhm.2020.105467', 'Hf0.73 Ta0.27', 33.0): array([658]), ('10.1016/j.ijrmhm.2020.105467', 'Hf0.73 Ta0.27', 94.0): array([657]), ('10.1016/j.ijrmhm.2020.105467', 'Hf0.73 Ta0.27', 353.0): array([656]), ('10.1016/j.ijrmhm.2020.105467', 'Hf0.73 Ta0.27', 1708.0): array([655]), ('10.1016/j.ijrmhm.2021.105664', 'Mo0.2 Nb0.2 Ta0.2 Ti0.2 V0.2', 1480.0): array([706]), ('10.1016/j.intermet.2011.01.004', 'Mo0.2 Nb0.2 Ta0.2 V0.2 W0.2', 477.0): array([735]), ('10.1016/j.intermet.2011.01.004', 'Mo0.2 Nb0.2 Ta0.2 V0.2 W0.2', 656.0): array([734]), ('10.1016/j.intermet.2011.01.004', 'Mo0.2 Nb0.2 Ta0.2 V0.2 W0.2', 735.0): array([733]), ('10.1016/j.intermet.2011.01.004', 'Mo0.2 Nb0.2 Ta0.2 V0.2 W0.2', 842.0): array([732]), ('10.1016/j.intermet.2011.01.004', 'Mo0.2 Nb0.2 Ta0.2 V0.2 W0.2', 846.0): array([731]), ('10.1016/j.intermet.2011.01.004', 'Mo0.2 Nb0.2 Ta0.2 V0.2 W0.2', 862.0): array([730]), ('10.1016/j.intermet.2011.01.004', 'Mo0.2 Nb0.2 Ta0.2 V0.2 W0.2', 1246.0): array([729]), ('10.1016/j.intermet.2011.01.004', 'Mo0.25 Nb0.25 Ta0.25 W0.25', 405.0): array([813]), ('10.1016/j.intermet.2011.01.004', 'Mo0.25 Nb0.25 Ta0.25 W0.25', 421.0): array([812]), ('10.1016/j.intermet.2011.01.004', 'Mo0.25 Nb0.25 Ta0.25 W0.25', 506.0): array([811]), ('10.1016/j.intermet.2011.01.004', 'Mo0.25 Nb0.25 Ta0.25 W0.25', 548.0): array([810]), ('10.1016/j.intermet.2011.01.004', 'Mo0.25 Nb0.25 Ta0.25 W0.25', 552.0): array([809]), ('10.1016/j.intermet.2011.01.004', 'Mo0.25 Nb0.25 Ta0.25 W0.25', 561.0): array([808]), ('10.1016/j.intermet.2011.01.004', 'Mo0.25 Nb0.25 Ta0.25 W0.25', 1058.0): array([807]), ('10.1016/j.intermet.2015.03.013', 'Hf0.167 Mo0.167 Nb0.167 Ta0.167 Ti0.167 Zr0.167', 556.0): array([414]), ('10.1016/j.intermet.2015.03.013', 'Hf0.167 Mo0.167 Nb0.167 Ta0.167 Ti0.167 Zr0.167', 814.0): array([413]), ('10.1016/j.intermet.2015.03.013', 'Hf0.167 Mo0.167 Nb0.167 Ta0.167 Ti0.167 Zr0.167', 1007.0): array([412]), ('10.1016/j.intermet.2015.03.013', 'Hf0.167 Mo0.167 Nb0.167 Ta0.167 Ti0.167 Zr0.167', 1512.0): array([411]), ('10.1016/j.intermet.2015.03.013', 'Hf0.2 Mo0.2 Ta0.2 Ti0.2 Zr0.2', 404.0): array([454]), ('10.1016/j.intermet.2015.03.013', 'Hf0.2 Mo0.2 Ta0.2 Ti0.2 Zr0.2', 855.0): array([453]), ('10.1016/j.intermet.2015.03.013', 'Hf0.2 Mo0.2 Ta0.2 Ti0.2 Zr0.2', 1045.0): array([452]), ('10.1016/j.intermet.2015.03.013', 'Hf0.2 Mo0.2 Ta0.2 Ti0.2 Zr0.2', 1600.0): array([451]), ('10.1016/j.intermet.2015.09.011', 'C0.024 Hf0.122 Mo0.122 Nb0.244 Ti0.244 Zr0.244', 1183.0): array([268]), ('10.1016/j.intermet.2015.09.011', 'C0.07 Hf0.116 Mo0.116 Nb0.233 Ti0.233 Zr0.233', 1201.0): array([270]), ('10.1016/j.intermet.2015.09.011', 'Hf0.125 Mo0.125 Nb0.25 Ti0.25 Zr0.25', 1176.0): array([383]), ('10.1016/j.intermet.2015.10.011', 'Hf0.2 Mo0.2 Nb0.2 Ti0.2 Zr0.2', 1719.0): array([441]), ('10.1016/j.intermet.2017.01.007', 'Mo0.167 Nb0.167 Ta0.167 Ti0.167 V0.167 W0.167', 659.0): array([691]), ('10.1016/j.intermet.2017.01.007', 'Mo0.167 Nb0.167 Ta0.167 Ti0.167 V0.167 W0.167', 752.8): array([690]), ('10.1016/j.intermet.2017.01.007', 'Mo0.167 Nb0.167 Ta0.167 Ti0.167 V0.167 W0.167', 791.3): array([689]), ('10.1016/j.intermet.2017.01.007', 'Mo0.167 Nb0.167 Ta0.167 Ti0.167 V0.167 W0.167', 973.0): array([688]), ('10.1016/j.intermet.2017.01.007', 'Mo0.167 Nb0.167 Ta0.167 Ti0.167 V0.167 W0.167', 1515.0): array([687]), ('10.1016/j.intermet.2017.01.007', 'Mo0.2 Nb0.2 Ta0.2 Ti0.2 W0.2', 586.0): array([716]), ('10.1016/j.intermet.2017.01.007', 'Mo0.2 Nb0.2 Ta0.2 Ti0.2 W0.2', 620.0): array([715]), ('10.1016/j.intermet.2017.01.007', 'Mo0.2 Nb0.2 Ta0.2 Ti0.2 W0.2', 674.0): array([714]), ('10.1016/j.intermet.2017.01.007', 'Mo0.2 Nb0.2 Ta0.2 Ti0.2 W0.2', 689.0): array([713]), ('10.1016/j.intermet.2017.01.007', 'Mo0.2 Nb0.2 Ta0.2 Ti0.2 W0.2', 1343.0): array([712]), ('10.1016/j.intermet.2019.01.004', 'Hf0.25 Nb0.25 Ta0.25 Ti0.25', 663.0): array([596]), ('10.1016/j.intermet.2019.01.004', 'Hf0.333 Nb0.333 Ta0.333', 847.0): array([636]), ('10.1016/j.intermet.2019.01.004', 'Nb0.333 Ta0.333 Ti0.333', 478.0): array([935]), ('10.1016/j.intermet.2019.01.004', 'Nb0.5 Ta0.5', 246.0): array([955]), ('10.1016/j.intermet.2020.106928', 'Cr0.2 Mo0.2 Nb0.2 Ta0.2 W0.2', 1056.0): array([298]), ('10.1016/j.intermet.2020.106928', 'Hf0.2 Mo0.2 Nb0.2 Ta0.2 W0.2', 1252.0): array([435]), ('10.1016/j.intermet.2020.106928', 'Mo0.2 Nb0.2 Ta0.2 V0.2 W0.2', 1460.0): array([736]), ('10.1016/j.intermet.2020.106928', 'Mo0.2 Nb0.2 Ta0.2 W0.2 Zr0.2', 1480.0): array([738]), ('10.1016/j.intermet.2021.107323', 'Cr0.25 Nb0.25 Ta0.25 Ti0.25', 20.0): array([337]), ('10.1016/j.intermet.2021.107323', 'Cr0.25 Nb0.25 Ta0.25 Ti0.25', 62.0): array([336]), ('10.1016/j.intermet.2021.107323', 'Cr0.25 Nb0.25 Ta0.25 Ti0.25', 515.0): array([335]), ('10.1016/j.intermet.2021.107323', 'Cr0.333 Nb0.333 Ti0.333', 57.0): array([351]), ('10.1016/j.intermet.2021.107323', 'Cr0.333 Nb0.333 Ti0.333', 204.0): array([350]), ('10.1016/j.intermet.2021.107323', 'Cr0.333 Nb0.333 Ti0.333', 1353.0): array([349]), ('10.1016/j.intermet.2021.107323', 'Cr0.5 Nb0.5', 974.0): array([354]), ('10.1016/j.jallcom.2014.11.064', 'Al0.057 Hf0.189 Nb0.189 Ta0.189 Ti0.189 Zr0.189', 1188.0): array([23]), ('10.1016/j.jallcom.2014.11.064', 'Al0.091 Hf0.182 Nb0.182 Ta0.182 Ti0.182 Zr0.182', 1302.0): array([56]), ('10.1016/j.jallcom.2014.11.064', 'Al0.13 Hf0.174 Nb0.174 Ta0.174 Ti0.174 Zr0.174', 1415.0): array([119]), ('10.1016/j.jallcom.2014.11.064', 'Al0.167 Hf0.167 Nb0.167 Ta0.167 Ti0.167 Zr0.167', 1489.0): array([153]), ('10.1016/j.jallcom.2014.11.064', 'Hf0.2 Nb0.2 Ta0.2 Ti0.2 Zr0.2', 1073.0): array([487]), ('10.1016/j.jallcom.2015.07.209', 'Hf0.2 Nb0.2 Ta0.2 Ti0.2 Zr0.2', 1145.0): array([489]), ('10.1016/j.jallcom.2015.07.209', 'Hf0.2 Nb0.2 Ta0.2 Ti0.2 Zr0.2', 1202.0): array([488]), ('10.1016/j.jallcom.2015.07.209', 'Hf0.2 Nb0.2 Ta0.2 Ti0.2 Zr0.2', 1303.0): array([490]), ('10.1016/j.jallcom.2015.08.224', 'Al0.182 Cr0.273 Nb0.182 Ti0.182 V0.182', 75.0): array([161]), ('10.1016/j.jallcom.2015.08.224', 'Al0.182 Cr0.273 Nb0.182 Ti0.182 V0.182', 970.0): array([160]), ('10.1016/j.jallcom.2015.08.224', 'Al0.182 Cr0.273 Nb0.182 Ti0.182 V0.182', 1370.0): array([159]), ('10.1016/j.jallcom.2015.08.224', 'Al0.182 Cr0.273 Nb0.182 Ti0.182 V0.182', 1700.0): array([158]), ('10.1016/j.jallcom.2015.08.224', 'Al0.2 Cr0.2 Nb0.2 Ti0.2 V0.2', 65.0): array([185]), ('10.1016/j.jallcom.2015.08.224', 'Al0.2 Cr0.2 Nb0.2 Ti0.2 V0.2', 860.0): array([184]), ('10.1016/j.jallcom.2015.08.224', 'Al0.2 Cr0.2 Nb0.2 Ti0.2 V0.2', 1015.0): array([183]), ('10.1016/j.jallcom.2015.08.224', 'Al0.2 Cr0.2 Nb0.2 Ti0.2 V0.2', 1550.0): array([182]), ('10.1016/j.jallcom.2015.08.224', 'Al0.222 Cr0.111 Nb0.222 Ti0.222 V0.222', 40.0): array([207]), ('10.1016/j.jallcom.2015.08.224', 'Al0.222 Cr0.111 Nb0.222 Ti0.222 V0.222', 640.0): array([206]), ('10.1016/j.jallcom.2015.08.224', 'Al0.222 Cr0.111 Nb0.222 Ti0.222 V0.222', 1005.0): array([205]), ('10.1016/j.jallcom.2015.08.224', 'Al0.222 Cr0.111 Nb0.222 Ti0.222 V0.222', 1300.0): array([204]), ('10.1016/j.jallcom.2015.08.224', 'Al0.25 Nb0.25 Ti0.25 V0.25', 110.0): array([253]), ('10.1016/j.jallcom.2015.11.050', 'Al0.2 Cr0.2 Mo0.2 Nb0.2 Ti0.2', 105.0): array([179]), ('10.1016/j.jallcom.2015.11.050', 'Al0.2 Cr0.2 Mo0.2 Nb0.2 Ti0.2', 594.0): array([178]), ('10.1016/j.jallcom.2015.11.050', 'Al0.2 Cr0.2 Mo0.2 Nb0.2 Ti0.2', 860.0): array([177]), ('10.1016/j.jallcom.2015.11.050', 'Al0.2 Cr0.2 Mo0.2 Nb0.2 Ti0.2', 1060.0): array([176]), ('10.1016/j.jallcom.2015.11.050', 'Al0.2 Cr0.2 Mo0.2 Nb0.2 Ti0.2', 1080.0): array([175]), ('10.1016/j.jallcom.2015.11.091', 'Hf0.102 Mo0.102 Nb0.204 Si0.184 Ti0.204 Zr0.204', 1650.0): array([374]), ('10.1016/j.jallcom.2015.11.091', 'Hf0.106 Mo0.106 Nb0.213 Si0.149 Ti0.213 Zr0.213', 1550.0): array([376]), ('10.1016/j.jallcom.2015.11.091', 'Hf0.111 Mo0.111 Nb0.222 Si0.111 Ti0.222 Zr0.222', 1600.0): array([377]), ('10.1016/j.jallcom.2015.11.091', 'Hf0.116 Mo0.116 Nb0.233 Si0.07 Ti0.233 Zr0.233', 1370.0): array([381]), ('10.1016/j.jallcom.2015.11.091', 'Hf0.122 Mo0.122 Nb0.244 Si0.024 Ti0.244 Zr0.244', 1350.0): array([382]), ('10.1016/j.jallcom.2015.11.091', 'Hf0.125 Mo0.125 Nb0.25 Ti0.25 Zr0.25', 1150.0): array([384]), ('10.1016/j.jallcom.2016.10.014', 'Hf0.213 Mo0.106 Nb0.213 Si0.149 Ti0.213 V0.106', 235.0): array([572]), ('10.1016/j.jallcom.2016.10.014', 'Hf0.213 Mo0.106 Nb0.213 Si0.149 Ti0.213 V0.106', 673.0): array([571]), ('10.1016/j.jallcom.2016.10.014', 'Hf0.213 Mo0.106 Nb0.213 Si0.149 Ti0.213 V0.106', 2134.0): array([570]), ('10.1016/j.jallcom.2016.10.014', 'Hf0.222 Mo0.111 Nb0.222 Si0.111 Ti0.222 V0.111', 188.0): array([575]), ('10.1016/j.jallcom.2016.10.014', 'Hf0.222 Mo0.111 Nb0.222 Si0.111 Ti0.222 V0.111', 614.0): array([574]), ('10.1016/j.jallcom.2016.10.014', 'Hf0.222 Mo0.111 Nb0.222 Si0.111 Ti0.222 V0.111', 1787.0): array([573]), ('10.1016/j.jallcom.2016.10.014', 'Hf0.233 Mo0.116 Nb0.233 Si0.07 Ti0.233 V0.116', 166.0): array([587]), ('10.1016/j.jallcom.2016.10.014', 'Hf0.233 Mo0.116 Nb0.233 Si0.07 Ti0.233 V0.116', 398.0): array([586]), ('10.1016/j.jallcom.2016.10.014', 'Hf0.233 Mo0.116 Nb0.233 Si0.07 Ti0.233 V0.116', 1617.0): array([585]), ('10.1016/j.jallcom.2016.10.014', 'Hf0.25 Mo0.125 Nb0.25 Ti0.25 V0.125', 60.0): array([591]), ('10.1016/j.jallcom.2016.10.014', 'Hf0.25 Mo0.125 Nb0.25 Ti0.25 V0.125', 368.0): array([590]), ('10.1016/j.jallcom.2016.10.014', 'Hf0.25 Mo0.125 Nb0.25 Ti0.25 V0.125', 1260.0): array([589]), ('10.1016/j.jallcom.2016.11.188', 'Mo0.2 Nb0.2 Ta0.2 Ti0.2 V0.2', 1400.0): array([707]), ('10.1016/j.jallcom.2018.10.230', 'Nb0.25 Ta0.25 Ti0.25 V0.25', 1108.0): array([881]), ('10.1016/j.jallcom.2018.10.230', 'Nb0.25 Ta0.25 Ti0.25 V0.25', 1308.0): array([882]), ('10.1016/j.jallcom.2018.10.230', 'Nb0.25 Ta0.25 Ti0.25 V0.25', 1373.0): array([883]), ('10.1016/j.jallcom.2018.11.111', 'C0.051 Mo0.256 Nb0.256 Re0.128 Ta0.051 W0.256', 1074.0): array([269]), ('10.1016/j.jallcom.2018.11.111', 'C0.093 Mo0.233 Nb0.233 Re0.116 Ta0.093 W0.233', 1144.0): array([271]), ('10.1016/j.jallcom.2018.11.111', 'C0.111 Mo0.222 Nb0.222 Re0.111 Ta0.111 W0.222', 1202.0): array([272]), ('10.1016/j.jallcom.2018.11.111', 'C0.128 Mo0.213 Nb0.213 Re0.106 Ta0.128 W0.213', 1241.0): array([273]), ('10.1016/j.jallcom.2018.11.111', 'Mo0.286 Nb0.286 Re0.143 W0.286', 896.0): array([831]), ('10.1016/j.jallcom.2018.11.318', 'Cr0.167 Mo0.167 Nb0.167 Ta0.167 V0.167 W0.167', 3338.0): array([284]), ('10.1016/j.jallcom.2018.11.318', 'Cr0.167 Mo0.167 Nb0.167 Ta0.167 V0.167 W0.167', 3410.0): array([283]), ('10.1016/j.jallcom.2018.11.318', 'Cr0.167 Mo0.167 Nb0.167 Ta0.167 V0.167 W0.167', 3416.0): array([282]), ('10.1016/j.jallcom.2019.06.138', 'Hf0.143 Mo0.143 Nb0.143 Ta0.143 Ti0.143 W0.143 Zr0.143', 703.0): array([389]), ('10.1016/j.jallcom.2019.06.138', 'Hf0.143 Mo0.143 Nb0.143 Ta0.143 Ti0.143 W0.143 Zr0.143', 736.0): array([388]), ('10.1016/j.jallcom.2019.06.138', 'Hf0.143 Mo0.143 Nb0.143 Ta0.143 Ti0.143 W0.143 Zr0.143', 1065.0): array([387]), ('10.1016/j.jallcom.2019.06.138', 'Hf0.143 Mo0.143 Nb0.143 Ta0.143 Ti0.143 W0.143 Zr0.143', 1637.0): array([386]), ('10.1016/j.jallcom.2019.06.138', 'Hf0.167 Nb0.167 Ta0.167 Ti0.167 W0.167 Zr0.167', 345.0): array([419]), ('10.1016/j.jallcom.2019.06.138', 'Hf0.167 Nb0.167 Ta0.167 Ti0.167 W0.167 Zr0.167', 409.0): array([418]), ('10.1016/j.jallcom.2019.06.138', 'Hf0.167 Nb0.167 Ta0.167 Ti0.167 W0.167 Zr0.167', 577.0): array([417]), ('10.1016/j.jallcom.2019.06.138', 'Hf0.167 Nb0.167 Ta0.167 Ti0.167 W0.167 Zr0.167', 1550.0): array([416]), ('10.1016/j.jallcom.2019.151685', 'Hf0.224 Nb0.717 W0.059', 388.0): array([584]), ('10.1016/j.jallcom.2019.151685', 'Hf0.224 Nb0.717 W0.059', 397.0): array([583]), ('10.1016/j.jallcom.2019.151685', 'Hf0.224 Nb0.717 W0.059', 424.0): array([582]), ('10.1016/j.jallcom.2019.151685', 'Hf0.224 Nb0.717 W0.059', 437.0): array([581]), ('10.1016/j.jallcom.2019.151685', 'Hf0.224 Nb0.717 W0.059', 663.0): array([580]), ('10.1016/j.jallcom.2019.151685', 'Mo0.092 Nb0.73 Ti0.178', 97.0): array([671]), ('10.1016/j.jallcom.2019.151685', 'Mo0.092 Nb0.73 Ti0.178', 170.0): array([670]), ('10.1016/j.jallcom.2019.151685', 'Mo0.092 Nb0.73 Ti0.178', 207.0): array([669]), ('10.1016/j.jallcom.2019.151685', 'Mo0.092 Nb0.73 Ti0.178', 230.0): array([668]), ('10.1016/j.jallcom.2019.151685', 'Mo0.092 Nb0.73 Ti0.178', 521.0): array([667]), ('10.1016/j.jallcom.2019.151685', 'Mo0.119 Nb0.7 Ti0.181', 161.0): array([677]), ('10.1016/j.jallcom.2019.151685', 'Mo0.119 Nb0.7 Ti0.181', 250.0): array([676]), ('10.1016/j.jallcom.2019.151685', 'Mo0.119 Nb0.7 Ti0.181', 311.0): array([675]), ('10.1016/j.jallcom.2019.151685', 'Mo0.119 Nb0.7 Ti0.181', 350.0): array([674]), ('10.1016/j.jallcom.2019.151685', 'Mo0.119 Nb0.7 Ti0.181', 719.0): array([673]), ('10.1016/j.jallcom.2019.151685', 'Mo0.141 Nb0.678 Ti0.181', 183.0): array([683]), ('10.1016/j.jallcom.2019.151685', 'Mo0.141 Nb0.678 Ti0.181', 270.0): array([682]), ('10.1016/j.jallcom.2019.151685', 'Mo0.141 Nb0.678 Ti0.181', 329.0): array([681]), ('10.1016/j.jallcom.2019.151685', 'Mo0.141 Nb0.678 Ti0.181', 390.0): array([680]), ('10.1016/j.jallcom.2019.151685', 'Mo0.141 Nb0.678 Ti0.181', 780.0): array([679]), ('10.1016/j.jallcom.2019.151685', 'Mo0.17 Nb0.329 Ti0.343 W0.157', 461.0): array([697]), ('10.1016/j.jallcom.2019.151685', 'Mo0.17 Nb0.329 Ti0.343 W0.157', 635.0): array([696]), ('10.1016/j.jallcom.2019.151685', 'Mo0.17 Nb0.329 Ti0.343 W0.157', 747.0): array([695]), ('10.1016/j.jallcom.2019.151685', 'Mo0.17 Nb0.329 Ti0.343 W0.157', 883.0): array([694]), ('10.1016/j.jallcom.2019.151685', 'Mo0.17 Nb0.329 Ti0.343 W0.157', 1440.0): array([693]), ('10.1016/j.jallcom.2019.151685', 'Mo0.328 Nb0.347 Ti0.325', 536.0): array([844]), ('10.1016/j.jallcom.2019.151685', 'Mo0.328 Nb0.347 Ti0.325', 614.0): array([843]), ('10.1016/j.jallcom.2019.151685', 'Nb0.735 Ti0.181 W0.084', 194.0): array([961]), ('10.1016/j.jallcom.2019.151685', 'Nb0.735 Ti0.181 W0.084', 348.0): array([960]), ('10.1016/j.jallcom.2019.151685', 'Nb0.735 Ti0.181 W0.084', 389.0): array([959]), ('10.1016/j.jallcom.2019.151685', 'Nb0.735 Ti0.181 W0.084', 420.0): array([958]), ('10.1016/j.jallcom.2019.151685', 'Nb0.735 Ti0.181 W0.084', 849.0): array([957]), ('10.1016/j.jallcom.2020.154301', 'Mo0.2 Nb0.2 Re0.2 Ta0.2 W0.2', 1062.0): array([700]), ('10.1016/j.jallcom.2020.154301', 'Mo0.222 Nb0.222 Re0.111 Ta0.222 W0.222', 1147.0): array([760]), ('10.1016/j.jallcom.2020.154301', 'Mo0.25 Nb0.25 Ta0.25 W0.25', 1121.0): array([814]), ('10.1016/j.jallcom.2020.155700', 'Al0.025 Cr0.2 Mo0.2 Nb0.2 Ta0.025 Ti0.2 V0.05 Zr0.1', 669.0): array([0]), ('10.1016/j.jallcom.2020.155700', 'Al0.025 Cr0.2 Mo0.2 Nb0.2 Ta0.05 Ti0.2 V0.025 Zr0.1', 771.0): array([1]), ('10.1016/j.jallcom.2020.155700', 'Al0.025 Cr0.2 Mo0.2 Nb0.2 Ta0.075 Ti0.2 Zr0.1', 586.0): array([2]), ('10.1016/j.jallcom.2020.155700', 'Al0.025 Cr0.2 Mo0.2 Nb0.2 Ti0.2 V0.075 Zr0.1', 1100.0): array([3]), ('10.1016/j.jallcom.2020.155700', 'Al0.05 Cr0.2 Mo0.2 Nb0.2 Ta0.025 Ti0.2 V0.025 Zr0.1', 785.0): array([19]), ('10.1016/j.jallcom.2020.155700', 'Al0.05 Cr0.2 Mo0.2 Nb0.2 Ta0.05 Ti0.2 Zr0.1', 703.0): array([20]), ('10.1016/j.jallcom.2020.155700', 'Al0.05 Cr0.2 Mo0.2 Nb0.2 Ti0.2 V0.05 Zr0.1', 978.0): array([21]), ('10.1016/j.jallcom.2020.155700', 'Al0.075 Cr0.2 Mo0.2 Nb0.2 Ta0.025 Ti0.2 Zr0.1', 750.0): array([44]), ('10.1016/j.jallcom.2020.155700', 'Al0.075 Cr0.2 Mo0.2 Nb0.2 Ti0.2 V0.025 Zr0.1', 889.0): array([45]), ('10.1016/j.jallcom.2020.155700', 'Al0.1 Cr0.2 Mo0.2 Nb0.2 Ti0.2 Zr0.1', 1206.0): array([58]), ('10.1016/j.jallcom.2020.155700', 'Cr0.2 Mo0.2 Nb0.2 Ta0.025 Ti0.2 V0.075 Zr0.1', 670.0): array([294]), ('10.1016/j.jallcom.2020.155700', 'Cr0.2 Mo0.2 Nb0.2 Ta0.05 Ti0.2 V0.05 Zr0.1', 583.0): array([295]), ('10.1016/j.jallcom.2020.155700', 'Cr0.2 Mo0.2 Nb0.2 Ta0.075 Ti0.2 V0.025 Zr0.1', 729.0): array([296]), ('10.1016/j.jallcom.2020.155700', 'Cr0.2 Mo0.2 Nb0.2 Ta0.1 Ti0.2 Zr0.1', 502.0): array([297]), ('10.1016/j.jallcom.2020.155700', 'Cr0.2 Mo0.2 Nb0.2 Ti0.2 V0.1 Zr0.1', 827.0): array([299]), ('10.1016/j.jallcom.2020.157542', 'Mo0.2 Nb0.2 Ta0.2 Ti0.2 W0.2', 1600.0): array([717]), ('10.1016/j.jallcom.2020.158003', 'Nb0.333 Ta0.333 Ti0.333', 129.0): array([941]), ('10.1016/j.jallcom.2020.158003', 'Nb0.333 Ta0.333 Ti0.333', 201.0): array([940]), ('10.1016/j.jallcom.2020.158003', 'Nb0.333 Ta0.333 Ti0.333', 268.0): array([939]), ('10.1016/j.jallcom.2020.158003', 'Nb0.333 Ta0.333 Ti0.333', 341.0): array([938]), ('10.1016/j.jallcom.2020.158003', 'Nb0.333 Ta0.333 Ti0.333', 469.0): array([937]), ('10.1016/j.jallcom.2020.158003', 'Nb0.333 Ta0.333 Ti0.333', 724.0): array([936]), ('10.1016/j.jallcom.2021.159190', 'Nb0.2 Ti0.174 V0.136 Zr0.49', 424.0): array([867]), ('10.1016/j.jallcom.2021.159190', 'Nb0.2 Ti0.174 V0.136 Zr0.49', 829.0): array([866]), ('10.1016/j.jallcom.2021.159190', 'Nb0.25 Ti0.232 V0.322 Zr0.196', 966.0): array([900]), ('10.1016/j.jallcom.2021.159190', 'Nb0.25 Ti0.232 V0.322 Zr0.196', 1010.0): array([899]), ('10.1016/j.jallcom.2021.159190', 'Nb0.251 Ti0.229 V0.183 Zr0.337', 923.0): array([906]), ('10.1016/j.jallcom.2021.159190', 'Nb0.259 Ti0.233 V0.194 Zr0.313', 960.0): array([907]), ('10.1016/j.jallcom.2021.159190', 'Nb0.266 Ti0.238 V0.276 Zr0.22', 1010.0): array([908]), ('10.1016/j.jallcom.2021.159190', 'Nb0.268 Ti0.236 V0.227 Zr0.269', 876.0): array([910]), ('10.1016/j.jallcom.2021.159190', 'Nb0.268 Ti0.236 V0.227 Zr0.269', 969.0): array([909]), ('10.1016/j.jallcom.2021.159740', 'Mo0.05 Nb0.317 Ta0.317 W0.317', 1210.0): array([661]), ('10.1016/j.jallcom.2021.159740', 'Mo0.15 Nb0.283 Ta0.283 W0.283', 1092.0): array([686]), ('10.1016/j.jallcom.2021.159740', 'Mo0.25 Nb0.25 Ta0.25 W0.25', 1158.0): array([815]), ('10.1016/j.jallcom.2021.159740', 'Nb0.333 Ta0.333 W0.333', 1298.0): array([946]), ('10.1016/j.jallcom.2021.161187', 'Hf0.167 Nb0.167 Ta0.167 Ti0.167 V0.167 Zr0.167', 1203.0): array([415]), ('10.1016/j.jallcom.2021.161187', 'Hf0.222 Nb0.111 Ta0.111 Ti0.222 V0.111 Zr0.222', 1202.0): array([576]), ('10.1016/j.jallcom.2021.161187', 'Hf0.303 Nb0.03 Ta0.03 Ti0.303 V0.03 Zr0.303', 866.0): array([633]), ('10.1016/j.jmst.2020.05.038', 'Al0.143 Nb0.286 Ta0.143 Ti0.143 Zr0.286', 73.5): array([135]), ('10.1016/j.jmst.2020.05.038', 'Al0.143 Nb0.286 Ta0.143 Ti0.143 Zr0.286', 93.7): array([134]), ('10.1016/j.jmst.2020.05.038', 'Al0.143 Nb0.286 Ta0.143 Ti0.143 Zr0.286', 103.9): array([133]), ('10.1016/j.jmst.2020.05.038', 'Al0.143 Nb0.286 Ta0.143 Ti0.143 Zr0.286', 114.6): array([132]), ('10.1016/j.jmst.2020.05.038', 'Al0.143 Nb0.286 Ta0.143 Ti0.143 Zr0.286', 191.7): array([131]), ('10.1016/j.jmst.2020.05.038', 'Al0.143 Nb0.286 Ta0.143 Ti0.143 Zr0.286', 312.5): array([129]), ('10.1016/j.jmst.2020.05.038', 'Al0.143 Nb0.286 Ta0.143 Ti0.143 Zr0.286', 353.6): array([130]), ('10.1016/j.jmst.2020.05.038', 'Al0.143 Nb0.286 Ta0.143 Ti0.143 Zr0.286', 581.8): array([128]), ('10.1016/j.jmst.2020.05.038', 'Al0.143 Nb0.286 Ta0.143 Ti0.143 Zr0.286', 1104.1): array([127]), ('10.1016/j.jmst.2020.05.038', 'Al0.143 Nb0.286 Ta0.143 Ti0.143 Zr0.286', 1310.0): array([126]), ('10.1016/j.jmst.2020.05.038', 'Al0.143 Nb0.286 Ta0.143 Ti0.143 Zr0.286', 1500.0): array([124]), ('10.1016/j.jmst.2020.05.038', 'Al0.143 Nb0.286 Ta0.143 Ti0.143 Zr0.286', 1740.0): array([125]), ('10.1016/j.jmst.2020.07.012', 'Al0.111 Cr0.222 Mo0.222 Nb0.222 V0.222', 1178.0): array([94]), ('10.1016/j.jmst.2020.07.012', 'Al0.111 Cr0.222 Mo0.222 Nb0.222 V0.222', 2497.0): array([93]), ('10.1016/j.jmst.2020.07.012', 'Al0.2 Cr0.2 Mo0.2 Nb0.2 V0.2', 1085.0): array([181]), ('10.1016/j.jmst.2020.07.012', 'Al0.2 Cr0.2 Mo0.2 Nb0.2 V0.2', 2326.0): array([180]), ('10.1016/j.jmst.2020.07.012', 'Cr0.25 Mo0.25 Nb0.25 V0.25', 1513.0): array([324]), ('10.1016/j.jmst.2020.07.012', 'Cr0.25 Mo0.25 Nb0.25 V0.25', 2743.0): array([323]), ('10.1016/j.jmst.2020.10.073', 'Hf0.2 Nb0.2 Ta0.2 Ti0.2 V0.2', 720.0): array([464]), ('10.1016/j.jmst.2020.10.073', 'Hf0.2 Nb0.2 Ta0.2 Ti0.2 V0.2', 810.0): array([463]), ('10.1016/j.jmst.2020.10.073', 'Hf0.2 Nb0.2 Ta0.2 Ti0.2 V0.2', 841.0): array([462]), ('10.1016/j.jmst.2020.10.073', 'Hf0.2 Nb0.2 Ta0.2 Ti0.2 V0.2', 1350.0): array([461]), ('10.1016/j.jmst.2020.10.073', 'Hf0.2 Nb0.2 Ta0.2 Ti0.2 Zr0.2', 900.0): array([533]), ('10.1016/j.matchar.2015.11.018', 'Hf0.2 Nb0.2 Ta0.2 Ti0.2 Zr0.2', 890.0): array([534]), ('10.1016/j.matchar.2021.111287', 'Al0.048 Hf0.095 Nb0.095 Ti0.381 V0.19 Zr0.19', 1040.0): array([10]), ('10.1016/j.matchar.2021.111287', 'Al0.091 Hf0.091 Nb0.091 Ti0.364 V0.182 Zr0.182', 180.0): array([55]), ('10.1016/j.matchar.2021.111287', 'Al0.091 Hf0.091 Nb0.091 Ti0.364 V0.182 Zr0.182', 862.0): array([54]), ('10.1016/j.matchar.2021.111287', 'Al0.091 Hf0.091 Nb0.091 Ti0.364 V0.182 Zr0.182', 1159.0): array([53]), ('10.1016/j.matchar.2021.111287', 'Al0.13 Hf0.087 Nb0.087 Ti0.348 V0.174 Zr0.174', 1323.0): array([118]), ('10.1016/j.matchar.2021.111287', 'Al0.167 Hf0.083 Nb0.083 Ti0.333 V0.167 Zr0.167', 278.0): array([152]), ('10.1016/j.matchar.2021.111287', 'Al0.167 Hf0.083 Nb0.083 Ti0.333 V0.167 Zr0.167', 1088.0): array([151]), ('10.1016/j.matchar.2021.111287', 'Al0.167 Hf0.083 Nb0.083 Ti0.333 V0.167 Zr0.167', 1410.0): array([150]), ('10.1016/j.matchar.2021.111287', 'Hf0.1 Nb0.1 Ti0.4 V0.2 Zr0.2', 126.0): array([373]), ('10.1016/j.matchar.2021.111287', 'Hf0.1 Nb0.1 Ti0.4 V0.2 Zr0.2', 719.0): array([372]), ('10.1016/j.matchar.2021.111287', 'Hf0.1 Nb0.1 Ti0.4 V0.2 Zr0.2', 915.0): array([371]), ('10.1016/j.matchemphys.2017.06.054', 'Cr0.233 Ta0.233 Ti0.07 V0.233 W0.233', 586.0): array([315]), ('10.1016/j.matchemphys.2017.06.054', 'Cr0.233 Ta0.233 Ti0.07 V0.233 W0.233', 2050.0): array([314]), ('10.1016/j.matchemphys.2017.06.054', 'Cr0.24 Ta0.24 Ti0.041 V0.24 W0.24', 750.0): array([317]), ('10.1016/j.matchemphys.2017.06.054', 'Cr0.24 Ta0.24 Ti0.041 V0.24 W0.24', 2034.0): array([316]), ('10.1016/j.matchemphys.2017.06.054', 'Cr0.25 Ta0.25 V0.25 W0.25', 979.0): array([348]), ('10.1016/j.matchemphys.2017.06.054', 'Cr0.25 Ta0.25 V0.25 W0.25', 2327.0): array([347]), ('10.1016/j.matdes.2015.05.019', 'Hf0.2 Mo0.2 Nb0.2 Ti0.2 Zr0.2', 187.0): array([446]), ('10.1016/j.matdes.2015.05.019', 'Hf0.2 Mo0.2 Nb0.2 Ti0.2 Zr0.2', 635.0): array([445]), ('10.1016/j.matdes.2015.05.019', 'Hf0.2 Mo0.2 Nb0.2 Ti0.2 Zr0.2', 825.0): array([444]), ('10.1016/j.matdes.2015.05.019', 'Hf0.2 Mo0.2 Nb0.2 Ti0.2 Zr0.2', 1575.0): array([443]), ('10.1016/j.matdes.2015.05.019', 'Hf0.2 Mo0.2 Nb0.2 Ti0.2 Zr0.2', 1719.0): array([442]), ('10.1016/j.matdes.2015.06.072', 'Mo0.029 Nb0.294 Ti0.294 V0.088 Zr0.294', 932.0): array([660]), ('10.1016/j.matdes.2015.06.072', 'Mo0.07 Nb0.233 Ti0.233 V0.233 Zr0.233', 1289.0): array([665]), ('10.1016/j.matdes.2015.06.072', 'Mo0.083 Nb0.278 Ti0.278 V0.083 Zr0.278', 1312.0): array([666]), ('10.1016/j.matdes.2015.06.072', 'Mo0.111 Nb0.222 Ti0.222 V0.222 Zr0.222', 1473.0): array([672]), ('10.1016/j.matdes.2015.06.072', 'Mo0.132 Nb0.263 Ti0.263 V0.079 Zr0.263', 1301.0): array([678]), ('10.1016/j.matdes.2015.06.072', 'Mo0.149 Nb0.213 Ti0.213 V0.213 Zr0.213', 1706.0): array([685]), ('10.1016/j.matdes.2015.06.072', 'Mo0.175 Nb0.25 Ti0.25 V0.075 Zr0.25', 1436.0): array([698]), ('10.1016/j.matdes.2015.06.072', 'Mo0.2 Nb0.2 Ti0.2 V0.2 Zr0.2', 1779.0): array([743]), ('10.1016/j.matdes.2015.06.072', 'Mo0.233 Nb0.233 Ti0.233 V0.07 Zr0.233', 1455.0): array([772]), ('10.1016/j.matdes.2015.06.072', 'Mo0.245 Nb0.189 Ti0.189 V0.189 Zr0.189', 1496.0): array([780]), ('10.1016/j.matdes.2015.06.072', 'Mo0.273 Nb0.182 Ti0.182 V0.182 Zr0.182', 1603.0): array([829]), ('10.1016/j.matdes.2015.06.072', 'Mo0.283 Nb0.217 Ti0.217 V0.065 Zr0.217', 1603.0): array([830]), ('10.1016/j.matdes.2015.06.072', 'Mo0.298 Nb0.175 Ti0.175 V0.175 Zr0.175', 1645.0): array([836]), ('10.1016/j.matdes.2015.06.072', 'Mo0.312 Nb0.208 Ti0.208 V0.062 Zr0.208', 1576.0): array([841]), ('10.1016/j.matdes.2015.06.072', 'Mo0.333 Nb0.167 Ti0.167 V0.167 Zr0.167', 1765.0): array([845]), ('10.1016/j.matdes.2015.06.072', 'Nb0.25 Ti0.25 V0.25 Zr0.25', 1104.0): array([901]), ('10.1016/j.matdes.2015.06.072', 'Nb0.303 Ti0.303 V0.091 Zr0.303', 866.0): array([926]), ('10.1016/j.matdes.2017.11.033', 'Al0.059 Nb0.235 Ta0.235 Ti0.235 Zr0.235', 366.0): array([32]), ('10.1016/j.matdes.2017.11.033', 'Al0.059 Nb0.235 Ta0.235 Ti0.235 Zr0.235', 1745.0): array([31]), ('10.1016/j.matdes.2017.11.033', 'Al0.111 Mo0.111 Nb0.222 Ta0.111 Ti0.222 Zr0.222', 579.0): array([96]), ('10.1016/j.matdes.2017.11.033', 'Al0.111 Mo0.111 Nb0.222 Ta0.111 Ti0.222 Zr0.222', 2350.0): array([95]), ('10.1016/j.matdes.2017.11.033', 'Al0.2 Mo0.1 Nb0.2 Ta0.1 Ti0.2 Zr0.2', 2197.0): array([194]), ('10.1016/j.matdes.2017.11.033', 'Al0.222 Mo0.111 Nb0.222 Ta0.111 Ti0.222 Zr0.111', 935.0): array([209]), ('10.1016/j.matdes.2017.11.033', 'Al0.25 Nb0.25 Ta0.125 Ti0.25 Zr0.125', 535.0): array([247]), ('10.1016/j.matdes.2017.11.033', 'Al0.25 Nb0.25 Ta0.125 Ti0.25 Zr0.125', 1352.0): array([246]), ('10.1016/j.matlet.2014.05.134', 'Hf0.25 Nb0.25 Ti0.25 Zr0.25', 879.0): array([617]), ('10.1016/j.matlet.2014.11.162', 'Al0.25 Nb0.25 Ti0.25 V0.25', 158.0): array([257]), ('10.1016/j.matlet.2014.11.162', 'Al0.25 Nb0.25 Ti0.25 V0.25', 685.0): array([256]), ('10.1016/j.matlet.2014.11.162', 'Al0.25 Nb0.25 Ti0.25 V0.25', 810.0): array([255]), ('10.1016/j.matlet.2014.11.162', 'Al0.25 Nb0.25 Ti0.25 V0.25', 1020.0): array([254]), ('10.1016/j.matlet.2015.08.099', 'Al0.222 Nb0.222 Ti0.222 V0.222 Zr0.111', 1480.0): array([212]), ('10.1016/j.matlet.2016.03.092', 'Hf0.222 Nb0.222 Si0.111 Ti0.222 V0.222', 240.0): array([579]), ('10.1016/j.matlet.2016.03.092', 'Hf0.222 Nb0.222 Si0.111 Ti0.222 V0.222', 875.0): array([578]), ('10.1016/j.matlet.2016.03.092', 'Hf0.222 Nb0.222 Si0.111 Ti0.222 V0.222', 1399.0): array([577]), ('10.1016/j.matlet.2016.03.133', 'Hf0.174 Mo0.13 Nb0.174 Ta0.174 Ti0.174 Zr0.174', 1373.0): array([420]), ('10.1016/j.matlet.2016.03.133', 'Hf0.182 Mo0.091 Nb0.182 Ta0.182 Ti0.182 Zr0.182', 1317.0): array([421]), ('10.1016/j.matlet.2016.03.133', 'Hf0.19 Mo0.048 Nb0.19 Ta0.19 Ti0.19 Zr0.19', 1112.0): array([429]), ('10.1016/j.matlet.2016.03.133', 'Hf0.2 Nb0.2 Ta0.2 Ti0.2 Zr0.2', 1015.0): array([536]), ('10.1016/j.matlet.2016.08.060', 'Hf0.2 Nb0.2 Ta0.2 Ti0.2 Zr0.2', 940.0): array([539]), ('10.1016/j.matlet.2016.08.060', 'Hf0.2 Nb0.2 Ta0.2 Ti0.2 Zr0.2', 944.0): array([538]), ('10.1016/j.matlet.2016.08.060', 'Hf0.2 Nb0.2 Ta0.2 Ti0.2 Zr0.2', 958.0): array([537]), ('10.1016/j.matlet.2016.11.030', 'Al0.1 Cr0.2 Nb0.2 Ti0.4 V0.1', 90.0): array([63]), ('10.1016/j.matlet.2016.11.030', 'Al0.1 Cr0.2 Nb0.2 Ti0.4 V0.1', 445.0): array([62]), ('10.1016/j.matlet.2016.11.030', 'Al0.1 Cr0.2 Nb0.2 Ti0.4 V0.1', 930.0): array([61]), ('10.1016/j.matlet.2016.11.030', 'Al0.1 Cr0.2 Nb0.2 Ti0.4 V0.1', 1240.0): array([59]), ('10.1016/j.matlet.2016.11.030', 'Al0.1 Cr0.2 Nb0.2 Ti0.4 V0.1', 1340.0): array([60]), ('10.1016/j.matlet.2019.03.075', 'Al0.125 Nb0.25 Ta0.125 Ti0.25 Zr0.25', 1200.0): array([115]), ('10.1016/j.matlet.2019.03.075', 'Al0.125 Nb0.25 Ta0.125 Ti0.25 Zr0.25', 1500.0): array([114]), ('10.1016/j.matlet.2019.03.075', 'Al0.125 Nb0.25 Ta0.125 Ti0.25 Zr0.25', 1630.0): array([113]), ('10.1016/j.matlet.2019.03.075', 'Al0.125 Nb0.25 Ta0.125 Ti0.25 Zr0.25', 1740.0): array([112]), ('10.1016/j.matlet.2019.03.075', 'Al0.125 Nb0.25 Ta0.125 Ti0.25 Zr0.25', 2100.0): array([111]), ('10.1016/j.matlet.2020.127372', 'Al0.2 Cr0.1 Nb0.15 Ti0.2 V0.25 Zr0.1', 720.0): array([165]), ('10.1016/j.matlet.2020.127372', 'Al0.2 Cr0.1 Nb0.15 Ti0.2 V0.25 Zr0.1', 1000.0): array([167]), ('10.1016/j.matlet.2020.127372', 'Al0.2 Cr0.1 Nb0.15 Ti0.2 V0.25 Zr0.1', 1535.0): array([166]), ('10.1016/j.matlet.2021.129428', 'Al0.079 Nb0.263 Ti0.395 Zr0.263', 876.0): array([46]), ('10.1016/j.matlet.2021.129753', 'Mo0.204 Nb0.306 Ta0.204 Ti0.204 W0.082', 503.0): array([747]), ('10.1016/j.matlet.2021.129753', 'Mo0.204 Nb0.306 Ta0.204 Ti0.204 W0.082', 764.0): array([746]), ('10.1016/j.matlet.2021.129753', 'Mo0.204 Nb0.306 Ta0.204 Ti0.204 W0.082', 986.0): array([745]), ('10.1016/j.matlet.2021.129753', 'Mo0.204 Nb0.306 Ta0.204 Ti0.204 W0.082', 1312.0): array([744]), ('10.1016/j.matlet.2021.129753', 'Mo0.213 Nb0.277 Ta0.213 Ti0.213 W0.085', 425.0): array([759]), ('10.1016/j.matlet.2021.129753', 'Mo0.213 Nb0.277 Ta0.213 Ti0.213 W0.085', 905.0): array([758]), ('10.1016/j.matlet.2021.129753', 'Mo0.213 Nb0.277 Ta0.213 Ti0.213 W0.085', 1125.0): array([757]), ('10.1016/j.matlet.2021.129753', 'Mo0.213 Nb0.277 Ta0.213 Ti0.213 W0.085', 1334.0): array([756]), ('10.1016/j.matlet.2021.129753', 'Mo0.222 Nb0.244 Ta0.222 Ti0.222 W0.089', 585.0): array([771]), ('10.1016/j.matlet.2021.129753', 'Mo0.222 Nb0.244 Ta0.222 Ti0.222 W0.089', 664.0): array([770]), ('10.1016/j.matlet.2021.129753', 'Mo0.222 Nb0.244 Ta0.222 Ti0.222 W0.089', 1027.0): array([769]), ('10.1016/j.matlet.2021.129753', 'Mo0.222 Nb0.244 Ta0.222 Ti0.222 W0.089', 1412.0): array([768]), ('10.1016/j.msea.2003.12.011', 'Ta0.384 Ti0.616', 600.0): array([969]), ('10.1016/j.msea.2003.12.011', 'Ta0.51 Ti0.49', 375.0): array([970]), ('10.1016/j.msea.2012.12.018', 'Cr0.2 Nb0.2 Ti0.2 V0.2 Zr0.2', 259.0): array([308]), ('10.1016/j.msea.2012.12.018', 'Cr0.2 Nb0.2 Ti0.2 V0.2 Zr0.2', 615.0): array([307]), ('10.1016/j.msea.2012.12.018', 'Cr0.2 Nb0.2 Ti0.2 V0.2 Zr0.2', 1230.0): array([306]), ('10.1016/j.msea.2012.12.018', 'Cr0.2 Nb0.2 Ti0.2 V0.2 Zr0.2', 1298.0): array([305]), ('10.1016/j.msea.2012.12.018', 'Cr0.25 Nb0.25 Ti0.25 Zr0.25', 115.0): array([346]), ('10.1016/j.msea.2012.12.018', 'Cr0.25 Nb0.25 Ti0.25 Zr0.25', 300.0): array([345]), ('10.1016/j.msea.2012.12.018', 'Cr0.25 Nb0.25 Ti0.25 Zr0.25', 1035.0): array([344]), ('10.1016/j.msea.2012.12.018', 'Cr0.25 Nb0.25 Ti0.25 Zr0.25', 1260.0): array([343]), ('10.1016/j.msea.2012.12.018', 'Nb0.2 Ti0.2 V0.4 Zr0.2', 72.0): array([871]), ('10.1016/j.msea.2012.12.018', 'Nb0.2 Ti0.2 V0.4 Zr0.2', 240.0): array([870]), ('10.1016/j.msea.2012.12.018', 'Nb0.2 Ti0.2 V0.4 Zr0.2', 571.0): array([869]), ('10.1016/j.msea.2012.12.018', 'Nb0.2 Ti0.2 V0.4 Zr0.2', 918.0): array([868]), ('10.1016/j.msea.2012.12.018', 'Nb0.25 Ti0.25 V0.25 Zr0.25', 58.0): array([905]), ('10.1016/j.msea.2012.12.018', 'Nb0.25 Ti0.25 V0.25 Zr0.25', 187.0): array([904]), ('10.1016/j.msea.2012.12.018', 'Nb0.25 Ti0.25 V0.25 Zr0.25', 834.0): array([903]), ('10.1016/j.msea.2012.12.018', 'Nb0.25 Ti0.25 V0.25 Zr0.25', 1105.0): array([902]), ('10.1016/j.msea.2015.08.024', 'Hf0.2 Nb0.2 Ta0.2 Ti0.2 Zr0.2', 905.0): array([540]), ('10.1016/j.msea.2015.12.017', 'Hf0.2 Nb0.2 Ta0.2 Ti0.2 Zr0.2', 803.0): array([544]), ('10.1016/j.msea.2015.12.017', 'Hf0.2 Nb0.2 Ta0.2 Ti0.2 Zr0.2', 820.0): array([543]), ('10.1016/j.msea.2015.12.017', 'Hf0.2 Nb0.2 Ta0.2 Ti0.2 Zr0.2', 827.0): array([542]), ('10.1016/j.msea.2015.12.017', 'Hf0.2 Nb0.2 Ta0.2 Ti0.2 Zr0.2', 828.0): array([541]), ('10.1016/j.msea.2016.07.102', 'Nb0.2 Ta0.2 Ti0.2 V0.2 W0.2', 1420.0): array([862]), ('10.1016/j.msea.2016.07.102', 'Nb0.25 Ta0.25 Ti0.25 V0.25', 965.0): array([884]), ('10.1016/j.msea.2016.07.102', 'Nb0.25 Ta0.25 V0.25 W0.25', 1530.0): array([898]), ('10.1016/j.msea.2017.08.019', 'Al0.182 Nb0.182 Ti0.182 V0.182 Zr0.273', 180.0): array([164]), ('10.1016/j.msea.2017.08.019', 'Al0.182 Nb0.182 Ti0.182 V0.182 Zr0.273', 1195.0): array([163]), ('10.1016/j.msea.2017.08.019', 'Al0.182 Nb0.182 Ti0.182 V0.182 Zr0.273', 1535.0): array([162]), ('10.1016/j.msea.2017.08.019', 'Al0.2 Nb0.2 Ti0.2 V0.2 Zr0.2', 550.0): array([200]), ('10.1016/j.msea.2017.08.019', 'Al0.2 Nb0.2 Ti0.2 V0.2 Zr0.2', 1155.0): array([199]), ('10.1016/j.msea.2017.08.019', 'Al0.2 Nb0.2 Ti0.2 V0.2 Zr0.2', 1500.0): array([198]), ('10.1016/j.msea.2017.08.019', 'Al0.222 Nb0.222 Ti0.222 V0.222 Zr0.111', 675.0): array([215]), ('10.1016/j.msea.2017.08.019', 'Al0.222 Nb0.222 Ti0.222 V0.222 Zr0.111', 1135.0): array([214]), ('10.1016/j.msea.2017.08.019', 'Al0.222 Nb0.222 Ti0.222 V0.222 Zr0.111', 1485.0): array([213]), ('10.1016/j.msea.2017.08.019', 'Al0.235 Nb0.235 Ti0.235 V0.235 Zr0.059', 855.0): array([221]), ('10.1016/j.msea.2017.08.019', 'Al0.235 Nb0.235 Ti0.235 V0.235 Zr0.059', 1065.0): array([220]), ('10.1016/j.msea.2017.08.019', 'Al0.235 Nb0.235 Ti0.235 V0.235 Zr0.059', 1360.0): array([219]), ('10.1016/j.msea.2017.08.019', 'Al0.244 Nb0.244 Ti0.244 V0.244 Zr0.024', 865.0): array([224]), ('10.1016/j.msea.2017.08.019', 'Al0.244 Nb0.244 Ti0.244 V0.244 Zr0.024', 975.0): array([223]), ('10.1016/j.msea.2017.08.019', 'Al0.244 Nb0.244 Ti0.244 V0.244 Zr0.024', 1290.0): array([222]), ('10.1016/j.msea.2017.08.019', 'Al0.25 Nb0.25 Ti0.25 V0.25', 560.0): array([260]), ('10.1016/j.msea.2017.08.019', 'Al0.25 Nb0.25 Ti0.25 V0.25', 780.0): array([259]), ('10.1016/j.msea.2017.08.019', 'Al0.25 Nb0.25 Ti0.25 V0.25', 1000.0): array([258]), ('10.1016/j.msea.2017.10.073', 'Hf0.15 Nb0.2 Ta0.1 Ti0.3 Zr0.25', 640.0): array([410]), ('10.1016/j.msea.2017.10.073', 'Hf0.15 Nb0.2 Ta0.1 Ti0.3 Zr0.25', 890.0): array([407]), ('10.1016/j.msea.2017.10.073', 'Hf0.15 Nb0.2 Ta0.1 Ti0.3 Zr0.25', 1020.0): array([402, 409]), ('10.1016/j.msea.2017.10.073', 'Hf0.15 Nb0.2 Ta0.1 Ti0.3 Zr0.25', 1040.0): array([408]), ('10.1016/j.msea.2017.10.073', 'Hf0.15 Nb0.2 Ta0.1 Ti0.3 Zr0.25', 1100.0): array([406]), ('10.1016/j.msea.2017.10.073', 'Hf0.15 Nb0.2 Ta0.1 Ti0.3 Zr0.25', 1150.0): array([405]), ('10.1016/j.msea.2017.10.073', 'Hf0.15 Nb0.2 Ta0.1 Ti0.3 Zr0.25', 1180.0): array([403]), ('10.1016/j.msea.2017.10.073', 'Hf0.15 Nb0.2 Ta0.1 Ti0.3 Zr0.25', 1200.0): array([404]), ('10.1016/j.msea.2017.10.073', 'Hf0.15 Nb0.2 Ta0.1 Ti0.3 Zr0.25', 1250.0): array([399]), ('10.1016/j.msea.2017.10.073', 'Hf0.15 Nb0.2 Ta0.1 Ti0.3 Zr0.25', 1370.0): array([396, 400]), ('10.1016/j.msea.2017.10.073', 'Hf0.15 Nb0.2 Ta0.1 Ti0.3 Zr0.25', 1380.0): array([401]), ('10.1016/j.msea.2017.10.073', 'Hf0.15 Nb0.2 Ta0.1 Ti0.3 Zr0.25', 1550.0): array([397]), ('10.1016/j.msea.2017.10.073', 'Hf0.15 Nb0.2 Ta0.1 Ti0.3 Zr0.25', 1640.0): array([398]), ('10.1016/j.msea.2017.10.073', 'Hf0.15 Nb0.2 Ta0.1 Ti0.3 Zr0.25', 1750.0): array([393]), ('10.1016/j.msea.2017.10.073', 'Hf0.15 Nb0.2 Ta0.1 Ti0.3 Zr0.25', 1880.0): array([394]), ('10.1016/j.msea.2017.10.073', 'Hf0.15 Nb0.2 Ta0.1 Ti0.3 Zr0.25', 1920.0): array([395]), ('10.1016/j.msea.2017.10.073', 'Hf0.15 Nb0.2 Ta0.1 Ti0.3 Zr0.25', 2210.0): array([390]), ('10.1016/j.msea.2017.10.073', 'Hf0.15 Nb0.2 Ta0.1 Ti0.3 Zr0.25', 2250.0): array([391]), ('10.1016/j.msea.2017.10.073', 'Hf0.15 Nb0.2 Ta0.1 Ti0.3 Zr0.25', 2390.0): array([392]), ('10.1016/j.msea.2017.12.004', 'Mo0.2 Nb0.2 Ta0.2 Ti0.2 W0.2', 1455.0): array([721]), ('10.1016/j.msea.2017.12.004', 'Mo0.211 Nb0.211 Ta0.211 Ti0.158 W0.211', 1304.0): array([754]), ('10.1016/j.msea.2017.12.004', 'Mo0.222 Nb0.222 Ta0.222 Ti0.111 W0.222', 1211.0): array([766]), ('10.1016/j.msea.2017.12.004', 'Mo0.235 Nb0.235 Ta0.235 Ti0.059 W0.235', 1109.0): array([778]), ('10.1016/j.msea.2017.12.004', 'Mo0.25 Nb0.25 Ta0.25 W0.25', 996.0): array([816]), ('10.1016/j.msea.2017.12.021', 'Mo0.2 Nb0.2 Ta0.2 V0.2 W0.2', 2612.0): array([737]), ('10.1016/j.msea.2020.139275', 'Al0.038 Mo0.192 Nb0.192 Ta0.192 Ti0.192 V0.192', 1292.0): array([4]), ('10.1016/j.msea.2020.139275', 'Al0.074 Mo0.185 Nb0.185 Ta0.185 Ti0.185 V0.185', 1332.0): array([40]), ('10.1016/j.msea.2020.139275', 'Al0.107 Mo0.179 Nb0.179 Ta0.179 Ti0.179 V0.179', 1352.0): array([88]), ('10.1016/j.msea.2020.139275', 'Al0.167 Mo0.167 Nb0.167 Ta0.167 Ti0.167 V0.167', 1391.0): array([154]), ('10.1016/j.msea.2020.139275', 'Mo0.2 Nb0.2 Ta0.2 Ti0.2 V0.2', 1228.0): array([708]), ('10.1016/j.msea.2020.139774', 'Nb0.167 Ti0.333 V0.167 Zr0.333', 787.0): array([859]), ('10.1016/j.msea.2020.139774', 'Nb0.167 Ti0.333 V0.167 Zr0.333', 832.0): array([860]), ('10.1016/j.msea.2021.140798', 'Hf0.29 Nb0.072 Ta0.058 Ti0.29 Zr0.29', 748.0): array([629]), ('10.1016/j.msea.2021.140798', 'Hf0.294 Nb0.059 Ta0.059 Ti0.294 Zr0.294', 607.0): array([630]), ('10.1016/j.msea.2021.140798', 'Hf0.299 Nb0.045 Ta0.06 Ti0.299 Zr0.299', 406.0): array([632]), ('10.1016/j.msea.2021.140798', 'Hf0.312 Ta0.062 Ti0.312 Zr0.312', 1206.0): array([634]), ('10.1016/j.msea.2021.140848', 'Mo0.25 Nb0.25 Ta0.25 V0.25', 811.0): array([794]), ('10.1016/j.msea.2021.140848', 'Mo0.25 Nb0.25 Ta0.25 V0.25', 933.0): array([793]), ('10.1016/j.msea.2021.140848', 'Mo0.25 Nb0.25 Ta0.25 V0.25', 1233.0): array([792]), ('10.1016/j.msea.2021.140848', 'Mo0.267 Nb0.267 Ta0.267 V0.2', 772.0): array([827]), ('10.1016/j.msea.2021.140848', 'Mo0.267 Nb0.267 Ta0.267 V0.2', 887.0): array([826]), ('10.1016/j.msea.2021.140848', 'Mo0.267 Nb0.267 Ta0.267 V0.2', 1173.0): array([825]), ('10.1016/j.msea.2021.140848', 'Mo0.286 Nb0.286 Ta0.286 V0.143', 741.0): array([834]), ('10.1016/j.msea.2021.140848', 'Mo0.286 Nb0.286 Ta0.286 V0.143', 824.0): array([833]), ('10.1016/j.msea.2021.140848', 'Mo0.286 Nb0.286 Ta0.286 V0.143', 1085.0): array([832]), ('10.1016/j.msea.2021.140848', 'Mo0.308 Nb0.308 Ta0.308 V0.077', 694.0): array([839]), ('10.1016/j.msea.2021.140848', 'Mo0.308 Nb0.308 Ta0.308 V0.077', 763.0): array([838]), ('10.1016/j.msea.2021.140848', 'Mo0.308 Nb0.308 Ta0.308 V0.077', 1017.0): array([837]), ('10.1016/j.msea.2021.140983', 'Hf0.2 Nb0.2 Ta0.2 Ti0.2 Zr0.2', 123.0): array([551]), ('10.1016/j.msea.2021.140983', 'Hf0.2 Nb0.2 Ta0.2 Ti0.2 Zr0.2', 499.0): array([550]), ('10.1016/j.msea.2021.140983', 'Hf0.2 Nb0.2 Ta0.2 Ti0.2 Zr0.2', 659.0): array([548]), ('10.1016/j.msea.2021.140983', 'Hf0.2 Nb0.2 Ta0.2 Ti0.2 Zr0.2', 708.0): array([549]), ('10.1016/j.msea.2021.140983', 'Hf0.2 Nb0.2 Ta0.2 Ti0.2 Zr0.2', 784.0): array([547]), ('10.1016/j.msea.2021.140983', 'Hf0.2 Nb0.2 Ta0.2 Ti0.2 Zr0.2', 1024.0): array([546]), ('10.1016/j.msea.2021.140983', 'Hf0.2 Nb0.2 Ta0.2 Ti0.2 Zr0.2', 1326.0): array([545]), ('10.1016/j.msea.2021.141168', 'Ta0.333 Ti0.333 Zr0.333', 63.1): array([967]), ('10.1016/j.msea.2021.141168', 'Ta0.333 Ti0.333 Zr0.333', 103.0): array([966]), ('10.1016/j.msea.2021.141168', 'Ta0.333 Ti0.333 Zr0.333', 157.0): array([965]), ('10.1016/j.msea.2021.141168', 'Ta0.333 Ti0.333 Zr0.333', 346.0): array([964]), ('10.1016/j.msea.2021.141168', 'Ta0.333 Ti0.333 Zr0.333', 1440.0): array([963]), ('10.1016/j.msea.2021.141168', 'Ta0.333 Ti0.333 Zr0.333', 1671.0): array([962]), ('10.1016/j.msea.2021.141234', 'Al0.043 Nb0.145 Ti0.522 V0.116 Zr0.174', 756.02576): array([8]), ('10.1016/j.msea.2021.141234', 'Al0.043 Nb0.145 Ti0.522 V0.116 Zr0.174', 869.98912): array([9]), ('10.1016/j.msea.2021.141234', 'Al0.048 Nb0.159 Ti0.476 V0.127 Zr0.19', 789.00992): array([12]), ('10.1016/j.msea.2021.141234', 'Al0.057 Nb0.189 Ti0.377 V0.151 Zr0.226', 983.016): array([24]), ('10.1016/j.msea.2021.141234', 'Al0.057 Nb0.189 Ti0.377 V0.151 Zr0.226', 1079.9856): array([25]), ('10.1016/j.msea.2021.141234', 'Al0.062 Nb0.208 Ti0.312 V0.167 Zr0.25', 1079.99326): array([39]), ('10.1016/j.msea.2021.141234', 'Al0.083 Nb0.139 Ti0.5 V0.111 Zr0.167', 913.97676): array([51]), ('10.1016/j.msea.2021.141234', 'Al0.083 Nb0.139 Ti0.5 V0.111 Zr0.167', 989.0184): array([52]), ('10.1016/j.msea.2021.141234', 'Al0.091 Nb0.152 Ti0.455 V0.121 Zr0.182', 923.00424): array([57]), ('10.1016/j.msea.2021.141234', 'Al0.107 Nb0.179 Ti0.357 V0.143 Zr0.214', 488.00135): array([92]), ('10.1016/j.msea.2021.141234', 'Al0.12 Nb0.133 Ti0.48 V0.107 Zr0.16', 990.99324): array([99]), ('10.1016/j.msea.2021.141234', 'Nb0.152 Ti0.545 V0.121 Zr0.182', 680.01696): array([858]), ('10.1016/j.msea.2021.141234', 'Nb0.167 Ti0.5 V0.133 Zr0.2', 716.01884): array([861]), ('10.1016/j.msea.2021.141234', 'Nb0.2 Ti0.4 V0.16 Zr0.24', 931.99428): array([872]), ('10.1016/j.msea.2021.141234', 'Nb0.222 Ti0.333 V0.178 Zr0.267', 952.97972): array([873]), ('10.1016/j.msea.2021.141908', 'Nb0.333 Ta0.333 V0.333', 920.0): array([944]), ('10.1016/j.msea.2021.141908', 'Nb0.333 Ta0.333 V0.333', 925.0): array([943]), ('10.1016/j.msea.2021.141908', 'Nb0.333 Ta0.333 V0.333', 930.0): array([945]), ('10.1016/j.msec.2016.12.057', 'Mo0.2 Nb0.2 Ta0.2 Ti0.2 Zr0.2', 1390.0): array([722]), ('10.1016/j.mtla.2020.100627', 'Al0.1 Nb0.15 Ta0.05 Ti0.3 Zr0.4', 8.0): array([81]), ('10.1016/j.mtla.2020.100627', 'Al0.1 Nb0.15 Ta0.05 Ti0.3 Zr0.4', 15.6): array([80]), ('10.1016/j.mtla.2020.100627', 'Al0.1 Nb0.15 Ta0.05 Ti0.3 Zr0.4', 30.0): array([79]), ('10.1016/j.mtla.2020.100627', 'Al0.1 Nb0.15 Ta0.05 Ti0.3 Zr0.4', 45.5): array([78]), ('10.1016/j.mtla.2020.100627', 'Al0.1 Nb0.15 Ta0.05 Ti0.3 Zr0.4', 124.0): array([84]), ('10.1016/j.mtla.2020.100627', 'Al0.1 Nb0.15 Ta0.05 Ti0.3 Zr0.4', 145.0): array([77]), ('10.1016/j.mtla.2020.100627', 'Al0.1 Nb0.15 Ta0.05 Ti0.3 Zr0.4', 251.0): array([76]), ('10.1016/j.mtla.2020.100627', 'Al0.1 Nb0.15 Ta0.05 Ti0.3 Zr0.4', 377.0): array([74]), ('10.1016/j.mtla.2020.100627', 'Al0.1 Nb0.15 Ta0.05 Ti0.3 Zr0.4', 561.0): array([75]), ('10.1016/j.mtla.2020.100627', 'Al0.1 Nb0.15 Ta0.05 Ti0.3 Zr0.4', 698.0): array([73]), ('10.1016/j.mtla.2020.100627', 'Al0.1 Nb0.15 Ta0.05 Ti0.3 Zr0.4', 852.0): array([68]), ('10.1016/j.mtla.2020.100627', 'Al0.1 Nb0.15 Ta0.05 Ti0.3 Zr0.4', 913.0): array([66]), ('10.1016/j.mtla.2020.100627', 'Al0.1 Nb0.15 Ta0.05 Ti0.3 Zr0.4', 973.0): array([83]), ('10.1016/j.mtla.2020.100627', 'Al0.1 Nb0.15 Ta0.05 Ti0.3 Zr0.4', 993.0): array([70]), ('10.1016/j.mtla.2020.100627', 'Al0.1 Nb0.15 Ta0.05 Ti0.3 Zr0.4', 1005.0): array([69]), ('10.1016/j.mtla.2020.100627', 'Al0.1 Nb0.15 Ta0.05 Ti0.3 Zr0.4', 1049.0): array([64]), ('10.1016/j.mtla.2020.100627', 'Al0.1 Nb0.15 Ta0.05 Ti0.3 Zr0.4', 1059.0): array([72]), ('10.1016/j.mtla.2020.100627', 'Al0.1 Nb0.15 Ta0.05 Ti0.3 Zr0.4', 1069.0): array([67]), ('10.1016/j.mtla.2020.100627', 'Al0.1 Nb0.15 Ta0.05 Ti0.3 Zr0.4', 1076.0): array([82]), ('10.1016/j.mtla.2020.100627', 'Al0.1 Nb0.15 Ta0.05 Ti0.3 Zr0.4', 1092.0): array([71]), ('10.1016/j.mtla.2020.100627', 'Al0.1 Nb0.15 Ta0.05 Ti0.3 Zr0.4', 1235.0): array([65]), ('10.1016/j.mtla.2021.101057', 'Al0.15 Cr0.2 Nb0.15 Ti0.4 Zr0.1', 60.0): array([140]), ('10.1016/j.mtla.2021.101057', 'Al0.15 Cr0.2 Nb0.15 Ti0.4 Zr0.1', 300.0): array([139]), ('10.1016/j.mtla.2021.101057', 'Al0.15 Cr0.2 Nb0.15 Ti0.4 Zr0.1', 625.0): array([138]), ('10.1016/j.mtla.2021.101057', 'Al0.15 Cr0.2 Nb0.15 Ti0.4 Zr0.1', 1290.0): array([137]), ('10.1016/j.mtla.2021.101057', 'Al0.15 Cr0.2 Nb0.15 Ti0.4 Zr0.1', 1750.0): array([136]), ('10.1016/j.mtla.2021.101057', 'Al0.23 Cr0.2 Nb0.15 Ti0.32 Zr0.1', 130.0): array([218]), ('10.1016/j.mtla.2021.101057', 'Al0.23 Cr0.2 Nb0.15 Ti0.32 Zr0.1', 560.0): array([217]), ('10.1016/j.mtla.2021.101057', 'Al0.23 Cr0.2 Nb0.15 Ti0.32 Zr0.1', 1105.0): array([216]), ('10.1016/j.mtla.2021.101057', 'Al0.28 Cr0.2 Nb0.15 Ti0.27 Zr0.1', 155.0): array([265]), ('10.1016/j.mtla.2021.101057', 'Al0.28 Cr0.2 Nb0.15 Ti0.27 Zr0.1', 810.0): array([264]), ('10.1016/j.mtla.2021.101057', 'Al0.33 Cr0.2 Nb0.15 Ti0.22 Zr0.1', 230.0): array([267]), ('10.1016/j.mtla.2021.101057', 'Cr0.2 Nb0.3 Ti0.4 Zr0.1', 60.0): array([313]), ('10.1016/j.mtla.2021.101057', 'Cr0.2 Nb0.3 Ti0.4 Zr0.1', 205.0): array([312]), ('10.1016/j.mtla.2021.101057', 'Cr0.2 Nb0.3 Ti0.4 Zr0.1', 535.0): array([311]), ('10.1016/j.mtla.2021.101057', 'Cr0.2 Nb0.3 Ti0.4 Zr0.1', 775.0): array([310]), ('10.1016/j.mtla.2021.101057', 'Cr0.2 Nb0.3 Ti0.4 Zr0.1', 1005.0): array([309]), ('10.1016/j.mtla.2021.101057', 'Nb0.3 Ti0.4 Zr0.3', 115.0): array([917]), ('10.1016/j.mtla.2021.101057', 'Nb0.3 Ti0.4 Zr0.3', 125.0): array([916]), ('10.1016/j.mtla.2021.101057', 'Nb0.3 Ti0.4 Zr0.3', 210.0): array([915]), ('10.1016/j.mtla.2021.101057', 'Nb0.3 Ti0.4 Zr0.3', 370.0): array([914]), ('10.1016/j.mtla.2021.101057', 'Nb0.3 Ti0.4 Zr0.3', 605.0): array([918]), ('10.1016/j.mtla.2021.101057', 'Nb0.3 Ti0.4 Zr0.3', 675.0): array([913]), ('10.1016/j.proeng.2012.03.043', 'Al0.059 Nb0.235 Ta0.235 Ti0.235 V0.235', 1330.0): array([30]), ('10.1016/j.proeng.2012.03.043', 'Al0.111 Nb0.222 Ta0.222 Ti0.222 V0.222', 1014.0): array([98]), ('10.1016/j.proeng.2012.03.043', 'Al0.2 Nb0.2 Ta0.2 Ti0.2 V0.2', 993.0): array([197]), ('10.1016/j.proeng.2012.03.043', 'Nb0.25 Ta0.25 Ti0.25 V0.25', 1092.0): array([885]), ('10.1016/j.scriptamat.2016.10.028', 'Mo0.2 Nb0.2 Ta0.2 Ti0.2 Zr0.2', 1100.0): array([724]), ('10.1016/j.scriptamat.2016.10.028', 'Mo0.2 Nb0.2 Ta0.2 Ti0.2 Zr0.2', 1375.0): array([723]), ('10.1016/j.scriptamat.2019.07.033', 'Al0.143 Mo0.286 Ta0.286 Ti0.286', 969.0): array([121]), ('10.1016/j.scriptamat.2019.07.033', 'Al0.143 Mo0.286 Ta0.286 Ti0.286', 1085.0): array([122]), ('10.1016/j.scriptamat.2020.07.006', 'Hf0.05 Nb0.55 Ta0.25 Ti0.15', 512.0): array([358]), ('10.1016/j.scriptamat.2020.07.006', 'Hf0.05 Nb0.55 Ta0.25 Ti0.15', 531.0): array([357]), ('10.1016/j.scriptamat.2020.07.006', 'Hf0.05 Nb0.55 Ta0.25 Ti0.15', 802.0): array([356]), ('10.1016/j.scriptamat.2020.07.006', 'Hf0.25 Nb0.25 Ta0.25 V0.25', 1100.0): array([602]), ('10.1016/j.scriptamat.2020.09.027', 'Mo0.25 Nb0.25 Ta0.25 V0.25', 813.0): array([797]), ('10.1016/j.scriptamat.2020.09.027', 'Mo0.25 Nb0.25 Ta0.25 V0.25', 935.0): array([796]), ('10.1016/j.scriptamat.2020.09.027', 'Mo0.25 Nb0.25 Ta0.25 V0.25', 1257.0): array([795]), ('10.1016/j.scriptamat.2021.113919', 'Hf0.2 Nb0.2 Ta0.2 Ti0.2 Zr0.2', 689.0): array([561]), ('10.1016/j.scriptamat.2021.113919', 'Hf0.2 Nb0.2 Ta0.2 Ti0.2 Zr0.2', 698.0): array([562]), ('10.1016/j.scriptamat.2021.113919', 'Hf0.2 Nb0.2 Ta0.2 Ti0.2 Zr0.2', 717.5): array([557]), ('10.1016/j.scriptamat.2021.113919', 'Hf0.2 Nb0.2 Ta0.2 Ti0.2 Zr0.2', 722.4): array([558]), ('10.1016/j.scriptamat.2021.113919', 'Hf0.2 Nb0.2 Ta0.2 Ti0.2 Zr0.2', 734.3): array([554]), ('10.1016/j.scriptamat.2021.113919', 'Hf0.2 Nb0.2 Ta0.2 Ti0.2 Zr0.2', 734.8): array([560]), ('10.1016/j.scriptamat.2021.113919', 'Hf0.2 Nb0.2 Ta0.2 Ti0.2 Zr0.2', 759.0): array([556]), ('10.1016/j.scriptamat.2021.113919', 'Hf0.2 Nb0.2 Ta0.2 Ti0.2 Zr0.2', 805.7): array([559]), ('10.1016/j.scriptamat.2021.113919', 'Hf0.2 Nb0.2 Ta0.2 Ti0.2 Zr0.2', 817.4): array([552]), ('10.1016/j.scriptamat.2021.113919', 'Hf0.2 Nb0.2 Ta0.2 Ti0.2 Zr0.2', 819.1): array([553]), ('10.1016/j.scriptamat.2021.113919', 'Hf0.2 Nb0.2 Ta0.2 Ti0.2 Zr0.2', 854.0): array([555]), ('10.1016/j.scriptamat.2021.114225', 'Hf0.2 Nb0.1 Ti0.35 Zr0.35', 524.0): array([455]), ('10.1016/j.scriptamat.2021.114225', 'Hf0.2 Nb0.1 Ti0.35 Zr0.35', 844.0): array([459]), ('10.1016/j.scriptamat.2021.114225', 'Hf0.2 Nb0.1 Ti0.35 Zr0.35', 855.0): array([460]), ('10.1016/j.scriptamat.2021.114225', 'Hf0.2 Nb0.1 Ti0.35 Zr0.35', 877.0): array([458]), ('10.1016/j.scriptamat.2021.114225', 'Hf0.2 Nb0.1 Ti0.35 Zr0.35', 952.0): array([457]), ('10.1016/j.scriptamat.2021.114225', 'Hf0.2 Nb0.1 Ti0.35 Zr0.35', 1031.0): array([456]), ('10.1016/j.vacuum.2020.109614', 'Al0.2 Cr0.21 Mo0.27 Ti0.22 W0.1', 105.0): array([189]), ('10.1016/j.vacuum.2020.109614', 'Al0.2 Cr0.21 Mo0.27 Ti0.22 W0.1', 201.0): array([188]), ('10.1016/j.vacuum.2020.109614', 'Al0.2 Cr0.21 Mo0.27 Ti0.22 W0.1', 510.0): array([187]), ('10.1016/j.vacuum.2020.109614', 'Al0.2 Cr0.21 Mo0.27 Ti0.22 W0.1', 1245.0): array([186]), ('10.1038/s41563-020-0750-4', 'Hf0.24 Nb0.23 Ti0.38 V0.15', 774.0): array([588]), ('10.1038/s41563-020-0750-4', 'Hf0.25 Nb0.25 Ti0.25 V0.25', 1004.0): array([611]), ('10.1063/1.4966659', 'Hf0.125 Nb0.125 Ta0.125 Ti0.375 Zr0.25', 903.0): array([385]), ('10.1080/02670836.2018.1446267', 'Al0.25 Nb0.25 Ti0.25 Zr0.25', 1509.0): array([261]), ('10.1080/02670836.2018.1446267', 'Al0.25 Nb0.25 Ti0.25 Zr0.25', 1579.0): array([262]), ('10.1080/14786435.2015.1028506', 'Hf0.08 Nb0.307 Ta0.307 Ti0.178 Zr0.128', 590.0): array([363]), ('10.1080/14786435.2015.1028506', 'Hf0.08 Nb0.307 Ta0.307 Ti0.178 Zr0.128', 650.0): array([362]), ('10.1080/14786435.2015.1028506', 'Hf0.08 Nb0.307 Ta0.307 Ti0.178 Zr0.128', 765.0): array([361]), ('10.1080/14786435.2015.1028506', 'Hf0.08 Nb0.307 Ta0.307 Ti0.178 Zr0.128', 795.0): array([360]), ('10.1080/14786435.2015.1028506', 'Hf0.08 Nb0.307 Ta0.307 Ti0.178 Zr0.128', 845.0): array([359]), ('10.1080/21663831.2016.1221861', 'Hf0.275 Nb0.05 Ta0.05 Ti0.35 Zr0.275', 540.0): array([626]), ('10.1080/21663831.2019.1610105', 'Hf0.25 Nb0.25 Ta0.25 Ti0.25', 762.0): array([599]), ('10.1080/21663831.2019.1610105', 'Hf0.25 Nb0.25 Ta0.25 Zr0.25', 1046.0): array([608]), ('10.1080/21663831.2019.1610105', 'Hf0.25 Nb0.25 Ti0.25 Zr0.25', 783.0): array([618]), ('10.1080/21663831.2019.1610105', 'Hf0.333 Nb0.333 Ti0.333', 613.0): array([637]), ('10.1080/21663831.2019.1610105', 'Nb0.25 Ta0.25 Ti0.25 Zr0.25', 876.0): array([894]), ('10.1080/21663831.2019.1610105', 'Nb0.333 Ti0.333 Zr0.333', 749.0): array([952]), ('10.1080/21663831.2019.1610105', 'Nb0.5 Ti0.5', 354.0): array([956]), ('10.1088/1757-899X/1014/1/012041', 'Al0.15 Hf0.15 Nb0.2 Ta0.1 Ti0.4', 700.0): array([142]), ('10.1088/1757-899X/1014/1/012041', 'Al0.15 Hf0.15 Nb0.2 Ta0.1 Ti0.4', 1075.0): array([141]), ('10.1088/1757-899X/1014/1/012041', 'Al0.15 Hf0.15 Nb0.3 Ti0.4', 635.0): array([148]), ('10.1088/1757-899X/1014/1/012041', 'Al0.15 Hf0.15 Nb0.3 Ti0.4', 830.0): array([147]), ('10.1088/1757-899X/1014/1/012041', 'Al0.25 Hf0.25 Nb0.125 Ti0.375', 810.0): array([234]), ('10.1088/1757-899X/1014/1/012041', 'Al0.25 Hf0.25 Nb0.125 Ti0.375', 1645.0): array([233]), ('10.1179/1743284715Y.0000000032', 'Al0.25 Nb0.25 Ti0.25 Zr0.25', 1080.0): array([263]), ('10.2320/matertrans.MT-MK2019003', 'Hf0.25 Nb0.25 Ta0.25 Ti0.25', 775.0): array([601]), ('10.2320/matertrans.MT-MK2019003', 'Hf0.25 Nb0.25 Ta0.25 Ti0.25', 800.0): array([600]), ('10.2320/matertrans.MT-MK2019003', 'Hf0.25 Nb0.25 Ta0.25 Zr0.25', 860.0): array([610]), ('10.2320/matertrans.MT-MK2019003', 'Hf0.25 Nb0.25 Ta0.25 Zr0.25', 1025.0): array([609]), ('10.2320/matertrans.MT-MK2019003', 'Hf0.25 Nb0.25 Ti0.25 Zr0.25', 615.0): array([620]), ('10.2320/matertrans.MT-MK2019003', 'Hf0.25 Nb0.25 Ti0.25 Zr0.25', 635.0): array([619]), ('10.2320/matertrans.MT-MK2019003', 'Hf0.25 Ta0.25 Ti0.25 Zr0.25', 875.0): array([623]), ('10.2320/matertrans.MT-MK2019003', 'Hf0.25 Ta0.25 Ti0.25 Zr0.25', 1060.0): array([624]), ('10.2320/matertrans.MT-MK2019003', 'Nb0.25 Ta0.25 Ti0.25 Zr0.25', 920.0): array([896]), ('10.2320/matertrans.MT-MK2019003', 'Nb0.25 Ta0.25 Ti0.25 Zr0.25', 975.0): array([895]), ('10.3390/e16020870', 'Al0.059 Mo0.235 Nb0.235 Ti0.235 V0.235', 1250.0): array([29]), ('10.3390/e16020870', 'Al0.111 Mo0.222 Nb0.222 Ti0.222 V0.222', 1625.0): array([97]), ('10.3390/e16020870', 'Al0.158 Mo0.211 Nb0.211 Ti0.211 V0.211', 1260.0): array([149]), ('10.3390/e16020870', 'Al0.2 Mo0.2 Nb0.2 Ti0.2 V0.2', 1375.0): array([195]), ('10.3390/e16020870', 'Mo0.25 Nb0.25 Ti0.25 V0.25', 1200.0): array([817]), ('10.3390/e18050189', 'Mo0.25 Nb0.25 Ta0.25 V0.25', 1525.0): array([798]), ('10.3390/e21010015', 'Hf0.2 Mo0.2 Nb0.2 Ta0.2 Ti0.2', 367.0): array([434]), ('10.3390/e21010015', 'Hf0.2 Mo0.2 Nb0.2 Ta0.2 Ti0.2', 699.0): array([433]), ('10.3390/e21010015', 'Hf0.2 Mo0.2 Nb0.2 Ta0.2 Ti0.2', 778.0): array([432]), ('10.3390/e21010015', 'Hf0.2 Mo0.2 Nb0.2 Ta0.2 Ti0.2', 822.0): array([431]), ('10.3390/e21010015', 'Hf0.2 Mo0.2 Nb0.2 Ta0.2 Ti0.2', 1369.0): array([430]), ('10.3390/e21010015', 'Hf0.2 Mo0.2 Nb0.2 Ta0.2 Zr0.2', 278.0): array([440]), ('10.3390/e21010015', 'Hf0.2 Mo0.2 Nb0.2 Ta0.2 Zr0.2', 694.0): array([439]), ('10.3390/e21010015', 'Hf0.2 Mo0.2 Nb0.2 Ta0.2 Zr0.2', 927.0): array([438]), ('10.3390/e21010015', 'Hf0.2 Mo0.2 Nb0.2 Ta0.2 Zr0.2', 1005.0): array([437]), ('10.3390/e21010015', 'Hf0.2 Mo0.2 Nb0.2 Ta0.2 Zr0.2', 1524.0): array([436]), ('10.3390/e21010015', 'Hf0.2 Mo0.2 Nb0.2 Ti0.2 Zr0.2', 301.0): array([450]), ('10.3390/e21010015', 'Hf0.2 Mo0.2 Nb0.2 Ti0.2 Zr0.2', 721.0): array([449]), ('10.3390/e21010015', 'Hf0.2 Mo0.2 Nb0.2 Ti0.2 Zr0.2', 829.0): array([448]), ('10.3390/e21010015', 'Hf0.2 Mo0.2 Nb0.2 Ti0.2 Zr0.2', 1351.0): array([447]), ('10.3390/e21020114', 'Hf0.2 Nb0.2 Ta0.2 Ti0.2 Zr0.2', 1155.0): array([563]), ('10.3390/e21020114', 'Nb0.25 Ta0.25 Ti0.25 Zr0.25', 1144.0): array([897]), ('10.3390/e21020114', 'Nb0.333 Ta0.333 Ti0.333', 620.0): array([942]), ('10.3390/e21020114', 'Nb0.333 Ti0.333 Zr0.333', 956.0): array([953]), ('10.3390/e21020114', 'Nb0.375 Ta0.25 Ti0.25 Zr0.125', 822.0): array([954]), ('10.4028/www.scientific.net/MSF.849.76', 'Hf0.182 Nb0.182 Si0.091 Ti0.182 V0.182 Zr0.182', 102.0): array([428]), ('10.4028/www.scientific.net/MSF.849.76', 'Hf0.182 Nb0.182 Si0.091 Ti0.182 V0.182 Zr0.182', 371.0): array([427]), ('10.4028/www.scientific.net/MSF.849.76', 'Hf0.182 Nb0.182 Si0.091 Ti0.182 V0.182 Zr0.182', 597.0): array([426]), ('10.4028/www.scientific.net/MSF.849.76', 'Hf0.182 Nb0.182 Si0.091 Ti0.182 V0.182 Zr0.182', 920.0): array([425]), ('10.4028/www.scientific.net/MSF.849.76', 'Hf0.182 Nb0.182 Si0.091 Ti0.182 V0.182 Zr0.182', 1273.0): array([424]), ('10.4028/www.scientific.net/MSF.849.76', 'Hf0.182 Nb0.182 Si0.091 Ti0.182 V0.182 Zr0.182', 1483.0): array([423]), ('10.4028/www.scientific.net/MSF.849.76', 'Hf0.182 Nb0.182 Si0.091 Ti0.182 V0.182 Zr0.182', 1540.0): array([422]), ('10.4028/www.scientific.net/MSF.898.638', 'Al0.048 Mo0.238 Ta0.238 Ti0.238 V0.238', 1021.0): array([11]), ('10.4028/www.scientific.net/MSF.898.638', 'Al0.13 Mo0.217 Ta0.217 Ti0.217 V0.217', 962.0): array([120]), ('10.4028/www.scientific.net/MSF.898.638', 'Mo0.25 Ta0.25 Ti0.25 V0.25', 1221.0): array([824])}\n"
     ]
    }
   ]
  },
  {
   "cell_type": "code",
   "source": [
    "v_groups = {group:indices for group, indices in gb.indices.items() if len(indices) > 1}\n",
    "v_groups"
   ],
   "metadata": {
    "colab": {
     "base_uri": "https://localhost:8080/"
    },
    "id": "eP_HbFSPPlC8",
    "executionInfo": {
     "status": "ok",
     "timestamp": 1707858581819,
     "user_tz": 300,
     "elapsed": 114,
     "user": {
      "displayName": "Satanu Ghosh",
      "userId": "07683061709303200546"
     }
    },
    "outputId": "a67cbb1f-62e6-4352-b623-ea254941da6e",
    "ExecuteTime": {
     "end_time": "2024-05-17T19:08:20.830459800Z",
     "start_time": "2024-05-17T19:08:20.645446300Z"
    }
   },
   "execution_count": 127,
   "outputs": [
    {
     "data": {
      "text/plain": "{('10.1016/j.actamat.2019.06.006',\n  'Al0.25 Nb0.25 Ta0.25 Ti0.25',\n  740.0): array([249, 250]),\n ('10.1016/j.actamat.2019.06.006',\n  'Cr0.25 Mo0.25 Ta0.25 Ti0.25',\n  1162.0): array([330, 331]),\n ('10.1016/j.msea.2017.10.073',\n  'Hf0.15 Nb0.2 Ta0.1 Ti0.3 Zr0.25',\n  1020.0): array([402, 409]),\n ('10.1016/j.msea.2017.10.073',\n  'Hf0.15 Nb0.2 Ta0.1 Ti0.3 Zr0.25',\n  1370.0): array([396, 400])}"
     },
     "execution_count": 127,
     "metadata": {},
     "output_type": "execute_result"
    }
   ]
  },
  {
   "cell_type": "code",
   "source": [
    "pd.set_option(\"display.max_columns\", None)\n",
    "paper_df.iloc[[396, 400]]"
   ],
   "metadata": {
    "colab": {
     "base_uri": "https://localhost:8080/",
     "height": 340
    },
    "id": "FT96UdXzQS5E",
    "executionInfo": {
     "status": "ok",
     "timestamp": 1707858581819,
     "user_tz": 300,
     "elapsed": 93,
     "user": {
      "displayName": "Satanu Ghosh",
      "userId": "07683061709303200546"
     }
    },
    "outputId": "ea5d68d9-348a-45e1-ad72-b7b929c22905",
    "ExecuteTime": {
     "end_time": "2024-05-17T19:08:20.831459300Z",
     "start_time": "2024-05-17T19:08:20.669444Z"
    }
   },
   "execution_count": 128,
   "outputs": [
    {
     "data": {
      "text/plain": "     IDENTIFIER: Reference ID                          FORMULA PROPERTY: Microstructure PROPERTY: Processing method PROPERTY: BCC/FCC/other  PROPERTY: grain size ($\\mu$m)  PROPERTY: Exp. Density (g/cm$^3$)  PROPERTY: Computed Density (g/cm$^3$)  PROPERTY: HV PROPERTY: Type of test  \\\n396                        74  Hf0.15 Nb0.2 Ta0.1 Ti0.3 Zr0.25                      BCC                     WROUGHT                     BCC                            NaN                                NaN                                    8.4           NaN                      C   \n400                        74  Hf0.15 Nb0.2 Ta0.1 Ti0.3 Zr0.25                      BCC                     WROUGHT                     BCC                            NaN                                NaN                                    8.4           NaN                      C   \n\n     PROPERTY: Test temperature ($^\\circ$C)  PROPERTY: YS (MPa)  PROPERTY: UTS (MPa)  PROPERTY: Elongation (%)  PROPERTY: Elongation plastic (%)  PROPERTY: Exp. Young modulus (GPa)  PROPERTY: Computed Young modulus (GPa)  PROPERTY: O content (wppm)  PROPERTY: N content (wppm)  \\\n396                                  -153.0              1370.0                  NaN                       NaN                               NaN                                 NaN                                   103.0                         NaN                         NaN   \n400                                  -103.0              1370.0                  NaN                       NaN                               NaN                                 NaN                                   103.0                         NaN                         NaN   \n\n     PROPERTY: C content (wppm)              REFERENCE: doi  REFERENCE: year                                   REFERENCE: title  \n396                         NaN  10.1016/j.msea.2017.10.073           2018.0  Mechanical properties and thermally activated ...  \n400                         NaN  10.1016/j.msea.2017.10.073           2018.0  Mechanical properties and thermally activated ...  ",
      "text/html": "<div>\n<style scoped>\n    .dataframe tbody tr th:only-of-type {\n        vertical-align: middle;\n    }\n\n    .dataframe tbody tr th {\n        vertical-align: top;\n    }\n\n    .dataframe thead th {\n        text-align: right;\n    }\n</style>\n<table border=\"1\" class=\"dataframe\">\n  <thead>\n    <tr style=\"text-align: right;\">\n      <th></th>\n      <th>IDENTIFIER: Reference ID</th>\n      <th>FORMULA</th>\n      <th>PROPERTY: Microstructure</th>\n      <th>PROPERTY: Processing method</th>\n      <th>PROPERTY: BCC/FCC/other</th>\n      <th>PROPERTY: grain size ($\\mu$m)</th>\n      <th>PROPERTY: Exp. Density (g/cm$^3$)</th>\n      <th>PROPERTY: Computed Density (g/cm$^3$)</th>\n      <th>PROPERTY: HV</th>\n      <th>PROPERTY: Type of test</th>\n      <th>PROPERTY: Test temperature ($^\\circ$C)</th>\n      <th>PROPERTY: YS (MPa)</th>\n      <th>PROPERTY: UTS (MPa)</th>\n      <th>PROPERTY: Elongation (%)</th>\n      <th>PROPERTY: Elongation plastic (%)</th>\n      <th>PROPERTY: Exp. Young modulus (GPa)</th>\n      <th>PROPERTY: Computed Young modulus (GPa)</th>\n      <th>PROPERTY: O content (wppm)</th>\n      <th>PROPERTY: N content (wppm)</th>\n      <th>PROPERTY: C content (wppm)</th>\n      <th>REFERENCE: doi</th>\n      <th>REFERENCE: year</th>\n      <th>REFERENCE: title</th>\n    </tr>\n  </thead>\n  <tbody>\n    <tr>\n      <th>396</th>\n      <td>74</td>\n      <td>Hf0.15 Nb0.2 Ta0.1 Ti0.3 Zr0.25</td>\n      <td>BCC</td>\n      <td>WROUGHT</td>\n      <td>BCC</td>\n      <td>NaN</td>\n      <td>NaN</td>\n      <td>8.4</td>\n      <td>NaN</td>\n      <td>C</td>\n      <td>-153.0</td>\n      <td>1370.0</td>\n      <td>NaN</td>\n      <td>NaN</td>\n      <td>NaN</td>\n      <td>NaN</td>\n      <td>103.0</td>\n      <td>NaN</td>\n      <td>NaN</td>\n      <td>NaN</td>\n      <td>10.1016/j.msea.2017.10.073</td>\n      <td>2018.0</td>\n      <td>Mechanical properties and thermally activated ...</td>\n    </tr>\n    <tr>\n      <th>400</th>\n      <td>74</td>\n      <td>Hf0.15 Nb0.2 Ta0.1 Ti0.3 Zr0.25</td>\n      <td>BCC</td>\n      <td>WROUGHT</td>\n      <td>BCC</td>\n      <td>NaN</td>\n      <td>NaN</td>\n      <td>8.4</td>\n      <td>NaN</td>\n      <td>C</td>\n      <td>-103.0</td>\n      <td>1370.0</td>\n      <td>NaN</td>\n      <td>NaN</td>\n      <td>NaN</td>\n      <td>NaN</td>\n      <td>103.0</td>\n      <td>NaN</td>\n      <td>NaN</td>\n      <td>NaN</td>\n      <td>10.1016/j.msea.2017.10.073</td>\n      <td>2018.0</td>\n      <td>Mechanical properties and thermally activated ...</td>\n    </tr>\n  </tbody>\n</table>\n</div>"
     },
     "execution_count": 128,
     "metadata": {},
     "output_type": "execute_result"
    }
   ]
  },
  {
   "cell_type": "markdown",
   "source": [
    "# Read extraction jsons"
   ],
   "metadata": {
    "id": "HPSH4RKVmtVg"
   }
  },
  {
   "cell_type": "code",
   "source": [
    "os.listdir(extraction_dir)\n"
   ],
   "metadata": {
    "colab": {
     "base_uri": "https://localhost:8080/"
    },
    "id": "VTUMHqSlmwAF",
    "executionInfo": {
     "status": "ok",
     "timestamp": 1707858581819,
     "user_tz": 300,
     "elapsed": 92,
     "user": {
      "displayName": "Satanu Ghosh",
      "userId": "07683061709303200546"
     }
    },
    "outputId": "166f0ec3-3145-44c6-f7ff-ae9d71d9c413",
    "ExecuteTime": {
     "end_time": "2024-05-17T19:08:20.831459300Z",
     "start_time": "2024-05-17T19:08:20.670443900Z"
    }
   },
   "execution_count": 129,
   "outputs": [
    {
     "data": {
      "text/plain": "['10.1007.s40195-019-00935-x_extracted_info.json',\n '10.1016.j.jallcom.2018.10.230_extracted_info.json',\n '10.1016.j.jallcom.2018.11.111_extracted_info.json',\n '10.1007.s10853-012-6260-2_extracted_info.json',\n '10.1016.j.msea.2020.139774_extracted_info.json',\n '10.1016.j.matlet.2016.03.133_extracted_info.json',\n '10.1016.j.jmst.2020.05.038_extracted_info.json',\n '10.1016.j.ijrmhm.2021.105664_extracted_info.json',\n '10.1016.j.ijrmhm.2019.02.009_extracted_info.json',\n 'failed_DOIs.json',\n '10.1016.j.intermet.2017.01.007_extracted_info.json',\n '10.1038.s41563-020-0750-4_extracted_info.json',\n '10.1016.j.matlet.2020.127372_extracted_info.json',\n '10.1016.j.msea.2017.08.019_extracted_info.json',\n '10.1016.j.msec.2016.12.057_extracted_info.json',\n '10.1016.j.jallcom.2021.159190_extracted_info.json',\n '10.1016.j.matdes.2015.05.019_extracted_info.json',\n '10.1007.s11837-014-1066-0_extracted_info.json',\n '10.1016.j.matdes.2017.11.033_extracted_info.json',\n '10.1016.j.jallcom.2015.11.050_extracted_info.json',\n '10.1016.j.msea.2020.139275_extracted_info.json',\n '10.1179.1743284715Y.0000000032_extracted_info.json',\n '10.1016.j.matchar.2021.111287_extracted_info.json',\n '10.1016.j.matlet.2016.03.092_extracted_info.json',\n '10.1016.j.matchar.2015.11.018_extracted_info.json',\n '10.1016.j.actamat.2017.09.062_extracted_info.json',\n '10.1016.j.jallcom.2014.11.064_extracted_info.json',\n '10.1016.j.ijrmhm.2020.105322_extracted_info.json',\n '10.1016.j.msea.2017.12.021_extracted_info.json',\n '10.1063.1.4966659]_extracted_info.json',\n '10.1007.s12598-019-01310-6_extracted_info.json',\n '10.1016.j.jallcom.2019.06.138_extracted_info.json',\n '10.1016.j.actamat.2016.01.018_extracted_info.json',\n '10.1016.j.ijrmhm.2020.105195_extracted_info.json',\n '10.1016.j.jallcom.2020.157542_extracted_info.json',\n '10.1016.j.msea.2015.08.024_extracted_info.json',\n '10.1016.j.mtla.2020.100627_extracted_info.json',\n '10.1016.j.jallcom.2015.11.091_extracted_info.json',\n '10.1007.s11837-012-0366-5_extracted_info.json',\n '10.1016.j.msea.2017.10.073_extracted_info.json',\n '10.1016.j.matdes.2015.06.072_extracted_info.json',\n '10.1016.j.intermet.2021.107323_extracted_info.json',\n '10.1016.j.scriptamat.2021.114225_extracted_info.json',\n '10.1088.1757-899X.1014.1.012041_extracted_info.json',\n '10.4028.www.scientific.net.MSF.849.76_extracted_info.json',\n '10.1016.j.proeng.2012.03.043_extracted_info.json',\n '10.1016.j.intermet.2020.106928_extracted_info.json',\n '10.1002.adem.202100765_extracted_info.json',\n '10.1016.j.actamat.2018.08.053_extracted_info.json',\n '10.1080.21663831.2019.1610105_extracted_info.json',\n '10.1016.j.intermet.2019.01.004_extracted_info.json',\n '10.1016.j.msea.2012.12.018_extracted_info.json',\n '10.1016.j.jallcom.2016.10.014_extracted_info.json',\n '10.1007.s00339-019-2484-1_extracted_info.json',\n '10.1016.j.intermet.2019.04.003_extracted_info.json',\n '10.1016.j.jallcom.2015.07.209_extracted_info.json',\n '10.1016.j.scriptamat.2016.10.028_extracted_info.json',\n '10.1016.j.matlet.2021.129753_extracted_info.json',\n '10.1016.j.ijrmhm.2014.07.009_extracted_info.json',\n '10.1016.j.msea.2021.140983_extracted_info.json',\n '10.1016.j.matlet.2016.11.030_extracted_info.json',\n '10.1016.j.msea.2021.141908_extracted_info.json',\n '10.1016.j.jallcom.2020.154301_extracted_info.json',\n '10.1016.j.scriptamat.2020.09.027_extracted_info.json',\n '10.1007.s11837-020-04557-y_extracted_info.json',\n '10.1016.j.matchar.2018.07.015_extracted_info.json',\n '10.1016.j.matlet.2021.129428_extracted_info.json',\n '10.1016.j.jallcom.2015.08.224_extracted_info.json',\n '10.1016.j.jmst.2020.07.012_extracted_info.json',\n '10.1016.j.msea.2021.140798_extracted_info.json',\n '10.3390.e21010015_extracted_info.json',\n '10.1007.s11661-018-4646-8_extracted_info.json',\n '10.1016.j.jallcom.2019.05.322_extracted_info.json',\n '10.3390.met11030514_extracted_info.json',\n '10.1080.02670836.2018.1446267_extracted_info.json',\n '10.1080.14786435.2015.1028506_extracted_info.json',\n '10.1016.j.mtla.2021.101057_extracted_info.json',\n '10.1016.j.jallcom.2016.11.188_extracted_info.json',\n '10.1016.j.ijrmhm.2019.105132_extracted_info.json',\n '10.1002.adma.201701678_extracted_info.json',\n '10.1007.s11661-017-4386-1_extracted_info.json',\n '10.1016.j.ijrmhm.2020.105467_extracted_info.json',\n '10.3390.e16020870_extracted_info.json',\n '10.1016.j.msea.2016.07.102_extracted_info.json',\n '10.1016.j.jallcom.2021.161187_extracted_info.json',\n '10.1016.j.scriptamat.2019.07.033_extracted_info.json',\n '10.1080.21663831.2016.1221861_extracted_info.json',\n '10.1016.j.matlet.2016.08.060_extracted_info.json',\n '10.1016.j.msea.2017.12.004_extracted_info.json',\n '10.1007.s40195-019-00921-3_extracted_info.json',\n '10.1007.s11665-017-2799-z_extracted_info.json',\n '10.1016.j.matdes.2018.06.003_extracted_info.json',\n '10.1016.j.msea.2015.12.017_extracted_info.json',\n '10.1016.j.matlet.2014.05.134_extracted_info.json',\n '10.3390.e21020114_extracted_info.json',\n '10.1007.s11837-019-03432-9_extracted_info.json',\n '10.1002.adem.200300567_extracted_info.json',\n '10.1016.j.actamat.2019.06.032_extracted_info.json',\n '10.1016.j.jallcom.2020.155700_extracted_info.json',\n '10.1016.j.matlet.2014.11.162_extracted_info.json',\n '10.1016.j.actamat.2012.11.032_extracted_info.json',\n '10.1007.s42864-021-00111-8_extracted_info.json',\n '10.1016.j.jmst.2020.10.073_extracted_info.json',\n '10.1016.j.ijrmhm.2020.105370_extracted_info.json',\n '10.1016.j.msea.2021.141168_extracted_info.json',\n '10.2320.matertrans.MT-MK2019003]_extracted_info.json',\n '10.1016.j.msea.2003.12.011_extracted_info.json',\n '10.1038.s41467-019-10533-1_extracted_info.json',\n '10.1016.j.intermet.2015.03.013_extracted_info.json',\n '10.1016.j.matlet.2019.03.075_extracted_info.json',\n '10.1016.j.jallcom.2019.151685_extracted_info.json',\n '10.1016.j.scriptamat.2021.113919_extracted_info.json',\n '10.1016.j.matchemphys.2017.06.054_extracted_info.json',\n '10.1016.j.intermet.2011.01.004_extracted_info.json',\n '10.1016.j.scriptamat.2020.07.006_extracted_info.json',\n '10.1016.j.jallcom.2021.159740_extracted_info.json',\n '10.1016.j.msea.2021.140848_extracted_info.json',\n '10.1016.j.msea.2021.141234_extracted_info.json',\n '10.1016.j.vacuum.2020.109614_extracted_info.json',\n '10.4028.www.scientific.net.MSF.898.638_extracted_info.json',\n '10.3390.e18050189_extracted_info.json',\n '10.1016.j.matlet.2015.08.099_extracted_info.json',\n '10.1016.j.actamat.2017.09.035_extracted_info.json',\n '10.1016.j.intermet.2015.09.011_extracted_info.json',\n '10.1016.j.jallcom.2020.158003_extracted_info.json',\n '10.1016.j.actamat.2019.06.006_extracted_info.json',\n '10.1016.j.intermet.2015.10.011_extracted_info.json']"
     },
     "execution_count": 129,
     "metadata": {},
     "output_type": "execute_result"
    }
   ]
  },
  {
   "cell_type": "code",
   "source": [
    "import json\n",
    "extraction_dfs = []\n",
    "extraction_dois = set()\n",
    "for extraction_fn in os.listdir(extraction_dir):\n",
    "  if extraction_fn == 'failed_DOIs.json':\n",
    "    continue\n",
    "  print(extraction_fn)\n",
    "  extraction_path = os.path.join(extraction_dir, extraction_fn)\n",
    "  with open(extraction_path) as f:\n",
    "    obj = json.load(f)\n",
    "\n",
    "  doi = extraction_fn.replace('_extracted_info.json','').replace(']','')\n",
    "  extraction_dois.add(doi)\n",
    "  \n",
    "  try:\n",
    "    records = [obj['extracted_info'] if type(obj['extracted_info']) == dict else entry for entry in obj['extracted_info']]\n",
    "  except:\n",
    "    print(extraction_fn)\n",
    "    print(obj)\n",
    "    continue\n",
    "  \n",
    "  df = pd.DataFrame(records)\n",
    "  df['doi'] = doi\n",
    "  \n",
    "  print(df.head(1))\n",
    "  extraction_dfs.append(df)\n",
    "  \n",
    "  \n",
    "  \n",
    "  ''' commenting out everything below this line for time being\n",
    "  \n",
    "  # if 'extracted_info' in obj['extracted_info'].keys():\n",
    "  #   print('a list of dict with key')\n",
    "  # else:\n",
    "  #   print(obj['extracted_info'])\n",
    "\n",
    "  # Slightly redundant schema\n",
    "  pprint(obj['extracted_info'])\n",
    "  records = [entry['extracted_info'] if 'extracted_info' in obj['extracted_info'].keys() else entry for entry in obj['extracted_info']]\n",
    "  pprint(records)\n",
    "  df = pd.DataFrame(records)\n",
    "  df['doi'] = doi\n",
    "\n",
    "  display(df.shape)\n",
    "  display(df.head(1))\n",
    "  extraction_dfs.append(df)\n",
    "  print('\\n','*'*50,'\\n')\n",
    "  '''\n",
    "\n",
    "print('Extraction DFs:',len(extraction_dfs))"
   ],
   "metadata": {
    "colab": {
     "base_uri": "https://localhost:8080/",
     "height": 1000
    },
    "id": "Gj841APAm8HY",
    "executionInfo": {
     "status": "ok",
     "timestamp": 1707858592245,
     "user_tz": 300,
     "elapsed": 10514,
     "user": {
      "displayName": "Satanu Ghosh",
      "userId": "07683061709303200546"
     }
    },
    "outputId": "700cfa41-e8cd-42ff-bf62-4934e7d78a09",
    "ExecuteTime": {
     "end_time": "2024-05-17T19:08:21.734527500Z",
     "start_time": "2024-05-17T19:08:20.670443900Z"
    }
   },
   "execution_count": 130,
   "outputs": [
    {
     "name": "stdout",
     "output_type": "stream",
     "text": [
      "10.1007.s40195-019-00935-x_extracted_info.json\n",
      "  high entropy alloy formula  yield strength                         doi\n",
      "0                  MoNbFeCrV            2663  10.1007.s40195-019-00935-x\n",
      "10.1016.j.jallcom.2018.10.230_extracted_info.json\n",
      "  high entropy alloy formula      grain size experimental density  hardness  test temperature  yield strength ultimate tensile strength      elongation  elongation plastic                            doi\n",
      "0                    NbTaTiV  No information       No information     510.9              1000             437            No information  No information                  40  10.1016.j.jallcom.2018.10.230\n",
      "10.1016.j.jallcom.2018.11.111_extracted_info.json\n",
      "  high entropy alloy formula      grain size experimental density        hardness test temperature  yield strength  ultimate tensile strength  elongation elongation plastic                            doi\n",
      "0      MoNbRe 0.5 W(TaC) 0.5  No information       No information  No information   No information          1202.0                     2067.0       10.25     No information  10.1016.j.jallcom.2018.11.111\n",
      "10.1007.s10853-012-6260-2_extracted_info.json\n",
      "      high entropy alloy formula  grain size  experimental density        hardness  test temperature  yield strength ultimate tensile strength      elongation  elongation plastic                        doi\n",
      "0  Ta 20 Nb 20 Hf 20 Zr 20 Ti 20       100.0                  9.94  No information             296.0           929.0            No information  No information                50.0  10.1007.s10853-012-6260-2\n",
      "10.1016.j.msea.2020.139774_extracted_info.json\n",
      "  high entropy alloy formula      grain size  experimental density        hardness test temperature  yield strength  ultimate tensile strength  elongation elongation plastic                         doi\n",
      "0          V 0.5 Nb 0.5 ZrTi  No information                   6.1  No information   No information           787.0                      830.0        21.9     No information  10.1016.j.msea.2020.139774\n",
      "10.1016.j.matlet.2016.03.133_extracted_info.json\n",
      "  high entropy alloy formula  yield strength                           doi\n",
      "0              HfMo0NbTaTiZr            1015  10.1016.j.matlet.2016.03.133\n",
      "10.1016.j.jmst.2020.05.038_extracted_info.json\n",
      "  high entropy alloy formula      grain size experimental density hardness  test temperature yield strength ultimate tensile strength elongation elongation plastic                         doi\n",
      "0           TiNbTa0.5ZrAl0.5  No information       No information      780  Room temperature           1500            No information         22     No information  10.1016.j.jmst.2020.05.038\n",
      "10.1016.j.ijrmhm.2021.105664_extracted_info.json\n",
      "  high entropy alloy formula      grain size experimental density  hardness test temperature  yield strength ultimate tensile strength      elongation  elongation plastic                           doi\n",
      "0             (MoNbTa)6Ti2V2  No information       No information     600.0   No information          1480.0            No information  No information                10.9  10.1016.j.ijrmhm.2021.105664\n",
      "10.1016.j.ijrmhm.2019.02.009_extracted_info.json\n",
      "          high entropy alloy formula  grain size  experimental density  hardness test temperature  yield strength  ultimate tensile strength      elongation elongation plastic                           doi\n",
      "0  Nb 42 Mo 20 Ti 13 Cr 12 V 12 Ta 1         327                  8.02       741   No information            2680                       3896  No information     No information  10.1016.j.ijrmhm.2019.02.009\n",
      "10.1016.j.intermet.2017.01.007_extracted_info.json\n",
      "                                           TiNbMoTaW                                         TiVNbMoTaW                             doi\n",
      "0  {'type': 'string', 'grain size': 'No informati...  {'type': 'string', 'grain size': 'No informati...  10.1016.j.intermet.2017.01.007\n",
      "10.1038.s41563-020-0750-4_extracted_info.json\n",
      "  high entropy alloy formula      grain size experimental density        hardness test temperature  yield strength  ultimate tensile strength  elongation elongation plastic                        doi\n",
      "0     Ti 38 V 15 Nb 23 Hf 24  No information       No information  No information   No information           774.0                      792.0        20.6     No information  10.1038.s41563-020-0750-4\n",
      "10.1016.j.matlet.2020.127372_extracted_info.json\n",
      "           high entropy alloy formula      grain size experimental density        hardness  test temperature  yield strength ultimate tensile strength  elongation elongation plastic                           doi\n",
      "0  Al 20 Cr 10 Nb 15 Ti 20 V 25 Zr 10  No information       No information  No information                22            1535            No information         0.6     No information  10.1016.j.matlet.2020.127372\n",
      "10.1016.j.msea.2017.08.019_extracted_info.json\n",
      "  high entropy alloy formula  grain size  experimental density        hardness  test temperature  yield strength ultimate tensile strength  elongation elongation plastic                         doi\n",
      "0                    AlNbTiV       300.0                5590.0  No information              22.0          1000.0            No information         6.0     No information  10.1016.j.msea.2017.08.019\n",
      "10.1016.j.msec.2016.12.057_extracted_info.json\n",
      "                          high entropy alloy formula                         doi\n",
      "0  {'Ti 20 Zr 20 Nb 20 Ta 20 Mo 20': {'grain size...  10.1016.j.msec.2016.12.057\n",
      "10.1016.j.jallcom.2021.159190_extracted_info.json\n",
      "  high entropy alloy formula      grain size experimental density        hardness test temperature  yield strength ultimate tensile strength  elongation elongation plastic                            doi\n",
      "0         Ti25 Zr25 Nb25 V25  No information       No information  No information   No information           876.0            No information        20.7     No information  10.1016.j.jallcom.2021.159190\n",
      "10.1016.j.matdes.2015.05.019_extracted_info.json\n",
      "  high entropy alloy formula      grain size experimental density        hardness  test temperature  yield strength ultimate tensile strength      elongation elongation plastic                           doi\n",
      "0                 MoNbHfZrTi  No information       No information  No information               296            1719            No information  No information     No information  10.1016.j.matdes.2015.05.019\n",
      "10.1007.s11837-014-1066-0_extracted_info.json\n",
      "  high entropy alloy formula  grain size  experimental density  hardness  test temperature  yield strength  ultimate tensile strength  elongation elongation plastic                        doi\n",
      "0     AlMo 0.5 NbTa 0.5 TiZr        75.0                   7.4       5.8              25.0          2000.0                     2368.0        10.0     No information  10.1007.s11837-014-1066-0\n",
      "10.1016.j.matdes.2017.11.033_extracted_info.json\n",
      "  high entropy alloy formula      grain size  experimental density  hardness  test temperature  yield strength  ultimate tensile strength  elongation elongation plastic                           doi\n",
      "0     AlMo 0.5 NbTa 0.5 TiZr  No information                   7.4       5.8                25            2197                       2370         4.1     No information  10.1016.j.matdes.2017.11.033\n",
      "10.1016.j.jallcom.2015.11.050_extracted_info.json\n",
      "                                      Nb-Mo-Cr-Ti-Al                            doi\n",
      "0  {'type': 'high entropy alloy', 'grain size': '...  10.1016.j.jallcom.2015.11.050\n",
      "10.1016.j.msea.2020.139275_extracted_info.json\n",
      "  high entropy alloy formula      grain size  experimental density  hardness  test temperature  yield strength  ultimate tensile strength  elongation elongation plastic                         doi\n",
      "0               Al0MoNbTaTiV  No information                  9.33     421.7              25.0          1227.9                     2066.0        30.0     No information  10.1016.j.msea.2020.139275\n",
      "10.1179.1743284715Y.0000000032_extracted_info.json\n",
      "  high entropy alloy formula      grain size  experimental density  hardness test temperature  yield strength  ultimate tensile strength  elongation elongation plastic                             doi\n",
      "0                    NbTiVZr  No information                  6.49       380   No information            1320                       1470         4.2     No information  10.1179.1743284715Y.0000000032\n",
      "10.1016.j.matchar.2021.111287_extracted_info.json\n",
      "  high entropy alloy formula      grain size  experimental density        hardness  test temperature  yield strength ultimate tensile strength      elongation elongation plastic                            doi\n",
      "0     Ti2ZrHf0.5V0.5Nb0.5Al0  No information                  6.68  No information            293.15             915            No information  No information     No information  10.1016.j.matchar.2021.111287\n",
      "10.1016.j.matlet.2016.03.092_extracted_info.json\n",
      "  high entropy alloy formula      grain size  experimental density  hardness test temperature  yield strength ultimate tensile strength  elongation elongation plastic                           doi\n",
      "0               HfNbTiVSi0.5  No information                   8.6       490   No information            1399            No information        10.9     No information  10.1016.j.matlet.2016.03.092\n",
      "10.1016.j.matchar.2015.11.018_extracted_info.json\n",
      "      high entropy alloy formula                                     yield strength                            doi\n",
      "0  Ti 20 Hf 20 Zr 20 Ta 20 Nb 20  {'low strain rate (~10^-3 s^-1)': 'No informat...  10.1016.j.matchar.2015.11.018\n",
      "10.1016.j.actamat.2017.09.062_extracted_info.json\n",
      "  high entropy alloy formula  grain size experimental density        hardness test temperature  yield strength ultimate tensile strength      elongation elongation plastic                            doi\n",
      "0                   TiZrNbHf        31.0       No information  No information   No information           880.0            No information  No information     No information  10.1016.j.actamat.2017.09.062\n",
      "10.1016.j.jallcom.2014.11.064_extracted_info.json\n",
      "  high entropy alloy formula      grain size  experimental density  hardness test temperature  yield strength ultimate tensile strength elongation elongation plastic                            doi\n",
      "0                 HfNbTaTiZr  No information                  9.72       295   No information            1073            No information        >50     No information  10.1016.j.jallcom.2014.11.064\n",
      "10.1016.j.ijrmhm.2020.105322_extracted_info.json\n",
      "  high entropy alloy formula  grain size  experimental density        hardness  test temperature  yield strength  ultimate tensile strength  elongation elongation plastic                           doi\n",
      "0    Ti 40 Nb 30 Hf 15 Al 15         400                  7.07  No information                22            1250                       1630          16     No information  10.1016.j.ijrmhm.2020.105322\n",
      "10.1016.j.msea.2017.12.021_extracted_info.json\n",
      "  high entropy alloy formula      grain size experimental density        hardness  test temperature  yield strength ultimate tensile strength      elongation  elongation plastic                         doi\n",
      "0                   WNbMoTaV  No information       No information  No information  Room temperature            2612            No information  No information                 8.8  10.1016.j.msea.2017.12.021\n",
      "10.1063.1.4966659]_extracted_info.json\n",
      "       high entropy alloy formula      grain size  experimental density  hardness test temperature  yield strength  ultimate tensile strength  elongation elongation plastic                doi\n",
      "0  Hf 0.5 Nb 0.5 Ta 0.5 Ti 1.5 Zr  No information                  8.13     301.0   No information           903.0                      990.0        18.8     No information  10.1063.1.4966659\n",
      "10.1007.s12598-019-01310-6_extracted_info.json\n",
      "  high entropy alloy formula  grain size experimental density hardness  test temperature  yield strength ultimate tensile strength      elongation elongation plastic                         doi\n",
      "0                     NbZrTi         300       No information   HV 372  Room temperature  No information            No information  No information     No information  10.1007.s12598-019-01310-6\n",
      "10.1016.j.jallcom.2019.06.138_extracted_info.json\n",
      "           HfNbTaTiZr         grain size experimental density           hardness   test temperature     yield strength ultimate tensile strength         elongation elongation plastic                            doi\n",
      "0  {'type': 'string'}  {'type': 'float'}    {'type': 'float'}  {'type': 'float'}  {'type': 'float'}  {'type': 'float'}         {'type': 'float'}  {'type': 'float'}  {'type': 'float'}  10.1016.j.jallcom.2019.06.138\n",
      "10.1016.j.actamat.2016.01.018_extracted_info.json\n",
      "  high entropy alloy formula      grain size experimental density  hardness test temperature  yield strength ultimate tensile strength      elongation  elongation plastic                            doi\n",
      "0                   TaNbHfZr  No information       No information      3575   No information            1315            No information  No information                21.6  10.1016.j.actamat.2016.01.018\n",
      "10.1016.j.ijrmhm.2020.105195_extracted_info.json\n",
      "                                          NbMoTa MEA                      NbMoTa MEA (High Temperature)                           doi\n",
      "0  {'type': 'string', 'grain size': 112.52, 'expe...  {'type': 'string', 'grain size': 112.52, 'expe...  10.1016.j.ijrmhm.2020.105195\n",
      "10.1016.j.jallcom.2020.157542_extracted_info.json\n",
      "  high entropy alloy formula      grain size  experimental density        hardness test temperature  yield strength ultimate tensile strength  elongation elongation plastic                            doi\n",
      "0                    NbMoTaW  No information                 13.63  No information   No information  No information            No information         2.6     No information  10.1016.j.jallcom.2020.157542\n",
      "10.1016.j.msea.2015.08.024_extracted_info.json\n",
      "                  high entropy alloy formula                                    grain size                          experimental density                                      hardness                              test temperature                      yield strength  \\\n",
      "0  {'type': 'string', 'value': 'TiZrHfNbTa'}  {'type': 'float', 'value': 'No information'}  {'type': 'float', 'value': 'No information'}  {'type': 'float', 'value': 'No information'}  {'type': 'float', 'value': 'No information'}  {'type': 'float', 'value': '1300'}   \n",
      "\n",
      "                      ultimate tensile strength                                    elongation                            elongation plastic                         doi  \n",
      "0  {'type': 'float', 'value': 'No information'}  {'type': 'float', 'value': 'No information'}  {'type': 'float', 'value': 'No information'}  10.1016.j.msea.2015.08.024  \n",
      "10.1016.j.mtla.2020.100627_extracted_info.json\n",
      "     high entropy alloy formula      grain size  experimental density        hardness  test temperature  yield strength ultimate tensile strength      elongation elongation plastic                         doi\n",
      "0  Al 10 Nb 15 Ta 5 Ti 30 Zr 40  No information                  6.45  No information              23.0          1050.0            No information  No information     No information  10.1016.j.mtla.2020.100627\n",
      "10.1016.j.jallcom.2015.11.091_extracted_info.json\n",
      "  high entropy alloy formula  yield strength                            doi\n",
      "0           Mo0.5NbHf0.5ZrTi            1719  10.1016.j.jallcom.2015.11.091\n",
      "10.1007.s11837-012-0366-5_extracted_info.json\n",
      "  high entropy alloy formula  yield strength                        doi\n",
      "0                 TiZrNbMoV1  No information  10.1007.s11837-012-0366-5\n",
      "10.1016.j.msea.2017.10.073_extracted_info.json\n",
      "      high entropy alloy formula      grain size experimental density        hardness test temperature  yield strength ultimate tensile strength      elongation elongation plastic                         doi\n",
      "0  Ti 30 Zr 25 Hf 15 Nb 20 Ta 10  No information       No information  No information   No information  No information            No information  No information     No information  10.1016.j.msea.2017.10.073\n",
      "10.1016.j.matdes.2015.06.072_extracted_info.json\n",
      "  high entropy alloy formula      grain size experimental density        hardness test temperature  yield strength ultimate tensile strength      elongation elongation plastic                           doi\n",
      "0            TiZrNbMo0.3V0.3  No information       No information  No information   No information          1312.0            No information  No information                >50  10.1016.j.matdes.2015.06.072\n",
      "10.1016.j.intermet.2021.107323_extracted_info.json\n",
      "                                                CrNb                                             CrNbTi                                           CrNbTaTi                             doi\n",
      "0  {'type': 'string', 'grain size': 'No informati...  {'type': 'string', 'grain size': 'No informati...  {'type': 'string', 'grain size': 'No informati...  10.1016.j.intermet.2021.107323\n",
      "10.1016.j.scriptamat.2021.114225_extracted_info.json\n",
      "  high entropy alloy formula      grain size experimental density hardness test temperature yield strength ultimate tensile strength elongation elongation plastic                               doi\n",
      "0           Hf20Nb10Ti35Zr35  No information       No information      252   No information            524                       704       17.5     No information  10.1016.j.scriptamat.2021.114225\n",
      "10.1088.1757-899X.1014.1.012041_extracted_info.json\n",
      "  high entropy alloy formula  grain size  experimental density        hardness  test temperature  yield strength ultimate tensile strength      elongation  elongation plastic                              doi\n",
      "0       Ti37.5Nb12.5Hf25Al25       300.0                  7.23  No information              22.0          1645.0            No information  No information                 1.0  10.1088.1757-899X.1014.1.012041\n",
      "10.4028.www.scientific.net.MSF.849.76_extracted_info.json\n",
      "  high entropy alloy formula  experimental density  hardness  test temperature  yield strength ultimate tensile strength  elongation elongation plastic                                    doi\n",
      "0             HfNbSi0.5TiVZr                  7.75       464               293            1540            No information        16.8     No information  10.4028.www.scientific.net.MSF.849.76\n",
      "10.1016.j.proeng.2012.03.043_extracted_info.json\n",
      "  high entropy alloy formula      grain size experimental density        hardness test temperature  yield strength ultimate tensile strength      elongation elongation plastic                           doi\n",
      "0                    NbTiVTa  No information       No information  No information   No information            1092            No information  No information     No information  10.1016.j.proeng.2012.03.043\n",
      "10.1016.j.intermet.2020.106928_extracted_info.json\n",
      "  high entropy alloy formula  yield strength                             doi\n",
      "0                    NbMoTaW            1058  10.1016.j.intermet.2020.106928\n",
      "10.1002.adem.202100765_extracted_info.json\n",
      "  high entropy alloy formula      grain size experimental density        hardness  test temperature  yield strength ultimate tensile strength      elongation elongation plastic                     doi\n",
      "0                    NbMoTaW  No information       No information  No information              1600             400            No information  No information     No information  10.1002.adem.202100765\n",
      "10.1016.j.actamat.2018.08.053_extracted_info.json\n",
      "                                             NbTaTiV                            doi\n",
      "0  {'yield strength': {'room temperature': 1273, ...  10.1016.j.actamat.2018.08.053\n",
      "10.1080.21663831.2019.1610105_extracted_info.json\n",
      "  high entropy alloy formula  grain size experimental density        hardness test temperature  yield strength ultimate tensile strength      elongation elongation plastic                            doi\n",
      "0                   NbTiZrHf         100       No information  No information   No information  No information            No information  No information     No information  10.1080.21663831.2019.1610105\n",
      "10.1016.j.intermet.2019.01.004_extracted_info.json\n",
      "                                              HfNbTa                                             TiNbTa                                               NbTa                                           TiHfNbTa               TiZrHfNbTa                             doi\n",
      "0  {'yield strength': 847, 'ultimate tensile stre...  {'yield strength': 478, 'ultimate tensile stre...  {'yield strength': 246, 'ultimate tensile stre...  {'yield strength': 663, 'ultimate tensile stre...  {'yield strength': 820}  10.1016.j.intermet.2019.01.004\n",
      "10.1016.j.msea.2012.12.018_extracted_info.json\n",
      "  high entropy alloy formula      grain size  experimental density        hardness  test temperature  yield strength ultimate tensile strength      elongation  elongation plastic                         doi\n",
      "0                    NbTiVZr  No information                  6.52  No information               298            1105            No information  No information                  50  10.1016.j.msea.2012.12.018\n",
      "10.1016.j.jallcom.2016.10.014_extracted_info.json\n",
      "  high entropy alloy formula  experimental density  yield strength  test temperature  elongation                            doi\n",
      "0  HfMo 0.5 NbTiV 0.5 Si 0.0                  9.02            1260                20          35  10.1016.j.jallcom.2016.10.014\n",
      "10.1007.s00339-019-2484-1_extracted_info.json\n",
      "  high entropy alloy formula      grain size experimental density  hardness test temperature  yield strength ultimate tensile strength  elongation elongation plastic                        doi\n",
      "0                     TiZrHf  No information       No information     211.0   No information           773.0            No information        17.0     No information  10.1007.s00339-019-2484-1\n",
      "10.1016.j.intermet.2019.04.003_extracted_info.json\n",
      "                                            NbHfZrTi                             doi\n",
      "0  {'high entropy alloy formula': 'NbHfZrTi', 'gr...  10.1016.j.intermet.2019.04.003\n",
      "10.1016.j.jallcom.2015.07.209_extracted_info.json\n",
      "                                          HfNbTaTiZr                      HfNbTaTiZr annealed at 1000°C                            doi\n",
      "0  {'high entropy alloy formula': 'HfNbTaTiZr', '...  {'high entropy alloy formula': 'HfNbTaTiZr', '...  10.1016.j.jallcom.2015.07.209\n",
      "10.1016.j.scriptamat.2016.10.028_extracted_info.json\n",
      "  high entropy alloy formula yield strength                               doi\n",
      "0                 TiNbTaZrMo           1000  10.1016.j.scriptamat.2016.10.028\n",
      "10.1016.j.matlet.2021.129753_extracted_info.json\n",
      "  high entropy alloy formula  test temperature  yield strength                           doi\n",
      "0            W0.4MoNb1.1TaTi               293            1412  10.1016.j.matlet.2021.129753\n",
      "10.1016.j.ijrmhm.2014.07.009_extracted_info.json\n",
      "     high entropy alloy formula      grain size experimental density        hardness test temperature  yield strength ultimate tensile strength      elongation  elongation plastic                           doi\n",
      "0  Ti 20 Zr 20 Hf 20 Nb 20 V 20  No information       No information  No information   No information            1170            No information  No information                  30  10.1016.j.ijrmhm.2014.07.009\n",
      "10.1016.j.msea.2021.140983_extracted_info.json\n",
      "       grain size experimental density  yield strength ultimate tensile strength                         doi\n",
      "0  No information       No information  No information            No information  10.1016.j.msea.2021.140983\n",
      "10.1016.j.matlet.2016.11.030_extracted_info.json\n",
      "  high entropy alloy formula      grain size  experimental density        hardness  test temperature  yield strength ultimate tensile strength  elongation elongation plastic                           doi\n",
      "0      Al 0.5 CrNbTi 2 V 0.5  No information                  5.76  No information                22            1340            No information        18.5     No information  10.1016.j.matlet.2016.11.030\n",
      "10.1016.j.msea.2021.141908_extracted_info.json\n",
      "  high entropy alloy formula      grain size experimental density        hardness test temperature  yield strength ultimate tensile strength      elongation elongation plastic                         doi\n",
      "0                      VCoNi  No information       No information  No information   No information  No information            No information  No information     No information  10.1016.j.msea.2021.141908\n",
      "10.1016.j.jallcom.2020.154301_extracted_info.json\n",
      "                         high entropy alloy formulas                            doi\n",
      "0  [{'high entropy alloy formula': 'Re0NbMoTaW', ...  10.1016.j.jallcom.2020.154301\n",
      "10.1016.j.scriptamat.2020.09.027_extracted_info.json\n",
      "  high entropy alloy formula      grain size experimental density        hardness  test temperature  yield strength ultimate tensile strength elongation elongation plastic                               doi\n",
      "0                    VNbMoTa  No information       No information  No information            1000.0           811.0            No information       > 25     No information  10.1016.j.scriptamat.2020.09.027\n",
      "10.1007.s11837-020-04557-y_extracted_info.json\n",
      "  high entropy alloy formula      grain size experimental density        hardness test temperature yield strength ultimate tensile strength elongation elongation plastic                         doi\n",
      "0                 CrHfNbTaTi  No information       No information  No information              296           1258                      2061       24.3     No information  10.1007.s11837-020-04557-y\n",
      "10.1016.j.matchar.2018.07.015_extracted_info.json\n",
      "                                            WNbMoTaV                                           AlCrMoTi                                         AlCrMoNbTi                                         HfNbTaTiZr                                         HfMoTaTiZr  \\\n",
      "0  {'grain size': 'No information', 'experimental...  {'grain size': 'No information', 'experimental...  {'grain size': 'No information', 'experimental...  {'grain size': 'No information', 'experimental...  {'grain size': 'No information', 'experimental...   \n",
      "\n",
      "                                          HfMoNbTiZr                                       HfMoNbTaTiZr                         Al0.3NbTa0.8Ti1.4V0.2Zr1.3                                            MoNbTaW                                           MoNbTaVW                            doi  \n",
      "0  {'grain size': 'No information', 'experimental...  {'grain size': 'No information', 'experimental...  {'grain size': 'No information', 'experimental...  {'grain size': 'No information', 'experimental...  {'grain size': 'No information', 'experimental...  10.1016.j.matchar.2018.07.015  \n",
      "10.1016.j.matlet.2021.129428_extracted_info.json\n",
      "  high entropy alloy formula      grain size experimental density        hardness test temperature  yield strength ultimate tensile strength  elongation elongation plastic                           doi\n",
      "0          Ti 1.5 ZrNbAl 0.3  No information       No information  No information   No information             876            No information        23.0     No information  10.1016.j.matlet.2021.129428\n",
      "10.1016.j.jallcom.2015.08.224_extracted_info.json\n",
      "  high entropy alloy formula  grain size  experimental density        hardness  test temperature  yield strength ultimate tensile strength  elongation elongation plastic                            doi\n",
      "0                    AlNbTiV       300.0                5590.0  No information              22.0          1000.0            No information         5.2     No information  10.1016.j.jallcom.2015.08.224\n",
      "10.1016.j.jmst.2020.07.012_extracted_info.json\n",
      "  high entropy alloy formula  grain size  experimental density        hardness  test temperature  yield strength ultimate tensile strength      elongation elongation plastic                         doi\n",
      "0                    CrNbVMo        2.07                  8.03  No information                25            2743            No information  No information     No information  10.1016.j.jmst.2020.07.012\n",
      "10.1016.j.msea.2021.140798_extracted_info.json\n",
      "  high entropy alloy formula  yield strength                         doi\n",
      "0          HfNb0.25Ta0.2TiZr           748.0  10.1016.j.msea.2021.140798\n",
      "10.3390.e21010015_extracted_info.json\n",
      "                                        HfMoNbTaTiZr                                         HfMoTaTiZr                                         HfMoNbTiZr                                         HfMoNbTaZr                                         HfMoNbTaTi                doi\n",
      "0  {'yield strength': {'room temperature': 1512, ...  {'yield strength': {'room temperature': 1600, ...  {'yield strength': {'room temperature': 1351, ...  {'yield strength': {'room temperature': 1524, ...  {'yield strength': {'room temperature': 1369, ...  10.3390.e21010015\n",
      "10.1007.s11661-018-4646-8_extracted_info.json\n",
      "                                          HfNbTaTiZr  HfNbTaTiZr annealed at 800 °C for up to 256 hours                     HfNbTaTiZr annealed at 1100 °C                        doi\n",
      "0  {'grain size': '0.18', 'experimental density':...  {'grain size': '0.72', 'experimental density':...  {'grain size': 'No information', 'experimental...  10.1007.s11661-018-4646-8\n",
      "10.1016.j.jallcom.2019.05.322_extracted_info.json\n",
      "  high entropy alloy formula      grain size  experimental density        hardness test temperature  yield strength ultimate tensile strength      elongation elongation plastic                            doi\n",
      "0                 HfNbTaTiZr  No information                   9.9  No information   No information  No information            No information  No information     No information  10.1016.j.jallcom.2019.05.322\n",
      "10.3390.met11030514_extracted_info.json\n",
      "                                      TiNbTa0.5ZrAl0                                   TiNbTa0.5ZrAl0.2                                   TiNbTa0.5ZrAl0.5                                   TiNbTa0.5ZrAl1.0                  doi\n",
      "0  {'type': 'single BCC structure', 'experimental...  {'type': 'single BCC structure', 'experimental...  {'type': 'single BCC structure, BCC2 at 800°C,...  {'type': 'BCC + HCP dual-phase structure', 'ex...  10.3390.met11030514\n",
      "10.1080.02670836.2018.1446267_extracted_info.json\n",
      "  high entropy alloy formula      grain size  experimental density  hardness test temperature  yield strength  ultimate tensile strength  elongation elongation plastic                            doi\n",
      "0                   AlNbTiZr  No information                  5.85       422   No information            1509                       1554         8.6     No information  10.1080.02670836.2018.1446267\n",
      "10.1080.14786435.2015.1028506_extracted_info.json\n",
      "  high entropy alloy formula      grain size experimental density        hardness  test temperature  yield strength ultimate tensile strength      elongation elongation plastic                            doi\n",
      "0             Zr-Nb-Ti-Ta-Hf  No information       No information  No information               300             590            No information  No information     No information  10.1080.14786435.2015.1028506\n",
      "10.1016.j.mtla.2021.101057_extracted_info.json\n",
      "  high entropy alloy formula      grain size experimental density        hardness  test temperature yield strength ultimate tensile strength      elongation     elongation plastic                         doi\n",
      "0         MoNbRe0.5TaW(TiC)x  No information       No information  No information  Room temperature           1496            No information  No information  Reasonable plasticity  10.1016.j.mtla.2021.101057\n",
      "10.1016.j.jallcom.2016.11.188_extracted_info.json\n",
      "  high entropy alloy formula      grain size  experimental density  hardness  test temperature  yield strength ultimate tensile strength  elongation elongation_plastic                            doi\n",
      "0                  MoNbTaTiV  No information                  9.29     443.0              25.0          1400.0            No information        30.0     No information  10.1016.j.jallcom.2016.11.188\n",
      "10.1016.j.ijrmhm.2019.105132_extracted_info.json\n",
      "  high entropy alloy formula      grain size  experimental density  hardness  test temperature  yield strength ultimate tensile strength      elongation  elongation plastic                           doi\n",
      "0        TiNbTa 0.5 ZrAl 0.5  No information                   6.7     763.0  room temperature          1740.0            No information  No information                12.0  10.1016.j.ijrmhm.2019.105132\n",
      "10.1002.adma.201701678_extracted_info.json\n",
      "  high entropy alloy formula  yield strength                     doi\n",
      "0                  Ta1HfZrTi            1500  10.1002.adma.201701678\n",
      "10.1007.s11661-017-4386-1_extracted_info.json\n",
      "                                          NbMoCrTiAl                                           NbMoTiAl                                           MoCrTiAl                        doi\n",
      "0  {'high entropy alloy formula': 'NbMoCr-TiAl', ...  {'high entropy alloy formula': 'NbMoTiAl', 'gr...  {'high entropy alloy formula': 'MoCrTiAl', 'gr...  10.1007.s11661-017-4386-1\n",
      "10.1016.j.ijrmhm.2020.105467_extracted_info.json\n",
      "                                             Hf-27Ta                                       Hf-21Mo-21Ta                                       Hf-21Nb-21Ta                                        Hf-21Ta-21W                           doi\n",
      "0  {'type': 'high entropy alloy formula', 'grain ...  {'type': 'high entropy alloy formula', 'grain ...  {'type': 'high entropy alloy formula', 'grain ...  {'type': 'high entropy alloy formula', 'grain ...  10.1016.j.ijrmhm.2020.105467\n",
      "10.3390.e16020870_extracted_info.json\n",
      "  high entropy alloy formula  yield strength                doi\n",
      "0             Al 0.5 NbTiMoV            1625  10.3390.e16020870\n",
      "10.1016.j.msea.2016.07.102_extracted_info.json\n",
      "  high entropy alloy formula      grain size experimental density        hardness  test temperature  yield strength ultimate tensile strength      elongation  elongation plastic                         doi\n",
      "0                     NbTaVW  No information       No information  No information               298            1420            No information  No information                  20  10.1016.j.msea.2016.07.102\n",
      "10.1016.j.jallcom.2021.161187_extracted_info.json\n",
      "  high entropy alloy formula  yield strength                            doi\n",
      "0             TiZrHfV1Nb1Ta1  No information  10.1016.j.jallcom.2021.161187\n",
      "10.1016.j.scriptamat.2019.07.033_extracted_info.json\n",
      "  high entropy alloy formula      grain size  experimental density  hardness  test temperature  yield strength  ultimate tensile strength  elongation elongation plastic                               doi\n",
      "0              Al 0.5 MoTaTi  No information                   9.1      6.67              1273             969                        973           1     No information  10.1016.j.scriptamat.2019.07.033\n",
      "10.1080.21663831.2016.1221861_extracted_info.json\n",
      "        high entropy alloy formula  grain size experimental density        hardness test temperature  yield strength  ultimate tensile strength  elongation elongation plastic                            doi\n",
      "0  Ti 35 Zr 27.5 Hf 27.5 Nb 5 Ta 5        40.0       No information  No information   No information           540.0                      995.0        23.0     No information  10.1080.21663831.2016.1221861\n",
      "10.1016.j.matlet.2016.08.060_extracted_info.json\n",
      "  high entropy alloy formula  grain size experimental density        hardness test temperature  yield strength ultimate tensile strength  elongation  elongation plastic                           doi\n",
      "0                 HfNbTaTiZr        38.0       No information  No information   No information           958.0            No information        20.0                1.23  10.1016.j.matlet.2016.08.060\n",
      "10.1016.j.msea.2017.12.004_extracted_info.json\n",
      "  high entropy alloy formula      grain size experimental density        hardness test temperature  yield strength ultimate tensile strength      elongation  elongation plastic                         doi\n",
      "0                    NbMoTaW  No information       No information  No information   No information             996            No information  No information                 1.9  10.1016.j.msea.2017.12.004\n",
      "10.1007.s40195-019-00921-3_extracted_info.json\n",
      "  high entropy alloy formula      grain size  experimental density  hardness  test temperature  yield strength ultimate tensile strength elongation elongation plastic                         doi\n",
      "0             Ti2ZrHf0.5VNb0  No information                  6.47       338               298            1160            No information        >50     No information  10.1007.s40195-019-00921-3\n",
      "10.1007.s11665-017-2799-z_extracted_info.json\n",
      "  high entropy alloy formula grain size experimental density hardness test temperature  yield strength ultimate tensile strength elongation elongation plastic                        doi\n",
      "0                CoCrMoNbTi0        5.5       No information   959.62   No information  No information                    1419.6       5.77     No information  10.1007.s11665-017-2799-z\n",
      "10.1016.j.matdes.2018.06.003_extracted_info.json\n",
      "                                            HfNbTaTi                                           MoNbTaTi                                            WNbTaTi                                           CrMoNbTi                           doi\n",
      "0  {'grain size': 'No information', 'experimental...  {'grain size': 'No information', 'experimental...  {'grain size': 'No information', 'experimental...  {'grain size': 'No information', 'experimental...  10.1016.j.matdes.2018.06.003\n",
      "10.1016.j.msea.2015.12.017_extracted_info.json\n",
      "  high entropy alloy formula      grain size experimental density        hardness test temperature  yield strength ultimate tensile strength      elongation  elongation plastic                         doi\n",
      "0                 TiHfZrTaNb  No information       No information  No information   No information             879            No information  No information                  15  10.1016.j.msea.2015.12.017\n",
      "10.1016.j.matlet.2014.05.134_extracted_info.json\n",
      "  high entropy alloy formula  grain size experimental density        hardness test temperature  yield strength  ultimate tensile strength  elongation  elongation plastic                           doi\n",
      "0    Hf 25 Nb 25 Ti 25 Zr 25         1.0       No information  No information   No information           879.0                      969.0         0.9                14.9  10.1016.j.matlet.2014.05.134\n",
      "10.3390.e21020114_extracted_info.json\n",
      "                                 High Entropy Alloys                doi\n",
      "0  [{'high entropy alloy formula': 'HfNbTaTiZr', ...  10.3390.e21020114\n",
      "10.1007.s11837-019-03432-9_extracted_info.json\n",
      "  high entropy alloy formula      grain size experimental density  hardness test temperature  yield strength  ultimate tensile strength  elongation elongation plastic                         doi\n",
      "0                  WMoNbCrTi  No information       No information      10.4   No information          2492.0                     2765.0         9.8     No information  10.1007.s11837-019-03432-9\n",
      "10.1002.adem.200300567_extracted_info.json\n",
      "  high entropy alloy formula      grain size experimental density hardness test temperature  yield strength ultimate tensile strength      elongation elongation plastic                     doi\n",
      "0               CuCoNiCrAlFe  No information       No information      133   No information  No information            No information  No information     No information  10.1002.adem.200300567\n",
      "10.1016.j.actamat.2019.06.032_extracted_info.json\n",
      "                              Al 0.4 Hf 0.6 NbTaTiZr                                            MoNbTaW                                         AlCrMoNbTi                            doi\n",
      "0  {'type': 'single-phase', 'grain size': 'No inf...  {'type': 'single-phase', 'grain size': 'No inf...  {'type': 'multi-phase', 'grain size': 'No info...  10.1016.j.actamat.2019.06.032\n",
      "10.1016.j.jallcom.2020.155700_extracted_info.json\n",
      "                                             MoNbTaW                                           MoNbTaVW                                         HfMoNbTiZr                                         Al0NbTaTiV                                      Al0.25NbTaTiV  \\\n",
      "0  {'type': 'string', 'grain size': 'No informati...  {'type': 'string', 'grain size': 'No informati...  {'type': 'string', 'grain size': 'No informati...  {'type': 'string', 'grain size': 'No informati...  {'type': 'string', 'grain size': 'No informati...   \n",
      "\n",
      "                                  AlMo0.5NbTa0.5TiZr                           Al10Cr20Mo20Nb20Ti20Zr10                            V10Cr20Mo20Nb20Ti20Zr10                           Ta10Cr20Mo20Nb20Ti20Zr10                            doi  \n",
      "0  {'type': 'string', 'grain size': 'No informati...  {'type': 'string', 'grain size': 'No informati...  {'type': 'string', 'grain size': 'No informati...  {'type': 'string', 'grain size': 'No informati...  10.1016.j.jallcom.2020.155700  \n",
      "10.1016.j.matlet.2014.11.162_extracted_info.json\n",
      "  high entropy alloy formula  grain size  experimental density  hardness  test temperature  yield strength  ultimate tensile strength  elongation elongation plastic                           doi\n",
      "0                    AlNbTiV       300.0                  5.59    4315.0              20.0          1020.0                     1318.0         5.0     No information  10.1016.j.matlet.2014.11.162\n",
      "10.1016.j.actamat.2012.11.032_extracted_info.json\n",
      "                                             NbTiVZr                                           NbTiV2Zr                                           CrNbTiZr                                          CrNbTiVZr                            doi\n",
      "0  {'type': 'string', 'grain size': 'No informati...  {'type': 'string', 'grain size': 'No informati...  {'type': 'string', 'grain size': 'No informati...  {'type': 'string', 'grain size': 'No informati...  10.1016.j.actamat.2012.11.032\n",
      "10.1007.s42864-021-00111-8_extracted_info.json\n",
      "    high entropy alloy formula      grain size experimental density        hardness test temperature                                     yield strength ultimate tensile strength      elongation elongation plastic                         doi\n",
      "0  (Ta25-xNb25Zr25Ti25+x)95Al5  No information       No information  No information   No information  [{'x=0': 1762, 'x=5': 1509, 'x=10': 1243}, {'x...            No information  No information     No information  10.1007.s42864-021-00111-8\n",
      "10.1016.j.jmst.2020.10.073_extracted_info.json\n",
      "  high entropy alloy formula  yield strength                         doi\n",
      "0                Ta0.4HfZrTi             0.4  10.1016.j.jmst.2020.10.073\n",
      "10.1016.j.ijrmhm.2020.105370_extracted_info.json\n",
      "  high entropy alloy formula  grain size experimental density        hardness  test temperature  yield strength ultimate tensile strength      elongation elongation plastic                           doi\n",
      "0                 Nb-Mo-Ta-W         150       No information  No information                25             390            No information  No information     No information  10.1016.j.ijrmhm.2020.105370\n",
      "10.1016.j.msea.2021.141168_extracted_info.json\n",
      "  high entropy alloy formula      grain size experimental density        hardness test temperature yield strength ultimate tensile strength      elongation elongation plastic                         doi\n",
      "0                     TaTiZr  No information                 9.56  No information               25           1671            No information  No information     No information  10.1016.j.msea.2021.141168\n",
      "10.2320.matertrans.MT-MK2019003]_extracted_info.json\n",
      "                                          HfNbTaTiZr                                           HfNbTaTi                                           HfNbTaZr                                           HfNbTiZr                                           HfTaTiZr  \\\n",
      "0  {'type': 'RHEA', 'grain size': 'No information...  {'type': 'RMEA', 'grain size': 'No information...  {'type': 'RMEA', 'grain size': 'No information...  {'type': 'RMEA', 'grain size': 'No information...  {'type': 'RMEA', 'grain size': 'No information...   \n",
      "\n",
      "                                            NbTaTiZr                              doi  \n",
      "0  {'type': 'RMEA', 'grain size': 'No information...  10.2320.matertrans.MT-MK2019003  \n",
      "10.1016.j.msea.2003.12.011_extracted_info.json\n",
      "  high entropy alloy formula         grain size experimental density           hardness   test temperature     yield strength ultimate tensile strength         elongation elongation plastic                         doi\n",
      "0         {'type': 'string'}  {'type': 'float'}    {'type': 'float'}  {'type': 'float'}  {'type': 'float'}  {'type': 'float'}         {'type': 'float'}  {'type': 'float'}  {'type': 'float'}  10.1016.j.msea.2003.12.011\n",
      "10.1038.s41467-019-10533-1_extracted_info.json\n",
      "     high entropy alloy formula  hardness  yield strength                         doi\n",
      "0  Co 33 W 07 Al 33 Nb 24 Cr 03    1084.0  No information  10.1038.s41467-019-10533-1\n",
      "10.1016.j.intermet.2015.03.013_extracted_info.json\n",
      "                                          HfNbTaTiZr                                         HfMoTaTiZr                                       HfMoNbTaTiZr                             doi\n",
      "0  {'type': 'No information', 'grain size': 'No i...  {'type': 'No information', 'grain size': 'No i...  {'type': 'No information', 'grain size': 'No i...  10.1016.j.intermet.2015.03.013\n",
      "10.1016.j.matlet.2019.03.075_extracted_info.json\n",
      "  high entropy alloy formula      grain size experimental density        hardness  test temperature  yield strength ultimate tensile strength      elongation  elongation plastic                           doi\n",
      "0        TiNbTa 0.5 ZrAl 0.5  No information       No information  No information              1000            1740            No information  No information                  20  10.1016.j.matlet.2019.03.075\n",
      "10.1016.j.jallcom.2019.151685_extracted_info.json\n",
      "  high entropy alloy formula      grain size experimental density        hardness  test temperature  yield strength ultimate tensile strength      elongation elongation plastic                            doi\n",
      "0                      NbTiV  No information       No information  No information                23             663            No information  No information     No information  10.1016.j.jallcom.2019.151685\n",
      "10.1016.j.scriptamat.2021.113919_extracted_info.json\n",
      "  high_entropy alloy formula      grain size experimental density        hardness  test temperature  yield strength  ultimate tensile strength  elongation  elongation plastic                               doi\n",
      "0                 HfNbTaTiZr  No information       No information  No information               573             854                        962       0.128               0.049  10.1016.j.scriptamat.2021.113919\n",
      "10.1016.j.matchemphys.2017.06.054_extracted_info.json\n",
      "     high entropy alloy formula  grain size  experimental density  hardness  test temperature  yield strength ultimate tensile strength      elongation elongation plastic                                doi\n",
      "0  Ti0.07W0.24Ta0.23V0.23Cr0.22        2.75                    98       714              1200            2034            No information  No information     No information  10.1016.j.matchemphys.2017.06.054\n",
      "10.1016.j.intermet.2011.01.004_extracted_info.json\n",
      "  high entropy alloy formula  yield strength                             doi\n",
      "0     Nb 25 Mo 25 Ta 25 W 25            1058  10.1016.j.intermet.2011.01.004\n",
      "10.1016.j.scriptamat.2020.07.006_extracted_info.json\n",
      "             high entropy alloy formula      grain size experimental density        hardness test temperature yield strength ultimate tensile strength      elongation elongation plastic                               doi\n",
      "0  Nb 55 Ta 25 Ti 15 Hf 5 (at.%) (NTTH)  No information       No information  No information   No information            620            No information  No information               0.06  10.1016.j.scriptamat.2020.07.006\n",
      "10.1016.j.jallcom.2021.159740_extracted_info.json\n",
      "  high entropy alloy formula  yield strength                            doi\n",
      "0                      NbTaW            1460  10.1016.j.jallcom.2021.159740\n",
      "10.1016.j.msea.2021.140848_extracted_info.json\n",
      "  high entropy alloy formula      grain size experimental density        hardness  test temperature  yield strength ultimate tensile strength      elongation  elongation plastic                         doi\n",
      "0                V0.25NbMoTa  No information       No information  No information               293            1017            No information  No information                 9.2  10.1016.j.msea.2021.140848\n",
      "10.1016.j.msea.2021.141234_extracted_info.json\n",
      "  high_entropy_alloy_formula  yield_strength                         doi\n",
      "0                 Ti3.6Al0.6           180.0  10.1016.j.msea.2021.141234\n",
      "10.1016.j.vacuum.2020.109614_extracted_info.json\n",
      "     high entropy alloy formula      grain size  experimental density  hardness  test temperature  yield strength ultimate tensile strength  elongation elongation plastic                           doi\n",
      "0  W 10 Mo 27 Cr 21 Ti 22 Al 20  No information                  7.48     511.0            293.15          1245.0            No information         7.7     No information  10.1016.j.vacuum.2020.109614\n",
      "10.4028.www.scientific.net.MSF.898.638_extracted_info.json\n",
      "  high entropy alloy formula  yield strength  ultimate tensile strength  elongation                                     doi\n",
      "0                 VTaTiMoAl0          1221.0                     1454.0        9.93  10.4028.www.scientific.net.MSF.898.638\n",
      "10.3390.e18050189_extracted_info.json\n",
      "  high entropy alloy formula  yield strength                doi\n",
      "0                    MoNbTaV             1.5  10.3390.e18050189\n",
      "10.1016.j.matlet.2015.08.099_extracted_info.json\n",
      "  high entropy alloy formula  grain size  experimental density        hardness  test temperature  yield strength ultimate tensile strength      elongation elongation plastic                           doi\n",
      "0              AlNbTiVZr 0.5        22.0                  5.64  No information              22.0          1430.0            No information  No information     No information  10.1016.j.matlet.2015.08.099\n",
      "10.1016.j.actamat.2017.09.035_extracted_info.json\n",
      "  high entropy alloy formula  grain size experimental density  hardness  test temperature  yield strength  ultimate tensile strength  elongation elongation plastic                            doi\n",
      "0                 TiZrNbHfTa          50       No information       530               500  No information                       1900         7.9     No information  10.1016.j.actamat.2017.09.035\n",
      "10.1016.j.intermet.2015.09.011_extracted_info.json\n",
      "  high entropy alloy formula  yield strength                             doi\n",
      "0  Mo 0.5 NbHf 0.5 ZrTiC 0.1          1183.0  10.1016.j.intermet.2015.09.011\n",
      "10.1016.j.jallcom.2020.158003_extracted_info.json\n",
      "  high entropy alloy formula      grain size  experimental density        hardness test temperature  yield strength ultimate tensile strength      elongation  elongation plastic                            doi\n",
      "0                     NbTaTi  No information                 10.09  No information   No information             724            No information  No information               0.354  10.1016.j.jallcom.2020.158003\n",
      "10.1016.j.actamat.2019.06.006_extracted_info.json\n",
      "                                              NbTaTi                                           AlNbTaTi                                           MoNbTaTi                                            WNbTaTi                                           HfNbTaTi  \\\n",
      "0  {'grain size': 'No information', 'experimental...  {'grain size': 'No information', 'experimental...  {'grain size': 'No information', 'experimental...  {'grain size': 'No information', 'experimental...  {'grain size': 'No information', 'experimental...   \n",
      "\n",
      "                                            CrNbMoTi                                           CrMoTaTi                            doi  \n",
      "0  {'grain size': 'No information', 'experimental...  {'grain size': 'No information', 'experimental...  10.1016.j.actamat.2019.06.006  \n",
      "10.1016.j.intermet.2015.10.011_extracted_info.json\n",
      "                                             NbMoTaW                                          V-NbMoTaW                                 NbCrMo0.5Ta0.5TiZr                                 AlMo0.5NbTa0.5TiZr                           AlMo0.5NbTa0.5TiZr_1273K  \\\n",
      "0  {'high entropy alloy formula': 'NbMoTaW', 'gra...  {'high entropy alloy formula': 'V-NbMoTaW', 'g...  {'high entropy alloy formula': 'NbCrMo0.5Ta0.5...  {'high entropy alloy formula': 'AlMo0.5NbTa0.5...  {'high entropy alloy formula': 'AlMo0.5NbTa0.5...   \n",
      "\n",
      "                                          TaNbHfZrTi                                   CoCr-CuFeNiTix_0                                   CoCr-CuFeNiTix_1                                AlCoCrFeMo0.5Ni_x_0                                AlCoCrFeMo0.5Ni_x_2  \\\n",
      "0  {'high entropy alloy formula': 'TaNbHfZrTi', '...  {'high entropy alloy formula': 'CoCr-CuFeNiTix...  {'high entropy alloy formula': 'CoCr-CuFeNiTix...  {'high entropy alloy formula': 'AlCoCrFeMo0.5N...  {'high entropy alloy formula': 'AlCoCrFeMo0.5N...   \n",
      "\n",
      "                                     AlxCoCrCuFeNi_0                              Equiatomic MoNbHfZrTi                             doi  \n",
      "0  {'high entropy alloy formula': 'AlxCoCrCuFeNi'...  {'high entropy alloy formula': 'MoNbHfZrTi', '...  10.1016.j.intermet.2015.10.011  \n",
      "Extraction DFs: 126\n"
     ]
    }
   ]
  },
  {
   "cell_type": "code",
   "execution_count": 131,
   "outputs": [
    {
     "data": {
      "text/plain": "[  high entropy alloy formula  yield strength                         doi\n 0                  MoNbFeCrV            2663  10.1007.s40195-019-00935-x\n 1                  MoNbFeCrV            2663  10.1007.s40195-019-00935-x,\n   high entropy alloy formula      grain size experimental density  hardness  test temperature  yield strength ultimate tensile strength      elongation  elongation plastic                            doi\n 0                    NbTaTiV  No information       No information     510.9              1000             437            No information  No information                  40  10.1016.j.jallcom.2018.10.230\n 1                    NbTaTiV  No information       No information     510.9              1000             437            No information  No information                  40  10.1016.j.jallcom.2018.10.230\n 2                    NbTaTiV  No information       No information     510.9              1000             437            No information  No information                  40  10.1016.j.jallcom.2018.10.230\n 3                    NbTaTiV  No information       No information     510.9              1000             437            No information  No information                  40  10.1016.j.jallcom.2018.10.230\n 4                    NbTaTiV  No information       No information     510.9              1000             437            No information  No information                  40  10.1016.j.jallcom.2018.10.230\n 5                    NbTaTiV  No information       No information     510.9              1000             437            No information  No information                  40  10.1016.j.jallcom.2018.10.230\n 6                    NbTaTiV  No information       No information     510.9              1000             437            No information  No information                  40  10.1016.j.jallcom.2018.10.230\n 7                    NbTaTiV  No information       No information     510.9              1000             437            No information  No information                  40  10.1016.j.jallcom.2018.10.230\n 8                    NbTaTiV  No information       No information     510.9              1000             437            No information  No information                  40  10.1016.j.jallcom.2018.10.230,\n   high entropy alloy formula      grain size experimental density        hardness test temperature  yield strength  ultimate tensile strength  elongation elongation plastic                            doi\n 0      MoNbRe 0.5 W(TaC) 0.5  No information       No information  No information   No information          1202.0                     2067.0       10.25     No information  10.1016.j.jallcom.2018.11.111\n 1      MoNbRe 0.5 W(TaC) 0.5  No information       No information  No information   No information          1202.0                     2067.0       10.25     No information  10.1016.j.jallcom.2018.11.111\n 2      MoNbRe 0.5 W(TaC) 0.5  No information       No information  No information   No information          1202.0                     2067.0       10.25     No information  10.1016.j.jallcom.2018.11.111\n 3      MoNbRe 0.5 W(TaC) 0.5  No information       No information  No information   No information          1202.0                     2067.0       10.25     No information  10.1016.j.jallcom.2018.11.111\n 4      MoNbRe 0.5 W(TaC) 0.5  No information       No information  No information   No information          1202.0                     2067.0       10.25     No information  10.1016.j.jallcom.2018.11.111\n 5      MoNbRe 0.5 W(TaC) 0.5  No information       No information  No information   No information          1202.0                     2067.0       10.25     No information  10.1016.j.jallcom.2018.11.111\n 6      MoNbRe 0.5 W(TaC) 0.5  No information       No information  No information   No information          1202.0                     2067.0       10.25     No information  10.1016.j.jallcom.2018.11.111\n 7      MoNbRe 0.5 W(TaC) 0.5  No information       No information  No information   No information          1202.0                     2067.0       10.25     No information  10.1016.j.jallcom.2018.11.111\n 8      MoNbRe 0.5 W(TaC) 0.5  No information       No information  No information   No information          1202.0                     2067.0       10.25     No information  10.1016.j.jallcom.2018.11.111,\n       high entropy alloy formula  grain size  experimental density        hardness  test temperature  yield strength ultimate tensile strength      elongation  elongation plastic                        doi\n 0  Ta 20 Nb 20 Hf 20 Zr 20 Ti 20       100.0                  9.94  No information             296.0           929.0            No information  No information                50.0  10.1007.s10853-012-6260-2\n 1  Ta 20 Nb 20 Hf 20 Zr 20 Ti 20       100.0                  9.94  No information             296.0           929.0            No information  No information                50.0  10.1007.s10853-012-6260-2\n 2  Ta 20 Nb 20 Hf 20 Zr 20 Ti 20       100.0                  9.94  No information             296.0           929.0            No information  No information                50.0  10.1007.s10853-012-6260-2\n 3  Ta 20 Nb 20 Hf 20 Zr 20 Ti 20       100.0                  9.94  No information             296.0           929.0            No information  No information                50.0  10.1007.s10853-012-6260-2\n 4  Ta 20 Nb 20 Hf 20 Zr 20 Ti 20       100.0                  9.94  No information             296.0           929.0            No information  No information                50.0  10.1007.s10853-012-6260-2\n 5  Ta 20 Nb 20 Hf 20 Zr 20 Ti 20       100.0                  9.94  No information             296.0           929.0            No information  No information                50.0  10.1007.s10853-012-6260-2\n 6  Ta 20 Nb 20 Hf 20 Zr 20 Ti 20       100.0                  9.94  No information             296.0           929.0            No information  No information                50.0  10.1007.s10853-012-6260-2\n 7  Ta 20 Nb 20 Hf 20 Zr 20 Ti 20       100.0                  9.94  No information             296.0           929.0            No information  No information                50.0  10.1007.s10853-012-6260-2\n 8  Ta 20 Nb 20 Hf 20 Zr 20 Ti 20       100.0                  9.94  No information             296.0           929.0            No information  No information                50.0  10.1007.s10853-012-6260-2,\n   high entropy alloy formula      grain size  experimental density        hardness test temperature  yield strength  ultimate tensile strength  elongation elongation plastic                         doi\n 0          V 0.5 Nb 0.5 ZrTi  No information                   6.1  No information   No information           787.0                      830.0        21.9     No information  10.1016.j.msea.2020.139774\n 1          V 0.5 Nb 0.5 ZrTi  No information                   6.1  No information   No information           787.0                      830.0        21.9     No information  10.1016.j.msea.2020.139774\n 2          V 0.5 Nb 0.5 ZrTi  No information                   6.1  No information   No information           787.0                      830.0        21.9     No information  10.1016.j.msea.2020.139774\n 3          V 0.5 Nb 0.5 ZrTi  No information                   6.1  No information   No information           787.0                      830.0        21.9     No information  10.1016.j.msea.2020.139774\n 4          V 0.5 Nb 0.5 ZrTi  No information                   6.1  No information   No information           787.0                      830.0        21.9     No information  10.1016.j.msea.2020.139774\n 5          V 0.5 Nb 0.5 ZrTi  No information                   6.1  No information   No information           787.0                      830.0        21.9     No information  10.1016.j.msea.2020.139774\n 6          V 0.5 Nb 0.5 ZrTi  No information                   6.1  No information   No information           787.0                      830.0        21.9     No information  10.1016.j.msea.2020.139774\n 7          V 0.5 Nb 0.5 ZrTi  No information                   6.1  No information   No information           787.0                      830.0        21.9     No information  10.1016.j.msea.2020.139774\n 8          V 0.5 Nb 0.5 ZrTi  No information                   6.1  No information   No information           787.0                      830.0        21.9     No information  10.1016.j.msea.2020.139774,\n   high entropy alloy formula  yield strength                           doi\n 0              HfMo0NbTaTiZr            1015  10.1016.j.matlet.2016.03.133\n 1              HfMo0NbTaTiZr            1015  10.1016.j.matlet.2016.03.133,\n   high entropy alloy formula      grain size experimental density hardness  test temperature yield strength ultimate tensile strength elongation elongation plastic                         doi\n 0           TiNbTa0.5ZrAl0.5  No information       No information      780  Room temperature           1500            No information         22     No information  10.1016.j.jmst.2020.05.038\n 1           TiNbTa0.5ZrAl0.5  No information       No information      780  Room temperature           1500            No information         22     No information  10.1016.j.jmst.2020.05.038\n 2           TiNbTa0.5ZrAl0.5  No information       No information      780  Room temperature           1500            No information         22     No information  10.1016.j.jmst.2020.05.038\n 3           TiNbTa0.5ZrAl0.5  No information       No information      780  Room temperature           1500            No information         22     No information  10.1016.j.jmst.2020.05.038\n 4           TiNbTa0.5ZrAl0.5  No information       No information      780  Room temperature           1500            No information         22     No information  10.1016.j.jmst.2020.05.038\n 5           TiNbTa0.5ZrAl0.5  No information       No information      780  Room temperature           1500            No information         22     No information  10.1016.j.jmst.2020.05.038\n 6           TiNbTa0.5ZrAl0.5  No information       No information      780  Room temperature           1500            No information         22     No information  10.1016.j.jmst.2020.05.038\n 7           TiNbTa0.5ZrAl0.5  No information       No information      780  Room temperature           1500            No information         22     No information  10.1016.j.jmst.2020.05.038\n 8           TiNbTa0.5ZrAl0.5  No information       No information      780  Room temperature           1500            No information         22     No information  10.1016.j.jmst.2020.05.038,\n   high entropy alloy formula      grain size experimental density  hardness test temperature  yield strength ultimate tensile strength      elongation  elongation plastic                           doi\n 0             (MoNbTa)6Ti2V2  No information       No information     600.0   No information          1480.0            No information  No information                10.9  10.1016.j.ijrmhm.2021.105664\n 1             (MoNbTa)6Ti2V2  No information       No information     600.0   No information          1480.0            No information  No information                10.9  10.1016.j.ijrmhm.2021.105664\n 2             (MoNbTa)6Ti2V2  No information       No information     600.0   No information          1480.0            No information  No information                10.9  10.1016.j.ijrmhm.2021.105664\n 3             (MoNbTa)6Ti2V2  No information       No information     600.0   No information          1480.0            No information  No information                10.9  10.1016.j.ijrmhm.2021.105664\n 4             (MoNbTa)6Ti2V2  No information       No information     600.0   No information          1480.0            No information  No information                10.9  10.1016.j.ijrmhm.2021.105664\n 5             (MoNbTa)6Ti2V2  No information       No information     600.0   No information          1480.0            No information  No information                10.9  10.1016.j.ijrmhm.2021.105664\n 6             (MoNbTa)6Ti2V2  No information       No information     600.0   No information          1480.0            No information  No information                10.9  10.1016.j.ijrmhm.2021.105664\n 7             (MoNbTa)6Ti2V2  No information       No information     600.0   No information          1480.0            No information  No information                10.9  10.1016.j.ijrmhm.2021.105664\n 8             (MoNbTa)6Ti2V2  No information       No information     600.0   No information          1480.0            No information  No information                10.9  10.1016.j.ijrmhm.2021.105664,\n           high entropy alloy formula  grain size  experimental density  hardness test temperature  yield strength  ultimate tensile strength      elongation elongation plastic                           doi\n 0  Nb 42 Mo 20 Ti 13 Cr 12 V 12 Ta 1         327                  8.02       741   No information            2680                       3896  No information     No information  10.1016.j.ijrmhm.2019.02.009\n 1  Nb 42 Mo 20 Ti 13 Cr 12 V 12 Ta 1         327                  8.02       741   No information            2680                       3896  No information     No information  10.1016.j.ijrmhm.2019.02.009\n 2  Nb 42 Mo 20 Ti 13 Cr 12 V 12 Ta 1         327                  8.02       741   No information            2680                       3896  No information     No information  10.1016.j.ijrmhm.2019.02.009\n 3  Nb 42 Mo 20 Ti 13 Cr 12 V 12 Ta 1         327                  8.02       741   No information            2680                       3896  No information     No information  10.1016.j.ijrmhm.2019.02.009\n 4  Nb 42 Mo 20 Ti 13 Cr 12 V 12 Ta 1         327                  8.02       741   No information            2680                       3896  No information     No information  10.1016.j.ijrmhm.2019.02.009\n 5  Nb 42 Mo 20 Ti 13 Cr 12 V 12 Ta 1         327                  8.02       741   No information            2680                       3896  No information     No information  10.1016.j.ijrmhm.2019.02.009\n 6  Nb 42 Mo 20 Ti 13 Cr 12 V 12 Ta 1         327                  8.02       741   No information            2680                       3896  No information     No information  10.1016.j.ijrmhm.2019.02.009\n 7  Nb 42 Mo 20 Ti 13 Cr 12 V 12 Ta 1         327                  8.02       741   No information            2680                       3896  No information     No information  10.1016.j.ijrmhm.2019.02.009\n 8  Nb 42 Mo 20 Ti 13 Cr 12 V 12 Ta 1         327                  8.02       741   No information            2680                       3896  No information     No information  10.1016.j.ijrmhm.2019.02.009,\n                                            TiNbMoTaW                                         TiVNbMoTaW                             doi\n 0  {'type': 'string', 'grain size': 'No informati...  {'type': 'string', 'grain size': 'No informati...  10.1016.j.intermet.2017.01.007\n 1  {'type': 'string', 'grain size': 'No informati...  {'type': 'string', 'grain size': 'No informati...  10.1016.j.intermet.2017.01.007,\n   high entropy alloy formula      grain size experimental density        hardness test temperature  yield strength  ultimate tensile strength  elongation elongation plastic                        doi\n 0     Ti 38 V 15 Nb 23 Hf 24  No information       No information  No information   No information           774.0                      792.0        20.6     No information  10.1038.s41563-020-0750-4\n 1     Ti 38 V 15 Nb 23 Hf 24  No information       No information  No information   No information           774.0                      792.0        20.6     No information  10.1038.s41563-020-0750-4\n 2     Ti 38 V 15 Nb 23 Hf 24  No information       No information  No information   No information           774.0                      792.0        20.6     No information  10.1038.s41563-020-0750-4\n 3     Ti 38 V 15 Nb 23 Hf 24  No information       No information  No information   No information           774.0                      792.0        20.6     No information  10.1038.s41563-020-0750-4\n 4     Ti 38 V 15 Nb 23 Hf 24  No information       No information  No information   No information           774.0                      792.0        20.6     No information  10.1038.s41563-020-0750-4\n 5     Ti 38 V 15 Nb 23 Hf 24  No information       No information  No information   No information           774.0                      792.0        20.6     No information  10.1038.s41563-020-0750-4\n 6     Ti 38 V 15 Nb 23 Hf 24  No information       No information  No information   No information           774.0                      792.0        20.6     No information  10.1038.s41563-020-0750-4\n 7     Ti 38 V 15 Nb 23 Hf 24  No information       No information  No information   No information           774.0                      792.0        20.6     No information  10.1038.s41563-020-0750-4\n 8     Ti 38 V 15 Nb 23 Hf 24  No information       No information  No information   No information           774.0                      792.0        20.6     No information  10.1038.s41563-020-0750-4,\n            high entropy alloy formula      grain size experimental density        hardness  test temperature  yield strength ultimate tensile strength  elongation elongation plastic                           doi\n 0  Al 20 Cr 10 Nb 15 Ti 20 V 25 Zr 10  No information       No information  No information                22            1535            No information         0.6     No information  10.1016.j.matlet.2020.127372\n 1  Al 20 Cr 10 Nb 15 Ti 20 V 25 Zr 10  No information       No information  No information                22            1535            No information         0.6     No information  10.1016.j.matlet.2020.127372\n 2  Al 20 Cr 10 Nb 15 Ti 20 V 25 Zr 10  No information       No information  No information                22            1535            No information         0.6     No information  10.1016.j.matlet.2020.127372\n 3  Al 20 Cr 10 Nb 15 Ti 20 V 25 Zr 10  No information       No information  No information                22            1535            No information         0.6     No information  10.1016.j.matlet.2020.127372\n 4  Al 20 Cr 10 Nb 15 Ti 20 V 25 Zr 10  No information       No information  No information                22            1535            No information         0.6     No information  10.1016.j.matlet.2020.127372\n 5  Al 20 Cr 10 Nb 15 Ti 20 V 25 Zr 10  No information       No information  No information                22            1535            No information         0.6     No information  10.1016.j.matlet.2020.127372\n 6  Al 20 Cr 10 Nb 15 Ti 20 V 25 Zr 10  No information       No information  No information                22            1535            No information         0.6     No information  10.1016.j.matlet.2020.127372\n 7  Al 20 Cr 10 Nb 15 Ti 20 V 25 Zr 10  No information       No information  No information                22            1535            No information         0.6     No information  10.1016.j.matlet.2020.127372\n 8  Al 20 Cr 10 Nb 15 Ti 20 V 25 Zr 10  No information       No information  No information                22            1535            No information         0.6     No information  10.1016.j.matlet.2020.127372,\n   high entropy alloy formula  grain size  experimental density        hardness  test temperature  yield strength ultimate tensile strength  elongation elongation plastic                         doi\n 0                    AlNbTiV       300.0                5590.0  No information              22.0          1000.0            No information         6.0     No information  10.1016.j.msea.2017.08.019\n 1                    AlNbTiV       300.0                5590.0  No information              22.0          1000.0            No information         6.0     No information  10.1016.j.msea.2017.08.019\n 2                    AlNbTiV       300.0                5590.0  No information              22.0          1000.0            No information         6.0     No information  10.1016.j.msea.2017.08.019\n 3                    AlNbTiV       300.0                5590.0  No information              22.0          1000.0            No information         6.0     No information  10.1016.j.msea.2017.08.019\n 4                    AlNbTiV       300.0                5590.0  No information              22.0          1000.0            No information         6.0     No information  10.1016.j.msea.2017.08.019\n 5                    AlNbTiV       300.0                5590.0  No information              22.0          1000.0            No information         6.0     No information  10.1016.j.msea.2017.08.019\n 6                    AlNbTiV       300.0                5590.0  No information              22.0          1000.0            No information         6.0     No information  10.1016.j.msea.2017.08.019\n 7                    AlNbTiV       300.0                5590.0  No information              22.0          1000.0            No information         6.0     No information  10.1016.j.msea.2017.08.019\n 8                    AlNbTiV       300.0                5590.0  No information              22.0          1000.0            No information         6.0     No information  10.1016.j.msea.2017.08.019,\n                           high entropy alloy formula                         doi\n 0  {'Ti 20 Zr 20 Nb 20 Ta 20 Mo 20': {'grain size...  10.1016.j.msec.2016.12.057,\n   high entropy alloy formula      grain size experimental density        hardness test temperature  yield strength ultimate tensile strength  elongation elongation plastic                            doi\n 0         Ti25 Zr25 Nb25 V25  No information       No information  No information   No information           876.0            No information        20.7     No information  10.1016.j.jallcom.2021.159190\n 1         Ti25 Zr25 Nb25 V25  No information       No information  No information   No information           876.0            No information        20.7     No information  10.1016.j.jallcom.2021.159190\n 2         Ti25 Zr25 Nb25 V25  No information       No information  No information   No information           876.0            No information        20.7     No information  10.1016.j.jallcom.2021.159190\n 3         Ti25 Zr25 Nb25 V25  No information       No information  No information   No information           876.0            No information        20.7     No information  10.1016.j.jallcom.2021.159190\n 4         Ti25 Zr25 Nb25 V25  No information       No information  No information   No information           876.0            No information        20.7     No information  10.1016.j.jallcom.2021.159190\n 5         Ti25 Zr25 Nb25 V25  No information       No information  No information   No information           876.0            No information        20.7     No information  10.1016.j.jallcom.2021.159190\n 6         Ti25 Zr25 Nb25 V25  No information       No information  No information   No information           876.0            No information        20.7     No information  10.1016.j.jallcom.2021.159190\n 7         Ti25 Zr25 Nb25 V25  No information       No information  No information   No information           876.0            No information        20.7     No information  10.1016.j.jallcom.2021.159190\n 8         Ti25 Zr25 Nb25 V25  No information       No information  No information   No information           876.0            No information        20.7     No information  10.1016.j.jallcom.2021.159190,\n   high entropy alloy formula      grain size experimental density        hardness  test temperature  yield strength ultimate tensile strength      elongation elongation plastic                           doi\n 0                 MoNbHfZrTi  No information       No information  No information               296            1719            No information  No information     No information  10.1016.j.matdes.2015.05.019\n 1                 MoNbHfZrTi  No information       No information  No information               296            1719            No information  No information     No information  10.1016.j.matdes.2015.05.019\n 2                 MoNbHfZrTi  No information       No information  No information               296            1719            No information  No information     No information  10.1016.j.matdes.2015.05.019\n 3                 MoNbHfZrTi  No information       No information  No information               296            1719            No information  No information     No information  10.1016.j.matdes.2015.05.019\n 4                 MoNbHfZrTi  No information       No information  No information               296            1719            No information  No information     No information  10.1016.j.matdes.2015.05.019\n 5                 MoNbHfZrTi  No information       No information  No information               296            1719            No information  No information     No information  10.1016.j.matdes.2015.05.019\n 6                 MoNbHfZrTi  No information       No information  No information               296            1719            No information  No information     No information  10.1016.j.matdes.2015.05.019\n 7                 MoNbHfZrTi  No information       No information  No information               296            1719            No information  No information     No information  10.1016.j.matdes.2015.05.019\n 8                 MoNbHfZrTi  No information       No information  No information               296            1719            No information  No information     No information  10.1016.j.matdes.2015.05.019,\n   high entropy alloy formula  grain size  experimental density  hardness  test temperature  yield strength  ultimate tensile strength  elongation elongation plastic                        doi\n 0     AlMo 0.5 NbTa 0.5 TiZr        75.0                   7.4       5.8              25.0          2000.0                     2368.0        10.0     No information  10.1007.s11837-014-1066-0\n 1     AlMo 0.5 NbTa 0.5 TiZr        75.0                   7.4       5.8              25.0          2000.0                     2368.0        10.0     No information  10.1007.s11837-014-1066-0\n 2     AlMo 0.5 NbTa 0.5 TiZr        75.0                   7.4       5.8              25.0          2000.0                     2368.0        10.0     No information  10.1007.s11837-014-1066-0\n 3     AlMo 0.5 NbTa 0.5 TiZr        75.0                   7.4       5.8              25.0          2000.0                     2368.0        10.0     No information  10.1007.s11837-014-1066-0\n 4     AlMo 0.5 NbTa 0.5 TiZr        75.0                   7.4       5.8              25.0          2000.0                     2368.0        10.0     No information  10.1007.s11837-014-1066-0\n 5     AlMo 0.5 NbTa 0.5 TiZr        75.0                   7.4       5.8              25.0          2000.0                     2368.0        10.0     No information  10.1007.s11837-014-1066-0\n 6     AlMo 0.5 NbTa 0.5 TiZr        75.0                   7.4       5.8              25.0          2000.0                     2368.0        10.0     No information  10.1007.s11837-014-1066-0\n 7     AlMo 0.5 NbTa 0.5 TiZr        75.0                   7.4       5.8              25.0          2000.0                     2368.0        10.0     No information  10.1007.s11837-014-1066-0\n 8     AlMo 0.5 NbTa 0.5 TiZr        75.0                   7.4       5.8              25.0          2000.0                     2368.0        10.0     No information  10.1007.s11837-014-1066-0,\n   high entropy alloy formula      grain size  experimental density  hardness  test temperature  yield strength  ultimate tensile strength  elongation elongation plastic                           doi\n 0     AlMo 0.5 NbTa 0.5 TiZr  No information                   7.4       5.8                25            2197                       2370         4.1     No information  10.1016.j.matdes.2017.11.033\n 1     AlMo 0.5 NbTa 0.5 TiZr  No information                   7.4       5.8                25            2197                       2370         4.1     No information  10.1016.j.matdes.2017.11.033\n 2     AlMo 0.5 NbTa 0.5 TiZr  No information                   7.4       5.8                25            2197                       2370         4.1     No information  10.1016.j.matdes.2017.11.033\n 3     AlMo 0.5 NbTa 0.5 TiZr  No information                   7.4       5.8                25            2197                       2370         4.1     No information  10.1016.j.matdes.2017.11.033\n 4     AlMo 0.5 NbTa 0.5 TiZr  No information                   7.4       5.8                25            2197                       2370         4.1     No information  10.1016.j.matdes.2017.11.033\n 5     AlMo 0.5 NbTa 0.5 TiZr  No information                   7.4       5.8                25            2197                       2370         4.1     No information  10.1016.j.matdes.2017.11.033\n 6     AlMo 0.5 NbTa 0.5 TiZr  No information                   7.4       5.8                25            2197                       2370         4.1     No information  10.1016.j.matdes.2017.11.033\n 7     AlMo 0.5 NbTa 0.5 TiZr  No information                   7.4       5.8                25            2197                       2370         4.1     No information  10.1016.j.matdes.2017.11.033\n 8     AlMo 0.5 NbTa 0.5 TiZr  No information                   7.4       5.8                25            2197                       2370         4.1     No information  10.1016.j.matdes.2017.11.033,\n                                       Nb-Mo-Cr-Ti-Al                            doi\n 0  {'type': 'high entropy alloy', 'grain size': '...  10.1016.j.jallcom.2015.11.050,\n   high entropy alloy formula      grain size  experimental density  hardness  test temperature  yield strength  ultimate tensile strength  elongation elongation plastic                         doi\n 0               Al0MoNbTaTiV  No information                  9.33     421.7              25.0          1227.9                     2066.0        30.0     No information  10.1016.j.msea.2020.139275\n 1               Al0MoNbTaTiV  No information                  9.33     421.7              25.0          1227.9                     2066.0        30.0     No information  10.1016.j.msea.2020.139275\n 2               Al0MoNbTaTiV  No information                  9.33     421.7              25.0          1227.9                     2066.0        30.0     No information  10.1016.j.msea.2020.139275\n 3               Al0MoNbTaTiV  No information                  9.33     421.7              25.0          1227.9                     2066.0        30.0     No information  10.1016.j.msea.2020.139275\n 4               Al0MoNbTaTiV  No information                  9.33     421.7              25.0          1227.9                     2066.0        30.0     No information  10.1016.j.msea.2020.139275\n 5               Al0MoNbTaTiV  No information                  9.33     421.7              25.0          1227.9                     2066.0        30.0     No information  10.1016.j.msea.2020.139275\n 6               Al0MoNbTaTiV  No information                  9.33     421.7              25.0          1227.9                     2066.0        30.0     No information  10.1016.j.msea.2020.139275\n 7               Al0MoNbTaTiV  No information                  9.33     421.7              25.0          1227.9                     2066.0        30.0     No information  10.1016.j.msea.2020.139275\n 8               Al0MoNbTaTiV  No information                  9.33     421.7              25.0          1227.9                     2066.0        30.0     No information  10.1016.j.msea.2020.139275,\n   high entropy alloy formula      grain size  experimental density  hardness test temperature  yield strength  ultimate tensile strength  elongation elongation plastic                             doi\n 0                    NbTiVZr  No information                  6.49       380   No information            1320                       1470         4.2     No information  10.1179.1743284715Y.0000000032\n 1                    NbTiVZr  No information                  6.49       380   No information            1320                       1470         4.2     No information  10.1179.1743284715Y.0000000032\n 2                    NbTiVZr  No information                  6.49       380   No information            1320                       1470         4.2     No information  10.1179.1743284715Y.0000000032\n 3                    NbTiVZr  No information                  6.49       380   No information            1320                       1470         4.2     No information  10.1179.1743284715Y.0000000032\n 4                    NbTiVZr  No information                  6.49       380   No information            1320                       1470         4.2     No information  10.1179.1743284715Y.0000000032\n 5                    NbTiVZr  No information                  6.49       380   No information            1320                       1470         4.2     No information  10.1179.1743284715Y.0000000032\n 6                    NbTiVZr  No information                  6.49       380   No information            1320                       1470         4.2     No information  10.1179.1743284715Y.0000000032\n 7                    NbTiVZr  No information                  6.49       380   No information            1320                       1470         4.2     No information  10.1179.1743284715Y.0000000032\n 8                    NbTiVZr  No information                  6.49       380   No information            1320                       1470         4.2     No information  10.1179.1743284715Y.0000000032,\n   high entropy alloy formula      grain size  experimental density        hardness  test temperature  yield strength ultimate tensile strength      elongation elongation plastic                            doi\n 0     Ti2ZrHf0.5V0.5Nb0.5Al0  No information                  6.68  No information            293.15             915            No information  No information     No information  10.1016.j.matchar.2021.111287\n 1     Ti2ZrHf0.5V0.5Nb0.5Al0  No information                  6.68  No information            293.15             915            No information  No information     No information  10.1016.j.matchar.2021.111287\n 2     Ti2ZrHf0.5V0.5Nb0.5Al0  No information                  6.68  No information            293.15             915            No information  No information     No information  10.1016.j.matchar.2021.111287\n 3     Ti2ZrHf0.5V0.5Nb0.5Al0  No information                  6.68  No information            293.15             915            No information  No information     No information  10.1016.j.matchar.2021.111287\n 4     Ti2ZrHf0.5V0.5Nb0.5Al0  No information                  6.68  No information            293.15             915            No information  No information     No information  10.1016.j.matchar.2021.111287\n 5     Ti2ZrHf0.5V0.5Nb0.5Al0  No information                  6.68  No information            293.15             915            No information  No information     No information  10.1016.j.matchar.2021.111287\n 6     Ti2ZrHf0.5V0.5Nb0.5Al0  No information                  6.68  No information            293.15             915            No information  No information     No information  10.1016.j.matchar.2021.111287\n 7     Ti2ZrHf0.5V0.5Nb0.5Al0  No information                  6.68  No information            293.15             915            No information  No information     No information  10.1016.j.matchar.2021.111287\n 8     Ti2ZrHf0.5V0.5Nb0.5Al0  No information                  6.68  No information            293.15             915            No information  No information     No information  10.1016.j.matchar.2021.111287,\n   high entropy alloy formula      grain size  experimental density  hardness test temperature  yield strength ultimate tensile strength  elongation elongation plastic                           doi\n 0               HfNbTiVSi0.5  No information                   8.6       490   No information            1399            No information        10.9     No information  10.1016.j.matlet.2016.03.092\n 1               HfNbTiVSi0.5  No information                   8.6       490   No information            1399            No information        10.9     No information  10.1016.j.matlet.2016.03.092\n 2               HfNbTiVSi0.5  No information                   8.6       490   No information            1399            No information        10.9     No information  10.1016.j.matlet.2016.03.092\n 3               HfNbTiVSi0.5  No information                   8.6       490   No information            1399            No information        10.9     No information  10.1016.j.matlet.2016.03.092\n 4               HfNbTiVSi0.5  No information                   8.6       490   No information            1399            No information        10.9     No information  10.1016.j.matlet.2016.03.092\n 5               HfNbTiVSi0.5  No information                   8.6       490   No information            1399            No information        10.9     No information  10.1016.j.matlet.2016.03.092\n 6               HfNbTiVSi0.5  No information                   8.6       490   No information            1399            No information        10.9     No information  10.1016.j.matlet.2016.03.092\n 7               HfNbTiVSi0.5  No information                   8.6       490   No information            1399            No information        10.9     No information  10.1016.j.matlet.2016.03.092\n 8               HfNbTiVSi0.5  No information                   8.6       490   No information            1399            No information        10.9     No information  10.1016.j.matlet.2016.03.092,\n       high entropy alloy formula                                     yield strength                            doi\n 0  Ti 20 Hf 20 Zr 20 Ta 20 Nb 20  {'low strain rate (~10^-3 s^-1)': 'No informat...  10.1016.j.matchar.2015.11.018\n 1  Ti 20 Hf 20 Zr 20 Ta 20 Nb 20  {'low strain rate (~10^-3 s^-1)': 'No informat...  10.1016.j.matchar.2015.11.018,\n   high entropy alloy formula  grain size experimental density        hardness test temperature  yield strength ultimate tensile strength      elongation elongation plastic                            doi\n 0                   TiZrNbHf        31.0       No information  No information   No information           880.0            No information  No information     No information  10.1016.j.actamat.2017.09.062\n 1                   TiZrNbHf        31.0       No information  No information   No information           880.0            No information  No information     No information  10.1016.j.actamat.2017.09.062\n 2                   TiZrNbHf        31.0       No information  No information   No information           880.0            No information  No information     No information  10.1016.j.actamat.2017.09.062\n 3                   TiZrNbHf        31.0       No information  No information   No information           880.0            No information  No information     No information  10.1016.j.actamat.2017.09.062\n 4                   TiZrNbHf        31.0       No information  No information   No information           880.0            No information  No information     No information  10.1016.j.actamat.2017.09.062\n 5                   TiZrNbHf        31.0       No information  No information   No information           880.0            No information  No information     No information  10.1016.j.actamat.2017.09.062\n 6                   TiZrNbHf        31.0       No information  No information   No information           880.0            No information  No information     No information  10.1016.j.actamat.2017.09.062\n 7                   TiZrNbHf        31.0       No information  No information   No information           880.0            No information  No information     No information  10.1016.j.actamat.2017.09.062\n 8                   TiZrNbHf        31.0       No information  No information   No information           880.0            No information  No information     No information  10.1016.j.actamat.2017.09.062,\n   high entropy alloy formula      grain size  experimental density  hardness test temperature  yield strength ultimate tensile strength elongation elongation plastic                            doi\n 0                 HfNbTaTiZr  No information                  9.72       295   No information            1073            No information        >50     No information  10.1016.j.jallcom.2014.11.064\n 1                 HfNbTaTiZr  No information                  9.72       295   No information            1073            No information        >50     No information  10.1016.j.jallcom.2014.11.064\n 2                 HfNbTaTiZr  No information                  9.72       295   No information            1073            No information        >50     No information  10.1016.j.jallcom.2014.11.064\n 3                 HfNbTaTiZr  No information                  9.72       295   No information            1073            No information        >50     No information  10.1016.j.jallcom.2014.11.064\n 4                 HfNbTaTiZr  No information                  9.72       295   No information            1073            No information        >50     No information  10.1016.j.jallcom.2014.11.064\n 5                 HfNbTaTiZr  No information                  9.72       295   No information            1073            No information        >50     No information  10.1016.j.jallcom.2014.11.064\n 6                 HfNbTaTiZr  No information                  9.72       295   No information            1073            No information        >50     No information  10.1016.j.jallcom.2014.11.064\n 7                 HfNbTaTiZr  No information                  9.72       295   No information            1073            No information        >50     No information  10.1016.j.jallcom.2014.11.064\n 8                 HfNbTaTiZr  No information                  9.72       295   No information            1073            No information        >50     No information  10.1016.j.jallcom.2014.11.064,\n   high entropy alloy formula  grain size  experimental density        hardness  test temperature  yield strength  ultimate tensile strength  elongation elongation plastic                           doi\n 0    Ti 40 Nb 30 Hf 15 Al 15         400                  7.07  No information                22            1250                       1630          16     No information  10.1016.j.ijrmhm.2020.105322\n 1    Ti 40 Nb 30 Hf 15 Al 15         400                  7.07  No information                22            1250                       1630          16     No information  10.1016.j.ijrmhm.2020.105322\n 2    Ti 40 Nb 30 Hf 15 Al 15         400                  7.07  No information                22            1250                       1630          16     No information  10.1016.j.ijrmhm.2020.105322\n 3    Ti 40 Nb 30 Hf 15 Al 15         400                  7.07  No information                22            1250                       1630          16     No information  10.1016.j.ijrmhm.2020.105322\n 4    Ti 40 Nb 30 Hf 15 Al 15         400                  7.07  No information                22            1250                       1630          16     No information  10.1016.j.ijrmhm.2020.105322\n 5    Ti 40 Nb 30 Hf 15 Al 15         400                  7.07  No information                22            1250                       1630          16     No information  10.1016.j.ijrmhm.2020.105322\n 6    Ti 40 Nb 30 Hf 15 Al 15         400                  7.07  No information                22            1250                       1630          16     No information  10.1016.j.ijrmhm.2020.105322\n 7    Ti 40 Nb 30 Hf 15 Al 15         400                  7.07  No information                22            1250                       1630          16     No information  10.1016.j.ijrmhm.2020.105322\n 8    Ti 40 Nb 30 Hf 15 Al 15         400                  7.07  No information                22            1250                       1630          16     No information  10.1016.j.ijrmhm.2020.105322,\n   high entropy alloy formula      grain size experimental density        hardness  test temperature  yield strength ultimate tensile strength      elongation  elongation plastic                         doi\n 0                   WNbMoTaV  No information       No information  No information  Room temperature            2612            No information  No information                 8.8  10.1016.j.msea.2017.12.021\n 1                   WNbMoTaV  No information       No information  No information  Room temperature            2612            No information  No information                 8.8  10.1016.j.msea.2017.12.021\n 2                   WNbMoTaV  No information       No information  No information  Room temperature            2612            No information  No information                 8.8  10.1016.j.msea.2017.12.021\n 3                   WNbMoTaV  No information       No information  No information  Room temperature            2612            No information  No information                 8.8  10.1016.j.msea.2017.12.021\n 4                   WNbMoTaV  No information       No information  No information  Room temperature            2612            No information  No information                 8.8  10.1016.j.msea.2017.12.021\n 5                   WNbMoTaV  No information       No information  No information  Room temperature            2612            No information  No information                 8.8  10.1016.j.msea.2017.12.021\n 6                   WNbMoTaV  No information       No information  No information  Room temperature            2612            No information  No information                 8.8  10.1016.j.msea.2017.12.021\n 7                   WNbMoTaV  No information       No information  No information  Room temperature            2612            No information  No information                 8.8  10.1016.j.msea.2017.12.021\n 8                   WNbMoTaV  No information       No information  No information  Room temperature            2612            No information  No information                 8.8  10.1016.j.msea.2017.12.021,\n        high entropy alloy formula      grain size  experimental density  hardness test temperature  yield strength  ultimate tensile strength  elongation elongation plastic                doi\n 0  Hf 0.5 Nb 0.5 Ta 0.5 Ti 1.5 Zr  No information                  8.13     301.0   No information           903.0                      990.0        18.8     No information  10.1063.1.4966659\n 1  Hf 0.5 Nb 0.5 Ta 0.5 Ti 1.5 Zr  No information                  8.13     301.0   No information           903.0                      990.0        18.8     No information  10.1063.1.4966659\n 2  Hf 0.5 Nb 0.5 Ta 0.5 Ti 1.5 Zr  No information                  8.13     301.0   No information           903.0                      990.0        18.8     No information  10.1063.1.4966659\n 3  Hf 0.5 Nb 0.5 Ta 0.5 Ti 1.5 Zr  No information                  8.13     301.0   No information           903.0                      990.0        18.8     No information  10.1063.1.4966659\n 4  Hf 0.5 Nb 0.5 Ta 0.5 Ti 1.5 Zr  No information                  8.13     301.0   No information           903.0                      990.0        18.8     No information  10.1063.1.4966659\n 5  Hf 0.5 Nb 0.5 Ta 0.5 Ti 1.5 Zr  No information                  8.13     301.0   No information           903.0                      990.0        18.8     No information  10.1063.1.4966659\n 6  Hf 0.5 Nb 0.5 Ta 0.5 Ti 1.5 Zr  No information                  8.13     301.0   No information           903.0                      990.0        18.8     No information  10.1063.1.4966659\n 7  Hf 0.5 Nb 0.5 Ta 0.5 Ti 1.5 Zr  No information                  8.13     301.0   No information           903.0                      990.0        18.8     No information  10.1063.1.4966659\n 8  Hf 0.5 Nb 0.5 Ta 0.5 Ti 1.5 Zr  No information                  8.13     301.0   No information           903.0                      990.0        18.8     No information  10.1063.1.4966659,\n   high entropy alloy formula  grain size experimental density hardness  test temperature  yield strength ultimate tensile strength      elongation elongation plastic                         doi\n 0                     NbZrTi         300       No information   HV 372  Room temperature  No information            No information  No information     No information  10.1007.s12598-019-01310-6\n 1                     NbZrTi         300       No information   HV 372  Room temperature  No information            No information  No information     No information  10.1007.s12598-019-01310-6\n 2                     NbZrTi         300       No information   HV 372  Room temperature  No information            No information  No information     No information  10.1007.s12598-019-01310-6\n 3                     NbZrTi         300       No information   HV 372  Room temperature  No information            No information  No information     No information  10.1007.s12598-019-01310-6\n 4                     NbZrTi         300       No information   HV 372  Room temperature  No information            No information  No information     No information  10.1007.s12598-019-01310-6\n 5                     NbZrTi         300       No information   HV 372  Room temperature  No information            No information  No information     No information  10.1007.s12598-019-01310-6\n 6                     NbZrTi         300       No information   HV 372  Room temperature  No information            No information  No information     No information  10.1007.s12598-019-01310-6\n 7                     NbZrTi         300       No information   HV 372  Room temperature  No information            No information  No information     No information  10.1007.s12598-019-01310-6\n 8                     NbZrTi         300       No information   HV 372  Room temperature  No information            No information  No information     No information  10.1007.s12598-019-01310-6,\n            HfNbTaTiZr         grain size experimental density           hardness   test temperature     yield strength ultimate tensile strength         elongation elongation plastic                            doi\n 0  {'type': 'string'}  {'type': 'float'}    {'type': 'float'}  {'type': 'float'}  {'type': 'float'}  {'type': 'float'}         {'type': 'float'}  {'type': 'float'}  {'type': 'float'}  10.1016.j.jallcom.2019.06.138\n 1  {'type': 'string'}  {'type': 'float'}    {'type': 'float'}  {'type': 'float'}  {'type': 'float'}  {'type': 'float'}         {'type': 'float'}  {'type': 'float'}  {'type': 'float'}  10.1016.j.jallcom.2019.06.138\n 2  {'type': 'string'}  {'type': 'float'}    {'type': 'float'}  {'type': 'float'}  {'type': 'float'}  {'type': 'float'}         {'type': 'float'}  {'type': 'float'}  {'type': 'float'}  10.1016.j.jallcom.2019.06.138\n 3  {'type': 'string'}  {'type': 'float'}    {'type': 'float'}  {'type': 'float'}  {'type': 'float'}  {'type': 'float'}         {'type': 'float'}  {'type': 'float'}  {'type': 'float'}  10.1016.j.jallcom.2019.06.138\n 4  {'type': 'string'}  {'type': 'float'}    {'type': 'float'}  {'type': 'float'}  {'type': 'float'}  {'type': 'float'}         {'type': 'float'}  {'type': 'float'}  {'type': 'float'}  10.1016.j.jallcom.2019.06.138\n 5  {'type': 'string'}  {'type': 'float'}    {'type': 'float'}  {'type': 'float'}  {'type': 'float'}  {'type': 'float'}         {'type': 'float'}  {'type': 'float'}  {'type': 'float'}  10.1016.j.jallcom.2019.06.138\n 6  {'type': 'string'}  {'type': 'float'}    {'type': 'float'}  {'type': 'float'}  {'type': 'float'}  {'type': 'float'}         {'type': 'float'}  {'type': 'float'}  {'type': 'float'}  10.1016.j.jallcom.2019.06.138\n 7  {'type': 'string'}  {'type': 'float'}    {'type': 'float'}  {'type': 'float'}  {'type': 'float'}  {'type': 'float'}         {'type': 'float'}  {'type': 'float'}  {'type': 'float'}  10.1016.j.jallcom.2019.06.138\n 8  {'type': 'string'}  {'type': 'float'}    {'type': 'float'}  {'type': 'float'}  {'type': 'float'}  {'type': 'float'}         {'type': 'float'}  {'type': 'float'}  {'type': 'float'}  10.1016.j.jallcom.2019.06.138,\n   high entropy alloy formula      grain size experimental density  hardness test temperature  yield strength ultimate tensile strength      elongation  elongation plastic                            doi\n 0                   TaNbHfZr  No information       No information      3575   No information            1315            No information  No information                21.6  10.1016.j.actamat.2016.01.018\n 1                   TaNbHfZr  No information       No information      3575   No information            1315            No information  No information                21.6  10.1016.j.actamat.2016.01.018\n 2                   TaNbHfZr  No information       No information      3575   No information            1315            No information  No information                21.6  10.1016.j.actamat.2016.01.018\n 3                   TaNbHfZr  No information       No information      3575   No information            1315            No information  No information                21.6  10.1016.j.actamat.2016.01.018\n 4                   TaNbHfZr  No information       No information      3575   No information            1315            No information  No information                21.6  10.1016.j.actamat.2016.01.018\n 5                   TaNbHfZr  No information       No information      3575   No information            1315            No information  No information                21.6  10.1016.j.actamat.2016.01.018\n 6                   TaNbHfZr  No information       No information      3575   No information            1315            No information  No information                21.6  10.1016.j.actamat.2016.01.018\n 7                   TaNbHfZr  No information       No information      3575   No information            1315            No information  No information                21.6  10.1016.j.actamat.2016.01.018\n 8                   TaNbHfZr  No information       No information      3575   No information            1315            No information  No information                21.6  10.1016.j.actamat.2016.01.018,\n                                           NbMoTa MEA                      NbMoTa MEA (High Temperature)                           doi\n 0  {'type': 'string', 'grain size': 112.52, 'expe...  {'type': 'string', 'grain size': 112.52, 'expe...  10.1016.j.ijrmhm.2020.105195\n 1  {'type': 'string', 'grain size': 112.52, 'expe...  {'type': 'string', 'grain size': 112.52, 'expe...  10.1016.j.ijrmhm.2020.105195,\n   high entropy alloy formula      grain size  experimental density        hardness test temperature  yield strength ultimate tensile strength  elongation elongation plastic                            doi\n 0                    NbMoTaW  No information                 13.63  No information   No information  No information            No information         2.6     No information  10.1016.j.jallcom.2020.157542\n 1                    NbMoTaW  No information                 13.63  No information   No information  No information            No information         2.6     No information  10.1016.j.jallcom.2020.157542\n 2                    NbMoTaW  No information                 13.63  No information   No information  No information            No information         2.6     No information  10.1016.j.jallcom.2020.157542\n 3                    NbMoTaW  No information                 13.63  No information   No information  No information            No information         2.6     No information  10.1016.j.jallcom.2020.157542\n 4                    NbMoTaW  No information                 13.63  No information   No information  No information            No information         2.6     No information  10.1016.j.jallcom.2020.157542\n 5                    NbMoTaW  No information                 13.63  No information   No information  No information            No information         2.6     No information  10.1016.j.jallcom.2020.157542\n 6                    NbMoTaW  No information                 13.63  No information   No information  No information            No information         2.6     No information  10.1016.j.jallcom.2020.157542\n 7                    NbMoTaW  No information                 13.63  No information   No information  No information            No information         2.6     No information  10.1016.j.jallcom.2020.157542\n 8                    NbMoTaW  No information                 13.63  No information   No information  No information            No information         2.6     No information  10.1016.j.jallcom.2020.157542,\n                   high entropy alloy formula                                    grain size                          experimental density                                      hardness                              test temperature                      yield strength  \\\n 0  {'type': 'string', 'value': 'TiZrHfNbTa'}  {'type': 'float', 'value': 'No information'}  {'type': 'float', 'value': 'No information'}  {'type': 'float', 'value': 'No information'}  {'type': 'float', 'value': 'No information'}  {'type': 'float', 'value': '1300'}   \n 1  {'type': 'string', 'value': 'TiZrHfNbTa'}  {'type': 'float', 'value': 'No information'}  {'type': 'float', 'value': 'No information'}  {'type': 'float', 'value': 'No information'}  {'type': 'float', 'value': 'No information'}  {'type': 'float', 'value': '1300'}   \n 2  {'type': 'string', 'value': 'TiZrHfNbTa'}  {'type': 'float', 'value': 'No information'}  {'type': 'float', 'value': 'No information'}  {'type': 'float', 'value': 'No information'}  {'type': 'float', 'value': 'No information'}  {'type': 'float', 'value': '1300'}   \n 3  {'type': 'string', 'value': 'TiZrHfNbTa'}  {'type': 'float', 'value': 'No information'}  {'type': 'float', 'value': 'No information'}  {'type': 'float', 'value': 'No information'}  {'type': 'float', 'value': 'No information'}  {'type': 'float', 'value': '1300'}   \n 4  {'type': 'string', 'value': 'TiZrHfNbTa'}  {'type': 'float', 'value': 'No information'}  {'type': 'float', 'value': 'No information'}  {'type': 'float', 'value': 'No information'}  {'type': 'float', 'value': 'No information'}  {'type': 'float', 'value': '1300'}   \n 5  {'type': 'string', 'value': 'TiZrHfNbTa'}  {'type': 'float', 'value': 'No information'}  {'type': 'float', 'value': 'No information'}  {'type': 'float', 'value': 'No information'}  {'type': 'float', 'value': 'No information'}  {'type': 'float', 'value': '1300'}   \n 6  {'type': 'string', 'value': 'TiZrHfNbTa'}  {'type': 'float', 'value': 'No information'}  {'type': 'float', 'value': 'No information'}  {'type': 'float', 'value': 'No information'}  {'type': 'float', 'value': 'No information'}  {'type': 'float', 'value': '1300'}   \n 7  {'type': 'string', 'value': 'TiZrHfNbTa'}  {'type': 'float', 'value': 'No information'}  {'type': 'float', 'value': 'No information'}  {'type': 'float', 'value': 'No information'}  {'type': 'float', 'value': 'No information'}  {'type': 'float', 'value': '1300'}   \n 8  {'type': 'string', 'value': 'TiZrHfNbTa'}  {'type': 'float', 'value': 'No information'}  {'type': 'float', 'value': 'No information'}  {'type': 'float', 'value': 'No information'}  {'type': 'float', 'value': 'No information'}  {'type': 'float', 'value': '1300'}   \n \n                       ultimate tensile strength                                    elongation                            elongation plastic                         doi  \n 0  {'type': 'float', 'value': 'No information'}  {'type': 'float', 'value': 'No information'}  {'type': 'float', 'value': 'No information'}  10.1016.j.msea.2015.08.024  \n 1  {'type': 'float', 'value': 'No information'}  {'type': 'float', 'value': 'No information'}  {'type': 'float', 'value': 'No information'}  10.1016.j.msea.2015.08.024  \n 2  {'type': 'float', 'value': 'No information'}  {'type': 'float', 'value': 'No information'}  {'type': 'float', 'value': 'No information'}  10.1016.j.msea.2015.08.024  \n 3  {'type': 'float', 'value': 'No information'}  {'type': 'float', 'value': 'No information'}  {'type': 'float', 'value': 'No information'}  10.1016.j.msea.2015.08.024  \n 4  {'type': 'float', 'value': 'No information'}  {'type': 'float', 'value': 'No information'}  {'type': 'float', 'value': 'No information'}  10.1016.j.msea.2015.08.024  \n 5  {'type': 'float', 'value': 'No information'}  {'type': 'float', 'value': 'No information'}  {'type': 'float', 'value': 'No information'}  10.1016.j.msea.2015.08.024  \n 6  {'type': 'float', 'value': 'No information'}  {'type': 'float', 'value': 'No information'}  {'type': 'float', 'value': 'No information'}  10.1016.j.msea.2015.08.024  \n 7  {'type': 'float', 'value': 'No information'}  {'type': 'float', 'value': 'No information'}  {'type': 'float', 'value': 'No information'}  10.1016.j.msea.2015.08.024  \n 8  {'type': 'float', 'value': 'No information'}  {'type': 'float', 'value': 'No information'}  {'type': 'float', 'value': 'No information'}  10.1016.j.msea.2015.08.024  ,\n      high entropy alloy formula      grain size  experimental density        hardness  test temperature  yield strength ultimate tensile strength      elongation elongation plastic                         doi\n 0  Al 10 Nb 15 Ta 5 Ti 30 Zr 40  No information                  6.45  No information              23.0          1050.0            No information  No information     No information  10.1016.j.mtla.2020.100627\n 1  Al 10 Nb 15 Ta 5 Ti 30 Zr 40  No information                  6.45  No information              23.0          1050.0            No information  No information     No information  10.1016.j.mtla.2020.100627\n 2  Al 10 Nb 15 Ta 5 Ti 30 Zr 40  No information                  6.45  No information              23.0          1050.0            No information  No information     No information  10.1016.j.mtla.2020.100627\n 3  Al 10 Nb 15 Ta 5 Ti 30 Zr 40  No information                  6.45  No information              23.0          1050.0            No information  No information     No information  10.1016.j.mtla.2020.100627\n 4  Al 10 Nb 15 Ta 5 Ti 30 Zr 40  No information                  6.45  No information              23.0          1050.0            No information  No information     No information  10.1016.j.mtla.2020.100627\n 5  Al 10 Nb 15 Ta 5 Ti 30 Zr 40  No information                  6.45  No information              23.0          1050.0            No information  No information     No information  10.1016.j.mtla.2020.100627\n 6  Al 10 Nb 15 Ta 5 Ti 30 Zr 40  No information                  6.45  No information              23.0          1050.0            No information  No information     No information  10.1016.j.mtla.2020.100627\n 7  Al 10 Nb 15 Ta 5 Ti 30 Zr 40  No information                  6.45  No information              23.0          1050.0            No information  No information     No information  10.1016.j.mtla.2020.100627\n 8  Al 10 Nb 15 Ta 5 Ti 30 Zr 40  No information                  6.45  No information              23.0          1050.0            No information  No information     No information  10.1016.j.mtla.2020.100627,\n   high entropy alloy formula  yield strength                            doi\n 0           Mo0.5NbHf0.5ZrTi            1719  10.1016.j.jallcom.2015.11.091\n 1           Mo0.5NbHf0.5ZrTi            1719  10.1016.j.jallcom.2015.11.091,\n   high entropy alloy formula  yield strength                        doi\n 0                 TiZrNbMoV1  No information  10.1007.s11837-012-0366-5\n 1                 TiZrNbMoV1  No information  10.1007.s11837-012-0366-5,\n       high entropy alloy formula      grain size experimental density        hardness test temperature  yield strength ultimate tensile strength      elongation elongation plastic                         doi\n 0  Ti 30 Zr 25 Hf 15 Nb 20 Ta 10  No information       No information  No information   No information  No information            No information  No information     No information  10.1016.j.msea.2017.10.073\n 1  Ti 30 Zr 25 Hf 15 Nb 20 Ta 10  No information       No information  No information   No information  No information            No information  No information     No information  10.1016.j.msea.2017.10.073\n 2  Ti 30 Zr 25 Hf 15 Nb 20 Ta 10  No information       No information  No information   No information  No information            No information  No information     No information  10.1016.j.msea.2017.10.073\n 3  Ti 30 Zr 25 Hf 15 Nb 20 Ta 10  No information       No information  No information   No information  No information            No information  No information     No information  10.1016.j.msea.2017.10.073\n 4  Ti 30 Zr 25 Hf 15 Nb 20 Ta 10  No information       No information  No information   No information  No information            No information  No information     No information  10.1016.j.msea.2017.10.073\n 5  Ti 30 Zr 25 Hf 15 Nb 20 Ta 10  No information       No information  No information   No information  No information            No information  No information     No information  10.1016.j.msea.2017.10.073\n 6  Ti 30 Zr 25 Hf 15 Nb 20 Ta 10  No information       No information  No information   No information  No information            No information  No information     No information  10.1016.j.msea.2017.10.073\n 7  Ti 30 Zr 25 Hf 15 Nb 20 Ta 10  No information       No information  No information   No information  No information            No information  No information     No information  10.1016.j.msea.2017.10.073\n 8  Ti 30 Zr 25 Hf 15 Nb 20 Ta 10  No information       No information  No information   No information  No information            No information  No information     No information  10.1016.j.msea.2017.10.073,\n   high entropy alloy formula      grain size experimental density        hardness test temperature  yield strength ultimate tensile strength      elongation elongation plastic                           doi\n 0            TiZrNbMo0.3V0.3  No information       No information  No information   No information          1312.0            No information  No information                >50  10.1016.j.matdes.2015.06.072\n 1            TiZrNbMo0.3V0.3  No information       No information  No information   No information          1312.0            No information  No information                >50  10.1016.j.matdes.2015.06.072\n 2            TiZrNbMo0.3V0.3  No information       No information  No information   No information          1312.0            No information  No information                >50  10.1016.j.matdes.2015.06.072\n 3            TiZrNbMo0.3V0.3  No information       No information  No information   No information          1312.0            No information  No information                >50  10.1016.j.matdes.2015.06.072\n 4            TiZrNbMo0.3V0.3  No information       No information  No information   No information          1312.0            No information  No information                >50  10.1016.j.matdes.2015.06.072\n 5            TiZrNbMo0.3V0.3  No information       No information  No information   No information          1312.0            No information  No information                >50  10.1016.j.matdes.2015.06.072\n 6            TiZrNbMo0.3V0.3  No information       No information  No information   No information          1312.0            No information  No information                >50  10.1016.j.matdes.2015.06.072\n 7            TiZrNbMo0.3V0.3  No information       No information  No information   No information          1312.0            No information  No information                >50  10.1016.j.matdes.2015.06.072\n 8            TiZrNbMo0.3V0.3  No information       No information  No information   No information          1312.0            No information  No information                >50  10.1016.j.matdes.2015.06.072,\n                                                 CrNb                                             CrNbTi                                           CrNbTaTi                             doi\n 0  {'type': 'string', 'grain size': 'No informati...  {'type': 'string', 'grain size': 'No informati...  {'type': 'string', 'grain size': 'No informati...  10.1016.j.intermet.2021.107323\n 1  {'type': 'string', 'grain size': 'No informati...  {'type': 'string', 'grain size': 'No informati...  {'type': 'string', 'grain size': 'No informati...  10.1016.j.intermet.2021.107323\n 2  {'type': 'string', 'grain size': 'No informati...  {'type': 'string', 'grain size': 'No informati...  {'type': 'string', 'grain size': 'No informati...  10.1016.j.intermet.2021.107323,\n   high entropy alloy formula      grain size experimental density hardness test temperature yield strength ultimate tensile strength elongation elongation plastic                               doi\n 0           Hf20Nb10Ti35Zr35  No information       No information      252   No information            524                       704       17.5     No information  10.1016.j.scriptamat.2021.114225\n 1           Hf20Nb10Ti35Zr35  No information       No information      252   No information            524                       704       17.5     No information  10.1016.j.scriptamat.2021.114225\n 2           Hf20Nb10Ti35Zr35  No information       No information      252   No information            524                       704       17.5     No information  10.1016.j.scriptamat.2021.114225\n 3           Hf20Nb10Ti35Zr35  No information       No information      252   No information            524                       704       17.5     No information  10.1016.j.scriptamat.2021.114225\n 4           Hf20Nb10Ti35Zr35  No information       No information      252   No information            524                       704       17.5     No information  10.1016.j.scriptamat.2021.114225\n 5           Hf20Nb10Ti35Zr35  No information       No information      252   No information            524                       704       17.5     No information  10.1016.j.scriptamat.2021.114225\n 6           Hf20Nb10Ti35Zr35  No information       No information      252   No information            524                       704       17.5     No information  10.1016.j.scriptamat.2021.114225\n 7           Hf20Nb10Ti35Zr35  No information       No information      252   No information            524                       704       17.5     No information  10.1016.j.scriptamat.2021.114225\n 8           Hf20Nb10Ti35Zr35  No information       No information      252   No information            524                       704       17.5     No information  10.1016.j.scriptamat.2021.114225,\n   high entropy alloy formula  grain size  experimental density        hardness  test temperature  yield strength ultimate tensile strength      elongation  elongation plastic                              doi\n 0       Ti37.5Nb12.5Hf25Al25       300.0                  7.23  No information              22.0          1645.0            No information  No information                 1.0  10.1088.1757-899X.1014.1.012041\n 1       Ti37.5Nb12.5Hf25Al25       300.0                  7.23  No information              22.0          1645.0            No information  No information                 1.0  10.1088.1757-899X.1014.1.012041\n 2       Ti37.5Nb12.5Hf25Al25       300.0                  7.23  No information              22.0          1645.0            No information  No information                 1.0  10.1088.1757-899X.1014.1.012041\n 3       Ti37.5Nb12.5Hf25Al25       300.0                  7.23  No information              22.0          1645.0            No information  No information                 1.0  10.1088.1757-899X.1014.1.012041\n 4       Ti37.5Nb12.5Hf25Al25       300.0                  7.23  No information              22.0          1645.0            No information  No information                 1.0  10.1088.1757-899X.1014.1.012041\n 5       Ti37.5Nb12.5Hf25Al25       300.0                  7.23  No information              22.0          1645.0            No information  No information                 1.0  10.1088.1757-899X.1014.1.012041\n 6       Ti37.5Nb12.5Hf25Al25       300.0                  7.23  No information              22.0          1645.0            No information  No information                 1.0  10.1088.1757-899X.1014.1.012041\n 7       Ti37.5Nb12.5Hf25Al25       300.0                  7.23  No information              22.0          1645.0            No information  No information                 1.0  10.1088.1757-899X.1014.1.012041\n 8       Ti37.5Nb12.5Hf25Al25       300.0                  7.23  No information              22.0          1645.0            No information  No information                 1.0  10.1088.1757-899X.1014.1.012041,\n   high entropy alloy formula  experimental density  hardness  test temperature  yield strength ultimate tensile strength  elongation elongation plastic                                    doi\n 0             HfNbSi0.5TiVZr                  7.75       464               293            1540            No information        16.8     No information  10.4028.www.scientific.net.MSF.849.76\n 1             HfNbSi0.5TiVZr                  7.75       464               293            1540            No information        16.8     No information  10.4028.www.scientific.net.MSF.849.76\n 2             HfNbSi0.5TiVZr                  7.75       464               293            1540            No information        16.8     No information  10.4028.www.scientific.net.MSF.849.76\n 3             HfNbSi0.5TiVZr                  7.75       464               293            1540            No information        16.8     No information  10.4028.www.scientific.net.MSF.849.76\n 4             HfNbSi0.5TiVZr                  7.75       464               293            1540            No information        16.8     No information  10.4028.www.scientific.net.MSF.849.76\n 5             HfNbSi0.5TiVZr                  7.75       464               293            1540            No information        16.8     No information  10.4028.www.scientific.net.MSF.849.76\n 6             HfNbSi0.5TiVZr                  7.75       464               293            1540            No information        16.8     No information  10.4028.www.scientific.net.MSF.849.76\n 7             HfNbSi0.5TiVZr                  7.75       464               293            1540            No information        16.8     No information  10.4028.www.scientific.net.MSF.849.76,\n   high entropy alloy formula      grain size experimental density        hardness test temperature  yield strength ultimate tensile strength      elongation elongation plastic                           doi\n 0                    NbTiVTa  No information       No information  No information   No information            1092            No information  No information     No information  10.1016.j.proeng.2012.03.043\n 1                    NbTiVTa  No information       No information  No information   No information            1092            No information  No information     No information  10.1016.j.proeng.2012.03.043\n 2                    NbTiVTa  No information       No information  No information   No information            1092            No information  No information     No information  10.1016.j.proeng.2012.03.043\n 3                    NbTiVTa  No information       No information  No information   No information            1092            No information  No information     No information  10.1016.j.proeng.2012.03.043\n 4                    NbTiVTa  No information       No information  No information   No information            1092            No information  No information     No information  10.1016.j.proeng.2012.03.043\n 5                    NbTiVTa  No information       No information  No information   No information            1092            No information  No information     No information  10.1016.j.proeng.2012.03.043\n 6                    NbTiVTa  No information       No information  No information   No information            1092            No information  No information     No information  10.1016.j.proeng.2012.03.043\n 7                    NbTiVTa  No information       No information  No information   No information            1092            No information  No information     No information  10.1016.j.proeng.2012.03.043\n 8                    NbTiVTa  No information       No information  No information   No information            1092            No information  No information     No information  10.1016.j.proeng.2012.03.043,\n   high entropy alloy formula  yield strength                             doi\n 0                    NbMoTaW            1058  10.1016.j.intermet.2020.106928\n 1                    NbMoTaW            1058  10.1016.j.intermet.2020.106928,\n   high entropy alloy formula      grain size experimental density        hardness  test temperature  yield strength ultimate tensile strength      elongation elongation plastic                     doi\n 0                    NbMoTaW  No information       No information  No information              1600             400            No information  No information     No information  10.1002.adem.202100765\n 1                    NbMoTaW  No information       No information  No information              1600             400            No information  No information     No information  10.1002.adem.202100765\n 2                    NbMoTaW  No information       No information  No information              1600             400            No information  No information     No information  10.1002.adem.202100765\n 3                    NbMoTaW  No information       No information  No information              1600             400            No information  No information     No information  10.1002.adem.202100765\n 4                    NbMoTaW  No information       No information  No information              1600             400            No information  No information     No information  10.1002.adem.202100765\n 5                    NbMoTaW  No information       No information  No information              1600             400            No information  No information     No information  10.1002.adem.202100765\n 6                    NbMoTaW  No information       No information  No information              1600             400            No information  No information     No information  10.1002.adem.202100765\n 7                    NbMoTaW  No information       No information  No information              1600             400            No information  No information     No information  10.1002.adem.202100765\n 8                    NbMoTaW  No information       No information  No information              1600             400            No information  No information     No information  10.1002.adem.202100765,\n                                              NbTaTiV                            doi\n 0  {'yield strength': {'room temperature': 1273, ...  10.1016.j.actamat.2018.08.053,\n   high entropy alloy formula  grain size experimental density        hardness test temperature  yield strength ultimate tensile strength      elongation elongation plastic                            doi\n 0                   NbTiZrHf         100       No information  No information   No information  No information            No information  No information     No information  10.1080.21663831.2019.1610105\n 1                   NbTiZrHf         100       No information  No information   No information  No information            No information  No information     No information  10.1080.21663831.2019.1610105\n 2                   NbTiZrHf         100       No information  No information   No information  No information            No information  No information     No information  10.1080.21663831.2019.1610105\n 3                   NbTiZrHf         100       No information  No information   No information  No information            No information  No information     No information  10.1080.21663831.2019.1610105\n 4                   NbTiZrHf         100       No information  No information   No information  No information            No information  No information     No information  10.1080.21663831.2019.1610105\n 5                   NbTiZrHf         100       No information  No information   No information  No information            No information  No information     No information  10.1080.21663831.2019.1610105\n 6                   NbTiZrHf         100       No information  No information   No information  No information            No information  No information     No information  10.1080.21663831.2019.1610105\n 7                   NbTiZrHf         100       No information  No information   No information  No information            No information  No information     No information  10.1080.21663831.2019.1610105\n 8                   NbTiZrHf         100       No information  No information   No information  No information            No information  No information     No information  10.1080.21663831.2019.1610105,\n                                               HfNbTa                                             TiNbTa                                               NbTa                                           TiHfNbTa               TiZrHfNbTa                             doi\n 0  {'yield strength': 847, 'ultimate tensile stre...  {'yield strength': 478, 'ultimate tensile stre...  {'yield strength': 246, 'ultimate tensile stre...  {'yield strength': 663, 'ultimate tensile stre...  {'yield strength': 820}  10.1016.j.intermet.2019.01.004\n 1  {'yield strength': 847, 'ultimate tensile stre...  {'yield strength': 478, 'ultimate tensile stre...  {'yield strength': 246, 'ultimate tensile stre...  {'yield strength': 663, 'ultimate tensile stre...  {'yield strength': 820}  10.1016.j.intermet.2019.01.004\n 2  {'yield strength': 847, 'ultimate tensile stre...  {'yield strength': 478, 'ultimate tensile stre...  {'yield strength': 246, 'ultimate tensile stre...  {'yield strength': 663, 'ultimate tensile stre...  {'yield strength': 820}  10.1016.j.intermet.2019.01.004\n 3  {'yield strength': 847, 'ultimate tensile stre...  {'yield strength': 478, 'ultimate tensile stre...  {'yield strength': 246, 'ultimate tensile stre...  {'yield strength': 663, 'ultimate tensile stre...  {'yield strength': 820}  10.1016.j.intermet.2019.01.004\n 4  {'yield strength': 847, 'ultimate tensile stre...  {'yield strength': 478, 'ultimate tensile stre...  {'yield strength': 246, 'ultimate tensile stre...  {'yield strength': 663, 'ultimate tensile stre...  {'yield strength': 820}  10.1016.j.intermet.2019.01.004,\n   high entropy alloy formula      grain size  experimental density        hardness  test temperature  yield strength ultimate tensile strength      elongation  elongation plastic                         doi\n 0                    NbTiVZr  No information                  6.52  No information               298            1105            No information  No information                  50  10.1016.j.msea.2012.12.018\n 1                    NbTiVZr  No information                  6.52  No information               298            1105            No information  No information                  50  10.1016.j.msea.2012.12.018\n 2                    NbTiVZr  No information                  6.52  No information               298            1105            No information  No information                  50  10.1016.j.msea.2012.12.018\n 3                    NbTiVZr  No information                  6.52  No information               298            1105            No information  No information                  50  10.1016.j.msea.2012.12.018\n 4                    NbTiVZr  No information                  6.52  No information               298            1105            No information  No information                  50  10.1016.j.msea.2012.12.018\n 5                    NbTiVZr  No information                  6.52  No information               298            1105            No information  No information                  50  10.1016.j.msea.2012.12.018\n 6                    NbTiVZr  No information                  6.52  No information               298            1105            No information  No information                  50  10.1016.j.msea.2012.12.018\n 7                    NbTiVZr  No information                  6.52  No information               298            1105            No information  No information                  50  10.1016.j.msea.2012.12.018\n 8                    NbTiVZr  No information                  6.52  No information               298            1105            No information  No information                  50  10.1016.j.msea.2012.12.018,\n   high entropy alloy formula  experimental density  yield strength  test temperature  elongation                            doi\n 0  HfMo 0.5 NbTiV 0.5 Si 0.0                  9.02            1260                20          35  10.1016.j.jallcom.2016.10.014\n 1  HfMo 0.5 NbTiV 0.5 Si 0.0                  9.02            1260                20          35  10.1016.j.jallcom.2016.10.014\n 2  HfMo 0.5 NbTiV 0.5 Si 0.0                  9.02            1260                20          35  10.1016.j.jallcom.2016.10.014\n 3  HfMo 0.5 NbTiV 0.5 Si 0.0                  9.02            1260                20          35  10.1016.j.jallcom.2016.10.014\n 4  HfMo 0.5 NbTiV 0.5 Si 0.0                  9.02            1260                20          35  10.1016.j.jallcom.2016.10.014,\n   high entropy alloy formula      grain size experimental density  hardness test temperature  yield strength ultimate tensile strength  elongation elongation plastic                        doi\n 0                     TiZrHf  No information       No information     211.0   No information           773.0            No information        17.0     No information  10.1007.s00339-019-2484-1\n 1                     TiZrHf  No information       No information     211.0   No information           773.0            No information        17.0     No information  10.1007.s00339-019-2484-1\n 2                     TiZrHf  No information       No information     211.0   No information           773.0            No information        17.0     No information  10.1007.s00339-019-2484-1\n 3                     TiZrHf  No information       No information     211.0   No information           773.0            No information        17.0     No information  10.1007.s00339-019-2484-1\n 4                     TiZrHf  No information       No information     211.0   No information           773.0            No information        17.0     No information  10.1007.s00339-019-2484-1\n 5                     TiZrHf  No information       No information     211.0   No information           773.0            No information        17.0     No information  10.1007.s00339-019-2484-1\n 6                     TiZrHf  No information       No information     211.0   No information           773.0            No information        17.0     No information  10.1007.s00339-019-2484-1\n 7                     TiZrHf  No information       No information     211.0   No information           773.0            No information        17.0     No information  10.1007.s00339-019-2484-1\n 8                     TiZrHf  No information       No information     211.0   No information           773.0            No information        17.0     No information  10.1007.s00339-019-2484-1,\n                                             NbHfZrTi                             doi\n 0  {'high entropy alloy formula': 'NbHfZrTi', 'gr...  10.1016.j.intermet.2019.04.003,\n                                           HfNbTaTiZr                      HfNbTaTiZr annealed at 1000°C                            doi\n 0  {'high entropy alloy formula': 'HfNbTaTiZr', '...  {'high entropy alloy formula': 'HfNbTaTiZr', '...  10.1016.j.jallcom.2015.07.209\n 1  {'high entropy alloy formula': 'HfNbTaTiZr', '...  {'high entropy alloy formula': 'HfNbTaTiZr', '...  10.1016.j.jallcom.2015.07.209,\n   high entropy alloy formula yield strength                               doi\n 0                 TiNbTaZrMo           1000  10.1016.j.scriptamat.2016.10.028\n 1                 TiNbTaZrMo           1000  10.1016.j.scriptamat.2016.10.028,\n   high entropy alloy formula  test temperature  yield strength                           doi\n 0            W0.4MoNb1.1TaTi               293            1412  10.1016.j.matlet.2021.129753\n 1            W0.4MoNb1.1TaTi               293            1412  10.1016.j.matlet.2021.129753\n 2            W0.4MoNb1.1TaTi               293            1412  10.1016.j.matlet.2021.129753,\n      high entropy alloy formula      grain size experimental density        hardness test temperature  yield strength ultimate tensile strength      elongation  elongation plastic                           doi\n 0  Ti 20 Zr 20 Hf 20 Nb 20 V 20  No information       No information  No information   No information            1170            No information  No information                  30  10.1016.j.ijrmhm.2014.07.009\n 1  Ti 20 Zr 20 Hf 20 Nb 20 V 20  No information       No information  No information   No information            1170            No information  No information                  30  10.1016.j.ijrmhm.2014.07.009\n 2  Ti 20 Zr 20 Hf 20 Nb 20 V 20  No information       No information  No information   No information            1170            No information  No information                  30  10.1016.j.ijrmhm.2014.07.009\n 3  Ti 20 Zr 20 Hf 20 Nb 20 V 20  No information       No information  No information   No information            1170            No information  No information                  30  10.1016.j.ijrmhm.2014.07.009\n 4  Ti 20 Zr 20 Hf 20 Nb 20 V 20  No information       No information  No information   No information            1170            No information  No information                  30  10.1016.j.ijrmhm.2014.07.009\n 5  Ti 20 Zr 20 Hf 20 Nb 20 V 20  No information       No information  No information   No information            1170            No information  No information                  30  10.1016.j.ijrmhm.2014.07.009\n 6  Ti 20 Zr 20 Hf 20 Nb 20 V 20  No information       No information  No information   No information            1170            No information  No information                  30  10.1016.j.ijrmhm.2014.07.009\n 7  Ti 20 Zr 20 Hf 20 Nb 20 V 20  No information       No information  No information   No information            1170            No information  No information                  30  10.1016.j.ijrmhm.2014.07.009\n 8  Ti 20 Zr 20 Hf 20 Nb 20 V 20  No information       No information  No information   No information            1170            No information  No information                  30  10.1016.j.ijrmhm.2014.07.009,\n        grain size experimental density  yield strength ultimate tensile strength                         doi\n 0  No information       No information  No information            No information  10.1016.j.msea.2021.140983\n 1  No information       No information  No information            No information  10.1016.j.msea.2021.140983\n 2  No information       No information  No information            No information  10.1016.j.msea.2021.140983\n 3  No information       No information  No information            No information  10.1016.j.msea.2021.140983,\n   high entropy alloy formula      grain size  experimental density        hardness  test temperature  yield strength ultimate tensile strength  elongation elongation plastic                           doi\n 0      Al 0.5 CrNbTi 2 V 0.5  No information                  5.76  No information                22            1340            No information        18.5     No information  10.1016.j.matlet.2016.11.030\n 1      Al 0.5 CrNbTi 2 V 0.5  No information                  5.76  No information                22            1340            No information        18.5     No information  10.1016.j.matlet.2016.11.030\n 2      Al 0.5 CrNbTi 2 V 0.5  No information                  5.76  No information                22            1340            No information        18.5     No information  10.1016.j.matlet.2016.11.030\n 3      Al 0.5 CrNbTi 2 V 0.5  No information                  5.76  No information                22            1340            No information        18.5     No information  10.1016.j.matlet.2016.11.030\n 4      Al 0.5 CrNbTi 2 V 0.5  No information                  5.76  No information                22            1340            No information        18.5     No information  10.1016.j.matlet.2016.11.030\n 5      Al 0.5 CrNbTi 2 V 0.5  No information                  5.76  No information                22            1340            No information        18.5     No information  10.1016.j.matlet.2016.11.030\n 6      Al 0.5 CrNbTi 2 V 0.5  No information                  5.76  No information                22            1340            No information        18.5     No information  10.1016.j.matlet.2016.11.030\n 7      Al 0.5 CrNbTi 2 V 0.5  No information                  5.76  No information                22            1340            No information        18.5     No information  10.1016.j.matlet.2016.11.030\n 8      Al 0.5 CrNbTi 2 V 0.5  No information                  5.76  No information                22            1340            No information        18.5     No information  10.1016.j.matlet.2016.11.030,\n   high entropy alloy formula      grain size experimental density        hardness test temperature  yield strength ultimate tensile strength      elongation elongation plastic                         doi\n 0                      VCoNi  No information       No information  No information   No information  No information            No information  No information     No information  10.1016.j.msea.2021.141908\n 1                      VCoNi  No information       No information  No information   No information  No information            No information  No information     No information  10.1016.j.msea.2021.141908\n 2                      VCoNi  No information       No information  No information   No information  No information            No information  No information     No information  10.1016.j.msea.2021.141908\n 3                      VCoNi  No information       No information  No information   No information  No information            No information  No information     No information  10.1016.j.msea.2021.141908\n 4                      VCoNi  No information       No information  No information   No information  No information            No information  No information     No information  10.1016.j.msea.2021.141908\n 5                      VCoNi  No information       No information  No information   No information  No information            No information  No information     No information  10.1016.j.msea.2021.141908\n 6                      VCoNi  No information       No information  No information   No information  No information            No information  No information     No information  10.1016.j.msea.2021.141908\n 7                      VCoNi  No information       No information  No information   No information  No information            No information  No information     No information  10.1016.j.msea.2021.141908\n 8                      VCoNi  No information       No information  No information   No information  No information            No information  No information     No information  10.1016.j.msea.2021.141908,\n                          high entropy alloy formulas                            doi\n 0  [{'high entropy alloy formula': 'Re0NbMoTaW', ...  10.1016.j.jallcom.2020.154301,\n   high entropy alloy formula      grain size experimental density        hardness  test temperature  yield strength ultimate tensile strength elongation elongation plastic                               doi\n 0                    VNbMoTa  No information       No information  No information            1000.0           811.0            No information       > 25     No information  10.1016.j.scriptamat.2020.09.027\n 1                    VNbMoTa  No information       No information  No information            1000.0           811.0            No information       > 25     No information  10.1016.j.scriptamat.2020.09.027\n 2                    VNbMoTa  No information       No information  No information            1000.0           811.0            No information       > 25     No information  10.1016.j.scriptamat.2020.09.027\n 3                    VNbMoTa  No information       No information  No information            1000.0           811.0            No information       > 25     No information  10.1016.j.scriptamat.2020.09.027\n 4                    VNbMoTa  No information       No information  No information            1000.0           811.0            No information       > 25     No information  10.1016.j.scriptamat.2020.09.027\n 5                    VNbMoTa  No information       No information  No information            1000.0           811.0            No information       > 25     No information  10.1016.j.scriptamat.2020.09.027\n 6                    VNbMoTa  No information       No information  No information            1000.0           811.0            No information       > 25     No information  10.1016.j.scriptamat.2020.09.027\n 7                    VNbMoTa  No information       No information  No information            1000.0           811.0            No information       > 25     No information  10.1016.j.scriptamat.2020.09.027\n 8                    VNbMoTa  No information       No information  No information            1000.0           811.0            No information       > 25     No information  10.1016.j.scriptamat.2020.09.027,\n   high entropy alloy formula      grain size experimental density        hardness test temperature yield strength ultimate tensile strength elongation elongation plastic                         doi\n 0                 CrHfNbTaTi  No information       No information  No information              296           1258                      2061       24.3     No information  10.1007.s11837-020-04557-y\n 1                 CrHfNbTaTi  No information       No information  No information              296           1258                      2061       24.3     No information  10.1007.s11837-020-04557-y\n 2                 CrHfNbTaTi  No information       No information  No information              296           1258                      2061       24.3     No information  10.1007.s11837-020-04557-y\n 3                 CrHfNbTaTi  No information       No information  No information              296           1258                      2061       24.3     No information  10.1007.s11837-020-04557-y\n 4                 CrHfNbTaTi  No information       No information  No information              296           1258                      2061       24.3     No information  10.1007.s11837-020-04557-y\n 5                 CrHfNbTaTi  No information       No information  No information              296           1258                      2061       24.3     No information  10.1007.s11837-020-04557-y\n 6                 CrHfNbTaTi  No information       No information  No information              296           1258                      2061       24.3     No information  10.1007.s11837-020-04557-y\n 7                 CrHfNbTaTi  No information       No information  No information              296           1258                      2061       24.3     No information  10.1007.s11837-020-04557-y\n 8                 CrHfNbTaTi  No information       No information  No information              296           1258                      2061       24.3     No information  10.1007.s11837-020-04557-y,\n                                             WNbMoTaV                                           AlCrMoTi                                         AlCrMoNbTi                                         HfNbTaTiZr                                         HfMoTaTiZr  \\\n 0  {'grain size': 'No information', 'experimental...  {'grain size': 'No information', 'experimental...  {'grain size': 'No information', 'experimental...  {'grain size': 'No information', 'experimental...  {'grain size': 'No information', 'experimental...   \n 1  {'grain size': 'No information', 'experimental...  {'grain size': 'No information', 'experimental...  {'grain size': 'No information', 'experimental...  {'grain size': 'No information', 'experimental...  {'grain size': 'No information', 'experimental...   \n 2  {'grain size': 'No information', 'experimental...  {'grain size': 'No information', 'experimental...  {'grain size': 'No information', 'experimental...  {'grain size': 'No information', 'experimental...  {'grain size': 'No information', 'experimental...   \n 3  {'grain size': 'No information', 'experimental...  {'grain size': 'No information', 'experimental...  {'grain size': 'No information', 'experimental...  {'grain size': 'No information', 'experimental...  {'grain size': 'No information', 'experimental...   \n 4  {'grain size': 'No information', 'experimental...  {'grain size': 'No information', 'experimental...  {'grain size': 'No information', 'experimental...  {'grain size': 'No information', 'experimental...  {'grain size': 'No information', 'experimental...   \n 5  {'grain size': 'No information', 'experimental...  {'grain size': 'No information', 'experimental...  {'grain size': 'No information', 'experimental...  {'grain size': 'No information', 'experimental...  {'grain size': 'No information', 'experimental...   \n 6  {'grain size': 'No information', 'experimental...  {'grain size': 'No information', 'experimental...  {'grain size': 'No information', 'experimental...  {'grain size': 'No information', 'experimental...  {'grain size': 'No information', 'experimental...   \n 7  {'grain size': 'No information', 'experimental...  {'grain size': 'No information', 'experimental...  {'grain size': 'No information', 'experimental...  {'grain size': 'No information', 'experimental...  {'grain size': 'No information', 'experimental...   \n 8  {'grain size': 'No information', 'experimental...  {'grain size': 'No information', 'experimental...  {'grain size': 'No information', 'experimental...  {'grain size': 'No information', 'experimental...  {'grain size': 'No information', 'experimental...   \n 9  {'grain size': 'No information', 'experimental...  {'grain size': 'No information', 'experimental...  {'grain size': 'No information', 'experimental...  {'grain size': 'No information', 'experimental...  {'grain size': 'No information', 'experimental...   \n \n                                           HfMoNbTiZr                                       HfMoNbTaTiZr                         Al0.3NbTa0.8Ti1.4V0.2Zr1.3                                            MoNbTaW                                           MoNbTaVW                            doi  \n 0  {'grain size': 'No information', 'experimental...  {'grain size': 'No information', 'experimental...  {'grain size': 'No information', 'experimental...  {'grain size': 'No information', 'experimental...  {'grain size': 'No information', 'experimental...  10.1016.j.matchar.2018.07.015  \n 1  {'grain size': 'No information', 'experimental...  {'grain size': 'No information', 'experimental...  {'grain size': 'No information', 'experimental...  {'grain size': 'No information', 'experimental...  {'grain size': 'No information', 'experimental...  10.1016.j.matchar.2018.07.015  \n 2  {'grain size': 'No information', 'experimental...  {'grain size': 'No information', 'experimental...  {'grain size': 'No information', 'experimental...  {'grain size': 'No information', 'experimental...  {'grain size': 'No information', 'experimental...  10.1016.j.matchar.2018.07.015  \n 3  {'grain size': 'No information', 'experimental...  {'grain size': 'No information', 'experimental...  {'grain size': 'No information', 'experimental...  {'grain size': 'No information', 'experimental...  {'grain size': 'No information', 'experimental...  10.1016.j.matchar.2018.07.015  \n 4  {'grain size': 'No information', 'experimental...  {'grain size': 'No information', 'experimental...  {'grain size': 'No information', 'experimental...  {'grain size': 'No information', 'experimental...  {'grain size': 'No information', 'experimental...  10.1016.j.matchar.2018.07.015  \n 5  {'grain size': 'No information', 'experimental...  {'grain size': 'No information', 'experimental...  {'grain size': 'No information', 'experimental...  {'grain size': 'No information', 'experimental...  {'grain size': 'No information', 'experimental...  10.1016.j.matchar.2018.07.015  \n 6  {'grain size': 'No information', 'experimental...  {'grain size': 'No information', 'experimental...  {'grain size': 'No information', 'experimental...  {'grain size': 'No information', 'experimental...  {'grain size': 'No information', 'experimental...  10.1016.j.matchar.2018.07.015  \n 7  {'grain size': 'No information', 'experimental...  {'grain size': 'No information', 'experimental...  {'grain size': 'No information', 'experimental...  {'grain size': 'No information', 'experimental...  {'grain size': 'No information', 'experimental...  10.1016.j.matchar.2018.07.015  \n 8  {'grain size': 'No information', 'experimental...  {'grain size': 'No information', 'experimental...  {'grain size': 'No information', 'experimental...  {'grain size': 'No information', 'experimental...  {'grain size': 'No information', 'experimental...  10.1016.j.matchar.2018.07.015  \n 9  {'grain size': 'No information', 'experimental...  {'grain size': 'No information', 'experimental...  {'grain size': 'No information', 'experimental...  {'grain size': 'No information', 'experimental...  {'grain size': 'No information', 'experimental...  10.1016.j.matchar.2018.07.015  ,\n   high entropy alloy formula      grain size experimental density        hardness test temperature  yield strength ultimate tensile strength  elongation elongation plastic                           doi\n 0          Ti 1.5 ZrNbAl 0.3  No information       No information  No information   No information             876            No information        23.0     No information  10.1016.j.matlet.2021.129428\n 1          Ti 1.5 ZrNbAl 0.3  No information       No information  No information   No information             876            No information        23.0     No information  10.1016.j.matlet.2021.129428\n 2          Ti 1.5 ZrNbAl 0.3  No information       No information  No information   No information             876            No information        23.0     No information  10.1016.j.matlet.2021.129428\n 3          Ti 1.5 ZrNbAl 0.3  No information       No information  No information   No information             876            No information        23.0     No information  10.1016.j.matlet.2021.129428\n 4          Ti 1.5 ZrNbAl 0.3  No information       No information  No information   No information             876            No information        23.0     No information  10.1016.j.matlet.2021.129428\n 5          Ti 1.5 ZrNbAl 0.3  No information       No information  No information   No information             876            No information        23.0     No information  10.1016.j.matlet.2021.129428\n 6          Ti 1.5 ZrNbAl 0.3  No information       No information  No information   No information             876            No information        23.0     No information  10.1016.j.matlet.2021.129428\n 7          Ti 1.5 ZrNbAl 0.3  No information       No information  No information   No information             876            No information        23.0     No information  10.1016.j.matlet.2021.129428\n 8          Ti 1.5 ZrNbAl 0.3  No information       No information  No information   No information             876            No information        23.0     No information  10.1016.j.matlet.2021.129428,\n   high entropy alloy formula  grain size  experimental density        hardness  test temperature  yield strength ultimate tensile strength  elongation elongation plastic                            doi\n 0                    AlNbTiV       300.0                5590.0  No information              22.0          1000.0            No information         5.2     No information  10.1016.j.jallcom.2015.08.224\n 1                    AlNbTiV       300.0                5590.0  No information              22.0          1000.0            No information         5.2     No information  10.1016.j.jallcom.2015.08.224\n 2                    AlNbTiV       300.0                5590.0  No information              22.0          1000.0            No information         5.2     No information  10.1016.j.jallcom.2015.08.224\n 3                    AlNbTiV       300.0                5590.0  No information              22.0          1000.0            No information         5.2     No information  10.1016.j.jallcom.2015.08.224\n 4                    AlNbTiV       300.0                5590.0  No information              22.0          1000.0            No information         5.2     No information  10.1016.j.jallcom.2015.08.224\n 5                    AlNbTiV       300.0                5590.0  No information              22.0          1000.0            No information         5.2     No information  10.1016.j.jallcom.2015.08.224\n 6                    AlNbTiV       300.0                5590.0  No information              22.0          1000.0            No information         5.2     No information  10.1016.j.jallcom.2015.08.224\n 7                    AlNbTiV       300.0                5590.0  No information              22.0          1000.0            No information         5.2     No information  10.1016.j.jallcom.2015.08.224\n 8                    AlNbTiV       300.0                5590.0  No information              22.0          1000.0            No information         5.2     No information  10.1016.j.jallcom.2015.08.224,\n   high entropy alloy formula  grain size  experimental density        hardness  test temperature  yield strength ultimate tensile strength      elongation elongation plastic                         doi\n 0                    CrNbVMo        2.07                  8.03  No information                25            2743            No information  No information     No information  10.1016.j.jmst.2020.07.012\n 1                    CrNbVMo        2.07                  8.03  No information                25            2743            No information  No information     No information  10.1016.j.jmst.2020.07.012\n 2                    CrNbVMo        2.07                  8.03  No information                25            2743            No information  No information     No information  10.1016.j.jmst.2020.07.012\n 3                    CrNbVMo        2.07                  8.03  No information                25            2743            No information  No information     No information  10.1016.j.jmst.2020.07.012\n 4                    CrNbVMo        2.07                  8.03  No information                25            2743            No information  No information     No information  10.1016.j.jmst.2020.07.012\n 5                    CrNbVMo        2.07                  8.03  No information                25            2743            No information  No information     No information  10.1016.j.jmst.2020.07.012\n 6                    CrNbVMo        2.07                  8.03  No information                25            2743            No information  No information     No information  10.1016.j.jmst.2020.07.012\n 7                    CrNbVMo        2.07                  8.03  No information                25            2743            No information  No information     No information  10.1016.j.jmst.2020.07.012\n 8                    CrNbVMo        2.07                  8.03  No information                25            2743            No information  No information     No information  10.1016.j.jmst.2020.07.012,\n   high entropy alloy formula  yield strength                         doi\n 0          HfNb0.25Ta0.2TiZr           748.0  10.1016.j.msea.2021.140798\n 1          HfNb0.25Ta0.2TiZr           748.0  10.1016.j.msea.2021.140798,\n                                         HfMoNbTaTiZr                                         HfMoTaTiZr                                         HfMoNbTiZr                                         HfMoNbTaZr                                         HfMoNbTaTi                doi\n 0  {'yield strength': {'room temperature': 1512, ...  {'yield strength': {'room temperature': 1600, ...  {'yield strength': {'room temperature': 1351, ...  {'yield strength': {'room temperature': 1524, ...  {'yield strength': {'room temperature': 1369, ...  10.3390.e21010015\n 1  {'yield strength': {'room temperature': 1512, ...  {'yield strength': {'room temperature': 1600, ...  {'yield strength': {'room temperature': 1351, ...  {'yield strength': {'room temperature': 1524, ...  {'yield strength': {'room temperature': 1369, ...  10.3390.e21010015\n 2  {'yield strength': {'room temperature': 1512, ...  {'yield strength': {'room temperature': 1600, ...  {'yield strength': {'room temperature': 1351, ...  {'yield strength': {'room temperature': 1524, ...  {'yield strength': {'room temperature': 1369, ...  10.3390.e21010015\n 3  {'yield strength': {'room temperature': 1512, ...  {'yield strength': {'room temperature': 1600, ...  {'yield strength': {'room temperature': 1351, ...  {'yield strength': {'room temperature': 1524, ...  {'yield strength': {'room temperature': 1369, ...  10.3390.e21010015\n 4  {'yield strength': {'room temperature': 1512, ...  {'yield strength': {'room temperature': 1600, ...  {'yield strength': {'room temperature': 1351, ...  {'yield strength': {'room temperature': 1524, ...  {'yield strength': {'room temperature': 1369, ...  10.3390.e21010015,\n                                           HfNbTaTiZr  HfNbTaTiZr annealed at 800 °C for up to 256 hours                     HfNbTaTiZr annealed at 1100 °C                        doi\n 0  {'grain size': '0.18', 'experimental density':...  {'grain size': '0.72', 'experimental density':...  {'grain size': 'No information', 'experimental...  10.1007.s11661-018-4646-8\n 1  {'grain size': '0.18', 'experimental density':...  {'grain size': '0.72', 'experimental density':...  {'grain size': 'No information', 'experimental...  10.1007.s11661-018-4646-8\n 2  {'grain size': '0.18', 'experimental density':...  {'grain size': '0.72', 'experimental density':...  {'grain size': 'No information', 'experimental...  10.1007.s11661-018-4646-8,\n   high entropy alloy formula      grain size  experimental density        hardness test temperature  yield strength ultimate tensile strength      elongation elongation plastic                            doi\n 0                 HfNbTaTiZr  No information                   9.9  No information   No information  No information            No information  No information     No information  10.1016.j.jallcom.2019.05.322\n 1                 HfNbTaTiZr  No information                   9.9  No information   No information  No information            No information  No information     No information  10.1016.j.jallcom.2019.05.322\n 2                 HfNbTaTiZr  No information                   9.9  No information   No information  No information            No information  No information     No information  10.1016.j.jallcom.2019.05.322\n 3                 HfNbTaTiZr  No information                   9.9  No information   No information  No information            No information  No information     No information  10.1016.j.jallcom.2019.05.322\n 4                 HfNbTaTiZr  No information                   9.9  No information   No information  No information            No information  No information     No information  10.1016.j.jallcom.2019.05.322\n 5                 HfNbTaTiZr  No information                   9.9  No information   No information  No information            No information  No information     No information  10.1016.j.jallcom.2019.05.322\n 6                 HfNbTaTiZr  No information                   9.9  No information   No information  No information            No information  No information     No information  10.1016.j.jallcom.2019.05.322\n 7                 HfNbTaTiZr  No information                   9.9  No information   No information  No information            No information  No information     No information  10.1016.j.jallcom.2019.05.322\n 8                 HfNbTaTiZr  No information                   9.9  No information   No information  No information            No information  No information     No information  10.1016.j.jallcom.2019.05.322,\n                                       TiNbTa0.5ZrAl0                                   TiNbTa0.5ZrAl0.2                                   TiNbTa0.5ZrAl0.5                                   TiNbTa0.5ZrAl1.0                  doi\n 0  {'type': 'single BCC structure', 'experimental...  {'type': 'single BCC structure', 'experimental...  {'type': 'single BCC structure, BCC2 at 800°C,...  {'type': 'BCC + HCP dual-phase structure', 'ex...  10.3390.met11030514\n 1  {'type': 'single BCC structure', 'experimental...  {'type': 'single BCC structure', 'experimental...  {'type': 'single BCC structure, BCC2 at 800°C,...  {'type': 'BCC + HCP dual-phase structure', 'ex...  10.3390.met11030514\n 2  {'type': 'single BCC structure', 'experimental...  {'type': 'single BCC structure', 'experimental...  {'type': 'single BCC structure, BCC2 at 800°C,...  {'type': 'BCC + HCP dual-phase structure', 'ex...  10.3390.met11030514\n 3  {'type': 'single BCC structure', 'experimental...  {'type': 'single BCC structure', 'experimental...  {'type': 'single BCC structure, BCC2 at 800°C,...  {'type': 'BCC + HCP dual-phase structure', 'ex...  10.3390.met11030514,\n   high entropy alloy formula      grain size  experimental density  hardness test temperature  yield strength  ultimate tensile strength  elongation elongation plastic                            doi\n 0                   AlNbTiZr  No information                  5.85       422   No information            1509                       1554         8.6     No information  10.1080.02670836.2018.1446267\n 1                   AlNbTiZr  No information                  5.85       422   No information            1509                       1554         8.6     No information  10.1080.02670836.2018.1446267\n 2                   AlNbTiZr  No information                  5.85       422   No information            1509                       1554         8.6     No information  10.1080.02670836.2018.1446267\n 3                   AlNbTiZr  No information                  5.85       422   No information            1509                       1554         8.6     No information  10.1080.02670836.2018.1446267\n 4                   AlNbTiZr  No information                  5.85       422   No information            1509                       1554         8.6     No information  10.1080.02670836.2018.1446267\n 5                   AlNbTiZr  No information                  5.85       422   No information            1509                       1554         8.6     No information  10.1080.02670836.2018.1446267\n 6                   AlNbTiZr  No information                  5.85       422   No information            1509                       1554         8.6     No information  10.1080.02670836.2018.1446267\n 7                   AlNbTiZr  No information                  5.85       422   No information            1509                       1554         8.6     No information  10.1080.02670836.2018.1446267\n 8                   AlNbTiZr  No information                  5.85       422   No information            1509                       1554         8.6     No information  10.1080.02670836.2018.1446267,\n   high entropy alloy formula      grain size experimental density        hardness  test temperature  yield strength ultimate tensile strength      elongation elongation plastic                            doi\n 0             Zr-Nb-Ti-Ta-Hf  No information       No information  No information               300             590            No information  No information     No information  10.1080.14786435.2015.1028506\n 1             Zr-Nb-Ti-Ta-Hf  No information       No information  No information               300             590            No information  No information     No information  10.1080.14786435.2015.1028506\n 2             Zr-Nb-Ti-Ta-Hf  No information       No information  No information               300             590            No information  No information     No information  10.1080.14786435.2015.1028506\n 3             Zr-Nb-Ti-Ta-Hf  No information       No information  No information               300             590            No information  No information     No information  10.1080.14786435.2015.1028506\n 4             Zr-Nb-Ti-Ta-Hf  No information       No information  No information               300             590            No information  No information     No information  10.1080.14786435.2015.1028506\n 5             Zr-Nb-Ti-Ta-Hf  No information       No information  No information               300             590            No information  No information     No information  10.1080.14786435.2015.1028506\n 6             Zr-Nb-Ti-Ta-Hf  No information       No information  No information               300             590            No information  No information     No information  10.1080.14786435.2015.1028506\n 7             Zr-Nb-Ti-Ta-Hf  No information       No information  No information               300             590            No information  No information     No information  10.1080.14786435.2015.1028506\n 8             Zr-Nb-Ti-Ta-Hf  No information       No information  No information               300             590            No information  No information     No information  10.1080.14786435.2015.1028506,\n   high entropy alloy formula      grain size experimental density        hardness  test temperature yield strength ultimate tensile strength      elongation     elongation plastic                         doi\n 0         MoNbRe0.5TaW(TiC)x  No information       No information  No information  Room temperature           1496            No information  No information  Reasonable plasticity  10.1016.j.mtla.2021.101057\n 1         MoNbRe0.5TaW(TiC)x  No information       No information  No information  Room temperature           1496            No information  No information  Reasonable plasticity  10.1016.j.mtla.2021.101057\n 2         MoNbRe0.5TaW(TiC)x  No information       No information  No information  Room temperature           1496            No information  No information  Reasonable plasticity  10.1016.j.mtla.2021.101057\n 3         MoNbRe0.5TaW(TiC)x  No information       No information  No information  Room temperature           1496            No information  No information  Reasonable plasticity  10.1016.j.mtla.2021.101057\n 4         MoNbRe0.5TaW(TiC)x  No information       No information  No information  Room temperature           1496            No information  No information  Reasonable plasticity  10.1016.j.mtla.2021.101057\n 5         MoNbRe0.5TaW(TiC)x  No information       No information  No information  Room temperature           1496            No information  No information  Reasonable plasticity  10.1016.j.mtla.2021.101057\n 6         MoNbRe0.5TaW(TiC)x  No information       No information  No information  Room temperature           1496            No information  No information  Reasonable plasticity  10.1016.j.mtla.2021.101057\n 7         MoNbRe0.5TaW(TiC)x  No information       No information  No information  Room temperature           1496            No information  No information  Reasonable plasticity  10.1016.j.mtla.2021.101057\n 8         MoNbRe0.5TaW(TiC)x  No information       No information  No information  Room temperature           1496            No information  No information  Reasonable plasticity  10.1016.j.mtla.2021.101057,\n   high entropy alloy formula      grain size  experimental density  hardness  test temperature  yield strength ultimate tensile strength  elongation elongation_plastic                            doi\n 0                  MoNbTaTiV  No information                  9.29     443.0              25.0          1400.0            No information        30.0     No information  10.1016.j.jallcom.2016.11.188\n 1                  MoNbTaTiV  No information                  9.29     443.0              25.0          1400.0            No information        30.0     No information  10.1016.j.jallcom.2016.11.188\n 2                  MoNbTaTiV  No information                  9.29     443.0              25.0          1400.0            No information        30.0     No information  10.1016.j.jallcom.2016.11.188\n 3                  MoNbTaTiV  No information                  9.29     443.0              25.0          1400.0            No information        30.0     No information  10.1016.j.jallcom.2016.11.188\n 4                  MoNbTaTiV  No information                  9.29     443.0              25.0          1400.0            No information        30.0     No information  10.1016.j.jallcom.2016.11.188\n 5                  MoNbTaTiV  No information                  9.29     443.0              25.0          1400.0            No information        30.0     No information  10.1016.j.jallcom.2016.11.188\n 6                  MoNbTaTiV  No information                  9.29     443.0              25.0          1400.0            No information        30.0     No information  10.1016.j.jallcom.2016.11.188\n 7                  MoNbTaTiV  No information                  9.29     443.0              25.0          1400.0            No information        30.0     No information  10.1016.j.jallcom.2016.11.188\n 8                  MoNbTaTiV  No information                  9.29     443.0              25.0          1400.0            No information        30.0     No information  10.1016.j.jallcom.2016.11.188,\n   high entropy alloy formula      grain size  experimental density  hardness  test temperature  yield strength ultimate tensile strength      elongation  elongation plastic                           doi\n 0        TiNbTa 0.5 ZrAl 0.5  No information                   6.7     763.0  room temperature          1740.0            No information  No information                12.0  10.1016.j.ijrmhm.2019.105132\n 1        TiNbTa 0.5 ZrAl 0.5  No information                   6.7     763.0  room temperature          1740.0            No information  No information                12.0  10.1016.j.ijrmhm.2019.105132\n 2        TiNbTa 0.5 ZrAl 0.5  No information                   6.7     763.0  room temperature          1740.0            No information  No information                12.0  10.1016.j.ijrmhm.2019.105132\n 3        TiNbTa 0.5 ZrAl 0.5  No information                   6.7     763.0  room temperature          1740.0            No information  No information                12.0  10.1016.j.ijrmhm.2019.105132\n 4        TiNbTa 0.5 ZrAl 0.5  No information                   6.7     763.0  room temperature          1740.0            No information  No information                12.0  10.1016.j.ijrmhm.2019.105132\n 5        TiNbTa 0.5 ZrAl 0.5  No information                   6.7     763.0  room temperature          1740.0            No information  No information                12.0  10.1016.j.ijrmhm.2019.105132\n 6        TiNbTa 0.5 ZrAl 0.5  No information                   6.7     763.0  room temperature          1740.0            No information  No information                12.0  10.1016.j.ijrmhm.2019.105132\n 7        TiNbTa 0.5 ZrAl 0.5  No information                   6.7     763.0  room temperature          1740.0            No information  No information                12.0  10.1016.j.ijrmhm.2019.105132\n 8        TiNbTa 0.5 ZrAl 0.5  No information                   6.7     763.0  room temperature          1740.0            No information  No information                12.0  10.1016.j.ijrmhm.2019.105132,\n   high entropy alloy formula  yield strength                     doi\n 0                  Ta1HfZrTi            1500  10.1002.adma.201701678\n 1                  Ta1HfZrTi            1500  10.1002.adma.201701678,\n                                           NbMoCrTiAl                                           NbMoTiAl                                           MoCrTiAl                        doi\n 0  {'high entropy alloy formula': 'NbMoCr-TiAl', ...  {'high entropy alloy formula': 'NbMoTiAl', 'gr...  {'high entropy alloy formula': 'MoCrTiAl', 'gr...  10.1007.s11661-017-4386-1\n 1  {'high entropy alloy formula': 'NbMoCr-TiAl', ...  {'high entropy alloy formula': 'NbMoTiAl', 'gr...  {'high entropy alloy formula': 'MoCrTiAl', 'gr...  10.1007.s11661-017-4386-1\n 2  {'high entropy alloy formula': 'NbMoCr-TiAl', ...  {'high entropy alloy formula': 'NbMoTiAl', 'gr...  {'high entropy alloy formula': 'MoCrTiAl', 'gr...  10.1007.s11661-017-4386-1,\n                                              Hf-27Ta                                       Hf-21Mo-21Ta                                       Hf-21Nb-21Ta                                        Hf-21Ta-21W                           doi\n 0  {'type': 'high entropy alloy formula', 'grain ...  {'type': 'high entropy alloy formula', 'grain ...  {'type': 'high entropy alloy formula', 'grain ...  {'type': 'high entropy alloy formula', 'grain ...  10.1016.j.ijrmhm.2020.105467\n 1  {'type': 'high entropy alloy formula', 'grain ...  {'type': 'high entropy alloy formula', 'grain ...  {'type': 'high entropy alloy formula', 'grain ...  {'type': 'high entropy alloy formula', 'grain ...  10.1016.j.ijrmhm.2020.105467\n 2  {'type': 'high entropy alloy formula', 'grain ...  {'type': 'high entropy alloy formula', 'grain ...  {'type': 'high entropy alloy formula', 'grain ...  {'type': 'high entropy alloy formula', 'grain ...  10.1016.j.ijrmhm.2020.105467\n 3  {'type': 'high entropy alloy formula', 'grain ...  {'type': 'high entropy alloy formula', 'grain ...  {'type': 'high entropy alloy formula', 'grain ...  {'type': 'high entropy alloy formula', 'grain ...  10.1016.j.ijrmhm.2020.105467,\n   high entropy alloy formula  yield strength                doi\n 0             Al 0.5 NbTiMoV            1625  10.3390.e16020870\n 1             Al 0.5 NbTiMoV            1625  10.3390.e16020870,\n   high entropy alloy formula      grain size experimental density        hardness  test temperature  yield strength ultimate tensile strength      elongation  elongation plastic                         doi\n 0                     NbTaVW  No information       No information  No information               298            1420            No information  No information                  20  10.1016.j.msea.2016.07.102\n 1                     NbTaVW  No information       No information  No information               298            1420            No information  No information                  20  10.1016.j.msea.2016.07.102\n 2                     NbTaVW  No information       No information  No information               298            1420            No information  No information                  20  10.1016.j.msea.2016.07.102\n 3                     NbTaVW  No information       No information  No information               298            1420            No information  No information                  20  10.1016.j.msea.2016.07.102\n 4                     NbTaVW  No information       No information  No information               298            1420            No information  No information                  20  10.1016.j.msea.2016.07.102\n 5                     NbTaVW  No information       No information  No information               298            1420            No information  No information                  20  10.1016.j.msea.2016.07.102\n 6                     NbTaVW  No information       No information  No information               298            1420            No information  No information                  20  10.1016.j.msea.2016.07.102\n 7                     NbTaVW  No information       No information  No information               298            1420            No information  No information                  20  10.1016.j.msea.2016.07.102\n 8                     NbTaVW  No information       No information  No information               298            1420            No information  No information                  20  10.1016.j.msea.2016.07.102,\n   high entropy alloy formula  yield strength                            doi\n 0             TiZrHfV1Nb1Ta1  No information  10.1016.j.jallcom.2021.161187\n 1             TiZrHfV1Nb1Ta1  No information  10.1016.j.jallcom.2021.161187,\n   high entropy alloy formula      grain size  experimental density  hardness  test temperature  yield strength  ultimate tensile strength  elongation elongation plastic                               doi\n 0              Al 0.5 MoTaTi  No information                   9.1      6.67              1273             969                        973           1     No information  10.1016.j.scriptamat.2019.07.033\n 1              Al 0.5 MoTaTi  No information                   9.1      6.67              1273             969                        973           1     No information  10.1016.j.scriptamat.2019.07.033\n 2              Al 0.5 MoTaTi  No information                   9.1      6.67              1273             969                        973           1     No information  10.1016.j.scriptamat.2019.07.033\n 3              Al 0.5 MoTaTi  No information                   9.1      6.67              1273             969                        973           1     No information  10.1016.j.scriptamat.2019.07.033\n 4              Al 0.5 MoTaTi  No information                   9.1      6.67              1273             969                        973           1     No information  10.1016.j.scriptamat.2019.07.033\n 5              Al 0.5 MoTaTi  No information                   9.1      6.67              1273             969                        973           1     No information  10.1016.j.scriptamat.2019.07.033\n 6              Al 0.5 MoTaTi  No information                   9.1      6.67              1273             969                        973           1     No information  10.1016.j.scriptamat.2019.07.033\n 7              Al 0.5 MoTaTi  No information                   9.1      6.67              1273             969                        973           1     No information  10.1016.j.scriptamat.2019.07.033\n 8              Al 0.5 MoTaTi  No information                   9.1      6.67              1273             969                        973           1     No information  10.1016.j.scriptamat.2019.07.033,\n         high entropy alloy formula  grain size experimental density        hardness test temperature  yield strength  ultimate tensile strength  elongation elongation plastic                            doi\n 0  Ti 35 Zr 27.5 Hf 27.5 Nb 5 Ta 5        40.0       No information  No information   No information           540.0                      995.0        23.0     No information  10.1080.21663831.2016.1221861\n 1  Ti 35 Zr 27.5 Hf 27.5 Nb 5 Ta 5        40.0       No information  No information   No information           540.0                      995.0        23.0     No information  10.1080.21663831.2016.1221861\n 2  Ti 35 Zr 27.5 Hf 27.5 Nb 5 Ta 5        40.0       No information  No information   No information           540.0                      995.0        23.0     No information  10.1080.21663831.2016.1221861\n 3  Ti 35 Zr 27.5 Hf 27.5 Nb 5 Ta 5        40.0       No information  No information   No information           540.0                      995.0        23.0     No information  10.1080.21663831.2016.1221861\n 4  Ti 35 Zr 27.5 Hf 27.5 Nb 5 Ta 5        40.0       No information  No information   No information           540.0                      995.0        23.0     No information  10.1080.21663831.2016.1221861\n 5  Ti 35 Zr 27.5 Hf 27.5 Nb 5 Ta 5        40.0       No information  No information   No information           540.0                      995.0        23.0     No information  10.1080.21663831.2016.1221861\n 6  Ti 35 Zr 27.5 Hf 27.5 Nb 5 Ta 5        40.0       No information  No information   No information           540.0                      995.0        23.0     No information  10.1080.21663831.2016.1221861\n 7  Ti 35 Zr 27.5 Hf 27.5 Nb 5 Ta 5        40.0       No information  No information   No information           540.0                      995.0        23.0     No information  10.1080.21663831.2016.1221861\n 8  Ti 35 Zr 27.5 Hf 27.5 Nb 5 Ta 5        40.0       No information  No information   No information           540.0                      995.0        23.0     No information  10.1080.21663831.2016.1221861,\n   high entropy alloy formula  grain size experimental density        hardness test temperature  yield strength ultimate tensile strength  elongation  elongation plastic                           doi\n 0                 HfNbTaTiZr        38.0       No information  No information   No information           958.0            No information        20.0                1.23  10.1016.j.matlet.2016.08.060\n 1                 HfNbTaTiZr        38.0       No information  No information   No information           958.0            No information        20.0                1.23  10.1016.j.matlet.2016.08.060\n 2                 HfNbTaTiZr        38.0       No information  No information   No information           958.0            No information        20.0                1.23  10.1016.j.matlet.2016.08.060\n 3                 HfNbTaTiZr        38.0       No information  No information   No information           958.0            No information        20.0                1.23  10.1016.j.matlet.2016.08.060\n 4                 HfNbTaTiZr        38.0       No information  No information   No information           958.0            No information        20.0                1.23  10.1016.j.matlet.2016.08.060\n 5                 HfNbTaTiZr        38.0       No information  No information   No information           958.0            No information        20.0                1.23  10.1016.j.matlet.2016.08.060\n 6                 HfNbTaTiZr        38.0       No information  No information   No information           958.0            No information        20.0                1.23  10.1016.j.matlet.2016.08.060\n 7                 HfNbTaTiZr        38.0       No information  No information   No information           958.0            No information        20.0                1.23  10.1016.j.matlet.2016.08.060\n 8                 HfNbTaTiZr        38.0       No information  No information   No information           958.0            No information        20.0                1.23  10.1016.j.matlet.2016.08.060,\n   high entropy alloy formula      grain size experimental density        hardness test temperature  yield strength ultimate tensile strength      elongation  elongation plastic                         doi\n 0                    NbMoTaW  No information       No information  No information   No information             996            No information  No information                 1.9  10.1016.j.msea.2017.12.004\n 1                    NbMoTaW  No information       No information  No information   No information             996            No information  No information                 1.9  10.1016.j.msea.2017.12.004\n 2                    NbMoTaW  No information       No information  No information   No information             996            No information  No information                 1.9  10.1016.j.msea.2017.12.004\n 3                    NbMoTaW  No information       No information  No information   No information             996            No information  No information                 1.9  10.1016.j.msea.2017.12.004\n 4                    NbMoTaW  No information       No information  No information   No information             996            No information  No information                 1.9  10.1016.j.msea.2017.12.004\n 5                    NbMoTaW  No information       No information  No information   No information             996            No information  No information                 1.9  10.1016.j.msea.2017.12.004\n 6                    NbMoTaW  No information       No information  No information   No information             996            No information  No information                 1.9  10.1016.j.msea.2017.12.004\n 7                    NbMoTaW  No information       No information  No information   No information             996            No information  No information                 1.9  10.1016.j.msea.2017.12.004\n 8                    NbMoTaW  No information       No information  No information   No information             996            No information  No information                 1.9  10.1016.j.msea.2017.12.004,\n   high entropy alloy formula      grain size  experimental density  hardness  test temperature  yield strength ultimate tensile strength elongation elongation plastic                         doi\n 0             Ti2ZrHf0.5VNb0  No information                  6.47       338               298            1160            No information        >50     No information  10.1007.s40195-019-00921-3\n 1             Ti2ZrHf0.5VNb0  No information                  6.47       338               298            1160            No information        >50     No information  10.1007.s40195-019-00921-3\n 2             Ti2ZrHf0.5VNb0  No information                  6.47       338               298            1160            No information        >50     No information  10.1007.s40195-019-00921-3\n 3             Ti2ZrHf0.5VNb0  No information                  6.47       338               298            1160            No information        >50     No information  10.1007.s40195-019-00921-3\n 4             Ti2ZrHf0.5VNb0  No information                  6.47       338               298            1160            No information        >50     No information  10.1007.s40195-019-00921-3\n 5             Ti2ZrHf0.5VNb0  No information                  6.47       338               298            1160            No information        >50     No information  10.1007.s40195-019-00921-3\n 6             Ti2ZrHf0.5VNb0  No information                  6.47       338               298            1160            No information        >50     No information  10.1007.s40195-019-00921-3\n 7             Ti2ZrHf0.5VNb0  No information                  6.47       338               298            1160            No information        >50     No information  10.1007.s40195-019-00921-3\n 8             Ti2ZrHf0.5VNb0  No information                  6.47       338               298            1160            No information        >50     No information  10.1007.s40195-019-00921-3,\n   high entropy alloy formula grain size experimental density hardness test temperature  yield strength ultimate tensile strength elongation elongation plastic                        doi\n 0                CoCrMoNbTi0        5.5       No information   959.62   No information  No information                    1419.6       5.77     No information  10.1007.s11665-017-2799-z\n 1                CoCrMoNbTi0        5.5       No information   959.62   No information  No information                    1419.6       5.77     No information  10.1007.s11665-017-2799-z\n 2                CoCrMoNbTi0        5.5       No information   959.62   No information  No information                    1419.6       5.77     No information  10.1007.s11665-017-2799-z\n 3                CoCrMoNbTi0        5.5       No information   959.62   No information  No information                    1419.6       5.77     No information  10.1007.s11665-017-2799-z\n 4                CoCrMoNbTi0        5.5       No information   959.62   No information  No information                    1419.6       5.77     No information  10.1007.s11665-017-2799-z\n 5                CoCrMoNbTi0        5.5       No information   959.62   No information  No information                    1419.6       5.77     No information  10.1007.s11665-017-2799-z\n 6                CoCrMoNbTi0        5.5       No information   959.62   No information  No information                    1419.6       5.77     No information  10.1007.s11665-017-2799-z\n 7                CoCrMoNbTi0        5.5       No information   959.62   No information  No information                    1419.6       5.77     No information  10.1007.s11665-017-2799-z\n 8                CoCrMoNbTi0        5.5       No information   959.62   No information  No information                    1419.6       5.77     No information  10.1007.s11665-017-2799-z,\n                                             HfNbTaTi                                           MoNbTaTi                                            WNbTaTi                                           CrMoNbTi                           doi\n 0  {'grain size': 'No information', 'experimental...  {'grain size': 'No information', 'experimental...  {'grain size': 'No information', 'experimental...  {'grain size': 'No information', 'experimental...  10.1016.j.matdes.2018.06.003\n 1  {'grain size': 'No information', 'experimental...  {'grain size': 'No information', 'experimental...  {'grain size': 'No information', 'experimental...  {'grain size': 'No information', 'experimental...  10.1016.j.matdes.2018.06.003\n 2  {'grain size': 'No information', 'experimental...  {'grain size': 'No information', 'experimental...  {'grain size': 'No information', 'experimental...  {'grain size': 'No information', 'experimental...  10.1016.j.matdes.2018.06.003\n 3  {'grain size': 'No information', 'experimental...  {'grain size': 'No information', 'experimental...  {'grain size': 'No information', 'experimental...  {'grain size': 'No information', 'experimental...  10.1016.j.matdes.2018.06.003,\n   high entropy alloy formula      grain size experimental density        hardness test temperature  yield strength ultimate tensile strength      elongation  elongation plastic                         doi\n 0                 TiHfZrTaNb  No information       No information  No information   No information             879            No information  No information                  15  10.1016.j.msea.2015.12.017\n 1                 TiHfZrTaNb  No information       No information  No information   No information             879            No information  No information                  15  10.1016.j.msea.2015.12.017\n 2                 TiHfZrTaNb  No information       No information  No information   No information             879            No information  No information                  15  10.1016.j.msea.2015.12.017\n 3                 TiHfZrTaNb  No information       No information  No information   No information             879            No information  No information                  15  10.1016.j.msea.2015.12.017\n 4                 TiHfZrTaNb  No information       No information  No information   No information             879            No information  No information                  15  10.1016.j.msea.2015.12.017\n 5                 TiHfZrTaNb  No information       No information  No information   No information             879            No information  No information                  15  10.1016.j.msea.2015.12.017\n 6                 TiHfZrTaNb  No information       No information  No information   No information             879            No information  No information                  15  10.1016.j.msea.2015.12.017\n 7                 TiHfZrTaNb  No information       No information  No information   No information             879            No information  No information                  15  10.1016.j.msea.2015.12.017\n 8                 TiHfZrTaNb  No information       No information  No information   No information             879            No information  No information                  15  10.1016.j.msea.2015.12.017,\n   high entropy alloy formula  grain size experimental density        hardness test temperature  yield strength  ultimate tensile strength  elongation  elongation plastic                           doi\n 0    Hf 25 Nb 25 Ti 25 Zr 25         1.0       No information  No information   No information           879.0                      969.0         0.9                14.9  10.1016.j.matlet.2014.05.134\n 1    Hf 25 Nb 25 Ti 25 Zr 25         1.0       No information  No information   No information           879.0                      969.0         0.9                14.9  10.1016.j.matlet.2014.05.134\n 2    Hf 25 Nb 25 Ti 25 Zr 25         1.0       No information  No information   No information           879.0                      969.0         0.9                14.9  10.1016.j.matlet.2014.05.134\n 3    Hf 25 Nb 25 Ti 25 Zr 25         1.0       No information  No information   No information           879.0                      969.0         0.9                14.9  10.1016.j.matlet.2014.05.134\n 4    Hf 25 Nb 25 Ti 25 Zr 25         1.0       No information  No information   No information           879.0                      969.0         0.9                14.9  10.1016.j.matlet.2014.05.134\n 5    Hf 25 Nb 25 Ti 25 Zr 25         1.0       No information  No information   No information           879.0                      969.0         0.9                14.9  10.1016.j.matlet.2014.05.134\n 6    Hf 25 Nb 25 Ti 25 Zr 25         1.0       No information  No information   No information           879.0                      969.0         0.9                14.9  10.1016.j.matlet.2014.05.134\n 7    Hf 25 Nb 25 Ti 25 Zr 25         1.0       No information  No information   No information           879.0                      969.0         0.9                14.9  10.1016.j.matlet.2014.05.134\n 8    Hf 25 Nb 25 Ti 25 Zr 25         1.0       No information  No information   No information           879.0                      969.0         0.9                14.9  10.1016.j.matlet.2014.05.134,\n                                  High Entropy Alloys                doi\n 0  [{'high entropy alloy formula': 'HfNbTaTiZr', ...  10.3390.e21020114,\n   high entropy alloy formula      grain size experimental density  hardness test temperature  yield strength  ultimate tensile strength  elongation elongation plastic                         doi\n 0                  WMoNbCrTi  No information       No information      10.4   No information          2492.0                     2765.0         9.8     No information  10.1007.s11837-019-03432-9\n 1                  WMoNbCrTi  No information       No information      10.4   No information          2492.0                     2765.0         9.8     No information  10.1007.s11837-019-03432-9\n 2                  WMoNbCrTi  No information       No information      10.4   No information          2492.0                     2765.0         9.8     No information  10.1007.s11837-019-03432-9\n 3                  WMoNbCrTi  No information       No information      10.4   No information          2492.0                     2765.0         9.8     No information  10.1007.s11837-019-03432-9\n 4                  WMoNbCrTi  No information       No information      10.4   No information          2492.0                     2765.0         9.8     No information  10.1007.s11837-019-03432-9\n 5                  WMoNbCrTi  No information       No information      10.4   No information          2492.0                     2765.0         9.8     No information  10.1007.s11837-019-03432-9\n 6                  WMoNbCrTi  No information       No information      10.4   No information          2492.0                     2765.0         9.8     No information  10.1007.s11837-019-03432-9\n 7                  WMoNbCrTi  No information       No information      10.4   No information          2492.0                     2765.0         9.8     No information  10.1007.s11837-019-03432-9\n 8                  WMoNbCrTi  No information       No information      10.4   No information          2492.0                     2765.0         9.8     No information  10.1007.s11837-019-03432-9,\n   high entropy alloy formula      grain size experimental density hardness test temperature  yield strength ultimate tensile strength      elongation elongation plastic                     doi\n 0               CuCoNiCrAlFe  No information       No information      133   No information  No information            No information  No information     No information  10.1002.adem.200300567\n 1               CuCoNiCrAlFe  No information       No information      133   No information  No information            No information  No information     No information  10.1002.adem.200300567\n 2               CuCoNiCrAlFe  No information       No information      133   No information  No information            No information  No information     No information  10.1002.adem.200300567\n 3               CuCoNiCrAlFe  No information       No information      133   No information  No information            No information  No information     No information  10.1002.adem.200300567\n 4               CuCoNiCrAlFe  No information       No information      133   No information  No information            No information  No information     No information  10.1002.adem.200300567\n 5               CuCoNiCrAlFe  No information       No information      133   No information  No information            No information  No information     No information  10.1002.adem.200300567\n 6               CuCoNiCrAlFe  No information       No information      133   No information  No information            No information  No information     No information  10.1002.adem.200300567\n 7               CuCoNiCrAlFe  No information       No information      133   No information  No information            No information  No information     No information  10.1002.adem.200300567\n 8               CuCoNiCrAlFe  No information       No information      133   No information  No information            No information  No information     No information  10.1002.adem.200300567,\n                               Al 0.4 Hf 0.6 NbTaTiZr                                            MoNbTaW                                         AlCrMoNbTi                            doi\n 0  {'type': 'single-phase', 'grain size': 'No inf...  {'type': 'single-phase', 'grain size': 'No inf...  {'type': 'multi-phase', 'grain size': 'No info...  10.1016.j.actamat.2019.06.032\n 1  {'type': 'single-phase', 'grain size': 'No inf...  {'type': 'single-phase', 'grain size': 'No inf...  {'type': 'multi-phase', 'grain size': 'No info...  10.1016.j.actamat.2019.06.032\n 2  {'type': 'single-phase', 'grain size': 'No inf...  {'type': 'single-phase', 'grain size': 'No inf...  {'type': 'multi-phase', 'grain size': 'No info...  10.1016.j.actamat.2019.06.032,\n                                              MoNbTaW                                           MoNbTaVW                                         HfMoNbTiZr                                         Al0NbTaTiV                                      Al0.25NbTaTiV  \\\n 0  {'type': 'string', 'grain size': 'No informati...  {'type': 'string', 'grain size': 'No informati...  {'type': 'string', 'grain size': 'No informati...  {'type': 'string', 'grain size': 'No informati...  {'type': 'string', 'grain size': 'No informati...   \n 1  {'type': 'string', 'grain size': 'No informati...  {'type': 'string', 'grain size': 'No informati...  {'type': 'string', 'grain size': 'No informati...  {'type': 'string', 'grain size': 'No informati...  {'type': 'string', 'grain size': 'No informati...   \n 2  {'type': 'string', 'grain size': 'No informati...  {'type': 'string', 'grain size': 'No informati...  {'type': 'string', 'grain size': 'No informati...  {'type': 'string', 'grain size': 'No informati...  {'type': 'string', 'grain size': 'No informati...   \n 3  {'type': 'string', 'grain size': 'No informati...  {'type': 'string', 'grain size': 'No informati...  {'type': 'string', 'grain size': 'No informati...  {'type': 'string', 'grain size': 'No informati...  {'type': 'string', 'grain size': 'No informati...   \n 4  {'type': 'string', 'grain size': 'No informati...  {'type': 'string', 'grain size': 'No informati...  {'type': 'string', 'grain size': 'No informati...  {'type': 'string', 'grain size': 'No informati...  {'type': 'string', 'grain size': 'No informati...   \n 5  {'type': 'string', 'grain size': 'No informati...  {'type': 'string', 'grain size': 'No informati...  {'type': 'string', 'grain size': 'No informati...  {'type': 'string', 'grain size': 'No informati...  {'type': 'string', 'grain size': 'No informati...   \n 6  {'type': 'string', 'grain size': 'No informati...  {'type': 'string', 'grain size': 'No informati...  {'type': 'string', 'grain size': 'No informati...  {'type': 'string', 'grain size': 'No informati...  {'type': 'string', 'grain size': 'No informati...   \n 7  {'type': 'string', 'grain size': 'No informati...  {'type': 'string', 'grain size': 'No informati...  {'type': 'string', 'grain size': 'No informati...  {'type': 'string', 'grain size': 'No informati...  {'type': 'string', 'grain size': 'No informati...   \n 8  {'type': 'string', 'grain size': 'No informati...  {'type': 'string', 'grain size': 'No informati...  {'type': 'string', 'grain size': 'No informati...  {'type': 'string', 'grain size': 'No informati...  {'type': 'string', 'grain size': 'No informati...   \n \n                                   AlMo0.5NbTa0.5TiZr                           Al10Cr20Mo20Nb20Ti20Zr10                            V10Cr20Mo20Nb20Ti20Zr10                           Ta10Cr20Mo20Nb20Ti20Zr10                            doi  \n 0  {'type': 'string', 'grain size': 'No informati...  {'type': 'string', 'grain size': 'No informati...  {'type': 'string', 'grain size': 'No informati...  {'type': 'string', 'grain size': 'No informati...  10.1016.j.jallcom.2020.155700  \n 1  {'type': 'string', 'grain size': 'No informati...  {'type': 'string', 'grain size': 'No informati...  {'type': 'string', 'grain size': 'No informati...  {'type': 'string', 'grain size': 'No informati...  10.1016.j.jallcom.2020.155700  \n 2  {'type': 'string', 'grain size': 'No informati...  {'type': 'string', 'grain size': 'No informati...  {'type': 'string', 'grain size': 'No informati...  {'type': 'string', 'grain size': 'No informati...  10.1016.j.jallcom.2020.155700  \n 3  {'type': 'string', 'grain size': 'No informati...  {'type': 'string', 'grain size': 'No informati...  {'type': 'string', 'grain size': 'No informati...  {'type': 'string', 'grain size': 'No informati...  10.1016.j.jallcom.2020.155700  \n 4  {'type': 'string', 'grain size': 'No informati...  {'type': 'string', 'grain size': 'No informati...  {'type': 'string', 'grain size': 'No informati...  {'type': 'string', 'grain size': 'No informati...  10.1016.j.jallcom.2020.155700  \n 5  {'type': 'string', 'grain size': 'No informati...  {'type': 'string', 'grain size': 'No informati...  {'type': 'string', 'grain size': 'No informati...  {'type': 'string', 'grain size': 'No informati...  10.1016.j.jallcom.2020.155700  \n 6  {'type': 'string', 'grain size': 'No informati...  {'type': 'string', 'grain size': 'No informati...  {'type': 'string', 'grain size': 'No informati...  {'type': 'string', 'grain size': 'No informati...  10.1016.j.jallcom.2020.155700  \n 7  {'type': 'string', 'grain size': 'No informati...  {'type': 'string', 'grain size': 'No informati...  {'type': 'string', 'grain size': 'No informati...  {'type': 'string', 'grain size': 'No informati...  10.1016.j.jallcom.2020.155700  \n 8  {'type': 'string', 'grain size': 'No informati...  {'type': 'string', 'grain size': 'No informati...  {'type': 'string', 'grain size': 'No informati...  {'type': 'string', 'grain size': 'No informati...  10.1016.j.jallcom.2020.155700  ,\n   high entropy alloy formula  grain size  experimental density  hardness  test temperature  yield strength  ultimate tensile strength  elongation elongation plastic                           doi\n 0                    AlNbTiV       300.0                  5.59    4315.0              20.0          1020.0                     1318.0         5.0     No information  10.1016.j.matlet.2014.11.162\n 1                    AlNbTiV       300.0                  5.59    4315.0              20.0          1020.0                     1318.0         5.0     No information  10.1016.j.matlet.2014.11.162\n 2                    AlNbTiV       300.0                  5.59    4315.0              20.0          1020.0                     1318.0         5.0     No information  10.1016.j.matlet.2014.11.162\n 3                    AlNbTiV       300.0                  5.59    4315.0              20.0          1020.0                     1318.0         5.0     No information  10.1016.j.matlet.2014.11.162\n 4                    AlNbTiV       300.0                  5.59    4315.0              20.0          1020.0                     1318.0         5.0     No information  10.1016.j.matlet.2014.11.162\n 5                    AlNbTiV       300.0                  5.59    4315.0              20.0          1020.0                     1318.0         5.0     No information  10.1016.j.matlet.2014.11.162\n 6                    AlNbTiV       300.0                  5.59    4315.0              20.0          1020.0                     1318.0         5.0     No information  10.1016.j.matlet.2014.11.162\n 7                    AlNbTiV       300.0                  5.59    4315.0              20.0          1020.0                     1318.0         5.0     No information  10.1016.j.matlet.2014.11.162\n 8                    AlNbTiV       300.0                  5.59    4315.0              20.0          1020.0                     1318.0         5.0     No information  10.1016.j.matlet.2014.11.162,\n                                              NbTiVZr                                           NbTiV2Zr                                           CrNbTiZr                                          CrNbTiVZr                            doi\n 0  {'type': 'string', 'grain size': 'No informati...  {'type': 'string', 'grain size': 'No informati...  {'type': 'string', 'grain size': 'No informati...  {'type': 'string', 'grain size': 'No informati...  10.1016.j.actamat.2012.11.032\n 1  {'type': 'string', 'grain size': 'No informati...  {'type': 'string', 'grain size': 'No informati...  {'type': 'string', 'grain size': 'No informati...  {'type': 'string', 'grain size': 'No informati...  10.1016.j.actamat.2012.11.032\n 2  {'type': 'string', 'grain size': 'No informati...  {'type': 'string', 'grain size': 'No informati...  {'type': 'string', 'grain size': 'No informati...  {'type': 'string', 'grain size': 'No informati...  10.1016.j.actamat.2012.11.032\n 3  {'type': 'string', 'grain size': 'No informati...  {'type': 'string', 'grain size': 'No informati...  {'type': 'string', 'grain size': 'No informati...  {'type': 'string', 'grain size': 'No informati...  10.1016.j.actamat.2012.11.032,\n     high entropy alloy formula      grain size experimental density        hardness test temperature                                     yield strength ultimate tensile strength      elongation elongation plastic                         doi\n 0  (Ta25-xNb25Zr25Ti25+x)95Al5  No information       No information  No information   No information  [{'x=0': 1762, 'x=5': 1509, 'x=10': 1243}, {'x...            No information  No information     No information  10.1007.s42864-021-00111-8\n 1  (Ta25-xNb25Zr25Ti25+x)95Al5  No information       No information  No information   No information  [{'x=0': 1762, 'x=5': 1509, 'x=10': 1243}, {'x...            No information  No information     No information  10.1007.s42864-021-00111-8\n 2  (Ta25-xNb25Zr25Ti25+x)95Al5  No information       No information  No information   No information  [{'x=0': 1762, 'x=5': 1509, 'x=10': 1243}, {'x...            No information  No information     No information  10.1007.s42864-021-00111-8\n 3  (Ta25-xNb25Zr25Ti25+x)95Al5  No information       No information  No information   No information  [{'x=0': 1762, 'x=5': 1509, 'x=10': 1243}, {'x...            No information  No information     No information  10.1007.s42864-021-00111-8\n 4  (Ta25-xNb25Zr25Ti25+x)95Al5  No information       No information  No information   No information  [{'x=0': 1762, 'x=5': 1509, 'x=10': 1243}, {'x...            No information  No information     No information  10.1007.s42864-021-00111-8\n 5  (Ta25-xNb25Zr25Ti25+x)95Al5  No information       No information  No information   No information  [{'x=0': 1762, 'x=5': 1509, 'x=10': 1243}, {'x...            No information  No information     No information  10.1007.s42864-021-00111-8\n 6  (Ta25-xNb25Zr25Ti25+x)95Al5  No information       No information  No information   No information  [{'x=0': 1762, 'x=5': 1509, 'x=10': 1243}, {'x...            No information  No information     No information  10.1007.s42864-021-00111-8\n 7  (Ta25-xNb25Zr25Ti25+x)95Al5  No information       No information  No information   No information  [{'x=0': 1762, 'x=5': 1509, 'x=10': 1243}, {'x...            No information  No information     No information  10.1007.s42864-021-00111-8\n 8  (Ta25-xNb25Zr25Ti25+x)95Al5  No information       No information  No information   No information  [{'x=0': 1762, 'x=5': 1509, 'x=10': 1243}, {'x...            No information  No information     No information  10.1007.s42864-021-00111-8,\n   high entropy alloy formula  yield strength                         doi\n 0                Ta0.4HfZrTi             0.4  10.1016.j.jmst.2020.10.073\n 1                Ta0.4HfZrTi             0.4  10.1016.j.jmst.2020.10.073,\n   high entropy alloy formula  grain size experimental density        hardness  test temperature  yield strength ultimate tensile strength      elongation elongation plastic                           doi\n 0                 Nb-Mo-Ta-W         150       No information  No information                25             390            No information  No information     No information  10.1016.j.ijrmhm.2020.105370\n 1                 Nb-Mo-Ta-W         150       No information  No information                25             390            No information  No information     No information  10.1016.j.ijrmhm.2020.105370\n 2                 Nb-Mo-Ta-W         150       No information  No information                25             390            No information  No information     No information  10.1016.j.ijrmhm.2020.105370\n 3                 Nb-Mo-Ta-W         150       No information  No information                25             390            No information  No information     No information  10.1016.j.ijrmhm.2020.105370\n 4                 Nb-Mo-Ta-W         150       No information  No information                25             390            No information  No information     No information  10.1016.j.ijrmhm.2020.105370\n 5                 Nb-Mo-Ta-W         150       No information  No information                25             390            No information  No information     No information  10.1016.j.ijrmhm.2020.105370\n 6                 Nb-Mo-Ta-W         150       No information  No information                25             390            No information  No information     No information  10.1016.j.ijrmhm.2020.105370\n 7                 Nb-Mo-Ta-W         150       No information  No information                25             390            No information  No information     No information  10.1016.j.ijrmhm.2020.105370\n 8                 Nb-Mo-Ta-W         150       No information  No information                25             390            No information  No information     No information  10.1016.j.ijrmhm.2020.105370,\n   high entropy alloy formula      grain size experimental density        hardness test temperature yield strength ultimate tensile strength      elongation elongation plastic                         doi\n 0                     TaTiZr  No information                 9.56  No information               25           1671            No information  No information     No information  10.1016.j.msea.2021.141168\n 1                     TaTiZr  No information                 9.56  No information               25           1671            No information  No information     No information  10.1016.j.msea.2021.141168\n 2                     TaTiZr  No information                 9.56  No information               25           1671            No information  No information     No information  10.1016.j.msea.2021.141168\n 3                     TaTiZr  No information                 9.56  No information               25           1671            No information  No information     No information  10.1016.j.msea.2021.141168\n 4                     TaTiZr  No information                 9.56  No information               25           1671            No information  No information     No information  10.1016.j.msea.2021.141168\n 5                     TaTiZr  No information                 9.56  No information               25           1671            No information  No information     No information  10.1016.j.msea.2021.141168\n 6                     TaTiZr  No information                 9.56  No information               25           1671            No information  No information     No information  10.1016.j.msea.2021.141168\n 7                     TaTiZr  No information                 9.56  No information               25           1671            No information  No information     No information  10.1016.j.msea.2021.141168\n 8                     TaTiZr  No information                 9.56  No information               25           1671            No information  No information     No information  10.1016.j.msea.2021.141168,\n                                           HfNbTaTiZr                                           HfNbTaTi                                           HfNbTaZr                                           HfNbTiZr                                           HfTaTiZr  \\\n 0  {'type': 'RHEA', 'grain size': 'No information...  {'type': 'RMEA', 'grain size': 'No information...  {'type': 'RMEA', 'grain size': 'No information...  {'type': 'RMEA', 'grain size': 'No information...  {'type': 'RMEA', 'grain size': 'No information...   \n 1  {'type': 'RHEA', 'grain size': 'No information...  {'type': 'RMEA', 'grain size': 'No information...  {'type': 'RMEA', 'grain size': 'No information...  {'type': 'RMEA', 'grain size': 'No information...  {'type': 'RMEA', 'grain size': 'No information...   \n 2  {'type': 'RHEA', 'grain size': 'No information...  {'type': 'RMEA', 'grain size': 'No information...  {'type': 'RMEA', 'grain size': 'No information...  {'type': 'RMEA', 'grain size': 'No information...  {'type': 'RMEA', 'grain size': 'No information...   \n 3  {'type': 'RHEA', 'grain size': 'No information...  {'type': 'RMEA', 'grain size': 'No information...  {'type': 'RMEA', 'grain size': 'No information...  {'type': 'RMEA', 'grain size': 'No information...  {'type': 'RMEA', 'grain size': 'No information...   \n 4  {'type': 'RHEA', 'grain size': 'No information...  {'type': 'RMEA', 'grain size': 'No information...  {'type': 'RMEA', 'grain size': 'No information...  {'type': 'RMEA', 'grain size': 'No information...  {'type': 'RMEA', 'grain size': 'No information...   \n 5  {'type': 'RHEA', 'grain size': 'No information...  {'type': 'RMEA', 'grain size': 'No information...  {'type': 'RMEA', 'grain size': 'No information...  {'type': 'RMEA', 'grain size': 'No information...  {'type': 'RMEA', 'grain size': 'No information...   \n \n                                             NbTaTiZr                              doi  \n 0  {'type': 'RMEA', 'grain size': 'No information...  10.2320.matertrans.MT-MK2019003  \n 1  {'type': 'RMEA', 'grain size': 'No information...  10.2320.matertrans.MT-MK2019003  \n 2  {'type': 'RMEA', 'grain size': 'No information...  10.2320.matertrans.MT-MK2019003  \n 3  {'type': 'RMEA', 'grain size': 'No information...  10.2320.matertrans.MT-MK2019003  \n 4  {'type': 'RMEA', 'grain size': 'No information...  10.2320.matertrans.MT-MK2019003  \n 5  {'type': 'RMEA', 'grain size': 'No information...  10.2320.matertrans.MT-MK2019003  ,\n   high entropy alloy formula         grain size experimental density           hardness   test temperature     yield strength ultimate tensile strength         elongation elongation plastic                         doi\n 0         {'type': 'string'}  {'type': 'float'}    {'type': 'float'}  {'type': 'float'}  {'type': 'float'}  {'type': 'float'}         {'type': 'float'}  {'type': 'float'}  {'type': 'float'}  10.1016.j.msea.2003.12.011\n 1         {'type': 'string'}  {'type': 'float'}    {'type': 'float'}  {'type': 'float'}  {'type': 'float'}  {'type': 'float'}         {'type': 'float'}  {'type': 'float'}  {'type': 'float'}  10.1016.j.msea.2003.12.011\n 2         {'type': 'string'}  {'type': 'float'}    {'type': 'float'}  {'type': 'float'}  {'type': 'float'}  {'type': 'float'}         {'type': 'float'}  {'type': 'float'}  {'type': 'float'}  10.1016.j.msea.2003.12.011\n 3         {'type': 'string'}  {'type': 'float'}    {'type': 'float'}  {'type': 'float'}  {'type': 'float'}  {'type': 'float'}         {'type': 'float'}  {'type': 'float'}  {'type': 'float'}  10.1016.j.msea.2003.12.011\n 4         {'type': 'string'}  {'type': 'float'}    {'type': 'float'}  {'type': 'float'}  {'type': 'float'}  {'type': 'float'}         {'type': 'float'}  {'type': 'float'}  {'type': 'float'}  10.1016.j.msea.2003.12.011\n 5         {'type': 'string'}  {'type': 'float'}    {'type': 'float'}  {'type': 'float'}  {'type': 'float'}  {'type': 'float'}         {'type': 'float'}  {'type': 'float'}  {'type': 'float'}  10.1016.j.msea.2003.12.011\n 6         {'type': 'string'}  {'type': 'float'}    {'type': 'float'}  {'type': 'float'}  {'type': 'float'}  {'type': 'float'}         {'type': 'float'}  {'type': 'float'}  {'type': 'float'}  10.1016.j.msea.2003.12.011\n 7         {'type': 'string'}  {'type': 'float'}    {'type': 'float'}  {'type': 'float'}  {'type': 'float'}  {'type': 'float'}         {'type': 'float'}  {'type': 'float'}  {'type': 'float'}  10.1016.j.msea.2003.12.011\n 8         {'type': 'string'}  {'type': 'float'}    {'type': 'float'}  {'type': 'float'}  {'type': 'float'}  {'type': 'float'}         {'type': 'float'}  {'type': 'float'}  {'type': 'float'}  10.1016.j.msea.2003.12.011,\n      high entropy alloy formula  hardness  yield strength                         doi\n 0  Co 33 W 07 Al 33 Nb 24 Cr 03    1084.0  No information  10.1038.s41467-019-10533-1\n 1  Co 33 W 07 Al 33 Nb 24 Cr 03    1084.0  No information  10.1038.s41467-019-10533-1\n 2  Co 33 W 07 Al 33 Nb 24 Cr 03    1084.0  No information  10.1038.s41467-019-10533-1,\n                                           HfNbTaTiZr                                         HfMoTaTiZr                                       HfMoNbTaTiZr                             doi\n 0  {'type': 'No information', 'grain size': 'No i...  {'type': 'No information', 'grain size': 'No i...  {'type': 'No information', 'grain size': 'No i...  10.1016.j.intermet.2015.03.013\n 1  {'type': 'No information', 'grain size': 'No i...  {'type': 'No information', 'grain size': 'No i...  {'type': 'No information', 'grain size': 'No i...  10.1016.j.intermet.2015.03.013\n 2  {'type': 'No information', 'grain size': 'No i...  {'type': 'No information', 'grain size': 'No i...  {'type': 'No information', 'grain size': 'No i...  10.1016.j.intermet.2015.03.013,\n   high entropy alloy formula      grain size experimental density        hardness  test temperature  yield strength ultimate tensile strength      elongation  elongation plastic                           doi\n 0        TiNbTa 0.5 ZrAl 0.5  No information       No information  No information              1000            1740            No information  No information                  20  10.1016.j.matlet.2019.03.075\n 1        TiNbTa 0.5 ZrAl 0.5  No information       No information  No information              1000            1740            No information  No information                  20  10.1016.j.matlet.2019.03.075\n 2        TiNbTa 0.5 ZrAl 0.5  No information       No information  No information              1000            1740            No information  No information                  20  10.1016.j.matlet.2019.03.075\n 3        TiNbTa 0.5 ZrAl 0.5  No information       No information  No information              1000            1740            No information  No information                  20  10.1016.j.matlet.2019.03.075\n 4        TiNbTa 0.5 ZrAl 0.5  No information       No information  No information              1000            1740            No information  No information                  20  10.1016.j.matlet.2019.03.075\n 5        TiNbTa 0.5 ZrAl 0.5  No information       No information  No information              1000            1740            No information  No information                  20  10.1016.j.matlet.2019.03.075\n 6        TiNbTa 0.5 ZrAl 0.5  No information       No information  No information              1000            1740            No information  No information                  20  10.1016.j.matlet.2019.03.075\n 7        TiNbTa 0.5 ZrAl 0.5  No information       No information  No information              1000            1740            No information  No information                  20  10.1016.j.matlet.2019.03.075\n 8        TiNbTa 0.5 ZrAl 0.5  No information       No information  No information              1000            1740            No information  No information                  20  10.1016.j.matlet.2019.03.075,\n   high entropy alloy formula      grain size experimental density        hardness  test temperature  yield strength ultimate tensile strength      elongation elongation plastic                            doi\n 0                      NbTiV  No information       No information  No information                23             663            No information  No information     No information  10.1016.j.jallcom.2019.151685\n 1                      NbTiV  No information       No information  No information                23             663            No information  No information     No information  10.1016.j.jallcom.2019.151685\n 2                      NbTiV  No information       No information  No information                23             663            No information  No information     No information  10.1016.j.jallcom.2019.151685\n 3                      NbTiV  No information       No information  No information                23             663            No information  No information     No information  10.1016.j.jallcom.2019.151685\n 4                      NbTiV  No information       No information  No information                23             663            No information  No information     No information  10.1016.j.jallcom.2019.151685\n 5                      NbTiV  No information       No information  No information                23             663            No information  No information     No information  10.1016.j.jallcom.2019.151685\n 6                      NbTiV  No information       No information  No information                23             663            No information  No information     No information  10.1016.j.jallcom.2019.151685\n 7                      NbTiV  No information       No information  No information                23             663            No information  No information     No information  10.1016.j.jallcom.2019.151685\n 8                      NbTiV  No information       No information  No information                23             663            No information  No information     No information  10.1016.j.jallcom.2019.151685,\n   high_entropy alloy formula      grain size experimental density        hardness  test temperature  yield strength  ultimate tensile strength  elongation  elongation plastic                               doi\n 0                 HfNbTaTiZr  No information       No information  No information               573             854                        962       0.128               0.049  10.1016.j.scriptamat.2021.113919\n 1                 HfNbTaTiZr  No information       No information  No information               573             854                        962       0.128               0.049  10.1016.j.scriptamat.2021.113919\n 2                 HfNbTaTiZr  No information       No information  No information               573             854                        962       0.128               0.049  10.1016.j.scriptamat.2021.113919\n 3                 HfNbTaTiZr  No information       No information  No information               573             854                        962       0.128               0.049  10.1016.j.scriptamat.2021.113919\n 4                 HfNbTaTiZr  No information       No information  No information               573             854                        962       0.128               0.049  10.1016.j.scriptamat.2021.113919\n 5                 HfNbTaTiZr  No information       No information  No information               573             854                        962       0.128               0.049  10.1016.j.scriptamat.2021.113919\n 6                 HfNbTaTiZr  No information       No information  No information               573             854                        962       0.128               0.049  10.1016.j.scriptamat.2021.113919\n 7                 HfNbTaTiZr  No information       No information  No information               573             854                        962       0.128               0.049  10.1016.j.scriptamat.2021.113919\n 8                 HfNbTaTiZr  No information       No information  No information               573             854                        962       0.128               0.049  10.1016.j.scriptamat.2021.113919,\n      high entropy alloy formula  grain size  experimental density  hardness  test temperature  yield strength ultimate tensile strength      elongation elongation plastic                                doi\n 0  Ti0.07W0.24Ta0.23V0.23Cr0.22        2.75                    98       714              1200            2034            No information  No information     No information  10.1016.j.matchemphys.2017.06.054\n 1  Ti0.07W0.24Ta0.23V0.23Cr0.22        2.75                    98       714              1200            2034            No information  No information     No information  10.1016.j.matchemphys.2017.06.054\n 2  Ti0.07W0.24Ta0.23V0.23Cr0.22        2.75                    98       714              1200            2034            No information  No information     No information  10.1016.j.matchemphys.2017.06.054\n 3  Ti0.07W0.24Ta0.23V0.23Cr0.22        2.75                    98       714              1200            2034            No information  No information     No information  10.1016.j.matchemphys.2017.06.054\n 4  Ti0.07W0.24Ta0.23V0.23Cr0.22        2.75                    98       714              1200            2034            No information  No information     No information  10.1016.j.matchemphys.2017.06.054\n 5  Ti0.07W0.24Ta0.23V0.23Cr0.22        2.75                    98       714              1200            2034            No information  No information     No information  10.1016.j.matchemphys.2017.06.054\n 6  Ti0.07W0.24Ta0.23V0.23Cr0.22        2.75                    98       714              1200            2034            No information  No information     No information  10.1016.j.matchemphys.2017.06.054\n 7  Ti0.07W0.24Ta0.23V0.23Cr0.22        2.75                    98       714              1200            2034            No information  No information     No information  10.1016.j.matchemphys.2017.06.054\n 8  Ti0.07W0.24Ta0.23V0.23Cr0.22        2.75                    98       714              1200            2034            No information  No information     No information  10.1016.j.matchemphys.2017.06.054,\n   high entropy alloy formula  yield strength                             doi\n 0     Nb 25 Mo 25 Ta 25 W 25            1058  10.1016.j.intermet.2011.01.004\n 1     Nb 25 Mo 25 Ta 25 W 25            1058  10.1016.j.intermet.2011.01.004,\n              high entropy alloy formula      grain size experimental density        hardness test temperature yield strength ultimate tensile strength      elongation elongation plastic                               doi\n 0  Nb 55 Ta 25 Ti 15 Hf 5 (at.%) (NTTH)  No information       No information  No information   No information            620            No information  No information               0.06  10.1016.j.scriptamat.2020.07.006\n 1  Nb 55 Ta 25 Ti 15 Hf 5 (at.%) (NTTH)  No information       No information  No information   No information            620            No information  No information               0.06  10.1016.j.scriptamat.2020.07.006\n 2  Nb 55 Ta 25 Ti 15 Hf 5 (at.%) (NTTH)  No information       No information  No information   No information            620            No information  No information               0.06  10.1016.j.scriptamat.2020.07.006\n 3  Nb 55 Ta 25 Ti 15 Hf 5 (at.%) (NTTH)  No information       No information  No information   No information            620            No information  No information               0.06  10.1016.j.scriptamat.2020.07.006\n 4  Nb 55 Ta 25 Ti 15 Hf 5 (at.%) (NTTH)  No information       No information  No information   No information            620            No information  No information               0.06  10.1016.j.scriptamat.2020.07.006\n 5  Nb 55 Ta 25 Ti 15 Hf 5 (at.%) (NTTH)  No information       No information  No information   No information            620            No information  No information               0.06  10.1016.j.scriptamat.2020.07.006\n 6  Nb 55 Ta 25 Ti 15 Hf 5 (at.%) (NTTH)  No information       No information  No information   No information            620            No information  No information               0.06  10.1016.j.scriptamat.2020.07.006\n 7  Nb 55 Ta 25 Ti 15 Hf 5 (at.%) (NTTH)  No information       No information  No information   No information            620            No information  No information               0.06  10.1016.j.scriptamat.2020.07.006\n 8  Nb 55 Ta 25 Ti 15 Hf 5 (at.%) (NTTH)  No information       No information  No information   No information            620            No information  No information               0.06  10.1016.j.scriptamat.2020.07.006,\n   high entropy alloy formula  yield strength                            doi\n 0                      NbTaW            1460  10.1016.j.jallcom.2021.159740\n 1                      NbTaW            1460  10.1016.j.jallcom.2021.159740,\n   high entropy alloy formula      grain size experimental density        hardness  test temperature  yield strength ultimate tensile strength      elongation  elongation plastic                         doi\n 0                V0.25NbMoTa  No information       No information  No information               293            1017            No information  No information                 9.2  10.1016.j.msea.2021.140848\n 1                V0.25NbMoTa  No information       No information  No information               293            1017            No information  No information                 9.2  10.1016.j.msea.2021.140848\n 2                V0.25NbMoTa  No information       No information  No information               293            1017            No information  No information                 9.2  10.1016.j.msea.2021.140848\n 3                V0.25NbMoTa  No information       No information  No information               293            1017            No information  No information                 9.2  10.1016.j.msea.2021.140848\n 4                V0.25NbMoTa  No information       No information  No information               293            1017            No information  No information                 9.2  10.1016.j.msea.2021.140848\n 5                V0.25NbMoTa  No information       No information  No information               293            1017            No information  No information                 9.2  10.1016.j.msea.2021.140848\n 6                V0.25NbMoTa  No information       No information  No information               293            1017            No information  No information                 9.2  10.1016.j.msea.2021.140848\n 7                V0.25NbMoTa  No information       No information  No information               293            1017            No information  No information                 9.2  10.1016.j.msea.2021.140848\n 8                V0.25NbMoTa  No information       No information  No information               293            1017            No information  No information                 9.2  10.1016.j.msea.2021.140848,\n   high_entropy_alloy_formula  yield_strength                         doi\n 0                 Ti3.6Al0.6           180.0  10.1016.j.msea.2021.141234\n 1                 Ti3.6Al0.6           180.0  10.1016.j.msea.2021.141234,\n      high entropy alloy formula      grain size  experimental density  hardness  test temperature  yield strength ultimate tensile strength  elongation elongation plastic                           doi\n 0  W 10 Mo 27 Cr 21 Ti 22 Al 20  No information                  7.48     511.0            293.15          1245.0            No information         7.7     No information  10.1016.j.vacuum.2020.109614\n 1  W 10 Mo 27 Cr 21 Ti 22 Al 20  No information                  7.48     511.0            293.15          1245.0            No information         7.7     No information  10.1016.j.vacuum.2020.109614\n 2  W 10 Mo 27 Cr 21 Ti 22 Al 20  No information                  7.48     511.0            293.15          1245.0            No information         7.7     No information  10.1016.j.vacuum.2020.109614\n 3  W 10 Mo 27 Cr 21 Ti 22 Al 20  No information                  7.48     511.0            293.15          1245.0            No information         7.7     No information  10.1016.j.vacuum.2020.109614\n 4  W 10 Mo 27 Cr 21 Ti 22 Al 20  No information                  7.48     511.0            293.15          1245.0            No information         7.7     No information  10.1016.j.vacuum.2020.109614\n 5  W 10 Mo 27 Cr 21 Ti 22 Al 20  No information                  7.48     511.0            293.15          1245.0            No information         7.7     No information  10.1016.j.vacuum.2020.109614\n 6  W 10 Mo 27 Cr 21 Ti 22 Al 20  No information                  7.48     511.0            293.15          1245.0            No information         7.7     No information  10.1016.j.vacuum.2020.109614\n 7  W 10 Mo 27 Cr 21 Ti 22 Al 20  No information                  7.48     511.0            293.15          1245.0            No information         7.7     No information  10.1016.j.vacuum.2020.109614\n 8  W 10 Mo 27 Cr 21 Ti 22 Al 20  No information                  7.48     511.0            293.15          1245.0            No information         7.7     No information  10.1016.j.vacuum.2020.109614,\n   high entropy alloy formula  yield strength  ultimate tensile strength  elongation                                     doi\n 0                 VTaTiMoAl0          1221.0                     1454.0        9.93  10.4028.www.scientific.net.MSF.898.638\n 1                 VTaTiMoAl0          1221.0                     1454.0        9.93  10.4028.www.scientific.net.MSF.898.638\n 2                 VTaTiMoAl0          1221.0                     1454.0        9.93  10.4028.www.scientific.net.MSF.898.638\n 3                 VTaTiMoAl0          1221.0                     1454.0        9.93  10.4028.www.scientific.net.MSF.898.638,\n   high entropy alloy formula  yield strength                doi\n 0                    MoNbTaV             1.5  10.3390.e18050189\n 1                    MoNbTaV             1.5  10.3390.e18050189,\n   high entropy alloy formula  grain size  experimental density        hardness  test temperature  yield strength ultimate tensile strength      elongation elongation plastic                           doi\n 0              AlNbTiVZr 0.5        22.0                  5.64  No information              22.0          1430.0            No information  No information     No information  10.1016.j.matlet.2015.08.099\n 1              AlNbTiVZr 0.5        22.0                  5.64  No information              22.0          1430.0            No information  No information     No information  10.1016.j.matlet.2015.08.099\n 2              AlNbTiVZr 0.5        22.0                  5.64  No information              22.0          1430.0            No information  No information     No information  10.1016.j.matlet.2015.08.099\n 3              AlNbTiVZr 0.5        22.0                  5.64  No information              22.0          1430.0            No information  No information     No information  10.1016.j.matlet.2015.08.099\n 4              AlNbTiVZr 0.5        22.0                  5.64  No information              22.0          1430.0            No information  No information     No information  10.1016.j.matlet.2015.08.099\n 5              AlNbTiVZr 0.5        22.0                  5.64  No information              22.0          1430.0            No information  No information     No information  10.1016.j.matlet.2015.08.099\n 6              AlNbTiVZr 0.5        22.0                  5.64  No information              22.0          1430.0            No information  No information     No information  10.1016.j.matlet.2015.08.099\n 7              AlNbTiVZr 0.5        22.0                  5.64  No information              22.0          1430.0            No information  No information     No information  10.1016.j.matlet.2015.08.099\n 8              AlNbTiVZr 0.5        22.0                  5.64  No information              22.0          1430.0            No information  No information     No information  10.1016.j.matlet.2015.08.099,\n   high entropy alloy formula  grain size experimental density  hardness  test temperature  yield strength  ultimate tensile strength  elongation elongation plastic                            doi\n 0                 TiZrNbHfTa          50       No information       530               500  No information                       1900         7.9     No information  10.1016.j.actamat.2017.09.035\n 1                 TiZrNbHfTa          50       No information       530               500  No information                       1900         7.9     No information  10.1016.j.actamat.2017.09.035\n 2                 TiZrNbHfTa          50       No information       530               500  No information                       1900         7.9     No information  10.1016.j.actamat.2017.09.035\n 3                 TiZrNbHfTa          50       No information       530               500  No information                       1900         7.9     No information  10.1016.j.actamat.2017.09.035\n 4                 TiZrNbHfTa          50       No information       530               500  No information                       1900         7.9     No information  10.1016.j.actamat.2017.09.035\n 5                 TiZrNbHfTa          50       No information       530               500  No information                       1900         7.9     No information  10.1016.j.actamat.2017.09.035\n 6                 TiZrNbHfTa          50       No information       530               500  No information                       1900         7.9     No information  10.1016.j.actamat.2017.09.035\n 7                 TiZrNbHfTa          50       No information       530               500  No information                       1900         7.9     No information  10.1016.j.actamat.2017.09.035\n 8                 TiZrNbHfTa          50       No information       530               500  No information                       1900         7.9     No information  10.1016.j.actamat.2017.09.035,\n   high entropy alloy formula  yield strength                             doi\n 0  Mo 0.5 NbHf 0.5 ZrTiC 0.1          1183.0  10.1016.j.intermet.2015.09.011\n 1  Mo 0.5 NbHf 0.5 ZrTiC 0.1          1183.0  10.1016.j.intermet.2015.09.011,\n   high entropy alloy formula      grain size  experimental density        hardness test temperature  yield strength ultimate tensile strength      elongation  elongation plastic                            doi\n 0                     NbTaTi  No information                 10.09  No information   No information             724            No information  No information               0.354  10.1016.j.jallcom.2020.158003\n 1                     NbTaTi  No information                 10.09  No information   No information             724            No information  No information               0.354  10.1016.j.jallcom.2020.158003\n 2                     NbTaTi  No information                 10.09  No information   No information             724            No information  No information               0.354  10.1016.j.jallcom.2020.158003\n 3                     NbTaTi  No information                 10.09  No information   No information             724            No information  No information               0.354  10.1016.j.jallcom.2020.158003\n 4                     NbTaTi  No information                 10.09  No information   No information             724            No information  No information               0.354  10.1016.j.jallcom.2020.158003\n 5                     NbTaTi  No information                 10.09  No information   No information             724            No information  No information               0.354  10.1016.j.jallcom.2020.158003\n 6                     NbTaTi  No information                 10.09  No information   No information             724            No information  No information               0.354  10.1016.j.jallcom.2020.158003\n 7                     NbTaTi  No information                 10.09  No information   No information             724            No information  No information               0.354  10.1016.j.jallcom.2020.158003\n 8                     NbTaTi  No information                 10.09  No information   No information             724            No information  No information               0.354  10.1016.j.jallcom.2020.158003,\n                                               NbTaTi                                           AlNbTaTi                                           MoNbTaTi                                            WNbTaTi                                           HfNbTaTi  \\\n 0  {'grain size': 'No information', 'experimental...  {'grain size': 'No information', 'experimental...  {'grain size': 'No information', 'experimental...  {'grain size': 'No information', 'experimental...  {'grain size': 'No information', 'experimental...   \n 1  {'grain size': 'No information', 'experimental...  {'grain size': 'No information', 'experimental...  {'grain size': 'No information', 'experimental...  {'grain size': 'No information', 'experimental...  {'grain size': 'No information', 'experimental...   \n 2  {'grain size': 'No information', 'experimental...  {'grain size': 'No information', 'experimental...  {'grain size': 'No information', 'experimental...  {'grain size': 'No information', 'experimental...  {'grain size': 'No information', 'experimental...   \n 3  {'grain size': 'No information', 'experimental...  {'grain size': 'No information', 'experimental...  {'grain size': 'No information', 'experimental...  {'grain size': 'No information', 'experimental...  {'grain size': 'No information', 'experimental...   \n 4  {'grain size': 'No information', 'experimental...  {'grain size': 'No information', 'experimental...  {'grain size': 'No information', 'experimental...  {'grain size': 'No information', 'experimental...  {'grain size': 'No information', 'experimental...   \n 5  {'grain size': 'No information', 'experimental...  {'grain size': 'No information', 'experimental...  {'grain size': 'No information', 'experimental...  {'grain size': 'No information', 'experimental...  {'grain size': 'No information', 'experimental...   \n 6  {'grain size': 'No information', 'experimental...  {'grain size': 'No information', 'experimental...  {'grain size': 'No information', 'experimental...  {'grain size': 'No information', 'experimental...  {'grain size': 'No information', 'experimental...   \n \n                                             CrNbMoTi                                           CrMoTaTi                            doi  \n 0  {'grain size': 'No information', 'experimental...  {'grain size': 'No information', 'experimental...  10.1016.j.actamat.2019.06.006  \n 1  {'grain size': 'No information', 'experimental...  {'grain size': 'No information', 'experimental...  10.1016.j.actamat.2019.06.006  \n 2  {'grain size': 'No information', 'experimental...  {'grain size': 'No information', 'experimental...  10.1016.j.actamat.2019.06.006  \n 3  {'grain size': 'No information', 'experimental...  {'grain size': 'No information', 'experimental...  10.1016.j.actamat.2019.06.006  \n 4  {'grain size': 'No information', 'experimental...  {'grain size': 'No information', 'experimental...  10.1016.j.actamat.2019.06.006  \n 5  {'grain size': 'No information', 'experimental...  {'grain size': 'No information', 'experimental...  10.1016.j.actamat.2019.06.006  \n 6  {'grain size': 'No information', 'experimental...  {'grain size': 'No information', 'experimental...  10.1016.j.actamat.2019.06.006  ,\n                                               NbMoTaW                                          V-NbMoTaW                                 NbCrMo0.5Ta0.5TiZr                                 AlMo0.5NbTa0.5TiZr                           AlMo0.5NbTa0.5TiZr_1273K  \\\n 0   {'high entropy alloy formula': 'NbMoTaW', 'gra...  {'high entropy alloy formula': 'V-NbMoTaW', 'g...  {'high entropy alloy formula': 'NbCrMo0.5Ta0.5...  {'high entropy alloy formula': 'AlMo0.5NbTa0.5...  {'high entropy alloy formula': 'AlMo0.5NbTa0.5...   \n 1   {'high entropy alloy formula': 'NbMoTaW', 'gra...  {'high entropy alloy formula': 'V-NbMoTaW', 'g...  {'high entropy alloy formula': 'NbCrMo0.5Ta0.5...  {'high entropy alloy formula': 'AlMo0.5NbTa0.5...  {'high entropy alloy formula': 'AlMo0.5NbTa0.5...   \n 2   {'high entropy alloy formula': 'NbMoTaW', 'gra...  {'high entropy alloy formula': 'V-NbMoTaW', 'g...  {'high entropy alloy formula': 'NbCrMo0.5Ta0.5...  {'high entropy alloy formula': 'AlMo0.5NbTa0.5...  {'high entropy alloy formula': 'AlMo0.5NbTa0.5...   \n 3   {'high entropy alloy formula': 'NbMoTaW', 'gra...  {'high entropy alloy formula': 'V-NbMoTaW', 'g...  {'high entropy alloy formula': 'NbCrMo0.5Ta0.5...  {'high entropy alloy formula': 'AlMo0.5NbTa0.5...  {'high entropy alloy formula': 'AlMo0.5NbTa0.5...   \n 4   {'high entropy alloy formula': 'NbMoTaW', 'gra...  {'high entropy alloy formula': 'V-NbMoTaW', 'g...  {'high entropy alloy formula': 'NbCrMo0.5Ta0.5...  {'high entropy alloy formula': 'AlMo0.5NbTa0.5...  {'high entropy alloy formula': 'AlMo0.5NbTa0.5...   \n 5   {'high entropy alloy formula': 'NbMoTaW', 'gra...  {'high entropy alloy formula': 'V-NbMoTaW', 'g...  {'high entropy alloy formula': 'NbCrMo0.5Ta0.5...  {'high entropy alloy formula': 'AlMo0.5NbTa0.5...  {'high entropy alloy formula': 'AlMo0.5NbTa0.5...   \n 6   {'high entropy alloy formula': 'NbMoTaW', 'gra...  {'high entropy alloy formula': 'V-NbMoTaW', 'g...  {'high entropy alloy formula': 'NbCrMo0.5Ta0.5...  {'high entropy alloy formula': 'AlMo0.5NbTa0.5...  {'high entropy alloy formula': 'AlMo0.5NbTa0.5...   \n 7   {'high entropy alloy formula': 'NbMoTaW', 'gra...  {'high entropy alloy formula': 'V-NbMoTaW', 'g...  {'high entropy alloy formula': 'NbCrMo0.5Ta0.5...  {'high entropy alloy formula': 'AlMo0.5NbTa0.5...  {'high entropy alloy formula': 'AlMo0.5NbTa0.5...   \n 8   {'high entropy alloy formula': 'NbMoTaW', 'gra...  {'high entropy alloy formula': 'V-NbMoTaW', 'g...  {'high entropy alloy formula': 'NbCrMo0.5Ta0.5...  {'high entropy alloy formula': 'AlMo0.5NbTa0.5...  {'high entropy alloy formula': 'AlMo0.5NbTa0.5...   \n 9   {'high entropy alloy formula': 'NbMoTaW', 'gra...  {'high entropy alloy formula': 'V-NbMoTaW', 'g...  {'high entropy alloy formula': 'NbCrMo0.5Ta0.5...  {'high entropy alloy formula': 'AlMo0.5NbTa0.5...  {'high entropy alloy formula': 'AlMo0.5NbTa0.5...   \n 10  {'high entropy alloy formula': 'NbMoTaW', 'gra...  {'high entropy alloy formula': 'V-NbMoTaW', 'g...  {'high entropy alloy formula': 'NbCrMo0.5Ta0.5...  {'high entropy alloy formula': 'AlMo0.5NbTa0.5...  {'high entropy alloy formula': 'AlMo0.5NbTa0.5...   \n 11  {'high entropy alloy formula': 'NbMoTaW', 'gra...  {'high entropy alloy formula': 'V-NbMoTaW', 'g...  {'high entropy alloy formula': 'NbCrMo0.5Ta0.5...  {'high entropy alloy formula': 'AlMo0.5NbTa0.5...  {'high entropy alloy formula': 'AlMo0.5NbTa0.5...   \n \n                                            TaNbHfZrTi                                   CoCr-CuFeNiTix_0                                   CoCr-CuFeNiTix_1                                AlCoCrFeMo0.5Ni_x_0                                AlCoCrFeMo0.5Ni_x_2  \\\n 0   {'high entropy alloy formula': 'TaNbHfZrTi', '...  {'high entropy alloy formula': 'CoCr-CuFeNiTix...  {'high entropy alloy formula': 'CoCr-CuFeNiTix...  {'high entropy alloy formula': 'AlCoCrFeMo0.5N...  {'high entropy alloy formula': 'AlCoCrFeMo0.5N...   \n 1   {'high entropy alloy formula': 'TaNbHfZrTi', '...  {'high entropy alloy formula': 'CoCr-CuFeNiTix...  {'high entropy alloy formula': 'CoCr-CuFeNiTix...  {'high entropy alloy formula': 'AlCoCrFeMo0.5N...  {'high entropy alloy formula': 'AlCoCrFeMo0.5N...   \n 2   {'high entropy alloy formula': 'TaNbHfZrTi', '...  {'high entropy alloy formula': 'CoCr-CuFeNiTix...  {'high entropy alloy formula': 'CoCr-CuFeNiTix...  {'high entropy alloy formula': 'AlCoCrFeMo0.5N...  {'high entropy alloy formula': 'AlCoCrFeMo0.5N...   \n 3   {'high entropy alloy formula': 'TaNbHfZrTi', '...  {'high entropy alloy formula': 'CoCr-CuFeNiTix...  {'high entropy alloy formula': 'CoCr-CuFeNiTix...  {'high entropy alloy formula': 'AlCoCrFeMo0.5N...  {'high entropy alloy formula': 'AlCoCrFeMo0.5N...   \n 4   {'high entropy alloy formula': 'TaNbHfZrTi', '...  {'high entropy alloy formula': 'CoCr-CuFeNiTix...  {'high entropy alloy formula': 'CoCr-CuFeNiTix...  {'high entropy alloy formula': 'AlCoCrFeMo0.5N...  {'high entropy alloy formula': 'AlCoCrFeMo0.5N...   \n 5   {'high entropy alloy formula': 'TaNbHfZrTi', '...  {'high entropy alloy formula': 'CoCr-CuFeNiTix...  {'high entropy alloy formula': 'CoCr-CuFeNiTix...  {'high entropy alloy formula': 'AlCoCrFeMo0.5N...  {'high entropy alloy formula': 'AlCoCrFeMo0.5N...   \n 6   {'high entropy alloy formula': 'TaNbHfZrTi', '...  {'high entropy alloy formula': 'CoCr-CuFeNiTix...  {'high entropy alloy formula': 'CoCr-CuFeNiTix...  {'high entropy alloy formula': 'AlCoCrFeMo0.5N...  {'high entropy alloy formula': 'AlCoCrFeMo0.5N...   \n 7   {'high entropy alloy formula': 'TaNbHfZrTi', '...  {'high entropy alloy formula': 'CoCr-CuFeNiTix...  {'high entropy alloy formula': 'CoCr-CuFeNiTix...  {'high entropy alloy formula': 'AlCoCrFeMo0.5N...  {'high entropy alloy formula': 'AlCoCrFeMo0.5N...   \n 8   {'high entropy alloy formula': 'TaNbHfZrTi', '...  {'high entropy alloy formula': 'CoCr-CuFeNiTix...  {'high entropy alloy formula': 'CoCr-CuFeNiTix...  {'high entropy alloy formula': 'AlCoCrFeMo0.5N...  {'high entropy alloy formula': 'AlCoCrFeMo0.5N...   \n 9   {'high entropy alloy formula': 'TaNbHfZrTi', '...  {'high entropy alloy formula': 'CoCr-CuFeNiTix...  {'high entropy alloy formula': 'CoCr-CuFeNiTix...  {'high entropy alloy formula': 'AlCoCrFeMo0.5N...  {'high entropy alloy formula': 'AlCoCrFeMo0.5N...   \n 10  {'high entropy alloy formula': 'TaNbHfZrTi', '...  {'high entropy alloy formula': 'CoCr-CuFeNiTix...  {'high entropy alloy formula': 'CoCr-CuFeNiTix...  {'high entropy alloy formula': 'AlCoCrFeMo0.5N...  {'high entropy alloy formula': 'AlCoCrFeMo0.5N...   \n 11  {'high entropy alloy formula': 'TaNbHfZrTi', '...  {'high entropy alloy formula': 'CoCr-CuFeNiTix...  {'high entropy alloy formula': 'CoCr-CuFeNiTix...  {'high entropy alloy formula': 'AlCoCrFeMo0.5N...  {'high entropy alloy formula': 'AlCoCrFeMo0.5N...   \n \n                                       AlxCoCrCuFeNi_0                              Equiatomic MoNbHfZrTi                             doi  \n 0   {'high entropy alloy formula': 'AlxCoCrCuFeNi'...  {'high entropy alloy formula': 'MoNbHfZrTi', '...  10.1016.j.intermet.2015.10.011  \n 1   {'high entropy alloy formula': 'AlxCoCrCuFeNi'...  {'high entropy alloy formula': 'MoNbHfZrTi', '...  10.1016.j.intermet.2015.10.011  \n 2   {'high entropy alloy formula': 'AlxCoCrCuFeNi'...  {'high entropy alloy formula': 'MoNbHfZrTi', '...  10.1016.j.intermet.2015.10.011  \n 3   {'high entropy alloy formula': 'AlxCoCrCuFeNi'...  {'high entropy alloy formula': 'MoNbHfZrTi', '...  10.1016.j.intermet.2015.10.011  \n 4   {'high entropy alloy formula': 'AlxCoCrCuFeNi'...  {'high entropy alloy formula': 'MoNbHfZrTi', '...  10.1016.j.intermet.2015.10.011  \n 5   {'high entropy alloy formula': 'AlxCoCrCuFeNi'...  {'high entropy alloy formula': 'MoNbHfZrTi', '...  10.1016.j.intermet.2015.10.011  \n 6   {'high entropy alloy formula': 'AlxCoCrCuFeNi'...  {'high entropy alloy formula': 'MoNbHfZrTi', '...  10.1016.j.intermet.2015.10.011  \n 7   {'high entropy alloy formula': 'AlxCoCrCuFeNi'...  {'high entropy alloy formula': 'MoNbHfZrTi', '...  10.1016.j.intermet.2015.10.011  \n 8   {'high entropy alloy formula': 'AlxCoCrCuFeNi'...  {'high entropy alloy formula': 'MoNbHfZrTi', '...  10.1016.j.intermet.2015.10.011  \n 9   {'high entropy alloy formula': 'AlxCoCrCuFeNi'...  {'high entropy alloy formula': 'MoNbHfZrTi', '...  10.1016.j.intermet.2015.10.011  \n 10  {'high entropy alloy formula': 'AlxCoCrCuFeNi'...  {'high entropy alloy formula': 'MoNbHfZrTi', '...  10.1016.j.intermet.2015.10.011  \n 11  {'high entropy alloy formula': 'AlxCoCrCuFeNi'...  {'high entropy alloy formula': 'MoNbHfZrTi', '...  10.1016.j.intermet.2015.10.011  ]"
     },
     "execution_count": 131,
     "metadata": {},
     "output_type": "execute_result"
    }
   ],
   "source": [
    "extraction_dfs"
   ],
   "metadata": {
    "collapsed": false,
    "ExecuteTime": {
     "end_time": "2024-05-17T19:08:22.090442500Z",
     "start_time": "2024-05-17T19:08:21.036470200Z"
    }
   }
  },
  {
   "cell_type": "code",
   "execution_count": 132,
   "outputs": [],
   "source": [
    "colname_map = {'FORMULA':'high entropy alloy formula',\n",
    "               'PROPERTY: grain size ($\\mu$m)':'grain size',\n",
    "               'PROPERTY: YS (MPa)':'yield strength',\n",
    "               'PROPERTY: Exp. Density (g/cm$^3$)':'experimental density',\n",
    "               'PROPERTY: HV':'hardness',\n",
    "               'PROPERTY: Test temperature ($^\\circ$C)':'test temperature',\n",
    "               'PROPERTY: UTS (MPa)':'ultimate tensile strength',\n",
    "               'PROPERTY: Elongation (%)':'elongation',\n",
    "               'PROPERTY: Elongation plastic (%)':'elongation plastic',\n",
    "               'REFERENCE: doi':'doi'\n",
    "               }"
   ],
   "metadata": {
    "collapsed": false,
    "ExecuteTime": {
     "end_time": "2024-05-17T19:08:22.091443200Z",
     "start_time": "2024-05-17T19:08:21.413503500Z"
    }
   }
  },
  {
   "cell_type": "code",
   "source": [
    "extraction_df = pd.concat(extraction_dfs, axis=0).reset_index(drop=True)\n",
    "# extraction_df.drop(columns=['ultimate tensible strength'], inplace=True)\n",
    "display(extraction_df.shape)\n",
    "columns_to_drop = [col for col in extraction_df.columns if col not in colname_map.values()]\n",
    "extraction_df.drop(columns=columns_to_drop, inplace=True)\n",
    "display(extraction_df)"
   ],
   "metadata": {
    "colab": {
     "base_uri": "https://localhost:8080/",
     "height": 528
    },
    "id": "f452o2oHomFZ",
    "executionInfo": {
     "status": "ok",
     "timestamp": 1707858743640,
     "user_tz": 300,
     "elapsed": 249,
     "user": {
      "displayName": "Satanu Ghosh",
      "userId": "07683061709303200546"
     }
    },
    "outputId": "bafa53a1-68c8-4481-cdc1-59683c8348af",
    "ExecuteTime": {
     "end_time": "2024-05-17T19:08:22.117446600Z",
     "start_time": "2024-05-17T19:08:21.413503500Z"
    }
   },
   "execution_count": 133,
   "outputs": [
    {
     "data": {
      "text/plain": "(860, 91)"
     },
     "metadata": {},
     "output_type": "display_data"
    },
    {
     "data": {
      "text/plain": "    high entropy alloy formula yield strength                             doi      grain size experimental density hardness test temperature ultimate tensile strength      elongation elongation plastic\n0                    MoNbFeCrV           2663      10.1007.s40195-019-00935-x             NaN                  NaN      NaN              NaN                       NaN             NaN                NaN\n1                    MoNbFeCrV           2663      10.1007.s40195-019-00935-x             NaN                  NaN      NaN              NaN                       NaN             NaN                NaN\n2                      NbTaTiV            437   10.1016.j.jallcom.2018.10.230  No information       No information    510.9             1000            No information  No information                 40\n3                      NbTaTiV            437   10.1016.j.jallcom.2018.10.230  No information       No information    510.9             1000            No information  No information                 40\n4                      NbTaTiV            437   10.1016.j.jallcom.2018.10.230  No information       No information    510.9             1000            No information  No information                 40\n..                         ...            ...                             ...             ...                  ...      ...              ...                       ...             ...                ...\n855                        NaN            NaN  10.1016.j.intermet.2015.10.011             NaN                  NaN      NaN              NaN                       NaN             NaN                NaN\n856                        NaN            NaN  10.1016.j.intermet.2015.10.011             NaN                  NaN      NaN              NaN                       NaN             NaN                NaN\n857                        NaN            NaN  10.1016.j.intermet.2015.10.011             NaN                  NaN      NaN              NaN                       NaN             NaN                NaN\n858                        NaN            NaN  10.1016.j.intermet.2015.10.011             NaN                  NaN      NaN              NaN                       NaN             NaN                NaN\n859                        NaN            NaN  10.1016.j.intermet.2015.10.011             NaN                  NaN      NaN              NaN                       NaN             NaN                NaN\n\n[860 rows x 10 columns]",
      "text/html": "<div>\n<style scoped>\n    .dataframe tbody tr th:only-of-type {\n        vertical-align: middle;\n    }\n\n    .dataframe tbody tr th {\n        vertical-align: top;\n    }\n\n    .dataframe thead th {\n        text-align: right;\n    }\n</style>\n<table border=\"1\" class=\"dataframe\">\n  <thead>\n    <tr style=\"text-align: right;\">\n      <th></th>\n      <th>high entropy alloy formula</th>\n      <th>yield strength</th>\n      <th>doi</th>\n      <th>grain size</th>\n      <th>experimental density</th>\n      <th>hardness</th>\n      <th>test temperature</th>\n      <th>ultimate tensile strength</th>\n      <th>elongation</th>\n      <th>elongation plastic</th>\n    </tr>\n  </thead>\n  <tbody>\n    <tr>\n      <th>0</th>\n      <td>MoNbFeCrV</td>\n      <td>2663</td>\n      <td>10.1007.s40195-019-00935-x</td>\n      <td>NaN</td>\n      <td>NaN</td>\n      <td>NaN</td>\n      <td>NaN</td>\n      <td>NaN</td>\n      <td>NaN</td>\n      <td>NaN</td>\n    </tr>\n    <tr>\n      <th>1</th>\n      <td>MoNbFeCrV</td>\n      <td>2663</td>\n      <td>10.1007.s40195-019-00935-x</td>\n      <td>NaN</td>\n      <td>NaN</td>\n      <td>NaN</td>\n      <td>NaN</td>\n      <td>NaN</td>\n      <td>NaN</td>\n      <td>NaN</td>\n    </tr>\n    <tr>\n      <th>2</th>\n      <td>NbTaTiV</td>\n      <td>437</td>\n      <td>10.1016.j.jallcom.2018.10.230</td>\n      <td>No information</td>\n      <td>No information</td>\n      <td>510.9</td>\n      <td>1000</td>\n      <td>No information</td>\n      <td>No information</td>\n      <td>40</td>\n    </tr>\n    <tr>\n      <th>3</th>\n      <td>NbTaTiV</td>\n      <td>437</td>\n      <td>10.1016.j.jallcom.2018.10.230</td>\n      <td>No information</td>\n      <td>No information</td>\n      <td>510.9</td>\n      <td>1000</td>\n      <td>No information</td>\n      <td>No information</td>\n      <td>40</td>\n    </tr>\n    <tr>\n      <th>4</th>\n      <td>NbTaTiV</td>\n      <td>437</td>\n      <td>10.1016.j.jallcom.2018.10.230</td>\n      <td>No information</td>\n      <td>No information</td>\n      <td>510.9</td>\n      <td>1000</td>\n      <td>No information</td>\n      <td>No information</td>\n      <td>40</td>\n    </tr>\n    <tr>\n      <th>...</th>\n      <td>...</td>\n      <td>...</td>\n      <td>...</td>\n      <td>...</td>\n      <td>...</td>\n      <td>...</td>\n      <td>...</td>\n      <td>...</td>\n      <td>...</td>\n      <td>...</td>\n    </tr>\n    <tr>\n      <th>855</th>\n      <td>NaN</td>\n      <td>NaN</td>\n      <td>10.1016.j.intermet.2015.10.011</td>\n      <td>NaN</td>\n      <td>NaN</td>\n      <td>NaN</td>\n      <td>NaN</td>\n      <td>NaN</td>\n      <td>NaN</td>\n      <td>NaN</td>\n    </tr>\n    <tr>\n      <th>856</th>\n      <td>NaN</td>\n      <td>NaN</td>\n      <td>10.1016.j.intermet.2015.10.011</td>\n      <td>NaN</td>\n      <td>NaN</td>\n      <td>NaN</td>\n      <td>NaN</td>\n      <td>NaN</td>\n      <td>NaN</td>\n      <td>NaN</td>\n    </tr>\n    <tr>\n      <th>857</th>\n      <td>NaN</td>\n      <td>NaN</td>\n      <td>10.1016.j.intermet.2015.10.011</td>\n      <td>NaN</td>\n      <td>NaN</td>\n      <td>NaN</td>\n      <td>NaN</td>\n      <td>NaN</td>\n      <td>NaN</td>\n      <td>NaN</td>\n    </tr>\n    <tr>\n      <th>858</th>\n      <td>NaN</td>\n      <td>NaN</td>\n      <td>10.1016.j.intermet.2015.10.011</td>\n      <td>NaN</td>\n      <td>NaN</td>\n      <td>NaN</td>\n      <td>NaN</td>\n      <td>NaN</td>\n      <td>NaN</td>\n      <td>NaN</td>\n    </tr>\n    <tr>\n      <th>859</th>\n      <td>NaN</td>\n      <td>NaN</td>\n      <td>10.1016.j.intermet.2015.10.011</td>\n      <td>NaN</td>\n      <td>NaN</td>\n      <td>NaN</td>\n      <td>NaN</td>\n      <td>NaN</td>\n      <td>NaN</td>\n      <td>NaN</td>\n    </tr>\n  </tbody>\n</table>\n<p>860 rows × 10 columns</p>\n</div>"
     },
     "metadata": {},
     "output_type": "display_data"
    }
   ]
  },
  {
   "cell_type": "code",
   "source": [
    "import numpy as np\n",
    "extraction_df.replace(to_replace='No information', value=np.nan, inplace=True)\n",
    "display(extraction_df.head(3))"
   ],
   "metadata": {
    "colab": {
     "base_uri": "https://localhost:8080/",
     "height": 161
    },
    "id": "btG4iHdHeD4a",
    "executionInfo": {
     "status": "ok",
     "timestamp": 1707858748396,
     "user_tz": 300,
     "elapsed": 202,
     "user": {
      "displayName": "Satanu Ghosh",
      "userId": "07683061709303200546"
     }
    },
    "outputId": "afafce8b-ba5f-48c9-c281-3cb55d6e939c",
    "ExecuteTime": {
     "end_time": "2024-05-17T19:08:22.168447500Z",
     "start_time": "2024-05-17T19:08:21.633520100Z"
    }
   },
   "execution_count": 134,
   "outputs": [
    {
     "data": {
      "text/plain": "  high entropy alloy formula yield strength                            doi grain size experimental density hardness test temperature ultimate tensile strength elongation elongation plastic\n0                  MoNbFeCrV           2663     10.1007.s40195-019-00935-x        NaN                  NaN      NaN              NaN                       NaN        NaN                NaN\n1                  MoNbFeCrV           2663     10.1007.s40195-019-00935-x        NaN                  NaN      NaN              NaN                       NaN        NaN                NaN\n2                    NbTaTiV            437  10.1016.j.jallcom.2018.10.230        NaN                  NaN    510.9             1000                       NaN        NaN                 40",
      "text/html": "<div>\n<style scoped>\n    .dataframe tbody tr th:only-of-type {\n        vertical-align: middle;\n    }\n\n    .dataframe tbody tr th {\n        vertical-align: top;\n    }\n\n    .dataframe thead th {\n        text-align: right;\n    }\n</style>\n<table border=\"1\" class=\"dataframe\">\n  <thead>\n    <tr style=\"text-align: right;\">\n      <th></th>\n      <th>high entropy alloy formula</th>\n      <th>yield strength</th>\n      <th>doi</th>\n      <th>grain size</th>\n      <th>experimental density</th>\n      <th>hardness</th>\n      <th>test temperature</th>\n      <th>ultimate tensile strength</th>\n      <th>elongation</th>\n      <th>elongation plastic</th>\n    </tr>\n  </thead>\n  <tbody>\n    <tr>\n      <th>0</th>\n      <td>MoNbFeCrV</td>\n      <td>2663</td>\n      <td>10.1007.s40195-019-00935-x</td>\n      <td>NaN</td>\n      <td>NaN</td>\n      <td>NaN</td>\n      <td>NaN</td>\n      <td>NaN</td>\n      <td>NaN</td>\n      <td>NaN</td>\n    </tr>\n    <tr>\n      <th>1</th>\n      <td>MoNbFeCrV</td>\n      <td>2663</td>\n      <td>10.1007.s40195-019-00935-x</td>\n      <td>NaN</td>\n      <td>NaN</td>\n      <td>NaN</td>\n      <td>NaN</td>\n      <td>NaN</td>\n      <td>NaN</td>\n      <td>NaN</td>\n    </tr>\n    <tr>\n      <th>2</th>\n      <td>NbTaTiV</td>\n      <td>437</td>\n      <td>10.1016.j.jallcom.2018.10.230</td>\n      <td>NaN</td>\n      <td>NaN</td>\n      <td>510.9</td>\n      <td>1000</td>\n      <td>NaN</td>\n      <td>NaN</td>\n      <td>40</td>\n    </tr>\n  </tbody>\n</table>\n</div>"
     },
     "metadata": {},
     "output_type": "display_data"
    }
   ]
  },
  {
   "cell_type": "markdown",
   "source": [
    "# Aligning extracted and ground-truth papers"
   ],
   "metadata": {
    "id": "z99yTUEeo5Dt"
   }
  },
  {
   "cell_type": "code",
   "source": [
    "paper_df.iloc[0]"
   ],
   "metadata": {
    "colab": {
     "base_uri": "https://localhost:8080/"
    },
    "id": "gCG3loUPqJeZ",
    "executionInfo": {
     "status": "ok",
     "timestamp": 1707858748788,
     "user_tz": 300,
     "elapsed": 281,
     "user": {
      "displayName": "Satanu Ghosh",
      "userId": "07683061709303200546"
     }
    },
    "outputId": "012873f0-370c-428f-e747-bfb7b5e9215e",
    "ExecuteTime": {
     "end_time": "2024-05-17T19:08:22.170447800Z",
     "start_time": "2024-05-17T19:08:21.637519800Z"
    }
   },
   "execution_count": 135,
   "outputs": [
    {
     "data": {
      "text/plain": "IDENTIFIER: Reference ID                                                                  7\nFORMULA                                   Al0.025 Cr0.2 Mo0.2 Nb0.2 Ta0.025 Ti0.2 V0.05 ...\nPROPERTY: Microstructure                                                          BCC+Laves\nPROPERTY: Processing method                                                            CAST\nPROPERTY: BCC/FCC/other                                                               other\nPROPERTY: grain size ($\\mu$m)                                                           NaN\nPROPERTY: Exp. Density (g/cm$^3$)                                                      7.44\nPROPERTY: Computed Density (g/cm$^3$)                                                   7.5\nPROPERTY: HV                                                                            NaN\nPROPERTY: Type of test                                                                    C\nPROPERTY: Test temperature ($^\\circ$C)                                               1000.0\nPROPERTY: YS (MPa)                                                                    669.0\nPROPERTY: UTS (MPa)                                                                     NaN\nPROPERTY: Elongation (%)                                                                NaN\nPROPERTY: Elongation plastic (%)                                                        NaN\nPROPERTY: Exp. Young modulus (GPa)                                                      NaN\nPROPERTY: Computed Young modulus (GPa)                                                185.0\nPROPERTY: O content (wppm)                                                              NaN\nPROPERTY: N content (wppm)                                                              NaN\nPROPERTY: C content (wppm)                                                              NaN\nREFERENCE: doi                                                10.1016/j.jallcom.2020.155700\nREFERENCE: year                                                                      2020.0\nREFERENCE: title                          Combinatorial development of the low-density h...\nName: 0, dtype: object"
     },
     "execution_count": 135,
     "metadata": {},
     "output_type": "execute_result"
    }
   ]
  },
  {
   "cell_type": "code",
   "source": [
    "extraction_df.iloc[0]"
   ],
   "metadata": {
    "colab": {
     "base_uri": "https://localhost:8080/"
    },
    "id": "nfaXtM6AqQh-",
    "executionInfo": {
     "status": "ok",
     "timestamp": 1707858748788,
     "user_tz": 300,
     "elapsed": 91,
     "user": {
      "displayName": "Satanu Ghosh",
      "userId": "07683061709303200546"
     }
    },
    "outputId": "3e7fd92f-4797-41c0-c40c-9dec7eb9b952",
    "ExecuteTime": {
     "end_time": "2024-05-17T19:08:22.170447800Z",
     "start_time": "2024-05-17T19:08:21.656522800Z"
    }
   },
   "execution_count": 136,
   "outputs": [
    {
     "data": {
      "text/plain": "high entropy alloy formula                     MoNbFeCrV\nyield strength                                      2663\ndoi                           10.1007.s40195-019-00935-x\ngrain size                                           NaN\nexperimental density                                 NaN\nhardness                                             NaN\ntest temperature                                     NaN\nultimate tensile strength                            NaN\nelongation                                           NaN\nelongation plastic                                   NaN\nName: 0, dtype: object"
     },
     "execution_count": 136,
     "metadata": {},
     "output_type": "execute_result"
    }
   ]
  },
  {
   "cell_type": "markdown",
   "source": [
    "## Hardcoded column name mapping"
   ],
   "metadata": {
    "id": "-0JSi9zcPwzl"
   }
  },
  {
   "cell_type": "code",
   "source": [
    "for col in extraction_df.columns:\n",
    "  assert col in colname_map.values(), print(col)\n",
    "\n",
    "for col in colname_map.values():\n",
    "  assert col in extraction_df.columns\n",
    "\n",
    "for col in colname_map.keys():\n",
    "  assert col in paper_df.columns, print(col)\n",
    "\n",
    "inverted_colname_map = {value:key for key,value in colname_map.items()}"
   ],
   "metadata": {
    "id": "mQmZzlRVqUDv",
    "ExecuteTime": {
     "end_time": "2024-05-17T19:08:22.895772400Z",
     "start_time": "2024-05-17T19:08:22.292456700Z"
    }
   },
   "execution_count": 137,
   "outputs": []
  },
  {
   "cell_type": "code",
   "source": [
    "extraction_df.columns"
   ],
   "metadata": {
    "colab": {
     "base_uri": "https://localhost:8080/"
    },
    "id": "iP0us9lbxMAM",
    "executionInfo": {
     "status": "ok",
     "timestamp": 1707858748789,
     "user_tz": 300,
     "elapsed": 88,
     "user": {
      "displayName": "Satanu Ghosh",
      "userId": "07683061709303200546"
     }
    },
    "outputId": "97fca2c6-3982-463f-9124-dba32a3a1c41",
    "ExecuteTime": {
     "end_time": "2024-05-17T19:08:23.776838200Z",
     "start_time": "2024-05-17T19:08:23.547820900Z"
    }
   },
   "execution_count": 138,
   "outputs": [
    {
     "data": {
      "text/plain": "Index(['high entropy alloy formula', 'yield strength', 'doi', 'grain size', 'experimental density', 'hardness', 'test temperature', 'ultimate tensile strength', 'elongation', 'elongation plastic'], dtype='object')"
     },
     "execution_count": 138,
     "metadata": {},
     "output_type": "execute_result"
    }
   ]
  },
  {
   "cell_type": "markdown",
   "source": [
    "## Matching up DOIs"
   ],
   "metadata": {
    "id": "aJc4xEkifo4t"
   }
  },
  {
   "cell_type": "code",
   "source": [
    "paper_df['REFERENCE: doi']"
   ],
   "metadata": {
    "colab": {
     "base_uri": "https://localhost:8080/"
    },
    "id": "ScLE_sRir5yZ",
    "executionInfo": {
     "status": "ok",
     "timestamp": 1707858748789,
     "user_tz": 300,
     "elapsed": 86,
     "user": {
      "displayName": "Satanu Ghosh",
      "userId": "07683061709303200546"
     }
    },
    "outputId": "e1094462-d760-4841-d80a-0b92a5e39d18",
    "ExecuteTime": {
     "end_time": "2024-05-17T19:08:25.426893200Z",
     "start_time": "2024-05-17T19:08:25.336889900Z"
    }
   },
   "execution_count": 139,
   "outputs": [
    {
     "data": {
      "text/plain": "0      10.1016/j.jallcom.2020.155700\n1      10.1016/j.jallcom.2020.155700\n2      10.1016/j.jallcom.2020.155700\n3      10.1016/j.jallcom.2020.155700\n4         10.1016/j.msea.2020.139275\n                   ...              \n966       10.1016/j.msea.2021.141168\n967       10.1016/j.msea.2021.141168\n968                10.3390/e21020114\n969       10.1016/j.msea.2003.12.011\n970       10.1016/j.msea.2003.12.011\nName: REFERENCE: doi, Length: 971, dtype: object"
     },
     "execution_count": 139,
     "metadata": {},
     "output_type": "execute_result"
    }
   ]
  },
  {
   "cell_type": "code",
   "source": [
    "extraction_df['doi']"
   ],
   "metadata": {
    "colab": {
     "base_uri": "https://localhost:8080/"
    },
    "id": "xrrRe2E7tCXj",
    "executionInfo": {
     "status": "ok",
     "timestamp": 1707858748789,
     "user_tz": 300,
     "elapsed": 84,
     "user": {
      "displayName": "Satanu Ghosh",
      "userId": "07683061709303200546"
     }
    },
    "outputId": "0a533490-a2df-4993-8ff3-6f0743a4e6fc",
    "ExecuteTime": {
     "end_time": "2024-05-17T19:08:25.944594900Z",
     "start_time": "2024-05-17T19:08:25.846939800Z"
    }
   },
   "execution_count": 140,
   "outputs": [
    {
     "data": {
      "text/plain": "0          10.1007.s40195-019-00935-x\n1          10.1007.s40195-019-00935-x\n2       10.1016.j.jallcom.2018.10.230\n3       10.1016.j.jallcom.2018.10.230\n4       10.1016.j.jallcom.2018.10.230\n                    ...              \n855    10.1016.j.intermet.2015.10.011\n856    10.1016.j.intermet.2015.10.011\n857    10.1016.j.intermet.2015.10.011\n858    10.1016.j.intermet.2015.10.011\n859    10.1016.j.intermet.2015.10.011\nName: doi, Length: 860, dtype: object"
     },
     "execution_count": 140,
     "metadata": {},
     "output_type": "execute_result"
    }
   ]
  },
  {
   "cell_type": "code",
   "source": [
    "#Should be 20 or so uniques, unless there were papers from which satanu couldn't extract anything\n",
    "# extraction_dois = extraction_df['doi'].unique()\n",
    "len(extraction_dois)"
   ],
   "metadata": {
    "colab": {
     "base_uri": "https://localhost:8080/"
    },
    "id": "wbvPLfcMtMgP",
    "executionInfo": {
     "status": "ok",
     "timestamp": 1707858748790,
     "user_tz": 300,
     "elapsed": 82,
     "user": {
      "displayName": "Satanu Ghosh",
      "userId": "07683061709303200546"
     }
    },
    "outputId": "568646eb-3d73-4ff7-a67f-17836db5729c",
    "ExecuteTime": {
     "end_time": "2024-05-17T19:08:26.617971Z",
     "start_time": "2024-05-17T19:08:26.558961200Z"
    }
   },
   "execution_count": 141,
   "outputs": [
    {
     "data": {
      "text/plain": "126"
     },
     "execution_count": 141,
     "metadata": {},
     "output_type": "execute_result"
    }
   ]
  },
  {
   "cell_type": "code",
   "source": [
    "# Two possible ways to find the set of ground-truth records:\n",
    "# 1: match on DOIs from the extraction dataset\n",
    "# 2: Grab the top 20 alphabetical paper titles, which is supposedly what Satanu did\n",
    "\n",
    "# Alphabetical approach not working because the extracted records appear to include the top 21st, 22nd, and 23rd titles,\n",
    "# but are missing 4 titles that are above them (see below for analysis)\n",
    "\n",
    "# DOI matching mostly works, but it is unable to find the 20th paper attempted by Satanu, which means that the performance\n",
    "# will be slightly overestimated, because it will not account for the paper for which, presumably, Satanu's extraction\n",
    "# wasn't able to find anything\n",
    "\n",
    "paper_df['processed_doi'] =  paper_df['REFERENCE: doi'].apply(lambda doi:doi.replace('/','.'))\n",
    "\n",
    "# filtered_paper_df = paper_df[paper_df['processed_doi'].isin(extraction_dois)]\n",
    "\n",
    "# # So this isn't ideal. Should be 20. Need to get list of 20 dois from Satanu, but will continue onward for now.\n",
    "# len(filtered_paper_df['REFERENCE: doi'].unique())\n",
    "first_20_papers = sorted(paper_df['REFERENCE: title'][paper_df['REFERENCE: title'].notnull()].unique())[0:20]\n",
    "alphabetical_filtered_paper_df = paper_df[paper_df['REFERENCE: title'].isin(first_20_papers)]\n",
    "\n",
    "doi_match_filtered_paper_df = paper_df[paper_df['processed_doi'].isin(extraction_dois)]\n",
    "\n",
    "filtered_paper_df =doi_match_filtered_paper_df #Using the DOI matching for now til I resolve things with Satanu\n",
    "\n",
    "print(filtered_paper_df.shape)\n",
    "print('Filtered titles:',len(filtered_paper_df['REFERENCE: title'].unique())) # should be 20\n",
    "print('Filtered DOIs:',len(filtered_paper_df['REFERENCE: doi'].unique())) # should be 20\n",
    "\n",
    "\n",
    "filtered_paper_dois = filtered_paper_df['REFERENCE: doi'].apply(lambda doi:doi.replace('/','.')).unique()\n",
    "\n",
    "overlap = set(filtered_paper_dois).intersection(set(extraction_dois))\n",
    "print('Overlapping DOIs:',len(overlap)) #should be size of smaller set\n",
    "assert len(overlap) == min(len(filtered_paper_dois), len(extraction_dois))"
   ],
   "metadata": {
    "colab": {
     "base_uri": "https://localhost:8080/"
    },
    "id": "4PbhJjVEteFI",
    "executionInfo": {
     "status": "ok",
     "timestamp": 1707858748790,
     "user_tz": 300,
     "elapsed": 79,
     "user": {
      "displayName": "Satanu Ghosh",
      "userId": "07683061709303200546"
     }
    },
    "outputId": "5f4a431b-eb42-4ad1-9f3a-76fdc1f87538",
    "ExecuteTime": {
     "end_time": "2024-05-17T19:08:27.527039Z",
     "start_time": "2024-05-17T19:08:27.427033400Z"
    }
   },
   "execution_count": 142,
   "outputs": [
    {
     "name": "stdout",
     "output_type": "stream",
     "text": [
      "(946, 24)\n",
      "Filtered titles: 126\n",
      "Filtered DOIs: 126\n",
      "Overlapping DOIs: 126\n"
     ]
    }
   ]
  },
  {
   "cell_type": "code",
   "source": [
    "# Analyze the non-overlap between the alphabetical ground truth papers and extracted papers\n",
    "processed_filtered_dois = set(alphabetical_filtered_paper_df['processed_doi'].unique())\n",
    "\n",
    "print('Extracted but not included in the alphabetical filtered paper DF:')\n",
    "extracted_not_filtered_dois = (set(extraction_dois).difference(processed_filtered_dois))\n",
    "print(extracted_not_filtered_dois)\n",
    "display(paper_df[paper_df['processed_doi'].isin(extracted_not_filtered_dois)]['REFERENCE: title'].unique())\n",
    "# So Satanu's extracted results includes some papers which shouldn't be in the alphabetical top 20\n",
    "\n",
    "\n",
    "print('\\nPresent in alphabetical filtered paper df but not extracted')\n",
    "filtered_not_extracted = (set(processed_filtered_dois).difference(extraction_dois))\n",
    "print(filtered_not_extracted)\n",
    "display(paper_df[paper_df['processed_doi'].isin(filtered_not_extracted)]['REFERENCE: title'].unique())\n",
    "# And it excludes some papers which should be in the top 20, alphabetically\n"
   ],
   "metadata": {
    "colab": {
     "base_uri": "https://localhost:8080/",
     "height": 1000
    },
    "id": "C8KNxNjW2Iyb",
    "executionInfo": {
     "status": "ok",
     "timestamp": 1707858748922,
     "user_tz": 300,
     "elapsed": 208,
     "user": {
      "displayName": "Satanu Ghosh",
      "userId": "07683061709303200546"
     }
    },
    "outputId": "64d07419-6c53-48ad-ac8a-8e2ac150d658",
    "ExecuteTime": {
     "end_time": "2024-05-17T19:08:28.066079400Z",
     "start_time": "2024-05-17T19:08:27.983073400Z"
    }
   },
   "execution_count": 143,
   "outputs": [
    {
     "name": "stdout",
     "output_type": "stream",
     "text": [
      "Extracted but not included in the alphabetical filtered paper DF:\n",
      "{'10.1016.j.jmst.2020.07.012', '10.1016.j.jallcom.2015.11.091', '10.3390.e21010015', '10.1016.j.ijrmhm.2020.105370', '10.1016.j.matlet.2019.03.075', '10.1016.j.ijrmhm.2019.105132', '10.1016.j.ijrmhm.2021.105664', '10.1016.j.scriptamat.2020.09.027', '10.1016.j.matlet.2021.129753', '10.1016.j.intermet.2011.01.004', '10.1016.j.scriptamat.2021.114225', '10.1016.j.matlet.2021.129428', '10.1016.j.msea.2015.08.024', '10.1007.s11837-020-04557-y', '10.1016.j.msea.2017.12.004', '10.1179.1743284715Y.0000000032', '10.1016.j.msea.2003.12.011', '10.1016.j.msea.2021.140798', '10.1016.j.msea.2017.12.021', '10.1016.j.matlet.2016.03.133', '10.1007.s40195-019-00935-x', '10.1016.j.jmst.2020.05.038', '10.1016.j.actamat.2017.09.035', '10.1002.adma.201701678', '10.1016.j.ijrmhm.2019.02.009', '10.1016.j.matchar.2021.111287', '10.1016.j.actamat.2019.06.006', '10.1016.j.vacuum.2020.109614', '10.1016.j.ijrmhm.2020.105467', '10.1016.j.intermet.2020.106928', '10.1016.j.intermet.2015.10.011', '10.1016.j.intermet.2017.01.007', '10.1007.s11837-014-1066-0', '10.1088.1757-899X.1014.1.012041', '10.1016.j.msea.2016.07.102', '10.1016.j.msea.2021.140848', '10.1016.j.proeng.2012.03.043', '10.1016.j.jallcom.2016.11.188', '10.1007.s11837-019-03432-9', '10.1016.j.actamat.2017.09.062', '10.1016.j.msea.2015.12.017', '10.1016.j.msea.2017.10.073', '10.1016.j.mtla.2020.100627', '10.1007.s00339-019-2484-1', '10.1016.j.actamat.2012.11.032', '10.1016.j.msea.2021.141168', '10.1016.j.msea.2017.08.019', '10.1016.j.intermet.2021.107323', '10.1016.j.matchar.2015.11.018', '10.1016.j.jallcom.2019.06.138', '10.3390.e16020870', '10.1016.j.jallcom.2020.154301', '10.1007.s11665-017-2799-z', '10.1016.j.scriptamat.2019.07.033', '10.1016.j.matlet.2014.11.162', '10.1016.j.matdes.2018.06.003', '10.1002.adem.200300567', '10.1016.j.actamat.2016.01.018', '10.1016.j.actamat.2018.08.053', '10.1016.j.msea.2012.12.018', '10.1007.s12598-019-01310-6', '10.4028.www.scientific.net.MSF.849.76', '10.1016.j.msea.2021.141234', '10.1016.j.matlet.2016.08.060', '10.4028.www.scientific.net.MSF.898.638', '10.1016.j.jallcom.2018.10.230', '10.1016.j.intermet.2019.04.003', '10.1007.s10853-012-6260-2', '10.1016.j.jallcom.2019.151685', '10.1016.j.scriptamat.2021.113919', '10.1002.adem.202100765', '10.1016.j.matlet.2016.03.092', '10.1016.j.jallcom.2015.07.209', '10.1016.j.jallcom.2021.159190', '10.1016.j.msea.2021.141908', '10.1016.j.intermet.2015.03.013', '10.1016.j.intermet.2019.01.004', '10.1016.j.jallcom.2015.11.050', '10.1016.j.matdes.2015.05.019', '10.1016.j.msea.2020.139275', '10.1080.14786435.2015.1028506', '10.1007.s42864-021-00111-8', '10.1016.j.intermet.2015.09.011', '10.1016.j.jallcom.2014.11.064', '10.1016.j.matlet.2020.127372', '10.1016.j.msec.2016.12.057', '10.1038.s41467-019-10533-1', '10.1016.j.matchemphys.2017.06.054', '10.1016.j.jallcom.2018.11.111', '10.1016.j.matlet.2016.11.030', '10.1007.s11661-018-4646-8', '10.1038.s41563-020-0750-4', '10.1016.j.actamat.2019.06.032', '10.1016.j.jallcom.2021.159740', '10.1016.j.matdes.2015.06.072', '10.2320.matertrans.MT-MK2019003', '10.1016.j.jallcom.2020.157542', '10.3390.e18050189', '10.1016.j.scriptamat.2016.10.028', '10.1016.j.jallcom.2015.08.224', '10.1016.j.jallcom.2016.10.014', '10.3390.met11030514', '10.3390.e21020114', '10.1016.j.ijrmhm.2014.07.009', '10.1016.j.jallcom.2020.158003', '10.1080.02670836.2018.1446267', '10.1016.j.jallcom.2021.161187', '10.1016.j.jallcom.2019.05.322'}\n"
     ]
    },
    {
     "data": {
      "text/plain": "array(['Effects of Al addition on the microstructures and properties of MoNbTaTiV refractory high entropy alloy',\n       'Lightweight Zr1.2V0.8NbTi Al  high-entropy alloys with high tensile strength and ductility',\n       'The mechanical and oxidation properties of novel B2-ordered Ti2ZrHf0.5VNb0.5Alx refractory high-entropy alloys',\n       'Microstructure and Mechanical Properties of VTaTiMoAlsubx/sub Refractory High Entropy Alloys',\n       'Microstructures and mechanical properties of Ta‚ÄìNb‚ÄìZr‚ÄìTi‚ÄìAl refractory high entropy alloys with varying Ta/Ti ratios',\n       'Effects of Al on Precipitation Behavior of Ti-Nb-Ta-Zr Refractory High Entropy Alloys',\n       'Effect of Al addition on mechanical properties and microstructure of refractory AlxHfNbTaTiZr alloys',\n       'High temperature strength of refractory complex concentrated alloys',\n       'Microstructures and Crackling Noise of AlxNbTiMoV High Entropy Alloys',\n       'Microstructure and Compressive Properties of NbTiVTaAlx High Entropy Alloys',\n       'Microstructure and Properties of Aluminum-Containing Refractory High-Entropy Alloys',\n       'Ductile Ti1.5ZrNbAl0.3 refractory high entropy alloy with high specific strength',\n       'Precipitation-strengthened refractory Al 0.5 CrNbTi 2 V 0.5 high entropy alloy',\n       'Temperature dependent deformation behavior and strengthening mechanisms in a low density refractory high entropy alloy Al10Nb15Ta5Ti30Zr40',\n       'Superior mechanical properties and strengthening mechanisms of lightweight AlxCrNbVMo refractory high-entropy alloys (x = 0, 0.5, 1.0) fabricated by the powder metallurgy process',\n       'Precipitation behavior and mechanical properties of a hot-worked TiNbTa0.5ZrAl0.5 refractory high entropy alloy',\n       'Precipitation strengthening in a hot-worked TiNbTa0.5ZrAl0.5 refractory high entropy alloy',\n       'Precipitation behaviour and mechanical properties of a novel Al0.5MoTaTi complex concentrated alloy',\n       'Phase decomposition behavior and its effects on mechanical properties of TiNbTa0.5ZrAl0.5 refractory high entropy alloy',\n       'Precipitation-hardened refractoryTi-Nb-Hf-Al-Ta high-entropy alloys',\n       'Structure and mechanical properties of the AlCrxNbTiV (x¬†=¬†0, 0.5, 1, 1.5) high entropy alloys',\n       'Structure and mechanical properties of B2 ordered refractory AlNbTiVZr x (x = 0‚Äì1.5) high-entropy alloys',\n       'Structure and mechanical properties of an in situ refractory Al20Cr10Nb15Ti20V25Zr10 high entropy alloy composite',\n       'Microstructure and mechanical properties at elevated temperatures of a new Al-containing refractory high-entropy alloy Nb-Mo-Cr-Ti-Al',\n       'Design of a low density refractory high entropy alloy in non-equiatomic W‚ÄìMo‚ÄìCr‚ÄìTi‚ÄìAl system',\n       'Phase equilibria, mechanical properties and design of quaternary refractory high entropy alloys',\n       'Solid-solution strengthening in refractory high entropy alloys',\n       'Structure and mechanical properties of a light-weight AlNbTiV high entropy alloy',\n       'Microstructure and mechanical properties of a novel refractory AlNbTiZr high-entropy alloy',\n       'Effect of Al on structure and mechanical properties of AlxNbTiVZr (x‚Äâ=‚Äâ0, 0.5, 1, 1.5) high entropy alloys',\n       'Materials informatics for the screening of multi-principal elements and high-entropy alloys',\n       'Microstructure and mechanical properties of in-situ MC-carbide particulates-reinforced refractory high-entropy Mo0.5NbHf0.5ZrTi matrix alloy composite',\n       'Microstructure evolution, mechanical properties and strengthening mechanism of refractory high-entropy alloy matrix composites with addition of TaC',\n       'Microstructure and Mechanical Properties of a Refractory CoCrMoNbTi High-Entropy Alloy',\n       'Fabrication, microstructure and mechanical property of a novel Nb-rich refractory high-entropy alloy strengthened by in-situ formation of dispersoids',\n       'Microstructure, Mechanical Properties, and Corrosion Behavior of MoNbFeCrV, MoNbFeCrTi, and MoNbFeVTi High-Entropy Alloys',\n       'Microstructure and Mechanical Properties of a New Refractory Equiatomic CrHfNbTaTi High-Entropy Alloy',\n       'Experimental and theoretical study of Ti20Zr20Hf20Nb20X20 (X=V or Cr) refractory high-entropy alloys',\n       'Influence of alloying elements on mechanical and electronic properties of NbMoTaWX (X¬†=¬†Cr, Zr, V, Hf and Re) refractory high entropy alloys',\n       'Microstructure and Mechanical Properties of WMoNbCrTi HEAs Sintered from the Powders Milled for Different Durations',\n       'Mechanical properties of low-density, refractory multi-principal element alloys of the Cr‚ÄìNb‚ÄìTi‚ÄìV‚ÄìZr system',\n       'The effect of Ti on the sintering and mechanical properties of refractory high-entropy alloy TixWTaVCr fabricated via spark plasma¬†sintering for fusion plasma-facing materials',\n       'Microstructures and mechanical properties of CrNb, CrNbTi, and CrNbTaTi concentrated refractory alloys',\n       'Low-density, refractory multi-principal element alloys of the Cr‚ÄìNb‚ÄìTi‚ÄìV‚ÄìZr system: Microstructure and phase analysis',\n       'Nanostructured High-Entropy Alloys with Multiple Principal Elements: Novel Alloy Design Concepts and Outcomes',\n       'Plastic deformation properties of Zr‚ÄìNb‚ÄìTi‚ÄìTa‚ÄìHf high-entropy alloys',\n       'Microstructure and mechanical properties of refractory high entropy (Mo 0.5 NbHf 0.5 ZrTi) BCC /M 5 Si 3 in-situ compound',\n       'Microstructures and mechanical properties of HfNbTaTiZrW and HfNbTaTiZrMoW refractory high-entropy alloys',\n       'Mechanical properties and thermally activated plasticity of the Ti30Zr25Hf15Nb20Ta10 high entropy alloy at temperatures 4.2‚Äì350 K',\n       'Enhanced mechanical properties of HfMoTaTiZr and HfMoNbTaTiZr refractory high-entropy alloys',\n       'Investigation of phase-transformation path in TiZrHf(VNbTa)x refractory high-entropy alloys and its effect on mechanical property',\n       'Solution strengthening of ductile refractory HfMoxNbTaTiZr high-entropy alloys',\n       'Microstructure and Mechanical Properties of a New Refractory HfNbSisub0.5/subTiVZr High Entropy Alloy',\n       'Effects of Mo, Nb, Ta, Ti, and Zr on Mechanical Properties of Equiatomic Hf-Mo-Nb-Ta-Ti-Zr Alloys',\n       'Effect of composing element on microstructure and mechanical properties in Mo‚ÄìNb‚ÄìHf‚ÄìZr‚ÄìTi multi-principle component alloys',\n       'Microstructure and mechanical properties of refractory MoNbHfZrTi high-entropy alloy',\n       'Strengthening mechanisms and microstructural evolution of ductile refractory medium-entropy alloy Hf20Nb10Ti35Zr35',\n       'Microstructure and elevated temperature properties of a refractory TaNbHfZrTi alloy',\n       'Effect of Cold Deformation and Annealing on the Microstructure and Tensile Properties of a HfNbTaTiZr Refractory High Entropy Alloy',\n       nan,\n       'Study of a bcc multi-principal element alloy: Tensile and simple shear properties and underlying deformation mechanisms',\n       'Microstructure and properties of a refractory high-entropy alloy after cold working',\n       'Temperature dependence of elastic moduli in a refractory HfNbTaTiZr high-entropy alloy',\n       'Mechanical behavior and microstructure of Ti20Hf20Zr20Ta20Nb20 high-entropy alloy loaded under quasi-static and dynamic compression conditions',\n       'Simultaneously increasing the strength and ductility of a refractory high-entropy alloy via grain refining',\n       'On the room temperature deformation mechanisms of a TiZrHfNbTa refractory high-entropy alloy',\n       'Elastic and plastic properties of as-cast equimolar TiHfZrTaNb high-entropy alloy',\n       'On temperature and strain-rate dependence of flow serration in HfNbTaTiZr high-entropy alloy',\n       'Microstructure and Room Temperature Mechanical Properties of Different 3 and 4 Element Medium Entropy Alloys from HfNbTaTiZr System',\n       'Effect of Sc and Y addition on the microstructure and properties of HCP-structured high-entropy alloys',\n       'Microstructure and mechanical properties of refractory HfMo0.5NbTiV0.5Six high-entropy composites',\n       'Microstructure and mechanical properties of a refractory HfNbTiVSi0.5 high-entropy alloy composite',\n       'Ductile Nb alloys with reduced density and cost',\n       'Natural-mixing guided design of refractory high-entropy alloys with as-cast tensile ductility',\n       'New ternary equi-atomic refractory medium-entropy alloys with tensile ductility: Hafnium versus titanium into NbTa-based solution',\n       'Effect of Elemental Combination on Microstructure and Mechanical Properties of Quaternary Refractory Medium Entropy Alloys',\n       'Structural-disorder and its effect on mechanical properties in single-phase TaNbHfZr high-entropy alloy',\n       'Microstructure and mechanical properties of NbZrTi and NbHfZrTi alloys',\n       'Evaluating elastic properties of a body-centered cubic NbHfZrTi high-entropy alloy ‚Äì A direct comparison between experiments and ab initio calculations',\n       'Phase-Transformation Ductilization of Brittle High-Entropy Alloys via Metastability Engineering',\n       'Effects of Nb on deformation-induced transformation and mechanical properties of HfNbxTa0.2TiZr high entropy alloys',\n       'High-temperature mechanical properties and oxidation behavior of Hf-27Ta and Hf-21Ta-21X (X is Nb, Mo or W) alloys',\n       'Phase composition and solid solution strengthening effect in TiZrNbMoV high-entropy alloys',\n       'Mechanical Performance of (NbTaW)1-xMox (x=0, 0.05, 0.15, 0.25) Refractory High Entropy Alloys: Perspective from Experiments and First Principles Calculations',\n       'The effect of configurational entropy on mechanical properties of single BCC structural refractory high-entropy alloys systems',\n       'Effect of Ti additions on mechanical properties of NbMoTaW and VNbMoTaW refractory high entropy alloys',\n       'Microstructure and mechanical properties of RexNbMoTaW high-entropy alloys prepared by arc melting using metal powders',\n       'Microstructures and mechanical properties of (MoNbTa)6TixVy (xÂ\\xa0+Â\\xa0yÂ\\xa0=Â\\xa04) multi-component alloys',\n       'Mechanical properties of refractory high-entropy alloys: Experiments and modeling',\n       'Titanium alloying enhancement of mechanical properties of NbTaMoW refractory high-Entropy alloy: First-principles and experiments perspective',\n       'Microstructures and mechanical properties of Ti NbMoTaW refractory high-entropy alloys',\n       'TiZrNbTaMo high-entropy alloy designed for orthopedic implants: As-cast microstructure and mechanical properties',\n       'Novel TiNbTaZrMo high-entropy alloys for metallic biomaterials',\n       'Mechanical properties of Nb25Mo25Ta25W25 and V20Nb20Mo20Ta20W20 refractory high entropy alloys',\n       'Ultra-high strength WNbMoTaV high-entropy alloys with fine grain structure fabricated by powder metallurgical process',\n       'Ductile W0.4MoNbxTaTi refractory high-entropy alloys with excellent elevated temperature strength',\n       'Effects of vanadium concentration on mechanical properties of V NbMoTa refractory high-entropy alloys',\n       'Designing V NbMoTa refractory high-entropy alloys with improved properties for high-temperature applications',\n       'MoNbTaV Medium-Entropy Alloy',\n       'WReTaMo Refractory Highâ€\\x90Entropy Alloy with High Strength at 1600â€‰Â°C',\n       'NbTaV-(Ti,W) refractory high-entropy alloys: Experiments and modeling',\n       'Effect of the valence electron concentration on the yield strength of Ti‚ÄìZr‚ÄìNb‚ÄìV high-entropy alloys',\n       'Lattice distortion in a strong and ductile refractory high-entropy alloy',\n       'Microstructures and mechanical properties of ductile NbTaTiV refractory high entropy alloy prepared by powder metallurgy',\n       'Microstructure, mechanical properties and oxidation behavior of NbTaTi and NbTaZr refractory alloys',\n       'Novel BCC VNbTa refractory multi-element alloys with superior tensile properties',\n       'Microstructure and properties of an equiatomic TaTiZr alloy',\n       'Effects of Ta content on Young‚Äôs modulus and tensile properties of binary Ti‚ÄìTa alloys for biomedical applications'],\n      dtype=object)"
     },
     "metadata": {},
     "output_type": "display_data"
    },
    {
     "name": "stdout",
     "output_type": "stream",
     "text": [
      "\n",
      "Present in alphabetical filtered paper df but not extracted\n",
      "{'10.1007.s10853-019-03567-9', '10.1016.j.jallcom.2018.11.318'}\n"
     ]
    },
    {
     "data": {
      "text/plain": "array(['A fine-grained NbMoTaWVCr refractory high-entropy alloy with ultra-high strength: Microstructural evolution and mechanical properties',\n       'Correction to: Effect of Si additions on microstructure and mechanical properties of refractory NbTaWMo high-entropy alloys'],\n      dtype=object)"
     },
     "metadata": {},
     "output_type": "display_data"
    }
   ]
  },
  {
   "cell_type": "code",
   "source": [
    "first_20_papers"
   ],
   "metadata": {
    "colab": {
     "base_uri": "https://localhost:8080/"
    },
    "id": "yI7Ko1mV5HQv",
    "executionInfo": {
     "status": "ok",
     "timestamp": 1707858748923,
     "user_tz": 300,
     "elapsed": 41,
     "user": {
      "displayName": "Satanu Ghosh",
      "userId": "07683061709303200546"
     }
    },
    "outputId": "3373676d-3c6e-4617-8bb0-bb8b77486a89",
    "ExecuteTime": {
     "end_time": "2024-05-17T19:08:28.463832700Z",
     "start_time": "2024-05-17T19:08:28.330782900Z"
    }
   },
   "execution_count": 144,
   "outputs": [
    {
     "data": {
      "text/plain": "['A Novel Series of Refractory High-Entropy Alloys Ti2ZrHf0.5VNbx with High Specific Yield Strength and Good Ductility',\n 'A fine-grained NbMoTaWVCr refractory high-entropy alloy with ultra-high strength: Microstructural evolution and mechanical properties',\n 'A new refractory Ti-Nb-Hf-Al high entropy alloy strengthened by orthorhombic phase particles',\n 'A novel HfNbTaTiV high-entropy alloy of superior mechanical properties designed on the principle of maximum lattice distortion',\n 'A refractory Hf25Nb25Ti25Zr25 high-entropy alloy with excellent structural stability and tensile properties',\n 'A simplified model connecting lattice distortion with friction stress of Nb-based equiatomic high-entropy alloys',\n 'A single-phase V0.5Nb0.5ZrTi refractory high-entropy alloy with outstanding tensile properties',\n 'Alloy Design and Properties Optimization of High-Entropy Alloys',\n 'Alloy design for intrinsically ductile refractory high-entropy alloys',\n 'An AlNbTiVZr0.5 high-entropy alloy combining high specific strength and good ductility',\n 'Body-centered cubic high-entropy alloys: From processing to underlying deformation mechanisms',\n 'Cold-workable refractory complex concentrated alloys with tunable microstructure and good room-temperature tensile behavior',\n 'Combinatorial development of the low-density high-entropy alloy Al10Cr20Mo20Nb20Ti20Zr10 having gigapascal strength at 1000¬†¬∞C',\n 'Comparative study of the microstructures and mechanical properties of laser metal deposited and vacuum arc melted refractory NbMoTa medium-entropy alloy',\n 'Compositional variation effects on the microstructure and properties of a refractory high-entropy superalloy AlMo0.5NbTa0.5TiZr',\n 'Contribution of Lattice Distortion to Solid Solution Strengthening in a Series of Refractory High Entropy Alloys',\n 'Correction to: Effect of Si additions on microstructure and mechanical properties of refractory NbTaWMo high-entropy alloys',\n 'Deformation behavior of HfNbTaTiZr high entropy alloy singe crystals and polycrystals',\n 'Design and characterization of eutectic refractory high entropy alloys',\n 'Design and tensile properties of a bcc Ti-rich high-entropy alloy with transformation-induced plasticity']"
     },
     "execution_count": 144,
     "metadata": {},
     "output_type": "execute_result"
    }
   ]
  },
  {
   "cell_type": "markdown",
   "source": [
    "# Aligning extracted and ground-truth rows"
   ],
   "metadata": {
    "id": "CxqU7DsCuoWE"
   }
  },
  {
   "cell_type": "code",
   "source": [
    "# So at this point we have filtered_paper_df, consisting of the ground truth extracted values for the 20-paper sample,\n",
    "# and extraction_df, consisting of the extracted values. colname_map maps from ground truth col names to extracted col names"
   ],
   "metadata": {
    "id": "GQIWCGM5uqAt",
    "ExecuteTime": {
     "end_time": "2024-05-17T19:08:28.908889700Z",
     "start_time": "2024-05-17T19:08:28.816871100Z"
    }
   },
   "execution_count": 145,
   "outputs": []
  },
  {
   "cell_type": "code",
   "source": [
    "target_cols = ['PROPERTY: HV',\n",
    "               'PROPERTY: YS (MPa)',\n",
    "               'PROPERTY: UTS (MPa)',\n",
    "               'PROPERTY: Elongation (%)',\n",
    "               'PROPERTY: Elongation plastic (%)',\n",
    "               'PROPERTY: Exp. Young modulus (GPa)']"
   ],
   "metadata": {
    "id": "IydF_8UsyXbc",
    "ExecuteTime": {
     "end_time": "2024-05-17T19:08:29.881339200Z",
     "start_time": "2024-05-17T19:08:29.781333100Z"
    }
   },
   "execution_count": 146,
   "outputs": []
  },
  {
   "cell_type": "code",
   "source": [
    "filtered_paper_df.columns"
   ],
   "metadata": {
    "colab": {
     "base_uri": "https://localhost:8080/"
    },
    "id": "9-vcnSMXu46a",
    "executionInfo": {
     "status": "ok",
     "timestamp": 1707858748923,
     "user_tz": 300,
     "elapsed": 38,
     "user": {
      "displayName": "Satanu Ghosh",
      "userId": "07683061709303200546"
     }
    },
    "outputId": "e4925863-a0df-49ef-ea9b-bd5372d21ac0",
    "ExecuteTime": {
     "end_time": "2024-05-17T19:08:29.952345600Z",
     "start_time": "2024-05-17T19:08:29.815334300Z"
    }
   },
   "execution_count": 147,
   "outputs": [
    {
     "data": {
      "text/plain": "Index(['IDENTIFIER: Reference ID', 'FORMULA', 'PROPERTY: Microstructure', 'PROPERTY: Processing method', 'PROPERTY: BCC/FCC/other', 'PROPERTY: grain size ($\\mu$m)', 'PROPERTY: Exp. Density (g/cm$^3$)', 'PROPERTY: Computed Density (g/cm$^3$)', 'PROPERTY: HV', 'PROPERTY: Type of test',\n       'PROPERTY: Test temperature ($^\\circ$C)', 'PROPERTY: YS (MPa)', 'PROPERTY: UTS (MPa)', 'PROPERTY: Elongation (%)', 'PROPERTY: Elongation plastic (%)', 'PROPERTY: Exp. Young modulus (GPa)', 'PROPERTY: Computed Young modulus (GPa)', 'PROPERTY: O content (wppm)', 'PROPERTY: N content (wppm)',\n       'PROPERTY: C content (wppm)', 'REFERENCE: doi', 'REFERENCE: year', 'REFERENCE: title', 'processed_doi'],\n      dtype='object')"
     },
     "execution_count": 147,
     "metadata": {},
     "output_type": "execute_result"
    }
   ]
  },
  {
   "cell_type": "code",
   "source": [
    "filtered_paper_df.iloc[0]"
   ],
   "metadata": {
    "colab": {
     "base_uri": "https://localhost:8080/"
    },
    "id": "pCGnXcyGer9K",
    "executionInfo": {
     "status": "ok",
     "timestamp": 1707858748923,
     "user_tz": 300,
     "elapsed": 34,
     "user": {
      "displayName": "Satanu Ghosh",
      "userId": "07683061709303200546"
     }
    },
    "outputId": "14e7d4e5-31e3-4188-b5cb-524818d0165e",
    "ExecuteTime": {
     "end_time": "2024-05-17T19:08:30.532999300Z",
     "start_time": "2024-05-17T19:08:30.458990800Z"
    }
   },
   "execution_count": 148,
   "outputs": [
    {
     "data": {
      "text/plain": "IDENTIFIER: Reference ID                                                                  7\nFORMULA                                   Al0.025 Cr0.2 Mo0.2 Nb0.2 Ta0.025 Ti0.2 V0.05 ...\nPROPERTY: Microstructure                                                          BCC+Laves\nPROPERTY: Processing method                                                            CAST\nPROPERTY: BCC/FCC/other                                                               other\nPROPERTY: grain size ($\\mu$m)                                                           NaN\nPROPERTY: Exp. Density (g/cm$^3$)                                                      7.44\nPROPERTY: Computed Density (g/cm$^3$)                                                   7.5\nPROPERTY: HV                                                                            NaN\nPROPERTY: Type of test                                                                    C\nPROPERTY: Test temperature ($^\\circ$C)                                               1000.0\nPROPERTY: YS (MPa)                                                                    669.0\nPROPERTY: UTS (MPa)                                                                     NaN\nPROPERTY: Elongation (%)                                                                NaN\nPROPERTY: Elongation plastic (%)                                                        NaN\nPROPERTY: Exp. Young modulus (GPa)                                                      NaN\nPROPERTY: Computed Young modulus (GPa)                                                185.0\nPROPERTY: O content (wppm)                                                              NaN\nPROPERTY: N content (wppm)                                                              NaN\nPROPERTY: C content (wppm)                                                              NaN\nREFERENCE: doi                                                10.1016/j.jallcom.2020.155700\nREFERENCE: year                                                                      2020.0\nREFERENCE: title                          Combinatorial development of the low-density h...\nprocessed_doi                                                 10.1016.j.jallcom.2020.155700\nName: 0, dtype: object"
     },
     "execution_count": 148,
     "metadata": {},
     "output_type": "execute_result"
    }
   ]
  },
  {
   "cell_type": "code",
   "source": [
    "extraction_df.iloc[0]"
   ],
   "metadata": {
    "colab": {
     "base_uri": "https://localhost:8080/"
    },
    "id": "eHLS5aQqexha",
    "executionInfo": {
     "status": "ok",
     "timestamp": 1707858748924,
     "user_tz": 300,
     "elapsed": 33,
     "user": {
      "displayName": "Satanu Ghosh",
      "userId": "07683061709303200546"
     }
    },
    "outputId": "ea046872-bdaa-4e9a-c386-6dd567c4a982",
    "ExecuteTime": {
     "end_time": "2024-05-17T19:08:31.084043800Z",
     "start_time": "2024-05-17T19:08:30.966038500Z"
    }
   },
   "execution_count": 149,
   "outputs": [
    {
     "data": {
      "text/plain": "high entropy alloy formula                     MoNbFeCrV\nyield strength                                      2663\ndoi                           10.1007.s40195-019-00935-x\ngrain size                                           NaN\nexperimental density                                 NaN\nhardness                                             NaN\ntest temperature                                     NaN\nultimate tensile strength                            NaN\nelongation                                           NaN\nelongation plastic                                   NaN\nName: 0, dtype: object"
     },
     "execution_count": 149,
     "metadata": {},
     "output_type": "execute_result"
    }
   ]
  },
  {
   "cell_type": "markdown",
   "source": [
    "## Unique records"
   ],
   "metadata": {
    "id": "JkJA8LgJdH26"
   }
  },
  {
   "cell_type": "code",
   "source": [
    "paper_keys = ['FORMULA',\n",
    "              'PROPERTY: Microstructure',\n",
    "              'PROPERTY: Processing method',\n",
    "              'PROPERTY: BCC/FCC/other',\n",
    "              'PROPERTY: grain size ($\\mu$m)',\n",
    "              'PROPERTY: Type of test',\n",
    "              'PROPERTY: Test temperature ($^\\circ$C)']\n",
    "\n",
    "extraction_keys = [colname_map[paper_key] for paper_key in paper_keys if paper_key in colname_map]\n",
    "print(extraction_keys)"
   ],
   "metadata": {
    "colab": {
     "base_uri": "https://localhost:8080/"
    },
    "id": "yDO-116KvCPa",
    "executionInfo": {
     "status": "ok",
     "timestamp": 1707858748924,
     "user_tz": 300,
     "elapsed": 30,
     "user": {
      "displayName": "Satanu Ghosh",
      "userId": "07683061709303200546"
     }
    },
    "outputId": "d7d55925-729e-4b38-d73d-dcec57281984",
    "ExecuteTime": {
     "end_time": "2024-05-17T19:08:31.719892700Z",
     "start_time": "2024-05-17T19:08:31.608883400Z"
    }
   },
   "execution_count": 150,
   "outputs": [
    {
     "name": "stdout",
     "output_type": "stream",
     "text": [
      "['high entropy alloy formula', 'grain size', 'test temperature']\n"
     ]
    }
   ]
  },
  {
   "cell_type": "markdown",
   "source": [
    "I think we need to be trying to extract more keys from the data\n",
    "\n",
    "We'll consider a unique record to be a unique combination of those 7 properties, and we will consider full matches and likely matches."
   ],
   "metadata": {
    "id": "b-iy6wlYwqUW"
   }
  },
  {
   "cell_type": "markdown",
   "source": [
    "### normalize_formula() function"
   ],
   "metadata": {
    "id": "yb-4w1xCT7Xa"
   }
  },
  {
   "cell_type": "code",
   "source": [
    "import pymatgen.core as mg\n"
   ],
   "metadata": {
    "id": "tpsHedLwd_Da",
    "ExecuteTime": {
     "end_time": "2024-05-17T19:08:32.523552900Z",
     "start_time": "2024-05-17T19:08:32.437565100Z"
    }
   },
   "execution_count": 151,
   "outputs": []
  },
  {
   "cell_type": "code",
   "source": [
    "f1 = \"Hf0.105 Nb0.053 Ti0.421 V0.211 Zr0.211\"\n",
    "f2 = \"Ti2ZrHf0.5VNb0.25\"\n"
   ],
   "metadata": {
    "id": "VYpuo9zbXNe6",
    "ExecuteTime": {
     "end_time": "2024-05-17T19:08:32.948675Z",
     "start_time": "2024-05-17T19:08:32.860628100Z"
    }
   },
   "execution_count": 152,
   "outputs": []
  },
  {
   "cell_type": "code",
   "source": [
    "def rounding_fractions(comp_string: str) -> list[str]:\n",
    "    elements = [f for i, f in enumerate(comp_string.split('$')) if i%2==0]\n",
    "    fractions = [str(round(float(f.replace(\"_{\", \"\").replace(\"}\", \"\")), 3)) for i, f in enumerate(comp_string.split('$')) if\n",
    "                 i % 2 != 0]\n",
    "    final_results = [f\"{i}{j}\" for i, j in zip(elements, fractions)]\n",
    "    return final_results\n",
    "\n",
    "def normalize_comp_name(compName: str) -> str:\n",
    "  try:\n",
    "    comp = mg.Composition(compName)\n",
    "    comp = mg.Composition(comp.alphabetical_formula)\n",
    "    fractional_comp = comp.fractional_composition\n",
    "    fract_comp_ustring = fractional_comp.to_unicode_string()\n",
    "    normalized_frac_comp = rounding_fractions(fract_comp_ustring)\n",
    "    normalized_comp_name = ''.join(f for f in normalized_frac_comp)\n",
    "\n",
    "    return normalized_comp_name\n",
    "  except:\n",
    "    print(compName)\n",
    "    return None\n",
    "\n",
    "\n",
    "display(normalize_comp_name(f1))\n",
    "display(normalize_comp_name(f2))"
   ],
   "metadata": {
    "colab": {
     "base_uri": "https://localhost:8080/",
     "height": 54
    },
    "id": "_Yg0d4HTWn4x",
    "executionInfo": {
     "status": "ok",
     "timestamp": 1707858751442,
     "user_tz": 300,
     "elapsed": 80,
     "user": {
      "displayName": "Satanu Ghosh",
      "userId": "07683061709303200546"
     }
    },
    "outputId": "bc04c853-c0d7-4536-9cc2-f5c5f9d4b0bf",
    "ExecuteTime": {
     "end_time": "2024-05-17T19:08:33.233708700Z",
     "start_time": "2024-05-17T19:08:33.150690600Z"
    }
   },
   "execution_count": 153,
   "outputs": [
    {
     "data": {
      "text/plain": "'Hf0.105Nb0.053Ti0.421V0.211Zr0.211'"
     },
     "metadata": {},
     "output_type": "display_data"
    },
    {
     "data": {
      "text/plain": "'Hf0.105Nb0.053Ti0.421V0.211Zr0.211'"
     },
     "metadata": {},
     "output_type": "display_data"
    }
   ]
  },
  {
   "cell_type": "code",
   "source": [
    "from traceback import print_exc\n",
    "import re\n",
    "\n",
    "float_pattern = '[0-9]*\\.?[0-9]+'\n",
    "def round_string_floats(s:str, precision:int=2):\n",
    "  floats = re.search(float_pattern, s)\n",
    "\n",
    "\n",
    "def normalize_formula(formula):\n",
    "  try:\n",
    "    return mg.Composition(formula).get_integer_formula_and_factor()[0]\n",
    "  except Exception as ex:\n",
    "    # print_exc()\n",
    "    return None\n",
    "\n",
    "f1 = \"Hf0.105 Nb0.053 Ti0.421 V0.211 Zr0.211\"\n",
    "f2 = \"Ti2ZrHf0.5VNb0.25\"\n",
    "\n",
    "display(normalize_formula(f1))\n",
    "display(normalize_formula(f2))\n",
    "\n",
    "round_string_floats(f1)"
   ],
   "metadata": {
    "id": "O3UjoC8dhBqc",
    "executionInfo": {
     "status": "ok",
     "timestamp": 1707858751442,
     "user_tz": 300,
     "elapsed": 77,
     "user": {
      "displayName": "Satanu Ghosh",
      "userId": "07683061709303200546"
     }
    },
    "colab": {
     "base_uri": "https://localhost:8080/",
     "height": 54
    },
    "outputId": "957b63ed-268a-4bdd-ccdc-5620db8cb852",
    "ExecuteTime": {
     "end_time": "2024-05-17T19:08:33.546155100Z",
     "start_time": "2024-05-17T19:08:33.449149200Z"
    }
   },
   "execution_count": 154,
   "outputs": [
    {
     "data": {
      "text/plain": "'Hf105Zr211Ti421Nb53V211'"
     },
     "metadata": {},
     "output_type": "display_data"
    },
    {
     "data": {
      "text/plain": "'Hf2Zr4Ti8NbV4'"
     },
     "metadata": {},
     "output_type": "display_data"
    }
   ]
  },
  {
   "cell_type": "code",
   "source": [
    "c1 = mg.Composition(f1)\n",
    "display(c1)\n",
    "c2 = mg.Composition(f2)\n",
    "display(c2.fractional_composition)\n",
    "\n",
    "display(c1.almost_equals(c2,rtol=0.1, atol=0.1))"
   ],
   "metadata": {
    "colab": {
     "base_uri": "https://localhost:8080/",
     "height": 69
    },
    "id": "vsDJrloPUURp",
    "executionInfo": {
     "status": "ok",
     "timestamp": 1707858751794,
     "user_tz": 300,
     "elapsed": 427,
     "user": {
      "displayName": "Satanu Ghosh",
      "userId": "07683061709303200546"
     }
    },
    "outputId": "05df3212-0e72-45ca-ba2e-d1361b2892ad",
    "ExecuteTime": {
     "end_time": "2024-05-17T19:08:33.900195800Z",
     "start_time": "2024-05-17T19:08:33.789174900Z"
    }
   },
   "execution_count": 155,
   "outputs": [
    {
     "data": {
      "text/plain": "Comp: Hf0.105 Zr0.211 Ti0.421 Nb0.053 V0.211"
     },
     "metadata": {},
     "output_type": "display_data"
    },
    {
     "data": {
      "text/plain": "Comp: Hf0.10526316 Zr0.21052632 Ti0.42105263 Nb0.05263158 V0.21052632"
     },
     "metadata": {},
     "output_type": "display_data"
    },
    {
     "data": {
      "text/plain": "False"
     },
     "metadata": {},
     "output_type": "display_data"
    }
   ]
  },
  {
   "cell_type": "code",
   "source": [
    "c2 = mg.Composition(f2)\n",
    "c2.fractional_composition"
   ],
   "metadata": {
    "colab": {
     "base_uri": "https://localhost:8080/"
    },
    "id": "y1vyjKZCUboi",
    "executionInfo": {
     "status": "ok",
     "timestamp": 1707858751794,
     "user_tz": 300,
     "elapsed": 66,
     "user": {
      "displayName": "Satanu Ghosh",
      "userId": "07683061709303200546"
     }
    },
    "outputId": "bdf13224-ff28-4f64-b672-7b0b62ab2dbc",
    "ExecuteTime": {
     "end_time": "2024-05-17T19:08:35.070476800Z",
     "start_time": "2024-05-17T19:08:35.015472700Z"
    }
   },
   "execution_count": 156,
   "outputs": [
    {
     "data": {
      "text/plain": "Comp: Hf0.10526316 Zr0.21052632 Ti0.42105263 Nb0.05263158 V0.21052632"
     },
     "execution_count": 156,
     "metadata": {},
     "output_type": "execute_result"
    }
   ]
  },
  {
   "cell_type": "code",
   "source": [
    "# filtered_paper_df['normalized_formula'] = filtered_paper_df['FORMULA'].apply(normalize_formula)\n",
    "filtered_paper_df['normalized_formula'] = filtered_paper_df['FORMULA'].apply(normalize_comp_name)\n",
    "\n",
    "filtered_paper_df.sort_values('processed_doi')[['FORMULA','normalized_formula','processed_doi']]"
   ],
   "metadata": {
    "colab": {
     "base_uri": "https://localhost:8080/",
     "height": 528
    },
    "id": "cb5lDrghgg6z",
    "executionInfo": {
     "status": "ok",
     "timestamp": 1707858752744,
     "user_tz": 300,
     "elapsed": 1012,
     "user": {
      "displayName": "Satanu Ghosh",
      "userId": "07683061709303200546"
     }
    },
    "outputId": "b9283006-3851-476b-de42-f1baebcb9374",
    "ExecuteTime": {
     "end_time": "2024-05-17T19:08:36.228083600Z",
     "start_time": "2024-05-17T19:08:36.055071600Z"
    }
   },
   "execution_count": 157,
   "outputs": [
    {
     "name": "stderr",
     "output_type": "stream",
     "text": [
      "/tmp/ipykernel_1783724/2496855811.py:2: SettingWithCopyWarning: \n",
      "A value is trying to be set on a copy of a slice from a DataFrame.\n",
      "Try using .loc[row_indexer,col_indexer] = value instead\n",
      "\n",
      "See the caveats in the documentation: https://pandas.pydata.org/pandas-docs/stable/user_guide/indexing.html#returning-a-view-versus-a-copy\n",
      "  filtered_paper_df['normalized_formula'] = filtered_paper_df['FORMULA'].apply(normalize_comp_name)\n"
     ]
    },
    {
     "data": {
      "text/plain": "                                            FORMULA                         normalized_formula                           processed_doi\n355  Fe0.167 Mo0.167 Ni0.167 Ti0.167 V0.167 Zr0.167  Fe0.167Mo0.167Ni0.167Ti0.167V0.167Zr0.167                  10.1002.adem.200300567\n823                      Mo0.25 Re0.25 Ta0.25 W0.25                    Mo0.25Re0.25Ta0.25W0.25                  10.1002.adem.202100765\n822                      Mo0.25 Re0.25 Ta0.25 W0.25                    Mo0.25Re0.25Ta0.25W0.25                  10.1002.adem.202100765\n631                 Hf0.294 Ta0.118 Ti0.294 Zr0.294               Hf0.294Ta0.118Ti0.294Zr0.294                  10.1002.adma.201701678\n622                     Hf0.25 Ta0.25 Ti0.25 Zr0.25                   Hf0.25Ta0.25Ti0.25Zr0.25                  10.1002.adma.201701678\n..                                              ...                                        ...                                     ...\n428  Hf0.182 Nb0.182 Si0.091 Ti0.182 V0.182 Zr0.182  Hf0.182Nb0.182Si0.091Ti0.182V0.182Zr0.182   10.4028.www.scientific.net.MSF.849.76\n196                    Al0.2 Mo0.2 Ta0.2 Ti0.2 V0.2                   Al0.2Mo0.2Ta0.2Ti0.2V0.2  10.4028.www.scientific.net.MSF.898.638\n824                      Mo0.25 Ta0.25 Ti0.25 V0.25                    Mo0.25Ta0.25Ti0.25V0.25  10.4028.www.scientific.net.MSF.898.638\n11           Al0.048 Mo0.238 Ta0.238 Ti0.238 V0.238         Al0.048Mo0.238Ta0.238Ti0.238V0.238  10.4028.www.scientific.net.MSF.898.638\n120           Al0.13 Mo0.217 Ta0.217 Ti0.217 V0.217          Al0.13Mo0.217Ta0.217Ti0.217V0.217  10.4028.www.scientific.net.MSF.898.638\n\n[946 rows x 3 columns]",
      "text/html": "<div>\n<style scoped>\n    .dataframe tbody tr th:only-of-type {\n        vertical-align: middle;\n    }\n\n    .dataframe tbody tr th {\n        vertical-align: top;\n    }\n\n    .dataframe thead th {\n        text-align: right;\n    }\n</style>\n<table border=\"1\" class=\"dataframe\">\n  <thead>\n    <tr style=\"text-align: right;\">\n      <th></th>\n      <th>FORMULA</th>\n      <th>normalized_formula</th>\n      <th>processed_doi</th>\n    </tr>\n  </thead>\n  <tbody>\n    <tr>\n      <th>355</th>\n      <td>Fe0.167 Mo0.167 Ni0.167 Ti0.167 V0.167 Zr0.167</td>\n      <td>Fe0.167Mo0.167Ni0.167Ti0.167V0.167Zr0.167</td>\n      <td>10.1002.adem.200300567</td>\n    </tr>\n    <tr>\n      <th>823</th>\n      <td>Mo0.25 Re0.25 Ta0.25 W0.25</td>\n      <td>Mo0.25Re0.25Ta0.25W0.25</td>\n      <td>10.1002.adem.202100765</td>\n    </tr>\n    <tr>\n      <th>822</th>\n      <td>Mo0.25 Re0.25 Ta0.25 W0.25</td>\n      <td>Mo0.25Re0.25Ta0.25W0.25</td>\n      <td>10.1002.adem.202100765</td>\n    </tr>\n    <tr>\n      <th>631</th>\n      <td>Hf0.294 Ta0.118 Ti0.294 Zr0.294</td>\n      <td>Hf0.294Ta0.118Ti0.294Zr0.294</td>\n      <td>10.1002.adma.201701678</td>\n    </tr>\n    <tr>\n      <th>622</th>\n      <td>Hf0.25 Ta0.25 Ti0.25 Zr0.25</td>\n      <td>Hf0.25Ta0.25Ti0.25Zr0.25</td>\n      <td>10.1002.adma.201701678</td>\n    </tr>\n    <tr>\n      <th>...</th>\n      <td>...</td>\n      <td>...</td>\n      <td>...</td>\n    </tr>\n    <tr>\n      <th>428</th>\n      <td>Hf0.182 Nb0.182 Si0.091 Ti0.182 V0.182 Zr0.182</td>\n      <td>Hf0.182Nb0.182Si0.091Ti0.182V0.182Zr0.182</td>\n      <td>10.4028.www.scientific.net.MSF.849.76</td>\n    </tr>\n    <tr>\n      <th>196</th>\n      <td>Al0.2 Mo0.2 Ta0.2 Ti0.2 V0.2</td>\n      <td>Al0.2Mo0.2Ta0.2Ti0.2V0.2</td>\n      <td>10.4028.www.scientific.net.MSF.898.638</td>\n    </tr>\n    <tr>\n      <th>824</th>\n      <td>Mo0.25 Ta0.25 Ti0.25 V0.25</td>\n      <td>Mo0.25Ta0.25Ti0.25V0.25</td>\n      <td>10.4028.www.scientific.net.MSF.898.638</td>\n    </tr>\n    <tr>\n      <th>11</th>\n      <td>Al0.048 Mo0.238 Ta0.238 Ti0.238 V0.238</td>\n      <td>Al0.048Mo0.238Ta0.238Ti0.238V0.238</td>\n      <td>10.4028.www.scientific.net.MSF.898.638</td>\n    </tr>\n    <tr>\n      <th>120</th>\n      <td>Al0.13 Mo0.217 Ta0.217 Ti0.217 V0.217</td>\n      <td>Al0.13Mo0.217Ta0.217Ti0.217V0.217</td>\n      <td>10.4028.www.scientific.net.MSF.898.638</td>\n    </tr>\n  </tbody>\n</table>\n<p>946 rows × 3 columns</p>\n</div>"
     },
     "execution_count": 157,
     "metadata": {},
     "output_type": "execute_result"
    }
   ]
  },
  {
   "cell_type": "code",
   "source": [
    "# extraction_df['normalized_formula'] = extraction_df['high_entropy_alloy_formula'].apply(normalize_formula)\n",
    "extraction_df['normalized_formula'] = extraction_df['high entropy alloy formula'].apply(normalize_comp_name)\n",
    "\n",
    "extraction_df.sort_values('doi')[['high entropy alloy formula','normalized_formula','doi']]"
   ],
   "metadata": {
    "colab": {
     "base_uri": "https://localhost:8080/",
     "height": 1000
    },
    "id": "u7GTr6WLg1Np",
    "executionInfo": {
     "status": "ok",
     "timestamp": 1707858752746,
     "user_tz": 300,
     "elapsed": 98,
     "user": {
      "displayName": "Satanu Ghosh",
      "userId": "07683061709303200546"
     }
    },
    "outputId": "dc18160c-1eaf-47fa-97ff-4c4b00aedd19",
    "ExecuteTime": {
     "end_time": "2024-05-17T19:08:37.008573900Z",
     "start_time": "2024-05-17T19:08:36.853559800Z"
    }
   },
   "execution_count": 158,
   "outputs": [
    {
     "name": "stdout",
     "output_type": "stream",
     "text": [
      "nan\n",
      "nan\n",
      "{'Ti 20 Zr 20 Nb 20 Ta 20 Mo 20': {'grain size': 'No information', 'experimental density': 'No information', 'hardness': 4.9, 'test temperature': 'No information', 'yield strength': 1390, 'ultimate tensile strength': 'No information', 'elongation': 'No information', 'elongation plastic': 6}}\n",
      "nan\n",
      "nan\n",
      "nan\n",
      "nan\n",
      "nan\n",
      "nan\n",
      "nan\n",
      "nan\n",
      "nan\n",
      "nan\n",
      "nan\n",
      "nan\n",
      "{'type': 'string', 'value': 'TiZrHfNbTa'}\n",
      "{'type': 'string', 'value': 'TiZrHfNbTa'}\n",
      "{'type': 'string', 'value': 'TiZrHfNbTa'}\n",
      "{'type': 'string', 'value': 'TiZrHfNbTa'}\n",
      "{'type': 'string', 'value': 'TiZrHfNbTa'}\n",
      "{'type': 'string', 'value': 'TiZrHfNbTa'}\n",
      "{'type': 'string', 'value': 'TiZrHfNbTa'}\n",
      "{'type': 'string', 'value': 'TiZrHfNbTa'}\n",
      "{'type': 'string', 'value': 'TiZrHfNbTa'}\n",
      "nan\n",
      "nan\n",
      "nan\n",
      "nan\n",
      "nan\n",
      "nan\n",
      "nan\n",
      "nan\n",
      "nan\n",
      "nan\n",
      "nan\n",
      "nan\n",
      "nan\n",
      "nan\n",
      "nan\n",
      "nan\n",
      "nan\n",
      "nan\n",
      "nan\n",
      "nan\n",
      "nan\n",
      "nan\n",
      "nan\n",
      "nan\n",
      "nan\n",
      "nan\n",
      "nan\n",
      "nan\n",
      "nan\n",
      "nan\n",
      "nan\n",
      "nan\n",
      "nan\n",
      "nan\n",
      "nan\n",
      "nan\n",
      "nan\n",
      "nan\n",
      "nan\n",
      "Zr-Nb-Ti-Ta-Hf\n",
      "Zr-Nb-Ti-Ta-Hf\n",
      "Zr-Nb-Ti-Ta-Hf\n",
      "Zr-Nb-Ti-Ta-Hf\n",
      "Zr-Nb-Ti-Ta-Hf\n",
      "Zr-Nb-Ti-Ta-Hf\n",
      "Zr-Nb-Ti-Ta-Hf\n",
      "Zr-Nb-Ti-Ta-Hf\n",
      "Zr-Nb-Ti-Ta-Hf\n",
      "MoNbRe0.5TaW(TiC)x\n",
      "MoNbRe0.5TaW(TiC)x\n",
      "MoNbRe0.5TaW(TiC)x\n",
      "MoNbRe0.5TaW(TiC)x\n",
      "MoNbRe0.5TaW(TiC)x\n",
      "MoNbRe0.5TaW(TiC)x\n",
      "MoNbRe0.5TaW(TiC)x\n",
      "MoNbRe0.5TaW(TiC)x\n",
      "MoNbRe0.5TaW(TiC)x\n",
      "nan\n",
      "nan\n",
      "nan\n",
      "nan\n",
      "nan\n",
      "nan\n",
      "nan\n",
      "nan\n",
      "nan\n",
      "nan\n",
      "nan\n",
      "nan\n",
      "nan\n",
      "nan\n",
      "nan\n",
      "nan\n",
      "nan\n",
      "nan\n",
      "nan\n",
      "nan\n",
      "nan\n",
      "nan\n",
      "nan\n",
      "nan\n",
      "nan\n",
      "nan\n",
      "nan\n",
      "nan\n",
      "(Ta25-xNb25Zr25Ti25+x)95Al5\n",
      "(Ta25-xNb25Zr25Ti25+x)95Al5\n",
      "(Ta25-xNb25Zr25Ti25+x)95Al5\n",
      "(Ta25-xNb25Zr25Ti25+x)95Al5\n",
      "(Ta25-xNb25Zr25Ti25+x)95Al5\n",
      "(Ta25-xNb25Zr25Ti25+x)95Al5\n",
      "(Ta25-xNb25Zr25Ti25+x)95Al5\n",
      "(Ta25-xNb25Zr25Ti25+x)95Al5\n",
      "(Ta25-xNb25Zr25Ti25+x)95Al5\n",
      "Nb-Mo-Ta-W\n",
      "Nb-Mo-Ta-W\n",
      "Nb-Mo-Ta-W\n",
      "Nb-Mo-Ta-W\n",
      "Nb-Mo-Ta-W\n",
      "Nb-Mo-Ta-W\n",
      "Nb-Mo-Ta-W\n",
      "Nb-Mo-Ta-W\n",
      "Nb-Mo-Ta-W\n",
      "nan\n",
      "nan\n",
      "nan\n",
      "nan\n",
      "nan\n",
      "nan\n",
      "{'type': 'string'}\n",
      "{'type': 'string'}\n",
      "{'type': 'string'}\n",
      "{'type': 'string'}\n",
      "{'type': 'string'}\n",
      "{'type': 'string'}\n",
      "{'type': 'string'}\n",
      "{'type': 'string'}\n",
      "{'type': 'string'}\n",
      "nan\n",
      "nan\n",
      "nan\n",
      "nan\n",
      "nan\n",
      "nan\n",
      "nan\n",
      "nan\n",
      "nan\n",
      "nan\n",
      "nan\n",
      "nan\n",
      "Nb 55 Ta 25 Ti 15 Hf 5 (at.%) (NTTH)\n",
      "Nb 55 Ta 25 Ti 15 Hf 5 (at.%) (NTTH)\n",
      "Nb 55 Ta 25 Ti 15 Hf 5 (at.%) (NTTH)\n",
      "Nb 55 Ta 25 Ti 15 Hf 5 (at.%) (NTTH)\n",
      "Nb 55 Ta 25 Ti 15 Hf 5 (at.%) (NTTH)\n",
      "Nb 55 Ta 25 Ti 15 Hf 5 (at.%) (NTTH)\n",
      "Nb 55 Ta 25 Ti 15 Hf 5 (at.%) (NTTH)\n",
      "Nb 55 Ta 25 Ti 15 Hf 5 (at.%) (NTTH)\n",
      "Nb 55 Ta 25 Ti 15 Hf 5 (at.%) (NTTH)\n",
      "nan\n",
      "nan\n",
      "nan\n",
      "nan\n",
      "nan\n",
      "nan\n",
      "nan\n",
      "nan\n",
      "nan\n",
      "nan\n",
      "nan\n",
      "nan\n",
      "nan\n",
      "nan\n",
      "nan\n",
      "nan\n",
      "nan\n",
      "nan\n",
      "nan\n",
      "nan\n",
      "nan\n"
     ]
    },
    {
     "data": {
      "text/plain": "    high entropy alloy formula                          normalized_formula                                     doi\n653               CuCoNiCrAlFe  Al0.167Co0.167Cr0.167Cu0.167Fe0.167Ni0.167                  10.1002.adem.200300567\n654               CuCoNiCrAlFe  Al0.167Co0.167Cr0.167Cu0.167Fe0.167Ni0.167                  10.1002.adem.200300567\n655               CuCoNiCrAlFe  Al0.167Co0.167Cr0.167Cu0.167Fe0.167Ni0.167                  10.1002.adem.200300567\n656               CuCoNiCrAlFe  Al0.167Co0.167Cr0.167Cu0.167Fe0.167Ni0.167                  10.1002.adem.200300567\n657               CuCoNiCrAlFe  Al0.167Co0.167Cr0.167Cu0.167Fe0.167Ni0.167                  10.1002.adem.200300567\n..                         ...                                         ...                                     ...\n318             HfNbSi0.5TiVZr   Hf0.182Nb0.182Si0.091Ti0.182V0.182Zr0.182   10.4028.www.scientific.net.MSF.849.76\n807                 VTaTiMoAl0                     Mo0.25Ta0.25Ti0.25V0.25  10.4028.www.scientific.net.MSF.898.638\n808                 VTaTiMoAl0                     Mo0.25Ta0.25Ti0.25V0.25  10.4028.www.scientific.net.MSF.898.638\n809                 VTaTiMoAl0                     Mo0.25Ta0.25Ti0.25V0.25  10.4028.www.scientific.net.MSF.898.638\n806                 VTaTiMoAl0                     Mo0.25Ta0.25Ti0.25V0.25  10.4028.www.scientific.net.MSF.898.638\n\n[860 rows x 3 columns]",
      "text/html": "<div>\n<style scoped>\n    .dataframe tbody tr th:only-of-type {\n        vertical-align: middle;\n    }\n\n    .dataframe tbody tr th {\n        vertical-align: top;\n    }\n\n    .dataframe thead th {\n        text-align: right;\n    }\n</style>\n<table border=\"1\" class=\"dataframe\">\n  <thead>\n    <tr style=\"text-align: right;\">\n      <th></th>\n      <th>high entropy alloy formula</th>\n      <th>normalized_formula</th>\n      <th>doi</th>\n    </tr>\n  </thead>\n  <tbody>\n    <tr>\n      <th>653</th>\n      <td>CuCoNiCrAlFe</td>\n      <td>Al0.167Co0.167Cr0.167Cu0.167Fe0.167Ni0.167</td>\n      <td>10.1002.adem.200300567</td>\n    </tr>\n    <tr>\n      <th>654</th>\n      <td>CuCoNiCrAlFe</td>\n      <td>Al0.167Co0.167Cr0.167Cu0.167Fe0.167Ni0.167</td>\n      <td>10.1002.adem.200300567</td>\n    </tr>\n    <tr>\n      <th>655</th>\n      <td>CuCoNiCrAlFe</td>\n      <td>Al0.167Co0.167Cr0.167Cu0.167Fe0.167Ni0.167</td>\n      <td>10.1002.adem.200300567</td>\n    </tr>\n    <tr>\n      <th>656</th>\n      <td>CuCoNiCrAlFe</td>\n      <td>Al0.167Co0.167Cr0.167Cu0.167Fe0.167Ni0.167</td>\n      <td>10.1002.adem.200300567</td>\n    </tr>\n    <tr>\n      <th>657</th>\n      <td>CuCoNiCrAlFe</td>\n      <td>Al0.167Co0.167Cr0.167Cu0.167Fe0.167Ni0.167</td>\n      <td>10.1002.adem.200300567</td>\n    </tr>\n    <tr>\n      <th>...</th>\n      <td>...</td>\n      <td>...</td>\n      <td>...</td>\n    </tr>\n    <tr>\n      <th>318</th>\n      <td>HfNbSi0.5TiVZr</td>\n      <td>Hf0.182Nb0.182Si0.091Ti0.182V0.182Zr0.182</td>\n      <td>10.4028.www.scientific.net.MSF.849.76</td>\n    </tr>\n    <tr>\n      <th>807</th>\n      <td>VTaTiMoAl0</td>\n      <td>Mo0.25Ta0.25Ti0.25V0.25</td>\n      <td>10.4028.www.scientific.net.MSF.898.638</td>\n    </tr>\n    <tr>\n      <th>808</th>\n      <td>VTaTiMoAl0</td>\n      <td>Mo0.25Ta0.25Ti0.25V0.25</td>\n      <td>10.4028.www.scientific.net.MSF.898.638</td>\n    </tr>\n    <tr>\n      <th>809</th>\n      <td>VTaTiMoAl0</td>\n      <td>Mo0.25Ta0.25Ti0.25V0.25</td>\n      <td>10.4028.www.scientific.net.MSF.898.638</td>\n    </tr>\n    <tr>\n      <th>806</th>\n      <td>VTaTiMoAl0</td>\n      <td>Mo0.25Ta0.25Ti0.25V0.25</td>\n      <td>10.4028.www.scientific.net.MSF.898.638</td>\n    </tr>\n  </tbody>\n</table>\n<p>860 rows × 3 columns</p>\n</div>"
     },
     "execution_count": 158,
     "metadata": {},
     "output_type": "execute_result"
    }
   ]
  },
  {
   "cell_type": "markdown",
   "source": [
    "Basic logic: for each unique record in ground truth data, try to locate that record in the extracted data, as either:\n",
    "\n",
    "Exact match between unique keys\n",
    "\n",
    "Partial match between unique keys, with no other possible candidates"
   ],
   "metadata": {
    "id": "TARcEoF8mVMy"
   }
  },
  {
   "cell_type": "code",
   "source": [
    "for target_col in target_cols:\n",
    "  print('Target:',target_col)"
   ],
   "metadata": {
    "colab": {
     "base_uri": "https://localhost:8080/"
    },
    "id": "fEM8tWyhyvqA",
    "executionInfo": {
     "status": "ok",
     "timestamp": 1707858752747,
     "user_tz": 300,
     "elapsed": 93,
     "user": {
      "displayName": "Satanu Ghosh",
      "userId": "07683061709303200546"
     }
    },
    "outputId": "69006464-6d06-417d-e189-db04ccb0b041",
    "ExecuteTime": {
     "end_time": "2024-05-17T19:08:38.647524300Z",
     "start_time": "2024-05-17T19:08:38.514513500Z"
    }
   },
   "execution_count": 159,
   "outputs": [
    {
     "name": "stdout",
     "output_type": "stream",
     "text": [
      "Target: PROPERTY: HV\n",
      "Target: PROPERTY: YS (MPa)\n",
      "Target: PROPERTY: UTS (MPa)\n",
      "Target: PROPERTY: Elongation (%)\n",
      "Target: PROPERTY: Elongation plastic (%)\n",
      "Target: PROPERTY: Exp. Young modulus (GPa)\n"
     ]
    }
   ]
  },
  {
   "cell_type": "markdown",
   "source": [
    "## Row match functions"
   ],
   "metadata": {
    "id": "NFDF0_EOZUfD"
   }
  },
  {
   "cell_type": "markdown",
   "source": [
    "### assess_row_row_match()"
   ],
   "metadata": {
    "id": "_Wv0XZmBVAVu"
   }
  },
  {
   "cell_type": "code",
   "source": [
    "import pandas as pd\n",
    "\n",
    "\n",
    "from typing import Sequence, Dict, List\n",
    "\n",
    "\n",
    "def assess_row_row_match(data_row: pd.Series,\n",
    "                         extracted_row: pd.Series,\n",
    "                         required_keys: Sequence[str],\n",
    "                         other_keys: Sequence[str],\n",
    "                         ):\n",
    "    '''\n",
    "    Assess the extent to which an extracted row matches a dataset row.\n",
    "    Full if it matches all required and other keys\n",
    "    Partial if it matches required keys and at least doesn't violate other keys (i.e. it has nulls where they have values)\n",
    "    Nonmatch if it doesn't match required keys, or if violates any other keys (conflicting values)\n",
    "\n",
    "    If we want to add flexible matching or unit conversion or something,\n",
    "    (e.g. making '100mL' match '0.1L'), this is where to put it\n",
    "\n",
    "    But nothing like this is currently implemented\n",
    "    '''\n",
    "    all_keys = required_keys + other_keys\n",
    "    match_strength = 0\n",
    "    for key in all_keys:\n",
    "        if type(data_row[key]) == float and type(extracted_row[key]) == str:\n",
    "          try:\n",
    "            extracted_row[key] = float(extracted_row[key])\n",
    "          except:\n",
    "            pass\n",
    "        if key in required_keys and extracted_row[key] != data_row[key]:\n",
    "            return 0.0\n",
    "        elif extracted_row[key] == data_row[key] or pd.isnull(extracted_row[key]) and pd.isnull(data_row[key]):\n",
    "            match_strength +=1\n",
    "\n",
    "    match_strength /= len(all_keys)\n",
    "    return match_strength\n",
    "    return result"
   ],
   "metadata": {
    "id": "FF0vSzmmVFPa",
    "ExecuteTime": {
     "end_time": "2024-05-17T19:08:40.938539100Z",
     "start_time": "2024-05-17T19:08:40.819528900Z"
    }
   },
   "execution_count": 160,
   "outputs": []
  },
  {
   "cell_type": "code",
   "source": [
    "r1 = filtered_paper_df.loc[375:375]\n",
    "display(r1)"
   ],
   "metadata": {
    "colab": {
     "base_uri": "https://localhost:8080/",
     "height": 257
    },
    "id": "B0BHU2WKdB46",
    "executionInfo": {
     "status": "ok",
     "timestamp": 1707858752748,
     "user_tz": 300,
     "elapsed": 90,
     "user": {
      "displayName": "Satanu Ghosh",
      "userId": "07683061709303200546"
     }
    },
    "outputId": "6593e33c-ed66-4db3-c8c5-89c9d878856d",
    "ExecuteTime": {
     "end_time": "2024-05-17T19:08:41.278560900Z",
     "start_time": "2024-05-17T19:08:41.156552900Z"
    }
   },
   "execution_count": 161,
   "outputs": [
    {
     "data": {
      "text/plain": "     IDENTIFIER: Reference ID                                 FORMULA PROPERTY: Microstructure PROPERTY: Processing method PROPERTY: BCC/FCC/other  PROPERTY: grain size ($\\mu$m)  PROPERTY: Exp. Density (g/cm$^3$)  PROPERTY: Computed Density (g/cm$^3$)  PROPERTY: HV PROPERTY: Type of test  \\\n375                       142  Hf0.105 Nb0.053 Ti0.421 V0.211 Zr0.211                      BCC                        CAST                     BCC                            NaN                                NaN                                    6.4         332.4                      C   \n\n     PROPERTY: Test temperature ($^\\circ$C)  PROPERTY: YS (MPa)  PROPERTY: UTS (MPa)  PROPERTY: Elongation (%)  PROPERTY: Elongation plastic (%)  PROPERTY: Exp. Young modulus (GPa)  PROPERTY: Computed Young modulus (GPa)  PROPERTY: O content (wppm)  PROPERTY: N content (wppm)  \\\n375                                    25.0              1115.0                  NaN                      50.0                               NaN                                 NaN                                   104.0                         NaN                         NaN   \n\n     PROPERTY: C content (wppm)              REFERENCE: doi  REFERENCE: year                                   REFERENCE: title               processed_doi                  normalized_formula  \n375                         NaN  10.1007/s40195-019-00921-3           2019.0  A Novel Series of Refractory High-Entropy Allo...  10.1007.s40195-019-00921-3  Hf0.105Nb0.053Ti0.421V0.211Zr0.211  ",
      "text/html": "<div>\n<style scoped>\n    .dataframe tbody tr th:only-of-type {\n        vertical-align: middle;\n    }\n\n    .dataframe tbody tr th {\n        vertical-align: top;\n    }\n\n    .dataframe thead th {\n        text-align: right;\n    }\n</style>\n<table border=\"1\" class=\"dataframe\">\n  <thead>\n    <tr style=\"text-align: right;\">\n      <th></th>\n      <th>IDENTIFIER: Reference ID</th>\n      <th>FORMULA</th>\n      <th>PROPERTY: Microstructure</th>\n      <th>PROPERTY: Processing method</th>\n      <th>PROPERTY: BCC/FCC/other</th>\n      <th>PROPERTY: grain size ($\\mu$m)</th>\n      <th>PROPERTY: Exp. Density (g/cm$^3$)</th>\n      <th>PROPERTY: Computed Density (g/cm$^3$)</th>\n      <th>PROPERTY: HV</th>\n      <th>PROPERTY: Type of test</th>\n      <th>PROPERTY: Test temperature ($^\\circ$C)</th>\n      <th>PROPERTY: YS (MPa)</th>\n      <th>PROPERTY: UTS (MPa)</th>\n      <th>PROPERTY: Elongation (%)</th>\n      <th>PROPERTY: Elongation plastic (%)</th>\n      <th>PROPERTY: Exp. Young modulus (GPa)</th>\n      <th>PROPERTY: Computed Young modulus (GPa)</th>\n      <th>PROPERTY: O content (wppm)</th>\n      <th>PROPERTY: N content (wppm)</th>\n      <th>PROPERTY: C content (wppm)</th>\n      <th>REFERENCE: doi</th>\n      <th>REFERENCE: year</th>\n      <th>REFERENCE: title</th>\n      <th>processed_doi</th>\n      <th>normalized_formula</th>\n    </tr>\n  </thead>\n  <tbody>\n    <tr>\n      <th>375</th>\n      <td>142</td>\n      <td>Hf0.105 Nb0.053 Ti0.421 V0.211 Zr0.211</td>\n      <td>BCC</td>\n      <td>CAST</td>\n      <td>BCC</td>\n      <td>NaN</td>\n      <td>NaN</td>\n      <td>6.4</td>\n      <td>332.4</td>\n      <td>C</td>\n      <td>25.0</td>\n      <td>1115.0</td>\n      <td>NaN</td>\n      <td>50.0</td>\n      <td>NaN</td>\n      <td>NaN</td>\n      <td>104.0</td>\n      <td>NaN</td>\n      <td>NaN</td>\n      <td>NaN</td>\n      <td>10.1007/s40195-019-00921-3</td>\n      <td>2019.0</td>\n      <td>A Novel Series of Refractory High-Entropy Allo...</td>\n      <td>10.1007.s40195-019-00921-3</td>\n      <td>Hf0.105Nb0.053Ti0.421V0.211Zr0.211</td>\n    </tr>\n  </tbody>\n</table>\n</div>"
     },
     "metadata": {},
     "output_type": "display_data"
    }
   ]
  },
  {
   "cell_type": "code",
   "source": [
    "r2 = extraction_df.loc[1:1].rename(columns=inverted_colname_map)\n",
    "display(r2)"
   ],
   "metadata": {
    "colab": {
     "base_uri": "https://localhost:8080/",
     "height": 133
    },
    "id": "JSLrFa49dTVZ",
    "executionInfo": {
     "status": "ok",
     "timestamp": 1707858752749,
     "user_tz": 300,
     "elapsed": 90,
     "user": {
      "displayName": "Satanu Ghosh",
      "userId": "07683061709303200546"
     }
    },
    "outputId": "77366089-73c9-451d-fdb4-3deae20f5239",
    "ExecuteTime": {
     "end_time": "2024-05-17T19:08:41.595592800Z",
     "start_time": "2024-05-17T19:08:41.430573500Z"
    }
   },
   "execution_count": 162,
   "outputs": [
    {
     "data": {
      "text/plain": "     FORMULA PROPERTY: YS (MPa)              REFERENCE: doi PROPERTY: grain size ($\\mu$m) PROPERTY: Exp. Density (g/cm$^3$) PROPERTY: HV PROPERTY: Test temperature ($^\\circ$C) PROPERTY: UTS (MPa) PROPERTY: Elongation (%) PROPERTY: Elongation plastic (%)        normalized_formula\n1  MoNbFeCrV               2663  10.1007.s40195-019-00935-x                           NaN                               NaN          NaN                                    NaN                 NaN                      NaN                              NaN  Cr0.2Fe0.2Mo0.2Nb0.2V0.2",
      "text/html": "<div>\n<style scoped>\n    .dataframe tbody tr th:only-of-type {\n        vertical-align: middle;\n    }\n\n    .dataframe tbody tr th {\n        vertical-align: top;\n    }\n\n    .dataframe thead th {\n        text-align: right;\n    }\n</style>\n<table border=\"1\" class=\"dataframe\">\n  <thead>\n    <tr style=\"text-align: right;\">\n      <th></th>\n      <th>FORMULA</th>\n      <th>PROPERTY: YS (MPa)</th>\n      <th>REFERENCE: doi</th>\n      <th>PROPERTY: grain size ($\\mu$m)</th>\n      <th>PROPERTY: Exp. Density (g/cm$^3$)</th>\n      <th>PROPERTY: HV</th>\n      <th>PROPERTY: Test temperature ($^\\circ$C)</th>\n      <th>PROPERTY: UTS (MPa)</th>\n      <th>PROPERTY: Elongation (%)</th>\n      <th>PROPERTY: Elongation plastic (%)</th>\n      <th>normalized_formula</th>\n    </tr>\n  </thead>\n  <tbody>\n    <tr>\n      <th>1</th>\n      <td>MoNbFeCrV</td>\n      <td>2663</td>\n      <td>10.1007.s40195-019-00935-x</td>\n      <td>NaN</td>\n      <td>NaN</td>\n      <td>NaN</td>\n      <td>NaN</td>\n      <td>NaN</td>\n      <td>NaN</td>\n      <td>NaN</td>\n      <td>Cr0.2Fe0.2Mo0.2Nb0.2V0.2</td>\n    </tr>\n  </tbody>\n</table>\n</div>"
     },
     "metadata": {},
     "output_type": "display_data"
    }
   ]
  },
  {
   "cell_type": "code",
   "source": [
    "assess_row_row_match(data_row=r1.iloc[0],\n",
    "                         extracted_row=r2.iloc[0],\n",
    "                         required_keys=['normalized_formula', 'PROPERTY: YS (MPa)'],\n",
    "                         other_keys= [\n",
    "                            #  'PROPERTY: Microstructure',\n",
    "              # 'PROPERTY: Processing method',\n",
    "              # 'PROPERTY: BCC/FCC/other',\n",
    "              'PROPERTY: grain size ($\\mu$m)',\n",
    "              # 'PROPERTY: Type of test',\n",
    "              'PROPERTY: Test temperature ($^\\circ$C)'])"
   ],
   "metadata": {
    "colab": {
     "base_uri": "https://localhost:8080/"
    },
    "id": "nV824ficeHfR",
    "executionInfo": {
     "status": "ok",
     "timestamp": 1707858752750,
     "user_tz": 300,
     "elapsed": 89,
     "user": {
      "displayName": "Satanu Ghosh",
      "userId": "07683061709303200546"
     }
    },
    "outputId": "36c87c63-435c-48ab-8dba-4d7ebf57184d",
    "ExecuteTime": {
     "end_time": "2024-05-17T19:08:42.620451Z",
     "start_time": "2024-05-17T19:08:42.499440500Z"
    }
   },
   "execution_count": 163,
   "outputs": [
    {
     "data": {
      "text/plain": "0.0"
     },
     "execution_count": 163,
     "metadata": {},
     "output_type": "execute_result"
    }
   ]
  },
  {
   "cell_type": "code",
   "source": [],
   "metadata": {
    "id": "wzzBNnEZdQ7R",
    "ExecuteTime": {
     "end_time": "2024-05-17T19:08:43.755713600Z",
     "start_time": "2024-05-17T19:08:43.607702500Z"
    }
   },
   "execution_count": 163,
   "outputs": []
  },
  {
   "cell_type": "markdown",
   "source": [
    "### assess_df_df_match()"
   ],
   "metadata": {
    "id": "3VMlwSpDVJI1"
   }
  },
  {
   "cell_type": "code",
   "source": [
    "from typing import List, Tuple\n",
    "\n",
    "def assess_df_df_matches(\n",
    "        data_df: pd.DataFrame,  # test df\n",
    "        extracted_df: pd.DataFrame,  # extracted df\n",
    "        required_keys: List[str],\n",
    "        other_keys: List[str]\n",
    "):\n",
    "    '''\n",
    "    Assess pairwise row matches between two dfs. Assume columns match.\n",
    "    '''\n",
    "    extracted_data_matches = {}\n",
    "\n",
    "    for extracted_idx, extracted_row in extracted_df.iterrows():\n",
    "        extracted_data_matches[extracted_idx] = {}\n",
    "        for data_idx, data_row in data_df.iterrows():\n",
    "\n",
    "            row_match = assess_row_row_match(data_row=data_row,\n",
    "                                             extracted_row=extracted_row,\n",
    "                                             required_keys=required_keys, other_keys=other_keys)\n",
    "            extracted_data_matches[extracted_idx][data_idx] = row_match\n",
    "\n",
    "    return extracted_data_matches\n"
   ],
   "metadata": {
    "id": "d0Igy6HFVPS0",
    "ExecuteTime": {
     "end_time": "2024-05-17T19:08:44.854117300Z",
     "start_time": "2024-05-17T19:08:44.739108400Z"
    }
   },
   "execution_count": 164,
   "outputs": []
  },
  {
   "cell_type": "markdown",
   "source": [
    "### perform_matching()"
   ],
   "metadata": {
    "id": "HH5htru4VQCp"
   }
  },
  {
   "cell_type": "code",
   "source": [
    "def perform_matching(extracted_data_matches:Dict[int, Dict[int,float]], exclusive_threshold=0.2, verbose:bool=False):\n",
    "    '''\n",
    "    Given a dictionary of row-to-row match strength values, determine a likely one-to-one pairing of rows\n",
    "    by greedily picking the strongest match until there are no more unmatched rows or until no matches are stronger\n",
    "    than the threshold value\n",
    "\n",
    "    :param extracted_data_matches:\n",
    "    :param data_extracted_matches:\n",
    "    :return:\n",
    "    '''\n",
    "    unmatched_extracted_idxs = set()\n",
    "    unmatched_data_idxs = set()\n",
    "    match_strengths = []\n",
    "\n",
    "    for extracted_idx, match_dict in extracted_data_matches.items():\n",
    "        for data_idx, match_strength in match_dict.items():\n",
    "            match_strengths.append((extracted_idx, data_idx, match_strength))\n",
    "            unmatched_extracted_idxs.add(extracted_idx)\n",
    "            unmatched_data_idxs.add(data_idx)\n",
    "\n",
    "    match_strengths = sorted(match_strengths, key=lambda m:m[2], reverse=True)\n",
    "    if verbose:\n",
    "      print(match_strengths)\n",
    "\n",
    "    matches= []\n",
    "\n",
    "    for extracted_idx, data_idx, match_strength in match_strengths:\n",
    "        if match_strength > exclusive_threshold and extracted_idx in unmatched_extracted_idxs and data_idx in unmatched_data_idxs:\n",
    "            matches.append((extracted_idx, data_idx, match_strength))\n",
    "            unmatched_extracted_idxs.remove(extracted_idx)\n",
    "            unmatched_data_idxs.remove(data_idx)\n",
    "\n",
    "    return matches, list(unmatched_extracted_idxs), list(unmatched_data_idxs)\n"
   ],
   "metadata": {
    "id": "i76qAK-4VVGE",
    "ExecuteTime": {
     "end_time": "2024-05-17T19:08:45.715530800Z",
     "start_time": "2024-05-17T19:08:45.609524800Z"
    }
   },
   "execution_count": 165,
   "outputs": []
  },
  {
   "cell_type": "markdown",
   "source": [
    "### align_dfs()"
   ],
   "metadata": {
    "id": "rn-febiYVV0D"
   }
  },
  {
   "cell_type": "code",
   "source": [
    "from typing import Union, Callable\n",
    "def align_dfs(data_df: pd.DataFrame,  # test df\n",
    "                      extracted_df: pd.DataFrame,  # extracted df\n",
    "                      required_keys: List[str],  # keys rows absolutely must match on to be a potential match (e.g. formula, target value (yield strength, etc))\n",
    "                      other_keys: List[str],  # keys rows could/should match on if possible, but a non-match isn't disqualifying (e.g. grain size, test temp)\n",
    "                      extracted_to_data_colmap: Dict[str, str],  # map between data and extracted df columns\n",
    "                      group_by: Union[str, Tuple[str,str]],  # group by this before doing the matching. Should be paper title or DOI. If tuple, first is for data_df, second for extracted_df\n",
    "                      discard_nonextracted_keys: bool = False,  # If true, ignore other_keys that don't exist in the extracted_df\n",
    "                      verbose: bool = False,\n",
    "                      debug_group_count: int=None,\n",
    "                      debug_group_skip:int=None,\n",
    "                      debug_group_filter:Callable=None\n",
    "                      ):\n",
    "    '''\n",
    "    :param data_df: human-annotated df\n",
    "   :param extracted_df: model-extracted df. Should have same structure as human-annotated one, but columns don't have to match\n",
    "   :param required_keys: keys that absolutely have to match for a pair of records to be considered a potential match (e.g. formula and YS, if YS is the target value)\n",
    "   :param other_keys: keys that should match, but don't absolutely have to (e.g. grain size, test temp)\n",
    "   :param extracted_to_data_colmap: dictionary mapping column names from extracted DF to original DF\n",
    "   :param group_by: column to group by before doing the matching. Should be title or DOI\n",
    "   :param discard_nonextracted_keys: whether to ignore any keys that weren't extracted, as these could never be a match (e.g. test type if we didn't try to extract it)\n",
    "   :param verbose: whether to print additional output\n",
    "   :return:\n",
    "\n",
    "    Take a dataframe of human-extracted values (e.g. Carolina's dataset), and align it with\n",
    "    a dataframe of model-extracted values.\n",
    "\n",
    "    Goal here is alignment--figure out which extracted records match with which original records,\n",
    "    and which original and extracted records are unmatched.\n",
    "\n",
    "    Do this with a greedy matching algorithm.\n",
    "\n",
    "    Return a combined dataframe where matched records are merged side by side with their columns\n",
    "    suffixed with '_original' and '_extracted' respectively. Unmatched records are included too, with\n",
    "    NaN values for the columns that couldn't be matched.\n",
    "\n",
    "   index  extracted_idx  original_idx  match_strength match_group formula_original  test_temp_original  grain_size_original test_type_original  ys_original title_original formula_extracted  test_temp_extracted grain_size_extracted  ys_extracted title_extracted\n",
    "0      0            0.0           0.0            0.75     paper_1              NbV               100.0                 25.5             Normal         14.4        paper_1               NbV                100.0                 None          14.4         paper_1\n",
    "1      1            NaN           1.0             NaN     paper_1              NbV               200.0                 34.0             Normal         24.8        paper_1               NaN                  NaN                  NaN           NaN             NaN\n",
    "2      1            1.0           NaN             NaN     paper_1              NaN                 NaN                  NaN                NaN          NaN            NaN               NbV                300.0                 None          24.5         paper_1\n",
    "\n",
    "    So when you want to isolate rows that were successfully matched, just look for pd.notnull(original_idx) and pd.notnull(extracted_idx), and\n",
    "    vice versa for finding original or extracted rows that couldn't be matched.\n",
    "\n",
    "    '''\n",
    "    all_keys = required_keys + other_keys\n",
    "    data_keys = [col for col in all_keys if col in data_df]\n",
    "\n",
    "    if verbose:\n",
    "        print('True data DF:')\n",
    "        display(data_df[data_keys])\n",
    "\n",
    "    extracted_df = extracted_df.rename(columns=extracted_to_data_colmap)\n",
    "\n",
    "    if discard_nonextracted_keys:\n",
    "        other_keys = [key for key in other_keys if key in extracted_df]\n",
    "\n",
    "    extracted_keys  = [key for key in all_keys if key in extracted_df]\n",
    "\n",
    "    if verbose:\n",
    "        print('Extracted data DF (with renamed columns):')\n",
    "        display(extracted_df[extracted_keys])\n",
    "        print('Required keys:', required_keys)\n",
    "        print('Other keys to match on:', other_keys)\n",
    "        print('\\nMatching rows:')\n",
    "\n",
    "    if type(group_by) == str:\n",
    "      data_groups = data_df.groupby(group_by)\n",
    "      extracted_groups = extracted_df.groupby(group_by)\n",
    "    elif type(group_by) == tuple:\n",
    "      data_groups = data_df.groupby(group_by[0])\n",
    "      extracted_groups = extracted_df.groupby(group_by[1])\n",
    "      group_by=group_by[0]\n",
    "\n",
    "    # By definition we can assume that data_df has a nonempty group for every paper\n",
    "    # The same is not necessarily true for extracted_df, if no values were found for a paper\n",
    "\n",
    "    match_dfs = []\n",
    "    group_count = 0\n",
    "    group_skip = 0 if debug_group_skip is None else debug_group_skip\n",
    "\n",
    "    for group, data_indices in data_groups.indices.items():\n",
    "        extracted_indices = extracted_groups.indices[group] if group in extracted_groups.indices else []\n",
    "\n",
    "        if verbose:\n",
    "          print('---')\n",
    "          print(group_by, group)\n",
    "          print('original indices',data_indices)\n",
    "          print('extracted indices', extracted_indices)\n",
    "\n",
    "        group_data_df = data_df.iloc[data_indices]\n",
    "        group_extracted_df = extracted_df.iloc[extracted_indices]\n",
    "\n",
    "        if debug_group_filter and ( not debug_group_filter(group_data_df) or not debug_group_filter(group_extracted_df)):\n",
    "          if verbose: print('Group debug filter fail. Skipping.')\n",
    "          continue\n",
    "\n",
    "        group_count +=1\n",
    "        if group_count <= group_skip:\n",
    "          if verbose:print('Skipping for debug')\n",
    "          continue\n",
    "\n",
    "        if verbose:\n",
    "          print('Group data df:')\n",
    "          display(group_data_df[data_keys])\n",
    "          print('Group extracted df:')\n",
    "          display(group_extracted_df[extracted_keys])\n",
    "\n",
    "        e_d_matches = assess_df_df_matches(data_df=group_data_df,\n",
    "                                                        extracted_df=group_extracted_df,\n",
    "                                                        required_keys=required_keys,\n",
    "                                                        other_keys=other_keys)\n",
    "\n",
    "        # print('extracted matches')\n",
    "        # print(e_d_matches)\n",
    "\n",
    "        matches, unmatched_extracted_idxs, unmatched_data_idxs = perform_matching(extracted_data_matches=e_d_matches, verbose=verbose)\n",
    "\n",
    "\n",
    "        match_df = pd.DataFrame(matches, columns=['extracted_idx','original_idx', 'match_strength'])\n",
    "        match_df['match_group'] = group\n",
    "\n",
    "        if verbose:\n",
    "          print('matches:')\n",
    "          print(matches)\n",
    "          print('match df:')\n",
    "          display(match_df)\n",
    "\n",
    "\n",
    "        match_df = match_df.merge(group_data_df.rename(columns=lambda c:c+'_original'), left_on='original_idx', right_index=True)\n",
    "\n",
    "        if verbose:\n",
    "          print('merged match df:')\n",
    "          display(match_df)\n",
    "\n",
    "        match_df = match_df.merge(group_extracted_df.rename(columns=lambda c: c + '_extracted'), left_on='extracted_idx', right_index=True)\n",
    "\n",
    "        if verbose:\n",
    "          print('second merged match df:')\n",
    "          display(match_df)\n",
    "\n",
    "        unmatched_extracted_df = group_extracted_df.loc[unmatched_extracted_idxs].rename(columns=lambda c:c+'_extracted')\n",
    "        unmatched_extracted_df['extracted_idx'] = unmatched_extracted_idxs\n",
    "        unmatched_extracted_df['match_group'] = group\n",
    "\n",
    "        unmatched_data_df = group_data_df.loc[unmatched_data_idxs].rename(columns=lambda c:c+'_original')\n",
    "        unmatched_data_df['original_idx'] = unmatched_data_idxs\n",
    "        unmatched_data_df['match_group'] = group\n",
    "\n",
    "        match_df = pd.concat([match_df, unmatched_data_df, unmatched_extracted_df], axis=0)\n",
    "        match_dfs.append(match_df)\n",
    "        pass\n",
    "\n",
    "        if verbose:\n",
    "          print('===')\n",
    "\n",
    "        if debug_group_count and group_count >= debug_group_count+group_skip:\n",
    "          break\n",
    "\n",
    "    all_match_df = pd.concat(match_dfs, axis=0).reset_index()\n",
    "    return all_match_df\n"
   ],
   "metadata": {
    "id": "e7IcXdEcVdwl",
    "ExecuteTime": {
     "end_time": "2024-05-17T19:08:46.939857400Z",
     "start_time": "2024-05-17T19:08:46.790846400Z"
    }
   },
   "execution_count": 166,
   "outputs": []
  },
  {
   "cell_type": "markdown",
   "source": [
    "### Testing"
   ],
   "metadata": {
    "id": "5RWPAZXAVebP"
   }
  },
  {
   "cell_type": "markdown",
   "source": [
    "#### Toy dataset"
   ],
   "metadata": {
    "id": "EEhuDdkwWoA4"
   }
  },
  {
   "cell_type": "code",
   "source": [
    "required_keys = ['formula', 'ys']\n",
    "other_keys = [ 'test_temp', 'grain_size', 'test_type']\n",
    "\n",
    "t_tdf = pd.DataFrame([{'formula':'NbV', 'test_temp':100, 'grain_size':25.5, 'test_type':'Normal', 'ys':14.4, 'title':'paper_1'},\n",
    "                     {'formula':'NbV', 'test_temp':200, 'grain_size':34, 'test_type':'Normal', 'ys':24.8, 'title':'paper_1'},\n",
    "                     ])\n",
    "\n",
    "\n",
    "tkey_mapping = {'test_temp':'test temperature', 'grain_size':'grain size', 'ys':'yield strength'}\n",
    "inverted_tkey_mapping = {value:key for key, value in tkey_mapping.items()}\n",
    "\n",
    "t_edf1 = pd.DataFrame([{'formula':'NbV', 'test temperature':100, 'grain size':None, 'yield strength':14.4, 'title':'paper_1'},\n",
    "                       {'formula':'NbV', 'test temperature':300, 'grain size':None, 'yield strength':24.5, 'title':'paper_1'},\n",
    "                       ])\n",
    "\n",
    "\n",
    "\n",
    "\n",
    "df_result = align_dfs(data_df=t_tdf,\n",
    "                  extracted_df=t_edf1,\n",
    "                  required_keys=required_keys,\n",
    "                  other_keys=other_keys,\n",
    "                  extracted_to_data_colmap=inverted_tkey_mapping,\n",
    "                  group_by='title',\n",
    "                  discard_nonextracted_keys=True,\n",
    "                  verbose=True\n",
    "                  )\n",
    "\n",
    "pd.options.display.width=300\n",
    "print(df_result)"
   ],
   "metadata": {
    "id": "LXSdQdy7ZXQd",
    "executionInfo": {
     "status": "ok",
     "timestamp": 1707858753336,
     "user_tz": 300,
     "elapsed": 68,
     "user": {
      "displayName": "Satanu Ghosh",
      "userId": "07683061709303200546"
     }
    },
    "colab": {
     "base_uri": "https://localhost:8080/",
     "height": 1000
    },
    "outputId": "9d5d138b-51e4-40c8-8417-dd797ed221d7",
    "ExecuteTime": {
     "end_time": "2024-05-17T19:08:48.817731800Z",
     "start_time": "2024-05-17T19:08:48.670722Z"
    }
   },
   "execution_count": 167,
   "outputs": [
    {
     "name": "stdout",
     "output_type": "stream",
     "text": [
      "True data DF:\n"
     ]
    },
    {
     "data": {
      "text/plain": "  formula    ys  test_temp  grain_size test_type\n0     NbV  14.4        100        25.5    Normal\n1     NbV  24.8        200        34.0    Normal",
      "text/html": "<div>\n<style scoped>\n    .dataframe tbody tr th:only-of-type {\n        vertical-align: middle;\n    }\n\n    .dataframe tbody tr th {\n        vertical-align: top;\n    }\n\n    .dataframe thead th {\n        text-align: right;\n    }\n</style>\n<table border=\"1\" class=\"dataframe\">\n  <thead>\n    <tr style=\"text-align: right;\">\n      <th></th>\n      <th>formula</th>\n      <th>ys</th>\n      <th>test_temp</th>\n      <th>grain_size</th>\n      <th>test_type</th>\n    </tr>\n  </thead>\n  <tbody>\n    <tr>\n      <th>0</th>\n      <td>NbV</td>\n      <td>14.4</td>\n      <td>100</td>\n      <td>25.5</td>\n      <td>Normal</td>\n    </tr>\n    <tr>\n      <th>1</th>\n      <td>NbV</td>\n      <td>24.8</td>\n      <td>200</td>\n      <td>34.0</td>\n      <td>Normal</td>\n    </tr>\n  </tbody>\n</table>\n</div>"
     },
     "metadata": {},
     "output_type": "display_data"
    },
    {
     "name": "stdout",
     "output_type": "stream",
     "text": [
      "Extracted data DF (with renamed columns):\n"
     ]
    },
    {
     "data": {
      "text/plain": "  formula    ys  test_temp grain_size\n0     NbV  14.4        100       None\n1     NbV  24.5        300       None",
      "text/html": "<div>\n<style scoped>\n    .dataframe tbody tr th:only-of-type {\n        vertical-align: middle;\n    }\n\n    .dataframe tbody tr th {\n        vertical-align: top;\n    }\n\n    .dataframe thead th {\n        text-align: right;\n    }\n</style>\n<table border=\"1\" class=\"dataframe\">\n  <thead>\n    <tr style=\"text-align: right;\">\n      <th></th>\n      <th>formula</th>\n      <th>ys</th>\n      <th>test_temp</th>\n      <th>grain_size</th>\n    </tr>\n  </thead>\n  <tbody>\n    <tr>\n      <th>0</th>\n      <td>NbV</td>\n      <td>14.4</td>\n      <td>100</td>\n      <td>None</td>\n    </tr>\n    <tr>\n      <th>1</th>\n      <td>NbV</td>\n      <td>24.5</td>\n      <td>300</td>\n      <td>None</td>\n    </tr>\n  </tbody>\n</table>\n</div>"
     },
     "metadata": {},
     "output_type": "display_data"
    },
    {
     "name": "stdout",
     "output_type": "stream",
     "text": [
      "Required keys: ['formula', 'ys']\n",
      "Other keys to match on: ['test_temp', 'grain_size']\n",
      "\n",
      "Matching rows:\n",
      "---\n",
      "title paper_1\n",
      "original indices [0 1]\n",
      "extracted indices [0 1]\n",
      "Group data df:\n"
     ]
    },
    {
     "data": {
      "text/plain": "  formula    ys  test_temp  grain_size test_type\n0     NbV  14.4        100        25.5    Normal\n1     NbV  24.8        200        34.0    Normal",
      "text/html": "<div>\n<style scoped>\n    .dataframe tbody tr th:only-of-type {\n        vertical-align: middle;\n    }\n\n    .dataframe tbody tr th {\n        vertical-align: top;\n    }\n\n    .dataframe thead th {\n        text-align: right;\n    }\n</style>\n<table border=\"1\" class=\"dataframe\">\n  <thead>\n    <tr style=\"text-align: right;\">\n      <th></th>\n      <th>formula</th>\n      <th>ys</th>\n      <th>test_temp</th>\n      <th>grain_size</th>\n      <th>test_type</th>\n    </tr>\n  </thead>\n  <tbody>\n    <tr>\n      <th>0</th>\n      <td>NbV</td>\n      <td>14.4</td>\n      <td>100</td>\n      <td>25.5</td>\n      <td>Normal</td>\n    </tr>\n    <tr>\n      <th>1</th>\n      <td>NbV</td>\n      <td>24.8</td>\n      <td>200</td>\n      <td>34.0</td>\n      <td>Normal</td>\n    </tr>\n  </tbody>\n</table>\n</div>"
     },
     "metadata": {},
     "output_type": "display_data"
    },
    {
     "name": "stdout",
     "output_type": "stream",
     "text": [
      "Group extracted df:\n"
     ]
    },
    {
     "data": {
      "text/plain": "  formula    ys  test_temp grain_size\n0     NbV  14.4        100       None\n1     NbV  24.5        300       None",
      "text/html": "<div>\n<style scoped>\n    .dataframe tbody tr th:only-of-type {\n        vertical-align: middle;\n    }\n\n    .dataframe tbody tr th {\n        vertical-align: top;\n    }\n\n    .dataframe thead th {\n        text-align: right;\n    }\n</style>\n<table border=\"1\" class=\"dataframe\">\n  <thead>\n    <tr style=\"text-align: right;\">\n      <th></th>\n      <th>formula</th>\n      <th>ys</th>\n      <th>test_temp</th>\n      <th>grain_size</th>\n    </tr>\n  </thead>\n  <tbody>\n    <tr>\n      <th>0</th>\n      <td>NbV</td>\n      <td>14.4</td>\n      <td>100</td>\n      <td>None</td>\n    </tr>\n    <tr>\n      <th>1</th>\n      <td>NbV</td>\n      <td>24.5</td>\n      <td>300</td>\n      <td>None</td>\n    </tr>\n  </tbody>\n</table>\n</div>"
     },
     "metadata": {},
     "output_type": "display_data"
    },
    {
     "name": "stdout",
     "output_type": "stream",
     "text": [
      "[(0, 0, 0.75), (0, 1, 0.0), (1, 0, 0.0), (1, 1, 0.0)]\n",
      "matches:\n",
      "[(0, 0, 0.75)]\n",
      "match df:\n"
     ]
    },
    {
     "data": {
      "text/plain": "   extracted_idx  original_idx  match_strength match_group\n0              0             0            0.75     paper_1",
      "text/html": "<div>\n<style scoped>\n    .dataframe tbody tr th:only-of-type {\n        vertical-align: middle;\n    }\n\n    .dataframe tbody tr th {\n        vertical-align: top;\n    }\n\n    .dataframe thead th {\n        text-align: right;\n    }\n</style>\n<table border=\"1\" class=\"dataframe\">\n  <thead>\n    <tr style=\"text-align: right;\">\n      <th></th>\n      <th>extracted_idx</th>\n      <th>original_idx</th>\n      <th>match_strength</th>\n      <th>match_group</th>\n    </tr>\n  </thead>\n  <tbody>\n    <tr>\n      <th>0</th>\n      <td>0</td>\n      <td>0</td>\n      <td>0.75</td>\n      <td>paper_1</td>\n    </tr>\n  </tbody>\n</table>\n</div>"
     },
     "metadata": {},
     "output_type": "display_data"
    },
    {
     "name": "stdout",
     "output_type": "stream",
     "text": [
      "merged match df:\n"
     ]
    },
    {
     "data": {
      "text/plain": "   extracted_idx  original_idx  match_strength match_group formula_original  test_temp_original  grain_size_original test_type_original  ys_original title_original\n0              0             0            0.75     paper_1              NbV                 100                 25.5             Normal         14.4        paper_1",
      "text/html": "<div>\n<style scoped>\n    .dataframe tbody tr th:only-of-type {\n        vertical-align: middle;\n    }\n\n    .dataframe tbody tr th {\n        vertical-align: top;\n    }\n\n    .dataframe thead th {\n        text-align: right;\n    }\n</style>\n<table border=\"1\" class=\"dataframe\">\n  <thead>\n    <tr style=\"text-align: right;\">\n      <th></th>\n      <th>extracted_idx</th>\n      <th>original_idx</th>\n      <th>match_strength</th>\n      <th>match_group</th>\n      <th>formula_original</th>\n      <th>test_temp_original</th>\n      <th>grain_size_original</th>\n      <th>test_type_original</th>\n      <th>ys_original</th>\n      <th>title_original</th>\n    </tr>\n  </thead>\n  <tbody>\n    <tr>\n      <th>0</th>\n      <td>0</td>\n      <td>0</td>\n      <td>0.75</td>\n      <td>paper_1</td>\n      <td>NbV</td>\n      <td>100</td>\n      <td>25.5</td>\n      <td>Normal</td>\n      <td>14.4</td>\n      <td>paper_1</td>\n    </tr>\n  </tbody>\n</table>\n</div>"
     },
     "metadata": {},
     "output_type": "display_data"
    },
    {
     "name": "stdout",
     "output_type": "stream",
     "text": [
      "second merged match df:\n"
     ]
    },
    {
     "data": {
      "text/plain": "   extracted_idx  original_idx  match_strength match_group formula_original  test_temp_original  grain_size_original test_type_original  ys_original title_original formula_extracted  test_temp_extracted grain_size_extracted  ys_extracted title_extracted\n0              0             0            0.75     paper_1              NbV                 100                 25.5             Normal         14.4        paper_1               NbV                  100                 None          14.4         paper_1",
      "text/html": "<div>\n<style scoped>\n    .dataframe tbody tr th:only-of-type {\n        vertical-align: middle;\n    }\n\n    .dataframe tbody tr th {\n        vertical-align: top;\n    }\n\n    .dataframe thead th {\n        text-align: right;\n    }\n</style>\n<table border=\"1\" class=\"dataframe\">\n  <thead>\n    <tr style=\"text-align: right;\">\n      <th></th>\n      <th>extracted_idx</th>\n      <th>original_idx</th>\n      <th>match_strength</th>\n      <th>match_group</th>\n      <th>formula_original</th>\n      <th>test_temp_original</th>\n      <th>grain_size_original</th>\n      <th>test_type_original</th>\n      <th>ys_original</th>\n      <th>title_original</th>\n      <th>formula_extracted</th>\n      <th>test_temp_extracted</th>\n      <th>grain_size_extracted</th>\n      <th>ys_extracted</th>\n      <th>title_extracted</th>\n    </tr>\n  </thead>\n  <tbody>\n    <tr>\n      <th>0</th>\n      <td>0</td>\n      <td>0</td>\n      <td>0.75</td>\n      <td>paper_1</td>\n      <td>NbV</td>\n      <td>100</td>\n      <td>25.5</td>\n      <td>Normal</td>\n      <td>14.4</td>\n      <td>paper_1</td>\n      <td>NbV</td>\n      <td>100</td>\n      <td>None</td>\n      <td>14.4</td>\n      <td>paper_1</td>\n    </tr>\n  </tbody>\n</table>\n</div>"
     },
     "metadata": {},
     "output_type": "display_data"
    },
    {
     "name": "stdout",
     "output_type": "stream",
     "text": [
      "===\n",
      "   index  extracted_idx  original_idx  match_strength match_group formula_original  test_temp_original  grain_size_original test_type_original  ys_original title_original formula_extracted  test_temp_extracted grain_size_extracted  ys_extracted title_extracted\n",
      "0      0            0.0           0.0            0.75     paper_1              NbV               100.0                 25.5             Normal         14.4        paper_1               NbV                100.0                 None          14.4         paper_1\n",
      "1      1            NaN           1.0             NaN     paper_1              NbV               200.0                 34.0             Normal         24.8        paper_1               NaN                  NaN                  NaN           NaN             NaN\n",
      "2      1            1.0           NaN             NaN     paper_1              NaN                 NaN                  NaN                NaN          NaN            NaN               NbV                300.0                 None          24.5         paper_1\n"
     ]
    }
   ]
  },
  {
   "cell_type": "markdown",
   "source": [
    "#### Real data"
   ],
   "metadata": {
    "id": "5Sxvae14WriY"
   }
  },
  {
   "cell_type": "code",
   "source": [
    "# These have to be a match\n",
    "required_keys = ['normalized_formula', # I added this to both dfs up above in the unique records section\n",
    "                 'PROPERTY: YS (MPa)']\n",
    "\n",
    "# These should be a match but it isn't the end of the world if they aren't\n",
    "other_keys =[ 'PROPERTY: Microstructure',\n",
    "              'PROPERTY: Processing method',\n",
    "              'PROPERTY: BCC/FCC/other',\n",
    "              'PROPERTY: grain size ($\\mu$m)',\n",
    "              'PROPERTY: Type of test',\n",
    "              'PROPERTY: Test temperature ($^\\circ$C)']\n",
    "\n",
    "\n",
    "df_result = align_dfs(data_df=filtered_paper_df,\n",
    "                  extracted_df=extraction_df,\n",
    "                  required_keys=required_keys,\n",
    "                  other_keys=other_keys,\n",
    "                  extracted_to_data_colmap=inverted_colname_map,\n",
    "                  group_by=('processed_doi', 'REFERENCE: doi'),\n",
    "                  discard_nonextracted_keys=True,\n",
    "                  # verbose=True,\n",
    "                  # debug_group_count=1,\n",
    "                  # debug_group_skip=1,\n",
    "                  # debug_group_filter = lambda df: np.any(df['PROPERTY: YS (MPa)'].notnull())\n",
    "                  )\n",
    "\n",
    "\n",
    "\n",
    "display(df_result)"
   ],
   "metadata": {
    "colab": {
     "base_uri": "https://localhost:8080/",
     "height": 912
    },
    "id": "wgIUzqE2WU0M",
    "executionInfo": {
     "status": "ok",
     "timestamp": 1707858754965,
     "user_tz": 300,
     "elapsed": 1692,
     "user": {
      "displayName": "Satanu Ghosh",
      "userId": "07683061709303200546"
     }
    },
    "outputId": "fbfe59f6-c974-490d-a5f3-2e37c411fa71",
    "ExecuteTime": {
     "end_time": "2024-05-17T19:08:53.118952300Z",
     "start_time": "2024-05-17T19:08:51.806045300Z"
    }
   },
   "execution_count": 168,
   "outputs": [
    {
     "data": {
      "text/plain": "      index  extracted_idx  original_idx  match_strength                             match_group  IDENTIFIER: Reference ID_original                                FORMULA_original PROPERTY: Microstructure_original PROPERTY: Processing method_original PROPERTY: BCC/FCC/other_original  \\\n0       355            NaN         355.0             NaN                  10.1002.adem.200300567                               15.0  Fe0.167 Mo0.167 Ni0.167 Ti0.167 V0.167 Zr0.167                          BCC+Sec.                                 CAST                            other   \n1       653          653.0           NaN             NaN                  10.1002.adem.200300567                                NaN                                             NaN                               NaN                                  NaN                              NaN   \n2       654          654.0           NaN             NaN                  10.1002.adem.200300567                                NaN                                             NaN                               NaN                                  NaN                              NaN   \n3       655          655.0           NaN             NaN                  10.1002.adem.200300567                                NaN                                             NaN                               NaN                                  NaN                              NaN   \n4       656          656.0           NaN             NaN                  10.1002.adem.200300567                                NaN                                             NaN                               NaN                                  NaN                              NaN   \n...     ...            ...           ...             ...                                     ...                                ...                                             ...                               ...                                  ...                              ...   \n1749     11            NaN          11.0             NaN  10.4028.www.scientific.net.MSF.898.638                               86.0          Al0.048 Mo0.238 Ta0.238 Ti0.238 V0.238                               BCC                                 CAST                              BCC   \n1750    196            NaN         196.0             NaN  10.4028.www.scientific.net.MSF.898.638                               86.0                    Al0.2 Mo0.2 Ta0.2 Ti0.2 V0.2                               BCC                                 CAST                              BCC   \n1751    808          808.0           NaN             NaN  10.4028.www.scientific.net.MSF.898.638                                NaN                                             NaN                               NaN                                  NaN                              NaN   \n1752    809          809.0           NaN             NaN  10.4028.www.scientific.net.MSF.898.638                                NaN                                             NaN                               NaN                                  NaN                              NaN   \n1753    807          807.0           NaN             NaN  10.4028.www.scientific.net.MSF.898.638                                NaN                                             NaN                               NaN                                  NaN                              NaN   \n\n      PROPERTY: grain size ($\\mu$m)_original  PROPERTY: Exp. Density (g/cm$^3$)_original  PROPERTY: Computed Density (g/cm$^3$)_original  PROPERTY: HV_original PROPERTY: Type of test_original  PROPERTY: Test temperature ($^\\circ$C)_original  PROPERTY: YS (MPa)_original  \\\n0                                        NaN                                         NaN                                             7.4                  740.0                             NaN                                             25.0                          NaN   \n1                                        NaN                                         NaN                                             NaN                    NaN                             NaN                                              NaN                          NaN   \n2                                        NaN                                         NaN                                             NaN                    NaN                             NaN                                              NaN                          NaN   \n3                                        NaN                                         NaN                                             NaN                    NaN                             NaN                                              NaN                          NaN   \n4                                        NaN                                         NaN                                             NaN                    NaN                             NaN                                              NaN                          NaN   \n...                                      ...                                         ...                                             ...                    ...                             ...                                              ...                          ...   \n1749                                     NaN                                         NaN                                             9.1                    NaN                               C                                             25.0                       1021.0   \n1750                                     NaN                                         NaN                                             8.0                    NaN                               C                                             25.0                          NaN   \n1751                                     NaN                                         NaN                                             NaN                    NaN                             NaN                                              NaN                          NaN   \n1752                                     NaN                                         NaN                                             NaN                    NaN                             NaN                                              NaN                          NaN   \n1753                                     NaN                                         NaN                                             NaN                    NaN                             NaN                                              NaN                          NaN   \n\n      PROPERTY: UTS (MPa)_original  PROPERTY: Elongation (%)_original  PROPERTY: Elongation plastic (%)_original  PROPERTY: Exp. Young modulus (GPa)_original  PROPERTY: Computed Young modulus (GPa)_original  PROPERTY: O content (wppm)_original  PROPERTY: N content (wppm)_original  \\\n0                              NaN                                NaN                                        NaN                                          NaN                                            175.0                                  NaN                                  NaN   \n1                              NaN                                NaN                                        NaN                                          NaN                                              NaN                                  NaN                                  NaN   \n2                              NaN                                NaN                                        NaN                                          NaN                                              NaN                                  NaN                                  NaN   \n3                              NaN                                NaN                                        NaN                                          NaN                                              NaN                                  NaN                                  NaN   \n4                              NaN                                NaN                                        NaN                                          NaN                                              NaN                                  NaN                                  NaN   \n...                            ...                                ...                                        ...                                          ...                                              ...                                  ...                                  ...   \n1749                        1249.0                                NaN                                        NaN                                          NaN                                            184.0                                  NaN                                  NaN   \n1750                         735.0                                NaN                                        NaN                                          NaN                                            166.0                                  NaN                                  NaN   \n1751                           NaN                                NaN                                        NaN                                          NaN                                              NaN                                  NaN                                  NaN   \n1752                           NaN                                NaN                                        NaN                                          NaN                                              NaN                                  NaN                                  NaN   \n1753                           NaN                                NaN                                        NaN                                          NaN                                              NaN                                  NaN                                  NaN   \n\n      PROPERTY: C content (wppm)_original                 REFERENCE: doi_original  REFERENCE: year_original                          REFERENCE: title_original                  processed_doi_original                normalized_formula_original FORMULA_extracted PROPERTY: YS (MPa)_extracted  \\\n0                                     NaN                  10.1002/adem.200300567                    2004.0  Nanostructured High-Entropy Alloys with Multip...                  10.1002.adem.200300567  Fe0.167Mo0.167Ni0.167Ti0.167V0.167Zr0.167               NaN                          NaN   \n1                                     NaN                                     NaN                       NaN                                                NaN                                     NaN                                        NaN      CuCoNiCrAlFe                          NaN   \n2                                     NaN                                     NaN                       NaN                                                NaN                                     NaN                                        NaN      CuCoNiCrAlFe                          NaN   \n3                                     NaN                                     NaN                       NaN                                                NaN                                     NaN                                        NaN      CuCoNiCrAlFe                          NaN   \n4                                     NaN                                     NaN                       NaN                                                NaN                                     NaN                                        NaN      CuCoNiCrAlFe                          NaN   \n...                                   ...                                     ...                       ...                                                ...                                     ...                                        ...               ...                          ...   \n1749                                  NaN  10.4028/www.scientific.net/MSF.898.638                    2017.0  Microstructure and Mechanical Properties of VT...  10.4028.www.scientific.net.MSF.898.638         Al0.048Mo0.238Ta0.238Ti0.238V0.238               NaN                          NaN   \n1750                                  NaN  10.4028/www.scientific.net/MSF.898.638                    2017.0  Microstructure and Mechanical Properties of VT...  10.4028.www.scientific.net.MSF.898.638                   Al0.2Mo0.2Ta0.2Ti0.2V0.2               NaN                          NaN   \n1751                                  NaN                                     NaN                       NaN                                                NaN                                     NaN                                        NaN        VTaTiMoAl0                       1221.0   \n1752                                  NaN                                     NaN                       NaN                                                NaN                                     NaN                                        NaN        VTaTiMoAl0                       1221.0   \n1753                                  NaN                                     NaN                       NaN                                                NaN                                     NaN                                        NaN        VTaTiMoAl0                       1221.0   \n\n                    REFERENCE: doi_extracted PROPERTY: grain size ($\\mu$m)_extracted PROPERTY: Exp. Density (g/cm$^3$)_extracted PROPERTY: HV_extracted PROPERTY: Test temperature ($^\\circ$C)_extracted PROPERTY: UTS (MPa)_extracted PROPERTY: Elongation (%)_extracted  \\\n0                                        NaN                                     NaN                                         NaN                    NaN                                              NaN                           NaN                                NaN   \n1                     10.1002.adem.200300567                                     NaN                                         NaN                    133                                              NaN                           NaN                                NaN   \n2                     10.1002.adem.200300567                                     NaN                                         NaN                    133                                              NaN                           NaN                                NaN   \n3                     10.1002.adem.200300567                                     NaN                                         NaN                    133                                              NaN                           NaN                                NaN   \n4                     10.1002.adem.200300567                                     NaN                                         NaN                    133                                              NaN                           NaN                                NaN   \n...                                      ...                                     ...                                         ...                    ...                                              ...                           ...                                ...   \n1749                                     NaN                                     NaN                                         NaN                    NaN                                              NaN                           NaN                                NaN   \n1750                                     NaN                                     NaN                                         NaN                    NaN                                              NaN                           NaN                                NaN   \n1751  10.4028.www.scientific.net.MSF.898.638                                     NaN                                         NaN                    NaN                                              NaN                        1454.0                               9.93   \n1752  10.4028.www.scientific.net.MSF.898.638                                     NaN                                         NaN                    NaN                                              NaN                        1454.0                               9.93   \n1753  10.4028.www.scientific.net.MSF.898.638                                     NaN                                         NaN                    NaN                                              NaN                        1454.0                               9.93   \n\n     PROPERTY: Elongation plastic (%)_extracted                normalized_formula_extracted  \n0                                           NaN                                         NaN  \n1                                           NaN  Al0.167Co0.167Cr0.167Cu0.167Fe0.167Ni0.167  \n2                                           NaN  Al0.167Co0.167Cr0.167Cu0.167Fe0.167Ni0.167  \n3                                           NaN  Al0.167Co0.167Cr0.167Cu0.167Fe0.167Ni0.167  \n4                                           NaN  Al0.167Co0.167Cr0.167Cu0.167Fe0.167Ni0.167  \n...                                         ...                                         ...  \n1749                                        NaN                                         NaN  \n1750                                        NaN                                         NaN  \n1751                                        NaN                     Mo0.25Ta0.25Ti0.25V0.25  \n1752                                        NaN                     Mo0.25Ta0.25Ti0.25V0.25  \n1753                                        NaN                     Mo0.25Ta0.25Ti0.25V0.25  \n\n[1754 rows x 41 columns]",
      "text/html": "<div>\n<style scoped>\n    .dataframe tbody tr th:only-of-type {\n        vertical-align: middle;\n    }\n\n    .dataframe tbody tr th {\n        vertical-align: top;\n    }\n\n    .dataframe thead th {\n        text-align: right;\n    }\n</style>\n<table border=\"1\" class=\"dataframe\">\n  <thead>\n    <tr style=\"text-align: right;\">\n      <th></th>\n      <th>index</th>\n      <th>extracted_idx</th>\n      <th>original_idx</th>\n      <th>match_strength</th>\n      <th>match_group</th>\n      <th>IDENTIFIER: Reference ID_original</th>\n      <th>FORMULA_original</th>\n      <th>PROPERTY: Microstructure_original</th>\n      <th>PROPERTY: Processing method_original</th>\n      <th>PROPERTY: BCC/FCC/other_original</th>\n      <th>PROPERTY: grain size ($\\mu$m)_original</th>\n      <th>PROPERTY: Exp. Density (g/cm$^3$)_original</th>\n      <th>PROPERTY: Computed Density (g/cm$^3$)_original</th>\n      <th>PROPERTY: HV_original</th>\n      <th>PROPERTY: Type of test_original</th>\n      <th>PROPERTY: Test temperature ($^\\circ$C)_original</th>\n      <th>PROPERTY: YS (MPa)_original</th>\n      <th>PROPERTY: UTS (MPa)_original</th>\n      <th>PROPERTY: Elongation (%)_original</th>\n      <th>PROPERTY: Elongation plastic (%)_original</th>\n      <th>PROPERTY: Exp. Young modulus (GPa)_original</th>\n      <th>PROPERTY: Computed Young modulus (GPa)_original</th>\n      <th>PROPERTY: O content (wppm)_original</th>\n      <th>PROPERTY: N content (wppm)_original</th>\n      <th>PROPERTY: C content (wppm)_original</th>\n      <th>REFERENCE: doi_original</th>\n      <th>REFERENCE: year_original</th>\n      <th>REFERENCE: title_original</th>\n      <th>processed_doi_original</th>\n      <th>normalized_formula_original</th>\n      <th>FORMULA_extracted</th>\n      <th>PROPERTY: YS (MPa)_extracted</th>\n      <th>REFERENCE: doi_extracted</th>\n      <th>PROPERTY: grain size ($\\mu$m)_extracted</th>\n      <th>PROPERTY: Exp. Density (g/cm$^3$)_extracted</th>\n      <th>PROPERTY: HV_extracted</th>\n      <th>PROPERTY: Test temperature ($^\\circ$C)_extracted</th>\n      <th>PROPERTY: UTS (MPa)_extracted</th>\n      <th>PROPERTY: Elongation (%)_extracted</th>\n      <th>PROPERTY: Elongation plastic (%)_extracted</th>\n      <th>normalized_formula_extracted</th>\n    </tr>\n  </thead>\n  <tbody>\n    <tr>\n      <th>0</th>\n      <td>355</td>\n      <td>NaN</td>\n      <td>355.0</td>\n      <td>NaN</td>\n      <td>10.1002.adem.200300567</td>\n      <td>15.0</td>\n      <td>Fe0.167 Mo0.167 Ni0.167 Ti0.167 V0.167 Zr0.167</td>\n      <td>BCC+Sec.</td>\n      <td>CAST</td>\n      <td>other</td>\n      <td>NaN</td>\n      <td>NaN</td>\n      <td>7.4</td>\n      <td>740.0</td>\n      <td>NaN</td>\n      <td>25.0</td>\n      <td>NaN</td>\n      <td>NaN</td>\n      <td>NaN</td>\n      <td>NaN</td>\n      <td>NaN</td>\n      <td>175.0</td>\n      <td>NaN</td>\n      <td>NaN</td>\n      <td>NaN</td>\n      <td>10.1002/adem.200300567</td>\n      <td>2004.0</td>\n      <td>Nanostructured High-Entropy Alloys with Multip...</td>\n      <td>10.1002.adem.200300567</td>\n      <td>Fe0.167Mo0.167Ni0.167Ti0.167V0.167Zr0.167</td>\n      <td>NaN</td>\n      <td>NaN</td>\n      <td>NaN</td>\n      <td>NaN</td>\n      <td>NaN</td>\n      <td>NaN</td>\n      <td>NaN</td>\n      <td>NaN</td>\n      <td>NaN</td>\n      <td>NaN</td>\n      <td>NaN</td>\n    </tr>\n    <tr>\n      <th>1</th>\n      <td>653</td>\n      <td>653.0</td>\n      <td>NaN</td>\n      <td>NaN</td>\n      <td>10.1002.adem.200300567</td>\n      <td>NaN</td>\n      <td>NaN</td>\n      <td>NaN</td>\n      <td>NaN</td>\n      <td>NaN</td>\n      <td>NaN</td>\n      <td>NaN</td>\n      <td>NaN</td>\n      <td>NaN</td>\n      <td>NaN</td>\n      <td>NaN</td>\n      <td>NaN</td>\n      <td>NaN</td>\n      <td>NaN</td>\n      <td>NaN</td>\n      <td>NaN</td>\n      <td>NaN</td>\n      <td>NaN</td>\n      <td>NaN</td>\n      <td>NaN</td>\n      <td>NaN</td>\n      <td>NaN</td>\n      <td>NaN</td>\n      <td>NaN</td>\n      <td>NaN</td>\n      <td>CuCoNiCrAlFe</td>\n      <td>NaN</td>\n      <td>10.1002.adem.200300567</td>\n      <td>NaN</td>\n      <td>NaN</td>\n      <td>133</td>\n      <td>NaN</td>\n      <td>NaN</td>\n      <td>NaN</td>\n      <td>NaN</td>\n      <td>Al0.167Co0.167Cr0.167Cu0.167Fe0.167Ni0.167</td>\n    </tr>\n    <tr>\n      <th>2</th>\n      <td>654</td>\n      <td>654.0</td>\n      <td>NaN</td>\n      <td>NaN</td>\n      <td>10.1002.adem.200300567</td>\n      <td>NaN</td>\n      <td>NaN</td>\n      <td>NaN</td>\n      <td>NaN</td>\n      <td>NaN</td>\n      <td>NaN</td>\n      <td>NaN</td>\n      <td>NaN</td>\n      <td>NaN</td>\n      <td>NaN</td>\n      <td>NaN</td>\n      <td>NaN</td>\n      <td>NaN</td>\n      <td>NaN</td>\n      <td>NaN</td>\n      <td>NaN</td>\n      <td>NaN</td>\n      <td>NaN</td>\n      <td>NaN</td>\n      <td>NaN</td>\n      <td>NaN</td>\n      <td>NaN</td>\n      <td>NaN</td>\n      <td>NaN</td>\n      <td>NaN</td>\n      <td>CuCoNiCrAlFe</td>\n      <td>NaN</td>\n      <td>10.1002.adem.200300567</td>\n      <td>NaN</td>\n      <td>NaN</td>\n      <td>133</td>\n      <td>NaN</td>\n      <td>NaN</td>\n      <td>NaN</td>\n      <td>NaN</td>\n      <td>Al0.167Co0.167Cr0.167Cu0.167Fe0.167Ni0.167</td>\n    </tr>\n    <tr>\n      <th>3</th>\n      <td>655</td>\n      <td>655.0</td>\n      <td>NaN</td>\n      <td>NaN</td>\n      <td>10.1002.adem.200300567</td>\n      <td>NaN</td>\n      <td>NaN</td>\n      <td>NaN</td>\n      <td>NaN</td>\n      <td>NaN</td>\n      <td>NaN</td>\n      <td>NaN</td>\n      <td>NaN</td>\n      <td>NaN</td>\n      <td>NaN</td>\n      <td>NaN</td>\n      <td>NaN</td>\n      <td>NaN</td>\n      <td>NaN</td>\n      <td>NaN</td>\n      <td>NaN</td>\n      <td>NaN</td>\n      <td>NaN</td>\n      <td>NaN</td>\n      <td>NaN</td>\n      <td>NaN</td>\n      <td>NaN</td>\n      <td>NaN</td>\n      <td>NaN</td>\n      <td>NaN</td>\n      <td>CuCoNiCrAlFe</td>\n      <td>NaN</td>\n      <td>10.1002.adem.200300567</td>\n      <td>NaN</td>\n      <td>NaN</td>\n      <td>133</td>\n      <td>NaN</td>\n      <td>NaN</td>\n      <td>NaN</td>\n      <td>NaN</td>\n      <td>Al0.167Co0.167Cr0.167Cu0.167Fe0.167Ni0.167</td>\n    </tr>\n    <tr>\n      <th>4</th>\n      <td>656</td>\n      <td>656.0</td>\n      <td>NaN</td>\n      <td>NaN</td>\n      <td>10.1002.adem.200300567</td>\n      <td>NaN</td>\n      <td>NaN</td>\n      <td>NaN</td>\n      <td>NaN</td>\n      <td>NaN</td>\n      <td>NaN</td>\n      <td>NaN</td>\n      <td>NaN</td>\n      <td>NaN</td>\n      <td>NaN</td>\n      <td>NaN</td>\n      <td>NaN</td>\n      <td>NaN</td>\n      <td>NaN</td>\n      <td>NaN</td>\n      <td>NaN</td>\n      <td>NaN</td>\n      <td>NaN</td>\n      <td>NaN</td>\n      <td>NaN</td>\n      <td>NaN</td>\n      <td>NaN</td>\n      <td>NaN</td>\n      <td>NaN</td>\n      <td>NaN</td>\n      <td>CuCoNiCrAlFe</td>\n      <td>NaN</td>\n      <td>10.1002.adem.200300567</td>\n      <td>NaN</td>\n      <td>NaN</td>\n      <td>133</td>\n      <td>NaN</td>\n      <td>NaN</td>\n      <td>NaN</td>\n      <td>NaN</td>\n      <td>Al0.167Co0.167Cr0.167Cu0.167Fe0.167Ni0.167</td>\n    </tr>\n    <tr>\n      <th>...</th>\n      <td>...</td>\n      <td>...</td>\n      <td>...</td>\n      <td>...</td>\n      <td>...</td>\n      <td>...</td>\n      <td>...</td>\n      <td>...</td>\n      <td>...</td>\n      <td>...</td>\n      <td>...</td>\n      <td>...</td>\n      <td>...</td>\n      <td>...</td>\n      <td>...</td>\n      <td>...</td>\n      <td>...</td>\n      <td>...</td>\n      <td>...</td>\n      <td>...</td>\n      <td>...</td>\n      <td>...</td>\n      <td>...</td>\n      <td>...</td>\n      <td>...</td>\n      <td>...</td>\n      <td>...</td>\n      <td>...</td>\n      <td>...</td>\n      <td>...</td>\n      <td>...</td>\n      <td>...</td>\n      <td>...</td>\n      <td>...</td>\n      <td>...</td>\n      <td>...</td>\n      <td>...</td>\n      <td>...</td>\n      <td>...</td>\n      <td>...</td>\n      <td>...</td>\n    </tr>\n    <tr>\n      <th>1749</th>\n      <td>11</td>\n      <td>NaN</td>\n      <td>11.0</td>\n      <td>NaN</td>\n      <td>10.4028.www.scientific.net.MSF.898.638</td>\n      <td>86.0</td>\n      <td>Al0.048 Mo0.238 Ta0.238 Ti0.238 V0.238</td>\n      <td>BCC</td>\n      <td>CAST</td>\n      <td>BCC</td>\n      <td>NaN</td>\n      <td>NaN</td>\n      <td>9.1</td>\n      <td>NaN</td>\n      <td>C</td>\n      <td>25.0</td>\n      <td>1021.0</td>\n      <td>1249.0</td>\n      <td>NaN</td>\n      <td>NaN</td>\n      <td>NaN</td>\n      <td>184.0</td>\n      <td>NaN</td>\n      <td>NaN</td>\n      <td>NaN</td>\n      <td>10.4028/www.scientific.net/MSF.898.638</td>\n      <td>2017.0</td>\n      <td>Microstructure and Mechanical Properties of VT...</td>\n      <td>10.4028.www.scientific.net.MSF.898.638</td>\n      <td>Al0.048Mo0.238Ta0.238Ti0.238V0.238</td>\n      <td>NaN</td>\n      <td>NaN</td>\n      <td>NaN</td>\n      <td>NaN</td>\n      <td>NaN</td>\n      <td>NaN</td>\n      <td>NaN</td>\n      <td>NaN</td>\n      <td>NaN</td>\n      <td>NaN</td>\n      <td>NaN</td>\n    </tr>\n    <tr>\n      <th>1750</th>\n      <td>196</td>\n      <td>NaN</td>\n      <td>196.0</td>\n      <td>NaN</td>\n      <td>10.4028.www.scientific.net.MSF.898.638</td>\n      <td>86.0</td>\n      <td>Al0.2 Mo0.2 Ta0.2 Ti0.2 V0.2</td>\n      <td>BCC</td>\n      <td>CAST</td>\n      <td>BCC</td>\n      <td>NaN</td>\n      <td>NaN</td>\n      <td>8.0</td>\n      <td>NaN</td>\n      <td>C</td>\n      <td>25.0</td>\n      <td>NaN</td>\n      <td>735.0</td>\n      <td>NaN</td>\n      <td>NaN</td>\n      <td>NaN</td>\n      <td>166.0</td>\n      <td>NaN</td>\n      <td>NaN</td>\n      <td>NaN</td>\n      <td>10.4028/www.scientific.net/MSF.898.638</td>\n      <td>2017.0</td>\n      <td>Microstructure and Mechanical Properties of VT...</td>\n      <td>10.4028.www.scientific.net.MSF.898.638</td>\n      <td>Al0.2Mo0.2Ta0.2Ti0.2V0.2</td>\n      <td>NaN</td>\n      <td>NaN</td>\n      <td>NaN</td>\n      <td>NaN</td>\n      <td>NaN</td>\n      <td>NaN</td>\n      <td>NaN</td>\n      <td>NaN</td>\n      <td>NaN</td>\n      <td>NaN</td>\n      <td>NaN</td>\n    </tr>\n    <tr>\n      <th>1751</th>\n      <td>808</td>\n      <td>808.0</td>\n      <td>NaN</td>\n      <td>NaN</td>\n      <td>10.4028.www.scientific.net.MSF.898.638</td>\n      <td>NaN</td>\n      <td>NaN</td>\n      <td>NaN</td>\n      <td>NaN</td>\n      <td>NaN</td>\n      <td>NaN</td>\n      <td>NaN</td>\n      <td>NaN</td>\n      <td>NaN</td>\n      <td>NaN</td>\n      <td>NaN</td>\n      <td>NaN</td>\n      <td>NaN</td>\n      <td>NaN</td>\n      <td>NaN</td>\n      <td>NaN</td>\n      <td>NaN</td>\n      <td>NaN</td>\n      <td>NaN</td>\n      <td>NaN</td>\n      <td>NaN</td>\n      <td>NaN</td>\n      <td>NaN</td>\n      <td>NaN</td>\n      <td>NaN</td>\n      <td>VTaTiMoAl0</td>\n      <td>1221.0</td>\n      <td>10.4028.www.scientific.net.MSF.898.638</td>\n      <td>NaN</td>\n      <td>NaN</td>\n      <td>NaN</td>\n      <td>NaN</td>\n      <td>1454.0</td>\n      <td>9.93</td>\n      <td>NaN</td>\n      <td>Mo0.25Ta0.25Ti0.25V0.25</td>\n    </tr>\n    <tr>\n      <th>1752</th>\n      <td>809</td>\n      <td>809.0</td>\n      <td>NaN</td>\n      <td>NaN</td>\n      <td>10.4028.www.scientific.net.MSF.898.638</td>\n      <td>NaN</td>\n      <td>NaN</td>\n      <td>NaN</td>\n      <td>NaN</td>\n      <td>NaN</td>\n      <td>NaN</td>\n      <td>NaN</td>\n      <td>NaN</td>\n      <td>NaN</td>\n      <td>NaN</td>\n      <td>NaN</td>\n      <td>NaN</td>\n      <td>NaN</td>\n      <td>NaN</td>\n      <td>NaN</td>\n      <td>NaN</td>\n      <td>NaN</td>\n      <td>NaN</td>\n      <td>NaN</td>\n      <td>NaN</td>\n      <td>NaN</td>\n      <td>NaN</td>\n      <td>NaN</td>\n      <td>NaN</td>\n      <td>NaN</td>\n      <td>VTaTiMoAl0</td>\n      <td>1221.0</td>\n      <td>10.4028.www.scientific.net.MSF.898.638</td>\n      <td>NaN</td>\n      <td>NaN</td>\n      <td>NaN</td>\n      <td>NaN</td>\n      <td>1454.0</td>\n      <td>9.93</td>\n      <td>NaN</td>\n      <td>Mo0.25Ta0.25Ti0.25V0.25</td>\n    </tr>\n    <tr>\n      <th>1753</th>\n      <td>807</td>\n      <td>807.0</td>\n      <td>NaN</td>\n      <td>NaN</td>\n      <td>10.4028.www.scientific.net.MSF.898.638</td>\n      <td>NaN</td>\n      <td>NaN</td>\n      <td>NaN</td>\n      <td>NaN</td>\n      <td>NaN</td>\n      <td>NaN</td>\n      <td>NaN</td>\n      <td>NaN</td>\n      <td>NaN</td>\n      <td>NaN</td>\n      <td>NaN</td>\n      <td>NaN</td>\n      <td>NaN</td>\n      <td>NaN</td>\n      <td>NaN</td>\n      <td>NaN</td>\n      <td>NaN</td>\n      <td>NaN</td>\n      <td>NaN</td>\n      <td>NaN</td>\n      <td>NaN</td>\n      <td>NaN</td>\n      <td>NaN</td>\n      <td>NaN</td>\n      <td>NaN</td>\n      <td>VTaTiMoAl0</td>\n      <td>1221.0</td>\n      <td>10.4028.www.scientific.net.MSF.898.638</td>\n      <td>NaN</td>\n      <td>NaN</td>\n      <td>NaN</td>\n      <td>NaN</td>\n      <td>1454.0</td>\n      <td>9.93</td>\n      <td>NaN</td>\n      <td>Mo0.25Ta0.25Ti0.25V0.25</td>\n    </tr>\n  </tbody>\n</table>\n<p>1754 rows × 41 columns</p>\n</div>"
     },
     "metadata": {},
     "output_type": "display_data"
    }
   ]
  },
  {
   "cell_type": "markdown",
   "source": [
    "##### Looking at matched rows"
   ],
   "metadata": {
    "id": "hv0KUzftxpW9"
   }
  },
  {
   "cell_type": "code",
   "source": [
    "match_df = df_result[df_result['original_idx'].notnull() & df_result['extracted_idx'].notnull()]\n",
    "print(match_df.shape)\n",
    "display(match_df)"
   ],
   "metadata": {
    "colab": {
     "base_uri": "https://localhost:8080/",
     "height": 947
    },
    "id": "NNJFPoR7abL9",
    "executionInfo": {
     "status": "ok",
     "timestamp": 1707858754966,
     "user_tz": 300,
     "elapsed": 111,
     "user": {
      "displayName": "Satanu Ghosh",
      "userId": "07683061709303200546"
     }
    },
    "outputId": "ee1dc48b-5b6c-48cd-a2d5-9f5c28f220c9",
    "ExecuteTime": {
     "end_time": "2024-05-17T19:08:55.005230400Z",
     "start_time": "2024-05-17T19:08:54.798210900Z"
    }
   },
   "execution_count": 169,
   "outputs": [
    {
     "name": "stdout",
     "output_type": "stream",
     "text": [
      "(52, 41)\n"
     ]
    },
    {
     "data": {
      "text/plain": "      index  extracted_idx  original_idx  match_strength                             match_group  IDENTIFIER: Reference ID_original                                FORMULA_original PROPERTY: Microstructure_original PROPERTY: Processing method_original PROPERTY: BCC/FCC/other_original  \\\n27        0          373.0         639.0            0.75               10.1007.s00339-019-2484-1                               15.0                         Hf0.333 Ti0.333 Zr0.333                             Other                                 CAST                            other   \n39        0           20.0         465.0            0.50               10.1007.s10853-012-6260-2                               53.0                   Hf0.2 Nb0.2 Ta0.2 Ti0.2 Zr0.2                               BCC                                OTHER                              BCC   \n107       0          115.0         190.0            1.00               10.1007.s11837-014-1066-0                               39.0             Al0.2 Mo0.1 Nb0.2 Ta0.1 Ti0.2 Zr0.2                            BCC+B2                                OTHER                            other   \n148       0          431.0         287.0            0.75              10.1007.s11837-020-04557-y                               23.0                   Cr0.2 Hf0.2 Nb0.2 Ta0.2 Ti0.2                     BCC+BCC+Laves                                 CAST                            other   \n175       0          603.0         378.0            0.75              10.1007.s40195-019-00921-3                              142.0                  Hf0.111 Ti0.444 V0.222 Zr0.222                               BCC                                 CAST                              BCC   \n194       0            0.0         286.0            0.75              10.1007.s40195-019-00935-x                              136.0                    Cr0.2 Fe0.2 Mo0.2 Nb0.2 V0.2                         BCC+Laves                                 CAST                            other   \n217       0          235.0         603.0            0.75           10.1016.j.actamat.2016.01.018                               87.0                     Hf0.25 Nb0.25 Ta0.25 Zr0.25                               BCC                                 CAST                              BCC   \n339       0          390.0         567.0            0.75            10.1016.j.ijrmhm.2014.07.009                               70.0                    Hf0.2 Nb0.2 Ti0.2 V0.2 Zr0.2                         BCC+Laves                                 CAST                            other   \n357       0           58.0         280.0            0.50            10.1016.j.ijrmhm.2019.02.009                              109.0         Cr0.12 Mo0.2 Nb0.42 Ta0.01 Ti0.13 V0.12                          BCC+Sec.                               POWDER                            other   \n366       0          536.0         107.0            0.75            10.1016.j.ijrmhm.2019.105132                               12.0            Al0.125 Nb0.25 Ta0.125 Ti0.25 Zr0.25                          BCC+Sec.                               POWDER                            other   \n388       0          190.0         145.0            0.50            10.1016.j.ijrmhm.2020.105322                                6.0                       Al0.15 Hf0.15 Nb0.3 Ti0.4                          BCC+Sec.                               ANNEAL                            other   \n467       0          773.0         807.0            0.50          10.1016.j.intermet.2011.01.004                               57.0                      Mo0.25 Nb0.25 Ta0.25 W0.25                               BCC                                 CAST                              BCC   \n493       0          830.0         268.0            0.75          10.1016.j.intermet.2015.09.011                               47.0  C0.024 Hf0.122 Mo0.122 Nb0.244 Ti0.244 Zr0.244                          BCC+Sec.                                 CAST                            other   \n551       0          181.0         487.0            0.50           10.1016.j.jallcom.2014.11.064                               40.0                   Hf0.2 Nb0.2 Ta0.2 Ti0.2 Zr0.2                               BCC                                 CAST                              BCC   \n606       0          368.0         589.0            0.75           10.1016.j.jallcom.2016.10.014                               75.0             Hf0.25 Mo0.125 Nb0.25 Ti0.25 V0.125                               BCC                                 CAST                              BCC   \n622       0          527.0         707.0            1.00           10.1016.j.jallcom.2016.11.188                               90.0                    Mo0.2 Nb0.2 Ta0.2 Ti0.2 V0.2                               BCC                                 CAST                              BCC   \n643       0           11.0         272.0            0.75           10.1016.j.jallcom.2018.11.111                              122.0   C0.111 Mo0.222 Nb0.222 Re0.111 Ta0.111 W0.222                          BCC+Sec.                                 CAST                            other   \n805       0          832.0         936.0            0.50           10.1016.j.jallcom.2020.158003                               10.0                         Nb0.333 Ta0.333 Ti0.333                               BCC                               ANNEAL                              BCC   \n869       0          468.0         323.0            1.00              10.1016.j.jmst.2020.07.012                               20.0                      Cr0.25 Mo0.25 Nb0.25 V0.25                          BCC+Sec.                               POWDER                            other   \n939       0          106.0         442.0            0.75            10.1016.j.matdes.2015.05.019                               50.0                   Hf0.2 Mo0.2 Nb0.2 Ti0.2 Zr0.2                               BCC                                 CAST                              BCC   \n952       0          286.0         666.0            0.75            10.1016.j.matdes.2015.06.072                               58.0          Mo0.083 Nb0.278 Ti0.278 V0.083 Zr0.278                               BCC                               ANNEAL                              BCC   \n977       0          124.0         194.0            1.00            10.1016.j.matdes.2017.11.033                               77.0             Al0.2 Mo0.1 Nb0.2 Ta0.1 Ti0.2 Zr0.2                            BCC+B2                                OTHER                            other   \n1020      0          634.0         617.0            0.50            10.1016.j.matlet.2014.05.134                               55.0                     Hf0.25 Nb0.25 Ti0.25 Zr0.25                               BCC                                 CAST                              BCC   \n1029      0          674.0         254.0            0.50            10.1016.j.matlet.2014.11.162                               43.0                      Al0.25 Nb0.25 Ti0.25 V0.25                               BCC                               ANNEAL                              BCC   \n1051      0          161.0         577.0            0.75            10.1016.j.matlet.2016.03.092                               51.0          Hf0.222 Nb0.222 Si0.111 Ti0.222 V0.222                          BCC+Sec.                                 CAST                            other   \n1062      0           38.0         536.0            0.75            10.1016.j.matlet.2016.03.133                               48.0                   Hf0.2 Nb0.2 Ta0.2 Ti0.2 Zr0.2                               BCC                                 CAST                              BCC   \n1067      0          585.0         537.0            0.50            10.1016.j.matlet.2016.08.060                               81.0                   Hf0.2 Nb0.2 Ta0.2 Ti0.2 Zr0.2                               BCC                              WROUGHT                              BCC   \n1078      0          403.0          60.0            0.75            10.1016.j.matlet.2016.11.030                               96.0                    Al0.1 Cr0.2 Nb0.2 Ti0.4 V0.1                         BCC+Laves                               ANNEAL                            other   \n1091      0          737.0         112.0            0.75            10.1016.j.matlet.2019.03.075                              153.0            Al0.125 Nb0.25 Ta0.125 Ti0.25 Zr0.25                           BCC+HCP                              WROUGHT                            other   \n1105      0           78.0         166.0            0.75            10.1016.j.matlet.2020.127372                                9.0            Al0.2 Cr0.1 Nb0.15 Ti0.2 V0.25 Zr0.1               B2+Laves (C14)+Sec.                               ANNEAL                            other   \n1116      0          450.0          46.0            0.50            10.1016.j.matlet.2021.129428                               18.0                 Al0.079 Nb0.263 Ti0.395 Zr0.263                               BCC                              WROUGHT                              BCC   \n1125      0          387.0         768.0            0.75            10.1016.j.matlet.2021.129753                               14.0          Mo0.222 Nb0.244 Ta0.222 Ti0.222 W0.089                               BCC                                 CAST                              BCC   \n1150      0          359.0         902.0            0.50              10.1016.j.msea.2012.12.018                               45.0                      Nb0.25 Ti0.25 V0.25 Zr0.25                               BCC                                OTHER                              BCC   \n1209      0           87.0         258.0            0.50              10.1016.j.msea.2017.08.019                               68.0                      Al0.25 Nb0.25 Ti0.25 V0.25                                B2                               ANNEAL                            other   \n1265      0          594.0         816.0            0.75              10.1016.j.msea.2017.12.004                               89.0                      Mo0.25 Nb0.25 Ta0.25 W0.25                               BCC                                 CAST                              BCC   \n1278      0          199.0         737.0            0.75              10.1016.j.msea.2017.12.021                               94.0                     Mo0.2 Nb0.2 Ta0.2 V0.2 W0.2                               BCC                               POWDER                              BCC   \n1316      0           29.0         859.0            0.75              10.1016.j.msea.2020.139774                               13.0                  Nb0.167 Ti0.333 V0.167 Zr0.333                               BCC                               ANNEAL                              BCC   \n1326      0          477.0         629.0            0.75              10.1016.j.msea.2021.140798                                7.0            Hf0.29 Nb0.072 Ta0.058 Ti0.29 Zr0.29                               BCC                                 CAST                              BCC   \n1331      0          786.0         837.0            0.75              10.1016.j.msea.2021.140848                                9.0                  Mo0.308 Nb0.308 Ta0.308 V0.077                               BCC                                 CAST                              BCC   \n1362      0          707.0         962.0            0.75              10.1016.j.msea.2021.141168                               15.0                         Ta0.333 Ti0.333 Zr0.333                      BCC+BCC+Sec.                                OTHER                            other   \n1468      0          324.0         885.0            0.75            10.1016.j.proeng.2012.03.043                               42.0                      Nb0.25 Ta0.25 Ti0.25 V0.25                               BCC                                 CAST                              BCC   \n1484      0          567.0         121.0            0.75        10.1016.j.scriptamat.2019.07.033                                3.0                 Al0.143 Mo0.286 Ta0.286 Ti0.286                       B2+BCC+Sec.                               ANNEAL                            other   \n1543      0          298.0         455.0            0.50        10.1016.j.scriptamat.2021.114225                               29.0                       Hf0.2 Nb0.1 Ti0.35 Zr0.35                          BCC+Sec.                              WROUGHT                            other   \n1557      0          797.0         186.0            0.75            10.1016.j.vacuum.2020.109614                                4.0                 Al0.2 Cr0.21 Mo0.27 Ti0.22 W0.1                         BCC+Laves                                 CAST                            other   \n1574      0           69.0         588.0            0.50               10.1038.s41563-020-0750-4                                7.0                      Hf0.24 Nb0.23 Ti0.38 V0.15                               BCC                                 CAST                              BCC   \n1588      0          208.0         385.0            0.75                       10.1063.1.4966659                               52.0          Hf0.125 Nb0.125 Ta0.125 Ti0.375 Zr0.25                               BCC                                 CAST                              BCC   \n1597      0          500.0         261.0            0.50           10.1080.02670836.2018.1446267                               34.0                     Al0.25 Nb0.25 Ti0.25 Zr0.25                                B2                                 CAST                            other   \n1621      0          576.0         626.0            0.50           10.1080.21663831.2016.1221861                               76.0            Hf0.275 Nb0.05 Ta0.05 Ti0.35 Zr0.275                               BCC                              WROUGHT                              BCC   \n1646      0          307.0         233.0            0.75         10.1088.1757-899X.1014.1.012041                               25.0                   Al0.25 Hf0.25 Nb0.125 Ti0.375                                B2                               ANNEAL                            other   \n1686      0          554.0          97.0            0.75                       10.3390.e16020870                               41.0          Al0.111 Mo0.222 Nb0.222 Ti0.222 V0.222                               BCC                                 CAST                              BCC   \n1733      0          316.0         422.0            0.75   10.4028.www.scientific.net.MSF.849.76                               78.0  Hf0.182 Nb0.182 Si0.091 Ti0.182 V0.182 Zr0.182                    BCC+Laves+Sec.                                 CAST                            other   \n1747      0          806.0         824.0            0.75  10.4028.www.scientific.net.MSF.898.638                               86.0                      Mo0.25 Ta0.25 Ti0.25 V0.25                               BCC                                 CAST                              BCC   \n\n      PROPERTY: grain size ($\\mu$m)_original  PROPERTY: Exp. Density (g/cm$^3$)_original  PROPERTY: Computed Density (g/cm$^3$)_original  PROPERTY: HV_original PROPERTY: Type of test_original  PROPERTY: Test temperature ($^\\circ$C)_original  PROPERTY: YS (MPa)_original  \\\n27                                       NaN                                         NaN                                             8.1                 211.00                               C                                             25.0                        773.0   \n39                                       NaN                                         NaN                                             9.9                    NaN                               C                                             25.0                        929.0   \n107                                   75.000                                         NaN                                             7.2                 591.00                               C                                             25.0                       2000.0   \n148                                      NaN                                         NaN                                            10.0                    NaN                               C                                             25.0                       1258.0   \n175                                      NaN                                         NaN                                             6.3                 338.30                               C                                             25.0                       1160.0   \n194                                      NaN                                         NaN                                             8.0                 826.00                               C                                             25.0                       2663.0   \n217                                      NaN                                         NaN                                            11.3                 365.00                               C                                             25.0                       1315.0   \n339                                      NaN                                         NaN                                             7.8                    NaN                               C                                             25.0                       1170.0   \n357                                    0.075                                        8.02                                             8.0                 741.00                               C                                             25.0                       2680.0   \n366                                      NaN                                         NaN                                             7.3                    NaN                               C                                             25.0                       1740.0   \n388                                      NaN                                         NaN                                             6.8                    NaN                               C                                             25.0                       1250.0   \n467                                  200.000                                         NaN                                            13.7                 454.00                               C                                             25.0                       1058.0   \n493                                      NaN                                         NaN                                             7.7                    NaN                               C                                             25.0                       1183.0   \n551                                  120.000                                         NaN                                             9.9                 295.00                               C                                             25.0                       1073.0   \n606                                      NaN                                         NaN                                             8.6                    NaN                               C                                             25.0                       1260.0   \n622                                      NaN                                         NaN                                             9.2                    NaN                               C                                             25.0                       1400.0   \n643                                      NaN                                         NaN                                            12.9                 583.00                               C                                             25.0                       1202.0   \n805                                  400.000                                       10.09                                             9.9                    NaN                               C                                             25.0                        724.0   \n869                                    2.070                                         NaN                                             8.0                   8.03                               C                                             25.0                       2743.0   \n939                                      NaN                                         NaN                                             8.6                    NaN                               C                                             25.0                       1719.0   \n952                                      NaN                                         NaN                                             6.8                    NaN                               C                                             25.0                       1312.0   \n977                                      NaN                                         NaN                                             7.2                    NaN                               C                                             25.0                       2197.0   \n1020                                     NaN                                         NaN                                             8.2                    NaN                               T                                             25.0                        879.0   \n1029                                 350.000                                         NaN                                             5.5                 448.00                               C                                             25.0                       1020.0   \n1051                                     NaN                                         NaN                                             7.5                 490.00                               C                                             25.0                       1399.0   \n1062                                     NaN                                         NaN                                             9.9                 335.00                               C                                             25.0                       1015.0   \n1067                                     NaN                                         NaN                                             9.9                    NaN                               T                                             25.0                        958.0   \n1078                                     NaN                                         NaN                                             5.8                    NaN                               C                                             25.0                       1340.0   \n1091                                     NaN                                         NaN                                             7.3                    NaN                               C                                             25.0                       1740.0   \n1105                                     NaN                                         NaN                                             5.6                    NaN                               C                                             25.0                       1535.0   \n1116                                  24.400                                         NaN                                             6.0                    NaN                               T                                             25.0                        876.0   \n1125                                     NaN                                       10.70                                            10.8                    NaN                               C                                             20.0                       1412.0   \n1150                                 550.000                                         NaN                                             6.4                 335.00                               C                                             25.0                       1105.0   \n1209                                     NaN                                         NaN                                             5.5                    NaN                               C                                             25.0                       1000.0   \n1265                                     NaN                                         NaN                                            13.7                    NaN                               C                                             25.0                        996.0   \n1278                                     NaN                                         NaN                                            12.2                    NaN                               C                                             25.0                       2612.0   \n1316                                     NaN                                        6.10                                             6.1                    NaN                               T                                             25.0                        787.0   \n1326                                     NaN                                         NaN                                             8.6                    NaN                               T                                             25.0                        748.0   \n1331                                     NaN                                         NaN                                            11.4                    NaN                               C                                             25.0                       1017.0   \n1362                                 320.000                                        9.56                                             9.2                    NaN                               C                                             25.0                       1671.0   \n1468                                     NaN                                         NaN                                             9.0                    NaN                               C                                             25.0                       1092.0   \n1484                                     NaN                                        9.10                                             9.4                 680.10                               C                                           1000.0                        969.0   \n1543                                  10.000                                         NaN                                             7.4                 252.00                               T                                             25.0                        524.0   \n1557                                     NaN                                        7.48                                             7.7                 511.00                               C                                             25.0                       1245.0   \n1574                                 176.000                                         NaN                                             7.8                    NaN                               T                                             25.0                        774.0   \n1588                                     NaN                                         NaN                                             8.1                 301.00                               T                                             25.0                        903.0   \n1597                                 250.000                                        5.85                                             5.6                 422.00                               C                                             25.0                       1509.0   \n1621                                     NaN                                         NaN                                             8.3                    NaN                               T                                             25.0                        540.0   \n1646                                 300.000                                        7.23                                             6.8                    NaN                               C                                             25.0                       1645.0   \n1686                                     NaN                                         NaN                                             6.8                 487.00                               C                                             25.0                       1625.0   \n1733                                     NaN                                         NaN                                             7.3                    NaN                               C                                             25.0                       1540.0   \n1747                                     NaN                                         NaN                                             9.4                    NaN                               C                                             25.0                       1221.0   \n\n      PROPERTY: UTS (MPa)_original  PROPERTY: Elongation (%)_original  PROPERTY: Elongation plastic (%)_original  PROPERTY: Exp. Young modulus (GPa)_original  PROPERTY: Computed Young modulus (GPa)_original  PROPERTY: O content (wppm)_original  PROPERTY: N content (wppm)_original  \\\n27                             NaN                               17.0                                        NaN                                          NaN                                             87.0                                  NaN                                  NaN   \n39                             NaN                               50.0                                        NaN                                          NaN                                            111.0                                  NaN                                  NaN   \n107                         2368.0                               10.0                                        NaN                                          NaN                                            123.0                                  NaN                                  NaN   \n148                            NaN                               24.3                                        NaN                                          NaN                                            153.0                                  NaN                                  NaN   \n175                            NaN                               50.0                                        NaN                                          NaN                                            104.0                                  NaN                                  NaN   \n194                            NaN                                2.7                                        NaN                                          NaN                                            210.0                                  NaN                                  NaN   \n217                         1800.0                               21.6                                        NaN                                          NaN                                            109.0                                  NaN                                  NaN   \n339                         1463.0                               29.6                                        NaN                                          NaN                                             99.0                                  NaN                                  NaN   \n357                            NaN                                NaN                                        NaN                                          NaN                                            176.0                                  NaN                                  NaN   \n366                            NaN                               14.0                                        NaN                                          NaN                                            104.0                                  NaN                                  NaN   \n388                            NaN                               16.0                                        NaN                                          NaN                                            100.0                                  NaN                                  NaN   \n467                         1211.0                                2.0                                        NaN                                          NaN                                            258.0                                  NaN                                  NaN   \n493                         2139.0                               38.0                                        NaN                                          NaN                                              NaN                                  NaN                                  NaN   \n551                            NaN                               50.0                                        NaN                                         55.0                                            111.0                                  NaN                                  NaN   \n606                            NaN                                NaN                                        NaN                                          NaN                                            132.0                                  NaN                                  NaN   \n622                         2450.0                                NaN                                        NaN                                          NaN                                            173.0                                  NaN                                  NaN   \n643                            NaN                               14.2                                      10.25                                          NaN                                              NaN                                  NaN                                  NaN   \n805                            NaN                                NaN                                        NaN                                          NaN                                            136.0                                112.0                                391.0   \n869                            NaN                                9.9                                        NaN                                          NaN                                            210.0                                  NaN                                  NaN   \n939                         1803.0                               10.0                                        NaN                                          NaN                                            139.0                                  NaN                                  NaN   \n952                            NaN                                NaN                                      50.00                                          NaN                                            118.0                                  NaN                                  NaN   \n977                         2370.0                                NaN                                        NaN                                          NaN                                            123.0                                  NaN                                  NaN   \n1020                         969.0                                NaN                                      14.90                                          NaN                                             92.0                                  NaN                                  NaN   \n1029                        1318.0                                NaN                                       5.00                                          NaN                                            105.0                                  NaN                                  NaN   \n1051                        1608.0                               11.0                                        NaN                                          NaN                                            100.0                                  NaN                                  NaN   \n1062                           NaN                               50.0                                        NaN                                         85.0                                            111.0                                  NaN                                  NaN   \n1067                         974.0                                NaN                                        NaN                                          NaN                                            111.0                                  NaN                                  NaN   \n1078                        1700.0                                NaN                                        NaN                                          NaN                                            143.0                                  NaN                                  NaN   \n1091                           NaN                               20.0                                        NaN                                          NaN                                            104.0                                  NaN                                  NaN   \n1105                           NaN                                0.6                                        NaN                                          NaN                                            120.0                                  NaN                                  NaN   \n1116                           NaN                               23.0                                        NaN                                          NaN                                             97.0                                  NaN                                  NaN   \n1125                           NaN                               32.1                                        NaN                                          NaN                                            202.0                                  NaN                                  NaN   \n1150                           NaN                               50.0                                        NaN                                          NaN                                            104.0                                  NaN                                  NaN   \n1209                        1280.0                                NaN                                        NaN                                          NaN                                            105.0                                  NaN                                  NaN   \n1265                        1148.0                                NaN                                        NaN                                          NaN                                            258.0                                  NaN                                  NaN   \n1278                        3472.0                                NaN                                        NaN                                          NaN                                            232.0                                  NaN                                  NaN   \n1316                         827.0                               21.9                                        NaN                                          NaN                                            100.0                                  NaN                                  NaN   \n1326                           NaN                               14.2                                        NaN                                          NaN                                             94.0                                  NaN                                  NaN   \n1331                           NaN                                9.2                                        NaN                                          NaN                                            201.0                                  NaN                                  NaN   \n1362                           NaN                                NaN                                        NaN                                          NaN                                            123.0                                 70.0                                 20.0   \n1468                           NaN                                NaN                                        NaN                                          NaN                                            134.0                                  NaN                                  NaN   \n1484                           NaN                                1.0                                        NaN                                          NaN                                            190.0                                200.0                                  NaN   \n1543                         704.0                               17.5                                        NaN                                         70.5                                             90.0                                  NaN                                  NaN   \n1557                           NaN                                NaN                                        NaN                                          NaN                                            228.0                                  NaN                                  NaN   \n1574                         792.0                               20.6                                        NaN                                          NaN                                            106.0                                  NaN                                  NaN   \n1588                         990.0                               19.0                                        NaN                                          NaN                                            107.0                                  NaN                                  NaN   \n1597                           NaN                                8.6                                        NaN                                          NaN                                             90.0                                  NaN                                  NaN   \n1621                         995.0                                NaN                                        NaN                                          NaN                                             95.0                                  NaN                                  NaN   \n1646                           NaN                                1.0                                        NaN                                          NaN                                             94.0                                  NaN                                  NaN   \n1686                        1800.0                               11.0                                        NaN                                          NaN                                            158.0                                  NaN                                  NaN   \n1733                        1643.0                               16.8                                        NaN                                          NaN                                             94.0                                  NaN                                  NaN   \n1747                        1454.0                                NaN                                        NaN                                          NaN                                            190.0                                  NaN                                  NaN   \n\n      PROPERTY: C content (wppm)_original                 REFERENCE: doi_original  REFERENCE: year_original                          REFERENCE: title_original                  processed_doi_original                normalized_formula_original                   FORMULA_extracted  \\\n27                                    NaN               10.1007/s00339-019-2484-1                    2019.0  Effect of Sc and Y addition on the microstruct...               10.1007.s00339-019-2484-1                      Hf0.333Ti0.333Zr0.333                              TiZrHf   \n39                                    NaN               10.1007/s10853-012-6260-2                    2012.0  Microstructure and elevated temperature proper...               10.1007.s10853-012-6260-2                  Hf0.2Nb0.2Ta0.2Ti0.2Zr0.2       Ta 20 Nb 20 Hf 20 Zr 20 Ti 20   \n107                                   NaN               10.1007/s11837-014-1066-0                    2014.0  Microstructure and Properties of Aluminum-Cont...               10.1007.s11837-014-1066-0             Al0.2Mo0.1Nb0.2Ta0.1Ti0.2Zr0.2              AlMo 0.5 NbTa 0.5 TiZr   \n148                                   NaN              10.1007/s11837-020-04557-y                    2021.0  Microstructure and Mechanical Properties of a ...              10.1007.s11837-020-04557-y                  Cr0.2Hf0.2Nb0.2Ta0.2Ti0.2                          CrHfNbTaTi   \n175                                   NaN              10.1007/s40195-019-00921-3                    2019.0  A Novel Series of Refractory High-Entropy Allo...              10.1007.s40195-019-00921-3                Hf0.111Ti0.444V0.222Zr0.222                      Ti2ZrHf0.5VNb0   \n194                                   NaN              10.1007/s40195-019-00935-x                    2019.0  Microstructure, Mechanical Properties, and Cor...              10.1007.s40195-019-00935-x                   Cr0.2Fe0.2Mo0.2Nb0.2V0.2                           MoNbFeCrV   \n217                                   NaN           10.1016/j.actamat.2016.01.018                    2016.0  Structural-disorder and its effect on mechanic...           10.1016.j.actamat.2016.01.018                   Hf0.25Nb0.25Ta0.25Zr0.25                            TaNbHfZr   \n339                                   NaN            10.1016/j.ijrmhm.2014.07.009                    2014.0  Experimental and theoretical study of Ti20Zr20...            10.1016.j.ijrmhm.2014.07.009                   Hf0.2Nb0.2Ti0.2V0.2Zr0.2        Ti 20 Zr 20 Hf 20 Nb 20 V 20   \n357                                   NaN            10.1016/j.ijrmhm.2019.02.009                    2019.0  Fabrication, microstructure and mechanical pro...            10.1016.j.ijrmhm.2019.02.009         Cr0.12Mo0.2Nb0.42Ta0.01Ti0.13V0.12   Nb 42 Mo 20 Ti 13 Cr 12 V 12 Ta 1   \n366                                   NaN            10.1016/j.ijrmhm.2019.105132                    2020.0  Precipitation behavior and mechanical properti...            10.1016.j.ijrmhm.2019.105132           Al0.125Nb0.25Ta0.125Ti0.25Zr0.25                 TiNbTa 0.5 ZrAl 0.5   \n388                                   NaN            10.1016/j.ijrmhm.2020.105322                    2020.0  A new refractory Ti-Nb-Hf-Al high entropy allo...            10.1016.j.ijrmhm.2020.105322                     Al0.15Hf0.15Nb0.3Ti0.4             Ti 40 Nb 30 Hf 15 Al 15   \n467                                   NaN          10.1016/j.intermet.2011.01.004                    2011.0  Mechanical properties of Nb25Mo25Ta25W25 and V...          10.1016.j.intermet.2011.01.004                    Mo0.25Nb0.25Ta0.25W0.25              Nb 25 Mo 25 Ta 25 W 25   \n493                                   NaN          10.1016/j.intermet.2015.09.011                    2016.0  Microstructure and mechanical properties of in...          10.1016.j.intermet.2015.09.011  C0.024Hf0.122Mo0.122Nb0.244Ti0.244Zr0.244           Mo 0.5 NbHf 0.5 ZrTiC 0.1   \n551                                   NaN           10.1016/j.jallcom.2014.11.064                    2015.0  Effect of Al addition on mechanical properties...           10.1016.j.jallcom.2014.11.064                  Hf0.2Nb0.2Ta0.2Ti0.2Zr0.2                          HfNbTaTiZr   \n606                                   NaN           10.1016/j.jallcom.2016.10.014                    2017.0  Microstructure and mechanical properties of re...           10.1016.j.jallcom.2016.10.014            Hf0.25Mo0.125Nb0.25Ti0.25V0.125           HfMo 0.5 NbTiV 0.5 Si 0.0   \n622                                   NaN           10.1016/j.jallcom.2016.11.188                    2017.0  Mechanical properties of refractory high-entro...           10.1016.j.jallcom.2016.11.188                   Mo0.2Nb0.2Ta0.2Ti0.2V0.2                           MoNbTaTiV   \n643                                   NaN           10.1016/j.jallcom.2018.11.111                    2019.0  Microstructure evolution, mechanical propertie...           10.1016.j.jallcom.2018.11.111   C0.111Mo0.222Nb0.222Re0.111Ta0.111W0.222               MoNbRe 0.5 W(TaC) 0.5   \n805                                 132.0           10.1016/j.jallcom.2020.158003                    2021.0  Microstructure, mechanical properties and oxid...           10.1016.j.jallcom.2020.158003                      Nb0.333Ta0.333Ti0.333                              NbTaTi   \n869                                   NaN              10.1016/j.jmst.2020.07.012                    2021.0  Superior mechanical properties and strengtheni...              10.1016.j.jmst.2020.07.012                    Cr0.25Mo0.25Nb0.25V0.25                             CrNbVMo   \n939                                   NaN            10.1016/j.matdes.2015.05.019                    2015.0  Microstructure and mechanical properties of re...            10.1016.j.matdes.2015.05.019                  Hf0.2Mo0.2Nb0.2Ti0.2Zr0.2                          MoNbHfZrTi   \n952                                   NaN            10.1016/j.matdes.2015.06.072                    2015.0  Phase composition and solid solution strengthe...            10.1016.j.matdes.2015.06.072         Mo0.083Nb0.278Ti0.278V0.083Zr0.278                     TiZrNbMo0.3V0.3   \n977                                   NaN            10.1016/j.matdes.2017.11.033                    2018.0  Compositional variation effects on the microst...            10.1016.j.matdes.2017.11.033             Al0.2Mo0.1Nb0.2Ta0.1Ti0.2Zr0.2              AlMo 0.5 NbTa 0.5 TiZr   \n1020                                  NaN            10.1016/j.matlet.2014.05.134                    2014.0  A refractory Hf25Nb25Ti25Zr25 high-entropy all...            10.1016.j.matlet.2014.05.134                   Hf0.25Nb0.25Ti0.25Zr0.25             Hf 25 Nb 25 Ti 25 Zr 25   \n1029                                  NaN            10.1016/j.matlet.2014.11.162                    2015.0  Structure and mechanical properties of a light...            10.1016.j.matlet.2014.11.162                    Al0.25Nb0.25Ti0.25V0.25                             AlNbTiV   \n1051                                  NaN            10.1016/j.matlet.2016.03.092                    2016.0  Microstructure and mechanical properties of a ...            10.1016.j.matlet.2016.03.092         Hf0.222Nb0.222Si0.111Ti0.222V0.222                        HfNbTiVSi0.5   \n1062                                  NaN            10.1016/j.matlet.2016.03.133                    2016.0  Solution strengthening of ductile refractory H...            10.1016.j.matlet.2016.03.133                  Hf0.2Nb0.2Ta0.2Ti0.2Zr0.2                       HfMo0NbTaTiZr   \n1067                                  NaN            10.1016/j.matlet.2016.08.060                    2016.0  Simultaneously increasing the strength and duc...            10.1016.j.matlet.2016.08.060                  Hf0.2Nb0.2Ta0.2Ti0.2Zr0.2                          HfNbTaTiZr   \n1078                                  NaN            10.1016/j.matlet.2016.11.030                    2017.0  Precipitation-strengthened refractory Al 0.5 C...            10.1016.j.matlet.2016.11.030                   Al0.1Cr0.2Nb0.2Ti0.4V0.1               Al 0.5 CrNbTi 2 V 0.5   \n1091                                  NaN            10.1016/j.matlet.2019.03.075                    2019.0  Precipitation strengthening in a hot-worked Ti...            10.1016.j.matlet.2019.03.075           Al0.125Nb0.25Ta0.125Ti0.25Zr0.25                 TiNbTa 0.5 ZrAl 0.5   \n1105                                  NaN            10.1016/j.matlet.2020.127372                    2020.0  Structure and mechanical properties of an in s...            10.1016.j.matlet.2020.127372            Al0.2Cr0.1Nb0.15Ti0.2V0.25Zr0.1  Al 20 Cr 10 Nb 15 Ti 20 V 25 Zr 10   \n1116                                  NaN            10.1016/j.matlet.2021.129428                    2021.0  Ductile Ti1.5ZrNbAl0.3 refractory high entropy...            10.1016.j.matlet.2021.129428               Al0.079Nb0.263Ti0.395Zr0.263                   Ti 1.5 ZrNbAl 0.3   \n1125                                  NaN            10.1016/j.matlet.2021.129753                    2021.0  Ductile W0.4MoNbxTaTi refractory high-entropy ...            10.1016.j.matlet.2021.129753         Mo0.222Nb0.244Ta0.222Ti0.222W0.089                     W0.4MoNb1.1TaTi   \n1150                                  NaN              10.1016/j.msea.2012.12.018                    2013.0  Mechanical properties of low-density, refracto...              10.1016.j.msea.2012.12.018                    Nb0.25Ti0.25V0.25Zr0.25                             NbTiVZr   \n1209                                  NaN              10.1016/j.msea.2017.08.019                    2017.0  Structure and mechanical properties of B2 orde...              10.1016.j.msea.2017.08.019                    Al0.25Nb0.25Ti0.25V0.25                             AlNbTiV   \n1265                                  NaN              10.1016/j.msea.2017.12.004                    2018.0  Microstructures and mechanical properties of T...              10.1016.j.msea.2017.12.004                    Mo0.25Nb0.25Ta0.25W0.25                             NbMoTaW   \n1278                                  NaN              10.1016/j.msea.2017.12.021                    2018.0  Ultra-high strength WNbMoTaV high-entropy allo...              10.1016.j.msea.2017.12.021                    Mo0.2Nb0.2Ta0.2V0.2W0.2                            WNbMoTaV   \n1316                                  NaN              10.1016/j.msea.2020.139774                    2020.0  A single-phase V0.5Nb0.5ZrTi refractory high-e...              10.1016.j.msea.2020.139774                Nb0.167Ti0.333V0.167Zr0.333                   V 0.5 Nb 0.5 ZrTi   \n1326                                  NaN              10.1016/j.msea.2021.140798                    2021.0  Effects of Nb on deformation-induced transform...              10.1016.j.msea.2021.140798           Hf0.29Nb0.072Ta0.058Ti0.29Zr0.29                   HfNb0.25Ta0.2TiZr   \n1331                                  NaN              10.1016/j.msea.2021.140848                    2021.0  Effects of vanadium concentration on mechanica...              10.1016.j.msea.2021.140848                Mo0.308Nb0.308Ta0.308V0.077                         V0.25NbMoTa   \n1362                                210.0              10.1016/j.msea.2021.141168                    2021.0  Microstructure and properties of an equiatomic...              10.1016.j.msea.2021.141168                      Ta0.333Ti0.333Zr0.333                              TaTiZr   \n1468                                  NaN            10.1016/j.proeng.2012.03.043                    2012.0  Microstructure and Compressive Properties of N...            10.1016.j.proeng.2012.03.043                    Nb0.25Ta0.25Ti0.25V0.25                             NbTiVTa   \n1484                                  NaN        10.1016/j.scriptamat.2019.07.033                    2019.0  Precipitation behaviour and mechanical propert...        10.1016.j.scriptamat.2019.07.033               Al0.143Mo0.286Ta0.286Ti0.286                       Al 0.5 MoTaTi   \n1543                                  NaN        10.1016/j.scriptamat.2021.114225                    2022.0  Strengthening mechanisms and microstructural e...        10.1016.j.scriptamat.2021.114225                     Hf0.2Nb0.1Ti0.35Zr0.35                    Hf20Nb10Ti35Zr35   \n1557                                  NaN            10.1016/j.vacuum.2020.109614                    2020.0  Design of a low density refractory high entrop...            10.1016.j.vacuum.2020.109614                Al0.2Cr0.21Mo0.27Ti0.22W0.1        W 10 Mo 27 Cr 21 Ti 22 Al 20   \n1574                                  NaN               10.1038/s41563-020-0750-4                    2020.0  Natural-mixing guided design of refractory hig...               10.1038.s41563-020-0750-4                    Hf0.24Nb0.23Ti0.38V0.15              Ti 38 V 15 Nb 23 Hf 24   \n1588                                  NaN                       10.1063/1.4966659                    2016.0  Alloy design for intrinsically ductile refract...                       10.1063.1.4966659         Hf0.125Nb0.125Ta0.125Ti0.375Zr0.25      Hf 0.5 Nb 0.5 Ta 0.5 Ti 1.5 Zr   \n1597                                  NaN           10.1080/02670836.2018.1446267                    2018.0  Microstructure and mechanical properties of a ...           10.1080.02670836.2018.1446267                   Al0.25Nb0.25Ti0.25Zr0.25                            AlNbTiZr   \n1621                                  NaN           10.1080/21663831.2016.1221861                    2016.0  Design and tensile properties of a bcc Ti-rich...           10.1080.21663831.2016.1221861           Hf0.275Nb0.05Ta0.05Ti0.35Zr0.275     Ti 35 Zr 27.5 Hf 27.5 Nb 5 Ta 5   \n1646                                  NaN         10.1088/1757-899X/1014/1/012041                    2021.0  Precipitation-hardened refractoryTi-Nb-Hf-Al-T...         10.1088.1757-899X.1014.1.012041                 Al0.25Hf0.25Nb0.125Ti0.375                Ti37.5Nb12.5Hf25Al25   \n1686                                  NaN                       10.3390/e16020870                    2014.0  Microstructures and Crackling Noise of AlxNbTi...                       10.3390.e16020870         Al0.111Mo0.222Nb0.222Ti0.222V0.222                      Al 0.5 NbTiMoV   \n1733                                  NaN   10.4028/www.scientific.net/MSF.849.76                    2016.0  Microstructure and Mechanical Properties of a ...   10.4028.www.scientific.net.MSF.849.76  Hf0.182Nb0.182Si0.091Ti0.182V0.182Zr0.182                      HfNbSi0.5TiVZr   \n1747                                  NaN  10.4028/www.scientific.net/MSF.898.638                    2017.0  Microstructure and Mechanical Properties of VT...  10.4028.www.scientific.net.MSF.898.638                    Mo0.25Ta0.25Ti0.25V0.25                          VTaTiMoAl0   \n\n     PROPERTY: YS (MPa)_extracted                REFERENCE: doi_extracted PROPERTY: grain size ($\\mu$m)_extracted PROPERTY: Exp. Density (g/cm$^3$)_extracted PROPERTY: HV_extracted PROPERTY: Test temperature ($^\\circ$C)_extracted PROPERTY: UTS (MPa)_extracted PROPERTY: Elongation (%)_extracted  \\\n27                          773.0               10.1007.s00339-019-2484-1                                     NaN                                         NaN                  211.0                                              NaN                           NaN                               17.0   \n39                          929.0               10.1007.s10853-012-6260-2                                   100.0                                        9.94                    NaN                                            296.0                           NaN                                NaN   \n107                        2000.0               10.1007.s11837-014-1066-0                                    75.0                                         7.4                    5.8                                             25.0                        2368.0                               10.0   \n148                        1258.0              10.1007.s11837-020-04557-y                                     NaN                                         NaN                    NaN                                            296.0                          2061                               24.3   \n175                          1160              10.1007.s40195-019-00921-3                                     NaN                                        6.47                    338                                              298                           NaN                                >50   \n194                          2663              10.1007.s40195-019-00935-x                                     NaN                                         NaN                    NaN                                              NaN                           NaN                                NaN   \n217                          1315           10.1016.j.actamat.2016.01.018                                     NaN                                         NaN                   3575                                              NaN                           NaN                                NaN   \n339                          1170            10.1016.j.ijrmhm.2014.07.009                                     NaN                                         NaN                    NaN                                              NaN                           NaN                                NaN   \n357                          2680            10.1016.j.ijrmhm.2019.02.009                                     327                                        8.02                    741                                              NaN                          3896                                NaN   \n366                        1740.0            10.1016.j.ijrmhm.2019.105132                                     NaN                                         6.7                  763.0                                 room temperature                           NaN                                NaN   \n388                          1250            10.1016.j.ijrmhm.2020.105322                                     400                                        7.07                    NaN                                               22                          1630                                 16   \n467                          1058          10.1016.j.intermet.2011.01.004                                     NaN                                         NaN                    NaN                                              NaN                           NaN                                NaN   \n493                        1183.0          10.1016.j.intermet.2015.09.011                                     NaN                                         NaN                    NaN                                              NaN                           NaN                                NaN   \n551                          1073           10.1016.j.jallcom.2014.11.064                                     NaN                                        9.72                    295                                              NaN                           NaN                                >50   \n606                          1260           10.1016.j.jallcom.2016.10.014                                     NaN                                        9.02                    NaN                                               20                           NaN                                 35   \n622                        1400.0           10.1016.j.jallcom.2016.11.188                                     NaN                                        9.29                  443.0                                             25.0                           NaN                               30.0   \n643                        1202.0           10.1016.j.jallcom.2018.11.111                                     NaN                                         NaN                    NaN                                              NaN                        2067.0                              10.25   \n805                           724           10.1016.j.jallcom.2020.158003                                     NaN                                       10.09                    NaN                                              NaN                           NaN                                NaN   \n869                          2743              10.1016.j.jmst.2020.07.012                                    2.07                                        8.03                    NaN                                               25                           NaN                                NaN   \n939                          1719            10.1016.j.matdes.2015.05.019                                     NaN                                         NaN                    NaN                                              296                           NaN                                NaN   \n952                        1312.0            10.1016.j.matdes.2015.06.072                                     NaN                                         NaN                    NaN                                              NaN                           NaN                                NaN   \n977                          2197            10.1016.j.matdes.2017.11.033                                     NaN                                         7.4                    5.8                                               25                          2370                                4.1   \n1020                        879.0            10.1016.j.matlet.2014.05.134                                     1.0                                         NaN                    NaN                                              NaN                         969.0                                0.9   \n1029                       1020.0            10.1016.j.matlet.2014.11.162                                   300.0                                        5.59                 4315.0                                             20.0                        1318.0                                5.0   \n1051                         1399            10.1016.j.matlet.2016.03.092                                     NaN                                         8.6                    490                                              NaN                           NaN                               10.9   \n1062                         1015            10.1016.j.matlet.2016.03.133                                     NaN                                         NaN                    NaN                                              NaN                           NaN                                NaN   \n1067                        958.0            10.1016.j.matlet.2016.08.060                                    38.0                                         NaN                    NaN                                              NaN                           NaN                               20.0   \n1078                         1340            10.1016.j.matlet.2016.11.030                                     NaN                                        5.76                    NaN                                               22                           NaN                               18.5   \n1091                         1740            10.1016.j.matlet.2019.03.075                                     NaN                                         NaN                    NaN                                             1000                           NaN                                NaN   \n1105                         1535            10.1016.j.matlet.2020.127372                                     NaN                                         NaN                    NaN                                               22                           NaN                                0.6   \n1116                          876            10.1016.j.matlet.2021.129428                                     NaN                                         NaN                    NaN                                              NaN                           NaN                               23.0   \n1125                         1412            10.1016.j.matlet.2021.129753                                     NaN                                         NaN                    NaN                                              293                           NaN                                NaN   \n1150                         1105              10.1016.j.msea.2012.12.018                                     NaN                                        6.52                    NaN                                              298                           NaN                                NaN   \n1209                       1000.0              10.1016.j.msea.2017.08.019                                   300.0                                      5590.0                    NaN                                             22.0                           NaN                                6.0   \n1265                          996              10.1016.j.msea.2017.12.004                                     NaN                                         NaN                    NaN                                              NaN                           NaN                                NaN   \n1278                         2612              10.1016.j.msea.2017.12.021                                     NaN                                         NaN                    NaN                                 Room temperature                           NaN                                NaN   \n1316                        787.0              10.1016.j.msea.2020.139774                                     NaN                                         6.1                    NaN                                              NaN                         830.0                               21.9   \n1326                        748.0              10.1016.j.msea.2021.140798                                     NaN                                         NaN                    NaN                                              NaN                           NaN                                NaN   \n1331                         1017              10.1016.j.msea.2021.140848                                     NaN                                         NaN                    NaN                                              293                           NaN                                NaN   \n1362                       1671.0              10.1016.j.msea.2021.141168                                     NaN                                        9.56                    NaN                                             25.0                           NaN                                NaN   \n1468                         1092            10.1016.j.proeng.2012.03.043                                     NaN                                         NaN                    NaN                                              NaN                           NaN                                NaN   \n1484                          969        10.1016.j.scriptamat.2019.07.033                                     NaN                                         9.1                   6.67                                             1273                           973                                  1   \n1543                        524.0        10.1016.j.scriptamat.2021.114225                                     NaN                                         NaN                    252                                              NaN                           704                               17.5   \n1557                       1245.0            10.1016.j.vacuum.2020.109614                                     NaN                                        7.48                  511.0                                           293.15                           NaN                                7.7   \n1574                        774.0               10.1038.s41563-020-0750-4                                     NaN                                         NaN                    NaN                                              NaN                         792.0                               20.6   \n1588                        903.0                       10.1063.1.4966659                                     NaN                                        8.13                  301.0                                              NaN                         990.0                               18.8   \n1597                         1509           10.1080.02670836.2018.1446267                                     NaN                                        5.85                    422                                              NaN                          1554                                8.6   \n1621                        540.0           10.1080.21663831.2016.1221861                                    40.0                                         NaN                    NaN                                              NaN                         995.0                               23.0   \n1646                       1645.0         10.1088.1757-899X.1014.1.012041                                   300.0                                        7.23                    NaN                                             22.0                           NaN                                NaN   \n1686                         1625                       10.3390.e16020870                                     NaN                                         NaN                    NaN                                              NaN                           NaN                                NaN   \n1733                         1540   10.4028.www.scientific.net.MSF.849.76                                     NaN                                        7.75                    464                                              293                           NaN                               16.8   \n1747                       1221.0  10.4028.www.scientific.net.MSF.898.638                                     NaN                                         NaN                    NaN                                              NaN                        1454.0                               9.93   \n\n     PROPERTY: Elongation plastic (%)_extracted               normalized_formula_extracted  \n27                                          NaN                      Hf0.333Ti0.333Zr0.333  \n39                                         50.0                  Hf0.2Nb0.2Ta0.2Ti0.2Zr0.2  \n107                                         NaN             Al0.2Mo0.1Nb0.2Ta0.1Ti0.2Zr0.2  \n148                                         NaN                  Cr0.2Hf0.2Nb0.2Ta0.2Ti0.2  \n175                                         NaN                Hf0.111Ti0.444V0.222Zr0.222  \n194                                         NaN                   Cr0.2Fe0.2Mo0.2Nb0.2V0.2  \n217                                        21.6                   Hf0.25Nb0.25Ta0.25Zr0.25  \n339                                          30                   Hf0.2Nb0.2Ti0.2V0.2Zr0.2  \n357                                         NaN         Cr0.12Mo0.2Nb0.42Ta0.01Ti0.13V0.12  \n366                                        12.0           Al0.125Nb0.25Ta0.125Ti0.25Zr0.25  \n388                                         NaN                     Al0.15Hf0.15Nb0.3Ti0.4  \n467                                         NaN                    Mo0.25Nb0.25Ta0.25W0.25  \n493                                         NaN  C0.024Hf0.122Mo0.122Nb0.244Ti0.244Zr0.244  \n551                                         NaN                  Hf0.2Nb0.2Ta0.2Ti0.2Zr0.2  \n606                                         NaN            Hf0.25Mo0.125Nb0.25Ti0.25V0.125  \n622                                         NaN                   Mo0.2Nb0.2Ta0.2Ti0.2V0.2  \n643                                         NaN   C0.111Mo0.222Nb0.222Re0.111Ta0.111W0.222  \n805                                       0.354                      Nb0.333Ta0.333Ti0.333  \n869                                         NaN                    Cr0.25Mo0.25Nb0.25V0.25  \n939                                         NaN                  Hf0.2Mo0.2Nb0.2Ti0.2Zr0.2  \n952                                         >50         Mo0.083Nb0.278Ti0.278V0.083Zr0.278  \n977                                         NaN             Al0.2Mo0.1Nb0.2Ta0.1Ti0.2Zr0.2  \n1020                                       14.9                   Hf0.25Nb0.25Ti0.25Zr0.25  \n1029                                        NaN                    Al0.25Nb0.25Ti0.25V0.25  \n1051                                        NaN         Hf0.222Nb0.222Si0.111Ti0.222V0.222  \n1062                                        NaN                  Hf0.2Nb0.2Ta0.2Ti0.2Zr0.2  \n1067                                       1.23                  Hf0.2Nb0.2Ta0.2Ti0.2Zr0.2  \n1078                                        NaN                   Al0.1Cr0.2Nb0.2Ti0.4V0.1  \n1091                                         20           Al0.125Nb0.25Ta0.125Ti0.25Zr0.25  \n1105                                        NaN            Al0.2Cr0.1Nb0.15Ti0.2V0.25Zr0.1  \n1116                                        NaN               Al0.079Nb0.263Ti0.395Zr0.263  \n1125                                        NaN         Mo0.222Nb0.244Ta0.222Ti0.222W0.089  \n1150                                         50                    Nb0.25Ti0.25V0.25Zr0.25  \n1209                                        NaN                    Al0.25Nb0.25Ti0.25V0.25  \n1265                                        1.9                    Mo0.25Nb0.25Ta0.25W0.25  \n1278                                        8.8                    Mo0.2Nb0.2Ta0.2V0.2W0.2  \n1316                                        NaN                Nb0.167Ti0.333V0.167Zr0.333  \n1326                                        NaN           Hf0.29Nb0.072Ta0.058Ti0.29Zr0.29  \n1331                                        9.2                Mo0.308Nb0.308Ta0.308V0.077  \n1362                                        NaN                      Ta0.333Ti0.333Zr0.333  \n1468                                        NaN                    Nb0.25Ta0.25Ti0.25V0.25  \n1484                                        NaN               Al0.143Mo0.286Ta0.286Ti0.286  \n1543                                        NaN                     Hf0.2Nb0.1Ti0.35Zr0.35  \n1557                                        NaN                Al0.2Cr0.21Mo0.27Ti0.22W0.1  \n1574                                        NaN                    Hf0.24Nb0.23Ti0.38V0.15  \n1588                                        NaN         Hf0.125Nb0.125Ta0.125Ti0.375Zr0.25  \n1597                                        NaN                   Al0.25Nb0.25Ti0.25Zr0.25  \n1621                                        NaN           Hf0.275Nb0.05Ta0.05Ti0.35Zr0.275  \n1646                                        1.0                 Al0.25Hf0.25Nb0.125Ti0.375  \n1686                                        NaN         Al0.111Mo0.222Nb0.222Ti0.222V0.222  \n1733                                        NaN  Hf0.182Nb0.182Si0.091Ti0.182V0.182Zr0.182  \n1747                                        NaN                    Mo0.25Ta0.25Ti0.25V0.25  ",
      "text/html": "<div>\n<style scoped>\n    .dataframe tbody tr th:only-of-type {\n        vertical-align: middle;\n    }\n\n    .dataframe tbody tr th {\n        vertical-align: top;\n    }\n\n    .dataframe thead th {\n        text-align: right;\n    }\n</style>\n<table border=\"1\" class=\"dataframe\">\n  <thead>\n    <tr style=\"text-align: right;\">\n      <th></th>\n      <th>index</th>\n      <th>extracted_idx</th>\n      <th>original_idx</th>\n      <th>match_strength</th>\n      <th>match_group</th>\n      <th>IDENTIFIER: Reference ID_original</th>\n      <th>FORMULA_original</th>\n      <th>PROPERTY: Microstructure_original</th>\n      <th>PROPERTY: Processing method_original</th>\n      <th>PROPERTY: BCC/FCC/other_original</th>\n      <th>PROPERTY: grain size ($\\mu$m)_original</th>\n      <th>PROPERTY: Exp. Density (g/cm$^3$)_original</th>\n      <th>PROPERTY: Computed Density (g/cm$^3$)_original</th>\n      <th>PROPERTY: HV_original</th>\n      <th>PROPERTY: Type of test_original</th>\n      <th>PROPERTY: Test temperature ($^\\circ$C)_original</th>\n      <th>PROPERTY: YS (MPa)_original</th>\n      <th>PROPERTY: UTS (MPa)_original</th>\n      <th>PROPERTY: Elongation (%)_original</th>\n      <th>PROPERTY: Elongation plastic (%)_original</th>\n      <th>PROPERTY: Exp. Young modulus (GPa)_original</th>\n      <th>PROPERTY: Computed Young modulus (GPa)_original</th>\n      <th>PROPERTY: O content (wppm)_original</th>\n      <th>PROPERTY: N content (wppm)_original</th>\n      <th>PROPERTY: C content (wppm)_original</th>\n      <th>REFERENCE: doi_original</th>\n      <th>REFERENCE: year_original</th>\n      <th>REFERENCE: title_original</th>\n      <th>processed_doi_original</th>\n      <th>normalized_formula_original</th>\n      <th>FORMULA_extracted</th>\n      <th>PROPERTY: YS (MPa)_extracted</th>\n      <th>REFERENCE: doi_extracted</th>\n      <th>PROPERTY: grain size ($\\mu$m)_extracted</th>\n      <th>PROPERTY: Exp. Density (g/cm$^3$)_extracted</th>\n      <th>PROPERTY: HV_extracted</th>\n      <th>PROPERTY: Test temperature ($^\\circ$C)_extracted</th>\n      <th>PROPERTY: UTS (MPa)_extracted</th>\n      <th>PROPERTY: Elongation (%)_extracted</th>\n      <th>PROPERTY: Elongation plastic (%)_extracted</th>\n      <th>normalized_formula_extracted</th>\n    </tr>\n  </thead>\n  <tbody>\n    <tr>\n      <th>27</th>\n      <td>0</td>\n      <td>373.0</td>\n      <td>639.0</td>\n      <td>0.75</td>\n      <td>10.1007.s00339-019-2484-1</td>\n      <td>15.0</td>\n      <td>Hf0.333 Ti0.333 Zr0.333</td>\n      <td>Other</td>\n      <td>CAST</td>\n      <td>other</td>\n      <td>NaN</td>\n      <td>NaN</td>\n      <td>8.1</td>\n      <td>211.00</td>\n      <td>C</td>\n      <td>25.0</td>\n      <td>773.0</td>\n      <td>NaN</td>\n      <td>17.0</td>\n      <td>NaN</td>\n      <td>NaN</td>\n      <td>87.0</td>\n      <td>NaN</td>\n      <td>NaN</td>\n      <td>NaN</td>\n      <td>10.1007/s00339-019-2484-1</td>\n      <td>2019.0</td>\n      <td>Effect of Sc and Y addition on the microstruct...</td>\n      <td>10.1007.s00339-019-2484-1</td>\n      <td>Hf0.333Ti0.333Zr0.333</td>\n      <td>TiZrHf</td>\n      <td>773.0</td>\n      <td>10.1007.s00339-019-2484-1</td>\n      <td>NaN</td>\n      <td>NaN</td>\n      <td>211.0</td>\n      <td>NaN</td>\n      <td>NaN</td>\n      <td>17.0</td>\n      <td>NaN</td>\n      <td>Hf0.333Ti0.333Zr0.333</td>\n    </tr>\n    <tr>\n      <th>39</th>\n      <td>0</td>\n      <td>20.0</td>\n      <td>465.0</td>\n      <td>0.50</td>\n      <td>10.1007.s10853-012-6260-2</td>\n      <td>53.0</td>\n      <td>Hf0.2 Nb0.2 Ta0.2 Ti0.2 Zr0.2</td>\n      <td>BCC</td>\n      <td>OTHER</td>\n      <td>BCC</td>\n      <td>NaN</td>\n      <td>NaN</td>\n      <td>9.9</td>\n      <td>NaN</td>\n      <td>C</td>\n      <td>25.0</td>\n      <td>929.0</td>\n      <td>NaN</td>\n      <td>50.0</td>\n      <td>NaN</td>\n      <td>NaN</td>\n      <td>111.0</td>\n      <td>NaN</td>\n      <td>NaN</td>\n      <td>NaN</td>\n      <td>10.1007/s10853-012-6260-2</td>\n      <td>2012.0</td>\n      <td>Microstructure and elevated temperature proper...</td>\n      <td>10.1007.s10853-012-6260-2</td>\n      <td>Hf0.2Nb0.2Ta0.2Ti0.2Zr0.2</td>\n      <td>Ta 20 Nb 20 Hf 20 Zr 20 Ti 20</td>\n      <td>929.0</td>\n      <td>10.1007.s10853-012-6260-2</td>\n      <td>100.0</td>\n      <td>9.94</td>\n      <td>NaN</td>\n      <td>296.0</td>\n      <td>NaN</td>\n      <td>NaN</td>\n      <td>50.0</td>\n      <td>Hf0.2Nb0.2Ta0.2Ti0.2Zr0.2</td>\n    </tr>\n    <tr>\n      <th>107</th>\n      <td>0</td>\n      <td>115.0</td>\n      <td>190.0</td>\n      <td>1.00</td>\n      <td>10.1007.s11837-014-1066-0</td>\n      <td>39.0</td>\n      <td>Al0.2 Mo0.1 Nb0.2 Ta0.1 Ti0.2 Zr0.2</td>\n      <td>BCC+B2</td>\n      <td>OTHER</td>\n      <td>other</td>\n      <td>75.000</td>\n      <td>NaN</td>\n      <td>7.2</td>\n      <td>591.00</td>\n      <td>C</td>\n      <td>25.0</td>\n      <td>2000.0</td>\n      <td>2368.0</td>\n      <td>10.0</td>\n      <td>NaN</td>\n      <td>NaN</td>\n      <td>123.0</td>\n      <td>NaN</td>\n      <td>NaN</td>\n      <td>NaN</td>\n      <td>10.1007/s11837-014-1066-0</td>\n      <td>2014.0</td>\n      <td>Microstructure and Properties of Aluminum-Cont...</td>\n      <td>10.1007.s11837-014-1066-0</td>\n      <td>Al0.2Mo0.1Nb0.2Ta0.1Ti0.2Zr0.2</td>\n      <td>AlMo 0.5 NbTa 0.5 TiZr</td>\n      <td>2000.0</td>\n      <td>10.1007.s11837-014-1066-0</td>\n      <td>75.0</td>\n      <td>7.4</td>\n      <td>5.8</td>\n      <td>25.0</td>\n      <td>2368.0</td>\n      <td>10.0</td>\n      <td>NaN</td>\n      <td>Al0.2Mo0.1Nb0.2Ta0.1Ti0.2Zr0.2</td>\n    </tr>\n    <tr>\n      <th>148</th>\n      <td>0</td>\n      <td>431.0</td>\n      <td>287.0</td>\n      <td>0.75</td>\n      <td>10.1007.s11837-020-04557-y</td>\n      <td>23.0</td>\n      <td>Cr0.2 Hf0.2 Nb0.2 Ta0.2 Ti0.2</td>\n      <td>BCC+BCC+Laves</td>\n      <td>CAST</td>\n      <td>other</td>\n      <td>NaN</td>\n      <td>NaN</td>\n      <td>10.0</td>\n      <td>NaN</td>\n      <td>C</td>\n      <td>25.0</td>\n      <td>1258.0</td>\n      <td>NaN</td>\n      <td>24.3</td>\n      <td>NaN</td>\n      <td>NaN</td>\n      <td>153.0</td>\n      <td>NaN</td>\n      <td>NaN</td>\n      <td>NaN</td>\n      <td>10.1007/s11837-020-04557-y</td>\n      <td>2021.0</td>\n      <td>Microstructure and Mechanical Properties of a ...</td>\n      <td>10.1007.s11837-020-04557-y</td>\n      <td>Cr0.2Hf0.2Nb0.2Ta0.2Ti0.2</td>\n      <td>CrHfNbTaTi</td>\n      <td>1258.0</td>\n      <td>10.1007.s11837-020-04557-y</td>\n      <td>NaN</td>\n      <td>NaN</td>\n      <td>NaN</td>\n      <td>296.0</td>\n      <td>2061</td>\n      <td>24.3</td>\n      <td>NaN</td>\n      <td>Cr0.2Hf0.2Nb0.2Ta0.2Ti0.2</td>\n    </tr>\n    <tr>\n      <th>175</th>\n      <td>0</td>\n      <td>603.0</td>\n      <td>378.0</td>\n      <td>0.75</td>\n      <td>10.1007.s40195-019-00921-3</td>\n      <td>142.0</td>\n      <td>Hf0.111 Ti0.444 V0.222 Zr0.222</td>\n      <td>BCC</td>\n      <td>CAST</td>\n      <td>BCC</td>\n      <td>NaN</td>\n      <td>NaN</td>\n      <td>6.3</td>\n      <td>338.30</td>\n      <td>C</td>\n      <td>25.0</td>\n      <td>1160.0</td>\n      <td>NaN</td>\n      <td>50.0</td>\n      <td>NaN</td>\n      <td>NaN</td>\n      <td>104.0</td>\n      <td>NaN</td>\n      <td>NaN</td>\n      <td>NaN</td>\n      <td>10.1007/s40195-019-00921-3</td>\n      <td>2019.0</td>\n      <td>A Novel Series of Refractory High-Entropy Allo...</td>\n      <td>10.1007.s40195-019-00921-3</td>\n      <td>Hf0.111Ti0.444V0.222Zr0.222</td>\n      <td>Ti2ZrHf0.5VNb0</td>\n      <td>1160</td>\n      <td>10.1007.s40195-019-00921-3</td>\n      <td>NaN</td>\n      <td>6.47</td>\n      <td>338</td>\n      <td>298</td>\n      <td>NaN</td>\n      <td>&gt;50</td>\n      <td>NaN</td>\n      <td>Hf0.111Ti0.444V0.222Zr0.222</td>\n    </tr>\n    <tr>\n      <th>194</th>\n      <td>0</td>\n      <td>0.0</td>\n      <td>286.0</td>\n      <td>0.75</td>\n      <td>10.1007.s40195-019-00935-x</td>\n      <td>136.0</td>\n      <td>Cr0.2 Fe0.2 Mo0.2 Nb0.2 V0.2</td>\n      <td>BCC+Laves</td>\n      <td>CAST</td>\n      <td>other</td>\n      <td>NaN</td>\n      <td>NaN</td>\n      <td>8.0</td>\n      <td>826.00</td>\n      <td>C</td>\n      <td>25.0</td>\n      <td>2663.0</td>\n      <td>NaN</td>\n      <td>2.7</td>\n      <td>NaN</td>\n      <td>NaN</td>\n      <td>210.0</td>\n      <td>NaN</td>\n      <td>NaN</td>\n      <td>NaN</td>\n      <td>10.1007/s40195-019-00935-x</td>\n      <td>2019.0</td>\n      <td>Microstructure, Mechanical Properties, and Cor...</td>\n      <td>10.1007.s40195-019-00935-x</td>\n      <td>Cr0.2Fe0.2Mo0.2Nb0.2V0.2</td>\n      <td>MoNbFeCrV</td>\n      <td>2663</td>\n      <td>10.1007.s40195-019-00935-x</td>\n      <td>NaN</td>\n      <td>NaN</td>\n      <td>NaN</td>\n      <td>NaN</td>\n      <td>NaN</td>\n      <td>NaN</td>\n      <td>NaN</td>\n      <td>Cr0.2Fe0.2Mo0.2Nb0.2V0.2</td>\n    </tr>\n    <tr>\n      <th>217</th>\n      <td>0</td>\n      <td>235.0</td>\n      <td>603.0</td>\n      <td>0.75</td>\n      <td>10.1016.j.actamat.2016.01.018</td>\n      <td>87.0</td>\n      <td>Hf0.25 Nb0.25 Ta0.25 Zr0.25</td>\n      <td>BCC</td>\n      <td>CAST</td>\n      <td>BCC</td>\n      <td>NaN</td>\n      <td>NaN</td>\n      <td>11.3</td>\n      <td>365.00</td>\n      <td>C</td>\n      <td>25.0</td>\n      <td>1315.0</td>\n      <td>1800.0</td>\n      <td>21.6</td>\n      <td>NaN</td>\n      <td>NaN</td>\n      <td>109.0</td>\n      <td>NaN</td>\n      <td>NaN</td>\n      <td>NaN</td>\n      <td>10.1016/j.actamat.2016.01.018</td>\n      <td>2016.0</td>\n      <td>Structural-disorder and its effect on mechanic...</td>\n      <td>10.1016.j.actamat.2016.01.018</td>\n      <td>Hf0.25Nb0.25Ta0.25Zr0.25</td>\n      <td>TaNbHfZr</td>\n      <td>1315</td>\n      <td>10.1016.j.actamat.2016.01.018</td>\n      <td>NaN</td>\n      <td>NaN</td>\n      <td>3575</td>\n      <td>NaN</td>\n      <td>NaN</td>\n      <td>NaN</td>\n      <td>21.6</td>\n      <td>Hf0.25Nb0.25Ta0.25Zr0.25</td>\n    </tr>\n    <tr>\n      <th>339</th>\n      <td>0</td>\n      <td>390.0</td>\n      <td>567.0</td>\n      <td>0.75</td>\n      <td>10.1016.j.ijrmhm.2014.07.009</td>\n      <td>70.0</td>\n      <td>Hf0.2 Nb0.2 Ti0.2 V0.2 Zr0.2</td>\n      <td>BCC+Laves</td>\n      <td>CAST</td>\n      <td>other</td>\n      <td>NaN</td>\n      <td>NaN</td>\n      <td>7.8</td>\n      <td>NaN</td>\n      <td>C</td>\n      <td>25.0</td>\n      <td>1170.0</td>\n      <td>1463.0</td>\n      <td>29.6</td>\n      <td>NaN</td>\n      <td>NaN</td>\n      <td>99.0</td>\n      <td>NaN</td>\n      <td>NaN</td>\n      <td>NaN</td>\n      <td>10.1016/j.ijrmhm.2014.07.009</td>\n      <td>2014.0</td>\n      <td>Experimental and theoretical study of Ti20Zr20...</td>\n      <td>10.1016.j.ijrmhm.2014.07.009</td>\n      <td>Hf0.2Nb0.2Ti0.2V0.2Zr0.2</td>\n      <td>Ti 20 Zr 20 Hf 20 Nb 20 V 20</td>\n      <td>1170</td>\n      <td>10.1016.j.ijrmhm.2014.07.009</td>\n      <td>NaN</td>\n      <td>NaN</td>\n      <td>NaN</td>\n      <td>NaN</td>\n      <td>NaN</td>\n      <td>NaN</td>\n      <td>30</td>\n      <td>Hf0.2Nb0.2Ti0.2V0.2Zr0.2</td>\n    </tr>\n    <tr>\n      <th>357</th>\n      <td>0</td>\n      <td>58.0</td>\n      <td>280.0</td>\n      <td>0.50</td>\n      <td>10.1016.j.ijrmhm.2019.02.009</td>\n      <td>109.0</td>\n      <td>Cr0.12 Mo0.2 Nb0.42 Ta0.01 Ti0.13 V0.12</td>\n      <td>BCC+Sec.</td>\n      <td>POWDER</td>\n      <td>other</td>\n      <td>0.075</td>\n      <td>8.02</td>\n      <td>8.0</td>\n      <td>741.00</td>\n      <td>C</td>\n      <td>25.0</td>\n      <td>2680.0</td>\n      <td>NaN</td>\n      <td>NaN</td>\n      <td>NaN</td>\n      <td>NaN</td>\n      <td>176.0</td>\n      <td>NaN</td>\n      <td>NaN</td>\n      <td>NaN</td>\n      <td>10.1016/j.ijrmhm.2019.02.009</td>\n      <td>2019.0</td>\n      <td>Fabrication, microstructure and mechanical pro...</td>\n      <td>10.1016.j.ijrmhm.2019.02.009</td>\n      <td>Cr0.12Mo0.2Nb0.42Ta0.01Ti0.13V0.12</td>\n      <td>Nb 42 Mo 20 Ti 13 Cr 12 V 12 Ta 1</td>\n      <td>2680</td>\n      <td>10.1016.j.ijrmhm.2019.02.009</td>\n      <td>327</td>\n      <td>8.02</td>\n      <td>741</td>\n      <td>NaN</td>\n      <td>3896</td>\n      <td>NaN</td>\n      <td>NaN</td>\n      <td>Cr0.12Mo0.2Nb0.42Ta0.01Ti0.13V0.12</td>\n    </tr>\n    <tr>\n      <th>366</th>\n      <td>0</td>\n      <td>536.0</td>\n      <td>107.0</td>\n      <td>0.75</td>\n      <td>10.1016.j.ijrmhm.2019.105132</td>\n      <td>12.0</td>\n      <td>Al0.125 Nb0.25 Ta0.125 Ti0.25 Zr0.25</td>\n      <td>BCC+Sec.</td>\n      <td>POWDER</td>\n      <td>other</td>\n      <td>NaN</td>\n      <td>NaN</td>\n      <td>7.3</td>\n      <td>NaN</td>\n      <td>C</td>\n      <td>25.0</td>\n      <td>1740.0</td>\n      <td>NaN</td>\n      <td>14.0</td>\n      <td>NaN</td>\n      <td>NaN</td>\n      <td>104.0</td>\n      <td>NaN</td>\n      <td>NaN</td>\n      <td>NaN</td>\n      <td>10.1016/j.ijrmhm.2019.105132</td>\n      <td>2020.0</td>\n      <td>Precipitation behavior and mechanical properti...</td>\n      <td>10.1016.j.ijrmhm.2019.105132</td>\n      <td>Al0.125Nb0.25Ta0.125Ti0.25Zr0.25</td>\n      <td>TiNbTa 0.5 ZrAl 0.5</td>\n      <td>1740.0</td>\n      <td>10.1016.j.ijrmhm.2019.105132</td>\n      <td>NaN</td>\n      <td>6.7</td>\n      <td>763.0</td>\n      <td>room temperature</td>\n      <td>NaN</td>\n      <td>NaN</td>\n      <td>12.0</td>\n      <td>Al0.125Nb0.25Ta0.125Ti0.25Zr0.25</td>\n    </tr>\n    <tr>\n      <th>388</th>\n      <td>0</td>\n      <td>190.0</td>\n      <td>145.0</td>\n      <td>0.50</td>\n      <td>10.1016.j.ijrmhm.2020.105322</td>\n      <td>6.0</td>\n      <td>Al0.15 Hf0.15 Nb0.3 Ti0.4</td>\n      <td>BCC+Sec.</td>\n      <td>ANNEAL</td>\n      <td>other</td>\n      <td>NaN</td>\n      <td>NaN</td>\n      <td>6.8</td>\n      <td>NaN</td>\n      <td>C</td>\n      <td>25.0</td>\n      <td>1250.0</td>\n      <td>NaN</td>\n      <td>16.0</td>\n      <td>NaN</td>\n      <td>NaN</td>\n      <td>100.0</td>\n      <td>NaN</td>\n      <td>NaN</td>\n      <td>NaN</td>\n      <td>10.1016/j.ijrmhm.2020.105322</td>\n      <td>2020.0</td>\n      <td>A new refractory Ti-Nb-Hf-Al high entropy allo...</td>\n      <td>10.1016.j.ijrmhm.2020.105322</td>\n      <td>Al0.15Hf0.15Nb0.3Ti0.4</td>\n      <td>Ti 40 Nb 30 Hf 15 Al 15</td>\n      <td>1250</td>\n      <td>10.1016.j.ijrmhm.2020.105322</td>\n      <td>400</td>\n      <td>7.07</td>\n      <td>NaN</td>\n      <td>22</td>\n      <td>1630</td>\n      <td>16</td>\n      <td>NaN</td>\n      <td>Al0.15Hf0.15Nb0.3Ti0.4</td>\n    </tr>\n    <tr>\n      <th>467</th>\n      <td>0</td>\n      <td>773.0</td>\n      <td>807.0</td>\n      <td>0.50</td>\n      <td>10.1016.j.intermet.2011.01.004</td>\n      <td>57.0</td>\n      <td>Mo0.25 Nb0.25 Ta0.25 W0.25</td>\n      <td>BCC</td>\n      <td>CAST</td>\n      <td>BCC</td>\n      <td>200.000</td>\n      <td>NaN</td>\n      <td>13.7</td>\n      <td>454.00</td>\n      <td>C</td>\n      <td>25.0</td>\n      <td>1058.0</td>\n      <td>1211.0</td>\n      <td>2.0</td>\n      <td>NaN</td>\n      <td>NaN</td>\n      <td>258.0</td>\n      <td>NaN</td>\n      <td>NaN</td>\n      <td>NaN</td>\n      <td>10.1016/j.intermet.2011.01.004</td>\n      <td>2011.0</td>\n      <td>Mechanical properties of Nb25Mo25Ta25W25 and V...</td>\n      <td>10.1016.j.intermet.2011.01.004</td>\n      <td>Mo0.25Nb0.25Ta0.25W0.25</td>\n      <td>Nb 25 Mo 25 Ta 25 W 25</td>\n      <td>1058</td>\n      <td>10.1016.j.intermet.2011.01.004</td>\n      <td>NaN</td>\n      <td>NaN</td>\n      <td>NaN</td>\n      <td>NaN</td>\n      <td>NaN</td>\n      <td>NaN</td>\n      <td>NaN</td>\n      <td>Mo0.25Nb0.25Ta0.25W0.25</td>\n    </tr>\n    <tr>\n      <th>493</th>\n      <td>0</td>\n      <td>830.0</td>\n      <td>268.0</td>\n      <td>0.75</td>\n      <td>10.1016.j.intermet.2015.09.011</td>\n      <td>47.0</td>\n      <td>C0.024 Hf0.122 Mo0.122 Nb0.244 Ti0.244 Zr0.244</td>\n      <td>BCC+Sec.</td>\n      <td>CAST</td>\n      <td>other</td>\n      <td>NaN</td>\n      <td>NaN</td>\n      <td>7.7</td>\n      <td>NaN</td>\n      <td>C</td>\n      <td>25.0</td>\n      <td>1183.0</td>\n      <td>2139.0</td>\n      <td>38.0</td>\n      <td>NaN</td>\n      <td>NaN</td>\n      <td>NaN</td>\n      <td>NaN</td>\n      <td>NaN</td>\n      <td>NaN</td>\n      <td>10.1016/j.intermet.2015.09.011</td>\n      <td>2016.0</td>\n      <td>Microstructure and mechanical properties of in...</td>\n      <td>10.1016.j.intermet.2015.09.011</td>\n      <td>C0.024Hf0.122Mo0.122Nb0.244Ti0.244Zr0.244</td>\n      <td>Mo 0.5 NbHf 0.5 ZrTiC 0.1</td>\n      <td>1183.0</td>\n      <td>10.1016.j.intermet.2015.09.011</td>\n      <td>NaN</td>\n      <td>NaN</td>\n      <td>NaN</td>\n      <td>NaN</td>\n      <td>NaN</td>\n      <td>NaN</td>\n      <td>NaN</td>\n      <td>C0.024Hf0.122Mo0.122Nb0.244Ti0.244Zr0.244</td>\n    </tr>\n    <tr>\n      <th>551</th>\n      <td>0</td>\n      <td>181.0</td>\n      <td>487.0</td>\n      <td>0.50</td>\n      <td>10.1016.j.jallcom.2014.11.064</td>\n      <td>40.0</td>\n      <td>Hf0.2 Nb0.2 Ta0.2 Ti0.2 Zr0.2</td>\n      <td>BCC</td>\n      <td>CAST</td>\n      <td>BCC</td>\n      <td>120.000</td>\n      <td>NaN</td>\n      <td>9.9</td>\n      <td>295.00</td>\n      <td>C</td>\n      <td>25.0</td>\n      <td>1073.0</td>\n      <td>NaN</td>\n      <td>50.0</td>\n      <td>NaN</td>\n      <td>55.0</td>\n      <td>111.0</td>\n      <td>NaN</td>\n      <td>NaN</td>\n      <td>NaN</td>\n      <td>10.1016/j.jallcom.2014.11.064</td>\n      <td>2015.0</td>\n      <td>Effect of Al addition on mechanical properties...</td>\n      <td>10.1016.j.jallcom.2014.11.064</td>\n      <td>Hf0.2Nb0.2Ta0.2Ti0.2Zr0.2</td>\n      <td>HfNbTaTiZr</td>\n      <td>1073</td>\n      <td>10.1016.j.jallcom.2014.11.064</td>\n      <td>NaN</td>\n      <td>9.72</td>\n      <td>295</td>\n      <td>NaN</td>\n      <td>NaN</td>\n      <td>&gt;50</td>\n      <td>NaN</td>\n      <td>Hf0.2Nb0.2Ta0.2Ti0.2Zr0.2</td>\n    </tr>\n    <tr>\n      <th>606</th>\n      <td>0</td>\n      <td>368.0</td>\n      <td>589.0</td>\n      <td>0.75</td>\n      <td>10.1016.j.jallcom.2016.10.014</td>\n      <td>75.0</td>\n      <td>Hf0.25 Mo0.125 Nb0.25 Ti0.25 V0.125</td>\n      <td>BCC</td>\n      <td>CAST</td>\n      <td>BCC</td>\n      <td>NaN</td>\n      <td>NaN</td>\n      <td>8.6</td>\n      <td>NaN</td>\n      <td>C</td>\n      <td>25.0</td>\n      <td>1260.0</td>\n      <td>NaN</td>\n      <td>NaN</td>\n      <td>NaN</td>\n      <td>NaN</td>\n      <td>132.0</td>\n      <td>NaN</td>\n      <td>NaN</td>\n      <td>NaN</td>\n      <td>10.1016/j.jallcom.2016.10.014</td>\n      <td>2017.0</td>\n      <td>Microstructure and mechanical properties of re...</td>\n      <td>10.1016.j.jallcom.2016.10.014</td>\n      <td>Hf0.25Mo0.125Nb0.25Ti0.25V0.125</td>\n      <td>HfMo 0.5 NbTiV 0.5 Si 0.0</td>\n      <td>1260</td>\n      <td>10.1016.j.jallcom.2016.10.014</td>\n      <td>NaN</td>\n      <td>9.02</td>\n      <td>NaN</td>\n      <td>20</td>\n      <td>NaN</td>\n      <td>35</td>\n      <td>NaN</td>\n      <td>Hf0.25Mo0.125Nb0.25Ti0.25V0.125</td>\n    </tr>\n    <tr>\n      <th>622</th>\n      <td>0</td>\n      <td>527.0</td>\n      <td>707.0</td>\n      <td>1.00</td>\n      <td>10.1016.j.jallcom.2016.11.188</td>\n      <td>90.0</td>\n      <td>Mo0.2 Nb0.2 Ta0.2 Ti0.2 V0.2</td>\n      <td>BCC</td>\n      <td>CAST</td>\n      <td>BCC</td>\n      <td>NaN</td>\n      <td>NaN</td>\n      <td>9.2</td>\n      <td>NaN</td>\n      <td>C</td>\n      <td>25.0</td>\n      <td>1400.0</td>\n      <td>2450.0</td>\n      <td>NaN</td>\n      <td>NaN</td>\n      <td>NaN</td>\n      <td>173.0</td>\n      <td>NaN</td>\n      <td>NaN</td>\n      <td>NaN</td>\n      <td>10.1016/j.jallcom.2016.11.188</td>\n      <td>2017.0</td>\n      <td>Mechanical properties of refractory high-entro...</td>\n      <td>10.1016.j.jallcom.2016.11.188</td>\n      <td>Mo0.2Nb0.2Ta0.2Ti0.2V0.2</td>\n      <td>MoNbTaTiV</td>\n      <td>1400.0</td>\n      <td>10.1016.j.jallcom.2016.11.188</td>\n      <td>NaN</td>\n      <td>9.29</td>\n      <td>443.0</td>\n      <td>25.0</td>\n      <td>NaN</td>\n      <td>30.0</td>\n      <td>NaN</td>\n      <td>Mo0.2Nb0.2Ta0.2Ti0.2V0.2</td>\n    </tr>\n    <tr>\n      <th>643</th>\n      <td>0</td>\n      <td>11.0</td>\n      <td>272.0</td>\n      <td>0.75</td>\n      <td>10.1016.j.jallcom.2018.11.111</td>\n      <td>122.0</td>\n      <td>C0.111 Mo0.222 Nb0.222 Re0.111 Ta0.111 W0.222</td>\n      <td>BCC+Sec.</td>\n      <td>CAST</td>\n      <td>other</td>\n      <td>NaN</td>\n      <td>NaN</td>\n      <td>12.9</td>\n      <td>583.00</td>\n      <td>C</td>\n      <td>25.0</td>\n      <td>1202.0</td>\n      <td>NaN</td>\n      <td>14.2</td>\n      <td>10.25</td>\n      <td>NaN</td>\n      <td>NaN</td>\n      <td>NaN</td>\n      <td>NaN</td>\n      <td>NaN</td>\n      <td>10.1016/j.jallcom.2018.11.111</td>\n      <td>2019.0</td>\n      <td>Microstructure evolution, mechanical propertie...</td>\n      <td>10.1016.j.jallcom.2018.11.111</td>\n      <td>C0.111Mo0.222Nb0.222Re0.111Ta0.111W0.222</td>\n      <td>MoNbRe 0.5 W(TaC) 0.5</td>\n      <td>1202.0</td>\n      <td>10.1016.j.jallcom.2018.11.111</td>\n      <td>NaN</td>\n      <td>NaN</td>\n      <td>NaN</td>\n      <td>NaN</td>\n      <td>2067.0</td>\n      <td>10.25</td>\n      <td>NaN</td>\n      <td>C0.111Mo0.222Nb0.222Re0.111Ta0.111W0.222</td>\n    </tr>\n    <tr>\n      <th>805</th>\n      <td>0</td>\n      <td>832.0</td>\n      <td>936.0</td>\n      <td>0.50</td>\n      <td>10.1016.j.jallcom.2020.158003</td>\n      <td>10.0</td>\n      <td>Nb0.333 Ta0.333 Ti0.333</td>\n      <td>BCC</td>\n      <td>ANNEAL</td>\n      <td>BCC</td>\n      <td>400.000</td>\n      <td>10.09</td>\n      <td>9.9</td>\n      <td>NaN</td>\n      <td>C</td>\n      <td>25.0</td>\n      <td>724.0</td>\n      <td>NaN</td>\n      <td>NaN</td>\n      <td>NaN</td>\n      <td>NaN</td>\n      <td>136.0</td>\n      <td>112.0</td>\n      <td>391.0</td>\n      <td>132.0</td>\n      <td>10.1016/j.jallcom.2020.158003</td>\n      <td>2021.0</td>\n      <td>Microstructure, mechanical properties and oxid...</td>\n      <td>10.1016.j.jallcom.2020.158003</td>\n      <td>Nb0.333Ta0.333Ti0.333</td>\n      <td>NbTaTi</td>\n      <td>724</td>\n      <td>10.1016.j.jallcom.2020.158003</td>\n      <td>NaN</td>\n      <td>10.09</td>\n      <td>NaN</td>\n      <td>NaN</td>\n      <td>NaN</td>\n      <td>NaN</td>\n      <td>0.354</td>\n      <td>Nb0.333Ta0.333Ti0.333</td>\n    </tr>\n    <tr>\n      <th>869</th>\n      <td>0</td>\n      <td>468.0</td>\n      <td>323.0</td>\n      <td>1.00</td>\n      <td>10.1016.j.jmst.2020.07.012</td>\n      <td>20.0</td>\n      <td>Cr0.25 Mo0.25 Nb0.25 V0.25</td>\n      <td>BCC+Sec.</td>\n      <td>POWDER</td>\n      <td>other</td>\n      <td>2.070</td>\n      <td>NaN</td>\n      <td>8.0</td>\n      <td>8.03</td>\n      <td>C</td>\n      <td>25.0</td>\n      <td>2743.0</td>\n      <td>NaN</td>\n      <td>9.9</td>\n      <td>NaN</td>\n      <td>NaN</td>\n      <td>210.0</td>\n      <td>NaN</td>\n      <td>NaN</td>\n      <td>NaN</td>\n      <td>10.1016/j.jmst.2020.07.012</td>\n      <td>2021.0</td>\n      <td>Superior mechanical properties and strengtheni...</td>\n      <td>10.1016.j.jmst.2020.07.012</td>\n      <td>Cr0.25Mo0.25Nb0.25V0.25</td>\n      <td>CrNbVMo</td>\n      <td>2743</td>\n      <td>10.1016.j.jmst.2020.07.012</td>\n      <td>2.07</td>\n      <td>8.03</td>\n      <td>NaN</td>\n      <td>25</td>\n      <td>NaN</td>\n      <td>NaN</td>\n      <td>NaN</td>\n      <td>Cr0.25Mo0.25Nb0.25V0.25</td>\n    </tr>\n    <tr>\n      <th>939</th>\n      <td>0</td>\n      <td>106.0</td>\n      <td>442.0</td>\n      <td>0.75</td>\n      <td>10.1016.j.matdes.2015.05.019</td>\n      <td>50.0</td>\n      <td>Hf0.2 Mo0.2 Nb0.2 Ti0.2 Zr0.2</td>\n      <td>BCC</td>\n      <td>CAST</td>\n      <td>BCC</td>\n      <td>NaN</td>\n      <td>NaN</td>\n      <td>8.6</td>\n      <td>NaN</td>\n      <td>C</td>\n      <td>25.0</td>\n      <td>1719.0</td>\n      <td>1803.0</td>\n      <td>10.0</td>\n      <td>NaN</td>\n      <td>NaN</td>\n      <td>139.0</td>\n      <td>NaN</td>\n      <td>NaN</td>\n      <td>NaN</td>\n      <td>10.1016/j.matdes.2015.05.019</td>\n      <td>2015.0</td>\n      <td>Microstructure and mechanical properties of re...</td>\n      <td>10.1016.j.matdes.2015.05.019</td>\n      <td>Hf0.2Mo0.2Nb0.2Ti0.2Zr0.2</td>\n      <td>MoNbHfZrTi</td>\n      <td>1719</td>\n      <td>10.1016.j.matdes.2015.05.019</td>\n      <td>NaN</td>\n      <td>NaN</td>\n      <td>NaN</td>\n      <td>296</td>\n      <td>NaN</td>\n      <td>NaN</td>\n      <td>NaN</td>\n      <td>Hf0.2Mo0.2Nb0.2Ti0.2Zr0.2</td>\n    </tr>\n    <tr>\n      <th>952</th>\n      <td>0</td>\n      <td>286.0</td>\n      <td>666.0</td>\n      <td>0.75</td>\n      <td>10.1016.j.matdes.2015.06.072</td>\n      <td>58.0</td>\n      <td>Mo0.083 Nb0.278 Ti0.278 V0.083 Zr0.278</td>\n      <td>BCC</td>\n      <td>ANNEAL</td>\n      <td>BCC</td>\n      <td>NaN</td>\n      <td>NaN</td>\n      <td>6.8</td>\n      <td>NaN</td>\n      <td>C</td>\n      <td>25.0</td>\n      <td>1312.0</td>\n      <td>NaN</td>\n      <td>NaN</td>\n      <td>50.00</td>\n      <td>NaN</td>\n      <td>118.0</td>\n      <td>NaN</td>\n      <td>NaN</td>\n      <td>NaN</td>\n      <td>10.1016/j.matdes.2015.06.072</td>\n      <td>2015.0</td>\n      <td>Phase composition and solid solution strengthe...</td>\n      <td>10.1016.j.matdes.2015.06.072</td>\n      <td>Mo0.083Nb0.278Ti0.278V0.083Zr0.278</td>\n      <td>TiZrNbMo0.3V0.3</td>\n      <td>1312.0</td>\n      <td>10.1016.j.matdes.2015.06.072</td>\n      <td>NaN</td>\n      <td>NaN</td>\n      <td>NaN</td>\n      <td>NaN</td>\n      <td>NaN</td>\n      <td>NaN</td>\n      <td>&gt;50</td>\n      <td>Mo0.083Nb0.278Ti0.278V0.083Zr0.278</td>\n    </tr>\n    <tr>\n      <th>977</th>\n      <td>0</td>\n      <td>124.0</td>\n      <td>194.0</td>\n      <td>1.00</td>\n      <td>10.1016.j.matdes.2017.11.033</td>\n      <td>77.0</td>\n      <td>Al0.2 Mo0.1 Nb0.2 Ta0.1 Ti0.2 Zr0.2</td>\n      <td>BCC+B2</td>\n      <td>OTHER</td>\n      <td>other</td>\n      <td>NaN</td>\n      <td>NaN</td>\n      <td>7.2</td>\n      <td>NaN</td>\n      <td>C</td>\n      <td>25.0</td>\n      <td>2197.0</td>\n      <td>2370.0</td>\n      <td>NaN</td>\n      <td>NaN</td>\n      <td>NaN</td>\n      <td>123.0</td>\n      <td>NaN</td>\n      <td>NaN</td>\n      <td>NaN</td>\n      <td>10.1016/j.matdes.2017.11.033</td>\n      <td>2018.0</td>\n      <td>Compositional variation effects on the microst...</td>\n      <td>10.1016.j.matdes.2017.11.033</td>\n      <td>Al0.2Mo0.1Nb0.2Ta0.1Ti0.2Zr0.2</td>\n      <td>AlMo 0.5 NbTa 0.5 TiZr</td>\n      <td>2197</td>\n      <td>10.1016.j.matdes.2017.11.033</td>\n      <td>NaN</td>\n      <td>7.4</td>\n      <td>5.8</td>\n      <td>25</td>\n      <td>2370</td>\n      <td>4.1</td>\n      <td>NaN</td>\n      <td>Al0.2Mo0.1Nb0.2Ta0.1Ti0.2Zr0.2</td>\n    </tr>\n    <tr>\n      <th>1020</th>\n      <td>0</td>\n      <td>634.0</td>\n      <td>617.0</td>\n      <td>0.50</td>\n      <td>10.1016.j.matlet.2014.05.134</td>\n      <td>55.0</td>\n      <td>Hf0.25 Nb0.25 Ti0.25 Zr0.25</td>\n      <td>BCC</td>\n      <td>CAST</td>\n      <td>BCC</td>\n      <td>NaN</td>\n      <td>NaN</td>\n      <td>8.2</td>\n      <td>NaN</td>\n      <td>T</td>\n      <td>25.0</td>\n      <td>879.0</td>\n      <td>969.0</td>\n      <td>NaN</td>\n      <td>14.90</td>\n      <td>NaN</td>\n      <td>92.0</td>\n      <td>NaN</td>\n      <td>NaN</td>\n      <td>NaN</td>\n      <td>10.1016/j.matlet.2014.05.134</td>\n      <td>2014.0</td>\n      <td>A refractory Hf25Nb25Ti25Zr25 high-entropy all...</td>\n      <td>10.1016.j.matlet.2014.05.134</td>\n      <td>Hf0.25Nb0.25Ti0.25Zr0.25</td>\n      <td>Hf 25 Nb 25 Ti 25 Zr 25</td>\n      <td>879.0</td>\n      <td>10.1016.j.matlet.2014.05.134</td>\n      <td>1.0</td>\n      <td>NaN</td>\n      <td>NaN</td>\n      <td>NaN</td>\n      <td>969.0</td>\n      <td>0.9</td>\n      <td>14.9</td>\n      <td>Hf0.25Nb0.25Ti0.25Zr0.25</td>\n    </tr>\n    <tr>\n      <th>1029</th>\n      <td>0</td>\n      <td>674.0</td>\n      <td>254.0</td>\n      <td>0.50</td>\n      <td>10.1016.j.matlet.2014.11.162</td>\n      <td>43.0</td>\n      <td>Al0.25 Nb0.25 Ti0.25 V0.25</td>\n      <td>BCC</td>\n      <td>ANNEAL</td>\n      <td>BCC</td>\n      <td>350.000</td>\n      <td>NaN</td>\n      <td>5.5</td>\n      <td>448.00</td>\n      <td>C</td>\n      <td>25.0</td>\n      <td>1020.0</td>\n      <td>1318.0</td>\n      <td>NaN</td>\n      <td>5.00</td>\n      <td>NaN</td>\n      <td>105.0</td>\n      <td>NaN</td>\n      <td>NaN</td>\n      <td>NaN</td>\n      <td>10.1016/j.matlet.2014.11.162</td>\n      <td>2015.0</td>\n      <td>Structure and mechanical properties of a light...</td>\n      <td>10.1016.j.matlet.2014.11.162</td>\n      <td>Al0.25Nb0.25Ti0.25V0.25</td>\n      <td>AlNbTiV</td>\n      <td>1020.0</td>\n      <td>10.1016.j.matlet.2014.11.162</td>\n      <td>300.0</td>\n      <td>5.59</td>\n      <td>4315.0</td>\n      <td>20.0</td>\n      <td>1318.0</td>\n      <td>5.0</td>\n      <td>NaN</td>\n      <td>Al0.25Nb0.25Ti0.25V0.25</td>\n    </tr>\n    <tr>\n      <th>1051</th>\n      <td>0</td>\n      <td>161.0</td>\n      <td>577.0</td>\n      <td>0.75</td>\n      <td>10.1016.j.matlet.2016.03.092</td>\n      <td>51.0</td>\n      <td>Hf0.222 Nb0.222 Si0.111 Ti0.222 V0.222</td>\n      <td>BCC+Sec.</td>\n      <td>CAST</td>\n      <td>other</td>\n      <td>NaN</td>\n      <td>NaN</td>\n      <td>7.5</td>\n      <td>490.00</td>\n      <td>C</td>\n      <td>25.0</td>\n      <td>1399.0</td>\n      <td>1608.0</td>\n      <td>11.0</td>\n      <td>NaN</td>\n      <td>NaN</td>\n      <td>100.0</td>\n      <td>NaN</td>\n      <td>NaN</td>\n      <td>NaN</td>\n      <td>10.1016/j.matlet.2016.03.092</td>\n      <td>2016.0</td>\n      <td>Microstructure and mechanical properties of a ...</td>\n      <td>10.1016.j.matlet.2016.03.092</td>\n      <td>Hf0.222Nb0.222Si0.111Ti0.222V0.222</td>\n      <td>HfNbTiVSi0.5</td>\n      <td>1399</td>\n      <td>10.1016.j.matlet.2016.03.092</td>\n      <td>NaN</td>\n      <td>8.6</td>\n      <td>490</td>\n      <td>NaN</td>\n      <td>NaN</td>\n      <td>10.9</td>\n      <td>NaN</td>\n      <td>Hf0.222Nb0.222Si0.111Ti0.222V0.222</td>\n    </tr>\n    <tr>\n      <th>1062</th>\n      <td>0</td>\n      <td>38.0</td>\n      <td>536.0</td>\n      <td>0.75</td>\n      <td>10.1016.j.matlet.2016.03.133</td>\n      <td>48.0</td>\n      <td>Hf0.2 Nb0.2 Ta0.2 Ti0.2 Zr0.2</td>\n      <td>BCC</td>\n      <td>CAST</td>\n      <td>BCC</td>\n      <td>NaN</td>\n      <td>NaN</td>\n      <td>9.9</td>\n      <td>335.00</td>\n      <td>C</td>\n      <td>25.0</td>\n      <td>1015.0</td>\n      <td>NaN</td>\n      <td>50.0</td>\n      <td>NaN</td>\n      <td>85.0</td>\n      <td>111.0</td>\n      <td>NaN</td>\n      <td>NaN</td>\n      <td>NaN</td>\n      <td>10.1016/j.matlet.2016.03.133</td>\n      <td>2016.0</td>\n      <td>Solution strengthening of ductile refractory H...</td>\n      <td>10.1016.j.matlet.2016.03.133</td>\n      <td>Hf0.2Nb0.2Ta0.2Ti0.2Zr0.2</td>\n      <td>HfMo0NbTaTiZr</td>\n      <td>1015</td>\n      <td>10.1016.j.matlet.2016.03.133</td>\n      <td>NaN</td>\n      <td>NaN</td>\n      <td>NaN</td>\n      <td>NaN</td>\n      <td>NaN</td>\n      <td>NaN</td>\n      <td>NaN</td>\n      <td>Hf0.2Nb0.2Ta0.2Ti0.2Zr0.2</td>\n    </tr>\n    <tr>\n      <th>1067</th>\n      <td>0</td>\n      <td>585.0</td>\n      <td>537.0</td>\n      <td>0.50</td>\n      <td>10.1016.j.matlet.2016.08.060</td>\n      <td>81.0</td>\n      <td>Hf0.2 Nb0.2 Ta0.2 Ti0.2 Zr0.2</td>\n      <td>BCC</td>\n      <td>WROUGHT</td>\n      <td>BCC</td>\n      <td>NaN</td>\n      <td>NaN</td>\n      <td>9.9</td>\n      <td>NaN</td>\n      <td>T</td>\n      <td>25.0</td>\n      <td>958.0</td>\n      <td>974.0</td>\n      <td>NaN</td>\n      <td>NaN</td>\n      <td>NaN</td>\n      <td>111.0</td>\n      <td>NaN</td>\n      <td>NaN</td>\n      <td>NaN</td>\n      <td>10.1016/j.matlet.2016.08.060</td>\n      <td>2016.0</td>\n      <td>Simultaneously increasing the strength and duc...</td>\n      <td>10.1016.j.matlet.2016.08.060</td>\n      <td>Hf0.2Nb0.2Ta0.2Ti0.2Zr0.2</td>\n      <td>HfNbTaTiZr</td>\n      <td>958.0</td>\n      <td>10.1016.j.matlet.2016.08.060</td>\n      <td>38.0</td>\n      <td>NaN</td>\n      <td>NaN</td>\n      <td>NaN</td>\n      <td>NaN</td>\n      <td>20.0</td>\n      <td>1.23</td>\n      <td>Hf0.2Nb0.2Ta0.2Ti0.2Zr0.2</td>\n    </tr>\n    <tr>\n      <th>1078</th>\n      <td>0</td>\n      <td>403.0</td>\n      <td>60.0</td>\n      <td>0.75</td>\n      <td>10.1016.j.matlet.2016.11.030</td>\n      <td>96.0</td>\n      <td>Al0.1 Cr0.2 Nb0.2 Ti0.4 V0.1</td>\n      <td>BCC+Laves</td>\n      <td>ANNEAL</td>\n      <td>other</td>\n      <td>NaN</td>\n      <td>NaN</td>\n      <td>5.8</td>\n      <td>NaN</td>\n      <td>C</td>\n      <td>25.0</td>\n      <td>1340.0</td>\n      <td>1700.0</td>\n      <td>NaN</td>\n      <td>NaN</td>\n      <td>NaN</td>\n      <td>143.0</td>\n      <td>NaN</td>\n      <td>NaN</td>\n      <td>NaN</td>\n      <td>10.1016/j.matlet.2016.11.030</td>\n      <td>2017.0</td>\n      <td>Precipitation-strengthened refractory Al 0.5 C...</td>\n      <td>10.1016.j.matlet.2016.11.030</td>\n      <td>Al0.1Cr0.2Nb0.2Ti0.4V0.1</td>\n      <td>Al 0.5 CrNbTi 2 V 0.5</td>\n      <td>1340</td>\n      <td>10.1016.j.matlet.2016.11.030</td>\n      <td>NaN</td>\n      <td>5.76</td>\n      <td>NaN</td>\n      <td>22</td>\n      <td>NaN</td>\n      <td>18.5</td>\n      <td>NaN</td>\n      <td>Al0.1Cr0.2Nb0.2Ti0.4V0.1</td>\n    </tr>\n    <tr>\n      <th>1091</th>\n      <td>0</td>\n      <td>737.0</td>\n      <td>112.0</td>\n      <td>0.75</td>\n      <td>10.1016.j.matlet.2019.03.075</td>\n      <td>153.0</td>\n      <td>Al0.125 Nb0.25 Ta0.125 Ti0.25 Zr0.25</td>\n      <td>BCC+HCP</td>\n      <td>WROUGHT</td>\n      <td>other</td>\n      <td>NaN</td>\n      <td>NaN</td>\n      <td>7.3</td>\n      <td>NaN</td>\n      <td>C</td>\n      <td>25.0</td>\n      <td>1740.0</td>\n      <td>NaN</td>\n      <td>20.0</td>\n      <td>NaN</td>\n      <td>NaN</td>\n      <td>104.0</td>\n      <td>NaN</td>\n      <td>NaN</td>\n      <td>NaN</td>\n      <td>10.1016/j.matlet.2019.03.075</td>\n      <td>2019.0</td>\n      <td>Precipitation strengthening in a hot-worked Ti...</td>\n      <td>10.1016.j.matlet.2019.03.075</td>\n      <td>Al0.125Nb0.25Ta0.125Ti0.25Zr0.25</td>\n      <td>TiNbTa 0.5 ZrAl 0.5</td>\n      <td>1740</td>\n      <td>10.1016.j.matlet.2019.03.075</td>\n      <td>NaN</td>\n      <td>NaN</td>\n      <td>NaN</td>\n      <td>1000</td>\n      <td>NaN</td>\n      <td>NaN</td>\n      <td>20</td>\n      <td>Al0.125Nb0.25Ta0.125Ti0.25Zr0.25</td>\n    </tr>\n    <tr>\n      <th>1105</th>\n      <td>0</td>\n      <td>78.0</td>\n      <td>166.0</td>\n      <td>0.75</td>\n      <td>10.1016.j.matlet.2020.127372</td>\n      <td>9.0</td>\n      <td>Al0.2 Cr0.1 Nb0.15 Ti0.2 V0.25 Zr0.1</td>\n      <td>B2+Laves (C14)+Sec.</td>\n      <td>ANNEAL</td>\n      <td>other</td>\n      <td>NaN</td>\n      <td>NaN</td>\n      <td>5.6</td>\n      <td>NaN</td>\n      <td>C</td>\n      <td>25.0</td>\n      <td>1535.0</td>\n      <td>NaN</td>\n      <td>0.6</td>\n      <td>NaN</td>\n      <td>NaN</td>\n      <td>120.0</td>\n      <td>NaN</td>\n      <td>NaN</td>\n      <td>NaN</td>\n      <td>10.1016/j.matlet.2020.127372</td>\n      <td>2020.0</td>\n      <td>Structure and mechanical properties of an in s...</td>\n      <td>10.1016.j.matlet.2020.127372</td>\n      <td>Al0.2Cr0.1Nb0.15Ti0.2V0.25Zr0.1</td>\n      <td>Al 20 Cr 10 Nb 15 Ti 20 V 25 Zr 10</td>\n      <td>1535</td>\n      <td>10.1016.j.matlet.2020.127372</td>\n      <td>NaN</td>\n      <td>NaN</td>\n      <td>NaN</td>\n      <td>22</td>\n      <td>NaN</td>\n      <td>0.6</td>\n      <td>NaN</td>\n      <td>Al0.2Cr0.1Nb0.15Ti0.2V0.25Zr0.1</td>\n    </tr>\n    <tr>\n      <th>1116</th>\n      <td>0</td>\n      <td>450.0</td>\n      <td>46.0</td>\n      <td>0.50</td>\n      <td>10.1016.j.matlet.2021.129428</td>\n      <td>18.0</td>\n      <td>Al0.079 Nb0.263 Ti0.395 Zr0.263</td>\n      <td>BCC</td>\n      <td>WROUGHT</td>\n      <td>BCC</td>\n      <td>24.400</td>\n      <td>NaN</td>\n      <td>6.0</td>\n      <td>NaN</td>\n      <td>T</td>\n      <td>25.0</td>\n      <td>876.0</td>\n      <td>NaN</td>\n      <td>23.0</td>\n      <td>NaN</td>\n      <td>NaN</td>\n      <td>97.0</td>\n      <td>NaN</td>\n      <td>NaN</td>\n      <td>NaN</td>\n      <td>10.1016/j.matlet.2021.129428</td>\n      <td>2021.0</td>\n      <td>Ductile Ti1.5ZrNbAl0.3 refractory high entropy...</td>\n      <td>10.1016.j.matlet.2021.129428</td>\n      <td>Al0.079Nb0.263Ti0.395Zr0.263</td>\n      <td>Ti 1.5 ZrNbAl 0.3</td>\n      <td>876</td>\n      <td>10.1016.j.matlet.2021.129428</td>\n      <td>NaN</td>\n      <td>NaN</td>\n      <td>NaN</td>\n      <td>NaN</td>\n      <td>NaN</td>\n      <td>23.0</td>\n      <td>NaN</td>\n      <td>Al0.079Nb0.263Ti0.395Zr0.263</td>\n    </tr>\n    <tr>\n      <th>1125</th>\n      <td>0</td>\n      <td>387.0</td>\n      <td>768.0</td>\n      <td>0.75</td>\n      <td>10.1016.j.matlet.2021.129753</td>\n      <td>14.0</td>\n      <td>Mo0.222 Nb0.244 Ta0.222 Ti0.222 W0.089</td>\n      <td>BCC</td>\n      <td>CAST</td>\n      <td>BCC</td>\n      <td>NaN</td>\n      <td>10.70</td>\n      <td>10.8</td>\n      <td>NaN</td>\n      <td>C</td>\n      <td>20.0</td>\n      <td>1412.0</td>\n      <td>NaN</td>\n      <td>32.1</td>\n      <td>NaN</td>\n      <td>NaN</td>\n      <td>202.0</td>\n      <td>NaN</td>\n      <td>NaN</td>\n      <td>NaN</td>\n      <td>10.1016/j.matlet.2021.129753</td>\n      <td>2021.0</td>\n      <td>Ductile W0.4MoNbxTaTi refractory high-entropy ...</td>\n      <td>10.1016.j.matlet.2021.129753</td>\n      <td>Mo0.222Nb0.244Ta0.222Ti0.222W0.089</td>\n      <td>W0.4MoNb1.1TaTi</td>\n      <td>1412</td>\n      <td>10.1016.j.matlet.2021.129753</td>\n      <td>NaN</td>\n      <td>NaN</td>\n      <td>NaN</td>\n      <td>293</td>\n      <td>NaN</td>\n      <td>NaN</td>\n      <td>NaN</td>\n      <td>Mo0.222Nb0.244Ta0.222Ti0.222W0.089</td>\n    </tr>\n    <tr>\n      <th>1150</th>\n      <td>0</td>\n      <td>359.0</td>\n      <td>902.0</td>\n      <td>0.50</td>\n      <td>10.1016.j.msea.2012.12.018</td>\n      <td>45.0</td>\n      <td>Nb0.25 Ti0.25 V0.25 Zr0.25</td>\n      <td>BCC</td>\n      <td>OTHER</td>\n      <td>BCC</td>\n      <td>550.000</td>\n      <td>NaN</td>\n      <td>6.4</td>\n      <td>335.00</td>\n      <td>C</td>\n      <td>25.0</td>\n      <td>1105.0</td>\n      <td>NaN</td>\n      <td>50.0</td>\n      <td>NaN</td>\n      <td>NaN</td>\n      <td>104.0</td>\n      <td>NaN</td>\n      <td>NaN</td>\n      <td>NaN</td>\n      <td>10.1016/j.msea.2012.12.018</td>\n      <td>2013.0</td>\n      <td>Mechanical properties of low-density, refracto...</td>\n      <td>10.1016.j.msea.2012.12.018</td>\n      <td>Nb0.25Ti0.25V0.25Zr0.25</td>\n      <td>NbTiVZr</td>\n      <td>1105</td>\n      <td>10.1016.j.msea.2012.12.018</td>\n      <td>NaN</td>\n      <td>6.52</td>\n      <td>NaN</td>\n      <td>298</td>\n      <td>NaN</td>\n      <td>NaN</td>\n      <td>50</td>\n      <td>Nb0.25Ti0.25V0.25Zr0.25</td>\n    </tr>\n    <tr>\n      <th>1209</th>\n      <td>0</td>\n      <td>87.0</td>\n      <td>258.0</td>\n      <td>0.50</td>\n      <td>10.1016.j.msea.2017.08.019</td>\n      <td>68.0</td>\n      <td>Al0.25 Nb0.25 Ti0.25 V0.25</td>\n      <td>B2</td>\n      <td>ANNEAL</td>\n      <td>other</td>\n      <td>NaN</td>\n      <td>NaN</td>\n      <td>5.5</td>\n      <td>NaN</td>\n      <td>C</td>\n      <td>25.0</td>\n      <td>1000.0</td>\n      <td>1280.0</td>\n      <td>NaN</td>\n      <td>NaN</td>\n      <td>NaN</td>\n      <td>105.0</td>\n      <td>NaN</td>\n      <td>NaN</td>\n      <td>NaN</td>\n      <td>10.1016/j.msea.2017.08.019</td>\n      <td>2017.0</td>\n      <td>Structure and mechanical properties of B2 orde...</td>\n      <td>10.1016.j.msea.2017.08.019</td>\n      <td>Al0.25Nb0.25Ti0.25V0.25</td>\n      <td>AlNbTiV</td>\n      <td>1000.0</td>\n      <td>10.1016.j.msea.2017.08.019</td>\n      <td>300.0</td>\n      <td>5590.0</td>\n      <td>NaN</td>\n      <td>22.0</td>\n      <td>NaN</td>\n      <td>6.0</td>\n      <td>NaN</td>\n      <td>Al0.25Nb0.25Ti0.25V0.25</td>\n    </tr>\n    <tr>\n      <th>1265</th>\n      <td>0</td>\n      <td>594.0</td>\n      <td>816.0</td>\n      <td>0.75</td>\n      <td>10.1016.j.msea.2017.12.004</td>\n      <td>89.0</td>\n      <td>Mo0.25 Nb0.25 Ta0.25 W0.25</td>\n      <td>BCC</td>\n      <td>CAST</td>\n      <td>BCC</td>\n      <td>NaN</td>\n      <td>NaN</td>\n      <td>13.7</td>\n      <td>NaN</td>\n      <td>C</td>\n      <td>25.0</td>\n      <td>996.0</td>\n      <td>1148.0</td>\n      <td>NaN</td>\n      <td>NaN</td>\n      <td>NaN</td>\n      <td>258.0</td>\n      <td>NaN</td>\n      <td>NaN</td>\n      <td>NaN</td>\n      <td>10.1016/j.msea.2017.12.004</td>\n      <td>2018.0</td>\n      <td>Microstructures and mechanical properties of T...</td>\n      <td>10.1016.j.msea.2017.12.004</td>\n      <td>Mo0.25Nb0.25Ta0.25W0.25</td>\n      <td>NbMoTaW</td>\n      <td>996</td>\n      <td>10.1016.j.msea.2017.12.004</td>\n      <td>NaN</td>\n      <td>NaN</td>\n      <td>NaN</td>\n      <td>NaN</td>\n      <td>NaN</td>\n      <td>NaN</td>\n      <td>1.9</td>\n      <td>Mo0.25Nb0.25Ta0.25W0.25</td>\n    </tr>\n    <tr>\n      <th>1278</th>\n      <td>0</td>\n      <td>199.0</td>\n      <td>737.0</td>\n      <td>0.75</td>\n      <td>10.1016.j.msea.2017.12.021</td>\n      <td>94.0</td>\n      <td>Mo0.2 Nb0.2 Ta0.2 V0.2 W0.2</td>\n      <td>BCC</td>\n      <td>POWDER</td>\n      <td>BCC</td>\n      <td>NaN</td>\n      <td>NaN</td>\n      <td>12.2</td>\n      <td>NaN</td>\n      <td>C</td>\n      <td>25.0</td>\n      <td>2612.0</td>\n      <td>3472.0</td>\n      <td>NaN</td>\n      <td>NaN</td>\n      <td>NaN</td>\n      <td>232.0</td>\n      <td>NaN</td>\n      <td>NaN</td>\n      <td>NaN</td>\n      <td>10.1016/j.msea.2017.12.021</td>\n      <td>2018.0</td>\n      <td>Ultra-high strength WNbMoTaV high-entropy allo...</td>\n      <td>10.1016.j.msea.2017.12.021</td>\n      <td>Mo0.2Nb0.2Ta0.2V0.2W0.2</td>\n      <td>WNbMoTaV</td>\n      <td>2612</td>\n      <td>10.1016.j.msea.2017.12.021</td>\n      <td>NaN</td>\n      <td>NaN</td>\n      <td>NaN</td>\n      <td>Room temperature</td>\n      <td>NaN</td>\n      <td>NaN</td>\n      <td>8.8</td>\n      <td>Mo0.2Nb0.2Ta0.2V0.2W0.2</td>\n    </tr>\n    <tr>\n      <th>1316</th>\n      <td>0</td>\n      <td>29.0</td>\n      <td>859.0</td>\n      <td>0.75</td>\n      <td>10.1016.j.msea.2020.139774</td>\n      <td>13.0</td>\n      <td>Nb0.167 Ti0.333 V0.167 Zr0.333</td>\n      <td>BCC</td>\n      <td>ANNEAL</td>\n      <td>BCC</td>\n      <td>NaN</td>\n      <td>6.10</td>\n      <td>6.1</td>\n      <td>NaN</td>\n      <td>T</td>\n      <td>25.0</td>\n      <td>787.0</td>\n      <td>827.0</td>\n      <td>21.9</td>\n      <td>NaN</td>\n      <td>NaN</td>\n      <td>100.0</td>\n      <td>NaN</td>\n      <td>NaN</td>\n      <td>NaN</td>\n      <td>10.1016/j.msea.2020.139774</td>\n      <td>2020.0</td>\n      <td>A single-phase V0.5Nb0.5ZrTi refractory high-e...</td>\n      <td>10.1016.j.msea.2020.139774</td>\n      <td>Nb0.167Ti0.333V0.167Zr0.333</td>\n      <td>V 0.5 Nb 0.5 ZrTi</td>\n      <td>787.0</td>\n      <td>10.1016.j.msea.2020.139774</td>\n      <td>NaN</td>\n      <td>6.1</td>\n      <td>NaN</td>\n      <td>NaN</td>\n      <td>830.0</td>\n      <td>21.9</td>\n      <td>NaN</td>\n      <td>Nb0.167Ti0.333V0.167Zr0.333</td>\n    </tr>\n    <tr>\n      <th>1326</th>\n      <td>0</td>\n      <td>477.0</td>\n      <td>629.0</td>\n      <td>0.75</td>\n      <td>10.1016.j.msea.2021.140798</td>\n      <td>7.0</td>\n      <td>Hf0.29 Nb0.072 Ta0.058 Ti0.29 Zr0.29</td>\n      <td>BCC</td>\n      <td>CAST</td>\n      <td>BCC</td>\n      <td>NaN</td>\n      <td>NaN</td>\n      <td>8.6</td>\n      <td>NaN</td>\n      <td>T</td>\n      <td>25.0</td>\n      <td>748.0</td>\n      <td>NaN</td>\n      <td>14.2</td>\n      <td>NaN</td>\n      <td>NaN</td>\n      <td>94.0</td>\n      <td>NaN</td>\n      <td>NaN</td>\n      <td>NaN</td>\n      <td>10.1016/j.msea.2021.140798</td>\n      <td>2021.0</td>\n      <td>Effects of Nb on deformation-induced transform...</td>\n      <td>10.1016.j.msea.2021.140798</td>\n      <td>Hf0.29Nb0.072Ta0.058Ti0.29Zr0.29</td>\n      <td>HfNb0.25Ta0.2TiZr</td>\n      <td>748.0</td>\n      <td>10.1016.j.msea.2021.140798</td>\n      <td>NaN</td>\n      <td>NaN</td>\n      <td>NaN</td>\n      <td>NaN</td>\n      <td>NaN</td>\n      <td>NaN</td>\n      <td>NaN</td>\n      <td>Hf0.29Nb0.072Ta0.058Ti0.29Zr0.29</td>\n    </tr>\n    <tr>\n      <th>1331</th>\n      <td>0</td>\n      <td>786.0</td>\n      <td>837.0</td>\n      <td>0.75</td>\n      <td>10.1016.j.msea.2021.140848</td>\n      <td>9.0</td>\n      <td>Mo0.308 Nb0.308 Ta0.308 V0.077</td>\n      <td>BCC</td>\n      <td>CAST</td>\n      <td>BCC</td>\n      <td>NaN</td>\n      <td>NaN</td>\n      <td>11.4</td>\n      <td>NaN</td>\n      <td>C</td>\n      <td>25.0</td>\n      <td>1017.0</td>\n      <td>NaN</td>\n      <td>9.2</td>\n      <td>NaN</td>\n      <td>NaN</td>\n      <td>201.0</td>\n      <td>NaN</td>\n      <td>NaN</td>\n      <td>NaN</td>\n      <td>10.1016/j.msea.2021.140848</td>\n      <td>2021.0</td>\n      <td>Effects of vanadium concentration on mechanica...</td>\n      <td>10.1016.j.msea.2021.140848</td>\n      <td>Mo0.308Nb0.308Ta0.308V0.077</td>\n      <td>V0.25NbMoTa</td>\n      <td>1017</td>\n      <td>10.1016.j.msea.2021.140848</td>\n      <td>NaN</td>\n      <td>NaN</td>\n      <td>NaN</td>\n      <td>293</td>\n      <td>NaN</td>\n      <td>NaN</td>\n      <td>9.2</td>\n      <td>Mo0.308Nb0.308Ta0.308V0.077</td>\n    </tr>\n    <tr>\n      <th>1362</th>\n      <td>0</td>\n      <td>707.0</td>\n      <td>962.0</td>\n      <td>0.75</td>\n      <td>10.1016.j.msea.2021.141168</td>\n      <td>15.0</td>\n      <td>Ta0.333 Ti0.333 Zr0.333</td>\n      <td>BCC+BCC+Sec.</td>\n      <td>OTHER</td>\n      <td>other</td>\n      <td>320.000</td>\n      <td>9.56</td>\n      <td>9.2</td>\n      <td>NaN</td>\n      <td>C</td>\n      <td>25.0</td>\n      <td>1671.0</td>\n      <td>NaN</td>\n      <td>NaN</td>\n      <td>NaN</td>\n      <td>NaN</td>\n      <td>123.0</td>\n      <td>70.0</td>\n      <td>20.0</td>\n      <td>210.0</td>\n      <td>10.1016/j.msea.2021.141168</td>\n      <td>2021.0</td>\n      <td>Microstructure and properties of an equiatomic...</td>\n      <td>10.1016.j.msea.2021.141168</td>\n      <td>Ta0.333Ti0.333Zr0.333</td>\n      <td>TaTiZr</td>\n      <td>1671.0</td>\n      <td>10.1016.j.msea.2021.141168</td>\n      <td>NaN</td>\n      <td>9.56</td>\n      <td>NaN</td>\n      <td>25.0</td>\n      <td>NaN</td>\n      <td>NaN</td>\n      <td>NaN</td>\n      <td>Ta0.333Ti0.333Zr0.333</td>\n    </tr>\n    <tr>\n      <th>1468</th>\n      <td>0</td>\n      <td>324.0</td>\n      <td>885.0</td>\n      <td>0.75</td>\n      <td>10.1016.j.proeng.2012.03.043</td>\n      <td>42.0</td>\n      <td>Nb0.25 Ta0.25 Ti0.25 V0.25</td>\n      <td>BCC</td>\n      <td>CAST</td>\n      <td>BCC</td>\n      <td>NaN</td>\n      <td>NaN</td>\n      <td>9.0</td>\n      <td>NaN</td>\n      <td>C</td>\n      <td>25.0</td>\n      <td>1092.0</td>\n      <td>NaN</td>\n      <td>NaN</td>\n      <td>NaN</td>\n      <td>NaN</td>\n      <td>134.0</td>\n      <td>NaN</td>\n      <td>NaN</td>\n      <td>NaN</td>\n      <td>10.1016/j.proeng.2012.03.043</td>\n      <td>2012.0</td>\n      <td>Microstructure and Compressive Properties of N...</td>\n      <td>10.1016.j.proeng.2012.03.043</td>\n      <td>Nb0.25Ta0.25Ti0.25V0.25</td>\n      <td>NbTiVTa</td>\n      <td>1092</td>\n      <td>10.1016.j.proeng.2012.03.043</td>\n      <td>NaN</td>\n      <td>NaN</td>\n      <td>NaN</td>\n      <td>NaN</td>\n      <td>NaN</td>\n      <td>NaN</td>\n      <td>NaN</td>\n      <td>Nb0.25Ta0.25Ti0.25V0.25</td>\n    </tr>\n    <tr>\n      <th>1484</th>\n      <td>0</td>\n      <td>567.0</td>\n      <td>121.0</td>\n      <td>0.75</td>\n      <td>10.1016.j.scriptamat.2019.07.033</td>\n      <td>3.0</td>\n      <td>Al0.143 Mo0.286 Ta0.286 Ti0.286</td>\n      <td>B2+BCC+Sec.</td>\n      <td>ANNEAL</td>\n      <td>other</td>\n      <td>NaN</td>\n      <td>9.10</td>\n      <td>9.4</td>\n      <td>680.10</td>\n      <td>C</td>\n      <td>1000.0</td>\n      <td>969.0</td>\n      <td>NaN</td>\n      <td>1.0</td>\n      <td>NaN</td>\n      <td>NaN</td>\n      <td>190.0</td>\n      <td>200.0</td>\n      <td>NaN</td>\n      <td>NaN</td>\n      <td>10.1016/j.scriptamat.2019.07.033</td>\n      <td>2019.0</td>\n      <td>Precipitation behaviour and mechanical propert...</td>\n      <td>10.1016.j.scriptamat.2019.07.033</td>\n      <td>Al0.143Mo0.286Ta0.286Ti0.286</td>\n      <td>Al 0.5 MoTaTi</td>\n      <td>969</td>\n      <td>10.1016.j.scriptamat.2019.07.033</td>\n      <td>NaN</td>\n      <td>9.1</td>\n      <td>6.67</td>\n      <td>1273</td>\n      <td>973</td>\n      <td>1</td>\n      <td>NaN</td>\n      <td>Al0.143Mo0.286Ta0.286Ti0.286</td>\n    </tr>\n    <tr>\n      <th>1543</th>\n      <td>0</td>\n      <td>298.0</td>\n      <td>455.0</td>\n      <td>0.50</td>\n      <td>10.1016.j.scriptamat.2021.114225</td>\n      <td>29.0</td>\n      <td>Hf0.2 Nb0.1 Ti0.35 Zr0.35</td>\n      <td>BCC+Sec.</td>\n      <td>WROUGHT</td>\n      <td>other</td>\n      <td>10.000</td>\n      <td>NaN</td>\n      <td>7.4</td>\n      <td>252.00</td>\n      <td>T</td>\n      <td>25.0</td>\n      <td>524.0</td>\n      <td>704.0</td>\n      <td>17.5</td>\n      <td>NaN</td>\n      <td>70.5</td>\n      <td>90.0</td>\n      <td>NaN</td>\n      <td>NaN</td>\n      <td>NaN</td>\n      <td>10.1016/j.scriptamat.2021.114225</td>\n      <td>2022.0</td>\n      <td>Strengthening mechanisms and microstructural e...</td>\n      <td>10.1016.j.scriptamat.2021.114225</td>\n      <td>Hf0.2Nb0.1Ti0.35Zr0.35</td>\n      <td>Hf20Nb10Ti35Zr35</td>\n      <td>524.0</td>\n      <td>10.1016.j.scriptamat.2021.114225</td>\n      <td>NaN</td>\n      <td>NaN</td>\n      <td>252</td>\n      <td>NaN</td>\n      <td>704</td>\n      <td>17.5</td>\n      <td>NaN</td>\n      <td>Hf0.2Nb0.1Ti0.35Zr0.35</td>\n    </tr>\n    <tr>\n      <th>1557</th>\n      <td>0</td>\n      <td>797.0</td>\n      <td>186.0</td>\n      <td>0.75</td>\n      <td>10.1016.j.vacuum.2020.109614</td>\n      <td>4.0</td>\n      <td>Al0.2 Cr0.21 Mo0.27 Ti0.22 W0.1</td>\n      <td>BCC+Laves</td>\n      <td>CAST</td>\n      <td>other</td>\n      <td>NaN</td>\n      <td>7.48</td>\n      <td>7.7</td>\n      <td>511.00</td>\n      <td>C</td>\n      <td>25.0</td>\n      <td>1245.0</td>\n      <td>NaN</td>\n      <td>NaN</td>\n      <td>NaN</td>\n      <td>NaN</td>\n      <td>228.0</td>\n      <td>NaN</td>\n      <td>NaN</td>\n      <td>NaN</td>\n      <td>10.1016/j.vacuum.2020.109614</td>\n      <td>2020.0</td>\n      <td>Design of a low density refractory high entrop...</td>\n      <td>10.1016.j.vacuum.2020.109614</td>\n      <td>Al0.2Cr0.21Mo0.27Ti0.22W0.1</td>\n      <td>W 10 Mo 27 Cr 21 Ti 22 Al 20</td>\n      <td>1245.0</td>\n      <td>10.1016.j.vacuum.2020.109614</td>\n      <td>NaN</td>\n      <td>7.48</td>\n      <td>511.0</td>\n      <td>293.15</td>\n      <td>NaN</td>\n      <td>7.7</td>\n      <td>NaN</td>\n      <td>Al0.2Cr0.21Mo0.27Ti0.22W0.1</td>\n    </tr>\n    <tr>\n      <th>1574</th>\n      <td>0</td>\n      <td>69.0</td>\n      <td>588.0</td>\n      <td>0.50</td>\n      <td>10.1038.s41563-020-0750-4</td>\n      <td>7.0</td>\n      <td>Hf0.24 Nb0.23 Ti0.38 V0.15</td>\n      <td>BCC</td>\n      <td>CAST</td>\n      <td>BCC</td>\n      <td>176.000</td>\n      <td>NaN</td>\n      <td>7.8</td>\n      <td>NaN</td>\n      <td>T</td>\n      <td>25.0</td>\n      <td>774.0</td>\n      <td>792.0</td>\n      <td>20.6</td>\n      <td>NaN</td>\n      <td>NaN</td>\n      <td>106.0</td>\n      <td>NaN</td>\n      <td>NaN</td>\n      <td>NaN</td>\n      <td>10.1038/s41563-020-0750-4</td>\n      <td>2020.0</td>\n      <td>Natural-mixing guided design of refractory hig...</td>\n      <td>10.1038.s41563-020-0750-4</td>\n      <td>Hf0.24Nb0.23Ti0.38V0.15</td>\n      <td>Ti 38 V 15 Nb 23 Hf 24</td>\n      <td>774.0</td>\n      <td>10.1038.s41563-020-0750-4</td>\n      <td>NaN</td>\n      <td>NaN</td>\n      <td>NaN</td>\n      <td>NaN</td>\n      <td>792.0</td>\n      <td>20.6</td>\n      <td>NaN</td>\n      <td>Hf0.24Nb0.23Ti0.38V0.15</td>\n    </tr>\n    <tr>\n      <th>1588</th>\n      <td>0</td>\n      <td>208.0</td>\n      <td>385.0</td>\n      <td>0.75</td>\n      <td>10.1063.1.4966659</td>\n      <td>52.0</td>\n      <td>Hf0.125 Nb0.125 Ta0.125 Ti0.375 Zr0.25</td>\n      <td>BCC</td>\n      <td>CAST</td>\n      <td>BCC</td>\n      <td>NaN</td>\n      <td>NaN</td>\n      <td>8.1</td>\n      <td>301.00</td>\n      <td>T</td>\n      <td>25.0</td>\n      <td>903.0</td>\n      <td>990.0</td>\n      <td>19.0</td>\n      <td>NaN</td>\n      <td>NaN</td>\n      <td>107.0</td>\n      <td>NaN</td>\n      <td>NaN</td>\n      <td>NaN</td>\n      <td>10.1063/1.4966659</td>\n      <td>2016.0</td>\n      <td>Alloy design for intrinsically ductile refract...</td>\n      <td>10.1063.1.4966659</td>\n      <td>Hf0.125Nb0.125Ta0.125Ti0.375Zr0.25</td>\n      <td>Hf 0.5 Nb 0.5 Ta 0.5 Ti 1.5 Zr</td>\n      <td>903.0</td>\n      <td>10.1063.1.4966659</td>\n      <td>NaN</td>\n      <td>8.13</td>\n      <td>301.0</td>\n      <td>NaN</td>\n      <td>990.0</td>\n      <td>18.8</td>\n      <td>NaN</td>\n      <td>Hf0.125Nb0.125Ta0.125Ti0.375Zr0.25</td>\n    </tr>\n    <tr>\n      <th>1597</th>\n      <td>0</td>\n      <td>500.0</td>\n      <td>261.0</td>\n      <td>0.50</td>\n      <td>10.1080.02670836.2018.1446267</td>\n      <td>34.0</td>\n      <td>Al0.25 Nb0.25 Ti0.25 Zr0.25</td>\n      <td>B2</td>\n      <td>CAST</td>\n      <td>other</td>\n      <td>250.000</td>\n      <td>5.85</td>\n      <td>5.6</td>\n      <td>422.00</td>\n      <td>C</td>\n      <td>25.0</td>\n      <td>1509.0</td>\n      <td>NaN</td>\n      <td>8.6</td>\n      <td>NaN</td>\n      <td>NaN</td>\n      <td>90.0</td>\n      <td>NaN</td>\n      <td>NaN</td>\n      <td>NaN</td>\n      <td>10.1080/02670836.2018.1446267</td>\n      <td>2018.0</td>\n      <td>Microstructure and mechanical properties of a ...</td>\n      <td>10.1080.02670836.2018.1446267</td>\n      <td>Al0.25Nb0.25Ti0.25Zr0.25</td>\n      <td>AlNbTiZr</td>\n      <td>1509</td>\n      <td>10.1080.02670836.2018.1446267</td>\n      <td>NaN</td>\n      <td>5.85</td>\n      <td>422</td>\n      <td>NaN</td>\n      <td>1554</td>\n      <td>8.6</td>\n      <td>NaN</td>\n      <td>Al0.25Nb0.25Ti0.25Zr0.25</td>\n    </tr>\n    <tr>\n      <th>1621</th>\n      <td>0</td>\n      <td>576.0</td>\n      <td>626.0</td>\n      <td>0.50</td>\n      <td>10.1080.21663831.2016.1221861</td>\n      <td>76.0</td>\n      <td>Hf0.275 Nb0.05 Ta0.05 Ti0.35 Zr0.275</td>\n      <td>BCC</td>\n      <td>WROUGHT</td>\n      <td>BCC</td>\n      <td>NaN</td>\n      <td>NaN</td>\n      <td>8.3</td>\n      <td>NaN</td>\n      <td>T</td>\n      <td>25.0</td>\n      <td>540.0</td>\n      <td>995.0</td>\n      <td>NaN</td>\n      <td>NaN</td>\n      <td>NaN</td>\n      <td>95.0</td>\n      <td>NaN</td>\n      <td>NaN</td>\n      <td>NaN</td>\n      <td>10.1080/21663831.2016.1221861</td>\n      <td>2016.0</td>\n      <td>Design and tensile properties of a bcc Ti-rich...</td>\n      <td>10.1080.21663831.2016.1221861</td>\n      <td>Hf0.275Nb0.05Ta0.05Ti0.35Zr0.275</td>\n      <td>Ti 35 Zr 27.5 Hf 27.5 Nb 5 Ta 5</td>\n      <td>540.0</td>\n      <td>10.1080.21663831.2016.1221861</td>\n      <td>40.0</td>\n      <td>NaN</td>\n      <td>NaN</td>\n      <td>NaN</td>\n      <td>995.0</td>\n      <td>23.0</td>\n      <td>NaN</td>\n      <td>Hf0.275Nb0.05Ta0.05Ti0.35Zr0.275</td>\n    </tr>\n    <tr>\n      <th>1646</th>\n      <td>0</td>\n      <td>307.0</td>\n      <td>233.0</td>\n      <td>0.75</td>\n      <td>10.1088.1757-899X.1014.1.012041</td>\n      <td>25.0</td>\n      <td>Al0.25 Hf0.25 Nb0.125 Ti0.375</td>\n      <td>B2</td>\n      <td>ANNEAL</td>\n      <td>other</td>\n      <td>300.000</td>\n      <td>7.23</td>\n      <td>6.8</td>\n      <td>NaN</td>\n      <td>C</td>\n      <td>25.0</td>\n      <td>1645.0</td>\n      <td>NaN</td>\n      <td>1.0</td>\n      <td>NaN</td>\n      <td>NaN</td>\n      <td>94.0</td>\n      <td>NaN</td>\n      <td>NaN</td>\n      <td>NaN</td>\n      <td>10.1088/1757-899X/1014/1/012041</td>\n      <td>2021.0</td>\n      <td>Precipitation-hardened refractoryTi-Nb-Hf-Al-T...</td>\n      <td>10.1088.1757-899X.1014.1.012041</td>\n      <td>Al0.25Hf0.25Nb0.125Ti0.375</td>\n      <td>Ti37.5Nb12.5Hf25Al25</td>\n      <td>1645.0</td>\n      <td>10.1088.1757-899X.1014.1.012041</td>\n      <td>300.0</td>\n      <td>7.23</td>\n      <td>NaN</td>\n      <td>22.0</td>\n      <td>NaN</td>\n      <td>NaN</td>\n      <td>1.0</td>\n      <td>Al0.25Hf0.25Nb0.125Ti0.375</td>\n    </tr>\n    <tr>\n      <th>1686</th>\n      <td>0</td>\n      <td>554.0</td>\n      <td>97.0</td>\n      <td>0.75</td>\n      <td>10.3390.e16020870</td>\n      <td>41.0</td>\n      <td>Al0.111 Mo0.222 Nb0.222 Ti0.222 V0.222</td>\n      <td>BCC</td>\n      <td>CAST</td>\n      <td>BCC</td>\n      <td>NaN</td>\n      <td>NaN</td>\n      <td>6.8</td>\n      <td>487.00</td>\n      <td>C</td>\n      <td>25.0</td>\n      <td>1625.0</td>\n      <td>1800.0</td>\n      <td>11.0</td>\n      <td>NaN</td>\n      <td>NaN</td>\n      <td>158.0</td>\n      <td>NaN</td>\n      <td>NaN</td>\n      <td>NaN</td>\n      <td>10.3390/e16020870</td>\n      <td>2014.0</td>\n      <td>Microstructures and Crackling Noise of AlxNbTi...</td>\n      <td>10.3390.e16020870</td>\n      <td>Al0.111Mo0.222Nb0.222Ti0.222V0.222</td>\n      <td>Al 0.5 NbTiMoV</td>\n      <td>1625</td>\n      <td>10.3390.e16020870</td>\n      <td>NaN</td>\n      <td>NaN</td>\n      <td>NaN</td>\n      <td>NaN</td>\n      <td>NaN</td>\n      <td>NaN</td>\n      <td>NaN</td>\n      <td>Al0.111Mo0.222Nb0.222Ti0.222V0.222</td>\n    </tr>\n    <tr>\n      <th>1733</th>\n      <td>0</td>\n      <td>316.0</td>\n      <td>422.0</td>\n      <td>0.75</td>\n      <td>10.4028.www.scientific.net.MSF.849.76</td>\n      <td>78.0</td>\n      <td>Hf0.182 Nb0.182 Si0.091 Ti0.182 V0.182 Zr0.182</td>\n      <td>BCC+Laves+Sec.</td>\n      <td>CAST</td>\n      <td>other</td>\n      <td>NaN</td>\n      <td>NaN</td>\n      <td>7.3</td>\n      <td>NaN</td>\n      <td>C</td>\n      <td>25.0</td>\n      <td>1540.0</td>\n      <td>1643.0</td>\n      <td>16.8</td>\n      <td>NaN</td>\n      <td>NaN</td>\n      <td>94.0</td>\n      <td>NaN</td>\n      <td>NaN</td>\n      <td>NaN</td>\n      <td>10.4028/www.scientific.net/MSF.849.76</td>\n      <td>2016.0</td>\n      <td>Microstructure and Mechanical Properties of a ...</td>\n      <td>10.4028.www.scientific.net.MSF.849.76</td>\n      <td>Hf0.182Nb0.182Si0.091Ti0.182V0.182Zr0.182</td>\n      <td>HfNbSi0.5TiVZr</td>\n      <td>1540</td>\n      <td>10.4028.www.scientific.net.MSF.849.76</td>\n      <td>NaN</td>\n      <td>7.75</td>\n      <td>464</td>\n      <td>293</td>\n      <td>NaN</td>\n      <td>16.8</td>\n      <td>NaN</td>\n      <td>Hf0.182Nb0.182Si0.091Ti0.182V0.182Zr0.182</td>\n    </tr>\n    <tr>\n      <th>1747</th>\n      <td>0</td>\n      <td>806.0</td>\n      <td>824.0</td>\n      <td>0.75</td>\n      <td>10.4028.www.scientific.net.MSF.898.638</td>\n      <td>86.0</td>\n      <td>Mo0.25 Ta0.25 Ti0.25 V0.25</td>\n      <td>BCC</td>\n      <td>CAST</td>\n      <td>BCC</td>\n      <td>NaN</td>\n      <td>NaN</td>\n      <td>9.4</td>\n      <td>NaN</td>\n      <td>C</td>\n      <td>25.0</td>\n      <td>1221.0</td>\n      <td>1454.0</td>\n      <td>NaN</td>\n      <td>NaN</td>\n      <td>NaN</td>\n      <td>190.0</td>\n      <td>NaN</td>\n      <td>NaN</td>\n      <td>NaN</td>\n      <td>10.4028/www.scientific.net/MSF.898.638</td>\n      <td>2017.0</td>\n      <td>Microstructure and Mechanical Properties of VT...</td>\n      <td>10.4028.www.scientific.net.MSF.898.638</td>\n      <td>Mo0.25Ta0.25Ti0.25V0.25</td>\n      <td>VTaTiMoAl0</td>\n      <td>1221.0</td>\n      <td>10.4028.www.scientific.net.MSF.898.638</td>\n      <td>NaN</td>\n      <td>NaN</td>\n      <td>NaN</td>\n      <td>NaN</td>\n      <td>1454.0</td>\n      <td>9.93</td>\n      <td>NaN</td>\n      <td>Mo0.25Ta0.25Ti0.25V0.25</td>\n    </tr>\n  </tbody>\n</table>\n</div>"
     },
     "metadata": {},
     "output_type": "display_data"
    }
   ]
  },
  {
   "cell_type": "markdown",
   "source": [
    "##### Looking at original rows"
   ],
   "metadata": {
    "id": "VViQaXqX4TVd"
   }
  },
  {
   "cell_type": "code",
   "source": [
    "original_df = df_result[df_result['original_idx'].notnull()]"
   ],
   "metadata": {
    "id": "DZP3T5Nn4XW1",
    "ExecuteTime": {
     "end_time": "2024-05-17T19:08:57.390655900Z",
     "start_time": "2024-05-17T19:08:57.248647Z"
    }
   },
   "execution_count": 170,
   "outputs": []
  },
  {
   "cell_type": "code",
   "source": [
    "len(original_df[original_df['PROPERTY: YS (MPa)_original'].notnull()])"
   ],
   "metadata": {
    "colab": {
     "base_uri": "https://localhost:8080/"
    },
    "id": "fxYKVMdjUSQJ",
    "executionInfo": {
     "status": "ok",
     "timestamp": 1707858980331,
     "user_tz": 300,
     "elapsed": 209,
     "user": {
      "displayName": "Satanu Ghosh",
      "userId": "07683061709303200546"
     }
    },
    "outputId": "fccf6ea3-ad7d-4fd1-8277-c15ceb6b4f72",
    "ExecuteTime": {
     "end_time": "2024-05-17T19:08:57.864524100Z",
     "start_time": "2024-05-17T19:08:57.741648500Z"
    }
   },
   "execution_count": 171,
   "outputs": [
    {
     "data": {
      "text/plain": "817"
     },
     "execution_count": 171,
     "metadata": {},
     "output_type": "execute_result"
    }
   ]
  },
  {
   "cell_type": "code",
   "source": [
    "# And then we can evaluated p/r/f1 for individual columns\n",
    "# Finding that scikit-learn is broken for some reason\n",
    "# from sklearn.metrics import accuracy_score\n",
    "# classification_report(original_df['PROPERTY: YS (MPa)_original'], original_df['PROPERTY: YS (MPa)_extracted'])"
   ],
   "metadata": {
    "id": "WfILt0us4Ek9",
    "ExecuteTime": {
     "end_time": "2024-05-17T19:08:58.794206400Z",
     "start_time": "2024-05-17T19:08:58.679401400Z"
    }
   },
   "execution_count": 172,
   "outputs": []
  },
  {
   "cell_type": "markdown",
   "source": [
    "##### Comparing match rows for a particular paper"
   ],
   "metadata": {
    "id": "upZziEesxiNc"
   }
  },
  {
   "cell_type": "code",
   "source": [
    "nonmatch_df = df_result[df_result['original_idx'].isnull() | df_result['extracted_idx'].isnull()]\n",
    "print(nonmatch_df.shape)\n"
   ],
   "metadata": {
    "colab": {
     "base_uri": "https://localhost:8080/"
    },
    "id": "42199ZWMtSFM",
    "executionInfo": {
     "status": "ok",
     "timestamp": 1707858754972,
     "user_tz": 300,
     "elapsed": 113,
     "user": {
      "displayName": "Satanu Ghosh",
      "userId": "07683061709303200546"
     }
    },
    "outputId": "915ecd4a-02f7-4823-b7b9-0358bbca36f6",
    "ExecuteTime": {
     "end_time": "2024-05-17T19:08:59.801422100Z",
     "start_time": "2024-05-17T19:08:59.694410600Z"
    }
   },
   "execution_count": 173,
   "outputs": [
    {
     "name": "stdout",
     "output_type": "stream",
     "text": [
      "(1702, 41)\n"
     ]
    }
   ]
  },
  {
   "cell_type": "code",
   "source": [
    "match_df = df_result[df_result['original_idx'].notnull() & df_result['extracted_idx'].notnull()]\n",
    "print(match_df.shape)"
   ],
   "metadata": {
    "colab": {
     "base_uri": "https://localhost:8080/"
    },
    "id": "eE4xkX6jQ7jp",
    "executionInfo": {
     "status": "ok",
     "timestamp": 1707858754972,
     "user_tz": 300,
     "elapsed": 110,
     "user": {
      "displayName": "Satanu Ghosh",
      "userId": "07683061709303200546"
     }
    },
    "outputId": "7e5d983a-bef1-47ff-a087-3f93538e0cd3",
    "ExecuteTime": {
     "end_time": "2024-05-17T19:09:01.010504900Z",
     "start_time": "2024-05-17T19:09:00.920499100Z"
    }
   },
   "execution_count": 174,
   "outputs": [
    {
     "name": "stdout",
     "output_type": "stream",
     "text": [
      "(52, 41)\n"
     ]
    }
   ]
  },
  {
   "cell_type": "code",
   "source": [
    "match_df.to_csv('matched_simple_zeroshot.csv', encoding='utf8')"
   ],
   "metadata": {
    "id": "E_1L69mPYgTY",
    "ExecuteTime": {
     "end_time": "2024-05-17T19:09:03.584870100Z",
     "start_time": "2024-05-17T19:09:03.512970700Z"
    }
   },
   "execution_count": 175,
   "outputs": []
  },
  {
   "cell_type": "code",
   "source": [
    "original_df = df_result[df_result['original_idx'].notnull()]\n",
    "print(original_df.shape)"
   ],
   "metadata": {
    "colab": {
     "base_uri": "https://localhost:8080/"
    },
    "id": "XwlQIo2-b7qK",
    "executionInfo": {
     "status": "ok",
     "timestamp": 1707858754978,
     "user_tz": 300,
     "elapsed": 113,
     "user": {
      "displayName": "Satanu Ghosh",
      "userId": "07683061709303200546"
     }
    },
    "outputId": "e08e768e-657a-4cce-d305-4a8affd321bc",
    "ExecuteTime": {
     "end_time": "2024-05-17T19:09:05.724180200Z",
     "start_time": "2024-05-17T19:09:05.640818700Z"
    }
   },
   "execution_count": 176,
   "outputs": [
    {
     "name": "stdout",
     "output_type": "stream",
     "text": [
      "(946, 41)\n"
     ]
    }
   ]
  },
  {
   "cell_type": "code",
   "source": [
    "groups = df_result.groupby('match_group').indices\n",
    "groups"
   ],
   "metadata": {
    "colab": {
     "base_uri": "https://localhost:8080/"
    },
    "id": "40RR6Q4hRFJ4",
    "executionInfo": {
     "status": "ok",
     "timestamp": 1707858754979,
     "user_tz": 300,
     "elapsed": 112,
     "user": {
      "displayName": "Satanu Ghosh",
      "userId": "07683061709303200546"
     }
    },
    "outputId": "8f065509-5470-47d8-ca97-25497b18876b",
    "ExecuteTime": {
     "end_time": "2024-05-17T19:09:06.378977500Z",
     "start_time": "2024-05-17T19:09:06.265967100Z"
    }
   },
   "execution_count": 177,
   "outputs": [
    {
     "data": {
      "text/plain": "{'10.1002.adem.200300567': array([0, 1, 2, 3, 4, 5, 6, 7, 8, 9]),\n '10.1002.adem.202100765': array([10, 11, 12, 13, 14, 15, 16, 17, 18, 19, 20]),\n '10.1002.adma.201701678': array([21, 22, 23, 24, 25, 26]),\n '10.1007.s00339-019-2484-1': array([27, 28, 29, 30, 31, 32, 33, 34, 35, 36, 37, 38]),\n '10.1007.s10853-012-6260-2': array([39, 40, 41, 42, 43, 44, 45, 46, 47, 48, 49, 50, 51, 52]),\n '10.1007.s11661-017-4386-1': array([53, 54, 55, 56, 57, 58, 59, 60, 61, 62, 63, 64, 65, 66, 67, 68]),\n '10.1007.s11661-018-4646-8': array([69, 70, 71, 72, 73, 74, 75, 76, 77, 78, 79, 80, 81, 82]),\n '10.1007.s11665-017-2799-z': array([83, 84, 85, 86, 87, 88, 89, 90, 91, 92, 93, 94, 95, 96]),\n '10.1007.s11837-012-0366-5': array([ 97,  98,  99, 100, 101, 102, 103, 104, 105, 106]),\n '10.1007.s11837-014-1066-0': array([107, 108, 109, 110, 111, 112, 113, 114, 115, 116, 117, 118, 119,\n        120, 121, 122, 123, 124, 125, 126, 127, 128, 129, 130, 131, 132,\n        133]),\n '10.1007.s11837-019-03432-9': array([134, 135, 136, 137, 138, 139, 140, 141, 142, 143, 144, 145, 146,\n        147]),\n '10.1007.s11837-020-04557-y': array([148, 149, 150, 151, 152, 153, 154, 155, 156, 157]),\n '10.1007.s12598-019-01310-6': array([158, 159, 160, 161, 162, 163, 164, 165, 166, 167, 168, 169, 170,\n        171, 172, 173, 174]),\n '10.1007.s40195-019-00921-3': array([175, 176, 177, 178, 179, 180, 181, 182, 183, 184, 185, 186, 187,\n        188, 189, 190, 191, 192, 193]),\n '10.1007.s40195-019-00935-x': array([194, 195, 196]),\n '10.1007.s42864-021-00111-8': array([197, 198, 199, 200, 201, 202, 203, 204, 205, 206, 207, 208, 209,\n        210, 211]),\n '10.1016.j.actamat.2012.11.032': array([212, 213, 214, 215, 216]),\n '10.1016.j.actamat.2016.01.018': array([217, 218, 219, 220, 221, 222, 223, 224, 225, 226, 227, 228, 229]),\n '10.1016.j.actamat.2017.09.035': array([230, 231, 232, 233, 234, 235, 236, 237, 238, 239, 240, 241, 242]),\n '10.1016.j.actamat.2017.09.062': array([243, 244, 245, 246, 247, 248, 249, 250, 251, 252]),\n '10.1016.j.actamat.2018.08.053': array([253, 254, 255, 256, 257, 258, 259, 260]),\n '10.1016.j.actamat.2019.06.006': array([261, 262, 263, 264, 265, 266, 267, 268, 269, 270, 271, 272, 273,\n        274, 275, 276, 277, 278, 279, 280, 281, 282, 283, 284, 285, 286,\n        287, 288, 289, 290, 291, 292, 293, 294, 295, 296, 297, 298, 299,\n        300, 301, 302, 303, 304, 305, 306, 307, 308, 309, 310, 311, 312]),\n '10.1016.j.actamat.2019.06.032': array([313, 314, 315, 316, 317, 318, 319, 320, 321, 322, 323, 324, 325,\n        326, 327, 328, 329, 330, 331, 332, 333, 334, 335, 336, 337, 338]),\n '10.1016.j.ijrmhm.2014.07.009': array([339, 340, 341, 342, 343, 344, 345, 346, 347, 348, 349, 350, 351,\n        352, 353, 354, 355, 356]),\n '10.1016.j.ijrmhm.2019.02.009': array([357, 358, 359, 360, 361, 362, 363, 364, 365]),\n '10.1016.j.ijrmhm.2019.105132': array([366, 367, 368, 369, 370, 371, 372, 373, 374, 375, 376, 377, 378,\n        379, 380, 381, 382, 383]),\n '10.1016.j.ijrmhm.2020.105195': array([384, 385, 386, 387]),\n '10.1016.j.ijrmhm.2020.105322': array([388, 389, 390, 391, 392, 393, 394, 395, 396, 397, 398, 399]),\n '10.1016.j.ijrmhm.2020.105370': array([400, 401, 402, 403, 404, 405, 406, 407, 408, 409, 410, 411, 412,\n        413, 414, 415, 416, 417, 418, 419, 420, 421, 422, 423]),\n '10.1016.j.ijrmhm.2020.105467': array([424, 425, 426, 427, 428, 429, 430, 431, 432, 433, 434, 435, 436,\n        437, 438, 439, 440, 441, 442, 443, 444, 445, 446, 447]),\n '10.1016.j.ijrmhm.2021.105664': array([448, 449, 450, 451, 452, 453, 454, 455, 456, 457, 458, 459, 460,\n        461, 462, 463, 464, 465, 466]),\n '10.1016.j.intermet.2011.01.004': array([467, 468, 469, 470, 471, 472, 473, 474, 475, 476, 477, 478, 479,\n        480, 481]),\n '10.1016.j.intermet.2015.03.013': array([482, 483, 484, 485, 486, 487, 488, 489, 490, 491, 492]),\n '10.1016.j.intermet.2015.09.011': array([493, 494, 495, 496]),\n '10.1016.j.intermet.2015.10.011': array([497, 498, 499, 500, 501, 502, 503, 504, 505, 506, 507, 508, 509]),\n '10.1016.j.intermet.2017.01.007': array([510, 511, 512, 513, 514, 515, 516, 517, 518, 519, 520, 521]),\n '10.1016.j.intermet.2019.01.004': array([522, 523, 524, 525, 526, 527, 528, 529, 530]),\n '10.1016.j.intermet.2019.04.003': array([531, 532]),\n '10.1016.j.intermet.2020.106928': array([533, 534, 535, 536, 537, 538]),\n '10.1016.j.intermet.2021.107323': array([539, 540, 541, 542, 543, 544, 545, 546, 547, 548, 549, 550]),\n '10.1016.j.jallcom.2014.11.064': array([551, 552, 553, 554, 555, 556, 557, 558, 559, 560, 561, 562, 563]),\n '10.1016.j.jallcom.2015.07.209': array([564, 565, 566, 567, 568]),\n '10.1016.j.jallcom.2015.08.224': array([569, 570, 571, 572, 573, 574, 575, 576, 577, 578, 579, 580, 581,\n        582, 583, 584, 585, 586, 587, 588, 589, 590]),\n '10.1016.j.jallcom.2015.11.050': array([591, 592, 593, 594, 595, 596, 597]),\n '10.1016.j.jallcom.2015.11.091': array([598, 599, 600, 601, 602, 603, 604, 605]),\n '10.1016.j.jallcom.2016.10.014': array([606, 607, 608, 609, 610, 611, 612, 613, 614, 615, 616, 617, 618,\n        619, 620, 621]),\n '10.1016.j.jallcom.2016.11.188': array([622, 623, 624, 625, 626, 627, 628, 629, 630]),\n '10.1016.j.jallcom.2018.10.230': array([631, 632, 633, 634, 635, 636, 637, 638, 639, 640, 641, 642]),\n '10.1016.j.jallcom.2018.11.111': array([643, 644, 645, 646, 647, 648, 649, 650, 651, 652, 653, 654, 655]),\n '10.1016.j.jallcom.2019.05.322': array([656, 657, 658, 659, 660, 661, 662, 663, 664, 665, 666, 667, 668,\n        669, 670, 671, 672, 673, 674, 675, 676, 677, 678, 679, 680, 681,\n        682, 683, 684, 685, 686, 687, 688, 689, 690, 691, 692, 693, 694,\n        695, 696, 697, 698, 699, 700, 701, 702, 703, 704, 705, 706]),\n '10.1016.j.jallcom.2019.06.138': array([707, 708, 709, 710, 711, 712, 713, 714, 715, 716, 717, 718, 719,\n        720, 721, 722, 723]),\n '10.1016.j.jallcom.2019.151685': array([724, 725, 726, 727, 728, 729, 730, 731, 732, 733, 734, 735, 736,\n        737, 738, 739, 740, 741, 742, 743, 744, 745, 746, 747, 748, 749,\n        750, 751, 752, 753, 754, 755, 756, 757, 758, 759, 760, 761, 762,\n        763, 764, 765]),\n '10.1016.j.jallcom.2020.154301': array([766, 767, 768, 769]),\n '10.1016.j.jallcom.2020.155700': array([770, 771, 772, 773, 774, 775, 776, 777, 778, 779, 780, 781, 782,\n        783, 784, 785, 786, 787, 788, 789, 790, 791, 792, 793]),\n '10.1016.j.jallcom.2020.157542': array([794, 795, 796, 797, 798, 799, 800, 801, 802, 803, 804]),\n '10.1016.j.jallcom.2020.158003': array([805, 806, 807, 808, 809, 810, 811, 812, 813, 814, 815, 816, 817,\n        818]),\n '10.1016.j.jallcom.2021.159190': array([819, 820, 821, 822, 823, 824, 825, 826, 827, 828, 829, 830, 831,\n        832, 833, 834, 835, 836]),\n '10.1016.j.jallcom.2021.159740': array([837, 838, 839, 840, 841, 842]),\n '10.1016.j.jallcom.2021.161187': array([843, 844, 845, 846, 847]),\n '10.1016.j.jmst.2020.05.038': array([848, 849, 850, 851, 852, 853, 854, 855, 856, 857, 858, 859, 860,\n        861, 862, 863, 864, 865, 866, 867, 868]),\n '10.1016.j.jmst.2020.07.012': array([869, 870, 871, 872, 873, 874, 875, 876, 877, 878, 879, 880, 881,\n        882]),\n '10.1016.j.jmst.2020.10.073': array([883, 884, 885, 886, 887, 888, 889]),\n '10.1016.j.matchar.2015.11.018': array([890, 891, 892]),\n '10.1016.j.matchar.2018.07.015': array([893, 894, 895, 896, 897, 898, 899, 900, 901, 902, 903]),\n '10.1016.j.matchar.2021.111287': array([904, 905, 906, 907, 908, 909, 910, 911, 912, 913, 914, 915, 916,\n        917, 918, 919, 920, 921, 922, 923]),\n '10.1016.j.matchemphys.2017.06.054': array([924, 925, 926, 927, 928, 929, 930, 931, 932, 933, 934, 935, 936,\n        937, 938]),\n '10.1016.j.matdes.2015.05.019': array([939, 940, 941, 942, 943, 944, 945, 946, 947, 948, 949, 950, 951]),\n '10.1016.j.matdes.2015.06.072': array([952, 953, 954, 955, 956, 957, 958, 959, 960, 961, 962, 963, 964,\n        965, 966, 967, 968, 969, 970, 971, 972, 973, 974, 975, 976]),\n '10.1016.j.matdes.2017.11.033': array([977, 978, 979, 980, 981, 982, 983, 984, 985, 986, 987, 988, 989,\n        990, 991, 992, 993]),\n '10.1016.j.matdes.2018.06.003': array([ 994,  995,  996,  997,  998,  999, 1000, 1001, 1002, 1003, 1004,\n        1005, 1006, 1007, 1008, 1009, 1010, 1011, 1012, 1013, 1014, 1015,\n        1016, 1017, 1018, 1019]),\n '10.1016.j.matlet.2014.05.134': array([1020, 1021, 1022, 1023, 1024, 1025, 1026, 1027, 1028]),\n '10.1016.j.matlet.2014.11.162': array([1029, 1030, 1031, 1032, 1033, 1034, 1035, 1036, 1037, 1038, 1039,\n        1040]),\n '10.1016.j.matlet.2015.08.099': array([1041, 1042, 1043, 1044, 1045, 1046, 1047, 1048, 1049, 1050]),\n '10.1016.j.matlet.2016.03.092': array([1051, 1052, 1053, 1054, 1055, 1056, 1057, 1058, 1059, 1060, 1061]),\n '10.1016.j.matlet.2016.03.133': array([1062, 1063, 1064, 1065, 1066]),\n '10.1016.j.matlet.2016.08.060': array([1067, 1068, 1069, 1070, 1071, 1072, 1073, 1074, 1075, 1076, 1077]),\n '10.1016.j.matlet.2016.11.030': array([1078, 1079, 1080, 1081, 1082, 1083, 1084, 1085, 1086, 1087, 1088,\n        1089, 1090]),\n '10.1016.j.matlet.2019.03.075': array([1091, 1092, 1093, 1094, 1095, 1096, 1097, 1098, 1099, 1100, 1101,\n        1102, 1103, 1104]),\n '10.1016.j.matlet.2020.127372': array([1105, 1106, 1107, 1108, 1109, 1110, 1111, 1112, 1113, 1114, 1115]),\n '10.1016.j.matlet.2021.129428': array([1116, 1117, 1118, 1119, 1120, 1121, 1122, 1123, 1124]),\n '10.1016.j.matlet.2021.129753': array([1125, 1126, 1127, 1128, 1129, 1130, 1131, 1132, 1133, 1134, 1135,\n        1136, 1137, 1138]),\n '10.1016.j.msea.2003.12.011': array([1139, 1140, 1141, 1142, 1143, 1144, 1145, 1146, 1147, 1148, 1149]),\n '10.1016.j.msea.2012.12.018': array([1150, 1151, 1152, 1153, 1154, 1155, 1156, 1157, 1158, 1159, 1160,\n        1161, 1162, 1163, 1164, 1165, 1166, 1167, 1168, 1169, 1170, 1171,\n        1172, 1173]),\n '10.1016.j.msea.2015.08.024': array([1174, 1175, 1176, 1177, 1178, 1179, 1180, 1181, 1182, 1183]),\n '10.1016.j.msea.2015.12.017': array([1184, 1185, 1186, 1187, 1188, 1189, 1190, 1191, 1192, 1193, 1194,\n        1195, 1196]),\n '10.1016.j.msea.2016.07.102': array([1197, 1198, 1199, 1200, 1201, 1202, 1203, 1204, 1205, 1206, 1207,\n        1208]),\n '10.1016.j.msea.2017.08.019': array([1209, 1210, 1211, 1212, 1213, 1214, 1215, 1216, 1217, 1218, 1219,\n        1220, 1221, 1222, 1223, 1224, 1225, 1226, 1227, 1228, 1229, 1230,\n        1231, 1232, 1233, 1234]),\n '10.1016.j.msea.2017.10.073': array([1235, 1236, 1237, 1238, 1239, 1240, 1241, 1242, 1243, 1244, 1245,\n        1246, 1247, 1248, 1249, 1250, 1251, 1252, 1253, 1254, 1255, 1256,\n        1257, 1258, 1259, 1260, 1261, 1262, 1263, 1264]),\n '10.1016.j.msea.2017.12.004': array([1265, 1266, 1267, 1268, 1269, 1270, 1271, 1272, 1273, 1274, 1275,\n        1276, 1277]),\n '10.1016.j.msea.2017.12.021': array([1278, 1279, 1280, 1281, 1282, 1283, 1284, 1285, 1286]),\n '10.1016.j.msea.2020.139275': array([1287, 1288, 1289, 1290, 1291, 1292, 1293, 1294, 1295, 1296, 1297,\n        1298, 1299, 1300, 1301, 1302, 1303, 1304, 1305, 1306, 1307, 1308,\n        1309, 1310, 1311, 1312, 1313, 1314, 1315]),\n '10.1016.j.msea.2020.139774': array([1316, 1317, 1318, 1319, 1320, 1321, 1322, 1323, 1324, 1325]),\n '10.1016.j.msea.2021.140798': array([1326, 1327, 1328, 1329, 1330]),\n '10.1016.j.msea.2021.140848': array([1331, 1332, 1333, 1334, 1335, 1336, 1337, 1338, 1339, 1340, 1341,\n        1342, 1343, 1344, 1345, 1346, 1347, 1348, 1349, 1350]),\n '10.1016.j.msea.2021.140983': array([1351, 1352, 1353, 1354, 1355, 1356, 1357, 1358, 1359, 1360, 1361]),\n '10.1016.j.msea.2021.141168': array([1362, 1363, 1364, 1365, 1366, 1367, 1368, 1369, 1370, 1371, 1372,\n        1373, 1374, 1375]),\n '10.1016.j.msea.2021.141234': array([1376, 1377, 1378, 1379, 1380, 1381, 1382, 1383, 1384, 1385, 1386,\n        1387, 1388, 1389, 1390, 1391, 1392]),\n '10.1016.j.msea.2021.141908': array([1393, 1394, 1395, 1396, 1397, 1398, 1399, 1400, 1401, 1402, 1403,\n        1404]),\n '10.1016.j.msec.2016.12.057': array([1405, 1406]),\n '10.1016.j.mtla.2020.100627': array([1407, 1408, 1409, 1410, 1411, 1412, 1413, 1414, 1415, 1416, 1417,\n        1418, 1419, 1420, 1421, 1422, 1423, 1424, 1425, 1426, 1427, 1428,\n        1429, 1430, 1431, 1432, 1433, 1434, 1435, 1436]),\n '10.1016.j.mtla.2021.101057': array([1437, 1438, 1439, 1440, 1441, 1442, 1443, 1444, 1445, 1446, 1447,\n        1448, 1449, 1450, 1451, 1452, 1453, 1454, 1455, 1456, 1457, 1458,\n        1459, 1460, 1461, 1462, 1463, 1464, 1465, 1466, 1467]),\n '10.1016.j.proeng.2012.03.043': array([1468, 1469, 1470, 1471, 1472, 1473, 1474, 1475, 1476, 1477, 1478,\n        1479]),\n '10.1016.j.scriptamat.2016.10.028': array([1480, 1481, 1482, 1483]),\n '10.1016.j.scriptamat.2019.07.033': array([1484, 1485, 1486, 1487, 1488, 1489, 1490, 1491, 1492, 1493, 1494]),\n '10.1016.j.scriptamat.2020.07.006': array([1495, 1496, 1497, 1498, 1499, 1500, 1501, 1502, 1503, 1504, 1505,\n        1506, 1507]),\n '10.1016.j.scriptamat.2020.09.027': array([1508, 1509, 1510, 1511, 1512, 1513, 1514, 1515, 1516, 1517, 1518,\n        1519, 1520, 1521, 1522]),\n '10.1016.j.scriptamat.2021.113919': array([1523, 1524, 1525, 1526, 1527, 1528, 1529, 1530, 1531, 1532, 1533,\n        1534, 1535, 1536, 1537, 1538, 1539, 1540, 1541, 1542]),\n '10.1016.j.scriptamat.2021.114225': array([1543, 1544, 1545, 1546, 1547, 1548, 1549, 1550, 1551, 1552, 1553,\n        1554, 1555, 1556]),\n '10.1016.j.vacuum.2020.109614': array([1557, 1558, 1559, 1560, 1561, 1562, 1563, 1564, 1565, 1566, 1567,\n        1568]),\n '10.1038.s41467-019-10533-1': array([1569, 1570, 1571, 1572, 1573]),\n '10.1038.s41563-020-0750-4': array([1574, 1575, 1576, 1577, 1578, 1579, 1580, 1581, 1582, 1583, 1584,\n        1585, 1586, 1587]),\n '10.1063.1.4966659': array([1588, 1589, 1590, 1591, 1592, 1593, 1594, 1595, 1596]),\n '10.1080.02670836.2018.1446267': array([1597, 1598, 1599, 1600, 1601, 1602, 1603, 1604, 1605, 1606]),\n '10.1080.14786435.2015.1028506': array([1607, 1608, 1609, 1610, 1611, 1612, 1613, 1614, 1615, 1616, 1617,\n        1618, 1619, 1620]),\n '10.1080.21663831.2016.1221861': array([1621, 1622, 1623, 1624, 1625, 1626, 1627, 1628, 1629]),\n '10.1080.21663831.2019.1610105': array([1630, 1631, 1632, 1633, 1634, 1635, 1636, 1637, 1638, 1639, 1640,\n        1641, 1642, 1643, 1644, 1645]),\n '10.1088.1757-899X.1014.1.012041': array([1646, 1647, 1648, 1649, 1650, 1651, 1652, 1653, 1654, 1655, 1656,\n        1657, 1658, 1659]),\n '10.1179.1743284715Y.0000000032': array([1660, 1661, 1662, 1663, 1664, 1665, 1666, 1667, 1668, 1669]),\n '10.2320.matertrans.MT-MK2019003': array([1670, 1671, 1672, 1673, 1674, 1675, 1676, 1677, 1678, 1679, 1680,\n        1681, 1682, 1683, 1684, 1685]),\n '10.3390.e16020870': array([1686, 1687, 1688, 1689, 1690, 1691]),\n '10.3390.e18050189': array([1692, 1693, 1694]),\n '10.3390.e21010015': array([1695, 1696, 1697, 1698, 1699, 1700, 1701, 1702, 1703, 1704, 1705,\n        1706, 1707, 1708, 1709, 1710, 1711, 1712, 1713]),\n '10.3390.e21020114': array([1714, 1715, 1716, 1717, 1718, 1719, 1720, 1721]),\n '10.3390.met11030514': array([1722, 1723, 1724, 1725, 1726, 1727, 1728, 1729, 1730, 1731, 1732]),\n '10.4028.www.scientific.net.MSF.849.76': array([1733, 1734, 1735, 1736, 1737, 1738, 1739, 1740, 1741, 1742, 1743,\n        1744, 1745, 1746]),\n '10.4028.www.scientific.net.MSF.898.638': array([1747, 1748, 1749, 1750, 1751, 1752, 1753])}"
     },
     "execution_count": 177,
     "metadata": {},
     "output_type": "execute_result"
    }
   ]
  },
  {
   "cell_type": "code",
   "source": [
    "#Taking a look at the non-matched original versus extracted rows for an individual paper\n",
    "doi = list(groups.keys())[2]\n",
    "\n",
    "print('Matched rows:')\n",
    "display(match_df[match_df['match_group']==doi][['normalized_formula_original',\n",
    "                                                     'normalized_formula_extracted',\n",
    "                                                     'FORMULA_original',\n",
    "                                                     'FORMULA_extracted',\n",
    "                                                     'PROPERTY: YS (MPa)_original',\n",
    "                                                     'PROPERTY: YS (MPa)_extracted',\n",
    "                                                     'match_group']])\n",
    "\n",
    "print('Non-matched rows:')\n",
    "display(nonmatch_df[nonmatch_df['match_group']==doi][['original_idx', 'extracted_idx',\n",
    "                                                      'normalized_formula_original',\n",
    "                                                     'normalized_formula_extracted',\n",
    "                                                     'FORMULA_original',\n",
    "                                                     'FORMULA_extracted',\n",
    "                                                     'PROPERTY: YS (MPa)_original',\n",
    "                                                     'PROPERTY: YS (MPa)_extracted',\n",
    "                                                     'match_group']])"
   ],
   "metadata": {
    "colab": {
     "base_uri": "https://localhost:8080/",
     "height": 346
    },
    "id": "UuIb8_R2wGQX",
    "executionInfo": {
     "status": "ok",
     "timestamp": 1707858754979,
     "user_tz": 300,
     "elapsed": 108,
     "user": {
      "displayName": "Satanu Ghosh",
      "userId": "07683061709303200546"
     }
    },
    "outputId": "50fef25c-8eff-4eb0-c4ab-0dcc82cc7f7a",
    "ExecuteTime": {
     "end_time": "2024-05-17T19:09:07.216729800Z",
     "start_time": "2024-05-17T19:09:07.088720600Z"
    }
   },
   "execution_count": 178,
   "outputs": [
    {
     "name": "stdout",
     "output_type": "stream",
     "text": [
      "Matched rows:\n"
     ]
    },
    {
     "data": {
      "text/plain": "Empty DataFrame\nColumns: [normalized_formula_original, normalized_formula_extracted, FORMULA_original, FORMULA_extracted, PROPERTY: YS (MPa)_original, PROPERTY: YS (MPa)_extracted, match_group]\nIndex: []",
      "text/html": "<div>\n<style scoped>\n    .dataframe tbody tr th:only-of-type {\n        vertical-align: middle;\n    }\n\n    .dataframe tbody tr th {\n        vertical-align: top;\n    }\n\n    .dataframe thead th {\n        text-align: right;\n    }\n</style>\n<table border=\"1\" class=\"dataframe\">\n  <thead>\n    <tr style=\"text-align: right;\">\n      <th></th>\n      <th>normalized_formula_original</th>\n      <th>normalized_formula_extracted</th>\n      <th>FORMULA_original</th>\n      <th>FORMULA_extracted</th>\n      <th>PROPERTY: YS (MPa)_original</th>\n      <th>PROPERTY: YS (MPa)_extracted</th>\n      <th>match_group</th>\n    </tr>\n  </thead>\n  <tbody>\n  </tbody>\n</table>\n</div>"
     },
     "metadata": {},
     "output_type": "display_data"
    },
    {
     "name": "stdout",
     "output_type": "stream",
     "text": [
      "Non-matched rows:\n"
     ]
    },
    {
     "data": {
      "text/plain": "    original_idx  extracted_idx   normalized_formula_original normalized_formula_extracted                 FORMULA_original FORMULA_extracted  PROPERTY: YS (MPa)_original PROPERTY: YS (MPa)_extracted             match_group\n21         627.0            NaN  Hf0.278Ta0.167Ti0.278Zr0.278                          NaN  Hf0.278 Ta0.167 Ti0.278 Zr0.278               NaN                        750.0                          NaN  10.1002.adma.201701678\n22         628.0            NaN  Hf0.286Ta0.143Ti0.286Zr0.286                          NaN  Hf0.286 Ta0.143 Ti0.286 Zr0.286               NaN                        687.0                          NaN  10.1002.adma.201701678\n23         622.0            NaN      Hf0.25Ta0.25Ti0.25Zr0.25                          NaN      Hf0.25 Ta0.25 Ti0.25 Zr0.25               NaN                       1356.0                          NaN  10.1002.adma.201701678\n24         631.0            NaN  Hf0.294Ta0.118Ti0.294Zr0.294                          NaN  Hf0.294 Ta0.118 Ti0.294 Zr0.294               NaN                        354.0                          NaN  10.1002.adma.201701678\n25           NaN          545.0                           NaN     Hf0.25Ta0.25Ti0.25Zr0.25                              NaN         Ta1HfZrTi                          NaN                         1500  10.1002.adma.201701678\n26           NaN          546.0                           NaN     Hf0.25Ta0.25Ti0.25Zr0.25                              NaN         Ta1HfZrTi                          NaN                         1500  10.1002.adma.201701678",
      "text/html": "<div>\n<style scoped>\n    .dataframe tbody tr th:only-of-type {\n        vertical-align: middle;\n    }\n\n    .dataframe tbody tr th {\n        vertical-align: top;\n    }\n\n    .dataframe thead th {\n        text-align: right;\n    }\n</style>\n<table border=\"1\" class=\"dataframe\">\n  <thead>\n    <tr style=\"text-align: right;\">\n      <th></th>\n      <th>original_idx</th>\n      <th>extracted_idx</th>\n      <th>normalized_formula_original</th>\n      <th>normalized_formula_extracted</th>\n      <th>FORMULA_original</th>\n      <th>FORMULA_extracted</th>\n      <th>PROPERTY: YS (MPa)_original</th>\n      <th>PROPERTY: YS (MPa)_extracted</th>\n      <th>match_group</th>\n    </tr>\n  </thead>\n  <tbody>\n    <tr>\n      <th>21</th>\n      <td>627.0</td>\n      <td>NaN</td>\n      <td>Hf0.278Ta0.167Ti0.278Zr0.278</td>\n      <td>NaN</td>\n      <td>Hf0.278 Ta0.167 Ti0.278 Zr0.278</td>\n      <td>NaN</td>\n      <td>750.0</td>\n      <td>NaN</td>\n      <td>10.1002.adma.201701678</td>\n    </tr>\n    <tr>\n      <th>22</th>\n      <td>628.0</td>\n      <td>NaN</td>\n      <td>Hf0.286Ta0.143Ti0.286Zr0.286</td>\n      <td>NaN</td>\n      <td>Hf0.286 Ta0.143 Ti0.286 Zr0.286</td>\n      <td>NaN</td>\n      <td>687.0</td>\n      <td>NaN</td>\n      <td>10.1002.adma.201701678</td>\n    </tr>\n    <tr>\n      <th>23</th>\n      <td>622.0</td>\n      <td>NaN</td>\n      <td>Hf0.25Ta0.25Ti0.25Zr0.25</td>\n      <td>NaN</td>\n      <td>Hf0.25 Ta0.25 Ti0.25 Zr0.25</td>\n      <td>NaN</td>\n      <td>1356.0</td>\n      <td>NaN</td>\n      <td>10.1002.adma.201701678</td>\n    </tr>\n    <tr>\n      <th>24</th>\n      <td>631.0</td>\n      <td>NaN</td>\n      <td>Hf0.294Ta0.118Ti0.294Zr0.294</td>\n      <td>NaN</td>\n      <td>Hf0.294 Ta0.118 Ti0.294 Zr0.294</td>\n      <td>NaN</td>\n      <td>354.0</td>\n      <td>NaN</td>\n      <td>10.1002.adma.201701678</td>\n    </tr>\n    <tr>\n      <th>25</th>\n      <td>NaN</td>\n      <td>545.0</td>\n      <td>NaN</td>\n      <td>Hf0.25Ta0.25Ti0.25Zr0.25</td>\n      <td>NaN</td>\n      <td>Ta1HfZrTi</td>\n      <td>NaN</td>\n      <td>1500</td>\n      <td>10.1002.adma.201701678</td>\n    </tr>\n    <tr>\n      <th>26</th>\n      <td>NaN</td>\n      <td>546.0</td>\n      <td>NaN</td>\n      <td>Hf0.25Ta0.25Ti0.25Zr0.25</td>\n      <td>NaN</td>\n      <td>Ta1HfZrTi</td>\n      <td>NaN</td>\n      <td>1500</td>\n      <td>10.1002.adma.201701678</td>\n    </tr>\n  </tbody>\n</table>\n</div>"
     },
     "metadata": {},
     "output_type": "display_data"
    }
   ]
  },
  {
   "cell_type": "code",
   "source": [
    "extraction_df[extraction_df['doi'] ==doi]"
   ],
   "metadata": {
    "colab": {
     "base_uri": "https://localhost:8080/",
     "height": 262
    },
    "id": "W4-X6D6FSDj5",
    "executionInfo": {
     "status": "ok",
     "timestamp": 1707858754980,
     "user_tz": 300,
     "elapsed": 103,
     "user": {
      "displayName": "Satanu Ghosh",
      "userId": "07683061709303200546"
     }
    },
    "outputId": "9748a561-3640-43ae-d985-93dd284779cf",
    "ExecuteTime": {
     "end_time": "2024-05-17T19:09:08.142802900Z",
     "start_time": "2024-05-17T19:09:07.784773100Z"
    }
   },
   "execution_count": 179,
   "outputs": [
    {
     "data": {
      "text/plain": "    high entropy alloy formula yield strength                     doi grain size experimental density hardness test temperature ultimate tensile strength elongation elongation plastic        normalized_formula\n545                  Ta1HfZrTi           1500  10.1002.adma.201701678        NaN                  NaN      NaN              NaN                       NaN        NaN                NaN  Hf0.25Ta0.25Ti0.25Zr0.25\n546                  Ta1HfZrTi           1500  10.1002.adma.201701678        NaN                  NaN      NaN              NaN                       NaN        NaN                NaN  Hf0.25Ta0.25Ti0.25Zr0.25",
      "text/html": "<div>\n<style scoped>\n    .dataframe tbody tr th:only-of-type {\n        vertical-align: middle;\n    }\n\n    .dataframe tbody tr th {\n        vertical-align: top;\n    }\n\n    .dataframe thead th {\n        text-align: right;\n    }\n</style>\n<table border=\"1\" class=\"dataframe\">\n  <thead>\n    <tr style=\"text-align: right;\">\n      <th></th>\n      <th>high entropy alloy formula</th>\n      <th>yield strength</th>\n      <th>doi</th>\n      <th>grain size</th>\n      <th>experimental density</th>\n      <th>hardness</th>\n      <th>test temperature</th>\n      <th>ultimate tensile strength</th>\n      <th>elongation</th>\n      <th>elongation plastic</th>\n      <th>normalized_formula</th>\n    </tr>\n  </thead>\n  <tbody>\n    <tr>\n      <th>545</th>\n      <td>Ta1HfZrTi</td>\n      <td>1500</td>\n      <td>10.1002.adma.201701678</td>\n      <td>NaN</td>\n      <td>NaN</td>\n      <td>NaN</td>\n      <td>NaN</td>\n      <td>NaN</td>\n      <td>NaN</td>\n      <td>NaN</td>\n      <td>Hf0.25Ta0.25Ti0.25Zr0.25</td>\n    </tr>\n    <tr>\n      <th>546</th>\n      <td>Ta1HfZrTi</td>\n      <td>1500</td>\n      <td>10.1002.adma.201701678</td>\n      <td>NaN</td>\n      <td>NaN</td>\n      <td>NaN</td>\n      <td>NaN</td>\n      <td>NaN</td>\n      <td>NaN</td>\n      <td>NaN</td>\n      <td>Hf0.25Ta0.25Ti0.25Zr0.25</td>\n    </tr>\n  </tbody>\n</table>\n</div>"
     },
     "execution_count": 179,
     "metadata": {},
     "output_type": "execute_result"
    }
   ]
  },
  {
   "cell_type": "code",
   "source": [
    "df_result[df_result['match_group']==doi][['original_idx', 'extracted_idx',\n",
    "                                          'normalized_formula_original',\n",
    "                                                     'normalized_formula_extracted',\n",
    "                                                     'FORMULA_original',\n",
    "                                                     'FORMULA_extracted',\n",
    "                                                     'PROPERTY: YS (MPa)_original',\n",
    "                                                     'PROPERTY: YS (MPa)_extracted',\n",
    "                                                     'match_group']]"
   ],
   "metadata": {
    "colab": {
     "base_uri": "https://localhost:8080/",
     "height": 262
    },
    "id": "zD4v2XG7Zm3a",
    "executionInfo": {
     "status": "ok",
     "timestamp": 1707858754986,
     "user_tz": 300,
     "elapsed": 107,
     "user": {
      "displayName": "Satanu Ghosh",
      "userId": "07683061709303200546"
     }
    },
    "outputId": "66e7c0dd-a055-47a6-bef1-b796337b7445",
    "ExecuteTime": {
     "end_time": "2024-05-17T19:09:08.787851300Z",
     "start_time": "2024-05-17T19:09:08.601837300Z"
    }
   },
   "execution_count": 180,
   "outputs": [
    {
     "data": {
      "text/plain": "    original_idx  extracted_idx   normalized_formula_original normalized_formula_extracted                 FORMULA_original FORMULA_extracted  PROPERTY: YS (MPa)_original PROPERTY: YS (MPa)_extracted             match_group\n21         627.0            NaN  Hf0.278Ta0.167Ti0.278Zr0.278                          NaN  Hf0.278 Ta0.167 Ti0.278 Zr0.278               NaN                        750.0                          NaN  10.1002.adma.201701678\n22         628.0            NaN  Hf0.286Ta0.143Ti0.286Zr0.286                          NaN  Hf0.286 Ta0.143 Ti0.286 Zr0.286               NaN                        687.0                          NaN  10.1002.adma.201701678\n23         622.0            NaN      Hf0.25Ta0.25Ti0.25Zr0.25                          NaN      Hf0.25 Ta0.25 Ti0.25 Zr0.25               NaN                       1356.0                          NaN  10.1002.adma.201701678\n24         631.0            NaN  Hf0.294Ta0.118Ti0.294Zr0.294                          NaN  Hf0.294 Ta0.118 Ti0.294 Zr0.294               NaN                        354.0                          NaN  10.1002.adma.201701678\n25           NaN          545.0                           NaN     Hf0.25Ta0.25Ti0.25Zr0.25                              NaN         Ta1HfZrTi                          NaN                         1500  10.1002.adma.201701678\n26           NaN          546.0                           NaN     Hf0.25Ta0.25Ti0.25Zr0.25                              NaN         Ta1HfZrTi                          NaN                         1500  10.1002.adma.201701678",
      "text/html": "<div>\n<style scoped>\n    .dataframe tbody tr th:only-of-type {\n        vertical-align: middle;\n    }\n\n    .dataframe tbody tr th {\n        vertical-align: top;\n    }\n\n    .dataframe thead th {\n        text-align: right;\n    }\n</style>\n<table border=\"1\" class=\"dataframe\">\n  <thead>\n    <tr style=\"text-align: right;\">\n      <th></th>\n      <th>original_idx</th>\n      <th>extracted_idx</th>\n      <th>normalized_formula_original</th>\n      <th>normalized_formula_extracted</th>\n      <th>FORMULA_original</th>\n      <th>FORMULA_extracted</th>\n      <th>PROPERTY: YS (MPa)_original</th>\n      <th>PROPERTY: YS (MPa)_extracted</th>\n      <th>match_group</th>\n    </tr>\n  </thead>\n  <tbody>\n    <tr>\n      <th>21</th>\n      <td>627.0</td>\n      <td>NaN</td>\n      <td>Hf0.278Ta0.167Ti0.278Zr0.278</td>\n      <td>NaN</td>\n      <td>Hf0.278 Ta0.167 Ti0.278 Zr0.278</td>\n      <td>NaN</td>\n      <td>750.0</td>\n      <td>NaN</td>\n      <td>10.1002.adma.201701678</td>\n    </tr>\n    <tr>\n      <th>22</th>\n      <td>628.0</td>\n      <td>NaN</td>\n      <td>Hf0.286Ta0.143Ti0.286Zr0.286</td>\n      <td>NaN</td>\n      <td>Hf0.286 Ta0.143 Ti0.286 Zr0.286</td>\n      <td>NaN</td>\n      <td>687.0</td>\n      <td>NaN</td>\n      <td>10.1002.adma.201701678</td>\n    </tr>\n    <tr>\n      <th>23</th>\n      <td>622.0</td>\n      <td>NaN</td>\n      <td>Hf0.25Ta0.25Ti0.25Zr0.25</td>\n      <td>NaN</td>\n      <td>Hf0.25 Ta0.25 Ti0.25 Zr0.25</td>\n      <td>NaN</td>\n      <td>1356.0</td>\n      <td>NaN</td>\n      <td>10.1002.adma.201701678</td>\n    </tr>\n    <tr>\n      <th>24</th>\n      <td>631.0</td>\n      <td>NaN</td>\n      <td>Hf0.294Ta0.118Ti0.294Zr0.294</td>\n      <td>NaN</td>\n      <td>Hf0.294 Ta0.118 Ti0.294 Zr0.294</td>\n      <td>NaN</td>\n      <td>354.0</td>\n      <td>NaN</td>\n      <td>10.1002.adma.201701678</td>\n    </tr>\n    <tr>\n      <th>25</th>\n      <td>NaN</td>\n      <td>545.0</td>\n      <td>NaN</td>\n      <td>Hf0.25Ta0.25Ti0.25Zr0.25</td>\n      <td>NaN</td>\n      <td>Ta1HfZrTi</td>\n      <td>NaN</td>\n      <td>1500</td>\n      <td>10.1002.adma.201701678</td>\n    </tr>\n    <tr>\n      <th>26</th>\n      <td>NaN</td>\n      <td>546.0</td>\n      <td>NaN</td>\n      <td>Hf0.25Ta0.25Ti0.25Zr0.25</td>\n      <td>NaN</td>\n      <td>Ta1HfZrTi</td>\n      <td>NaN</td>\n      <td>1500</td>\n      <td>10.1002.adma.201701678</td>\n    </tr>\n  </tbody>\n</table>\n</div>"
     },
     "execution_count": 180,
     "metadata": {},
     "output_type": "execute_result"
    }
   ]
  },
  {
   "cell_type": "code",
   "source": [
    "filtered_paper_df[filtered_paper_df['processed_doi'] ==doi]"
   ],
   "metadata": {
    "colab": {
     "base_uri": "https://localhost:8080/",
     "height": 542
    },
    "id": "6BST9kAxZJ7q",
    "executionInfo": {
     "status": "ok",
     "timestamp": 1707858754986,
     "user_tz": 300,
     "elapsed": 106,
     "user": {
      "displayName": "Satanu Ghosh",
      "userId": "07683061709303200546"
     }
    },
    "outputId": "c0def22d-444d-43bb-fce9-07c378c7afe2",
    "ExecuteTime": {
     "end_time": "2024-05-17T16:30:17.131917600Z",
     "start_time": "2024-05-17T16:30:16.944276800Z"
    }
   },
   "execution_count": 115,
   "outputs": [
    {
     "data": {
      "text/plain": "     IDENTIFIER: Reference ID                          FORMULA PROPERTY: Microstructure PROPERTY: Processing method PROPERTY: BCC/FCC/other  PROPERTY: grain size ($\\mu$m)  PROPERTY: Exp. Density (g/cm$^3$)  PROPERTY: Computed Density (g/cm$^3$)  PROPERTY: HV PROPERTY: Type of test  \\\n622                        88      Hf0.25 Ta0.25 Ti0.25 Zr0.25                      BCC                        CAST                     BCC                            NaN                                NaN                                   10.2           NaN                      T   \n627                        88  Hf0.278 Ta0.167 Ti0.278 Zr0.278                  BCC+HCP                        CAST                   other                            NaN                                NaN                                    9.5           NaN                      T   \n628                        88  Hf0.286 Ta0.143 Ti0.286 Zr0.286                  BCC+HCP                        CAST                   other                            NaN                                NaN                                    9.3           NaN                      T   \n631                        88  Hf0.294 Ta0.118 Ti0.294 Zr0.294                  BCC+HCP                        CAST                   other                            NaN                                NaN                                    9.1           NaN                      T   \n\n     PROPERTY: Test temperature ($^\\circ$C)  PROPERTY: YS (MPa)  PROPERTY: UTS (MPa)  PROPERTY: Elongation (%)  PROPERTY: Elongation plastic (%)  PROPERTY: Exp. Young modulus (GPa)  PROPERTY: Computed Young modulus (GPa)  PROPERTY: O content (wppm)  PROPERTY: N content (wppm)  \\\n622                                    25.0              1356.0               1452.0                       4.0                               NaN                                 NaN                                   112.0                         NaN                         NaN   \n627                                    25.0               750.0               1110.0                       NaN                               NaN                                 NaN                                   104.0                         NaN                         NaN   \n628                                    25.0               687.0               1119.0                      29.9                               NaN                                 NaN                                   101.0                         NaN                         NaN   \n631                                    25.0               354.0               1100.0                      30.6                               NaN                                 NaN                                    99.0                         NaN                         NaN   \n\n     PROPERTY: C content (wppm)          REFERENCE: doi  REFERENCE: year                                   REFERENCE: title           processed_doi            normalized_formula  \n622                         NaN  10.1002/adma.201701678           2017.0  Phase-Transformation Ductilization of Brittle ...  10.1002.adma.201701678      Hf0.25Ta0.25Ti0.25Zr0.25  \n627                         NaN  10.1002/adma.201701678           2017.0  Phase-Transformation Ductilization of Brittle ...  10.1002.adma.201701678  Hf0.278Ta0.167Ti0.278Zr0.278  \n628                         NaN  10.1002/adma.201701678           2017.0  Phase-Transformation Ductilization of Brittle ...  10.1002.adma.201701678  Hf0.286Ta0.143Ti0.286Zr0.286  \n631                         NaN  10.1002/adma.201701678           2017.0  Phase-Transformation Ductilization of Brittle ...  10.1002.adma.201701678  Hf0.294Ta0.118Ti0.294Zr0.294  ",
      "text/html": "<div>\n<style scoped>\n    .dataframe tbody tr th:only-of-type {\n        vertical-align: middle;\n    }\n\n    .dataframe tbody tr th {\n        vertical-align: top;\n    }\n\n    .dataframe thead th {\n        text-align: right;\n    }\n</style>\n<table border=\"1\" class=\"dataframe\">\n  <thead>\n    <tr style=\"text-align: right;\">\n      <th></th>\n      <th>IDENTIFIER: Reference ID</th>\n      <th>FORMULA</th>\n      <th>PROPERTY: Microstructure</th>\n      <th>PROPERTY: Processing method</th>\n      <th>PROPERTY: BCC/FCC/other</th>\n      <th>PROPERTY: grain size ($\\mu$m)</th>\n      <th>PROPERTY: Exp. Density (g/cm$^3$)</th>\n      <th>PROPERTY: Computed Density (g/cm$^3$)</th>\n      <th>PROPERTY: HV</th>\n      <th>PROPERTY: Type of test</th>\n      <th>PROPERTY: Test temperature ($^\\circ$C)</th>\n      <th>PROPERTY: YS (MPa)</th>\n      <th>PROPERTY: UTS (MPa)</th>\n      <th>PROPERTY: Elongation (%)</th>\n      <th>PROPERTY: Elongation plastic (%)</th>\n      <th>PROPERTY: Exp. Young modulus (GPa)</th>\n      <th>PROPERTY: Computed Young modulus (GPa)</th>\n      <th>PROPERTY: O content (wppm)</th>\n      <th>PROPERTY: N content (wppm)</th>\n      <th>PROPERTY: C content (wppm)</th>\n      <th>REFERENCE: doi</th>\n      <th>REFERENCE: year</th>\n      <th>REFERENCE: title</th>\n      <th>processed_doi</th>\n      <th>normalized_formula</th>\n    </tr>\n  </thead>\n  <tbody>\n    <tr>\n      <th>622</th>\n      <td>88</td>\n      <td>Hf0.25 Ta0.25 Ti0.25 Zr0.25</td>\n      <td>BCC</td>\n      <td>CAST</td>\n      <td>BCC</td>\n      <td>NaN</td>\n      <td>NaN</td>\n      <td>10.2</td>\n      <td>NaN</td>\n      <td>T</td>\n      <td>25.0</td>\n      <td>1356.0</td>\n      <td>1452.0</td>\n      <td>4.0</td>\n      <td>NaN</td>\n      <td>NaN</td>\n      <td>112.0</td>\n      <td>NaN</td>\n      <td>NaN</td>\n      <td>NaN</td>\n      <td>10.1002/adma.201701678</td>\n      <td>2017.0</td>\n      <td>Phase-Transformation Ductilization of Brittle ...</td>\n      <td>10.1002.adma.201701678</td>\n      <td>Hf0.25Ta0.25Ti0.25Zr0.25</td>\n    </tr>\n    <tr>\n      <th>627</th>\n      <td>88</td>\n      <td>Hf0.278 Ta0.167 Ti0.278 Zr0.278</td>\n      <td>BCC+HCP</td>\n      <td>CAST</td>\n      <td>other</td>\n      <td>NaN</td>\n      <td>NaN</td>\n      <td>9.5</td>\n      <td>NaN</td>\n      <td>T</td>\n      <td>25.0</td>\n      <td>750.0</td>\n      <td>1110.0</td>\n      <td>NaN</td>\n      <td>NaN</td>\n      <td>NaN</td>\n      <td>104.0</td>\n      <td>NaN</td>\n      <td>NaN</td>\n      <td>NaN</td>\n      <td>10.1002/adma.201701678</td>\n      <td>2017.0</td>\n      <td>Phase-Transformation Ductilization of Brittle ...</td>\n      <td>10.1002.adma.201701678</td>\n      <td>Hf0.278Ta0.167Ti0.278Zr0.278</td>\n    </tr>\n    <tr>\n      <th>628</th>\n      <td>88</td>\n      <td>Hf0.286 Ta0.143 Ti0.286 Zr0.286</td>\n      <td>BCC+HCP</td>\n      <td>CAST</td>\n      <td>other</td>\n      <td>NaN</td>\n      <td>NaN</td>\n      <td>9.3</td>\n      <td>NaN</td>\n      <td>T</td>\n      <td>25.0</td>\n      <td>687.0</td>\n      <td>1119.0</td>\n      <td>29.9</td>\n      <td>NaN</td>\n      <td>NaN</td>\n      <td>101.0</td>\n      <td>NaN</td>\n      <td>NaN</td>\n      <td>NaN</td>\n      <td>10.1002/adma.201701678</td>\n      <td>2017.0</td>\n      <td>Phase-Transformation Ductilization of Brittle ...</td>\n      <td>10.1002.adma.201701678</td>\n      <td>Hf0.286Ta0.143Ti0.286Zr0.286</td>\n    </tr>\n    <tr>\n      <th>631</th>\n      <td>88</td>\n      <td>Hf0.294 Ta0.118 Ti0.294 Zr0.294</td>\n      <td>BCC+HCP</td>\n      <td>CAST</td>\n      <td>other</td>\n      <td>NaN</td>\n      <td>NaN</td>\n      <td>9.1</td>\n      <td>NaN</td>\n      <td>T</td>\n      <td>25.0</td>\n      <td>354.0</td>\n      <td>1100.0</td>\n      <td>30.6</td>\n      <td>NaN</td>\n      <td>NaN</td>\n      <td>99.0</td>\n      <td>NaN</td>\n      <td>NaN</td>\n      <td>NaN</td>\n      <td>10.1002/adma.201701678</td>\n      <td>2017.0</td>\n      <td>Phase-Transformation Ductilization of Brittle ...</td>\n      <td>10.1002.adma.201701678</td>\n      <td>Hf0.294Ta0.118Ti0.294Zr0.294</td>\n    </tr>\n  </tbody>\n</table>\n</div>"
     },
     "execution_count": 115,
     "metadata": {},
     "output_type": "execute_result"
    }
   ]
  },
  {
   "cell_type": "code",
   "execution_count": null,
   "outputs": [],
   "source": [],
   "metadata": {
    "collapsed": false
   }
  }
 ]
}
